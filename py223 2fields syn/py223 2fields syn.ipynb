{
 "cells": [
  {
   "cell_type": "code",
   "execution_count": 1,
   "metadata": {
    "ExecuteTime": {
     "end_time": "2020-12-23T06:46:41.253124Z",
     "start_time": "2020-12-23T06:46:40.886123Z"
    }
   },
   "outputs": [],
   "source": [
    "import pandas as pd\n",
    "import json\n",
    "import re\n",
    "from time import time, sleep\n",
    "import pymysql\n",
    "from datetime import datetime\n",
    "from pymysql import ProgrammingError"
   ]
  },
  {
   "cell_type": "code",
   "execution_count": 2,
   "metadata": {
    "ExecuteTime": {
     "end_time": "2020-12-23T06:46:42.212163Z",
     "start_time": "2020-12-23T06:46:42.206154Z"
    }
   },
   "outputs": [],
   "source": [
    "import numpy as np\n",
    "import os\n",
    "import sys"
   ]
  },
  {
   "cell_type": "code",
   "execution_count": 3,
   "metadata": {
    "ExecuteTime": {
     "end_time": "2020-12-23T06:46:42.681153Z",
     "start_time": "2020-12-23T06:46:42.616154Z"
    }
   },
   "outputs": [],
   "source": [
    "from tqdm.notebook import tqdm, trange, tnrange\n",
    "from vVariableInspector import _getshapeof\n",
    "from vUtil.vFile import fprint, readlines, linesReader\n",
    "from vUtil.vEmail import sendEmail\n",
    "from vUtil.vTime import getNow, convertSeconds\n",
    "from vUtil.vUe import rmUe"
   ]
  },
  {
   "cell_type": "code",
   "execution_count": 4,
   "metadata": {
    "ExecuteTime": {
     "end_time": "2020-12-23T06:46:42.763163Z",
     "start_time": "2020-12-23T06:46:42.758156Z"
    }
   },
   "outputs": [],
   "source": [
    "import pymysql\n",
    "from vMysql import addCursor, select, sql, count"
   ]
  },
  {
   "cell_type": "code",
   "execution_count": 5,
   "metadata": {
    "ExecuteTime": {
     "end_time": "2020-12-23T06:46:43.119180Z",
     "start_time": "2020-12-23T06:46:42.928164Z"
    }
   },
   "outputs": [],
   "source": [
    "from vToEnglish.detect import hasChinese, countChinese\n",
    "from vToEnglish.translate import translate\n",
    "from vToEnglish.toEnglish import wait, toEnglish"
   ]
  },
  {
   "cell_type": "code",
   "execution_count": 6,
   "metadata": {
    "ExecuteTime": {
     "end_time": "2020-12-23T06:46:43.301151Z",
     "start_time": "2020-12-23T06:46:43.192151Z"
    }
   },
   "outputs": [],
   "source": [
    "from simpleAndTranditional import trd2smp\n",
    "from keywords.selected import kwSelected as words"
   ]
  },
  {
   "cell_type": "code",
   "execution_count": 7,
   "metadata": {
    "ExecuteTime": {
     "end_time": "2020-12-23T06:46:43.795154Z",
     "start_time": "2020-12-23T06:46:43.733151Z"
    }
   },
   "outputs": [],
   "source": [
    "from youdaoSynonym import YoudaoSynonym"
   ]
  },
  {
   "cell_type": "code",
   "execution_count": 8,
   "metadata": {
    "ExecuteTime": {
     "end_time": "2020-12-23T06:46:44.217151Z",
     "start_time": "2020-12-23T06:46:44.212151Z"
    }
   },
   "outputs": [],
   "source": [
    "def ourError (error, errorType = 'invalid keyword'):\n",
    "    fprint(f'[ERROR] ({getNow()}) {repr(word)} : {errorType}: \"{error}\"\\n', file='error.txt', path='logKeySelected')"
   ]
  },
  {
   "cell_type": "code",
   "execution_count": 9,
   "metadata": {
    "ExecuteTime": {
     "end_time": "2020-12-23T06:46:44.660153Z",
     "start_time": "2020-12-23T06:46:44.650150Z"
    }
   },
   "outputs": [],
   "source": [
    "def ourLog (log, logType = ''):\n",
    "    fprint(f'[LOG] ({getNow()}) {repr(word)} : {logType} : \"{log}\"\\n', file='log.txt', path='logKeySelected')"
   ]
  },
  {
   "cell_type": "code",
   "execution_count": 10,
   "metadata": {
    "ExecuteTime": {
     "end_time": "2020-12-23T06:46:51.527552Z",
     "start_time": "2020-12-23T06:46:45.078152Z"
    }
   },
   "outputs": [],
   "source": [
    "yd = YoudaoSynonym()"
   ]
  },
  {
   "cell_type": "code",
   "execution_count": 11,
   "metadata": {
    "ExecuteTime": {
     "end_time": "2020-12-23T06:46:56.476648Z",
     "start_time": "2020-12-23T06:46:56.461609Z"
    }
   },
   "outputs": [],
   "source": [
    "db = pymysql.connect(\"10.60.1.78\", \"root\", \"linlei\",port=3306,charset='utf8',db='keywords')\n",
    "cursor = db.cursor()\n",
    "addCursor(cursor)"
   ]
  },
  {
   "cell_type": "code",
   "execution_count": 12,
   "metadata": {
    "ExecuteTime": {
     "end_time": "2020-12-16T06:17:03.385679Z",
     "start_time": "2020-12-16T06:17:03.376677Z"
    }
   },
   "outputs": [],
   "source": [
    "# sql('flush tables;')"
   ]
  },
  {
   "cell_type": "code",
   "execution_count": 32,
   "metadata": {
    "ExecuteTime": {
     "end_time": "2020-12-15T05:37:56.965245Z",
     "start_time": "2020-12-15T05:37:43.736137Z"
    }
   },
   "outputs": [],
   "source": [
    "yd.close()\n",
    "yd.start()"
   ]
  },
  {
   "cell_type": "code",
   "execution_count": 12,
   "metadata": {
    "ExecuteTime": {
     "end_time": "2020-12-23T06:47:00.746613Z",
     "start_time": "2020-12-23T06:46:58.496610Z"
    }
   },
   "outputs": [
    {
     "data": {
      "text/plain": [
       "{'kagome 啨 lattice'}"
      ]
     },
     "execution_count": 12,
     "metadata": {},
     "output_type": "execute_result"
    }
   ],
   "source": [
    "yd.getSynonyms('kagomé啨晶格')"
   ]
  },
  {
   "cell_type": "code",
   "execution_count": 13,
   "metadata": {
    "ExecuteTime": {
     "end_time": "2020-12-23T06:47:14.042186Z",
     "start_time": "2020-12-23T06:47:01.453608Z"
    }
   },
   "outputs": [
    {
     "data": {
      "text/plain": [
       "{'横向搜索'}"
      ]
     },
     "execution_count": 13,
     "metadata": {},
     "output_type": "execute_result"
    }
   ],
   "source": [
    "yd.getSynonyms('横断検索')"
   ]
  },
  {
   "cell_type": "code",
   "execution_count": 14,
   "metadata": {
    "ExecuteTime": {
     "end_time": "2020-12-23T06:47:16.557227Z",
     "start_time": "2020-12-23T06:47:14.415189Z"
    }
   },
   "outputs": [
    {
     "data": {
      "text/plain": [
       "{'cl data', 'cutter data', 'cutter location data'}"
      ]
     },
     "execution_count": 14,
     "metadata": {},
     "output_type": "execute_result"
    }
   ],
   "source": [
    "yd.getSynonyms('刀位数据')"
   ]
  },
  {
   "cell_type": "code",
   "execution_count": 15,
   "metadata": {
    "ExecuteTime": {
     "end_time": "2020-12-23T06:47:19.632253Z",
     "start_time": "2020-12-23T06:47:16.933257Z"
    }
   },
   "outputs": [
    {
     "data": {
      "text/plain": [
       "{'2 - bisphosphonate methyl nitrate - 5 - nitro tetrazolium 4 - amino - 1 2 4 - triazole salt',\n",
       " '2 amido methyl 5 nitroteazole 4 amino 1 2 4 triazole salt',\n",
       " '2 bisphosphonate methyl nitrate 5 nitro tetrazolium 4 amino 1 2 4 triazole salt',\n",
       " '2-amido-methyl-5-nitroteazole 4-amino-1 2 4-triazole salt'}"
      ]
     },
     "execution_count": 15,
     "metadata": {},
     "output_type": "execute_result"
    }
   ],
   "source": [
    "yd.getSynonyms('2-偕二硝甲基-5-硝基四唑4-氨基-1 2 4-三唑盐')"
   ]
  },
  {
   "cell_type": "code",
   "execution_count": 17,
   "metadata": {
    "ExecuteTime": {
     "end_time": "2020-12-23T08:27:05.350179Z",
     "start_time": "2020-12-23T08:26:59.802882Z"
    }
   },
   "outputs": [
    {
     "data": {
      "text/plain": [
       "{'gas insulated metal enclosed transmission lines',\n",
       " 'gas insulated metal-enclosed transmission lines'}"
      ]
     },
     "execution_count": 17,
     "metadata": {},
     "output_type": "execute_result"
    }
   ],
   "source": [
    "yd.getSynonyms('气体绝缘金属封闭输电线路', 'ch2en')"
   ]
  },
  {
   "cell_type": "code",
   "execution_count": 18,
   "metadata": {
    "ExecuteTime": {
     "end_time": "2020-12-23T08:27:08.333330Z",
     "start_time": "2020-12-23T08:27:05.768179Z"
    }
   },
   "outputs": [
    {
     "data": {
      "text/plain": [
       "{'pid', '新闻处', '比例 积分 微分', '比例-积分-微分', '管路及仪表布置图'}"
      ]
     },
     "execution_count": 18,
     "metadata": {},
     "output_type": "execute_result"
    }
   ],
   "source": [
    "yd.getSynonyms('PID')"
   ]
  },
  {
   "cell_type": "code",
   "execution_count": null,
   "metadata": {
    "ExecuteTime": {
     "end_time": "2020-11-26T09:34:00.102061Z",
     "start_time": "2020-11-26T09:34:00.086058Z"
    }
   },
   "outputs": [],
   "source": []
  },
  {
   "cell_type": "code",
   "execution_count": 19,
   "metadata": {
    "ExecuteTime": {
     "end_time": "2020-12-23T10:21:25.183831Z",
     "start_time": "2020-12-23T10:21:25.170828Z"
    }
   },
   "outputs": [],
   "source": [
    "sInsert = '''\n",
    "insert into `keywords`.`synonym` (`idChinese`, `idEnglish`)\n",
    "values %s;\n",
    "'''"
   ]
  },
  {
   "cell_type": "code",
   "execution_count": 20,
   "metadata": {
    "ExecuteTime": {
     "end_time": "2020-12-23T10:21:25.978829Z",
     "start_time": "2020-12-23T10:21:25.969838Z"
    },
    "code_folding": [
     0
    ]
   },
   "outputs": [],
   "source": [
    "def insertWord (word):\n",
    "    sql(f'''\n",
    "        insert into `keywords`.`keywords` (`id`, `keywords`)\n",
    "        values\n",
    "        (hand_with_beihang.gen_ticket64(0),\n",
    "        {repr(word)});\n",
    "        ''')\n",
    "    db.commit()"
   ]
  },
  {
   "cell_type": "code",
   "execution_count": 21,
   "metadata": {
    "ExecuteTime": {
     "end_time": "2020-12-23T10:21:26.435829Z",
     "start_time": "2020-12-23T10:21:26.427828Z"
    },
    "code_folding": []
   },
   "outputs": [],
   "source": [
    "def hasWord (word) -> bool:\n",
    "#     sql('flush tables;')\n",
    "    rst = sql(f'''\n",
    "        select idEnglish from\n",
    "        (\n",
    "            select id from keywords where keywords = {repr(word)}\n",
    "        ) as a\n",
    "        join synonym on a.id = synonym.idChinese;\n",
    "    ''')\n",
    "    return len(rst) != 0"
   ]
  },
  {
   "cell_type": "code",
   "execution_count": 22,
   "metadata": {
    "ExecuteTime": {
     "end_time": "2020-12-23T10:21:26.857830Z",
     "start_time": "2020-12-23T10:21:26.848831Z"
    },
    "code_folding": []
   },
   "outputs": [],
   "source": [
    "def getWordId (word) -> int:\n",
    "#     sql('flush tables;')\n",
    "    rst = select('id','`keywords`.`keywords`',where=f'`keywords`={repr(word)}')\n",
    "    if not len(rst):\n",
    "        insertWord(word)\n",
    "#         sql('flush tables;')\n",
    "        rst = select('id','`keywords`.`keywords`',where=f'`keywords`={repr(word)}')\n",
    "    return rst.values.item()"
   ]
  },
  {
   "cell_type": "code",
   "execution_count": null,
   "metadata": {},
   "outputs": [],
   "source": []
  },
  {
   "cell_type": "code",
   "execution_count": 23,
   "metadata": {
    "ExecuteTime": {
     "end_time": "2020-12-23T10:21:28.346839Z",
     "start_time": "2020-12-23T10:21:28.307841Z"
    }
   },
   "outputs": [],
   "source": [
    "lastTrans = 0\n",
    "transGap = 15 ###两次调用有道翻译的间隔\n",
    "iRetry = 0\n",
    "def getSyns (word, mode = ''):\n",
    "    global lastTrans\n",
    "    global iRetry\n",
    "    \n",
    "    wid = getWordId(word)\n",
    "    if not hasChinese(word): return\n",
    "    while time() < lastTrans + transGap: sleep(0.25)\n",
    "    \n",
    "    while 1:\n",
    "#         iRetry = 0\n",
    "        try: syns = yd.getSynonyms(word, mode)\n",
    "        except KeyboardInterrupt as e: raise e\n",
    "        except:\n",
    "            if not iRetry: print()\n",
    "            wait(60, f'({word})network error, waiting')\n",
    "            iRetry += 1\n",
    "            print(f'network error, retrying{iRetry}   ', end='\\r')\n",
    "            yd.close()\n",
    "            yd.start()\n",
    "        else: break\n",
    "    lastTrans = time()\n",
    "    for syn in syns:\n",
    "        if hasChinese(syn):\n",
    "            ourError(syns, f'{repr(word)} syn with chinese')\n",
    "        if '.' in syn:\n",
    "            ourError(syns, f'{repr(word)} syn with .')\n",
    "        if '（' in syn or '）' in syn:\n",
    "            ourError(syns, f'{repr(word)} syn with （ or ）')\n",
    "    if len(syns) == 0: return []\n",
    "    if len(syns) == 1: ###繁体先转简体，然后再走一遍同义词\n",
    "        syn = [*syns][0]\n",
    "        if syn == word:\n",
    "            ourError(syns, f'{repr(word)} same as syns')\n",
    "            if mode == 'ch2en': return []\n",
    "            else: return getSyns(word, 'ch2en')\n",
    "        if hasChinese(syn):\n",
    "            rst = getSyns(syn)\n",
    "            if not hasWord(syn) and syn.count(' ') < 5:\n",
    "                return rst + [(wid, y) for x, y in rst]\n",
    "            else:\n",
    "                return [(wid, y) for x, y in rst]\n",
    "    return [(wid, getWordId(syn)) for syn in syns]"
   ]
  },
  {
   "cell_type": "code",
   "execution_count": 24,
   "metadata": {
    "ExecuteTime": {
     "end_time": "2020-12-23T10:21:29.267843Z",
     "start_time": "2020-12-23T10:21:29.258843Z"
    }
   },
   "outputs": [],
   "source": [
    "def insertSyns (ids):\n",
    "    sIns = sInsert % ','.join([str(x) for x in ids])\n",
    "    sql(sIns)\n",
    "    db.commit()"
   ]
  },
  {
   "cell_type": "code",
   "execution_count": 25,
   "metadata": {
    "ExecuteTime": {
     "end_time": "2020-12-23T10:21:29.715844Z",
     "start_time": "2020-12-23T10:21:29.708846Z"
    },
    "code_folding": []
   },
   "outputs": [],
   "source": [
    "def frmt (s):\n",
    "    global iRetry\n",
    "    if iRetry: print()\n",
    "    print (f'({getNow()})', s, ' ' * 20, end='\\r')\n",
    "    iRetry = 0"
   ]
  },
  {
   "cell_type": "code",
   "execution_count": 26,
   "metadata": {
    "ExecuteTime": {
     "end_time": "2020-12-23T10:21:30.598853Z",
     "start_time": "2020-12-23T10:21:30.593841Z"
    }
   },
   "outputs": [],
   "source": [
    "blacklist = {'na觙vecd4', '18 氟代脱氧葡萄糖正电子发射型断层扫描/计算机断层扫描', '白疕病', \n",
    "            '性学觕述',  }\n",
    "def banWord (s : str) -> bool:\n",
    "    return s in blacklist"
   ]
  },
  {
   "cell_type": "code",
   "execution_count": 27,
   "metadata": {
    "ExecuteTime": {
     "end_time": "2020-12-23T10:21:31.466857Z",
     "start_time": "2020-12-23T10:21:31.459856Z"
    }
   },
   "outputs": [],
   "source": [
    "def cleanKeywords (s):\n",
    "    s = rmUe(s)\n",
    "    s = re.sub(r'。，、', ' ', s)\n",
    "    s = re.sub(r'\\s+', ' ', s)\n",
    "    return s.strip()"
   ]
  },
  {
   "cell_type": "code",
   "execution_count": 28,
   "metadata": {
    "ExecuteTime": {
     "end_time": "2020-12-23T10:21:31.930857Z",
     "start_time": "2020-12-23T10:21:31.919857Z"
    }
   },
   "outputs": [],
   "source": [
    "def solve (word):\n",
    "    word = cleanKeywords(word)\n",
    "    if hasWord(word): return\n",
    "    if banWord(word): return\n",
    "    \n",
    "    frmt('get and insert syns')\n",
    "    start = time()\n",
    "\n",
    "    frmt(f'get and insert syns : {repr(word)}')\n",
    "        \n",
    "    ids = getSyns(word)\n",
    "    if len(ids) == 0: return\n",
    "    insertSyns(ids)\n",
    "    ourLog(f'{time() - start:.3f}s', 'syn time')"
   ]
  },
  {
   "cell_type": "code",
   "execution_count": 29,
   "metadata": {
    "ExecuteTime": {
     "end_time": "2020-12-24T01:03:16.246597Z",
     "start_time": "2020-12-23T10:21:32.578857Z"
    },
    "scrolled": false
   },
   "outputs": [
    {
     "data": {
      "application/vnd.jupyter.widget-view+json": {
       "model_id": "f69ce480680846c992713f0c1fe54296",
       "version_major": 2,
       "version_minor": 0
      },
      "text/plain": [
       "HBox(children=(FloatProgress(value=0.0, max=187172.0), HTML(value='')))"
      ]
     },
     "metadata": {},
     "output_type": "display_data"
    },
    {
     "name": "stdout",
     "output_type": "stream",
     "text": [
      "(2020-12-24 09:01:52) get and insert syns : '能级密度对能修正参数'                                         \n"
     ]
    }
   ],
   "source": [
    "start = time()\n",
    "for word in tqdm(words):\n",
    "    if len(word) & 1: continue\n",
    "    solve (word)\n",
    "sendEmail(f'cost time {convertSeconds(time() - start)}', 'get selected syn accomplished(not server)')"
   ]
  },
  {
   "cell_type": "code",
   "execution_count": null,
   "metadata": {},
   "outputs": [],
   "source": []
  },
  {
   "cell_type": "code",
   "execution_count": null,
   "metadata": {},
   "outputs": [],
   "source": []
  },
  {
   "cell_type": "code",
   "execution_count": null,
   "metadata": {},
   "outputs": [],
   "source": []
  },
  {
   "cell_type": "code",
   "execution_count": null,
   "metadata": {},
   "outputs": [],
   "source": []
  },
  {
   "cell_type": "code",
   "execution_count": null,
   "metadata": {},
   "outputs": [],
   "source": []
  },
  {
   "cell_type": "code",
   "execution_count": null,
   "metadata": {},
   "outputs": [],
   "source": []
  },
  {
   "cell_type": "code",
   "execution_count": null,
   "metadata": {},
   "outputs": [],
   "source": []
  },
  {
   "cell_type": "code",
   "execution_count": null,
   "metadata": {},
   "outputs": [],
   "source": []
  },
  {
   "cell_type": "code",
   "execution_count": 29,
   "metadata": {
    "ExecuteTime": {
     "end_time": "2020-12-23T06:06:13.378669Z",
     "start_time": "2020-12-23T06:06:13.361667Z"
    }
   },
   "outputs": [],
   "source": [
    "db.close()"
   ]
  },
  {
   "cell_type": "code",
   "execution_count": 30,
   "metadata": {
    "ExecuteTime": {
     "end_time": "2020-12-23T06:06:15.857693Z",
     "start_time": "2020-12-23T06:06:13.800670Z"
    }
   },
   "outputs": [],
   "source": [
    "yd.close()"
   ]
  },
  {
   "cell_type": "code",
   "execution_count": null,
   "metadata": {},
   "outputs": [],
   "source": []
  }
 ],
 "metadata": {
  "kernelspec": {
   "display_name": "Python 3",
   "language": "python",
   "name": "python3"
  },
  "language_info": {
   "codemirror_mode": {
    "name": "ipython",
    "version": 3
   },
   "file_extension": ".py",
   "mimetype": "text/x-python",
   "name": "python",
   "nbconvert_exporter": "python",
   "pygments_lexer": "ipython3",
   "version": "3.8.3"
  },
  "varInspector": {
   "cols": {
    "lenName": 16,
    "lenType": 16,
    "lenVar": 40
   },
   "kernels_config": {
    "python": {
     "delete_cmd_postfix": "",
     "delete_cmd_prefix": "del ",
     "library": "var_list.py",
     "varRefreshCmd": "print(var_dic_list())"
    },
    "r": {
     "delete_cmd_postfix": ") ",
     "delete_cmd_prefix": "rm(",
     "library": "var_list.r",
     "varRefreshCmd": "cat(var_dic_list()) "
    }
   },
   "position": {
    "height": "836.198px",
    "left": "-23.625px",
    "right": "20px",
    "top": "136.983px",
    "width": "474.757px"
   },
   "types_to_exclude": [
    "module",
    "function",
    "builtin_function_or_method",
    "instance",
    "_Feature"
   ],
   "window_display": true
  }
 },
 "nbformat": 4,
 "nbformat_minor": 4
}
