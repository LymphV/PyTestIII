{
 "cells": [
  {
   "cell_type": "code",
   "execution_count": 1,
   "metadata": {
    "ExecuteTime": {
     "end_time": "2020-12-16T06:07:27.544233Z",
     "start_time": "2020-12-16T06:07:23.723235Z"
    }
   },
   "outputs": [],
   "source": [
    "import pandas as pd\n",
    "import json\n",
    "import re\n",
    "from time import time, sleep\n",
    "import pymysql\n",
    "from datetime import datetime\n",
    "from pymysql import ProgrammingError"
   ]
  },
  {
   "cell_type": "code",
   "execution_count": 2,
   "metadata": {
    "ExecuteTime": {
     "end_time": "2020-12-16T06:15:41.095705Z",
     "start_time": "2020-12-16T06:15:41.084678Z"
    }
   },
   "outputs": [],
   "source": [
    "import numpy as np\n",
    "import os\n",
    "import sys"
   ]
  },
  {
   "cell_type": "code",
   "execution_count": 3,
   "metadata": {
    "ExecuteTime": {
     "end_time": "2020-12-16T06:15:42.192676Z",
     "start_time": "2020-12-16T06:15:41.526677Z"
    }
   },
   "outputs": [],
   "source": [
    "from tqdm.notebook import tqdm, trange, tnrange\n",
    "from vVariableInspector import _getshapeof\n",
    "from vUtil.vFile import fprint, readlines, linesReader\n",
    "from vUtil.vEmail import sendEmail\n",
    "from vUtil.vTime import getNow, convertSeconds\n",
    "from vUtil.vUe import rmUe"
   ]
  },
  {
   "cell_type": "code",
   "execution_count": 4,
   "metadata": {
    "ExecuteTime": {
     "end_time": "2020-12-16T06:15:42.375678Z",
     "start_time": "2020-12-16T06:15:42.348675Z"
    }
   },
   "outputs": [],
   "source": [
    "import pymysql\n",
    "from vMysql import addCursor, select, sql, count"
   ]
  },
  {
   "cell_type": "code",
   "execution_count": 5,
   "metadata": {
    "ExecuteTime": {
     "end_time": "2020-12-16T06:15:43.914675Z",
     "start_time": "2020-12-16T06:15:42.549677Z"
    }
   },
   "outputs": [],
   "source": [
    "from vToEnglish.detect import hasChinese, countChinese\n",
    "from vToEnglish.translate import translate\n",
    "from vToEnglish.toEnglish import wait, toEnglish"
   ]
  },
  {
   "cell_type": "code",
   "execution_count": 6,
   "metadata": {
    "ExecuteTime": {
     "end_time": "2020-12-16T06:15:44.386677Z",
     "start_time": "2020-12-16T06:15:44.080676Z"
    }
   },
   "outputs": [],
   "source": [
    "from simpleAndTranditional import trd2smp\n",
    "from keywords.selected import kwSelected as words"
   ]
  },
  {
   "cell_type": "code",
   "execution_count": 7,
   "metadata": {
    "ExecuteTime": {
     "end_time": "2020-12-16T06:15:46.009675Z",
     "start_time": "2020-12-16T06:15:45.471677Z"
    }
   },
   "outputs": [],
   "source": [
    "from youdaoSynonym import YoudaoSynonym"
   ]
  },
  {
   "cell_type": "code",
   "execution_count": 19,
   "metadata": {
    "ExecuteTime": {
     "end_time": "2020-12-16T06:18:12.620762Z",
     "start_time": "2020-12-16T06:18:12.608759Z"
    }
   },
   "outputs": [],
   "source": [
    "def ourError (error, errorType = 'invalid keyword'):\n",
    "    fprint(f'[ERROR] ({getNow()}) {repr(word)} : {errorType}: \"{error}\"\\n', file='error.txt', path='logKeySelected')"
   ]
  },
  {
   "cell_type": "code",
   "execution_count": 20,
   "metadata": {
    "ExecuteTime": {
     "end_time": "2020-12-16T06:18:13.728762Z",
     "start_time": "2020-12-16T06:18:13.719763Z"
    }
   },
   "outputs": [],
   "source": [
    "def ourLog (log, logType = ''):\n",
    "    fprint(f'[LOG] ({getNow()}) {repr(word)} : {logType} : \"{log}\"\\n', file='log.txt', path='logKeySelected')"
   ]
  },
  {
   "cell_type": "code",
   "execution_count": 10,
   "metadata": {
    "ExecuteTime": {
     "end_time": "2020-12-16T06:15:57.733675Z",
     "start_time": "2020-12-16T06:15:49.093674Z"
    }
   },
   "outputs": [],
   "source": [
    "yd = YoudaoSynonym()"
   ]
  },
  {
   "cell_type": "code",
   "execution_count": 11,
   "metadata": {
    "ExecuteTime": {
     "end_time": "2020-12-16T06:17:01.751676Z",
     "start_time": "2020-12-16T06:17:01.725676Z"
    }
   },
   "outputs": [],
   "source": [
    "db = pymysql.connect(\"10.60.1.78\", \"root\", \"linlei\",port=3306,charset='utf8',db='keywords')\n",
    "cursor = db.cursor()\n",
    "addCursor(cursor)"
   ]
  },
  {
   "cell_type": "code",
   "execution_count": 12,
   "metadata": {
    "ExecuteTime": {
     "end_time": "2020-12-16T06:17:03.385679Z",
     "start_time": "2020-12-16T06:17:03.376677Z"
    }
   },
   "outputs": [],
   "source": [
    "# sql('flush tables;')"
   ]
  },
  {
   "cell_type": "code",
   "execution_count": 32,
   "metadata": {
    "ExecuteTime": {
     "end_time": "2020-12-15T05:37:56.965245Z",
     "start_time": "2020-12-15T05:37:43.736137Z"
    }
   },
   "outputs": [],
   "source": [
    "yd.close()\n",
    "yd.start()"
   ]
  },
  {
   "cell_type": "code",
   "execution_count": 13,
   "metadata": {
    "ExecuteTime": {
     "end_time": "2020-12-16T06:17:07.586690Z",
     "start_time": "2020-12-16T06:17:04.667679Z"
    }
   },
   "outputs": [
    {
     "data": {
      "text/plain": [
       "{'kagome 啨 lattice'}"
      ]
     },
     "execution_count": 13,
     "metadata": {},
     "output_type": "execute_result"
    }
   ],
   "source": [
    "yd.getSynonyms('kagomé啨晶格')"
   ]
  },
  {
   "cell_type": "code",
   "execution_count": 14,
   "metadata": {
    "ExecuteTime": {
     "end_time": "2020-12-16T06:17:20.660677Z",
     "start_time": "2020-12-16T06:17:08.777677Z"
    }
   },
   "outputs": [
    {
     "data": {
      "text/plain": [
       "{'横向搜索'}"
      ]
     },
     "execution_count": 14,
     "metadata": {},
     "output_type": "execute_result"
    }
   ],
   "source": [
    "yd.getSynonyms('横断検索')"
   ]
  },
  {
   "cell_type": "code",
   "execution_count": 15,
   "metadata": {
    "ExecuteTime": {
     "end_time": "2020-12-16T06:17:23.845690Z",
     "start_time": "2020-12-16T06:17:21.652677Z"
    }
   },
   "outputs": [
    {
     "data": {
      "text/plain": [
       "{'cl data', 'cutter data', 'cutter location data'}"
      ]
     },
     "execution_count": 15,
     "metadata": {},
     "output_type": "execute_result"
    }
   ],
   "source": [
    "yd.getSynonyms('刀位数据')"
   ]
  },
  {
   "cell_type": "code",
   "execution_count": 16,
   "metadata": {
    "ExecuteTime": {
     "end_time": "2020-12-16T06:17:27.541677Z",
     "start_time": "2020-12-16T06:17:24.831675Z"
    }
   },
   "outputs": [
    {
     "data": {
      "text/plain": [
       "{'2 - bisphosphonate methyl nitrate - 5 - nitro tetrazolium 4 - amino - 1 2 4 - triazole salt',\n",
       " '2 amido methyl 5 nitroteazole 4 amino 1 2 4 triazole salt',\n",
       " '2 bisphosphonate methyl nitrate 5 nitro tetrazolium 4 amino 1 2 4 triazole salt',\n",
       " '2-amido-methyl-5-nitroteazole 4-amino-1 2 4-triazole salt'}"
      ]
     },
     "execution_count": 16,
     "metadata": {},
     "output_type": "execute_result"
    }
   ],
   "source": [
    "yd.getSynonyms('2-偕二硝甲基-5-硝基四唑4-氨基-1 2 4-三唑盐')"
   ]
  },
  {
   "cell_type": "code",
   "execution_count": 18,
   "metadata": {
    "ExecuteTime": {
     "end_time": "2020-12-16T06:17:59.884760Z",
     "start_time": "2020-12-16T06:17:56.531759Z"
    }
   },
   "outputs": [
    {
     "data": {
      "text/plain": [
       "{'gas insulated metal enclosed transmission lines',\n",
       " 'gas insulated metal-enclosed transmission lines'}"
      ]
     },
     "execution_count": 18,
     "metadata": {},
     "output_type": "execute_result"
    }
   ],
   "source": [
    "yd.getSynonyms('气体绝缘金属封闭输电线路', 'ch2en')"
   ]
  },
  {
   "cell_type": "code",
   "execution_count": 21,
   "metadata": {
    "ExecuteTime": {
     "end_time": "2020-12-16T06:18:41.875799Z",
     "start_time": "2020-12-16T06:18:39.200795Z"
    }
   },
   "outputs": [
    {
     "data": {
      "text/plain": [
       "{'pid', '新闻处', '比例 积分 微分', '比例-积分-微分', '管路及仪表布置图'}"
      ]
     },
     "execution_count": 21,
     "metadata": {},
     "output_type": "execute_result"
    }
   ],
   "source": [
    "yd.getSynonyms('PID')"
   ]
  },
  {
   "cell_type": "code",
   "execution_count": null,
   "metadata": {
    "ExecuteTime": {
     "end_time": "2020-11-26T09:34:00.102061Z",
     "start_time": "2020-11-26T09:34:00.086058Z"
    }
   },
   "outputs": [],
   "source": []
  },
  {
   "cell_type": "code",
   "execution_count": 22,
   "metadata": {
    "ExecuteTime": {
     "end_time": "2020-12-16T06:18:47.168796Z",
     "start_time": "2020-12-16T06:18:47.158798Z"
    }
   },
   "outputs": [],
   "source": [
    "sInsert = '''\n",
    "insert into `keywords`.`synonym` (`idChinese`, `idEnglish`)\n",
    "values %s;\n",
    "'''"
   ]
  },
  {
   "cell_type": "code",
   "execution_count": 23,
   "metadata": {
    "ExecuteTime": {
     "end_time": "2020-12-16T06:18:48.318793Z",
     "start_time": "2020-12-16T06:18:48.309795Z"
    },
    "code_folding": [
     0
    ]
   },
   "outputs": [],
   "source": [
    "def insertWord (word):\n",
    "    sql(f'''\n",
    "        insert into `keywords`.`keywords` (`id`, `keywords`)\n",
    "        values\n",
    "        (hand_with_beihang.gen_ticket64(0),\n",
    "        {repr(word)});\n",
    "        ''')\n",
    "    db.commit()"
   ]
  },
  {
   "cell_type": "code",
   "execution_count": 24,
   "metadata": {
    "ExecuteTime": {
     "end_time": "2020-12-16T06:18:49.426796Z",
     "start_time": "2020-12-16T06:18:49.421794Z"
    },
    "code_folding": []
   },
   "outputs": [],
   "source": [
    "def hasWord (word) -> bool:\n",
    "#     sql('flush tables;')\n",
    "    rst = sql(f'''\n",
    "        select idEnglish from\n",
    "        (\n",
    "            select id from keywords where keywords = {repr(word)}\n",
    "        ) as a\n",
    "        join synonym on a.id = synonym.idChinese;\n",
    "    ''')\n",
    "    return len(rst) != 0"
   ]
  },
  {
   "cell_type": "code",
   "execution_count": 25,
   "metadata": {
    "ExecuteTime": {
     "end_time": "2020-12-16T06:18:50.579803Z",
     "start_time": "2020-12-16T06:18:50.567795Z"
    },
    "code_folding": []
   },
   "outputs": [],
   "source": [
    "def getWordId (word) -> int:\n",
    "#     sql('flush tables;')\n",
    "    rst = select('id','`keywords`.`keywords`',where=f'`keywords`={repr(word)}')\n",
    "    if not len(rst):\n",
    "        insertWord(word)\n",
    "#         sql('flush tables;')\n",
    "        rst = select('id','`keywords`.`keywords`',where=f'`keywords`={repr(word)}')\n",
    "    return rst.values.item()"
   ]
  },
  {
   "cell_type": "code",
   "execution_count": null,
   "metadata": {},
   "outputs": [],
   "source": []
  },
  {
   "cell_type": "code",
   "execution_count": 26,
   "metadata": {
    "ExecuteTime": {
     "end_time": "2020-12-16T06:18:51.693794Z",
     "start_time": "2020-12-16T06:18:51.674794Z"
    }
   },
   "outputs": [],
   "source": [
    "lastTrans = 0\n",
    "transGap = 15 ###两次调用有道翻译的间隔\n",
    "iRetry = 0\n",
    "def getSyns (word, mode = ''):\n",
    "    global lastTrans\n",
    "    global iRetry\n",
    "    \n",
    "    wid = getWordId(word)\n",
    "    if not hasChinese(word): return\n",
    "    while time() < lastTrans + transGap: sleep(0.25)\n",
    "    \n",
    "    while 1:\n",
    "#         iRetry = 0\n",
    "        try: syns = yd.getSynonyms(word, mode)\n",
    "        except KeyboardInterrupt as e: raise e\n",
    "        except:\n",
    "            if not iRetry: print()\n",
    "            wait(60, f'({word})network error, waiting')\n",
    "            iRetry += 1\n",
    "            print(f'network error, retrying{iRetry}   ', end='\\r')\n",
    "            yd.close()\n",
    "            yd.start()\n",
    "        else: break\n",
    "    lastTrans = time()\n",
    "    for syn in syns:\n",
    "        if hasChinese(syn):\n",
    "            ourError(syns, f'{repr(word)} syn with chinese')\n",
    "        if '.' in syn:\n",
    "            ourError(syns, f'{repr(word)} syn with .')\n",
    "        if '（' in syn or '）' in syn:\n",
    "            ourError(syns, f'{repr(word)} syn with （ or ）')\n",
    "    if len(syns) == 0: return []\n",
    "    if len(syns) == 1: ###繁体先转简体，然后再走一遍同义词\n",
    "        syn = [*syns][0]\n",
    "        if syn == word:\n",
    "            ourError(syns, f'{repr(word)} same as syns')\n",
    "            if mode == 'ch2en': return []\n",
    "            else: return getSyns(word, 'ch2en')\n",
    "        if hasChinese(syn):\n",
    "            rst = getSyns(syn)\n",
    "            if not hasWord(syn) and syn.count(' ') < 5:\n",
    "                return rst + [(wid, y) for x, y in rst]\n",
    "            else:\n",
    "                return [(wid, y) for x, y in rst]\n",
    "    return [(wid, getWordId(syn)) for syn in syns]"
   ]
  },
  {
   "cell_type": "code",
   "execution_count": 27,
   "metadata": {
    "ExecuteTime": {
     "end_time": "2020-12-16T06:18:52.787796Z",
     "start_time": "2020-12-16T06:18:52.780799Z"
    }
   },
   "outputs": [],
   "source": [
    "def insertSyns (ids):\n",
    "    sIns = sInsert % ','.join([str(x) for x in ids])\n",
    "    sql(sIns)\n",
    "    db.commit()"
   ]
  },
  {
   "cell_type": "code",
   "execution_count": 28,
   "metadata": {
    "ExecuteTime": {
     "end_time": "2020-12-16T06:18:53.887794Z",
     "start_time": "2020-12-16T06:18:53.880795Z"
    },
    "code_folding": []
   },
   "outputs": [],
   "source": [
    "def frmt (s):\n",
    "    global iRetry\n",
    "    if iRetry: print()\n",
    "    print (f'({getNow()})', s, ' ' * 20, end='\\r')\n",
    "    iRetry = 0"
   ]
  },
  {
   "cell_type": "code",
   "execution_count": 29,
   "metadata": {
    "ExecuteTime": {
     "end_time": "2020-12-16T06:18:54.990796Z",
     "start_time": "2020-12-16T06:18:54.982794Z"
    }
   },
   "outputs": [],
   "source": [
    "blacklist = {'na觙vecd4', '18 氟代脱氧葡萄糖正电子发射型断层扫描/计算机断层扫描', '白疕病', \n",
    "            '性学觕述',  }\n",
    "def banWord (s : str) -> bool:\n",
    "    return s in blacklist"
   ]
  },
  {
   "cell_type": "code",
   "execution_count": 30,
   "metadata": {
    "ExecuteTime": {
     "end_time": "2020-12-16T06:18:56.054797Z",
     "start_time": "2020-12-16T06:18:56.046795Z"
    }
   },
   "outputs": [],
   "source": [
    "def cleanKeywords (s):\n",
    "    s = rmUe(s)\n",
    "    s = re.sub(r'。，、', ' ', s)\n",
    "    s = re.sub(r'\\s+', ' ', s)\n",
    "    return s.strip()"
   ]
  },
  {
   "cell_type": "code",
   "execution_count": 31,
   "metadata": {
    "ExecuteTime": {
     "end_time": "2020-12-16T06:18:57.070793Z",
     "start_time": "2020-12-16T06:18:57.061807Z"
    }
   },
   "outputs": [],
   "source": [
    "def solve (word):\n",
    "    word = cleanKeywords(word)\n",
    "    if hasWord(word): return\n",
    "    if banWord(word): return\n",
    "    \n",
    "    frmt('get and insert syns')\n",
    "    start = time()\n",
    "\n",
    "    frmt(f'get and insert syns : {repr(word)}')\n",
    "        \n",
    "    ids = getSyns(word)\n",
    "    if len(ids) == 0: return\n",
    "    insertSyns(ids)\n",
    "    ourLog(f'{time() - start:.3f}s', 'syn time')"
   ]
  },
  {
   "cell_type": "code",
   "execution_count": 32,
   "metadata": {
    "ExecuteTime": {
     "end_time": "2020-12-20T02:59:16.053858Z",
     "start_time": "2020-12-16T06:18:58.181797Z"
    },
    "scrolled": false
   },
   "outputs": [
    {
     "data": {
      "application/vnd.jupyter.widget-view+json": {
       "model_id": "17e46092b87149a399bfdb6db69129f7",
       "version_major": 2,
       "version_minor": 0
      },
      "text/plain": [
       "HBox(children=(FloatProgress(value=0.0, max=187172.0), HTML(value='')))"
      ]
     },
     "metadata": {},
     "output_type": "display_data"
    },
    {
     "name": "stdout",
     "output_type": "stream",
     "text": [
      "(2020-12-20 10:58:58) get and insert syns : 'boxcar滤波器'                                               \n"
     ]
    }
   ],
   "source": [
    "start = time()\n",
    "for word in tqdm(words):\n",
    "    if len(word) & 1: solve (word)\n",
    "sendEmail(f'cost time {convertSeconds(time() - start)}', 'get selected syn accomplished(not server)')"
   ]
  },
  {
   "cell_type": "code",
   "execution_count": null,
   "metadata": {},
   "outputs": [],
   "source": []
  },
  {
   "cell_type": "code",
   "execution_count": null,
   "metadata": {},
   "outputs": [],
   "source": []
  },
  {
   "cell_type": "code",
   "execution_count": null,
   "metadata": {},
   "outputs": [],
   "source": []
  },
  {
   "cell_type": "code",
   "execution_count": null,
   "metadata": {},
   "outputs": [],
   "source": []
  },
  {
   "cell_type": "code",
   "execution_count": null,
   "metadata": {},
   "outputs": [],
   "source": []
  },
  {
   "cell_type": "code",
   "execution_count": null,
   "metadata": {},
   "outputs": [],
   "source": []
  },
  {
   "cell_type": "code",
   "execution_count": null,
   "metadata": {},
   "outputs": [],
   "source": []
  },
  {
   "cell_type": "code",
   "execution_count": null,
   "metadata": {},
   "outputs": [],
   "source": []
  },
  {
   "cell_type": "code",
   "execution_count": 31,
   "metadata": {
    "ExecuteTime": {
     "end_time": "2020-12-16T06:06:48.054234Z",
     "start_time": "2020-12-16T06:06:48.006231Z"
    }
   },
   "outputs": [],
   "source": [
    "db.close()"
   ]
  },
  {
   "cell_type": "code",
   "execution_count": 32,
   "metadata": {
    "ExecuteTime": {
     "end_time": "2020-12-16T06:06:51.549236Z",
     "start_time": "2020-12-16T06:06:49.438232Z"
    }
   },
   "outputs": [],
   "source": [
    "yd.close()"
   ]
  },
  {
   "cell_type": "code",
   "execution_count": null,
   "metadata": {},
   "outputs": [],
   "source": []
  }
 ],
 "metadata": {
  "kernelspec": {
   "display_name": "Python 3",
   "language": "python",
   "name": "python3"
  },
  "language_info": {
   "codemirror_mode": {
    "name": "ipython",
    "version": 3
   },
   "file_extension": ".py",
   "mimetype": "text/x-python",
   "name": "python",
   "nbconvert_exporter": "python",
   "pygments_lexer": "ipython3",
   "version": "3.8.3"
  },
  "varInspector": {
   "cols": {
    "lenName": 16,
    "lenType": 16,
    "lenVar": 40
   },
   "kernels_config": {
    "python": {
     "delete_cmd_postfix": "",
     "delete_cmd_prefix": "del ",
     "library": "var_list.py",
     "varRefreshCmd": "print(var_dic_list())"
    },
    "r": {
     "delete_cmd_postfix": ") ",
     "delete_cmd_prefix": "rm(",
     "library": "var_list.r",
     "varRefreshCmd": "cat(var_dic_list()) "
    }
   },
   "position": {
    "height": "836.198px",
    "left": "-23.625px",
    "right": "20px",
    "top": "136.983px",
    "width": "474.757px"
   },
   "types_to_exclude": [
    "module",
    "function",
    "builtin_function_or_method",
    "instance",
    "_Feature"
   ],
   "window_display": true
  }
 },
 "nbformat": 4,
 "nbformat_minor": 4
}
