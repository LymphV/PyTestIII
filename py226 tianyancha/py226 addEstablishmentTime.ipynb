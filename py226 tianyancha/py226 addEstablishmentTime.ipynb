{
 "cells": [
  {
   "cell_type": "markdown",
   "metadata": {},
   "source": [
    "## 库"
   ]
  },
  {
   "cell_type": "code",
   "execution_count": 1,
   "metadata": {
    "ExecuteTime": {
     "end_time": "2021-04-15T09:14:08.167000Z",
     "start_time": "2021-04-15T09:14:08.065975Z"
    }
   },
   "outputs": [],
   "source": [
    "import requests\n",
    "import os"
   ]
  },
  {
   "cell_type": "code",
   "execution_count": 19,
   "metadata": {
    "ExecuteTime": {
     "end_time": "2021-04-15T09:37:50.734979Z",
     "start_time": "2021-04-15T09:37:50.724979Z"
    }
   },
   "outputs": [],
   "source": [
    "if '.' in __name__:\n",
    "    from .cfg import token, savePath, mysqlIp, mysqlPort, mysqlUser, mysqlPassword, mysqlDb\n",
    "else:\n",
    "    from cfg import token, savePath, mysqlIp, mysqlPort, mysqlUser, mysqlPassword, mysqlDb"
   ]
  },
  {
   "cell_type": "code",
   "execution_count": 3,
   "metadata": {
    "ExecuteTime": {
     "end_time": "2021-04-15T09:14:18.944545Z",
     "start_time": "2021-04-15T09:14:18.941538Z"
    }
   },
   "outputs": [],
   "source": [
    "from vUtil.vFile import fprint"
   ]
  },
  {
   "cell_type": "code",
   "execution_count": 4,
   "metadata": {
    "ExecuteTime": {
     "end_time": "2021-04-15T09:14:25.029147Z",
     "start_time": "2021-04-15T09:14:25.021146Z"
    }
   },
   "outputs": [],
   "source": [
    "from vVariableInspector import _getshapeof"
   ]
  },
  {
   "cell_type": "code",
   "execution_count": 5,
   "metadata": {
    "ExecuteTime": {
     "end_time": "2021-04-15T09:14:31.840849Z",
     "start_time": "2021-04-15T09:14:27.564879Z"
    }
   },
   "outputs": [],
   "source": [
    "from vMysql import sql, addCursor, select\n",
    "import pymysql\n",
    "import pytz\n",
    "from vUtil.vTime import getNow"
   ]
  },
  {
   "cell_type": "code",
   "execution_count": 6,
   "metadata": {
    "ExecuteTime": {
     "end_time": "2021-04-15T09:14:38.040973Z",
     "start_time": "2021-04-15T09:14:38.035965Z"
    }
   },
   "outputs": [],
   "source": [
    "from pandas._libs.tslibs.timedeltas import Timedelta as td\n",
    "from pandas import Timestamp as ts"
   ]
  },
  {
   "cell_type": "code",
   "execution_count": 15,
   "metadata": {
    "ExecuteTime": {
     "end_time": "2021-04-15T09:24:03.299337Z",
     "start_time": "2021-04-15T09:24:02.982148Z"
    }
   },
   "outputs": [],
   "source": [
    "import json\n",
    "from tqdm.notebook import tqdm, trange"
   ]
  },
  {
   "cell_type": "markdown",
   "metadata": {},
   "source": [
    "## 读取文件"
   ]
  },
  {
   "cell_type": "code",
   "execution_count": 16,
   "metadata": {
    "ExecuteTime": {
     "end_time": "2021-04-15T09:28:16.460812Z",
     "start_time": "2021-04-15T09:28:16.445814Z"
    }
   },
   "outputs": [],
   "source": [
    "folder = 'baseInfo'\n",
    "files = [x.split('.')[0] for x in os.listdir(os.path.join(savePath, folder)) if x.endswith('.json')]"
   ]
  },
  {
   "cell_type": "markdown",
   "metadata": {},
   "source": [
    "## 更新"
   ]
  },
  {
   "cell_type": "code",
   "execution_count": 22,
   "metadata": {
    "ExecuteTime": {
     "end_time": "2021-04-15T09:53:45.421637Z",
     "start_time": "2021-04-15T09:53:45.387647Z"
    }
   },
   "outputs": [],
   "source": [
    "db = pymysql.connect(mysqlIp, mysqlUser, mysqlPassword,port=mysqlPort,charset='utf8',db=mysqlDb)\n",
    "addCursor(db.cursor())"
   ]
  },
  {
   "cell_type": "code",
   "execution_count": 23,
   "metadata": {
    "ExecuteTime": {
     "end_time": "2021-04-15T09:53:51.611981Z",
     "start_time": "2021-04-15T09:53:51.606972Z"
    }
   },
   "outputs": [],
   "source": [
    "sqlUpdate = f'''\n",
    "    update {mysqlDb}.enterprise\n",
    "    set establishmentTime = %d\n",
    "    where id = %s;\n",
    "    '''"
   ]
  },
  {
   "cell_type": "code",
   "execution_count": 25,
   "metadata": {
    "ExecuteTime": {
     "end_time": "2021-04-15T09:54:37.490770Z",
     "start_time": "2021-04-15T09:54:37.478780Z"
    }
   },
   "outputs": [],
   "source": []
  },
  {
   "cell_type": "code",
   "execution_count": 32,
   "metadata": {
    "ExecuteTime": {
     "end_time": "2021-04-15T10:05:54.469990Z",
     "start_time": "2021-04-15T10:05:28.991053Z"
    }
   },
   "outputs": [
    {
     "data": {
      "application/vnd.jupyter.widget-view+json": {
       "model_id": "94bb9461af784459bf21d13f85e1d03b",
       "version_major": 2,
       "version_minor": 0
      },
      "text/plain": [
       "HBox(children=(FloatProgress(value=0.0, max=2158.0), HTML(value='')))"
      ]
     },
     "metadata": {},
     "output_type": "display_data"
    },
    {
     "name": "stdout",
     "output_type": "stream",
     "text": [
      "1259999506 300000\n",
      "3023786580 300000\n",
      "\n"
     ]
    }
   ],
   "source": [
    "for id in tqdm(files):\n",
    "    file = os.path.join(savePath, folder, f'{id}.json')\n",
    "    with open(file, 'r', encoding='utf-8') as f:\n",
    "        rst = json.load(f)\n",
    "    errorCode = rst.get('error_code', 0)\n",
    "    \n",
    "    \n",
    "    if errorCode:\n",
    "        print(id, errorCode)\n",
    "        continue\n",
    "    et = rst['result']['fromTime']\n",
    "    if et is None: continue\n",
    "    sql(sqlUpdate % (et, id))\n",
    "    db.commit()"
   ]
  },
  {
   "cell_type": "code",
   "execution_count": 27,
   "metadata": {
    "ExecuteTime": {
     "end_time": "2021-04-15T10:03:34.315942Z",
     "start_time": "2021-04-15T10:03:34.309942Z"
    }
   },
   "outputs": [],
   "source": [
    "rst['result']['fromTime']"
   ]
  },
  {
   "cell_type": "code",
   "execution_count": 13,
   "metadata": {
    "ExecuteTime": {
     "end_time": "2021-04-15T09:20:48.067376Z",
     "start_time": "2021-04-15T09:20:48.054382Z"
    }
   },
   "outputs": [
    {
     "data": {
      "text/plain": [
       "({'result': {'historyNames': None,\n",
       "   'regStatus': '正常',\n",
       "   'cancelDate': None,\n",
       "   'regCapital': '10万',\n",
       "   'city': '兰州市',\n",
       "   'staffNumRange': None,\n",
       "   'industry': None,\n",
       "   'historyNameList': None,\n",
       "   'bondNum': None,\n",
       "   'type': 1,\n",
       "   'bondName': None,\n",
       "   'updateTimes': None,\n",
       "   'revokeDate': None,\n",
       "   'staffList': None,\n",
       "   'legalPersonName': '龚保和',\n",
       "   'revokeReason': None,\n",
       "   'regNumber': None,\n",
       "   'property3': None,\n",
       "   'creditCode': None,\n",
       "   'usedBondName': None,\n",
       "   'fromTime': None,\n",
       "   'approvedTime': None,\n",
       "   'socialStaffNum': None,\n",
       "   'alias': '现代职业',\n",
       "   'actualCapitalCurrency': '',\n",
       "   'companyOrgType': None,\n",
       "   'id': 10000015081,\n",
       "   'orgNumber': None,\n",
       "   'cancelReason': None,\n",
       "   'toTime': None,\n",
       "   'email': None,\n",
       "   'actualCapital': None,\n",
       "   'estiblishTime': None,\n",
       "   'regInstitute': None,\n",
       "   'taxNumber': None,\n",
       "   'businessScope': None,\n",
       "   'regLocation': '兰州新区西岔职教园区九龙江街500号',\n",
       "   'regCapitalCurrency': '',\n",
       "   'tags': None,\n",
       "   'websiteList': None,\n",
       "   'phoneNumber': '',\n",
       "   'district': '兰州新区',\n",
       "   'name': '兰州现代职业学院',\n",
       "   'bondType': None,\n",
       "   'percentileScore': None,\n",
       "   'isMicroEnt': 0,\n",
       "   'base': None},\n",
       "  'reason': 'ok',\n",
       "  'error_code': 0},\n",
       " 'apiData\\\\baseInfo\\\\10000015081.json')"
      ]
     },
     "execution_count": 13,
     "metadata": {},
     "output_type": "execute_result"
    }
   ],
   "source": [
    "with open(files[0], 'r', encoding='utf-8') as f:\n",
    "    rst = json.load(f)\n",
    "rst, files[0]"
   ]
  },
  {
   "cell_type": "markdown",
   "metadata": {},
   "source": [
    "### 断开mysql"
   ]
  },
  {
   "cell_type": "code",
   "execution_count": 33,
   "metadata": {
    "ExecuteTime": {
     "end_time": "2021-04-15T10:08:53.331452Z",
     "start_time": "2021-04-15T10:08:53.325452Z"
    }
   },
   "outputs": [],
   "source": [
    "db.close()"
   ]
  },
  {
   "cell_type": "code",
   "execution_count": null,
   "metadata": {},
   "outputs": [],
   "source": []
  },
  {
   "cell_type": "code",
   "execution_count": null,
   "metadata": {},
   "outputs": [],
   "source": []
  }
 ],
 "metadata": {
  "kernelspec": {
   "display_name": "Python 3",
   "language": "python",
   "name": "python3"
  },
  "language_info": {
   "codemirror_mode": {
    "name": "ipython",
    "version": 3
   },
   "file_extension": ".py",
   "mimetype": "text/x-python",
   "name": "python",
   "nbconvert_exporter": "python",
   "pygments_lexer": "ipython3",
   "version": "3.8.3"
  },
  "varInspector": {
   "cols": {
    "lenName": 16,
    "lenType": 16,
    "lenVar": 40
   },
   "kernels_config": {
    "python": {
     "delete_cmd_postfix": "",
     "delete_cmd_prefix": "del ",
     "library": "var_list.py",
     "varRefreshCmd": "print(var_dic_list())"
    },
    "r": {
     "delete_cmd_postfix": ") ",
     "delete_cmd_prefix": "rm(",
     "library": "var_list.r",
     "varRefreshCmd": "cat(var_dic_list()) "
    }
   },
   "oldHeight": 564,
   "position": {
    "height": "40px",
    "left": "-9px",
    "right": "20px",
    "top": "113px",
    "width": "395px"
   },
   "types_to_exclude": [
    "module",
    "function",
    "builtin_function_or_method",
    "instance",
    "_Feature"
   ],
   "varInspector_section_display": "none",
   "window_display": true
  }
 },
 "nbformat": 4,
 "nbformat_minor": 4
}
