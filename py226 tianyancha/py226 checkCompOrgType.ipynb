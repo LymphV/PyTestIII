{
 "cells": [
  {
   "cell_type": "markdown",
   "metadata": {},
   "source": [
    "## 库"
   ]
  },
  {
   "cell_type": "code",
   "execution_count": 1,
   "metadata": {
    "ExecuteTime": {
     "end_time": "2021-04-19T11:11:45.928703Z",
     "start_time": "2021-04-19T11:11:45.826714Z"
    }
   },
   "outputs": [],
   "source": [
    "import requests\n",
    "import os"
   ]
  },
  {
   "cell_type": "code",
   "execution_count": 2,
   "metadata": {
    "ExecuteTime": {
     "end_time": "2021-04-19T11:11:46.778713Z",
     "start_time": "2021-04-19T11:11:46.768701Z"
    }
   },
   "outputs": [],
   "source": [
    "if '.' in __name__:\n",
    "    from .cfg import token, savePath, mysqlIp, mysqlPort, mysqlUser, mysqlPassword, mysqlDb\n",
    "else:\n",
    "    from cfg import token, savePath, mysqlIp, mysqlPort, mysqlUser, mysqlPassword, mysqlDb"
   ]
  },
  {
   "cell_type": "code",
   "execution_count": 3,
   "metadata": {
    "ExecuteTime": {
     "end_time": "2021-04-19T11:11:47.013705Z",
     "start_time": "2021-04-19T11:11:47.009712Z"
    }
   },
   "outputs": [],
   "source": [
    "from vUtil.vFile import fprint"
   ]
  },
  {
   "cell_type": "code",
   "execution_count": 4,
   "metadata": {
    "ExecuteTime": {
     "end_time": "2021-04-19T11:11:47.271709Z",
     "start_time": "2021-04-19T11:11:47.265704Z"
    }
   },
   "outputs": [],
   "source": [
    "from vVariableInspector import _getshapeof"
   ]
  },
  {
   "cell_type": "code",
   "execution_count": 5,
   "metadata": {
    "ExecuteTime": {
     "end_time": "2021-04-19T11:11:47.866727Z",
     "start_time": "2021-04-19T11:11:47.489701Z"
    }
   },
   "outputs": [],
   "source": [
    "from vMysql import sql, addDb, select\n",
    "import pymysql\n",
    "import pytz\n",
    "from vUtil.vTime import getNow"
   ]
  },
  {
   "cell_type": "code",
   "execution_count": 6,
   "metadata": {
    "ExecuteTime": {
     "end_time": "2021-04-19T11:11:47.919705Z",
     "start_time": "2021-04-19T11:11:47.915703Z"
    }
   },
   "outputs": [],
   "source": [
    "from pandas._libs.tslibs.timedeltas import Timedelta as td\n",
    "from pandas import Timestamp as ts"
   ]
  },
  {
   "cell_type": "code",
   "execution_count": 21,
   "metadata": {
    "ExecuteTime": {
     "end_time": "2021-04-19T11:16:36.600976Z",
     "start_time": "2021-04-19T11:16:36.593974Z"
    }
   },
   "outputs": [],
   "source": [
    "import json\n",
    "from tqdm.notebook import tqdm, trange, tnrange"
   ]
  },
  {
   "cell_type": "markdown",
   "metadata": {},
   "source": [
    "## 读取文件"
   ]
  },
  {
   "cell_type": "code",
   "execution_count": 8,
   "metadata": {
    "ExecuteTime": {
     "end_time": "2021-04-19T11:11:49.469719Z",
     "start_time": "2021-04-19T11:11:49.456716Z"
    }
   },
   "outputs": [],
   "source": [
    "folder = 'baseInfo'\n",
    "files = [x.split('.')[0] for x in os.listdir(os.path.join(savePath, folder)) if x.endswith('.json')]"
   ]
  },
  {
   "cell_type": "markdown",
   "metadata": {},
   "source": [
    "## 更新"
   ]
  },
  {
   "cell_type": "code",
   "execution_count": 18,
   "metadata": {
    "ExecuteTime": {
     "end_time": "2021-04-19T11:14:26.000803Z",
     "start_time": "2021-04-19T11:14:25.985803Z"
    }
   },
   "outputs": [],
   "source": [
    "db = pymysql.connect(mysqlIp, mysqlUser, mysqlPassword,port=mysqlPort,charset='utf8',db=mysqlDb)\n",
    "addDb(db)"
   ]
  },
  {
   "cell_type": "code",
   "execution_count": 19,
   "metadata": {
    "ExecuteTime": {
     "end_time": "2021-04-19T11:14:27.375958Z",
     "start_time": "2021-04-19T11:14:27.369956Z"
    }
   },
   "outputs": [],
   "source": [
    "sqlUpdate = f'''\n",
    "    update {mysqlDb}.enterprise\n",
    "    set companyOrgType = %s\n",
    "    where id = %s;\n",
    "    '''"
   ]
  },
  {
   "cell_type": "code",
   "execution_count": 20,
   "metadata": {
    "ExecuteTime": {
     "end_time": "2021-04-19T11:14:38.276976Z",
     "start_time": "2021-04-19T11:14:28.525972Z"
    }
   },
   "outputs": [
    {
     "data": {
      "application/vnd.jupyter.widget-view+json": {
       "model_id": "1d05e19afb414619924ff2195c91e904",
       "version_major": 2,
       "version_minor": 0
      },
      "text/plain": [
       "HBox(children=(FloatProgress(value=0.0, max=2158.0), HTML(value='')))"
      ]
     },
     "metadata": {},
     "output_type": "display_data"
    },
    {
     "name": "stdout",
     "output_type": "stream",
     "text": [
      "1259999506 300000\n",
      "3023786580 300000\n",
      "\n"
     ]
    }
   ],
   "source": [
    "tfiles = tqdm(files)\n",
    "for id in tfiles:\n",
    "    tfiles.set_description('(%010d)' % int(id))\n",
    "    file = os.path.join(savePath, folder, f'{id}.json')\n",
    "    with open(file, 'r', encoding='utf-8') as f:\n",
    "        rst = json.load(f)\n",
    "    errorCode = rst.get('error_code', 0)\n",
    "    \n",
    "    \n",
    "    if errorCode:\n",
    "        print(id, errorCode)\n",
    "        continue\n",
    "    ct = rst['result']['companyOrgType']\n",
    "    if ct is not None:\n",
    "        if 120 < len(ct): print (id, len(ct))\n",
    "        sql(sqlUpdate % (repr(ct), id))\n",
    "        db.commit()"
   ]
  },
  {
   "cell_type": "code",
   "execution_count": 14,
   "metadata": {
    "ExecuteTime": {
     "end_time": "2021-04-16T11:16:11.322238Z",
     "start_time": "2021-04-16T11:16:11.313246Z"
    }
   },
   "outputs": [
    {
     "data": {
      "text/plain": [
       "{'个体工商户',\n",
       " '事业单位营业',\n",
       " '全民所有制',\n",
       " '全民所有制分支机构(非法人)',\n",
       " '其他',\n",
       " '其他有限责任公司',\n",
       " '其他有限责任公司(1190)',\n",
       " '其他有限责任公司分公司',\n",
       " '其他股份有限公司(上市)',\n",
       " '其他股份有限公司(非上市)',\n",
       " '其他股份有限公司分公司(上市)',\n",
       " '其他股份有限公司分公司(非上市)',\n",
       " '分公司',\n",
       " '国有事业单位营业',\n",
       " '国有经营单位(非法人)',\n",
       " '有限合伙企业',\n",
       " '有限责任公司',\n",
       " '有限责任公司(中外合资)',\n",
       " '有限责任公司(台港澳与境内合作)',\n",
       " '有限责任公司(台港澳与境内合资)',\n",
       " '有限责任公司(台港澳合资)',\n",
       " '有限责任公司(台港澳法人独资)',\n",
       " '有限责任公司(国有控股)',\n",
       " '有限责任公司(国有独资)',\n",
       " '有限责任公司(外商合资)',\n",
       " '有限责任公司(外商投资企业与内资合资)',\n",
       " '有限责任公司(外商投资企业法人独资)',\n",
       " '有限责任公司(外国法人独资)',\n",
       " '有限责任公司(外国自然人独资)',\n",
       " '有限责任公司(法人独资)',\n",
       " '有限责任公司(法人独资)(外商投资企业投资)',\n",
       " '有限责任公司(港澳台法人独资)',\n",
       " '有限责任公司(自然人投资或控股)',\n",
       " '有限责任公司(自然人投资或控股)(1130)',\n",
       " '有限责任公司(自然人投资或控股的法人独资)',\n",
       " '有限责任公司(自然人投资或控股的法人独资)(1152)',\n",
       " '有限责任公司(自然人独资)',\n",
       " '有限责任公司(非自然人投资或控股的法人独资)',\n",
       " '有限责任公司分公司',\n",
       " '有限责任公司分公司(国有控股)',\n",
       " '有限责任公司分公司(国有独资)',\n",
       " '有限责任公司分公司(法人独资)',\n",
       " '有限责任公司分公司(非自然人投资或控股的法人独资)',\n",
       " '有限责任公司分公司（非自然人投资或控股的法人独资）',\n",
       " '有限责任公司（外商投资、非独资）',\n",
       " '有限责任公司（法人独资）',\n",
       " '有限责任公司（港澳台投资、非独资）',\n",
       " '有限责任公司（自然人投资或控股的法人独资）',\n",
       " '有限责任公司（自然人独资）',\n",
       " '有限责任公司（非自然人投资或控股的法人独资）',\n",
       " '注册非香港公司',\n",
       " '私人股份有限公司',\n",
       " '股份有限公司',\n",
       " '股份有限公司(上市)',\n",
       " '股份有限公司(上市、国有控股)',\n",
       " '股份有限公司(上市、自然人投资或控股)',\n",
       " '股份有限公司(上市公司)',\n",
       " '股份有限公司(中外合资、上市)',\n",
       " '股份有限公司(中外合资、未上市)',\n",
       " '股份有限公司(台港澳与境内合资、上市)',\n",
       " '股份有限公司(台港澳与境内合资、未上市)',\n",
       " '股份有限公司(外商投资、上市)',\n",
       " '股份有限公司(非上市)',\n",
       " '股份有限公司(非上市、国有控股)',\n",
       " '股份有限公司(非上市、外商投资企业投资)',\n",
       " '股份有限公司(非上市、自然人投资或控股)',\n",
       " '股份有限公司分公司(上市)',\n",
       " '股份有限公司分公司(上市、国有控股)',\n",
       " '股份有限公司分公司(非上市)',\n",
       " '股份有限公司（外商投资、上市）',\n",
       " '股份有限公司（外商投资、未上市）',\n",
       " '股份有限公司（港澳台投资、未上市）',\n",
       " '集体所有制'}"
      ]
     },
     "execution_count": 14,
     "metadata": {},
     "output_type": "execute_result"
    }
   ],
   "source": [
    "a"
   ]
  },
  {
   "cell_type": "markdown",
   "metadata": {},
   "source": [
    "### 断开mysql"
   ]
  },
  {
   "cell_type": "code",
   "execution_count": 17,
   "metadata": {
    "ExecuteTime": {
     "end_time": "2021-04-19T11:14:17.392164Z",
     "start_time": "2021-04-19T11:14:17.385166Z"
    }
   },
   "outputs": [],
   "source": [
    "db.close()"
   ]
  },
  {
   "cell_type": "code",
   "execution_count": null,
   "metadata": {},
   "outputs": [],
   "source": []
  },
  {
   "cell_type": "code",
   "execution_count": null,
   "metadata": {},
   "outputs": [],
   "source": []
  }
 ],
 "metadata": {
  "kernelspec": {
   "display_name": "Python 3",
   "language": "python",
   "name": "python3"
  },
  "language_info": {
   "codemirror_mode": {
    "name": "ipython",
    "version": 3
   },
   "file_extension": ".py",
   "mimetype": "text/x-python",
   "name": "python",
   "nbconvert_exporter": "python",
   "pygments_lexer": "ipython3",
   "version": "3.8.3"
  },
  "varInspector": {
   "cols": {
    "lenName": 16,
    "lenType": 16,
    "lenVar": 40
   },
   "kernels_config": {
    "python": {
     "delete_cmd_postfix": "",
     "delete_cmd_prefix": "del ",
     "library": "var_list.py",
     "varRefreshCmd": "print(var_dic_list())"
    },
    "r": {
     "delete_cmd_postfix": ") ",
     "delete_cmd_prefix": "rm(",
     "library": "var_list.r",
     "varRefreshCmd": "cat(var_dic_list()) "
    }
   },
   "oldHeight": 564,
   "position": {
    "height": "40px",
    "left": "-9px",
    "right": "20px",
    "top": "113px",
    "width": "395px"
   },
   "types_to_exclude": [
    "module",
    "function",
    "builtin_function_or_method",
    "instance",
    "_Feature"
   ],
   "varInspector_section_display": "none",
   "window_display": true
  }
 },
 "nbformat": 4,
 "nbformat_minor": 4
}
