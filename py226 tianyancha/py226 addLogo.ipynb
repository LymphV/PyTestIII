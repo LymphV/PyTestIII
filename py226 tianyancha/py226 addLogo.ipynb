{
 "cells": [
  {
   "cell_type": "markdown",
   "metadata": {},
   "source": [
    "## 库"
   ]
  },
  {
   "cell_type": "code",
   "execution_count": 1,
   "metadata": {
    "ExecuteTime": {
     "end_time": "2021-07-29T06:37:37.535562Z",
     "start_time": "2021-07-29T06:37:37.433563Z"
    }
   },
   "outputs": [],
   "source": [
    "import requests, os, sys, json"
   ]
  },
  {
   "cell_type": "code",
   "execution_count": 2,
   "metadata": {
    "ExecuteTime": {
     "end_time": "2021-07-29T06:37:37.973786Z",
     "start_time": "2021-07-29T06:37:37.823945Z"
    }
   },
   "outputs": [],
   "source": [
    "if '.' in __name__:\n",
    "    from .cfg import token, savePath, mysqlIp, mysqlPort, mysqlUser, mysqlPassword, mysqlDb\n",
    "else:\n",
    "    from cfg import token, savePath, mysqlIp, mysqlPort, mysqlUser, mysqlPassword, mysqlDb"
   ]
  },
  {
   "cell_type": "code",
   "execution_count": 3,
   "metadata": {
    "ExecuteTime": {
     "end_time": "2021-07-29T06:37:38.469504Z",
     "start_time": "2021-07-29T06:37:38.465498Z"
    }
   },
   "outputs": [],
   "source": [
    "from vUtil.vFile import fprint"
   ]
  },
  {
   "cell_type": "code",
   "execution_count": 4,
   "metadata": {
    "ExecuteTime": {
     "end_time": "2021-07-29T06:37:38.805837Z",
     "start_time": "2021-07-29T06:37:38.799833Z"
    }
   },
   "outputs": [],
   "source": [
    "from vVariableInspector import _getshapeof"
   ]
  },
  {
   "cell_type": "code",
   "execution_count": 5,
   "metadata": {
    "ExecuteTime": {
     "end_time": "2021-07-29T06:37:42.088993Z",
     "start_time": "2021-07-29T06:37:39.191384Z"
    }
   },
   "outputs": [],
   "source": [
    "from vMysql import MysqlProxy\n",
    "import pymysql\n",
    "import pytz\n",
    "from vUtil.vTime import getNow"
   ]
  },
  {
   "cell_type": "code",
   "execution_count": 6,
   "metadata": {
    "ExecuteTime": {
     "end_time": "2021-07-29T06:37:42.107997Z",
     "start_time": "2021-07-29T06:37:42.102005Z"
    }
   },
   "outputs": [],
   "source": [
    "from pandas._libs.tslibs.timedeltas import Timedelta as td\n",
    "from pandas import Timestamp as ts"
   ]
  },
  {
   "cell_type": "code",
   "execution_count": 7,
   "metadata": {
    "ExecuteTime": {
     "end_time": "2021-07-29T06:37:42.747363Z",
     "start_time": "2021-07-29T06:37:42.119999Z"
    }
   },
   "outputs": [],
   "source": [
    "from vUtil.vTqdm import tqdm, trange\n",
    "from vUtil.vLog import frmt, VLog"
   ]
  },
  {
   "cell_type": "code",
   "execution_count": 8,
   "metadata": {
    "ExecuteTime": {
     "end_time": "2021-07-29T06:37:42.762398Z",
     "start_time": "2021-07-29T06:37:42.756364Z"
    }
   },
   "outputs": [],
   "source": [
    "from utils import none2dict "
   ]
  },
  {
   "cell_type": "code",
   "execution_count": 9,
   "metadata": {
    "ExecuteTime": {
     "end_time": "2021-07-29T06:37:42.861562Z",
     "start_time": "2021-07-29T06:37:42.774367Z"
    }
   },
   "outputs": [],
   "source": [
    "from tycAPI import TycAPI"
   ]
  },
  {
   "cell_type": "code",
   "execution_count": 10,
   "metadata": {
    "ExecuteTime": {
     "end_time": "2021-07-29T06:37:43.692848Z",
     "start_time": "2021-07-29T06:37:43.687844Z"
    }
   },
   "outputs": [],
   "source": [
    "ourLog = VLog(sep=' ')"
   ]
  },
  {
   "cell_type": "markdown",
   "metadata": {},
   "source": [
    "## 测试接口"
   ]
  },
  {
   "cell_type": "code",
   "execution_count": 11,
   "metadata": {
    "ExecuteTime": {
     "end_time": "2021-07-29T06:38:26.323667Z",
     "start_time": "2021-07-29T06:38:26.319658Z"
    }
   },
   "outputs": [],
   "source": [
    "tyc = TycAPI()"
   ]
  },
  {
   "cell_type": "code",
   "execution_count": 12,
   "metadata": {
    "ExecuteTime": {
     "end_time": "2021-07-29T06:38:26.979647Z",
     "start_time": "2021-07-29T06:38:26.975644Z"
    }
   },
   "outputs": [],
   "source": [
    "eid = 22822"
   ]
  },
  {
   "cell_type": "code",
   "execution_count": 29,
   "metadata": {
    "ExecuteTime": {
     "end_time": "2021-07-01T01:44:00.081615Z",
     "start_time": "2021-07-01T01:43:59.199319Z"
    },
    "collapsed": true
   },
   "outputs": [
    {
     "data": {
      "text/plain": [
       "{'baseInfo': '熊猫电子集团有限公司（PEG）始建于1936年，是中国电子工业的摇篮。以熊猫电子集团有限公司为核心的熊猫集团，是一个投资主体多元化的综合性大型企业集团。集团旗下的上市公司南京熊猫电子股份有限公司分别在香港和上海发行H股和A股。',\n",
       " 'regStatus': '存续',\n",
       " 'flag': 1,\n",
       " 'regCapital': '91383.8529万人民币',\n",
       " 'industry': '电气机械和器材制造业',\n",
       " 'phoneList': ['025-51802001', '025-51802192', '025-84801144'],\n",
       " 'baiduAuthURLWWW': '',\n",
       " 'type': 1,\n",
       " 'updateTimes': 1625101714000,\n",
       " 'pricingPackage': 1,\n",
       " 'equityUrl': 'https://cdn.tianyancha.com/equity/db8a53b56708f8e0a584e73bf6d26fd3.png',\n",
       " 'legalPersonName': '夏德传',\n",
       " 'property4': '',\n",
       " 'regNumber': '320100400008823',\n",
       " 'property3': 'Nanjing Panda Electronics Co.,Ltd.',\n",
       " 'creditCode': '91320100134974572K',\n",
       " 'approvedTime': 1587312000000,\n",
       " 'fromTime': 844444800000,\n",
       " 'logo': 'https://img5.tianyancha.com/logo/lll/08ad41f3e517105ebfec76c6aab50430.png@!f_200x200',\n",
       " 'companyOrgType': '股份有限公司(台港澳与境内合资、上市)',\n",
       " 'baiduAuthURLWAP': '',\n",
       " 'id': 157452,\n",
       " 'orgNumber': '134974572',\n",
       " 'isClaimed': 0,\n",
       " 'sourceFlag': '',\n",
       " 'correctCompanyId': '',\n",
       " 'email': 'office@panda.cn',\n",
       " 'actualCapital': '91383.8529万人民币',\n",
       " 'estiblishTime': 704476800000,\n",
       " 'regInstitute': '南京市市场监督管理局',\n",
       " 'companyType': 0,\n",
       " 'entityType': 1,\n",
       " 'portray': '',\n",
       " 'haveReport': True,\n",
       " 'businessScope': '开发、制造、销售无线广播电视发射设备，并从事上述经营业务的售后、技术服务等业务；开发、制造、销售通信设备、计算机及其他电子设备；仪器仪表及文化、办公用机械；电气机械及器材；塑料制品；风机、衡器、包装设备等通用设备；化工、木材、非金属加工专用设备；输配电及控制设备；环保、社会公共安全及其他设备；金融、税控设备；电源产品；模具；计算机服务业、软件业、系统集成；物业管理；并从事上述经营业务的售后、技术服务等业务。（依法须经批准的项目，经相关部门批准后方可开展经营活动）',\n",
       " 'taxNumber': '91320100134974572K',\n",
       " 'regLocation': '南京市玄武区中山东路301号1701室',\n",
       " 'websiteList': 'www.panda.cn',\n",
       " 'legalPersonId': 1866914400,\n",
       " 'companyId': 157452,\n",
       " 'phoneNumber': '025-51802001',\n",
       " 'legalInfo': {'serviceType': 1,\n",
       "  'hid': 1866914400,\n",
       "  'headUrl': 'https://img5.tianyancha.com/logo/human/2/501963cd6f26daac13bcbc9ea0f555ed.jpg@!z_200x200',\n",
       "  'office': [{'area': '江苏',\n",
       "    'score': 0,\n",
       "    'total': 10,\n",
       "    'companyName': '南京熊猫电子股份有限公司',\n",
       "    'cid': 157452},\n",
       "   {'area': '北京',\n",
       "    'score': 0,\n",
       "    'total': 2,\n",
       "    'companyName': '中国有线电视网络有限公司',\n",
       "    'cid': 25952595},\n",
       "   {'area': '其他',\n",
       "    'score': 0,\n",
       "    'total': 4,\n",
       "    'companyName': '上海熊猫沪宁电子科技有限公司',\n",
       "    'cid': 1561314287}],\n",
       "  'companyNum': 16,\n",
       "  'bossCertificate': -1,\n",
       "  'coopCount': 0,\n",
       "  'serviceCount': 11,\n",
       "  'officeV1': [{'area': '江苏',\n",
       "    'score': 0,\n",
       "    'total': 10,\n",
       "    'companyName': '南京熊猫电子股份有限公司',\n",
       "    'cid': 157452},\n",
       "   {'area': '北京',\n",
       "    'score': 0,\n",
       "    'total': 2,\n",
       "    'companyName': '中国有线电视网络有限公司',\n",
       "    'cid': 25952595},\n",
       "   {'area': '其他',\n",
       "    'score': 0,\n",
       "    'total': 4,\n",
       "    'companyName': '上海熊猫沪宁电子科技有限公司',\n",
       "    'cid': 1561314287}],\n",
       "  'name': '夏德传',\n",
       "  'introduction': '夏德传先生:1970年生,西安电子科技大学电子机械专业本科,东南大学工商管理专业硕士,研究员级高级工程师。历任熊猫电子集团有限公司短波通信设计所副主任、主任,南京熊猫信息产业有限公司常务副总经理等。2008年7月至2011年9月任南京熊猫电子股份有限公司副总经理;2008年7月至2013年7月兼任南京熊猫信息产业有限公司总经理;2011年10月至今任南京熊猫电子股份有限公司总经理;2011年10月至2015年2月兼任南京熊猫电子股份有限公司党委书记。2013年9月当选为南京熊猫电子股份有限公司非执行董事。夏先生长期从事信息技术产业的管理工作,具有丰富的专业知识和经营管理经验。 此简介更新于2015-07-01',\n",
       "  'partnerNum': 0,\n",
       "  'cid': 157452},\n",
       " 'categoryScore': 9186,\n",
       " 'isHightTech': '1',\n",
       " 'name': '南京熊猫电子股份有限公司',\n",
       " 'percentileScore': 9728,\n",
       " 'updatetime': 1625101714960,\n",
       " 'base': 'js'}"
      ]
     },
     "execution_count": 29,
     "metadata": {},
     "output_type": "execute_result"
    }
   ],
   "source": [
    "tyc.xgBaseInfo(157452)"
   ]
  },
  {
   "cell_type": "code",
   "execution_count": 13,
   "metadata": {
    "ExecuteTime": {
     "end_time": "2021-07-29T06:38:28.892982Z",
     "start_time": "2021-07-29T06:38:28.648774Z"
    },
    "scrolled": true
   },
   "outputs": [
    {
     "data": {
      "text/plain": [
       "{'baseInfo': '百度，全球最大的中文搜索引擎、最大的中文网站。2000年1月创立于北京中关村。1999年底，身在美国硅谷的李彦宏看到了中国互联网及中文搜索引擎服务的巨大发展潜力，抱着技术改变世界的梦想，他毅然辞掉硅谷的高薪工作，携搜索引擎专利技术，于2000年1月1日在中关村创建了百度公司。从最初的不足10人发展至今，员工人数超过18000人。如今的百度，已成为中国最受欢迎、影响力最大的中文网站。百度拥有数千名研发工程师，这是中国乃至全球最为优秀的技术团队，这支队伍掌握着世界上最为先进的搜索引擎技术，使百度成为中国掌握世界尖端科学核心技术的中国高科技企业，也使中国成为美国、俄罗斯、和韩国之外，全球仅有的4个拥有搜索引擎核心技术的国家之一。从创立之初，百度便将“让人们最平等、便捷地获取信息，找到所求”作为自己的使命，成立以来，公司秉承“以用户为导向”的理念，不断坚持技术创新，致力于为用户提供“简单，可依赖”的互联网搜索产品及服务，其中包括：以网络搜索为主的功能性搜索，以贴吧为主的社区搜索，针对各区域、行业所需的垂直搜索，Mp3搜索，以及门户频道、IM等，全面覆盖了中文网络世界所有的搜索需求，根据第三方权威数据，百度在中国的搜索份额超过80%。在面对用户的搜索产品不断丰富的同时，百度还创新性地推出了基于搜索的营销推广服务，并成为最受企业青睐的互联网营销推广平台。如今，中国已有数十万家企业使用了百度的搜索推广服务，不断提升企业自身的品牌及运营效率。通过持续的商业模式创新，百度正进一步带动整个互联网行业和中小企业的经济增长，推动社会经济的发展和转型。为推动中国数百万中小网站的发展，百度借助超大流量的平台优势，联合所有优质的各类网站，建立了世界上最大的网络联盟，使各类企业的搜索推广、品牌营销的价值、覆盖面均大面积提升。与此同时，各网站也在联盟大家庭的互助下，获得最大的生存与发展机会。作为国内的一家知名企业，百度也一直秉承“弥合信息鸿沟，共享知识社会”的责任理念，坚持履行企业公民的社会责任。成立来，百度利用自身优势积极投身公益事业，先后投入巨大资源，为盲人、少儿、老年人群体打造专门的搜索产品，解决了特殊群体上网难问题,极大地弥补了社会信息鸿沟问题。此外，在加速推动中国信息化进程、净化网络环境、搜索引擎教育及提升大学生就业率等方面，百度也一直走在行业领先的地位。2011年初，百度还特别成立了百度基金会，围绕知识教育、环境保护、灾难救助等领域，更加系统规范地管理和践行公益事业。2005年，百度在美国纳斯达克上市，一举打破首日涨幅最高等多项纪录，并成为首家进入纳斯达克成分股的中国公司。通过数年来的市场表现，百度优异的业绩与值得依赖的回报，使之成为中国企业价值的代表，傲然屹立于全球资本市场。2009年，百度推出全新的框计算技术概念，并基于此理念推出百度开放平台，帮助更多优秀的第三方开发者利用互联网平台自主创新、自主创业，在大幅提升网民互联网使用体验的同时，带动起围绕用户需求进行研发的产业创新热潮，对中国互联网产业的升级和发展产生巨大的拉动效应。随着中国互联网从PC端向移动端转型，百度也在积极围绕核心战略加大对移动和云领域的投入和布局，不断把PC领域的优势向移动领域扩展。在通过技术创新不断满足用户的移动搜索需求的同时，百度也在继续积极推动移动云生态系统的建设和发展，与产业实现共赢。2012年9月，百度面向开发者全面开放包括云存储、大数据智能和云计算在内的核心云能力，为开发者量身定制从开发到运营的“七种武器”，为开发者提供更强大的技术运营支持与推广变现保障，以帮助他们在移动云时代获得更好的收益和成长。如今，百度已经成为中国最具价值的品牌之一，英国《金融时报》将百度列为“中国十大世界级品牌”，成为这个榜单中最年轻的一家公司，也是唯一一家互联网公司。而“亚洲最受尊敬企业”、“全球最具创新力企业”、“中国互联网力量之星”等一系列荣誉称号的获得，也无一不向外界展示着百度成立数年来的成就。多年来，百度董事长兼CEO李彦宏，率领百度人所形成的“简单可依赖”的核心文化，深深地植根于百度。这是一个充满朝气、求实坦诚的公司，以搜索改变生活，推动人类的文明与进步，促进中国经济的发展为己任，正朝着更为远大的目标而迈进。',\n",
       " 'regStatus': '存续',\n",
       " 'flag': 1,\n",
       " 'regCapital': '1342128万人民币',\n",
       " 'industry': '软件和信息技术服务业',\n",
       " 'phoneList': ['010-59928888', '56798989', '59928888'],\n",
       " 'baiduAuthURLWWW': '',\n",
       " 'type': 1,\n",
       " 'updateTimes': 1623906204000,\n",
       " 'pricingPackage': 1,\n",
       " 'equityUrl': 'https://cdn.tianyancha.com/equity/13b9135a67629b29481d5d039bb24cae.png',\n",
       " 'legalPersonName': '梁志祥',\n",
       " 'property4': '110108802100433',\n",
       " 'regNumber': '110108002734659',\n",
       " 'property3': 'Beijing Baidu Netcom Science and Technology Co.,Ltd.',\n",
       " 'creditCode': '91110000802100433B',\n",
       " 'approvedTime': 1611590400000,\n",
       " 'fromTime': 991670400000,\n",
       " 'logo': 'https://img5.tianyancha.com/logo/lll/1dfcb74d2e5ecd07a0fb5bb45171983b.png@!f_200x200',\n",
       " 'companyOrgType': '有限责任公司(自然人投资或控股)',\n",
       " 'baiduAuthURLWAP': '',\n",
       " 'id': 22822,\n",
       " 'orgNumber': '802100433',\n",
       " 'isClaimed': 0,\n",
       " 'sourceFlag': '',\n",
       " 'correctCompanyId': '',\n",
       " 'email': '',\n",
       " 'actualCapital': '-',\n",
       " 'estiblishTime': 991670400000,\n",
       " 'regInstitute': '北京市海淀区市场监督管理局',\n",
       " 'companyType': 32767,\n",
       " 'entityType': 1,\n",
       " 'portray': '',\n",
       " 'haveReport': True,\n",
       " 'businessScope': '技术转让、技术咨询、技术服务、技术培训、技术推广；设计、开发、销售计算机软件；经济信息咨询；利用www.baidu.com、www.hao123.com(www.hao222.net、www.hao222.com)网站发布广告；设计、制作、代理、发布广告；货物进出口、技术进出口、代理进出口；医疗软件技术开发；委托生产电子产品、玩具、照相器材；销售家用电器、机械设备、五金交电（不含电动自行车）、电子产品、文化用品、照相器材、计算机、软件及辅助设备、化妆品、卫生用品、体育用品、纺织品、服装、鞋帽、日用品、家具、首饰、避孕器具、工艺品、钟表、眼镜、玩具、汽车及摩托车配件、仪器仪表、塑料制品、花、草及观赏植物、建筑材料、通讯设备、汽车电子产品、器件和元件、自行开发后的产品；预防保健咨询；公园门票、文艺演出、体育赛事、展览会票务代理；翻译服务；通讯设备和电子产品的技术开发；计算机系统服务；车联网技术开发；汽车电子产品设计、研发、制造（北京市中心城区除外）；演出经纪；人才中介服；经营电信业务；利用信息网络经营音乐娱乐产品、演出剧（节）目、动漫产品、游戏产品（含网络游戏虚拟货币发行）、表演、网络游戏技法展示或解说（网络文化经营许可证有效期至2020年04月17日）；因特网信息服务业务（除出版、教育、医疗保健以外的内容）；图书、电子出版物、音像制品批发、零售、网上销售。（市场主体依法自主选择经营项目，开展经营活动；演出经纪、人才中介服务、利用信息网络经营音乐娱乐产品、演出剧（节）目、动漫产品、游戏产品（含网络游戏虚拟货币发行）、表演、网络游戏技法展示或解说、经营电信业务以及依法须经批准的项目，经相关部门批准后依批准的内容开展经营活动；不得从事国家和本市产业政策禁止和限制类项目的经营活动。）',\n",
       " 'taxNumber': '91110000802100433B',\n",
       " 'regLocation': '北京市海淀区上地十街10号百度大厦2层',\n",
       " 'websiteList': 'www.baidu.com',\n",
       " 'legalPersonId': 2020172991,\n",
       " 'companyId': 22822,\n",
       " 'phoneNumber': '010-59928888',\n",
       " 'legalInfo': {'serviceType': 1,\n",
       "  'hid': 2020172991,\n",
       "  'headUrl': 'https://imgh.tianyancha.com/logo/human/6ff8167b5f997bfe7372b271e9d471c2_d200x200.png',\n",
       "  'office': [{'area': '北京',\n",
       "    'score': 0,\n",
       "    'total': 20,\n",
       "    'companyName': '北京百度网讯科技有限公司',\n",
       "    'cid': 22822},\n",
       "   {'area': '福建',\n",
       "    'score': 0,\n",
       "    'total': 4,\n",
       "    'companyName': '福建百度博瑞网络科技有限公司',\n",
       "    'cid': 2344179270},\n",
       "   {'area': '其他',\n",
       "    'score': 0,\n",
       "    'total': 12,\n",
       "    'companyName': '宁波梅山保税港区百度致新资产管理有限公司',\n",
       "    'cid': 3102575943}],\n",
       "  'companyNum': 36,\n",
       "  'bossCertificate': -1,\n",
       "  'coopCount': 0,\n",
       "  'serviceCount': 28,\n",
       "  'officeV1': [{'area': '北京',\n",
       "    'score': 0,\n",
       "    'total': 20,\n",
       "    'companyName': '北京百度网讯科技有限公司',\n",
       "    'cid': 22822},\n",
       "   {'area': '福建',\n",
       "    'score': 0,\n",
       "    'total': 4,\n",
       "    'companyName': '福建百度博瑞网络科技有限公司',\n",
       "    'cid': 2344179270},\n",
       "   {'area': '其他',\n",
       "    'score': 0,\n",
       "    'total': 12,\n",
       "    'companyName': '宁波梅山保税港区百度致新资产管理有限公司',\n",
       "    'cid': 3102575943}],\n",
       "  'name': '梁志祥',\n",
       "  'introduction': '梁志祥，百度有钱花CEO。梁志祥，百度副总裁兼CEO助理。北京百付宝科技有限公司执行董事。梁志祥毕业于美国耶鲁大学法学院，获得硕士学位。之前，梁志祥曾获得北京大学法学院，澳大利亚新南威尔士大学法学院法律学位。梁志祥曾供职于中国国务院法制办公室、君合律师事务所，并曾在美国达维律师事务所Davis Polk & Wardwell LLP纽约总部进行工作交流。\\n2005年6月加盟百度，2011年6月晋升为副总裁，并担任总法律顾问，2013年1月起兼任CEO助理。',\n",
       "  'partnerNum': 0,\n",
       "  'cid': 22822},\n",
       " 'categoryScore': 9436,\n",
       " 'isHightTech': '1',\n",
       " 'name': '北京百度网讯科技有限公司',\n",
       " 'percentileScore': 9972,\n",
       " 'updatetime': 1623906207611,\n",
       " 'base': 'bj'}"
      ]
     },
     "execution_count": 13,
     "metadata": {},
     "output_type": "execute_result"
    }
   ],
   "source": [
    "tyc.xgBaseInfo(eid)"
   ]
  },
  {
   "cell_type": "code",
   "execution_count": 63,
   "metadata": {
    "ExecuteTime": {
     "end_time": "2021-06-17T10:04:48.314503Z",
     "start_time": "2021-06-17T10:04:48.262471Z"
    }
   },
   "outputs": [
    {
     "data": {
      "text/plain": [
       "{'historyNames': None,\n",
       " 'cancelDate': None,\n",
       " 'regStatus': '存续',\n",
       " 'regCapital': '1342128万人民币',\n",
       " 'city': '北京市',\n",
       " 'staffNumRange': '5000-9999人',\n",
       " 'bondNum': None,\n",
       " 'historyNameList': None,\n",
       " 'industry': '软件和信息技术服务业',\n",
       " 'bondName': None,\n",
       " 'revokeDate': None,\n",
       " 'staffList': {'result': [{'name': '李彦宏',\n",
       "    'id': 1984012283,\n",
       "    'type': 2,\n",
       "    'typeJoin': ['执行董事']},\n",
       "   {'name': '梁志祥', 'id': 2020172991, 'type': 2, 'typeJoin': ['经理']},\n",
       "   {'name': '崔珊珊', 'id': 1905070872, 'type': 2, 'typeJoin': ['监事']}],\n",
       "  'total': 3},\n",
       " 'type': 1,\n",
       " 'updateTimes': 1623906204000,\n",
       " 'legalPersonName': '梁志祥',\n",
       " 'revokeReason': '',\n",
       " 'regNumber': '110108002734659',\n",
       " 'creditCode': '91110000802100433B',\n",
       " 'property3': 'Beijing Baidu Netcom Science and Technology Co.,Ltd.',\n",
       " 'usedBondName': None,\n",
       " 'approvedTime': 1611590400000,\n",
       " 'fromTime': 991670400000,\n",
       " 'socialStaffNum': 6668,\n",
       " 'actualCapitalCurrency': '人民币',\n",
       " 'alias': '百度网讯',\n",
       " 'companyOrgType': '有限责任公司(自然人投资或控股)',\n",
       " 'id': 22822,\n",
       " 'cancelReason': '',\n",
       " 'orgNumber': '802100433',\n",
       " 'email': '',\n",
       " 'toTime': None,\n",
       " 'actualCapital': '-',\n",
       " 'estiblishTime': 991670400000,\n",
       " 'regInstitute': '北京市海淀区市场监督管理局',\n",
       " 'businessScope': '技术转让、技术咨询、技术服务、技术培训、技术推广；设计、开发、销售计算机软件；经济信息咨询；利用www.baidu.com、www.hao123.com(www.hao222.net、www.hao222.com)网站发布广告；设计、制作、代理、发布广告；货物进出口、技术进出口、代理进出口；医疗软件技术开发；委托生产电子产品、玩具、照相器材；销售家用电器、机械设备、五金交电（不含电动自行车）、电子产品、文化用品、照相器材、计算机、软件及辅助设备、化妆品、卫生用品、体育用品、纺织品、服装、鞋帽、日用品、家具、首饰、避孕器具、工艺品、钟表、眼镜、玩具、汽车及摩托车配件、仪器仪表、塑料制品、花、草及观赏植物、建筑材料、通讯设备、汽车电子产品、器件和元件、自行开发后的产品；预防保健咨询；公园门票、文艺演出、体育赛事、展览会票务代理；翻译服务；通讯设备和电子产品的技术开发；计算机系统服务；车联网技术开发；汽车电子产品设计、研发、制造（北京市中心城区除外）；演出经纪；人才中介服；经营电信业务；利用信息网络经营音乐娱乐产品、演出剧（节）目、动漫产品、游戏产品（含网络游戏虚拟货币发行）、表演、网络游戏技法展示或解说（网络文化经营许可证有效期至2020年04月17日）；因特网信息服务业务（除出版、教育、医疗保健以外的内容）；图书、电子出版物、音像制品批发、零售、网上销售。（市场主体依法自主选择经营项目，开展经营活动；演出经纪、人才中介服务、利用信息网络经营音乐娱乐产品、演出剧（节）目、动漫产品、游戏产品（含网络游戏虚拟货币发行）、表演、网络游戏技法展示或解说、经营电信业务以及依法须经批准的项目，经相关部门批准后依批准的内容开展经营活动；不得从事国家和本市产业政策禁止和限制类项目的经营活动。）',\n",
       " 'taxNumber': '91110000802100433B',\n",
       " 'regLocation': '北京市海淀区上地十街10号百度大厦2层',\n",
       " 'regCapitalCurrency': '人民币',\n",
       " 'tags': '存续;IPO上市;项目品牌:百度;投资机构:百度投资并购部;企业集团;高新技术企业',\n",
       " 'websiteList': 'www.baidu.com',\n",
       " 'phoneNumber': '010-59928888',\n",
       " 'district': '海淀区',\n",
       " 'bondType': None,\n",
       " 'name': '北京百度网讯科技有限公司',\n",
       " 'percentileScore': 9972,\n",
       " 'isMicroEnt': 0,\n",
       " 'base': 'bj'}"
      ]
     },
     "execution_count": 63,
     "metadata": {},
     "output_type": "execute_result"
    }
   ],
   "source": [
    "tyc.baseInfo(eid)"
   ]
  },
  {
   "cell_type": "code",
   "execution_count": 31,
   "metadata": {
    "ExecuteTime": {
     "end_time": "2021-06-17T09:25:56.500462Z",
     "start_time": "2021-06-17T09:25:56.494460Z"
    }
   },
   "outputs": [
    {
     "data": {
      "text/plain": [
       "{'total': 0}"
      ]
     },
     "execution_count": 31,
     "metadata": {},
     "output_type": "execute_result"
    }
   ],
   "source": [
    "b"
   ]
  },
  {
   "cell_type": "code",
   "execution_count": 85,
   "metadata": {
    "ExecuteTime": {
     "end_time": "2021-06-30T09:19:54.913421Z",
     "start_time": "2021-06-30T09:19:54.899397Z"
    },
    "collapsed": true
   },
   "outputs": [
    {
     "data": {
      "text/plain": [
       "{'serviceType': 1,\n",
       " 'hid': 2020172991,\n",
       " 'headUrl': 'https://imgh.tianyancha.com/logo/human/6ff8167b5f997bfe7372b271e9d471c2_d200x200.png',\n",
       " 'office': [{'area': '北京',\n",
       "   'score': 0,\n",
       "   'total': 20,\n",
       "   'companyName': '北京百度网讯科技有限公司',\n",
       "   'cid': 22822},\n",
       "  {'area': '福建',\n",
       "   'score': 0,\n",
       "   'total': 4,\n",
       "   'companyName': '福建百度博瑞网络科技有限公司',\n",
       "   'cid': 2344179270},\n",
       "  {'area': '其他',\n",
       "   'score': 0,\n",
       "   'total': 12,\n",
       "   'companyName': '宁波梅山保税港区百度致新资产管理有限公司',\n",
       "   'cid': 3102575943}],\n",
       " 'companyNum': 36,\n",
       " 'bossCertificate': -1,\n",
       " 'coopCount': 0,\n",
       " 'serviceCount': 28,\n",
       " 'officeV1': [{'area': '北京',\n",
       "   'score': 0,\n",
       "   'total': 20,\n",
       "   'companyName': '北京百度网讯科技有限公司',\n",
       "   'cid': 22822},\n",
       "  {'area': '福建',\n",
       "   'score': 0,\n",
       "   'total': 4,\n",
       "   'companyName': '福建百度博瑞网络科技有限公司',\n",
       "   'cid': 2344179270},\n",
       "  {'area': '其他',\n",
       "   'score': 0,\n",
       "   'total': 12,\n",
       "   'companyName': '宁波梅山保税港区百度致新资产管理有限公司',\n",
       "   'cid': 3102575943}],\n",
       " 'name': '梁志祥',\n",
       " 'introduction': '梁志祥，百度有钱花CEO。梁志祥，百度副总裁兼CEO助理。北京百付宝科技有限公司执行董事。梁志祥毕业于美国耶鲁大学法学院，获得硕士学位。之前，梁志祥曾获得北京大学法学院，澳大利亚新南威尔士大学法学院法律学位。梁志祥曾供职于中国国务院法制办公室、君合律师事务所，并曾在美国达维律师事务所Davis Polk & Wardwell LLP纽约总部进行工作交流。\\n2005年6月加盟百度，2011年6月晋升为副总裁，并担任总法律顾问，2013年1月起兼任CEO助理。',\n",
       " 'partnerNum': 0,\n",
       " 'cid': 22822}"
      ]
     },
     "execution_count": 85,
     "metadata": {},
     "output_type": "execute_result"
    }
   ],
   "source": [
    "a['legalInfo']"
   ]
  },
  {
   "cell_type": "code",
   "execution_count": 26,
   "metadata": {
    "ExecuteTime": {
     "end_time": "2021-06-17T09:24:15.932218Z",
     "start_time": "2021-06-17T09:24:15.918203Z"
    },
    "collapsed": true
   },
   "outputs": [
    {
     "data": {
      "text/plain": [
       "{'baseInfo': '百度，全球最大的中文搜索引擎、最大的中文网站。2000年1月创立于北京中关村。1999年底，身在美国硅谷的李彦宏看到了中国互联网及中文搜索引擎服务的巨大发展潜力，抱着技术改变世界的梦想，他毅然辞掉硅谷的高薪工作，携搜索引擎专利技术，于2000年1月1日在中关村创建了百度公司。从最初的不足10人发展至今，员工人数超过18000人。如今的百度，已成为中国最受欢迎、影响力最大的中文网站。百度拥有数千名研发工程师，这是中国乃至全球最为优秀的技术团队，这支队伍掌握着世界上最为先进的搜索引擎技术，使百度成为中国掌握世界尖端科学核心技术的中国高科技企业，也使中国成为美国、俄罗斯、和韩国之外，全球仅有的4个拥有搜索引擎核心技术的国家之一。从创立之初，百度便将“让人们最平等、便捷地获取信息，找到所求”作为自己的使命，成立以来，公司秉承“以用户为导向”的理念，不断坚持技术创新，致力于为用户提供“简单，可依赖”的互联网搜索产品及服务，其中包括：以网络搜索为主的功能性搜索，以贴吧为主的社区搜索，针对各区域、行业所需的垂直搜索，Mp3搜索，以及门户频道、IM等，全面覆盖了中文网络世界所有的搜索需求，根据第三方权威数据，百度在中国的搜索份额超过80%。在面对用户的搜索产品不断丰富的同时，百度还创新性地推出了基于搜索的营销推广服务，并成为最受企业青睐的互联网营销推广平台。如今，中国已有数十万家企业使用了百度的搜索推广服务，不断提升企业自身的品牌及运营效率。通过持续的商业模式创新，百度正进一步带动整个互联网行业和中小企业的经济增长，推动社会经济的发展和转型。为推动中国数百万中小网站的发展，百度借助超大流量的平台优势，联合所有优质的各类网站，建立了世界上最大的网络联盟，使各类企业的搜索推广、品牌营销的价值、覆盖面均大面积提升。与此同时，各网站也在联盟大家庭的互助下，获得最大的生存与发展机会。作为国内的一家知名企业，百度也一直秉承“弥合信息鸿沟，共享知识社会”的责任理念，坚持履行企业公民的社会责任。成立来，百度利用自身优势积极投身公益事业，先后投入巨大资源，为盲人、少儿、老年人群体打造专门的搜索产品，解决了特殊群体上网难问题,极大地弥补了社会信息鸿沟问题。此外，在加速推动中国信息化进程、净化网络环境、搜索引擎教育及提升大学生就业率等方面，百度也一直走在行业领先的地位。2011年初，百度还特别成立了百度基金会，围绕知识教育、环境保护、灾难救助等领域，更加系统规范地管理和践行公益事业。2005年，百度在美国纳斯达克上市，一举打破首日涨幅最高等多项纪录，并成为首家进入纳斯达克成分股的中国公司。通过数年来的市场表现，百度优异的业绩与值得依赖的回报，使之成为中国企业价值的代表，傲然屹立于全球资本市场。2009年，百度推出全新的框计算技术概念，并基于此理念推出百度开放平台，帮助更多优秀的第三方开发者利用互联网平台自主创新、自主创业，在大幅提升网民互联网使用体验的同时，带动起围绕用户需求进行研发的产业创新热潮，对中国互联网产业的升级和发展产生巨大的拉动效应。随着中国互联网从PC端向移动端转型，百度也在积极围绕核心战略加大对移动和云领域的投入和布局，不断把PC领域的优势向移动领域扩展。在通过技术创新不断满足用户的移动搜索需求的同时，百度也在继续积极推动移动云生态系统的建设和发展，与产业实现共赢。2012年9月，百度面向开发者全面开放包括云存储、大数据智能和云计算在内的核心云能力，为开发者量身定制从开发到运营的“七种武器”，为开发者提供更强大的技术运营支持与推广变现保障，以帮助他们在移动云时代获得更好的收益和成长。如今，百度已经成为中国最具价值的品牌之一，英国《金融时报》将百度列为“中国十大世界级品牌”，成为这个榜单中最年轻的一家公司，也是唯一一家互联网公司。而“亚洲最受尊敬企业”、“全球最具创新力企业”、“中国互联网力量之星”等一系列荣誉称号的获得，也无一不向外界展示着百度成立数年来的成就。多年来，百度董事长兼CEO李彦宏，率领百度人所形成的“简单可依赖”的核心文化，深深地植根于百度。这是一个充满朝气、求实坦诚的公司，以搜索改变生活，推动人类的文明与进步，促进中国经济的发展为己任，正朝着更为远大的目标而迈进。',\n",
       " 'regStatus': '存续',\n",
       " 'flag': 1,\n",
       " 'regCapital': '1342128万人民币',\n",
       " 'industry': '软件和信息技术服务业',\n",
       " 'phoneList': ['010-59928888', '56798989', '59928888'],\n",
       " 'baiduAuthURLWWW': '',\n",
       " 'type': 1,\n",
       " 'updateTimes': 1623906204000,\n",
       " 'pricingPackage': 1,\n",
       " 'equityUrl': 'https://cdn.tianyancha.com/equity/13b9135a67629b29481d5d039bb24cae.png',\n",
       " 'legalPersonName': '梁志祥',\n",
       " 'property4': '110108802100433',\n",
       " 'regNumber': '110108002734659',\n",
       " 'property3': 'Beijing Baidu Netcom Science and Technology Co.,Ltd.',\n",
       " 'creditCode': '91110000802100433B',\n",
       " 'approvedTime': 1611590400000,\n",
       " 'fromTime': 991670400000,\n",
       " 'logo': 'https://img5.tianyancha.com/logo/lll/1dfcb74d2e5ecd07a0fb5bb45171983b.png@!f_200x200',\n",
       " 'companyOrgType': '有限责任公司(自然人投资或控股)',\n",
       " 'baiduAuthURLWAP': '',\n",
       " 'id': 22822,\n",
       " 'orgNumber': '802100433',\n",
       " 'isClaimed': 0,\n",
       " 'sourceFlag': '',\n",
       " 'correctCompanyId': '',\n",
       " 'email': '',\n",
       " 'actualCapital': '-',\n",
       " 'estiblishTime': 991670400000,\n",
       " 'regInstitute': '北京市海淀区市场监督管理局',\n",
       " 'companyType': 32767,\n",
       " 'entityType': 1,\n",
       " 'portray': '',\n",
       " 'haveReport': True,\n",
       " 'businessScope': '技术转让、技术咨询、技术服务、技术培训、技术推广；设计、开发、销售计算机软件；经济信息咨询；利用www.baidu.com、www.hao123.com(www.hao222.net、www.hao222.com)网站发布广告；设计、制作、代理、发布广告；货物进出口、技术进出口、代理进出口；医疗软件技术开发；委托生产电子产品、玩具、照相器材；销售家用电器、机械设备、五金交电（不含电动自行车）、电子产品、文化用品、照相器材、计算机、软件及辅助设备、化妆品、卫生用品、体育用品、纺织品、服装、鞋帽、日用品、家具、首饰、避孕器具、工艺品、钟表、眼镜、玩具、汽车及摩托车配件、仪器仪表、塑料制品、花、草及观赏植物、建筑材料、通讯设备、汽车电子产品、器件和元件、自行开发后的产品；预防保健咨询；公园门票、文艺演出、体育赛事、展览会票务代理；翻译服务；通讯设备和电子产品的技术开发；计算机系统服务；车联网技术开发；汽车电子产品设计、研发、制造（北京市中心城区除外）；演出经纪；人才中介服；经营电信业务；利用信息网络经营音乐娱乐产品、演出剧（节）目、动漫产品、游戏产品（含网络游戏虚拟货币发行）、表演、网络游戏技法展示或解说（网络文化经营许可证有效期至2020年04月17日）；因特网信息服务业务（除出版、教育、医疗保健以外的内容）；图书、电子出版物、音像制品批发、零售、网上销售。（市场主体依法自主选择经营项目，开展经营活动；演出经纪、人才中介服务、利用信息网络经营音乐娱乐产品、演出剧（节）目、动漫产品、游戏产品（含网络游戏虚拟货币发行）、表演、网络游戏技法展示或解说、经营电信业务以及依法须经批准的项目，经相关部门批准后依批准的内容开展经营活动；不得从事国家和本市产业政策禁止和限制类项目的经营活动。）',\n",
       " 'taxNumber': '91110000802100433B',\n",
       " 'regLocation': '北京市海淀区上地十街10号百度大厦2层',\n",
       " 'websiteList': 'www.baidu.com',\n",
       " 'legalPersonId': 2020172991,\n",
       " 'companyId': 22822,\n",
       " 'phoneNumber': '010-59928888',\n",
       " 'legalInfo': {'serviceType': 1,\n",
       "  'hid': 2020172991,\n",
       "  'headUrl': 'https://imgh.tianyancha.com/logo/human/6ff8167b5f997bfe7372b271e9d471c2_d200x200.png',\n",
       "  'office': [{'area': '北京',\n",
       "    'score': 0,\n",
       "    'total': 20,\n",
       "    'companyName': '北京百度网讯科技有限公司',\n",
       "    'cid': 22822},\n",
       "   {'area': '福建',\n",
       "    'score': 0,\n",
       "    'total': 4,\n",
       "    'companyName': '福建百度博瑞网络科技有限公司',\n",
       "    'cid': 2344179270},\n",
       "   {'area': '其他',\n",
       "    'score': 0,\n",
       "    'total': 12,\n",
       "    'companyName': '宁波梅山保税港区百度致新资产管理有限公司',\n",
       "    'cid': 3102575943}],\n",
       "  'companyNum': 36,\n",
       "  'bossCertificate': -1,\n",
       "  'coopCount': 0,\n",
       "  'serviceCount': 28,\n",
       "  'officeV1': [{'area': '北京',\n",
       "    'score': 0,\n",
       "    'total': 20,\n",
       "    'companyName': '北京百度网讯科技有限公司',\n",
       "    'cid': 22822},\n",
       "   {'area': '福建',\n",
       "    'score': 0,\n",
       "    'total': 4,\n",
       "    'companyName': '福建百度博瑞网络科技有限公司',\n",
       "    'cid': 2344179270},\n",
       "   {'area': '其他',\n",
       "    'score': 0,\n",
       "    'total': 12,\n",
       "    'companyName': '宁波梅山保税港区百度致新资产管理有限公司',\n",
       "    'cid': 3102575943}],\n",
       "  'name': '梁志祥',\n",
       "  'introduction': '梁志祥，百度有钱花CEO。梁志祥，百度副总裁兼CEO助理。北京百付宝科技有限公司执行董事。梁志祥毕业于美国耶鲁大学法学院，获得硕士学位。之前，梁志祥曾获得北京大学法学院，澳大利亚新南威尔士大学法学院法律学位。梁志祥曾供职于中国国务院法制办公室、君合律师事务所，并曾在美国达维律师事务所Davis Polk & Wardwell LLP纽约总部进行工作交流。\\n2005年6月加盟百度，2011年6月晋升为副总裁，并担任总法律顾问，2013年1月起兼任CEO助理。',\n",
       "  'partnerNum': 0,\n",
       "  'cid': 22822},\n",
       " 'categoryScore': 9436,\n",
       " 'isHightTech': '1',\n",
       " 'name': '北京百度网讯科技有限公司',\n",
       " 'percentileScore': 9972,\n",
       " 'updatetime': 1623906207611,\n",
       " 'base': 'bj'}"
      ]
     },
     "execution_count": 26,
     "metadata": {},
     "output_type": "execute_result"
    }
   ],
   "source": [
    "a"
   ]
  },
  {
   "cell_type": "code",
   "execution_count": null,
   "metadata": {},
   "outputs": [],
   "source": []
  },
  {
   "cell_type": "code",
   "execution_count": null,
   "metadata": {},
   "outputs": [],
   "source": []
  },
  {
   "cell_type": "markdown",
   "metadata": {},
   "source": [
    "## 测试字段重合"
   ]
  },
  {
   "cell_type": "markdown",
   "metadata": {},
   "source": [
    "### 数据测试"
   ]
  },
  {
   "cell_type": "code",
   "execution_count": null,
   "metadata": {},
   "outputs": [],
   "source": []
  },
  {
   "cell_type": "code",
   "execution_count": 13,
   "metadata": {
    "ExecuteTime": {
     "end_time": "2021-06-30T10:09:32.129498Z",
     "start_time": "2021-06-30T10:09:32.120498Z"
    },
    "code_folding": [
     0
    ]
   },
   "outputs": [],
   "source": [
    "x = json.loads('''{\n",
    "    \"type=2\": {\n",
    "        \"result\": {\n",
    "            \"mortgageS\": \"有\",\n",
    "            \"regStatus\": \"仍注册\",\n",
    "            \"estiblishTime\": 1196092800000,\n",
    "            \"entityType\": 2,\n",
    "            \"remarksS\": \"-\",\n",
    "            \"haveReport\": false,\n",
    "            \"nameEn\": \"Baidu (Hong Kong) Limited\",\n",
    "            \"companyNum\": \"1189285\",\n",
    "            \"name\": \"百度（香港）有限公司\",\n",
    "            \"nameTraditional\":\"百度（香港）有限公司\",\n",
    "            \"importantItemsS\": \"-\",\n",
    "            \"logo\": \"https://img5.tianyancha.com/logo/lll/70f7ed38dd88a566a437de3aede00af8.png@!f_200x200\",\n",
    "            \"companyOrgType\": \"私人股份有限公司\",\n",
    "            \"liquidationModeS\": \"-\",\n",
    "            \"id\": 3076714958,\n",
    "            \"toTime\": null,\n",
    "            \"base\": \"hk\"\n",
    "        },\n",
    "        \"reason\": \"ok\",\n",
    "        \"error_code\": 0\n",
    "    },\n",
    "    \"type=3\": {\n",
    "        \"result\": {\n",
    "            \"regStatus\": \"正常\",\n",
    "            \"types\": \"社会团体\",\n",
    "            \"businessUnit\": \"上海市人民政府合作交流办公室\",\n",
    "            \"regCapital\": \"3万元\",\n",
    "            \"regInstitute\": \"上海市民政局\",\n",
    "            \"entityType\": 3,\n",
    "            \"haveReport\": false,\n",
    "            \"businessScope\": \"组织商务考察、展览展示、信息交流等活动；提供经济协作、业务培训、商务咨询等服务；开展公益项目。\",\n",
    "            \"registrationDateStr\": \"2000-08-01\",\n",
    "            \"regLocation\": \"田林东路55号汇阳广场1208室\",\n",
    "            \"phoneList\": [\"56358501\"],\n",
    "            \"legalPersonName\": \"于富民\",\n",
    "            \"websiteList\": \"www.jlccs.org/\",\n",
    "            \"expiryDate\": \"2018-06-28 至 2022-04-08\",\n",
    "            \"creditCode\": \"513100005017777077\",\n",
    "            \"phoneNumber\": \"56358501\",\n",
    "            \"registrationDate\": 965059200000,\n",
    "            \"name\": \"上海市吉林商会\",\n",
    "            \"logo\": \"https://img5.tianyancha.com/logo/lll/5791e3ae93972914a62d12591adebc50.png@!f_200x200\",\n",
    "            \"id\": 3096753298\n",
    "        },\n",
    "        \"reason\": \"ok\",\n",
    "        \"error_code\": 0\n",
    "    },\n",
    "    \"type=4\": {\n",
    "        \"result\": {\n",
    "            \"baseInfo\": \"锦天城律师事务所（“锦天城”）是一家提供全方位法律服务的、全国领先的中国律师事务所，是一家总部设在上海的全国性律师事务所。锦天城在中国大陆十八大城市（北京、深圳、杭州、苏州、南京、成都、重庆、太原、青岛、厦门、天津、济南、合肥、郑州、福州、南昌、西安、广州）及在香港开设分所，并在香港、深圳前海与史蒂文生黄律师事务所联营。锦天城致力于在瞬息万变的商业环境中为境内外客户制定法律解决方案并提供法律服务。\",\n",
    "            \"approvalDate\": \"1999-04-09\",\n",
    "            \"regCapital\": \"\",\n",
    "            \"phoneList\": [\"13524646469\"],\n",
    "            \"uuid\": \"3de02fa2b8d244479daa8882149ed9ea\",\n",
    "            \"legalPersonName\": \"顾功耘\",\n",
    "            \"practiceState\": \"正常\",\n",
    "            \"creditCode\": \"31310000425097688X\",\n",
    "            \"headquartersBranch\": \"\",\n",
    "            \"businessExpertise\": \"\",\n",
    "            \"logo\": \"https://img5.tianyancha.com/logo/lll/4b455034766a96bad1473a08b6622036.png@!f_200x200\",\n",
    "            \"id\": 3077495166,\n",
    "            \"creditRating\": \"\",\n",
    "            \"email\": \"\",\n",
    "            \"summary\": \"\",\n",
    "            \"organizationForm\": \"特殊的普通合伙\",\n",
    "            \"entityType\": 4,\n",
    "            \"haveReport\": false,\n",
    "            \"taxNumber\": \"\",\n",
    "            \"regLocation\": \"银城中路501号上海中心大厦11、12层\",\n",
    "            \"dateOfIssue\": \"\",\n",
    "            \"authorities\": \"浦东新区司法局\",\n",
    "            \"websiteList\": \"http://www.allbrightlaw.com\",\n",
    "            \"phoneNumber\": \"13524646469\",\n",
    "            \"dateOfEstablishment\": \"\",\n",
    "            \"name\": \"上海市锦天城律师事务所\",\n",
    "            \"permit\": \"23101199920121031\"\n",
    "        },\n",
    "        \"reason\": \"ok\",\n",
    "        \"error_code\": 0\n",
    "    },\n",
    "    \"type=5\": {\n",
    "        \"result\": {\n",
    "            \"baseInfo\": null,\n",
    "            \"regStatus\": null,\n",
    "            \"regCapital\": \"1571万元\",\n",
    "            \"expendSource\": \"财政补助差额补贴\",\n",
    "            \"phoneList\": [],\n",
    "            \"nameSecond\": null,\n",
    "            \"regUnitNameThird\": null,\n",
    "            \"legalPersonName\": \"黄军元\",\n",
    "            \"usCreditCode\": \"12652301457757636J\",\n",
    "            \"scope\": \"管理园林绿地，美化城市环境。 城市园林绿地系统规划、建设、管理与维护 城市园林绿化区的护林防火、种植、繁植和生产各种绿化环境苗木、花草（相关社会服务）\",\n",
    "            \"logo\": \"https://img5.tianyancha.com/logo/lll/7a0bf3b8f8b3acfad260cb9048b59a12.png@!f_200x200\",\n",
    "            \"id\": 3098482275,\n",
    "            \"regUnitName\": null,\n",
    "            \"holdUnit\": \"昌吉市住房和城乡建设局\",\n",
    "            \"address\": \"昌吉市乌伊东路98号\",\n",
    "            \"regUnitNameOther\": null,\n",
    "            \"entityType\": 5,\n",
    "            \"haveReport\": false,\n",
    "            \"regLocation\": \"昌吉市乌伊东路98号\",\n",
    "            \"oldCert\": null,\n",
    "            \"nameOther\": null,\n",
    "            \"legalPersonId\": null,\n",
    "            \"regTime\": null,\n",
    "            \"phoneNumber\": \"\",\n",
    "            \"nameThird\": null,\n",
    "            \"name\": \"昌吉市园林绿化管理局\",\n",
    "            \"validTime\": null,\n",
    "            \"regUnitNameSecond\": null,\n",
    "            \"base\": \"xj\"\n",
    "        },\n",
    "        \"reason\": \"ok\",\n",
    "        \"error_code\": 0\n",
    "    },\n",
    "    \"type=6\": {\n",
    "        \"result\": {\n",
    "            \"englishName\": \"Han Hong Love Charity Foundation\",\n",
    "            \"regStatus\": \"正常\",\n",
    "            \"businessUnit\": \"北京市民政局\",\n",
    "            \"regCapital\": \"200万\",\n",
    "            \"purpose\": \"弘扬正气，奉献爱心，扶危济困，和谐共生。\",\n",
    "            \"emailList\": [\"hhaxcsjjh@sina.com\"],\n",
    "            \"historyName\": \"\",\n",
    "            \"provinceWorkerNumber\": \"0\",\n",
    "            \"phoneList\": [\"010-82961016\"],\n",
    "            \"type\": 1,\n",
    "            \"employeeNumber\": \"10\",\n",
    "            \"specialFundNumber\": \"0\",\n",
    "            \"legalPersonName\": \"李建\",\n",
    "            \"nationalWorkerNumber\": \"0\",\n",
    "            \"creditCode\": \"53110000596078609T\",\n",
    "            \"secretary\": \"王增娟\",\n",
    "            \"establishTime\": 1336492800000,\n",
    "            \"orgCode\": \"596078609\",\n",
    "            \"scope\": \"地方\",\n",
    "            \"volunteerNumber\": \"300\",\n",
    "            \"logo\": \"https://img5.tianyancha.com/logo/lll/46a37dbb08611ede9f4712b2f4ef6224.png@!f_200x200\",\n",
    "            \"id\": 3079058468,\n",
    "            \"fax\": \"010-82961016\",\n",
    "            \"department\": \"北京市\",\n",
    "            \"email\": \"hhaxcsjjh@sina.com\",\n",
    "            \"website\": \"www.hhax.org\",\n",
    "            \"estiblishTime\": 1336492800000,\n",
    "            \"address\": \"北京市朝阳区东三环北路甲2号京信大厦2126室\",\n",
    "            \"entityType\": 6,\n",
    "            \"postcode\": \"100088\",\n",
    "            \"haveReport\": false,\n",
    "            \"businessScope\": \"（一）扶助危难贫困人群（二）帮扶少数民族地区（三）资助社会福利机构（四）传播慈善公益文化。\",\n",
    "            \"telephone\": \"010-82961016\",\n",
    "            \"regLocation\": \"北京市朝阳区东三环北路甲2号京信大厦2126室\",\n",
    "            \"websiteList\": \"www.hhax.org\",\n",
    "            \"legalPersonId\": 0,\n",
    "            \"phoneNumber\": \"010-82961016\",\n",
    "            \"field\": \"扶贫助困，少数民族\",\n",
    "            \"createTime\": 1505286840000,\n",
    "            \"grade\": \"4A\",\n",
    "            \"name\": \"北京韩红爱心慈善基金会\",\n",
    "            \"preferentialQualificationType\": \"公益性捐赠税前扣除资格\",\n",
    "            \"dataSource\": \"民政部门公告\",\n",
    "            \"contacts\": \"李曼\",\n",
    "            \"contactDuty\": \"项目主任\"\n",
    "        },\n",
    "        \"reason\": \"ok\",\n",
    "        \"error_code\": 0\n",
    "    },\n",
    "    \"type=9\": {\n",
    "        \"result\": {\n",
    "            \"regStatus\": \"正常\",\n",
    "            \"website\": \"\",\n",
    "            \"address\": \"北京市大兴区黄村镇桂村村民委员会\",\n",
    "            \"regCapital\": \"0万元人民币\",\n",
    "            \"industryCategory\": \"\",\n",
    "            \"regInstitute\": \"北京市大兴区民政局\",\n",
    "            \"entityType\": 9,\n",
    "            \"businessScope\": \"\",\n",
    "            \"legalPersonName\": \"桂庆杰\",\n",
    "            \"expiryDate\": \"2019-07-01 至 2024-06-30\",\n",
    "            \"legalPersonId\": 2017723365,\n",
    "            \"orgType\": \"村民委员会\",\n",
    "            \"regNumber\": \"\",\n",
    "            \"creditCode\": \"5411011510285412XP\",\n",
    "            \"establishTime\": 2209017600000,\n",
    "            \"phone\": \"\",\n",
    "            \"businessUni\": \"\",\n",
    "            \"name\": \"北京市大兴区黄村镇桂村村民委员会\",\n",
    "            \"base\": \"bj\"\n",
    "        },\n",
    "        \"reason\": \"ok\",\n",
    "        \"error_code\": 0\n",
    "    }\n",
    "}''')"
   ]
  },
  {
   "cell_type": "code",
   "execution_count": 14,
   "metadata": {
    "ExecuteTime": {
     "end_time": "2021-06-30T10:09:32.430718Z",
     "start_time": "2021-06-30T10:09:32.424715Z"
    }
   },
   "outputs": [],
   "source": [
    "y = {k : {*v['result']} for k, v in x.items()}"
   ]
  },
  {
   "cell_type": "code",
   "execution_count": 15,
   "metadata": {
    "ExecuteTime": {
     "end_time": "2021-06-30T10:09:32.684719Z",
     "start_time": "2021-06-30T10:09:32.678711Z"
    }
   },
   "outputs": [],
   "source": [
    "for i in range(10):\n",
    "    exec(f'a{i} = y.get(\"type={i}\",None)')"
   ]
  },
  {
   "cell_type": "code",
   "execution_count": 16,
   "metadata": {
    "ExecuteTime": {
     "end_time": "2021-06-30T10:09:33.474715Z",
     "start_time": "2021-06-30T10:09:33.462713Z"
    }
   },
   "outputs": [
    {
     "data": {
      "text/plain": [
       "{'entityType', 'haveReport', 'id', 'logo', 'name'}"
      ]
     },
     "execution_count": 16,
     "metadata": {},
     "output_type": "execute_result"
    }
   ],
   "source": [
    "a2&a3&a4&a5&a6"
   ]
  },
  {
   "cell_type": "code",
   "execution_count": 17,
   "metadata": {
    "ExecuteTime": {
     "end_time": "2021-06-30T10:09:34.531366Z",
     "start_time": "2021-06-30T10:09:34.521360Z"
    }
   },
   "outputs": [
    {
     "data": {
      "text/plain": [
       "{'entityType', 'name'}"
      ]
     },
     "execution_count": 17,
     "metadata": {},
     "output_type": "execute_result"
    }
   ],
   "source": [
    "a2&a3&a4&a5&a6&a9"
   ]
  },
  {
   "cell_type": "code",
   "execution_count": 18,
   "metadata": {
    "ExecuteTime": {
     "end_time": "2021-06-30T10:09:35.003739Z",
     "start_time": "2021-06-30T10:09:34.997737Z"
    }
   },
   "outputs": [],
   "source": [
    "def f (s):\n",
    "    return {x.strip().split()[0] for x in s.split('\\n')}"
   ]
  },
  {
   "cell_type": "code",
   "execution_count": 19,
   "metadata": {
    "ExecuteTime": {
     "end_time": "2021-06-30T10:09:35.488737Z",
     "start_time": "2021-06-30T10:09:35.481737Z"
    }
   },
   "outputs": [],
   "source": [
    "def g (s):\n",
    "    return s in b1, s in b2, s in b3, s in b4, s in b5, s in b6"
   ]
  },
  {
   "cell_type": "markdown",
   "metadata": {
    "heading_collapsed": true
   },
   "source": [
    "### 文档测试"
   ]
  },
  {
   "cell_type": "code",
   "execution_count": 20,
   "metadata": {
    "ExecuteTime": {
     "end_time": "2021-06-30T10:09:37.147767Z",
     "start_time": "2021-06-30T10:09:37.142765Z"
    },
    "code_folding": [
     0
    ],
    "hidden": true
   },
   "outputs": [],
   "source": [
    "b6 = f('''    regStatus String 经营状态\n",
    "    businessUnit String 业务主管单位\n",
    "    emailList Array email地址\n",
    "    provinceWorkerNumber String 负责⼈中担任过省部级⼯作⼈员数\n",
    "    phoneList Array 企业联系⽅式列表\n",
    "    baiduAuthURLWWW String ⽆⽤\n",
    "    type Number\n",
    "    employeeNumber String 全职员⼯数量\n",
    "    nationalWorkerNumber String 负责⼈中国家⼯作⼈员数\n",
    "    establishTime Number 成⽴时间\n",
    "    volunteerNumber String 志愿者数量\n",
    "    logo String logo\n",
    "    id Number 基⾦会id\n",
    "    fax String 传真\n",
    "    isClaimed Number 弃⽤\n",
    "    entityType Number 1-公司，2-⾹港公司，3-社会组织，4-律所，5-事业单位，6-基⾦会\n",
    "    postcode String 邮政编码\n",
    "    haveReport Boolean 是否有年报\n",
    "    businessScope String 业务范围\n",
    "    telephone String 电话\n",
    "    phoneNumber String 企业联系⽅式\n",
    "    field String 关注领域\n",
    "    grade String 评估等级\n",
    "    name String 基⾦名称\n",
    "    preferentialQualificationType String 优惠资格类型\n",
    "    dataSource String 数据来源\n",
    "    baseInfo String 基⾦会介绍\n",
    "    englishName String 基⾦会英⽂名称\n",
    "    regCapital String 注册资本\n",
    "    purpose String 宗旨\n",
    "    historyName String 历史名\n",
    "    pricingPackage Number 弃⽤\n",
    "    specialFundNumber String 专项基⾦数\n",
    "    legalPersonName String 法⼈\n",
    "    secretary String 秘书⻓\n",
    "    creditCode String 统⼀社会信⽤代码\n",
    "    weibo null 微博\n",
    "    orgCode String 组织机构代码\n",
    "    scope String 基⾦会范围\n",
    "    baiduAuthURLWAP String ⽆⽤\n",
    "    department String 登记部⻔\n",
    "    email String 邮箱\n",
    "    website String ⽹址\n",
    "    estiblishTime Number\n",
    "    address String 地址\n",
    "    regLocation String 地址\n",
    "    websiteList String 企业⽹站\n",
    "    legalPersonId Number 法⼈id\n",
    "    createTime Number 创建时间\n",
    "    rladdress String 公司地址\n",
    "    contacts String 对外联系⼈姓名\n",
    "    contactDuty ''')"
   ]
  },
  {
   "cell_type": "code",
   "execution_count": 21,
   "metadata": {
    "ExecuteTime": {
     "end_time": "2021-06-30T10:09:37.422767Z",
     "start_time": "2021-06-30T10:09:37.418765Z"
    },
    "code_folding": [
     0
    ],
    "hidden": true
   },
   "outputs": [],
   "source": [
    "b5 = f ('''baseInfo String 企业介绍\n",
    "    regStatus String 经营状态\n",
    "    regCapital String 注册资本\n",
    "    emailList Array 企业邮箱列表\n",
    "    expendSource String 经费来源\n",
    "    phoneList Array 企业联系⽅式列表\n",
    "    regUnit String 举办单位\n",
    "    baiduAuthURLWWW String ⽆⽤\n",
    "    type Number\n",
    "    regUnitNameThird String 第三举办单位\n",
    "    nameSecond String 第⼆名称\n",
    "    pricingPackage Number ⽆⽤\n",
    "    legalPersonName String 法⼈\n",
    "    usCreditCode String 统⼀社会信⽤代码\n",
    "    weibo null 微博\n",
    "    scope String 宗旨和业务范围\n",
    "    logo String logo\n",
    "    baiduAuthURLWAP String ⽆⽤\n",
    "    id Number id\n",
    "    regUnitName String 举办单位名称\n",
    "    isClaimed Number ⽆⽤\n",
    "    email String 邮箱\n",
    "    holdUnit String 登记管理机关\n",
    "    address String 地址\n",
    "    regUnitNameOther String 其它举办单位\n",
    "    entityType Number\n",
    "    haveReport Boolean 是否有年报\n",
    "    regLocation String 地址\n",
    "    oldCert String 原证书号\n",
    "    nameOther String 其他名称\n",
    "    websiteList String ⽹址\n",
    "    companyNum String 公司编号\n",
    "    legalPersonId Number 法⼈id\n",
    "    regTime String 设⽴登记时间\n",
    "    phoneNumber String 企业联系⽅式\n",
    "    rladdress String 地址\n",
    "    nameThird String 第三名称\n",
    "    name String 单位名称\n",
    "    validTime String 有效期\n",
    "    regUnitNameSecond String 第⼆举办单位\n",
    "    base''')"
   ]
  },
  {
   "cell_type": "code",
   "execution_count": 22,
   "metadata": {
    "ExecuteTime": {
     "end_time": "2021-06-30T10:09:37.656768Z",
     "start_time": "2021-06-30T10:09:37.651765Z"
    },
    "code_folding": [
     0
    ],
    "hidden": true
   },
   "outputs": [],
   "source": [
    "b4 = f('''baseInfo String 企业简介\n",
    "    approvalDate String 核准时间\n",
    "    regCapital String 注册资本\n",
    "    emailList Array 企业邮箱列表\n",
    "    phoneList Array 企业联系⽅式列表\n",
    "    baiduAuthURLWWW String ⽆⽤\n",
    "    uuid String uuid\n",
    "    pricingPackage Number ⽆⽤\n",
    "    legalPersonName String 负责⼈\n",
    "    practiceState String 执业状态、状态\n",
    "    creditCode String 统⼀社会信⽤代码\n",
    "    weibo null 微博\n",
    "    headquartersBranch String 总所/分所\n",
    "    businessExpertise String 业务特⻓\n",
    "    logo String logo\n",
    "    baiduAuthURLWAP String ⽆⽤\n",
    "    id Number\n",
    "    isClaimed Number ⽆⽤\n",
    "    creditRating String 信⽤等级\n",
    "    email String 邮箱\n",
    "    summary String 律所简介\n",
    "    organizationForm String 组织形式\n",
    "    entityType Number\n",
    "    haveReport Boolean 是否有年报\n",
    "    taxNumber String 税务登记号\n",
    "    regLocation String 地址\n",
    "    dateOfIssue String\n",
    "    authorities String 主管机关\n",
    "    websiteList String ⽹址\n",
    "    phoneNumber String 企业联系⽅式\n",
    "    rladdress String 地址\n",
    "    permit String 证书\n",
    "    name String 律所名称\n",
    "    dateOfEstablishment ''')"
   ]
  },
  {
   "cell_type": "code",
   "execution_count": 23,
   "metadata": {
    "ExecuteTime": {
     "end_time": "2021-06-30T10:09:37.892766Z",
     "start_time": "2021-06-30T10:09:37.886766Z"
    },
    "code_folding": [
     0
    ],
    "hidden": true
   },
   "outputs": [],
   "source": [
    "b3 = f(''' baseInfo String ⽆⽤\n",
    "    regStatus String 经营状态\n",
    "    businessUnit String 业务主管单位\n",
    "    regCapital String 注册资本\n",
    "    emailList Array 企业邮箱列表\n",
    "    phoneList Array 企业联系⽅式列表\n",
    "    baiduAuthURLWWW String 弃⽤\n",
    "    pricingPackage Number ⽆⽤\n",
    "    legalPersonName String 法⼈\n",
    "    expiryDate String 证书有效期\n",
    "    creditCode String 统⼀信⽤代码\n",
    "    weibo null 微博\n",
    "    registrationDate Number 成⽴时间\n",
    "    logo String 公司logo\n",
    "    baiduAuthURLWAP String 弃⽤\n",
    "    id Number 公司id\n",
    "    isClaimed Number 弃⽤\n",
    "    email String 邮箱\n",
    "    types String 类型\n",
    "    regInstitute String 登记管理机关\n",
    "    entityType Number\n",
    "    haveReport Boolean 是否有年报\n",
    "    businessScope String 业务范围\n",
    "    regLocation String 注册地址\n",
    "    registrationDateStr String 成⽴登记⽇期\n",
    "    websiteList String\n",
    "    phoneNumber String 企业联系⽅式\n",
    "    rladdress String 地址\n",
    "    registrationNumber String 登记证号\n",
    "    name ''')"
   ]
  },
  {
   "cell_type": "code",
   "execution_count": 24,
   "metadata": {
    "ExecuteTime": {
     "end_time": "2021-06-30T10:09:38.136768Z",
     "start_time": "2021-06-30T10:09:38.131769Z"
    },
    "code_folding": [
     0
    ],
    "hidden": true
   },
   "outputs": [],
   "source": [
    "b2 = f('''mortgageS String 押记登记册\n",
    "    regStatus String 公司现状\n",
    "    estiblishTime Number 成⽴时间（毫秒数）\n",
    "    entityType Number\n",
    "    remarksS String 备注\n",
    "    haveReport Boolean 是否有年报\n",
    "    nameEn String 英⽂名\n",
    "    baiduAuthURLWWW String ⽆⽤\n",
    "    companyNum String 公司编号\n",
    "    weibo null 微博\n",
    "    name String 公司名称\n",
    "    logo String 公司logo\n",
    "    companyOrgType String 公司类型\n",
    "    liquidationModeS String 清盘模式\n",
    "    importantItemsS String 重要事项\n",
    "    baiduAuthURLWAP String ⽆⽤\n",
    "    id Number 公司id\n",
    "    isClaimed Number ⽆⽤\n",
    "    toTime null 结束时间\n",
    "    base ''')"
   ]
  },
  {
   "cell_type": "code",
   "execution_count": 25,
   "metadata": {
    "ExecuteTime": {
     "end_time": "2021-06-30T10:09:38.410772Z",
     "start_time": "2021-06-30T10:09:38.402766Z"
    },
    "code_folding": [
     0
    ],
    "hidden": true
   },
   "outputs": [],
   "source": [
    "b1 = f('''historyNames String 曾⽤名\n",
    "    regStatus String 企业状态\n",
    "    emailList Array 企业邮箱列表\n",
    "    phoneList Array 企业联系⽅式列表\n",
    "    bondNum String 股票号\n",
    "    baiduAuthURLWWW String ⽆意义\n",
    "    type Number 法⼈类型，1 ⼈ 2 公司\n",
    "    bondName String 股票名称\n",
    "    equityUrl String 股权结构图\n",
    "    property4 String 弃⽤\n",
    "    property3 String 英⽂名\n",
    "    usedBondName String 股票曾⽤名\n",
    "    approvedTime Number 核准时间\n",
    "    logo String logo（不建议使⽤）\n",
    "    id Number 公司id\n",
    "    orgNumber String 组织机构代码\n",
    "    isClaimed Number 弃⽤\n",
    "    sourceFlag String 数据来源\n",
    "    correctCompanyId String 新公司名id\n",
    "    entityType Number\n",
    "    portray String 企业描述\n",
    "    haveReport Boolean 是否有年报\n",
    "    businessScope String 经营范围\n",
    "    taxNumber String 纳税⼈识别号\n",
    "    tags String 企业标签\n",
    "    companyId Number 对应表id\n",
    "    phoneNumber String 企业联系⽅式\n",
    "    categoryScore Number ⾏业评分\n",
    "    isHightTech String 是否⾼新企业\n",
    "    name String 公司名称\n",
    "    percentileScore Number 企业评分(万分制)\n",
    "    baseInfo String 企业介绍\n",
    "    flag Number 0-显示 1-不显示(弃⽤)\n",
    "    regCapital String 注册资⾦\n",
    "    industry String ⾏业\n",
    "    updateTimes Number 更新时间\n",
    "    pricingPackage Number ⽆⽤\n",
    "    legalPersonName String 法⼈\n",
    "    regNumber String 注册号\n",
    "    creditCode String 统⼀社会信⽤代码\n",
    "    weibo null 微博\n",
    "    fromTime Number 经营开始时间\n",
    "    companyOrgType String 企业类型\n",
    "    baiduAuthURLWAP String ⽆意义\n",
    "    toTime Number 经营结束时间\n",
    "    email String 邮箱\n",
    "    actualCapital String 实收注册资本（⼯商已不公示）\n",
    "    estiblishTime Number 成⽴⽇期\n",
    "    regInstitute String 登记机关\n",
    "    companyType Number ⽆⽤\n",
    "    regLocation String 注册地址\n",
    "    property5 String ⽆⽤\n",
    "    websiteList String ⽹址\n",
    "    legalPersonId Number 法⼈id\n",
    "    legalInfo Array 法⼈信息\n",
    "    rladdress String 地址\n",
    "    bondType String 股票类型\n",
    "    updatetime Number 更新时间\n",
    "    base ''')"
   ]
  },
  {
   "cell_type": "code",
   "execution_count": 26,
   "metadata": {
    "ExecuteTime": {
     "end_time": "2021-06-30T10:09:38.543767Z",
     "start_time": "2021-06-30T10:09:38.432766Z"
    },
    "hidden": true
   },
   "outputs": [
    {
     "data": {
      "text/plain": [
       "(True, False, True, True, True, True)"
      ]
     },
     "execution_count": 26,
     "metadata": {},
     "output_type": "execute_result"
    }
   ],
   "source": [
    "g('baseInfo')"
   ]
  },
  {
   "cell_type": "code",
   "execution_count": 67,
   "metadata": {
    "ExecuteTime": {
     "end_time": "2021-06-17T10:12:48.075552Z",
     "start_time": "2021-06-17T10:12:48.065545Z"
    },
    "hidden": true
   },
   "outputs": [
    {
     "data": {
      "text/plain": [
       "(True, False, True, True, True, True)"
      ]
     },
     "execution_count": 67,
     "metadata": {},
     "output_type": "execute_result"
    }
   ],
   "source": [
    "g('phoneList')"
   ]
  },
  {
   "cell_type": "code",
   "execution_count": 68,
   "metadata": {
    "ExecuteTime": {
     "end_time": "2021-06-17T10:12:59.526965Z",
     "start_time": "2021-06-17T10:12:59.515960Z"
    },
    "hidden": true
   },
   "outputs": [
    {
     "data": {
      "text/plain": [
       "(False, False, False, False, False, True)"
      ]
     },
     "execution_count": 68,
     "metadata": {},
     "output_type": "execute_result"
    }
   ],
   "source": [
    "g('telephone')"
   ]
  },
  {
   "cell_type": "code",
   "execution_count": 70,
   "metadata": {
    "ExecuteTime": {
     "end_time": "2021-06-17T10:13:26.912308Z",
     "start_time": "2021-06-17T10:13:26.903308Z"
    },
    "hidden": true
   },
   "outputs": [
    {
     "data": {
      "text/plain": [
       "(True, False, True, True, True, True)"
      ]
     },
     "execution_count": 70,
     "metadata": {},
     "output_type": "execute_result"
    }
   ],
   "source": [
    "g('phoneNumber')"
   ]
  },
  {
   "cell_type": "code",
   "execution_count": 71,
   "metadata": {
    "ExecuteTime": {
     "end_time": "2021-06-17T10:18:02.521175Z",
     "start_time": "2021-06-17T10:18:02.510175Z"
    },
    "hidden": true
   },
   "outputs": [
    {
     "data": {
      "text/plain": [
       "(True, False, False, False, False, False)"
      ]
     },
     "execution_count": 71,
     "metadata": {},
     "output_type": "execute_result"
    }
   ],
   "source": [
    "g('portray')"
   ]
  },
  {
   "cell_type": "code",
   "execution_count": 27,
   "metadata": {
    "ExecuteTime": {
     "end_time": "2021-06-30T10:09:41.657359Z",
     "start_time": "2021-06-30T10:09:41.647359Z"
    },
    "hidden": true
   },
   "outputs": [
    {
     "data": {
      "text/plain": [
       "(True, False, False, False, False, False)"
      ]
     },
     "execution_count": 27,
     "metadata": {},
     "output_type": "execute_result"
    }
   ],
   "source": [
    "g('percentileScore')"
   ]
  },
  {
   "cell_type": "code",
   "execution_count": 74,
   "metadata": {
    "ExecuteTime": {
     "end_time": "2021-06-30T06:33:47.558227Z",
     "start_time": "2021-06-30T06:33:46.667151Z"
    },
    "hidden": true
   },
   "outputs": [
    {
     "data": {
      "text/plain": [
       "(True, False, True, True, True, True)"
      ]
     },
     "execution_count": 74,
     "metadata": {},
     "output_type": "execute_result"
    }
   ],
   "source": [
    "g('email')"
   ]
  },
  {
   "cell_type": "code",
   "execution_count": 75,
   "metadata": {
    "ExecuteTime": {
     "end_time": "2021-06-30T06:33:53.676151Z",
     "start_time": "2021-06-30T06:33:53.634152Z"
    },
    "hidden": true
   },
   "outputs": [
    {
     "data": {
      "text/plain": [
       "(True, False, True, True, True, True)"
      ]
     },
     "execution_count": 75,
     "metadata": {},
     "output_type": "execute_result"
    }
   ],
   "source": [
    "g('emailList')"
   ]
  },
  {
   "cell_type": "code",
   "execution_count": 77,
   "metadata": {
    "ExecuteTime": {
     "end_time": "2021-06-30T06:37:31.117253Z",
     "start_time": "2021-06-30T06:37:31.087255Z"
    },
    "hidden": true
   },
   "outputs": [
    {
     "data": {
      "text/plain": [
       "(False, False, False, False, True, True)"
      ]
     },
     "execution_count": 77,
     "metadata": {},
     "output_type": "execute_result"
    }
   ],
   "source": [
    "g('scope')"
   ]
  },
  {
   "cell_type": "code",
   "execution_count": 78,
   "metadata": {
    "ExecuteTime": {
     "end_time": "2021-06-30T06:37:44.154422Z",
     "start_time": "2021-06-30T06:37:44.135411Z"
    },
    "hidden": true
   },
   "outputs": [
    {
     "data": {
      "text/plain": [
       "(True, False, True, False, False, True)"
      ]
     },
     "execution_count": 78,
     "metadata": {},
     "output_type": "execute_result"
    }
   ],
   "source": [
    "g('businessScope')"
   ]
  },
  {
   "cell_type": "code",
   "execution_count": 28,
   "metadata": {
    "ExecuteTime": {
     "end_time": "2021-06-30T10:09:51.354106Z",
     "start_time": "2021-06-30T10:09:51.343108Z"
    },
    "hidden": true
   },
   "outputs": [
    {
     "data": {
      "text/plain": [
       "(True, False, False, False, False, False)"
      ]
     },
     "execution_count": 28,
     "metadata": {},
     "output_type": "execute_result"
    }
   ],
   "source": [
    "g('categoryScore')"
   ]
  },
  {
   "cell_type": "code",
   "execution_count": 80,
   "metadata": {
    "ExecuteTime": {
     "end_time": "2021-06-30T06:42:46.080297Z",
     "start_time": "2021-06-30T06:42:46.049296Z"
    },
    "hidden": true
   },
   "outputs": [
    {
     "data": {
      "text/plain": [
       "(True, False, False, False, True, True)"
      ]
     },
     "execution_count": 80,
     "metadata": {},
     "output_type": "execute_result"
    }
   ],
   "source": [
    "g('legalPersonId')"
   ]
  },
  {
   "cell_type": "code",
   "execution_count": 82,
   "metadata": {
    "ExecuteTime": {
     "end_time": "2021-06-30T06:53:55.687335Z",
     "start_time": "2021-06-30T06:53:55.675330Z"
    },
    "hidden": true
   },
   "outputs": [
    {
     "data": {
      "text/plain": [
       "(True, False, False, False, False, False)"
      ]
     },
     "execution_count": 82,
     "metadata": {},
     "output_type": "execute_result"
    }
   ],
   "source": [
    "g('legalInfo')"
   ]
  },
  {
   "cell_type": "code",
   "execution_count": 64,
   "metadata": {
    "ExecuteTime": {
     "end_time": "2021-06-17T10:05:28.000388Z",
     "start_time": "2021-06-17T10:05:27.993370Z"
    },
    "hidden": true
   },
   "outputs": [
    {
     "data": {
      "text/plain": [
       "{'baiduAuthURLWAP',\n",
       " 'baiduAuthURLWWW',\n",
       " 'entityType',\n",
       " 'haveReport',\n",
       " 'id',\n",
       " 'isClaimed',\n",
       " 'logo',\n",
       " 'name',\n",
       " 'weibo'}"
      ]
     },
     "execution_count": 64,
     "metadata": {},
     "output_type": "execute_result"
    }
   ],
   "source": [
    "b1 & b2 & b3 & b4 & b5 & b6"
   ]
  },
  {
   "cell_type": "code",
   "execution_count": 15,
   "metadata": {
    "ExecuteTime": {
     "end_time": "2021-06-17T08:53:45.679838Z",
     "start_time": "2021-06-17T08:53:45.671825Z"
    },
    "hidden": true
   },
   "outputs": [
    {
     "data": {
      "text/plain": [
       "'http://open.api.tianyancha.com//services/v4/open/xgbaseinfoV2?keyword=22822'"
      ]
     },
     "execution_count": 15,
     "metadata": {},
     "output_type": "execute_result"
    }
   ],
   "source": [
    "tyc.page"
   ]
  },
  {
   "cell_type": "code",
   "execution_count": 8,
   "metadata": {
    "ExecuteTime": {
     "end_time": "2021-04-19T11:11:49.469719Z",
     "start_time": "2021-04-19T11:11:49.456716Z"
    },
    "hidden": true
   },
   "outputs": [],
   "source": [
    "folder = 'baseInfo'\n",
    "files = [x.split('.')[0] for x in os.listdir(os.path.join(savePath, folder)) if x.endswith('.json')]"
   ]
  },
  {
   "cell_type": "markdown",
   "metadata": {},
   "source": [
    "## 获取id"
   ]
  },
  {
   "cell_type": "code",
   "execution_count": 31,
   "metadata": {
    "ExecuteTime": {
     "end_time": "2021-07-01T04:05:49.345001Z",
     "start_time": "2021-07-01T04:05:49.172212Z"
    }
   },
   "outputs": [],
   "source": [
    "db = MysqlProxy(mysqlIp, mysqlPort, mysqlUser, mysqlPassword, db=mysqlDb)"
   ]
  },
  {
   "cell_type": "code",
   "execution_count": 32,
   "metadata": {
    "ExecuteTime": {
     "end_time": "2021-07-01T04:05:51.644088Z",
     "start_time": "2021-07-01T04:05:51.562061Z"
    }
   },
   "outputs": [],
   "source": [
    "eids = db.select('id', 'tianyancha.enterprise')"
   ]
  },
  {
   "cell_type": "code",
   "execution_count": 50,
   "metadata": {
    "ExecuteTime": {
     "end_time": "2021-07-01T06:00:23.086282Z",
     "start_time": "2021-07-01T05:24:13.953026Z"
    },
    "scrolled": true
   },
   "outputs": [
    {
     "data": {
      "application/vnd.jupyter.widget-view+json": {
       "model_id": "c196694dc6ce41baacc6bb0956bc49e4",
       "version_major": 2,
       "version_minor": 0
      },
      "text/plain": [
       "HBox(children=(FloatProgress(value=0.0, layout=Layout(flex='2'), max=5144.0), HTML(value='')), layout=Layout(d…"
      ]
     },
     "metadata": {},
     "output_type": "display_data"
    },
    {
     "name": "stdout",
     "output_type": "stream",
     "text": [
      "\n"
     ]
    }
   ],
   "source": [
    "with tqdm(eids['id']) as tq:\n",
    "    for eid in tq:\n",
    "        frmt(eid, tqdm=tq)\n",
    "        xgb = tyc.xgBaseInfo(eid)\n",
    "        li = none2dict(xgb.get('legalInfo', None))\n",
    "        \n",
    "        et = xgb.get('entityType',0)\n",
    "        if et == 1 or li:\n",
    "            ourLog(eid, et, len(li), li.get('name',None), li.get('alias', None))"
   ]
  },
  {
   "cell_type": "code",
   "execution_count": 75,
   "metadata": {
    "ExecuteTime": {
     "end_time": "2021-07-01T09:24:01.617518Z",
     "start_time": "2021-07-01T09:24:01.606515Z"
    }
   },
   "outputs": [
    {
     "data": {
      "text/plain": [
       "True"
      ]
     },
     "execution_count": 75,
     "metadata": {},
     "output_type": "execute_result"
    }
   ],
   "source": [
    "{'total': 0} == {'total' : 0}"
   ]
  },
  {
   "cell_type": "code",
   "execution_count": 74,
   "metadata": {
    "ExecuteTime": {
     "end_time": "2021-07-01T09:15:43.367307Z",
     "start_time": "2021-07-01T09:15:43.356302Z"
    }
   },
   "outputs": [
    {
     "data": {
      "text/plain": [
       "{'total': 0}"
      ]
     },
     "execution_count": 74,
     "metadata": {},
     "output_type": "execute_result"
    }
   ],
   "source": [
    "tyc.xgBaseInfo(1983149749)"
   ]
  },
  {
   "cell_type": "code",
   "execution_count": 73,
   "metadata": {
    "ExecuteTime": {
     "end_time": "2021-07-01T09:14:52.138937Z",
     "start_time": "2021-07-01T09:14:52.126935Z"
    }
   },
   "outputs": [
    {
     "data": {
      "text/plain": [
       "{'regStatus': '正常',\n",
       " 'website': '',\n",
       " 'address': '广东省佛山市顺德区大良县前路１６号',\n",
       " 'regCapital': '0',\n",
       " 'industryCategory': '未公示',\n",
       " 'regInstitute': '佛山市顺德区事业单位登记管理局',\n",
       " 'entityType': 9,\n",
       " 'businessScope': '未公示',\n",
       " 'legalPersonName': '李少玲',\n",
       " 'expiryDate': '未公示',\n",
       " 'legalPersonId': 1983149749,\n",
       " 'orgType': '机关',\n",
       " 'regNumber': '未公示',\n",
       " 'creditCode': '11440606007055899M',\n",
       " 'establishTime': None,\n",
       " 'phone': '',\n",
       " 'businessUni': '未公示',\n",
       " 'name': '佛山市顺德区大良街道办事处',\n",
       " 'base': 'gd'}"
      ]
     },
     "execution_count": 73,
     "metadata": {},
     "output_type": "execute_result"
    }
   ],
   "source": [
    "tyc.xgBaseInfo(1283124085 )"
   ]
  },
  {
   "cell_type": "markdown",
   "metadata": {},
   "source": [
    "##### 大量无效企业"
   ]
  },
  {
   "cell_type": "code",
   "execution_count": 56,
   "metadata": {
    "ExecuteTime": {
     "end_time": "2021-07-01T08:53:21.257009Z",
     "start_time": "2021-07-01T08:53:10.819019Z"
    },
    "collapsed": true
   },
   "outputs": [
    {
     "data": {
      "application/vnd.jupyter.widget-view+json": {
       "model_id": "1f332193e9fc4563a6a2d86ff9d4c653",
       "version_major": 2,
       "version_minor": 0
      },
      "text/plain": [
       "HBox(children=(FloatProgress(value=0.0, layout=Layout(flex='2'), max=5144.0), HTML(value='')), layout=Layout(d…"
      ]
     },
     "metadata": {},
     "output_type": "display_data"
    },
    {
     "name": "stdout",
     "output_type": "stream",
     "text": [
      "(2021-07-01 16:53:10) 630082 0\n",
      "(2021-07-01 16:53:10) 1901195 0\n",
      "(2021-07-01 16:53:10) 2085139 0\n",
      "(2021-07-01 16:53:10) 2570526 0\n",
      "(2021-07-01 16:53:11) 2620885 0\n",
      "(2021-07-01 16:53:11) 2674996 0\n",
      "(2021-07-01 16:53:11) 2757267 0\n",
      "(2021-07-01 16:53:11) 3517667 0\n",
      "(2021-07-01 16:53:11) 3729406 0\n",
      "(2021-07-01 16:53:11) 5154804 0\n",
      "(2021-07-01 16:53:11) 6162697 0\n",
      "(2021-07-01 16:53:11) 6162915 0\n",
      "(2021-07-01 16:53:11) 6334059 0\n",
      "(2021-07-01 16:53:11) 7277604 0\n",
      "(2021-07-01 16:53:11) 7512359 0\n",
      "(2021-07-01 16:53:11) 7512573 0\n",
      "(2021-07-01 16:53:11) 10110650 0\n",
      "(2021-07-01 16:53:11) 10164532 0\n",
      "(2021-07-01 16:53:11) 10822036 0\n",
      "(2021-07-01 16:53:11) 12648042 0\n",
      "(2021-07-01 16:53:11) 12650468 0\n",
      "(2021-07-01 16:53:11) 13776858 0\n",
      "(2021-07-01 16:53:11) 19089698 0\n",
      "(2021-07-01 16:53:11) 19972259 0\n",
      "(2021-07-01 16:53:11) 21010092 0\n",
      "(2021-07-01 16:53:11) 21023466 0\n",
      "(2021-07-01 16:53:11) 22251506 0\n",
      "(2021-07-01 16:53:11) 22252452 0\n",
      "(2021-07-01 16:53:11) 22782509 0\n",
      "(2021-07-01 16:53:11) 23103504 0\n",
      "(2021-07-01 16:53:11) 24841221 0\n",
      "(2021-07-01 16:53:11) 24841325 0\n",
      "(2021-07-01 16:53:11) 24841353 0\n",
      "(2021-07-01 16:53:11) 24841442 0\n",
      "(2021-07-01 16:53:11) 27083136 0\n",
      "(2021-07-01 16:53:11) 31352827 0\n",
      "(2021-07-01 16:53:11) 66751383 0\n",
      "(2021-07-01 16:53:11) 71860727 0\n",
      "(2021-07-01 16:53:11) 73656795 0\n",
      "(2021-07-01 16:53:11) 76747507 0\n",
      "(2021-07-01 16:53:11) 80351256 0\n",
      "(2021-07-01 16:53:11) 91397124 0\n",
      "(2021-07-01 16:53:11) 136281873 0\n",
      "(2021-07-01 16:53:11) 148557646 0\n",
      "(2021-07-01 16:53:11) 148645734 0\n",
      "(2021-07-01 16:53:11) 149130067 0\n",
      "(2021-07-01 16:53:12) 151602080 0\n",
      "(2021-07-01 16:53:12) 157852763 0\n",
      "(2021-07-01 16:53:12) 162323998 0\n",
      "(2021-07-01 16:53:12) 168937923 0\n",
      "(2021-07-01 16:53:12) 171275710 0\n",
      "(2021-07-01 16:53:12) 176160281 0\n",
      "(2021-07-01 16:53:12) 176190247 0\n",
      "(2021-07-01 16:53:12) 179664863 0\n",
      "(2021-07-01 16:53:12) 182331708 0\n",
      "(2021-07-01 16:53:12) 199796166 0\n",
      "(2021-07-01 16:53:12) 201141133 0\n",
      "(2021-07-01 16:53:12) 212265238 0\n",
      "(2021-07-01 16:53:12) 212357365 0\n",
      "(2021-07-01 16:53:12) 215984019 0\n",
      "(2021-07-01 16:53:12) 218251286 0\n",
      "(2021-07-01 16:53:12) 264237546 0\n",
      "(2021-07-01 16:53:12) 312635199 0\n",
      "(2021-07-01 16:53:12) 316436991 0\n",
      "(2021-07-01 16:53:12) 331712903 0\n",
      "(2021-07-01 16:53:12) 355139350 0\n",
      "(2021-07-01 16:53:12) 364635924 0\n",
      "(2021-07-01 16:53:12) 368734994 0\n",
      "(2021-07-01 16:53:12) 376834710 0\n",
      "(2021-07-01 16:53:12) 388046260 0\n",
      "(2021-07-01 16:53:12) 388864537 0\n",
      "(2021-07-01 16:53:12) 396507849 0\n",
      "(2021-07-01 16:53:12) 404682306 0\n",
      "(2021-07-01 16:53:12) 414515093 0\n",
      "(2021-07-01 16:53:12) 415374939 0\n",
      "(2021-07-01 16:53:12) 415688753 0\n",
      "(2021-07-01 16:53:12) 430612853 0\n",
      "(2021-07-01 16:53:12) 456491570 0\n",
      "(2021-07-01 16:53:12) 490514889 0\n",
      "(2021-07-01 16:53:12) 514088730 0\n",
      "(2021-07-01 16:53:12) 521344458 0\n",
      "(2021-07-01 16:53:13) 544035502 0\n",
      "(2021-07-01 16:53:13) 661589739 0\n",
      "(2021-07-01 16:53:13) 675896448 0\n",
      "(2021-07-01 16:53:13) 707994203 0\n",
      "(2021-07-01 16:53:13) 730533704 0\n",
      "(2021-07-01 16:53:13) 733059960 0\n",
      "(2021-07-01 16:53:13) 763302608 0\n",
      "(2021-07-01 16:53:13) 774780592 0\n",
      "(2021-07-01 16:53:13) 788656749 0\n",
      "(2021-07-01 16:53:13) 796631642 0\n",
      "(2021-07-01 16:53:13) 799684943 0\n",
      "(2021-07-01 16:53:13) 814151497 0\n",
      "(2021-07-01 16:53:13) 830570175 0\n",
      "(2021-07-01 16:53:13) 838123416 0\n",
      "(2021-07-01 16:53:13) 845859883 0\n",
      "(2021-07-01 16:53:13) 849495015 0\n",
      "(2021-07-01 16:53:13) 864528156 0\n",
      "(2021-07-01 16:53:13) 879430386 0\n",
      "(2021-07-01 16:53:13) 882406466 0\n",
      "(2021-07-01 16:53:13) 925283573 0\n",
      "(2021-07-01 16:53:13) 944031837 0\n",
      "(2021-07-01 16:53:13) 948155965 0\n",
      "(2021-07-01 16:53:13) 962743712 0\n",
      "(2021-07-01 16:53:13) 977406494 0\n",
      "(2021-07-01 16:53:13) 977426257 0\n",
      "(2021-07-01 16:53:13) 1040788779 0\n",
      "(2021-07-01 16:53:13) 1098201299 0\n",
      "(2021-07-01 16:53:13) 1105000292 0\n",
      "(2021-07-01 16:53:13) 1151511266 0\n",
      "(2021-07-01 16:53:13) 1159695357 0\n",
      "(2021-07-01 16:53:13) 1176756832 0\n",
      "(2021-07-01 16:53:13) 1228531562 0\n",
      "(2021-07-01 16:53:13) 1229098009 0\n",
      "(2021-07-01 16:53:13) 1250064421 0\n",
      "(2021-07-01 16:53:13) 1259999506 0\n",
      "(2021-07-01 16:53:14) 1271743130 0\n",
      "(2021-07-01 16:53:14) 1284959258 0\n",
      "(2021-07-01 16:53:14) 1315744344 0\n",
      "(2021-07-01 16:53:14) 1324403180 0\n",
      "(2021-07-01 16:53:14) 1386087489 0\n",
      "(2021-07-01 16:53:14) 1390142432 0\n",
      "(2021-07-01 16:53:14) 1423943405 0\n",
      "(2021-07-01 16:53:14) 1455058333 0\n",
      "(2021-07-01 16:53:14) 1542886760 0\n",
      "(2021-07-01 16:53:14) 1615347334 0\n",
      "(2021-07-01 16:53:14) 1634085629 0\n",
      "(2021-07-01 16:53:14) 1731864433 0\n",
      "(2021-07-01 16:53:14) 1738133319 0\n",
      "(2021-07-01 16:53:14) 1745357102 0\n",
      "(2021-07-01 16:53:14) 2310887224 0\n",
      "(2021-07-01 16:53:14) 2312675677 0\n",
      "(2021-07-01 16:53:14) 2313603003 0\n",
      "(2021-07-01 16:53:14) 2313714247 0\n",
      "(2021-07-01 16:53:14) 2315224909 0\n",
      "(2021-07-01 16:53:14) 2316075085 0\n",
      "(2021-07-01 16:53:14) 2316155058 0\n",
      "(2021-07-01 16:53:14) 2316173220 0\n",
      "(2021-07-01 16:53:14) 2316263814 0\n",
      "(2021-07-01 16:53:14) 2316540205 0\n",
      "(2021-07-01 16:53:14) 2318621543 0\n",
      "(2021-07-01 16:53:14) 2319062272 0\n",
      "(2021-07-01 16:53:14) 2323035576 0\n",
      "(2021-07-01 16:53:14) 2323500492 0\n",
      "(2021-07-01 16:53:15) 2326727034 0\n",
      "(2021-07-01 16:53:15) 2331977585 0\n",
      "(2021-07-01 16:53:15) 2334467791 0\n",
      "(2021-07-01 16:53:15) 2339785552 0\n",
      "(2021-07-01 16:53:15) 2340064187 0\n",
      "(2021-07-01 16:53:15) 2343472210 0\n",
      "(2021-07-01 16:53:15) 2344961758 0\n",
      "(2021-07-01 16:53:15) 2344969143 0\n",
      "(2021-07-01 16:53:15) 2344969633 0\n",
      "(2021-07-01 16:53:15) 2345019949 0\n",
      "(2021-07-01 16:53:15) 2345022699 0\n",
      "(2021-07-01 16:53:15) 2345066792 0\n",
      "(2021-07-01 16:53:15) 2345771375 0\n",
      "(2021-07-01 16:53:15) 2345802210 0\n",
      "(2021-07-01 16:53:15) 2346994383 0\n",
      "(2021-07-01 16:53:15) 2347150924 0\n",
      "(2021-07-01 16:53:15) 2348758197 0\n",
      "(2021-07-01 16:53:15) 2348865013 0\n",
      "(2021-07-01 16:53:15) 2349705373 0\n",
      "(2021-07-01 16:53:15) 2349871083 0\n",
      "(2021-07-01 16:53:15) 2350645339 0\n",
      "(2021-07-01 16:53:15) 2352761033 0\n",
      "(2021-07-01 16:53:15) 2352828050 0\n",
      "(2021-07-01 16:53:15) 2352988637 0\n",
      "(2021-07-01 16:53:16) 2357784655 0\n",
      "(2021-07-01 16:53:16) 2358230577 0\n",
      "(2021-07-01 16:53:16) 2358358143 0\n",
      "(2021-07-01 16:53:16) 2358705962 0\n",
      "(2021-07-01 16:53:16) 2358714798 0\n",
      "(2021-07-01 16:53:16) 2361628317 0\n",
      "(2021-07-01 16:53:16) 2433701807 0\n",
      "(2021-07-01 16:53:16) 2437572041 0\n",
      "(2021-07-01 16:53:16) 2451792355 0\n",
      "(2021-07-01 16:53:16) 2943506000 0\n",
      "(2021-07-01 16:53:16) 2946135454 0\n",
      "(2021-07-01 16:53:16) 2951765740 0\n",
      "(2021-07-01 16:53:16) 2952759802 0\n",
      "(2021-07-01 16:53:16) 2953302798 0\n",
      "(2021-07-01 16:53:16) 2959199515 0\n",
      "(2021-07-01 16:53:16) 2959899003 0\n",
      "(2021-07-01 16:53:16) 2959959964 0\n",
      "(2021-07-01 16:53:16) 2962262223 0\n",
      "(2021-07-01 16:53:16) 2971019098 0\n",
      "(2021-07-01 16:53:16) 2974240031 0\n",
      "(2021-07-01 16:53:16) 2976373588 0\n",
      "(2021-07-01 16:53:16) 2976482808 0\n",
      "(2021-07-01 16:53:16) 2977433035 0\n",
      "(2021-07-01 16:53:16) 2988763995 0\n",
      "(2021-07-01 16:53:16) 2989522176 0\n",
      "(2021-07-01 16:53:16) 3006366023 0\n",
      "(2021-07-01 16:53:16) 3014486778 0\n",
      "(2021-07-01 16:53:16) 3015166988 0\n",
      "(2021-07-01 16:53:16) 3020741700 0\n",
      "(2021-07-01 16:53:16) 3022068654 0\n",
      "(2021-07-01 16:53:16) 3022637187 0\n",
      "(2021-07-01 16:53:16) 3022694635 0\n",
      "(2021-07-01 16:53:16) 3023786580 0\n",
      "(2021-07-01 16:53:16) 3024346501 0\n",
      "(2021-07-01 16:53:16) 3027792896 0\n",
      "(2021-07-01 16:53:17) 3033912399 0\n",
      "(2021-07-01 16:53:17) 3041018714 0\n",
      "(2021-07-01 16:53:17) 3048362296 0\n",
      "(2021-07-01 16:53:17) 3063344480 0\n",
      "(2021-07-01 16:53:17) 3071185245 0\n",
      "(2021-07-01 16:53:17) 3072096939 0\n",
      "(2021-07-01 16:53:17) 3090456584 0\n",
      "(2021-07-01 16:53:17) 3093556692 0\n",
      "(2021-07-01 16:53:17) 3102830589 0\n",
      "(2021-07-01 16:53:17) 3103374571 0\n",
      "(2021-07-01 16:53:17) 3115060601 0\n",
      "(2021-07-01 16:53:17) 3119150430 0\n",
      "(2021-07-01 16:53:17) 3120264235 0\n",
      "(2021-07-01 16:53:17) 3124795717 0\n",
      "(2021-07-01 16:53:18) 3153351705 0\n",
      "(2021-07-01 16:53:18) 3157070731 0\n",
      "(2021-07-01 16:53:18) 3161114879 0\n",
      "(2021-07-01 16:53:18) 3161145959 0\n",
      "(2021-07-01 16:53:18) 3167312869 0\n",
      "(2021-07-01 16:53:18) 3169431652 0\n",
      "(2021-07-01 16:53:18) 3169754168 0\n",
      "(2021-07-01 16:53:18) 3171808267 0\n",
      "(2021-07-01 16:53:18) 3174731154 0\n",
      "(2021-07-01 16:53:18) 3175190621 0\n",
      "(2021-07-01 16:53:18) 3194340147 0\n",
      "(2021-07-01 16:53:18) 3194717296 0\n",
      "(2021-07-01 16:53:18) 3207027238 0\n",
      "(2021-07-01 16:53:18) 3207037094 0\n",
      "(2021-07-01 16:53:18) 3207091700 0\n",
      "(2021-07-01 16:53:18) 3207466956 0\n",
      "(2021-07-01 16:53:18) 3207589919 0\n",
      "(2021-07-01 16:53:18) 3207717218 0\n",
      "(2021-07-01 16:53:18) 3209232065 0\n",
      "(2021-07-01 16:53:18) 3209335451 0\n",
      "(2021-07-01 16:53:18) 3209498486 0\n",
      "(2021-07-01 16:53:18) 3210081318 0\n",
      "(2021-07-01 16:53:18) 3210152024 0\n",
      "(2021-07-01 16:53:18) 3210601983 0\n",
      "(2021-07-01 16:53:18) 3212630870 0\n",
      "(2021-07-01 16:53:18) 3213422062 0\n",
      "(2021-07-01 16:53:18) 3215037807 0\n",
      "(2021-07-01 16:53:18) 3222968868 0\n"
     ]
    },
    {
     "name": "stdout",
     "output_type": "stream",
     "text": [
      "(2021-07-01 16:53:18) 3224460612 0\n",
      "(2021-07-01 16:53:18) 3229548114 0\n",
      "(2021-07-01 16:53:19) 3274935108 0\n",
      "(2021-07-01 16:53:19) 3276460564 0\n",
      "(2021-07-01 16:53:19) 3276748696 0\n",
      "(2021-07-01 16:53:19) 3277559174 0\n",
      "(2021-07-01 16:53:19) 3291692827 0\n",
      "(2021-07-01 16:53:19) 3307970458 0\n",
      "(2021-07-01 16:53:19) 3308369227 0\n",
      "(2021-07-01 16:53:19) 3328424194 0\n",
      "(2021-07-01 16:53:19) 3341107820 0\n",
      "(2021-07-01 16:53:19) 3375641906 0\n",
      "(2021-07-01 16:53:20) 3394825977 0\n",
      "(2021-07-01 16:53:20) 3401800560 0\n",
      "(2021-07-01 16:53:20) 3420223414 0\n",
      "(2021-07-01 16:53:20) 3427299206 0\n",
      "(2021-07-01 16:53:20) 3428339178 0\n",
      "(2021-07-01 16:53:20) 3436576723 0\n",
      "(2021-07-01 16:53:20) 3444555076 0\n",
      "(2021-07-01 16:53:20) 3472906166 0\n",
      "(2021-07-01 16:53:20) 3480206117 0\n",
      "(2021-07-01 16:53:20) 3483164338 0\n",
      "(2021-07-01 16:53:20) 3485008492 0\n",
      "(2021-07-01 16:53:20) 4008816057 0\n",
      "(2021-07-01 16:53:20) 4010980783 0\n",
      "(2021-07-01 16:53:20) 4019705982 0\n",
      "(2021-07-01 16:53:20) 4023389211 0\n",
      "(2021-07-01 16:53:20) 4082828288 0\n",
      "(2021-07-01 16:53:20) 4103139785 0\n",
      "(2021-07-01 16:53:20) 4104945685 0\n",
      "(2021-07-01 16:53:20) 4109245256 0\n",
      "(2021-07-01 16:53:21) 4124112344 0\n",
      "(2021-07-01 16:53:21) 4136572853 0\n",
      "(2021-07-01 16:53:21) 4204923942 0\n",
      "(2021-07-01 16:53:21) 4207452643 0\n",
      "(2021-07-01 16:53:21) 4226296932 0\n",
      "(2021-07-01 16:53:21) 4230318204 0\n",
      "(2021-07-01 16:53:21) 4237300689 0\n",
      "(2021-07-01 16:53:21) 4239874562 0\n",
      "(2021-07-01 16:53:21) 4245700029 0\n",
      "(2021-07-01 16:53:21) 4246767663 0\n",
      "(2021-07-01 16:53:21) 4269133643 0\n",
      "(2021-07-01 16:53:21) 4274244914 0\n",
      "(2021-07-01 16:53:21) 4314330789 0\n",
      "(2021-07-01 16:53:21) 4314330960 0\n",
      "(2021-07-01 16:53:21) 4314335258 0\n",
      "(2021-07-01 16:53:21) 4314338453 0\n",
      "(2021-07-01 16:53:21) 4314346813 0\n",
      "(2021-07-01 16:53:21) 4314774880 0\n",
      "(2021-07-01 16:53:21) 4314965787 0\n",
      "(2021-07-01 16:53:21) 4314976317 0\n",
      "(2021-07-01 16:53:21) 4424699806 0\n",
      "(2021-07-01 16:53:21) 4443156786 0\n",
      "(2021-07-01 16:53:21) 4445013109 0\n",
      "(2021-07-01 16:53:21) 10000039812 0\n",
      "(2021-07-01 16:53:21) 10000039920 0\n",
      "\n"
     ]
    },
    {
     "data": {
      "text/plain": [
       "301"
      ]
     },
     "execution_count": 56,
     "metadata": {},
     "output_type": "execute_result"
    }
   ],
   "source": [
    "cnt = 0\n",
    "with tqdm(eids['id']) as tq:\n",
    "    for eid in tq:\n",
    "        frmt(eid, tqdm=tq)\n",
    "        xgb = tyc.xgBaseInfo(eid)\n",
    "        if 'entityType' not in xgb:\n",
    "            frmt (eid, xgb.get('total', None))\n",
    "            cnt += 1\n",
    "cnt"
   ]
  },
  {
   "cell_type": "markdown",
   "metadata": {},
   "source": [
    "##### alias字段确实没有"
   ]
  },
  {
   "cell_type": "code",
   "execution_count": 59,
   "metadata": {
    "ExecuteTime": {
     "end_time": "2021-07-01T08:57:27.300394Z",
     "start_time": "2021-07-01T08:57:18.167397Z"
    },
    "scrolled": true
   },
   "outputs": [
    {
     "data": {
      "application/vnd.jupyter.widget-view+json": {
       "model_id": "ba3086018d5b46fa9e63f2bea7be6dc9",
       "version_major": 2,
       "version_minor": 0
      },
      "text/plain": [
       "HBox(children=(FloatProgress(value=0.0, layout=Layout(flex='2'), max=5144.0), HTML(value='')), layout=Layout(d…"
      ]
     },
     "metadata": {},
     "output_type": "display_data"
    },
    {
     "name": "stdout",
     "output_type": "stream",
     "text": [
      "\n"
     ]
    },
    {
     "data": {
      "text/plain": [
       "0"
      ]
     },
     "execution_count": 59,
     "metadata": {},
     "output_type": "execute_result"
    }
   ],
   "source": [
    "cnt = 0\n",
    "with tqdm(eids['id']) as tq:\n",
    "    for eid in tq:\n",
    "        frmt(eid, tqdm=tq)\n",
    "        xgb = tyc.xgBaseInfo(eid)\n",
    "        if 'entityType' in xgb:\n",
    "            li = none2dict(xgb.get('legalInfo', None))\n",
    "            \n",
    "            et = xgb.get('entityType',0)\n",
    "            \n",
    "            alias = li.get('alias', None)\n",
    "            \n",
    "            if 'alias' in li:\n",
    "            \n",
    "                frmt (eid, et, li.get('name', None), alias)\n",
    "                cnt += 1\n",
    "cnt"
   ]
  },
  {
   "cell_type": "markdown",
   "metadata": {
    "ExecuteTime": {
     "end_time": "2021-07-01T09:09:33.379761Z",
     "start_time": "2021-07-01T09:09:33.374759Z"
    }
   },
   "source": [
    "##### 法人是企业"
   ]
  },
  {
   "cell_type": "code",
   "execution_count": 64,
   "metadata": {
    "ExecuteTime": {
     "end_time": "2021-07-01T09:03:22.767798Z",
     "start_time": "2021-07-01T09:03:13.622809Z"
    }
   },
   "outputs": [
    {
     "data": {
      "application/vnd.jupyter.widget-view+json": {
       "model_id": "12065a9c9a974850977afc8c59f966e3",
       "version_major": 2,
       "version_minor": 0
      },
      "text/plain": [
       "HBox(children=(FloatProgress(value=0.0, layout=Layout(flex='2'), max=5144.0), HTML(value='')), layout=Layout(d…"
      ]
     },
     "metadata": {},
     "output_type": "display_data"
    },
    {
     "name": "stdout",
     "output_type": "stream",
     "text": [
      "(2021-07-01 17:03:17) 2349588194 1 None 0\n",
      "(2021-07-01 17:03:17) 2351772183 1 None 0\n",
      "(2021-07-01 17:03:18) 2358245612 1 None 0\n",
      "(2021-07-01 17:03:18) 2671779342 1 None 0\n",
      "(2021-07-01 17:03:18) 2983384386 1 None 0\n",
      "(2021-07-01 17:03:18) 3010894491 1 None 0\n",
      "(2021-07-01 17:03:19) 3043309441 1 None 0\n",
      "\n"
     ]
    },
    {
     "data": {
      "text/plain": [
       "7"
      ]
     },
     "execution_count": 64,
     "metadata": {},
     "output_type": "execute_result"
    }
   ],
   "source": [
    "cnt = 0\n",
    "with tqdm(eids['id']) as tq:\n",
    "    for eid in tq:\n",
    "        frmt(eid, tqdm=tq)\n",
    "        xgb = tyc.xgBaseInfo(eid)\n",
    "        if 'entityType' in xgb:\n",
    "            li = xgb.get('legalInfo', None)\n",
    "            \n",
    "            et = xgb.get('entityType',0)\n",
    "            \n",
    "            hid = none2dict(li).get('hid', None)\n",
    "            \n",
    "            if li and not hid:\n",
    "            \n",
    "                frmt (eid, et, li.get('name', None), hid)\n",
    "                cnt += 1\n",
    "cnt"
   ]
  },
  {
   "cell_type": "markdown",
   "metadata": {},
   "source": [
    "##### 法人id和法人信息相同"
   ]
  },
  {
   "cell_type": "code",
   "execution_count": 71,
   "metadata": {
    "ExecuteTime": {
     "end_time": "2021-07-01T09:14:04.723958Z",
     "start_time": "2021-07-01T09:13:55.330956Z"
    }
   },
   "outputs": [
    {
     "data": {
      "application/vnd.jupyter.widget-view+json": {
       "model_id": "36917988481e455ea1e9c9f34da88c0b",
       "version_major": 2,
       "version_minor": 0
      },
      "text/plain": [
       "HBox(children=(FloatProgress(value=0.0, layout=Layout(flex='2'), max=5144.0), HTML(value='')), layout=Layout(d…"
      ]
     },
     "metadata": {},
     "output_type": "display_data"
    },
    {
     "name": "stdout",
     "output_type": "stream",
     "text": [
      "(2021-07-01 17:13:58) 1283124085 9 None None 1983149749\n",
      "(2021-07-01 17:13:59) 2349588194 1 None 0 3126289776\n",
      "(2021-07-01 17:13:59) 2351772183 1 None 0 2318089356\n",
      "(2021-07-01 17:14:00) 2358245612 1 None 0 2312876479\n",
      "(2021-07-01 17:14:00) 2671779342 1 None 0 2312876479\n",
      "(2021-07-01 17:14:00) 2983384386 1 None 0 2944607274\n",
      "(2021-07-01 17:14:00) 3010894491 1 None 0 3151284455\n",
      "(2021-07-01 17:14:00) 3043309441 1 None 0 2358763332\n",
      "(2021-07-01 17:14:04) 4452147385 9 None None 2099960718\n",
      "\n"
     ]
    },
    {
     "data": {
      "text/plain": [
       "9"
      ]
     },
     "execution_count": 71,
     "metadata": {},
     "output_type": "execute_result"
    }
   ],
   "source": [
    "cnt = 0\n",
    "with tqdm(eids['id']) as tq:\n",
    "    for eid in tq:\n",
    "        frmt(eid, tqdm=tq)\n",
    "        xgb = tyc.xgBaseInfo(eid)\n",
    "        if 'entityType' in xgb:\n",
    "            li = xgb.get('legalInfo', None)\n",
    "            \n",
    "            et = xgb.get('entityType',0)\n",
    "            \n",
    "            hid = none2dict(li).get('hid', None)\n",
    "            \n",
    "            lpid = xgb.get('legalPersonId', None)\n",
    "            \n",
    "            if hid != lpid:\n",
    "                frmt (eid, et, none2dict(li).get('name', None), hid, lpid)\n",
    "                cnt += 1\n",
    "cnt"
   ]
  },
  {
   "cell_type": "markdown",
   "metadata": {},
   "source": [
    "## 更新"
   ]
  },
  {
   "cell_type": "code",
   "execution_count": 8,
   "metadata": {
    "ExecuteTime": {
     "end_time": "2021-06-17T08:26:05.284403Z",
     "start_time": "2021-06-17T08:26:05.262397Z"
    }
   },
   "outputs": [],
   "source": []
  },
  {
   "cell_type": "code",
   "execution_count": 16,
   "metadata": {
    "ExecuteTime": {
     "end_time": "2021-06-17T08:50:32.355390Z",
     "start_time": "2021-06-17T08:50:32.348386Z"
    }
   },
   "outputs": [],
   "source": [
    "db.close()"
   ]
  },
  {
   "cell_type": "code",
   "execution_count": null,
   "metadata": {},
   "outputs": [],
   "source": []
  },
  {
   "cell_type": "code",
   "execution_count": 19,
   "metadata": {
    "ExecuteTime": {
     "end_time": "2021-04-19T11:14:27.375958Z",
     "start_time": "2021-04-19T11:14:27.369956Z"
    }
   },
   "outputs": [],
   "source": [
    "sqlUpdate = f'''\n",
    "    update {mysqlDb}.enterprise\n",
    "    set companyOrgType = %s\n",
    "    where id = %s;\n",
    "    '''"
   ]
  },
  {
   "cell_type": "code",
   "execution_count": 20,
   "metadata": {
    "ExecuteTime": {
     "end_time": "2021-04-19T11:14:38.276976Z",
     "start_time": "2021-04-19T11:14:28.525972Z"
    }
   },
   "outputs": [
    {
     "data": {
      "application/vnd.jupyter.widget-view+json": {
       "model_id": "1d05e19afb414619924ff2195c91e904",
       "version_major": 2,
       "version_minor": 0
      },
      "text/plain": [
       "HBox(children=(FloatProgress(value=0.0, max=2158.0), HTML(value='')))"
      ]
     },
     "metadata": {},
     "output_type": "display_data"
    },
    {
     "name": "stdout",
     "output_type": "stream",
     "text": [
      "1259999506 300000\n",
      "3023786580 300000\n",
      "\n"
     ]
    }
   ],
   "source": [
    "tfiles = tqdm(files)\n",
    "for id in tfiles:\n",
    "    tfiles.set_description('(%010d)' % int(id))\n",
    "    file = os.path.join(savePath, folder, f'{id}.json')\n",
    "    with open(file, 'r', encoding='utf-8') as f:\n",
    "        rst = json.load(f)\n",
    "    errorCode = rst.get('error_code', 0)\n",
    "    \n",
    "    \n",
    "    if errorCode:\n",
    "        print(id, errorCode)\n",
    "        continue\n",
    "    ct = rst['result']['companyOrgType']\n",
    "    if ct is not None:\n",
    "        if 120 < len(ct): print (id, len(ct))\n",
    "        sql(sqlUpdate % (repr(ct), id))\n",
    "        db.commit()"
   ]
  },
  {
   "cell_type": "code",
   "execution_count": 14,
   "metadata": {
    "ExecuteTime": {
     "end_time": "2021-04-16T11:16:11.322238Z",
     "start_time": "2021-04-16T11:16:11.313246Z"
    },
    "collapsed": true
   },
   "outputs": [
    {
     "data": {
      "text/plain": [
       "{'个体工商户',\n",
       " '事业单位营业',\n",
       " '全民所有制',\n",
       " '全民所有制分支机构(非法人)',\n",
       " '其他',\n",
       " '其他有限责任公司',\n",
       " '其他有限责任公司(1190)',\n",
       " '其他有限责任公司分公司',\n",
       " '其他股份有限公司(上市)',\n",
       " '其他股份有限公司(非上市)',\n",
       " '其他股份有限公司分公司(上市)',\n",
       " '其他股份有限公司分公司(非上市)',\n",
       " '分公司',\n",
       " '国有事业单位营业',\n",
       " '国有经营单位(非法人)',\n",
       " '有限合伙企业',\n",
       " '有限责任公司',\n",
       " '有限责任公司(中外合资)',\n",
       " '有限责任公司(台港澳与境内合作)',\n",
       " '有限责任公司(台港澳与境内合资)',\n",
       " '有限责任公司(台港澳合资)',\n",
       " '有限责任公司(台港澳法人独资)',\n",
       " '有限责任公司(国有控股)',\n",
       " '有限责任公司(国有独资)',\n",
       " '有限责任公司(外商合资)',\n",
       " '有限责任公司(外商投资企业与内资合资)',\n",
       " '有限责任公司(外商投资企业法人独资)',\n",
       " '有限责任公司(外国法人独资)',\n",
       " '有限责任公司(外国自然人独资)',\n",
       " '有限责任公司(法人独资)',\n",
       " '有限责任公司(法人独资)(外商投资企业投资)',\n",
       " '有限责任公司(港澳台法人独资)',\n",
       " '有限责任公司(自然人投资或控股)',\n",
       " '有限责任公司(自然人投资或控股)(1130)',\n",
       " '有限责任公司(自然人投资或控股的法人独资)',\n",
       " '有限责任公司(自然人投资或控股的法人独资)(1152)',\n",
       " '有限责任公司(自然人独资)',\n",
       " '有限责任公司(非自然人投资或控股的法人独资)',\n",
       " '有限责任公司分公司',\n",
       " '有限责任公司分公司(国有控股)',\n",
       " '有限责任公司分公司(国有独资)',\n",
       " '有限责任公司分公司(法人独资)',\n",
       " '有限责任公司分公司(非自然人投资或控股的法人独资)',\n",
       " '有限责任公司分公司（非自然人投资或控股的法人独资）',\n",
       " '有限责任公司（外商投资、非独资）',\n",
       " '有限责任公司（法人独资）',\n",
       " '有限责任公司（港澳台投资、非独资）',\n",
       " '有限责任公司（自然人投资或控股的法人独资）',\n",
       " '有限责任公司（自然人独资）',\n",
       " '有限责任公司（非自然人投资或控股的法人独资）',\n",
       " '注册非香港公司',\n",
       " '私人股份有限公司',\n",
       " '股份有限公司',\n",
       " '股份有限公司(上市)',\n",
       " '股份有限公司(上市、国有控股)',\n",
       " '股份有限公司(上市、自然人投资或控股)',\n",
       " '股份有限公司(上市公司)',\n",
       " '股份有限公司(中外合资、上市)',\n",
       " '股份有限公司(中外合资、未上市)',\n",
       " '股份有限公司(台港澳与境内合资、上市)',\n",
       " '股份有限公司(台港澳与境内合资、未上市)',\n",
       " '股份有限公司(外商投资、上市)',\n",
       " '股份有限公司(非上市)',\n",
       " '股份有限公司(非上市、国有控股)',\n",
       " '股份有限公司(非上市、外商投资企业投资)',\n",
       " '股份有限公司(非上市、自然人投资或控股)',\n",
       " '股份有限公司分公司(上市)',\n",
       " '股份有限公司分公司(上市、国有控股)',\n",
       " '股份有限公司分公司(非上市)',\n",
       " '股份有限公司（外商投资、上市）',\n",
       " '股份有限公司（外商投资、未上市）',\n",
       " '股份有限公司（港澳台投资、未上市）',\n",
       " '集体所有制'}"
      ]
     },
     "execution_count": 14,
     "metadata": {},
     "output_type": "execute_result"
    }
   ],
   "source": [
    "a"
   ]
  },
  {
   "cell_type": "markdown",
   "metadata": {},
   "source": [
    "### 断开mysql"
   ]
  },
  {
   "cell_type": "code",
   "execution_count": 73,
   "metadata": {
    "ExecuteTime": {
     "end_time": "2021-06-29T06:48:51.384006Z",
     "start_time": "2021-06-29T06:48:48.800407Z"
    }
   },
   "outputs": [
    {
     "ename": "NameError",
     "evalue": "name 'db' is not defined",
     "output_type": "error",
     "traceback": [
      "\u001b[1;31m------------------------------------------------------------\u001b[0m",
      "\u001b[1;31mNameError\u001b[0m                  Traceback (most recent call last)",
      "\u001b[1;32m<ipython-input-73-168085b004b5>\u001b[0m in \u001b[0;36m<module>\u001b[1;34m\u001b[0m\n\u001b[1;32m----> 1\u001b[1;33m \u001b[0mdb\u001b[0m\u001b[1;33m.\u001b[0m\u001b[0mclose\u001b[0m\u001b[1;33m(\u001b[0m\u001b[1;33m)\u001b[0m\u001b[1;33m\u001b[0m\u001b[1;33m\u001b[0m\u001b[0m\n\u001b[0m",
      "\u001b[1;31mNameError\u001b[0m: name 'db' is not defined"
     ]
    }
   ],
   "source": [
    "db.close()"
   ]
  },
  {
   "cell_type": "code",
   "execution_count": null,
   "metadata": {},
   "outputs": [],
   "source": []
  },
  {
   "cell_type": "code",
   "execution_count": null,
   "metadata": {},
   "outputs": [],
   "source": []
  }
 ],
 "metadata": {
  "kernelspec": {
   "display_name": "Python 3",
   "language": "python",
   "name": "python3"
  },
  "language_info": {
   "codemirror_mode": {
    "name": "ipython",
    "version": 3
   },
   "file_extension": ".py",
   "mimetype": "text/x-python",
   "name": "python",
   "nbconvert_exporter": "python",
   "pygments_lexer": "ipython3",
   "version": "3.8.3"
  },
  "latex_envs": {
   "LaTeX_envs_menu_present": true,
   "autoclose": false,
   "autocomplete": true,
   "bibliofile": "biblio.bib",
   "cite_by": "apalike",
   "current_citInitial": 1,
   "eqLabelWithNumbers": true,
   "eqNumInitial": 1,
   "hotkeys": {
    "equation": "Ctrl-E",
    "itemize": "Ctrl-I"
   },
   "labels_anchors": false,
   "latex_user_defs": false,
   "report_style_numbering": false,
   "user_envs_cfg": false
  },
  "toc": {
   "base_numbering": 1,
   "nav_menu": {},
   "number_sections": false,
   "sideBar": true,
   "skip_h1_title": false,
   "title_cell": "Table of Contents",
   "title_sidebar": "Contents",
   "toc_cell": false,
   "toc_position": {},
   "toc_section_display": true,
   "toc_window_display": true
  },
  "varInspector": {
   "cols": {
    "lenName": 16,
    "lenType": 16,
    "lenVar": 40
   },
   "kernels_config": {
    "python": {
     "delete_cmd_postfix": "",
     "delete_cmd_prefix": "del ",
     "library": "var_list.py",
     "varRefreshCmd": "print(var_dic_list())"
    },
    "r": {
     "delete_cmd_postfix": ") ",
     "delete_cmd_prefix": "rm(",
     "library": "var_list.r",
     "varRefreshCmd": "cat(var_dic_list()) "
    }
   },
   "oldHeight": 832.76078,
   "position": {
    "height": "854.983px",
    "left": "1636.92px",
    "right": "20px",
    "top": "17.941px",
    "width": "541.285px"
   },
   "types_to_exclude": [
    "module",
    "function",
    "builtin_function_or_method",
    "instance",
    "_Feature"
   ],
   "varInspector_section_display": "block",
   "window_display": true
  }
 },
 "nbformat": 4,
 "nbformat_minor": 4
}
