{
 "cells": [
  {
   "cell_type": "code",
   "execution_count": 1,
   "metadata": {
    "ExecuteTime": {
     "end_time": "2021-05-12T06:19:02.540164Z",
     "start_time": "2021-05-12T06:19:02.461148Z"
    }
   },
   "outputs": [
    {
     "name": "stdout",
     "output_type": "stream",
     "text": [
      "<ipython-input-1-5b0571845173> line 8 : 1 = 1, 2 = 2, 3 = 3\n",
      "<ipython-input-1-5b0571845173> line 8 : 4 = 4\n",
      "<ipython-input-1-5b0571845173> line 8 : a = 3\n",
      "<ipython-input-1-5b0571845173> line 8 : b = '你好'\n",
      "<ipython-input-1-5b0571845173> line 10 : 'hh' = 'hh'?"
     ]
    }
   ],
   "source": [
    "if '.' in __name__:\n",
    "    from .debug import debug\n",
    "else:\n",
    "    from debug import debug\n",
    "\n",
    "a = 3\n",
    "b = '你好'\n",
    "debug(1,2,3), debug(4), debug(), debug(a), debug(b)\n",
    "\n",
    "debug('hh', end='?')"
   ]
  },
  {
   "cell_type": "code",
   "execution_count": 4,
   "metadata": {
    "ExecuteTime": {
     "end_time": "2021-05-12T06:20:45.519246Z",
     "start_time": "2021-05-12T06:20:45.512245Z"
    }
   },
   "outputs": [
    {
     "name": "stdout",
     "output_type": "stream",
     "text": [
      "<ipython-input-4-410197610afb> line 4 : f = <function f at 0x000001C0528D9040>\n"
     ]
    }
   ],
   "source": [
    "def f ():\n",
    "    debug(1)\n",
    "    return 1\n",
    "debug(f)"
   ]
  },
  {
   "cell_type": "code",
   "execution_count": 4,
   "metadata": {
    "ExecuteTime": {
     "end_time": "2021-05-11T12:06:01.885221Z",
     "start_time": "2021-05-11T12:06:01.875217Z"
    }
   },
   "outputs": [
    {
     "name": "stdout",
     "output_type": "stream",
     "text": [
      "<ipython-input-4-5e001e82ab29> line 1 : 'hh' = 'hh'\n"
     ]
    }
   ],
   "source": [
    "debug('hh')"
   ]
  },
  {
   "cell_type": "code",
   "execution_count": 3,
   "metadata": {
    "ExecuteTime": {
     "end_time": "2021-05-12T06:19:57.320615Z",
     "start_time": "2021-05-12T06:19:57.310600Z"
    }
   },
   "outputs": [
    {
     "name": "stdout",
     "output_type": "stream",
     "text": [
      "<ipython-input-2-b686ba7982f4> line 2 : 1 = 1\n"
     ]
    }
   ],
   "source": [
    "f()"
   ]
  },
  {
   "cell_type": "code",
   "execution_count": 6,
   "metadata": {
    "ExecuteTime": {
     "end_time": "2021-05-12T06:21:11.402963Z",
     "start_time": "2021-05-12T06:21:11.391977Z"
    }
   },
   "outputs": [
    {
     "name": "stdout",
     "output_type": "stream",
     "text": [
      "<ipython-input-4-410197610afb> line 2 : 1 = 1\n",
      "<ipython-input-6-542d3a6fff03> line 1 : f( = 1\n"
     ]
    }
   ],
   "source": [
    "debug(f(), a)"
   ]
  },
  {
   "cell_type": "code",
   "execution_count": 24,
   "metadata": {
    "ExecuteTime": {
     "end_time": "2021-05-12T06:35:05.191431Z",
     "start_time": "2021-05-12T06:35:05.182426Z"
    }
   },
   "outputs": [
    {
     "name": "stdout",
     "output_type": "stream",
     "text": [
      "<ipython-input-24-c77d0de42ac7> line 1 : [1 = [1, 2]\n"
     ]
    }
   ],
   "source": [
    "debug([1,2])"
   ]
  }
 ],
 "metadata": {
  "kernelspec": {
   "display_name": "Python 3",
   "language": "python",
   "name": "python3"
  },
  "language_info": {
   "codemirror_mode": {
    "name": "ipython",
    "version": 3
   },
   "file_extension": ".py",
   "mimetype": "text/x-python",
   "name": "python",
   "nbconvert_exporter": "python",
   "pygments_lexer": "ipython3",
   "version": "3.8.3"
  },
  "varInspector": {
   "cols": {
    "lenName": 16,
    "lenType": 16,
    "lenVar": 40
   },
   "kernels_config": {
    "python": {
     "delete_cmd_postfix": "",
     "delete_cmd_prefix": "del ",
     "library": "var_list.py",
     "varRefreshCmd": "print(var_dic_list())"
    },
    "r": {
     "delete_cmd_postfix": ") ",
     "delete_cmd_prefix": "rm(",
     "library": "var_list.r",
     "varRefreshCmd": "cat(var_dic_list()) "
    }
   },
   "types_to_exclude": [
    "module",
    "function",
    "builtin_function_or_method",
    "instance",
    "_Feature"
   ],
   "window_display": false
  }
 },
 "nbformat": 4,
 "nbformat_minor": 4
}
