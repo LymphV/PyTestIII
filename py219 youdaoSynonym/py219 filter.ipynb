{
 "cells": [
  {
   "cell_type": "code",
   "execution_count": 5,
   "metadata": {},
   "outputs": [],
   "source": [
    "import re"
   ]
  },
  {
   "cell_type": "code",
   "execution_count": 11,
   "metadata": {
    "code_folding": [
     0
    ]
   },
   "outputs": [],
   "source": [
    "def __filter (ss : set, filters) -> set:\n",
    "    for f in filters:\n",
    "        rst = set()\n",
    "        for s in ss:\n",
    "            rst |= f(s)\n",
    "        ss = rst\n",
    "    return ss"
   ]
  },
  {
   "cell_type": "code",
   "execution_count": 13,
   "metadata": {},
   "outputs": [],
   "source": [
    "def __filterLower (s : str) -> set:\n",
    "    return {s.lower()}"
   ]
  },
  {
   "cell_type": "code",
   "execution_count": 32,
   "metadata": {},
   "outputs": [],
   "source": [
    "def __filterTerm (s : str) -> set:\n",
    "    return {re.sub(r'\\[.+?\\]', ' ', s)}"
   ]
  },
  {
   "cell_type": "code",
   "execution_count": 33,
   "metadata": {},
   "outputs": [],
   "source": [
    "def __filterBracket (s : str) -> set:\n",
    "    return {re.sub(r'\\(.+?\\)', ' ', s)}"
   ]
  },
  {
   "cell_type": "code",
   "execution_count": 41,
   "metadata": {},
   "outputs": [],
   "source": [
    "cixings = ['n', 'pron', 'prep', 'adj', 'adv', 'v', 'num',\n",
    "          'art', 'conj', 'int', 'abbr']\n",
    "def __filterCixing (s : str) -> set:\n",
    "    return {re.sub('|'.join([f'({x}\\.)' for x in cixings]), ' ', s)}"
   ]
  },
  {
   "cell_type": "code",
   "execution_count": 52,
   "metadata": {},
   "outputs": [],
   "source": [
    "def __filterComma (s : str) -> set:\n",
    "    return {s.replace(',', ' ')}"
   ]
  },
  {
   "cell_type": "code",
   "execution_count": 35,
   "metadata": {},
   "outputs": [],
   "source": [
    "def __filterSemicolon (s : str) -> set:\n",
    "    return set(s.replace(';','\\n').replace('；','\\n').split('\\n'))"
   ]
  },
  {
   "cell_type": "code",
   "execution_count": 48,
   "metadata": {},
   "outputs": [],
   "source": [
    "def __filterHyphen (s : str) -> set:\n",
    "    return {s, s.replace('-', ' ')}"
   ]
  },
  {
   "cell_type": "code",
   "execution_count": 36,
   "metadata": {},
   "outputs": [],
   "source": [
    "stopWords = {'the', 'a', 'an',}\n",
    "def __filterStopWords (s : str) -> set:\n",
    "    return {' '.join([x for x in s.split() if x and x not in stopWords])}"
   ]
  },
  {
   "cell_type": "code",
   "execution_count": 39,
   "metadata": {},
   "outputs": [],
   "source": [
    "def __filterStrip (s : str) -> set:\n",
    "    s = s.strip()\n",
    "    return {s} if s else set()"
   ]
  },
  {
   "cell_type": "code",
   "execution_count": 22,
   "metadata": {},
   "outputs": [],
   "source": [
    "syns = [\n",
    "    {'Optical computing', 'optical calculation', 'optical computing'},\n",
    "    {'Flexible manipulator', 'The flexible arm', 'flexible-arm'},\n",
    "    {'NN', 'The neural network', '[计] neural net', '[计] neural network'},\n",
    "    {'Organic chemistry,', '[有化] organic chemistry'},\n",
    "    {'abbr. er', 'int. hum', 'well'},\n",
    "    {'acknowledge', 'cognitive', 'cognize', 'perceive'},\n",
    "    {'Britain', 'The British', 'hero', 'outstanding person'},\n",
    "    {'[木][计量] square', 'just', 'party', 'side'},\n",
    "    set(),\n",
    "    {'A hyphen', 'en dash；hyphen(-)'},\n",
    "    \n",
    "]"
   ]
  },
  {
   "cell_type": "code",
   "execution_count": 54,
   "metadata": {},
   "outputs": [
    {
     "data": {
      "text/plain": [
       "[{'optical calculation', 'optical computing'},\n",
       " {'flexible arm', 'flexible manipulator', 'flexible-arm'},\n",
       " {'neural net', 'neural network', 'nn'},\n",
       " {'organic chemistry'},\n",
       " {'er', 'hum', 'well'},\n",
       " {'acknowledge', 'cognitive', 'cognize', 'perceive'},\n",
       " {'britain', 'british', 'hero', 'outstanding person'},\n",
       " {'just', 'party', 'side', 'square'},\n",
       " set(),\n",
       " {'en dash', 'hyphen'}]"
      ]
     },
     "execution_count": 54,
     "metadata": {},
     "output_type": "execute_result"
    }
   ],
   "source": [
    "filters = [__filterLower, __filterTerm, __filterBracket, __filterCixing, __filterComma, ###去除一些东西（整体上）\n",
    "           __filterHyphen, __filterSemicolon,###扩展一些东西\n",
    "           __filterStopWords,###去除一些词（分词后）\n",
    "           __filterStrip] ###去重去空\n",
    "[__filter(ss, filters) for ss in syns]"
   ]
  },
  {
   "cell_type": "code",
   "execution_count": null,
   "metadata": {},
   "outputs": [],
   "source": []
  }
 ],
 "metadata": {
  "kernelspec": {
   "display_name": "Python 3",
   "language": "python",
   "name": "python3"
  },
  "language_info": {
   "codemirror_mode": {
    "name": "ipython",
    "version": 3
   },
   "file_extension": ".py",
   "mimetype": "text/x-python",
   "name": "python",
   "nbconvert_exporter": "python",
   "pygments_lexer": "ipython3",
   "version": "3.8.3"
  }
 },
 "nbformat": 4,
 "nbformat_minor": 4
}
