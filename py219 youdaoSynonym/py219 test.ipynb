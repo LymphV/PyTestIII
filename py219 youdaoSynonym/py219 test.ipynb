{
 "cells": [
  {
   "cell_type": "code",
   "execution_count": 1,
   "metadata": {
    "ExecuteTime": {
     "end_time": "2020-12-22T06:21:59.349860Z",
     "start_time": "2020-12-22T06:21:58.612861Z"
    }
   },
   "outputs": [],
   "source": [
    "from youdaoSynonym import YoudaoSynonym"
   ]
  },
  {
   "cell_type": "code",
   "execution_count": 2,
   "metadata": {
    "ExecuteTime": {
     "end_time": "2020-12-22T06:22:07.622877Z",
     "start_time": "2020-12-22T06:22:02.345875Z"
    }
   },
   "outputs": [],
   "source": [
    "yd = YoudaoSynonym(ifHeadless=0)"
   ]
  },
  {
   "cell_type": "code",
   "execution_count": 3,
   "metadata": {
    "ExecuteTime": {
     "end_time": "2020-12-01T06:43:11.794675Z",
     "start_time": "2020-12-01T06:43:11.782673Z"
    }
   },
   "outputs": [],
   "source": [
    "dv = yd._YoudaoSynonym__dv"
   ]
  },
  {
   "cell_type": "code",
   "execution_count": 4,
   "metadata": {},
   "outputs": [],
   "source": [
    "pathSelect = '//*[@class=\"select clear\"]/li[contains(@class,\"selected\")]'"
   ]
  },
  {
   "cell_type": "code",
   "execution_count": 5,
   "metadata": {},
   "outputs": [
    {
     "data": {
      "text/plain": [
       "'AUTO'"
      ]
     },
     "execution_count": 5,
     "metadata": {},
     "output_type": "execute_result"
    }
   ],
   "source": [
    "dv.find_element_by_xpath(pathSelect).get_attribute('data-value')"
   ]
  },
  {
   "cell_type": "code",
   "execution_count": 4,
   "metadata": {
    "ExecuteTime": {
     "end_time": "2020-12-01T06:43:15.694195Z",
     "start_time": "2020-12-01T06:43:13.282674Z"
    }
   },
   "outputs": [
    {
     "data": {
      "text/plain": [
       "{'2 - bisphosphonate methyl nitrate - 5 - nitro tetrazolium 4 - amino - 1 2 4 - triazole salt',\n",
       " '2 amido methyl 5 nitroteazole 4 amino 1 2 4 triazole salt',\n",
       " '2 bisphosphonate methyl nitrate 5 nitro tetrazolium 4 amino 1 2 4 triazole salt',\n",
       " '2-amido-methyl-5-nitroteazole 4-amino-1 2 4-triazole salt'}"
      ]
     },
     "execution_count": 4,
     "metadata": {},
     "output_type": "execute_result"
    }
   ],
   "source": [
    "yd.getSynonyms('2-偕二硝甲基-5-硝基四唑4-氨基-1 2 4-三唑盐')"
   ]
  },
  {
   "cell_type": "code",
   "execution_count": 5,
   "metadata": {
    "ExecuteTime": {
     "end_time": "2020-12-01T06:43:41.702181Z",
     "start_time": "2020-12-01T06:43:29.443219Z"
    }
   },
   "outputs": [
    {
     "data": {
      "text/plain": [
       "{'气体绝缘金属封闭输电线路'}"
      ]
     },
     "execution_count": 5,
     "metadata": {},
     "output_type": "execute_result"
    }
   ],
   "source": [
    "yd.getSynonyms('气体绝缘金属封闭输电线路')"
   ]
  },
  {
   "cell_type": "code",
   "execution_count": 6,
   "metadata": {
    "ExecuteTime": {
     "end_time": "2020-12-01T06:43:48.282219Z",
     "start_time": "2020-12-01T06:43:44.689176Z"
    }
   },
   "outputs": [
    {
     "data": {
      "text/plain": [
       "{'gas insulated metal enclosed transmission lines',\n",
       " 'gas insulated metal-enclosed transmission lines'}"
      ]
     },
     "execution_count": 6,
     "metadata": {},
     "output_type": "execute_result"
    }
   ],
   "source": [
    "yd.getSynonyms('气体绝缘金属封闭输电线路', 'ch2en')"
   ]
  },
  {
   "cell_type": "code",
   "execution_count": 5,
   "metadata": {
    "ExecuteTime": {
     "end_time": "2020-11-30T09:31:06.071198Z",
     "start_time": "2020-11-30T09:31:03.860195Z"
    }
   },
   "outputs": [
    {
     "data": {
      "text/plain": [
       "{'mice', 'rat', 'rats'}"
      ]
     },
     "execution_count": 5,
     "metadata": {},
     "output_type": "execute_result"
    }
   ],
   "source": [
    "yd.getSynonyms('大鼠')"
   ]
  },
  {
   "cell_type": "code",
   "execution_count": 6,
   "metadata": {
    "ExecuteTime": {
     "end_time": "2020-11-30T09:31:10.339498Z",
     "start_time": "2020-11-30T09:31:08.181439Z"
    }
   },
   "outputs": [
    {
     "data": {
      "text/plain": [
       "{'surface wave'}"
      ]
     },
     "execution_count": 6,
     "metadata": {},
     "output_type": "execute_result"
    }
   ],
   "source": [
    "yd.getSynonyms('表面波')"
   ]
  },
  {
   "cell_type": "code",
   "execution_count": 7,
   "metadata": {
    "ExecuteTime": {
     "end_time": "2020-11-30T09:31:22.534525Z",
     "start_time": "2020-11-30T09:31:10.550497Z"
    }
   },
   "outputs": [
    {
     "data": {
      "text/plain": [
       "{'专业'}"
      ]
     },
     "execution_count": 7,
     "metadata": {},
     "output_type": "execute_result"
    }
   ],
   "source": [
    "yd.getSynonyms('専門')"
   ]
  },
  {
   "cell_type": "code",
   "execution_count": 8,
   "metadata": {
    "ExecuteTime": {
     "end_time": "2020-11-30T09:33:00.306220Z",
     "start_time": "2020-11-30T09:32:47.876093Z"
    }
   },
   "outputs": [
    {
     "data": {
      "text/plain": [
       "{'横断搜索'}"
      ]
     },
     "execution_count": 8,
     "metadata": {},
     "output_type": "execute_result"
    }
   ],
   "source": [
    "yd.getSynonyms('横断検索')"
   ]
  },
  {
   "cell_type": "code",
   "execution_count": 9,
   "metadata": {
    "ExecuteTime": {
     "end_time": "2020-11-30T09:33:02.825323Z",
     "start_time": "2020-11-30T09:33:01.148227Z"
    }
   },
   "outputs": [
    {
     "data": {
      "text/plain": [
       "{'acknowledge', 'cognitive', 'cognize', 'perceive'}"
      ]
     },
     "execution_count": 9,
     "metadata": {},
     "output_type": "execute_result"
    }
   ],
   "source": [
    "yd.getSynonyms('认知')"
   ]
  },
  {
   "cell_type": "code",
   "execution_count": 10,
   "metadata": {
    "ExecuteTime": {
     "end_time": "2020-11-30T09:33:05.761707Z",
     "start_time": "2020-11-30T09:33:03.540304Z"
    }
   },
   "outputs": [
    {
     "data": {
      "text/plain": [
       "{'optical calculation', 'optical computing'}"
      ]
     },
     "execution_count": 10,
     "metadata": {},
     "output_type": "execute_result"
    }
   ],
   "source": [
    "yd.getSynonyms('光学计算')"
   ]
  },
  {
   "cell_type": "code",
   "execution_count": 11,
   "metadata": {
    "ExecuteTime": {
     "end_time": "2020-11-30T09:33:09.079812Z",
     "start_time": "2020-11-30T09:33:06.860689Z"
    }
   },
   "outputs": [
    {
     "data": {
      "text/plain": [
       "{'flexible arm', 'flexible manipulator', 'flexible-arm'}"
      ]
     },
     "execution_count": 11,
     "metadata": {},
     "output_type": "execute_result"
    }
   ],
   "source": [
    "yd.getSynonyms('柔性臂')"
   ]
  },
  {
   "cell_type": "code",
   "execution_count": 12,
   "metadata": {
    "ExecuteTime": {
     "end_time": "2020-11-30T09:33:11.900804Z",
     "start_time": "2020-11-30T09:33:09.700797Z"
    }
   },
   "outputs": [
    {
     "data": {
      "text/plain": [
       "{'neural net', 'neural network', 'nn'}"
      ]
     },
     "execution_count": 12,
     "metadata": {},
     "output_type": "execute_result"
    }
   ],
   "source": [
    "yd.getSynonyms('神经网络')"
   ]
  },
  {
   "cell_type": "code",
   "execution_count": 13,
   "metadata": {
    "ExecuteTime": {
     "end_time": "2020-11-30T09:33:14.810848Z",
     "start_time": "2020-11-30T09:33:12.660795Z"
    }
   },
   "outputs": [
    {
     "data": {
      "text/plain": [
       "{'organic chemistry'}"
      ]
     },
     "execution_count": 13,
     "metadata": {},
     "output_type": "execute_result"
    }
   ],
   "source": [
    "yd.getSynonyms('有机化学')"
   ]
  },
  {
   "cell_type": "code",
   "execution_count": 14,
   "metadata": {
    "ExecuteTime": {
     "end_time": "2020-11-30T09:33:18.362814Z",
     "start_time": "2020-11-30T09:33:16.172811Z"
    }
   },
   "outputs": [
    {
     "data": {
      "text/plain": [
       "{'er', 'hum', 'um', 'well'}"
      ]
     },
     "execution_count": 14,
     "metadata": {},
     "output_type": "execute_result"
    }
   ],
   "source": [
    "yd.getSynonyms('嗯')"
   ]
  },
  {
   "cell_type": "code",
   "execution_count": 15,
   "metadata": {
    "ExecuteTime": {
     "end_time": "2020-11-30T09:33:20.811824Z",
     "start_time": "2020-11-30T09:33:19.071826Z"
    }
   },
   "outputs": [
    {
     "data": {
      "text/plain": [
       "{'britain', 'british', 'hero', 'outstanding person', 'ying'}"
      ]
     },
     "execution_count": 15,
     "metadata": {},
     "output_type": "execute_result"
    }
   ],
   "source": [
    "yd.getSynonyms('英')"
   ]
  },
  {
   "cell_type": "code",
   "execution_count": 16,
   "metadata": {
    "ExecuteTime": {
     "end_time": "2020-11-30T09:33:23.996881Z",
     "start_time": "2020-11-30T09:33:21.803869Z"
    }
   },
   "outputs": [
    {
     "data": {
      "text/plain": [
       "{'just', 'party', 'side', 'square'}"
      ]
     },
     "execution_count": 16,
     "metadata": {},
     "output_type": "execute_result"
    }
   ],
   "source": [
    "yd.getSynonyms('方')"
   ]
  },
  {
   "cell_type": "code",
   "execution_count": 17,
   "metadata": {
    "ExecuteTime": {
     "end_time": "2020-11-30T09:33:26.341883Z",
     "start_time": "2020-11-30T09:33:24.211886Z"
    }
   },
   "outputs": [
    {
     "data": {
      "text/plain": [
       "{'en dash', 'hyphen'}"
      ]
     },
     "execution_count": 17,
     "metadata": {},
     "output_type": "execute_result"
    }
   ],
   "source": [
    "yd.getSynonyms('连字符')"
   ]
  },
  {
   "cell_type": "code",
   "execution_count": 7,
   "metadata": {
    "ExecuteTime": {
     "end_time": "2020-12-01T06:44:12.745530Z",
     "start_time": "2020-12-01T06:44:10.387535Z"
    }
   },
   "outputs": [],
   "source": [
    "yd.close()"
   ]
  },
  {
   "cell_type": "code",
   "execution_count": null,
   "metadata": {},
   "outputs": [],
   "source": []
  }
 ],
 "metadata": {
  "kernelspec": {
   "display_name": "Python 3",
   "language": "python",
   "name": "python3"
  },
  "language_info": {
   "codemirror_mode": {
    "name": "ipython",
    "version": 3
   },
   "file_extension": ".py",
   "mimetype": "text/x-python",
   "name": "python",
   "nbconvert_exporter": "python",
   "pygments_lexer": "ipython3",
   "version": "3.8.3"
  },
  "varInspector": {
   "cols": {
    "lenName": 16,
    "lenType": 16,
    "lenVar": 40
   },
   "kernels_config": {
    "python": {
     "delete_cmd_postfix": "",
     "delete_cmd_prefix": "del ",
     "library": "var_list.py",
     "varRefreshCmd": "print(var_dic_list())"
    },
    "r": {
     "delete_cmd_postfix": ") ",
     "delete_cmd_prefix": "rm(",
     "library": "var_list.r",
     "varRefreshCmd": "cat(var_dic_list()) "
    }
   },
   "types_to_exclude": [
    "module",
    "function",
    "builtin_function_or_method",
    "instance",
    "_Feature"
   ],
   "window_display": false
  }
 },
 "nbformat": 4,
 "nbformat_minor": 4
}
