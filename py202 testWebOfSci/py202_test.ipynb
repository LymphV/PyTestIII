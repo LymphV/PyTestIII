{
 "cells": [
  {
   "cell_type": "code",
   "execution_count": 1,
   "metadata": {},
   "outputs": [],
   "source": [
    "from cfg import userAgent, home\n",
    "from driverOps import getDriver, newLabel, switchLabel, waitTillOpen\n",
    "from searcher import selectDatabase, selectSpan, search, ifSearchFailed, selectSearchField\n",
    "from listExtracter import getIds, sortResults, getNumOfRst, getLnks, MAX_DOC\n",
    "from paperExtracter import extractValues"
   ]
  },
  {
   "cell_type": "code",
   "execution_count": 2,
   "metadata": {},
   "outputs": [],
   "source": [
    "driver = getDriver(0)"
   ]
  },
  {
   "cell_type": "code",
   "execution_count": 3,
   "metadata": {},
   "outputs": [
    {
     "name": "stdout",
     "output_type": "stream",
     "text": [
      "Wall time: 6.06 s\n"
     ]
    },
    {
     "data": {
      "text/plain": [
       "'http://apps.webofknowledge.com/UA_GeneralSearch_input.do?product=UA&search_mode=GeneralSearch&SID=7BURJyiVIK3QqYEhjQl&preferencesSaved='"
      ]
     },
     "execution_count": 3,
     "metadata": {},
     "output_type": "execute_result"
    }
   ],
   "source": [
    "%%time\n",
    "driver.get(home)\n",
    "driver.current_url"
   ]
  },
  {
   "cell_type": "code",
   "execution_count": 4,
   "metadata": {},
   "outputs": [],
   "source": [
    "keyWord = 'science'\n",
    "startYear = 1970#None#\n",
    "endYear = 2015#None#\n",
    "nReq = 10\n",
    "sortReq = ''\n",
    "field = ''"
   ]
  },
  {
   "cell_type": "code",
   "execution_count": 5,
   "metadata": {},
   "outputs": [],
   "source": [
    "selectDatabase(driver)"
   ]
  },
  {
   "cell_type": "code",
   "execution_count": 6,
   "metadata": {},
   "outputs": [],
   "source": [
    "selectSpan(driver, (startYear, endYear))"
   ]
  },
  {
   "cell_type": "code",
   "execution_count": 7,
   "metadata": {},
   "outputs": [],
   "source": [
    "selectSearchField (driver, field)"
   ]
  },
  {
   "cell_type": "code",
   "execution_count": 8,
   "metadata": {},
   "outputs": [],
   "source": [
    "#selectSearchField (driver,'LA')"
   ]
  },
  {
   "cell_type": "code",
   "execution_count": 9,
   "metadata": {},
   "outputs": [],
   "source": [
    "search(driver, keyWord)"
   ]
  },
  {
   "cell_type": "code",
   "execution_count": 10,
   "metadata": {},
   "outputs": [
    {
     "data": {
      "text/plain": [
       "('7BURJyiVIK3QqYEhjQl', '1')"
      ]
     },
     "execution_count": 10,
     "metadata": {},
     "output_type": "execute_result"
    }
   ],
   "source": [
    "sid, qid = getIds(driver)\n",
    "sid, qid"
   ]
  },
  {
   "cell_type": "code",
   "execution_count": 11,
   "metadata": {},
   "outputs": [],
   "source": [
    "sortResults(driver, sid, qid, sortReq)"
   ]
  },
  {
   "cell_type": "code",
   "execution_count": 12,
   "metadata": {},
   "outputs": [
    {
     "data": {
      "text/plain": [
       "109691"
      ]
     },
     "execution_count": 12,
     "metadata": {},
     "output_type": "execute_result"
    }
   ],
   "source": [
    "nRst = getNumOfRst(driver)\n",
    "nRst"
   ]
  },
  {
   "cell_type": "code",
   "execution_count": 15,
   "metadata": {},
   "outputs": [],
   "source": [
    "switchLabel(driver, 0)"
   ]
  },
  {
   "cell_type": "code",
   "execution_count": 17,
   "metadata": {},
   "outputs": [
    {
     "name": "stdout",
     "output_type": "stream",
     "text": [
      "How mathematical modeling tools are helping the pharmaceutical sciences\n",
      "Lamberti, G (Lamberti, Gaetano)\n",
      "Lamberti, G\n",
      "glamberti@unisa.it\n",
      "*******\n",
      "New directions in the science and technology of advanced sheet explosive formulations and the key energetic materials used in the processing of sheet explosives: Emerging trends\n",
      "Talawar, MB (Talawar, M. B.) ; Jangid, SK (Jangid, S. K.) ; Nath, T (Nath, T.) ; Sinha, RK (Sinha, R. K.) ; Asthana, SN (Asthana, S. N.)\n",
      "Talawar, MB\n",
      "drmaterialsscience@gmail.com\n",
      "*******\n",
      "Catalogue of the Type Specimens of Amphibians and Reptiles in the Herpetological Museum of the Chengdu Institute of Biology, Chinese Academy of Sciences: IV. Lizards (Reptilia, Sauria)\n",
      "Wang, B (Wang, Bo) ; Jiang, K (Jiang, Ke) ; Li, JT (Li, Jiatang) ; Wang, YZ (Wang, Yuezhao) ; Yang, DD (Yang, Daode)\n",
      "Yang, DD\n",
      "csfuyydd@126.com\n",
      "*******\n",
      "Big data cloud and the frontier of computer science and technology\n",
      "Li, KQ (Li, Keqiu) ; Wu, HY (Wu, Hongyi) ; Li, ZY (Li, Zhiyang)\n",
      "Li, KQ\n",
      "lizy0205@gmail.com\n",
      "*******\n",
      "Great science and technology in India - at IISc and other educational institutes? Further analysis and possible solution\n",
      "Mukunda, HS (Mukunda, H. S.)\n",
      "Mukunda, HS\n",
      "hsm.cgpl@gmail.com\n",
      "*******\n",
      "A logo for sciences\n",
      "Varkey, MJ (Varkey, M. J.)\n",
      "Varkey, MJ\n",
      "Knowwell1098@yahoo.co.in\n",
      "*******\n",
      "invalid paper\n",
      "*******\n",
      "invalid paper\n",
      "*******\n",
      "Exploring smart grids with simulations in a mobile science exhibition\n",
      "Li, HJ (Li, Huijie) ; Chabay, I (Chabay, Ilan) ; Renn, O (Renn, Ortwin) ; Weber, A (Weber, Andreas) ; Mbungu, G (Mbungu, Grace)\n",
      "Li, HJ\n",
      "Huijie.Li@sowi.uni-stuttgart.de\n",
      "*******\n",
      "The Phenomenon of the Styrian Arsenic Eaters from the Perspective of Literature, Chemistry, Toxicology, and History of Science-\"Strong Poison\" or \"Simple-Minded Reasoning\"?\n",
      "Wallau, WM (Martin Wallau, W.)\n",
      "Wallau, WM\n",
      "martin_wallau@ufpel.edu.br\n",
      "*******\n"
     ]
    }
   ],
   "source": [
    "for lnk in getLnks(driver, nReq):\n",
    "    newLabel(driver, lnk)\n",
    "    switchLabel(driver, -1)\n",
    "    waitTillOpen(driver, 10)\n",
    "    rst = extractValues(driver)\n",
    "    if rst:\n",
    "        #print (rst.__dict__)\n",
    "        print(rst.title)\n",
    "        print(rst.authors)\n",
    "        print(rst.cauthors)\n",
    "        print(rst.emails)\n",
    "    else:\n",
    "        print('invalid paper')\n",
    "    print('*******')\n",
    "    driver.close()\n",
    "    switchLabel(driver,0)"
   ]
  },
  {
   "cell_type": "code",
   "execution_count": 40,
   "metadata": {},
   "outputs": [
    {
     "data": {
      "text/plain": [
       "'检索后没有发现记录。\\n检查您的检索式的拼写。\\n将您的检索式与检索页面和 \"帮助\" 中的检索式示例相比较。\\n使用通配符 (*, $, ?) 查找单词复数和不同形式。(例如， graph*nanofib* 可检索石墨纳米纤维)。\\n使用多个词语查找类似的概念。(例如， cell* phone* OR mobile phone*)。\\n考虑清除检索表。此前的检索式可能保存在其他字段中。\\n请参见 检索规则 和 培训视频'"
      ]
     },
     "execution_count": 40,
     "metadata": {},
     "output_type": "execute_result"
    }
   ],
   "source": [
    "driver.find_element_by_class_name('errorMessage').text"
   ]
  },
  {
   "cell_type": "code",
   "execution_count": null,
   "metadata": {},
   "outputs": [],
   "source": []
  },
  {
   "cell_type": "code",
   "execution_count": 18,
   "metadata": {},
   "outputs": [],
   "source": [
    "driver.quit()"
   ]
  },
  {
   "cell_type": "code",
   "execution_count": null,
   "metadata": {},
   "outputs": [],
   "source": []
  }
 ],
 "metadata": {
  "kernelspec": {
   "display_name": "Python 3",
   "language": "python",
   "name": "python3"
  },
  "language_info": {
   "codemirror_mode": {
    "name": "ipython",
    "version": 3
   },
   "file_extension": ".py",
   "mimetype": "text/x-python",
   "name": "python",
   "nbconvert_exporter": "python",
   "pygments_lexer": "ipython3",
   "version": "3.8.3"
  }
 },
 "nbformat": 4,
 "nbformat_minor": 4
}
