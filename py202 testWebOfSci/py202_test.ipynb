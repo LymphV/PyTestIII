{
 "cells": [
  {
   "cell_type": "code",
   "execution_count": 1,
   "metadata": {},
   "outputs": [],
   "source": [
    "from cfg import userAgent, home\n",
    "from driverOps import getDriver, newLabel, switchLabel, waitTillOpen\n",
    "from searcher import selectDatabase, selectSpan, search, ifSearchFailed\n",
    "from listExtracter import getIds, sortResults, getNumOfRst, getLnks, MAX_DOC\n",
    "from paperExtracter import extractValues"
   ]
  },
  {
   "cell_type": "code",
   "execution_count": 2,
   "metadata": {},
   "outputs": [],
   "source": [
    "driver = getDriver(0)"
   ]
  },
  {
   "cell_type": "code",
   "execution_count": 3,
   "metadata": {},
   "outputs": [
    {
     "name": "stdout",
     "output_type": "stream",
     "text": [
      "Wall time: 4.91 s\n"
     ]
    },
    {
     "data": {
      "text/plain": [
       "'http://apps.webofknowledge.com/UA_GeneralSearch_input.do?product=UA&search_mode=GeneralSearch&SID=7DpBqh9UMaUGa5ovnyc&preferencesSaved='"
      ]
     },
     "execution_count": 3,
     "metadata": {},
     "output_type": "execute_result"
    }
   ],
   "source": [
    "%%time\n",
    "driver.get(home)\n",
    "driver.current_url"
   ]
  },
  {
   "cell_type": "code",
   "execution_count": 10,
   "metadata": {},
   "outputs": [],
   "source": [
    "keyWord = 'science'\n",
    "startYear = 1970\n",
    "endYear = 2010\n",
    "nReq = 10\n",
    "sortReq = 'LCD'"
   ]
  },
  {
   "cell_type": "code",
   "execution_count": 5,
   "metadata": {},
   "outputs": [],
   "source": [
    "selectDatabase(driver)"
   ]
  },
  {
   "cell_type": "code",
   "execution_count": 6,
   "metadata": {},
   "outputs": [],
   "source": [
    "selectSpan(driver, (startYear, endYear))"
   ]
  },
  {
   "cell_type": "code",
   "execution_count": 7,
   "metadata": {},
   "outputs": [],
   "source": [
    "search(driver, keyWord)"
   ]
  },
  {
   "cell_type": "code",
   "execution_count": 8,
   "metadata": {},
   "outputs": [
    {
     "data": {
      "text/plain": [
       "('7DpBqh9UMaUGa5ovnyc', '1')"
      ]
     },
     "execution_count": 8,
     "metadata": {},
     "output_type": "execute_result"
    }
   ],
   "source": [
    "sid, qid = getIds(driver)\n",
    "sid, qid"
   ]
  },
  {
   "cell_type": "code",
   "execution_count": 13,
   "metadata": {},
   "outputs": [],
   "source": [
    "sortResults(driver, sid, qid, sortReq)"
   ]
  },
  {
   "cell_type": "code",
   "execution_count": 33,
   "metadata": {},
   "outputs": [
    {
     "data": {
      "text/plain": [
       "1226080"
      ]
     },
     "execution_count": 33,
     "metadata": {},
     "output_type": "execute_result"
    }
   ],
   "source": [
    "nRst = getNumOfRst(driver)\n",
    "nRst"
   ]
  },
  {
   "cell_type": "code",
   "execution_count": 45,
   "metadata": {},
   "outputs": [],
   "source": [
    "switchLabel(driver, 0)"
   ]
  },
  {
   "cell_type": "code",
   "execution_count": 46,
   "metadata": {},
   "outputs": [
    {
     "name": "stdout",
     "output_type": "stream",
     "text": [
      "invalid paper\n",
      "*******\n",
      "{'title': 'The rise of graphene', 'authors': 'Geim, AK (Geim, A. K.); Novoselov, KS (Novoselov, K. S.)', 'cauthors': 'Geim, AK', 'email': 'geim@man.ac.uk'}\n",
      "The rise of graphene\n",
      "Geim, AK (Geim, A. K.); Novoselov, KS (Novoselov, K. S.)\n",
      "Geim, AK\n",
      "geim@man.ac.uk\n",
      "*******\n",
      "invalid paper\n",
      "*******\n",
      "{'title': 'Fiji: an open-source platform for biological-image analysis', 'authors': 'Schindelin, J (Schindelin, Johannes) ; Arganda-Carreras, I (Arganda-Carreras, Ignacio) ; Frise, E (Frise, Erwin) ; Kaynig, V (Kaynig, Verena) ; Longair, M (Longair, Mark) ; Pietzsch, T (Pietzsch, Tobias) ; Preibisch, S (Preibisch, Stephan) ; Rueden, C (Rueden, Curtis) ; Saalfeld, S (Saalfeld, Stephan) ; Schmid, B (Schmid, Benjamin) ', 'cauthors': 'Tomancak, P', 'email': 'tomancak@mpi-cbg.de'}\n",
      "Fiji: an open-source platform for biological-image analysis\n",
      "Schindelin, J (Schindelin, Johannes) ; Arganda-Carreras, I (Arganda-Carreras, Ignacio) ; Frise, E (Frise, Erwin) ; Kaynig, V (Kaynig, Verena) ; Longair, M (Longair, Mark) ; Pietzsch, T (Pietzsch, Tobias) ; Preibisch, S (Preibisch, Stephan) ; Rueden, C (Rueden, Curtis) ; Saalfeld, S (Saalfeld, Stephan) ; Schmid, B (Schmid, Benjamin) \n",
      "Tomancak, P\n",
      "tomancak@mpi-cbg.de\n",
      "*******\n",
      "{'title': 'GEANT4-a simulation toolkit', 'authors': 'Agostinelli, S (Agostinelli, S); Allison, J (Allison, J); Amako, K (Amako, K); Apostolakis, J (Apostolakis, J); Araujo, H (Araujo, H); Arce, P (Arce, P); Asai, M (Asai, M); Axen, D (Axen, D); Banerjee, S (Banerjee, S); Barrand, G (Barrand, G)', 'cauthors': 'Allison, J', 'email': 'john.allison@man.ac.uk'}\n",
      "GEANT4-a simulation toolkit\n",
      "Agostinelli, S (Agostinelli, S); Allison, J (Allison, J); Amako, K (Amako, K); Apostolakis, J (Apostolakis, J); Araujo, H (Araujo, H); Arce, P (Arce, P); Asai, M (Asai, M); Axen, D (Axen, D); Banerjee, S (Banerjee, S); Barrand, G (Barrand, G)\n",
      "Allison, J\n",
      "john.allison@man.ac.uk\n",
      "*******\n"
     ]
    }
   ],
   "source": [
    "for lnk in getLnks(driver, nReq):\n",
    "    newLabel(driver, lnk)\n",
    "    switchLabel(driver, -1)\n",
    "    waitTillOpen(driver, 10)\n",
    "    rst = extractValues(driver)\n",
    "    if rst:\n",
    "        print (rst.__dict__)\n",
    "        print(rst.title)\n",
    "        print(rst.authors)\n",
    "        print(rst.cauthors)\n",
    "        print(rst.email)\n",
    "    else:\n",
    "        print('invalid paper')\n",
    "    print('*******')\n",
    "    driver.close()\n",
    "    switchLabel(driver,0)"
   ]
  },
  {
   "cell_type": "code",
   "execution_count": 40,
   "metadata": {},
   "outputs": [
    {
     "data": {
      "text/plain": [
       "'检索后没有发现记录。\\n检查您的检索式的拼写。\\n将您的检索式与检索页面和 \"帮助\" 中的检索式示例相比较。\\n使用通配符 (*, $, ?) 查找单词复数和不同形式。(例如， graph*nanofib* 可检索石墨纳米纤维)。\\n使用多个词语查找类似的概念。(例如， cell* phone* OR mobile phone*)。\\n考虑清除检索表。此前的检索式可能保存在其他字段中。\\n请参见 检索规则 和 培训视频'"
      ]
     },
     "execution_count": 40,
     "metadata": {},
     "output_type": "execute_result"
    }
   ],
   "source": [
    "driver.find_element_by_class_name('errorMessage').text"
   ]
  },
  {
   "cell_type": "code",
   "execution_count": null,
   "metadata": {},
   "outputs": [],
   "source": []
  },
  {
   "cell_type": "code",
   "execution_count": 14,
   "metadata": {},
   "outputs": [],
   "source": [
    "driver.quit()"
   ]
  },
  {
   "cell_type": "code",
   "execution_count": null,
   "metadata": {},
   "outputs": [],
   "source": []
  }
 ],
 "metadata": {
  "kernelspec": {
   "display_name": "Python 3",
   "language": "python",
   "name": "python3"
  },
  "language_info": {
   "codemirror_mode": {
    "name": "ipython",
    "version": 3
   },
   "file_extension": ".py",
   "mimetype": "text/x-python",
   "name": "python",
   "nbconvert_exporter": "python",
   "pygments_lexer": "ipython3",
   "version": "3.8.3"
  }
 },
 "nbformat": 4,
 "nbformat_minor": 4
}
