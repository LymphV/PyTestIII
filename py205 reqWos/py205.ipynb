{
 "cells": [
  {
   "cell_type": "code",
   "execution_count": 10,
   "metadata": {},
   "outputs": [],
   "source": [
    "import requests\n",
    "import re"
   ]
  },
  {
   "cell_type": "code",
   "execution_count": 2,
   "metadata": {},
   "outputs": [],
   "source": [
    "#url = 'http://apps.webofknowledge.com/WOS_GeneralSearch_input.do?product=WOS&SID=7D9lvfMRIdH4eAZ8TGX&search_mode=GeneralSearch'"
   ]
  },
  {
   "cell_type": "code",
   "execution_count": 29,
   "metadata": {},
   "outputs": [
    {
     "name": "stdout",
     "output_type": "stream",
     "text": [
      "Wall time: 49.3 s\n"
     ]
    }
   ],
   "source": [
    "%%time\n",
    "a = requests.get('http://apps.webofknowledge.com/')"
   ]
  },
  {
   "cell_type": "code",
   "execution_count": 30,
   "metadata": {},
   "outputs": [],
   "source": [
    "sidPat = r'SID=(\\w+)&'\n",
    "qidPat = r'qid=(\\d+)&'"
   ]
  },
  {
   "cell_type": "code",
   "execution_count": 42,
   "metadata": {},
   "outputs": [],
   "source": [
    "url = a.url.replace('UA','WOS').replace('&preferencesSaved=', '').replace('GeneralSearch', 'AdvancedSearch')"
   ]
  },
  {
   "cell_type": "code",
   "execution_count": 38,
   "metadata": {},
   "outputs": [],
   "source": [
    "url = 'http://apps.webofknowledge.com/WOS_GeneralSearch_input.do'"
   ]
  },
  {
   "cell_type": "code",
   "execution_count": 32,
   "metadata": {},
   "outputs": [],
   "source": [
    "sid = re.findall(sidPat,a.url)[0]"
   ]
  },
  {
   "cell_type": "code",
   "execution_count": 33,
   "metadata": {},
   "outputs": [],
   "source": [
    "keyWord = 'TS=covid-19'"
   ]
  },
  {
   "cell_type": "code",
   "execution_count": 34,
   "metadata": {},
   "outputs": [],
   "source": [
    "form = {\n",
    "            \"product\": \"WOS\",\n",
    "            \"search_mode\": \"AdvancedSearch\",\n",
    "            \"SID\": sid,\n",
    "            \"input_invalid_notice\": \"Search Error: Please enter a search term.\",\n",
    "            \"input_invalid_notice_limits\": \" <br/>Note: Fields displayed in scrolling boxes must be combined with at least one other search field.\",\n",
    "            \"action\": \"search\",\n",
    "            \"replaceSetId\": \"\",\n",
    "            \"goToPageLoc\": \"SearchHistoryTableBanner\",\n",
    "            \"value(input1)\": keyWord,\n",
    "            \"value(searchOp)\": \"search\",\n",
    "            \"value(select2)\": \"LA\",\n",
    "            \"value(input2)\": \"\",\n",
    "            \"value(select3)\": \"DT\",\n",
    "            \"value(input3)\": \"\",\n",
    "            \"value(limitCount)\": \"14\",\n",
    "            \"limitStatus\": \"collapsed\",\n",
    "            \"ss_lemmatization\": \"On\",\n",
    "            \"ss_spellchecking\": \"Suggest\",\n",
    "            \"SinceLastVisit_UTC\": \"\",\n",
    "            \"SinceLastVisit_DATE\": \"\",\n",
    "            \"period\": \"Range Selection\",\n",
    "            \"range\": \"ALL\",\n",
    "            \"startYear\": \"1900\",\n",
    "            \"endYear\": \"2020\",\n",
    "            #\"editions\": [],\n",
    "            \"editions\": [\"SCI\", \"SSCI\", \"AHCI\", \"ISTP\", \"ISSHP\", \"ESCI\", \"CCR\", \"IC\"],\n",
    "            \"update_back2search_link_param\": \"yes\",\n",
    "            \"ss_query_language\": \"\",\n",
    "            \"rs_sort_by\": \"PY.D;LD.D;SO.A;VL.D;PG.A;AU.A\",\n",
    "        }"
   ]
  },
  {
   "cell_type": "code",
   "execution_count": 43,
   "metadata": {},
   "outputs": [
    {
     "name": "stdout",
     "output_type": "stream",
     "text": [
      "Wall time: 11.7 s\n"
     ]
    }
   ],
   "source": [
    "%%time\n",
    "b = requests.post(url, form)"
   ]
  },
  {
   "cell_type": "code",
   "execution_count": 44,
   "metadata": {},
   "outputs": [],
   "source": [
    "with open('a.html','wb')as f: f.write(b.content)"
   ]
  },
  {
   "cell_type": "code",
   "execution_count": 45,
   "metadata": {},
   "outputs": [
    {
     "data": {
      "text/plain": [
       "'http://apps.webofknowledge.com/WOS_AdvancedSearch_input.do?product=WOS&search_mode=AdvancedSearch&SID=5CFtrSW75uMtIVOhCoU'"
      ]
     },
     "execution_count": 45,
     "metadata": {},
     "output_type": "execute_result"
    }
   ],
   "source": [
    "b.url "
   ]
  },
  {
   "cell_type": "code",
   "execution_count": null,
   "metadata": {},
   "outputs": [],
   "source": []
  }
 ],
 "metadata": {
  "kernelspec": {
   "display_name": "Python 3",
   "language": "python",
   "name": "python3"
  },
  "language_info": {
   "codemirror_mode": {
    "name": "ipython",
    "version": 3
   },
   "file_extension": ".py",
   "mimetype": "text/x-python",
   "name": "python",
   "nbconvert_exporter": "python",
   "pygments_lexer": "ipython3",
   "version": "3.8.3"
  }
 },
 "nbformat": 4,
 "nbformat_minor": 4
}
