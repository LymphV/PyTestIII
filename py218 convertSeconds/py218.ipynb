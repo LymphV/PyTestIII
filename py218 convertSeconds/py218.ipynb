{
 "cells": [
  {
   "cell_type": "code",
   "execution_count": 8,
   "metadata": {},
   "outputs": [
    {
     "data": {
      "text/plain": [
       "1"
      ]
     },
     "execution_count": 8,
     "metadata": {},
     "output_type": "execute_result"
    }
   ],
   "source": [
    "round(100.0 //60)"
   ]
  },
  {
   "cell_type": "code",
   "execution_count": 24,
   "metadata": {},
   "outputs": [],
   "source": [
    "def convertSeconds (n):\n",
    "    d = h = m = s = 0\n",
    "    s = n % 60\n",
    "    n = round(n // 60)\n",
    "    m = n % 60\n",
    "    if not n: return f'{s:.3f} s'\n",
    "    n //= 60\n",
    "    h = n % 24\n",
    "    if not n: return f'{m} min {s:.3f} s'\n",
    "    d = n // 24\n",
    "    if not n: return f'{h}h {m}min {s:.3f}s'\n",
    "    return f'{d} d {h} h {m} min {s:.3f} s'"
   ]
  },
  {
   "cell_type": "code",
   "execution_count": 29,
   "metadata": {},
   "outputs": [
    {
     "data": {
      "text/plain": [
       "'41 d 16 h 0 min 0.000 s'"
      ]
     },
     "execution_count": 29,
     "metadata": {},
     "output_type": "execute_result"
    }
   ],
   "source": [
    "convertSeconds(1000 * 60 * 60)"
   ]
  },
  {
   "cell_type": "code",
   "execution_count": null,
   "metadata": {},
   "outputs": [],
   "source": []
  }
 ],
 "metadata": {
  "kernelspec": {
   "display_name": "Python 3",
   "language": "python",
   "name": "python3"
  },
  "language_info": {
   "codemirror_mode": {
    "name": "ipython",
    "version": 3
   },
   "file_extension": ".py",
   "mimetype": "text/x-python",
   "name": "python",
   "nbconvert_exporter": "python",
   "pygments_lexer": "ipython3",
   "version": "3.8.3"
  }
 },
 "nbformat": 4,
 "nbformat_minor": 4
}
