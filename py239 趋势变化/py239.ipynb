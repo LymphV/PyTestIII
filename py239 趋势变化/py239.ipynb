{
 "cells": [
  {
   "cell_type": "markdown",
   "metadata": {},
   "source": [
    "# 库"
   ]
  },
  {
   "cell_type": "code",
   "execution_count": 1,
   "metadata": {
    "ExecuteTime": {
     "end_time": "2021-12-09T03:25:03.816297Z",
     "start_time": "2021-12-09T03:25:03.812308Z"
    }
   },
   "outputs": [],
   "source": [
    "import os, sys, re, json"
   ]
  },
  {
   "cell_type": "code",
   "execution_count": 2,
   "metadata": {
    "ExecuteTime": {
     "end_time": "2021-12-07T10:01:28.139386Z",
     "start_time": "2021-12-07T10:01:27.624388Z"
    }
   },
   "outputs": [],
   "source": [
    "from vEs import EsProxy"
   ]
  },
  {
   "cell_type": "code",
   "execution_count": 2,
   "metadata": {
    "ExecuteTime": {
     "end_time": "2021-12-09T03:25:09.666349Z",
     "start_time": "2021-12-09T03:25:06.610785Z"
    }
   },
   "outputs": [],
   "source": [
    "import pandas as pd"
   ]
  },
  {
   "cell_type": "code",
   "execution_count": 3,
   "metadata": {
    "ExecuteTime": {
     "end_time": "2021-12-09T03:25:11.068445Z",
     "start_time": "2021-12-09T03:25:10.266535Z"
    }
   },
   "outputs": [],
   "source": [
    "from vUtil.vTqdm import tqdm, trange, typeOfScript"
   ]
  },
  {
   "cell_type": "code",
   "execution_count": 4,
   "metadata": {
    "ExecuteTime": {
     "end_time": "2021-12-09T03:25:13.012622Z",
     "start_time": "2021-12-09T03:25:11.514563Z"
    }
   },
   "outputs": [],
   "source": [
    "import matplotlib.pyplot as plt\n",
    "plt.rcParams['font.sans-serif']=['SimHei'] #用来正常显示中文标签\n",
    "plt.rcParams['axes.unicode_minus']=False #用来正常显示负号"
   ]
  },
  {
   "cell_type": "markdown",
   "metadata": {},
   "source": [
    "# 读取"
   ]
  },
  {
   "cell_type": "code",
   "execution_count": 6,
   "metadata": {
    "ExecuteTime": {
     "end_time": "2021-12-07T10:01:29.686389Z",
     "start_time": "2021-12-07T10:01:29.679384Z"
    }
   },
   "outputs": [],
   "source": [
    "es = EsProxy()"
   ]
  },
  {
   "cell_type": "code",
   "execution_count": null,
   "metadata": {},
   "outputs": [],
   "source": []
  },
  {
   "cell_type": "code",
   "execution_count": 74,
   "metadata": {
    "ExecuteTime": {
     "end_time": "2021-11-28T08:45:54.780501Z",
     "start_time": "2021-11-28T08:45:54.769473Z"
    }
   },
   "outputs": [],
   "source": [
    "bodyPaper = lambda year : ({\n",
    "  \"track_total_hits\": true, \n",
    "  \"query\": {\n",
    "    \"bool\": {\n",
    "      \"must\": [\n",
    "        {\"term\": {\"year\": year}},\n",
    "        {\n",
    "          \"bool\": {\n",
    "            \"should\": [\n",
    "              {\"match_phrase\": {\"title\": {\"query\": \"质子交换膜\",\"slop\": 10,\"boost\":2}}},\n",
    "              {\"match_phrase\": {\"abstract\": {\"query\": \"质子交换膜\",\"slop\": 10,\"boost\":2}}},\n",
    "              {\"match_phrase\": {\"keywords\": {\"query\": \"质子交换膜\",\"slop\": 10,\"boost\":2}}},\n",
    "              {\"match_phrase\": {\"title\": {\"query\": \"proton exchange membrane\",\"slop\": 10,\"boost\":2}}},\n",
    "              {\"match_phrase\": {\"abstract\": {\"query\": \"proton exchange membrane\",\"slop\": 10,\"boost\":2}}},\n",
    "              {\"match_phrase\": {\"keywords\": {\"query\": \"proton exchange membrane\",\"slop\": 10,\"boost\":2}}},\n",
    "              {\"match_phrase\": {\"title\": {\"query\": \"PEM\",\"slop\": 10,\"boost\":2}}},\n",
    "              {\"match_phrase\": {\"abstract\": {\"query\": \"PEM\",\"slop\": 10,\"boost\":2}}},\n",
    "              {\"match_phrase\": {\"keywords\": {\"query\": \"PEM\",\"slop\": 10,\"boost\":2}}}\n",
    "              \n",
    "            ]\n",
    "          }\n",
    "        }\n",
    "      ]\n",
    "    }\n",
    "  },\n",
    "  \"size\": 10\n",
    "}, 'landinn_paper')"
   ]
  },
  {
   "cell_type": "code",
   "execution_count": 137,
   "metadata": {
    "ExecuteTime": {
     "end_time": "2021-12-07T06:47:11.245386Z",
     "start_time": "2021-12-07T06:47:11.215389Z"
    }
   },
   "outputs": [
    {
     "data": {
      "text/plain": [
       "[2]"
      ]
     },
     "execution_count": 137,
     "metadata": {},
     "output_type": "execute_result"
    }
   ],
   "source": [
    "sum([[],[2]], [])"
   ]
  },
  {
   "cell_type": "code",
   "execution_count": 138,
   "metadata": {
    "ExecuteTime": {
     "end_time": "2021-12-07T07:12:56.519730Z",
     "start_time": "2021-12-07T07:12:56.481715Z"
    }
   },
   "outputs": [
    {
     "ename": "SyntaxError",
     "evalue": "iterable unpacking cannot be used in comprehension (<ipython-input-138-231736fc00ee>, line 1)",
     "output_type": "error",
     "traceback": [
      "\u001b[1;36m  File \u001b[1;32m\"<ipython-input-138-231736fc00ee>\"\u001b[1;36m, line \u001b[1;32m1\u001b[0m\n\u001b[1;33m    [*(1,2) for i in range(2)]\u001b[0m\n\u001b[1;37m     ^\u001b[0m\n\u001b[1;31mSyntaxError\u001b[0m\u001b[1;31m:\u001b[0m iterable unpacking cannot be used in comprehension\n"
     ]
    }
   ],
   "source": [
    "[*(1,2) for i in range(2)]"
   ]
  },
  {
   "cell_type": "code",
   "execution_count": 140,
   "metadata": {
    "ExecuteTime": {
     "end_time": "2021-12-07T08:30:39.598080Z",
     "start_time": "2021-12-07T08:30:39.560077Z"
    }
   },
   "outputs": [
    {
     "data": {
      "text/plain": [
       "['landinn_paper']"
      ]
     },
     "execution_count": 140,
     "metadata": {},
     "output_type": "execute_result"
    }
   ],
   "source": [
    "[*es.indices.get_alias('landinn_paper')]"
   ]
  },
  {
   "cell_type": "code",
   "execution_count": 75,
   "metadata": {
    "ExecuteTime": {
     "end_time": "2021-11-28T08:45:54.995472Z",
     "start_time": "2021-11-28T08:45:54.986477Z"
    }
   },
   "outputs": [],
   "source": [
    "bodyPatent = lambda year : ({\n",
    "  \"track_total_hits\": true,\n",
    "  \"query\": {\n",
    "    \"bool\": {\n",
    "      \"must\": [\n",
    "        {\"range\": {\"applicant_date\": {\"gte\": f\"{year}-01-01 00:00:00\", \"lt\": f\"{year+1}-01-01 00:00:00\", \"format\": \"yyyy-MM-dd HH:mm:ss\"}}},\n",
    "        {\n",
    "          \"bool\": {\n",
    "            \"should\": [\n",
    "              {\"match_phrase\": {\"title\": {\"query\": \"质子交换膜\",\"slop\": 10,\"boost\":2}}},\n",
    "              {\"match_phrase\": {\"summary\": {\"query\": \"质子交换膜\",\"slop\": 10,\"boost\":2}}},\n",
    "              {\"match_phrase\": {\"signory\": {\"query\": \"质子交换膜\",\"slop\": 10,\"boost\":2}}},\n",
    "              {\"match_phrase\": {\"title\": {\"query\": \"proton exchange membrane\",\"slop\": 10,\"boost\":2}}},\n",
    "              {\"match_phrase\": {\"summary\": {\"query\": \"proton exchange membrane\",\"slop\": 10,\"boost\":2}}},\n",
    "              {\"match_phrase\": {\"signorysignory\": {\"query\": \"proton exchange membrane\",\"slop\": 10,\"boost\":2}}},\n",
    "              {\"match_phrase\": {\"title\": {\"query\": \"PEM\",\"slop\": 10,\"boost\":2}}},\n",
    "              {\"match_phrase\": {\"summary\": {\"query\": \"PEM\",\"slop\": 10,\"boost\":2}}},\n",
    "              {\"match_phrase\": {\"signory\": {\"query\": \"PEM\",\"slop\": 10,\"boost\":2}}}\n",
    "              \n",
    "            ]\n",
    "          }\n",
    "        }\n",
    "      ]\n",
    "    }\n",
    "  },\n",
    "  \"size\": 3\n",
    "}, 'landinn_patent')"
   ]
  },
  {
   "cell_type": "code",
   "execution_count": 52,
   "metadata": {
    "ExecuteTime": {
     "end_time": "2021-11-28T07:34:49.244806Z",
     "start_time": "2021-11-28T07:34:49.229807Z"
    }
   },
   "outputs": [],
   "source": [
    "df = pd.DataFrame(columns=['year', 'paper', 'patent', 'total'])"
   ]
  },
  {
   "cell_type": "code",
   "execution_count": 53,
   "metadata": {
    "ExecuteTime": {
     "end_time": "2021-11-28T07:35:21.534840Z",
     "start_time": "2021-11-28T07:34:49.554449Z"
    },
    "scrolled": true
   },
   "outputs": [
    {
     "data": {
      "application/vnd.jupyter.widget-view+json": {
       "model_id": "0d1bf0e7d88e4acf91692e948bc3ec87",
       "version_major": 2,
       "version_minor": 0
      },
      "text/plain": [
       "HBox(children=(FloatProgress(value=0.0, layout=Layout(flex='2'), max=122.0), HTML(value='')), layout=Layout(di…"
      ]
     },
     "metadata": {},
     "output_type": "display_data"
    },
    {
     "name": "stdout",
     "output_type": "stream",
     "text": [
      "\n"
     ]
    }
   ],
   "source": [
    "for year in trange(1900, 2022):\n",
    "    heatPaper = es.search(*bodyPaper(year))['hits']['total']['value']\n",
    "    heatPatent = es.search(*bodyPatent(year))['hits']['total']['value']\n",
    "    df.loc[len(df)] = [year, heatPaper, heatPatent, heatPaper + heatPatent]"
   ]
  },
  {
   "cell_type": "code",
   "execution_count": 73,
   "metadata": {
    "ExecuteTime": {
     "end_time": "2021-11-28T08:45:37.887381Z",
     "start_time": "2021-11-28T08:45:37.785626Z"
    }
   },
   "outputs": [
    {
     "data": {
      "text/plain": [
       "{'took': 51,\n",
       " 'timed_out': False,\n",
       " '_shards': {'total': 1, 'successful': 1, 'skipped': 0, 'failed': 0},\n",
       " 'hits': {'total': {'value': 923, 'relation': 'eq'},\n",
       "  'max_score': 177.84256,\n",
       "  'hits': [{'_index': 'landinn_paper',\n",
       "    '_type': '_doc',\n",
       "    '_id': '1077804245813914496',\n",
       "    '_score': 177.84256,\n",
       "    '_source': {'id': 1077804245813914496,\n",
       "     'title': '钙离子对质子交换膜燃料电池性能衰减机理研究',\n",
       "     'abstract': '采用试验方法,通过向质子交换膜燃料电池（PEMFC）的电极（阳极和阴极）注入2种浓度（200和500 mg/L）的Ca溶液,研究Ca对PEMFC电化学性能的影响;通过扫描电镜（SEM）,能量散射谱仪（EDS）和电子探针（EPMA）对经Ca污染20 h后的电池性能的衰减机理进行研究。实验结果表明,经200和500 mg/L Ca污染PEMFC阳极20 h后,电池的电化学性能衰减明显,随着Ca浓度的增加,电池电化学性能衰减程度增大;SEM和EDS实验结果表明,经500 mg/L Ca污染PEMFC阳极20 h后,阴、阳两极的气体扩散层分别与阴、阳两极的催化层剥离,在质子交换膜、阳极催化层、阳极气体扩散层以及阴极气体扩散层均发现Ca元素,在质子交换膜上Ca元素含量高于其他部件上;EPMA实验结果表明,Ca污染PEMFC阳极后,Ca元素主要存在于质子交换膜上;研究结果表明,PEMFC电化学性能衰减的机理主要是由于Ca与质子交换膜中的质子发生离子交换反应并取代质子交换膜中的磺酸根基团上的质子形成新的磺酸盐结构所致。',\n",
       "     'keywords': '质子交换膜燃料电池;钙;衰减;机理;',\n",
       "     'scholars': '1078191689969441174',\n",
       "     'year': '2020'}},\n",
       "   {'_index': 'landinn_paper',\n",
       "    '_type': '_doc',\n",
       "    '_id': '1052467049804423876',\n",
       "    '_score': 175.78348,\n",
       "    '_source': {'id': 1052467049804423876,\n",
       "     'title': '基于数据驱动的质子交换膜燃料电池寿命预测',\n",
       "     'abstract': '质子交换膜燃料电池发电技术是极具应用潜力和工业前景的技术,对质子交换膜燃料电池进行寿命预测是其走向商业推广应用的重要一环.从质子交换膜燃料电池的退化特性及输出特性出发,分析系统及环境因素是如何影响其退化的;阐述了基于数据驱动的寿命预测方法的研究现状,着重对基于神经网络算法的寿命预测进行了综述;分析了寿命预测算法存在的不确定性来源;最后,对质子交换膜燃料电池的寿命预测研究进行了展望,阐明当前存在的经验数据有限、缺乏对瞬态过程的建模、难以实现在线预测等问题,尤其机车用大功率质子交换膜燃料电池的寿命预测仍存在诸多难点.',\n",
       "     'keywords': '质子交换膜燃料电池;寿命预测;数据驱动;',\n",
       "     'scholars': '1052707698361523172;1078191568875689578',\n",
       "     'year': '2020'}},\n",
       "   {'_index': 'landinn_paper',\n",
       "    '_type': '_doc',\n",
       "    '_id': '1077804245813913059',\n",
       "    '_score': 174.9728,\n",
       "    '_source': {'id': 1077804245813913059,\n",
       "     'title': '基于代理模型的直流道质子交换膜燃料电池优化设计',\n",
       "     'abstract': '质子交换膜燃料电池是一种可以将储存在燃料中的化学能转化为电能的装置.应用Kriging代理模型结合遗传算法对流道宽、流道高和岸宽3个几何参数进行了优化设计,以质子交换膜燃料电池的净功率作为优化的目标函数来评价质子交换膜燃料电池的性能.数值模拟应用了商业软件ANSYS FLUENT.优化后的质子交换膜燃料电池流道内具有更高的压力,使更多的反应气体参加电化学反应,因此优化后的质子交换膜燃料电池的性能得到了提高.',\n",
       "     'keywords': '质子交换膜燃料电池;数值模拟;Kriging代理模型;遗传算法;',\n",
       "     'scholars': '1078191514119050492',\n",
       "     'year': '2020'}},\n",
       "   {'_index': 'landinn_paper',\n",
       "    '_type': '_doc',\n",
       "    '_id': '1052467049804426333',\n",
       "    '_score': 172.57094,\n",
       "    '_source': {'id': 1052467049804426333,\n",
       "     'title': '自交联聚乙烯亚胺-聚砜高温质子交换膜研究',\n",
       "     'abstract': '为了制备出兼具高电导率和优异力学性能的高温质子交换膜,本工作采用化学自交联的方法将含氮功能基团聚乙烯亚胺（PEI,平均分子量200）接枝到氯甲基化聚砜（CMPSF）高分子链上制备磷酸掺杂型高温质子交换膜的基膜（PEI-PSF）.其中,PEI上的含氮功能基团既作为磷酸吸附位点,使高温质子交换膜获得高的质子传导率,同时又作为交联位点与CMPSF高分子链上的苄氯基团发生自交联反应,使聚合物膜具有优良的力学性能.傅里叶变换红外光谱和X-射线光电子能谱测试结果表明,CMPSF高分子链上的苄氯基团与PEI上的含氮功能基团发生完全反应,且随着聚砜氯甲基化程度的增加,膜中引入的PEI含量相应增加,进而提升了PEI-PSF膜的磷酸掺杂水平.氯甲基化程度为58%的PEI-PSF膜（PEI-PSF-58）磷酸吸附量达到122 wt%,在180℃无水条件下质子电导率达到3.4×10 S·cm,同时该复合膜拉伸强度达到30MPa.基于磷酸掺杂的PEI-PSF-58复合膜的高温质子交换膜燃料电池在150℃干气条件下的输出峰功率达到200 mW·cm,并且在78 h的测试时间内展示出了良好的稳定性.',\n",
       "     'keywords': '燃料电池;磷酸掺杂高温质子交换膜;自交联;质子电导率;力学性能;',\n",
       "     'scholars': '1052707598964886362;1078191681115265368',\n",
       "     'year': '2020'}},\n",
       "   {'_index': 'landinn_paper',\n",
       "    '_type': '_doc',\n",
       "    '_id': '1052468384398388926',\n",
       "    '_score': 166.57494,\n",
       "    '_source': {'id': 1052468384398388926,\n",
       "     'title': '空冷质子交换膜燃料电池性能优化研究综述',\n",
       "     'abstract': '首先介绍了空冷质子交换膜燃料电池的结构、工作原理及特点,然后对目前国内外空冷质子交换膜燃料电池性能优化的相关研究进行综述分析,重点梳理了膜电极组件优化、电堆结构优化和控制技术等方面的研究进展,最后根据综述分析总结得到空冷质子交换膜燃料电池性能优化技术的发展方向。',\n",
       "     'keywords': '空冷质子交换膜燃料电池;性能优化;膜电极优化;结构优化;控制技术;',\n",
       "     'scholars': '1052707719463070537',\n",
       "     'year': '2020'}},\n",
       "   {'_index': 'landinn_paper',\n",
       "    '_type': '_doc',\n",
       "    '_id': '1077797780491420276',\n",
       "    '_score': 163.90302,\n",
       "    '_source': {'id': 1077797780491420276,\n",
       "     'title': '质子交换膜燃料电池水淹和膜干故障诊断研究综述',\n",
       "     'abstract': '质子交换膜燃料电池水淹和膜干是其在运行过程中最常见的故障.首先,阐述了质子交换膜燃料电池中水的产生和传输机理,概括了水淹和膜干故障的影响因素,列举并分析了基于电压、压力降和阻抗的水淹和膜干诊断指标及各自的优缺点,并从内部结构和电荷传输方面介绍了水淹和膜干对质子交换膜燃料电池的危害;其次,讨论了水淹和膜干故障基于模型、基于实验和基于数据驱动的3种诊断方法及其适用范围,另外分析了缓解水淹和膜干故障的常用措施;最后,对水淹和膜干故障进行了总结和展望,并指出基于数据驱动的在线诊断方法、适于故障诊断的模型建立、大尺度电堆及多堆间水淹和膜干故障的诊断及高效精准的故障诊断指标的探索有待深入研究.',\n",
       "     'keywords': '质子交换膜燃料电池;水淹和膜干;诊断指标;诊断方法;缓解措施;',\n",
       "     'scholars': '1078282159420617331',\n",
       "     'year': '2020'}},\n",
       "   {'_index': 'landinn_paper',\n",
       "    '_type': '_doc',\n",
       "    '_id': '1077804245813913858',\n",
       "    '_score': 161.99973,\n",
       "    '_source': {'id': 1077804245813913858,\n",
       "     'title': '质子交换膜燃料电池金属双极板改性碳基涂层技术研究进展',\n",
       "     'abstract': '对比了碳基涂层改性金属极板、未涂覆的金属极板和传统石墨极板性能的优劣,阐述了碳基涂层在优化金属极板导电耐蚀性能方面取得的最新成果,以及在质子交换膜燃料电池(Proton exchange membrane fuel cells, PEMFCs)环境长期运行后,碳基涂层出现性能失效及寿命受限等问题。通过分析影响碳基涂层性能的因素,指出由于非晶碳材料设计、微观结构等对其性能影响规律的系统化研究不足,导致非晶碳涂层/金属极板损伤及退化机理不明确。重点阐述了国内外关于PEMFCs金属极板改性碳基涂层材料技术的研究进展,包括调控本征碳基涂层(a-C)微观形貌优化涂层性能;采用理论计算与实验相结合的方法制备金属掺杂碳基涂层(a-C:Me),解决涂层与特定金属基体间粘附性差、压应力高等问题;设计多层结构碳基涂层以减少贯穿性缺陷。探讨了几类涂层失效机制,并对金属极板改性用碳基涂层技术进行了展望。',\n",
       "     'keywords': '质子交换膜燃料电池;双极板;碳基涂层;导电性能;耐腐蚀性能;',\n",
       "     'scholars': '1078191590639933181',\n",
       "     'year': '2020'}},\n",
       "   {'_index': 'landinn_paper',\n",
       "    '_type': '_doc',\n",
       "    '_id': '1077804245813913168',\n",
       "    '_score': 158.60637,\n",
       "    '_source': {'id': 1077804245813913168,\n",
       "     'title': '质子交换膜燃料电池排水技术现状研究',\n",
       "     'abstract': '质子交换膜燃料电池具有能量转化效率高、环境友好等优点,但由于种种制约,燃料电池距离大规模应用还有一段距离。良好的水管理是燃料电池稳定运行的前提,对燃料电池排水技术进行了介绍,包括利用过余气体排水、脉冲排水、重力排水、静态排水、流场排水优化设计及材料的改性促进排水等方法。有效可行的排水方法可避免电池内\"水淹\"现象的发生,保证质子交换膜燃料电池稳定高效长寿命的运行,为燃料电池的商业化提供保证。',\n",
       "     'keywords': '质子交换膜燃料电池;水管理;排水;水淹;',\n",
       "     'scholars': '1078180277578629341;1078189657447489022',\n",
       "     'year': '2020'}},\n",
       "   {'_index': 'landinn_paper',\n",
       "    '_type': '_doc',\n",
       "    '_id': '1052462749074145260',\n",
       "    '_score': 155.44078,\n",
       "    '_source': {'id': 1052462749074145260,\n",
       "     'title': '高温质子交换膜燃料电池电堆端板拓扑优化',\n",
       "     'abstract': '以实现高温质子交换膜燃料电池单电池内部接触压力的均匀性与电堆内单电池之间接触压力的一致性为目的,建立了一种具有非线性接触边界条件的高温质子交换膜燃料电池电堆端板的拓扑优化模型.通过研究在一定工作温度下装配荷载对电堆内部接触压力的影响,并综合考虑端板的质量与制造难度,构建了一种适用于燃料电池电堆的简化模型.从基于热力耦合的有限元法出发,对燃料电池端板进行以最小质量为目标、最大应力为约束的拓扑优化,并在综合考虑结构形状与拓扑结果的基础上建立端板的几何模型.结果表明,拓扑优化得到的端板结构使电堆内部具有更均匀的接触压力,因此拓扑优化可以为端板的结构设计提供理论参考.',\n",
       "     'keywords': '高温质子交换膜燃料电池;拓扑优化;有限元法;热力耦合分析;',\n",
       "     'scholars': '1078191514119050492;1115039142559219771',\n",
       "     'year': '2020'}},\n",
       "   {'_index': 'landinn_paper',\n",
       "    '_type': '_doc',\n",
       "    '_id': '1077804245813914358',\n",
       "    '_score': 155.16435,\n",
       "    '_source': {'id': 1077804245813914358,\n",
       "     'title': '质子交换膜燃料电池电流密度分布特性和研究展望',\n",
       "     'abstract': '质子交换膜燃料电池具有无污染、噪声低、能量密度高、燃料转换效率高、响应速度快的显著优点,得到了迅速发展,但寿命仍然是制约其大规模商业化的重要原因。局部电流密度作为质子交换膜燃料电池运行过程中的重要参数,既能作为电池运行过程中的故障诊断和定位工具,提升电池运行的稳定性和和耐久性;又能提供电池运行期间其内部现象的有关信息,为深入理解电池反应机理以及优化电池设计提供有力指导,因此研究局部电流密度具有非常重要的意义。本文介绍并分析了实时原位测量局部电流密度的方法,比较了前人实验所得结果与模拟所得结果,阐述了相关参数对局部电流密度分布的影响机制,回顾并评析了局部电流密度用于燃料电池分析中的实际工作。最后,立足于局部电流密度的研究现状,给出了局部电流密度下一步的研究方向。',\n",
       "     'keywords': '质子交换膜燃料电池;局部电流密度;分布;优化设计;饥饿;',\n",
       "     'scholars': '1078180277578629341',\n",
       "     'year': '2020'}}]}}"
      ]
     },
     "execution_count": 73,
     "metadata": {},
     "output_type": "execute_result"
    }
   ],
   "source": [
    "es.search(*bodyPaper2(2020))"
   ]
  },
  {
   "cell_type": "code",
   "execution_count": 54,
   "metadata": {
    "ExecuteTime": {
     "end_time": "2021-11-28T07:35:26.363049Z",
     "start_time": "2021-11-28T07:35:26.346035Z"
    }
   },
   "outputs": [
    {
     "data": {
      "text/html": [
       "<div>\n",
       "<style scoped>\n",
       "    .dataframe tbody tr th:only-of-type {\n",
       "        vertical-align: middle;\n",
       "    }\n",
       "\n",
       "    .dataframe tbody tr th {\n",
       "        vertical-align: top;\n",
       "    }\n",
       "\n",
       "    .dataframe thead th {\n",
       "        text-align: right;\n",
       "    }\n",
       "</style>\n",
       "<table border=\"1\" class=\"dataframe\">\n",
       "  <thead>\n",
       "    <tr style=\"text-align: right;\">\n",
       "      <th></th>\n",
       "      <th>year</th>\n",
       "      <th>paper</th>\n",
       "      <th>patent</th>\n",
       "      <th>total</th>\n",
       "    </tr>\n",
       "  </thead>\n",
       "  <tbody>\n",
       "    <tr>\n",
       "      <th>60</th>\n",
       "      <td>1960</td>\n",
       "      <td>0</td>\n",
       "      <td>0</td>\n",
       "      <td>0</td>\n",
       "    </tr>\n",
       "    <tr>\n",
       "      <th>61</th>\n",
       "      <td>1961</td>\n",
       "      <td>0</td>\n",
       "      <td>0</td>\n",
       "      <td>0</td>\n",
       "    </tr>\n",
       "    <tr>\n",
       "      <th>62</th>\n",
       "      <td>1962</td>\n",
       "      <td>0</td>\n",
       "      <td>0</td>\n",
       "      <td>0</td>\n",
       "    </tr>\n",
       "    <tr>\n",
       "      <th>63</th>\n",
       "      <td>1963</td>\n",
       "      <td>1</td>\n",
       "      <td>0</td>\n",
       "      <td>1</td>\n",
       "    </tr>\n",
       "    <tr>\n",
       "      <th>64</th>\n",
       "      <td>1964</td>\n",
       "      <td>2</td>\n",
       "      <td>0</td>\n",
       "      <td>2</td>\n",
       "    </tr>\n",
       "    <tr>\n",
       "      <th>...</th>\n",
       "      <td>...</td>\n",
       "      <td>...</td>\n",
       "      <td>...</td>\n",
       "      <td>...</td>\n",
       "    </tr>\n",
       "    <tr>\n",
       "      <th>117</th>\n",
       "      <td>2017</td>\n",
       "      <td>1057</td>\n",
       "      <td>376</td>\n",
       "      <td>1433</td>\n",
       "    </tr>\n",
       "    <tr>\n",
       "      <th>118</th>\n",
       "      <td>2018</td>\n",
       "      <td>1041</td>\n",
       "      <td>451</td>\n",
       "      <td>1492</td>\n",
       "    </tr>\n",
       "    <tr>\n",
       "      <th>119</th>\n",
       "      <td>2019</td>\n",
       "      <td>1198</td>\n",
       "      <td>781</td>\n",
       "      <td>1979</td>\n",
       "    </tr>\n",
       "    <tr>\n",
       "      <th>120</th>\n",
       "      <td>2020</td>\n",
       "      <td>1272</td>\n",
       "      <td>518</td>\n",
       "      <td>1790</td>\n",
       "    </tr>\n",
       "    <tr>\n",
       "      <th>121</th>\n",
       "      <td>2021</td>\n",
       "      <td>267</td>\n",
       "      <td>106</td>\n",
       "      <td>373</td>\n",
       "    </tr>\n",
       "  </tbody>\n",
       "</table>\n",
       "<p>62 rows × 4 columns</p>\n",
       "</div>"
      ],
      "text/plain": [
       "     year paper patent total\n",
       "60   1960     0      0     0\n",
       "61   1961     0      0     0\n",
       "62   1962     0      0     0\n",
       "63   1963     1      0     1\n",
       "64   1964     2      0     2\n",
       "..    ...   ...    ...   ...\n",
       "117  2017  1057    376  1433\n",
       "118  2018  1041    451  1492\n",
       "119  2019  1198    781  1979\n",
       "120  2020  1272    518  1790\n",
       "121  2021   267    106   373\n",
       "\n",
       "[62 rows x 4 columns]"
      ]
     },
     "execution_count": 54,
     "metadata": {},
     "output_type": "execute_result"
    }
   ],
   "source": [
    "df[60:]"
   ]
  },
  {
   "cell_type": "code",
   "execution_count": 55,
   "metadata": {
    "ExecuteTime": {
     "end_time": "2021-11-28T07:35:30.687836Z",
     "start_time": "2021-11-28T07:35:30.445841Z"
    }
   },
   "outputs": [
    {
     "data": {
      "image/png": "[encoded data removed]",
      "text/plain": [
       "<Figure size 1080x720 with 1 Axes>"
      ]
     },
     "metadata": {
      "needs_background": "light"
     },
     "output_type": "display_data"
    }
   ],
   "source": [
    "df.plot(x='year', xlim=(1960,2020), figsize=(15,10), title='质子交换膜');"
   ]
  },
  {
   "cell_type": "code",
   "execution_count": null,
   "metadata": {},
   "outputs": [],
   "source": []
  },
  {
   "cell_type": "code",
   "execution_count": 41,
   "metadata": {
    "ExecuteTime": {
     "end_time": "2021-11-28T03:08:00.113898Z",
     "start_time": "2021-11-28T03:08:00.108895Z"
    }
   },
   "outputs": [],
   "source": [
    "es.close()"
   ]
  },
  {
   "cell_type": "code",
   "execution_count": 72,
   "metadata": {
    "ExecuteTime": {
     "end_time": "2021-11-28T08:45:34.910012Z",
     "start_time": "2021-11-28T08:45:34.899014Z"
    }
   },
   "outputs": [],
   "source": [
    "bodyPaper2 = lambda year : ({\n",
    "  \"query\": {\n",
    "    \"bool\": {\n",
    "      \"must\": [\n",
    "        {\"term\": {\"year\": year}},\n",
    "        {\n",
    "          \"bool\": {\n",
    "            \"should\": [\n",
    "              {\"match_phrase\": {\"title\": {\"query\": \"质子交换膜\",\"slop\": 10,\"boost\":2}}},\n",
    "              {\"match_phrase\": {\"abstract\": {\"query\": \"质子交换膜\",\"slop\": 10,\"boost\":2}}},\n",
    "              {\"match_phrase\": {\"keywords\": {\"query\": \"质子交换膜\",\"slop\": 10,\"boost\":2}}},\n",
    "              {\"match_phrase\": {\"title\": {\"query\": \"proton exchange membrane\",\"slop\": 10,\"boost\":2}}},\n",
    "              {\"match_phrase\": {\"abstract\": {\"query\": \"proton exchange membrane\",\"slop\": 10,\"boost\":2}}},\n",
    "              {\"match_phrase\": {\"keywords\": {\"query\": \"proton exchange membrane\",\"slop\": 10,\"boost\":2}}},\n",
    "            ]\n",
    "          }\n",
    "        }\n",
    "      ]\n",
    "    }\n",
    "  },\n",
    "  \"size\": 10\n",
    "}, 'landinn_paper')\n",
    "bodyPatent2 = lambda year : ({\n",
    "  \"query\": {\n",
    "    \"bool\": {\n",
    "      \"must\": [\n",
    "        {\"range\": {\"applicant_date\": {\"gte\": f\"{year}-01-01 00:00:00\", \"lt\": f\"{year+1}-01-01 00:00:00\", \"format\": \"yyyy-MM-dd HH:mm:ss\"}}},\n",
    "        {\n",
    "          \"bool\": {\n",
    "            \"should\": [\n",
    "              {\"match_phrase\": {\"title\": {\"query\": \"质子交换膜\",\"slop\": 10,\"boost\":2}}},\n",
    "              {\"match_phrase\": {\"summary\": {\"query\": \"质子交换膜\",\"slop\": 10,\"boost\":2}}},\n",
    "              {\"match_phrase\": {\"signory\": {\"query\": \"质子交换膜\",\"slop\": 10,\"boost\":2}}},\n",
    "              {\"match_phrase\": {\"title\": {\"query\": \"proton exchange membrane\",\"slop\": 10,\"boost\":2}}},\n",
    "              {\"match_phrase\": {\"summary\": {\"query\": \"proton exchange membrane\",\"slop\": 10,\"boost\":2}}},\n",
    "              {\"match_phrase\": {\"signorysignory\": {\"query\": \"proton exchange membrane\",\"slop\": 10,\"boost\":2}}},\n",
    "            ]\n",
    "          }\n",
    "        }\n",
    "      ]\n",
    "    }\n",
    "  },\n",
    "  \"size\": 3\n",
    "}, 'landinn_patent')"
   ]
  },
  {
   "cell_type": "code",
   "execution_count": 57,
   "metadata": {
    "ExecuteTime": {
     "end_time": "2021-11-28T07:37:12.045949Z",
     "start_time": "2021-11-28T07:36:40.674785Z"
    }
   },
   "outputs": [
    {
     "data": {
      "application/vnd.jupyter.widget-view+json": {
       "model_id": "6678f6c69a014753aafafecd307a9709",
       "version_major": 2,
       "version_minor": 0
      },
      "text/plain": [
       "HBox(children=(FloatProgress(value=0.0, layout=Layout(flex='2'), max=122.0), HTML(value='')), layout=Layout(di…"
      ]
     },
     "metadata": {},
     "output_type": "display_data"
    },
    {
     "name": "stdout",
     "output_type": "stream",
     "text": [
      "\n"
     ]
    }
   ],
   "source": [
    "df2 = pd.DataFrame(columns=['year', 'paper', 'patent', 'total'])\n",
    "for year in trange(1900, 2022):\n",
    "    heatPaper = es.search(bodyPaper2(year))['hits']['total']['value']\n",
    "    heatPatent = es.search(bodyPatent2(year))['hits']['total']['value']\n",
    "    df2.loc[len(df2)] = [year, heatPaper, heatPatent, heatPaper + heatPatent]"
   ]
  },
  {
   "cell_type": "code",
   "execution_count": 59,
   "metadata": {
    "ExecuteTime": {
     "end_time": "2021-11-28T07:37:18.533648Z",
     "start_time": "2021-11-28T07:37:18.514646Z"
    },
    "scrolled": true
   },
   "outputs": [
    {
     "data": {
      "text/html": [
       "<div>\n",
       "<style scoped>\n",
       "    .dataframe tbody tr th:only-of-type {\n",
       "        vertical-align: middle;\n",
       "    }\n",
       "\n",
       "    .dataframe tbody tr th {\n",
       "        vertical-align: top;\n",
       "    }\n",
       "\n",
       "    .dataframe thead th {\n",
       "        text-align: right;\n",
       "    }\n",
       "</style>\n",
       "<table border=\"1\" class=\"dataframe\">\n",
       "  <thead>\n",
       "    <tr style=\"text-align: right;\">\n",
       "      <th></th>\n",
       "      <th>year</th>\n",
       "      <th>paper</th>\n",
       "      <th>patent</th>\n",
       "      <th>total</th>\n",
       "    </tr>\n",
       "  </thead>\n",
       "  <tbody>\n",
       "    <tr>\n",
       "      <th>65</th>\n",
       "      <td>1965</td>\n",
       "      <td>0</td>\n",
       "      <td>0</td>\n",
       "      <td>0</td>\n",
       "    </tr>\n",
       "    <tr>\n",
       "      <th>66</th>\n",
       "      <td>1966</td>\n",
       "      <td>0</td>\n",
       "      <td>0</td>\n",
       "      <td>0</td>\n",
       "    </tr>\n",
       "    <tr>\n",
       "      <th>67</th>\n",
       "      <td>1967</td>\n",
       "      <td>0</td>\n",
       "      <td>0</td>\n",
       "      <td>0</td>\n",
       "    </tr>\n",
       "    <tr>\n",
       "      <th>68</th>\n",
       "      <td>1968</td>\n",
       "      <td>0</td>\n",
       "      <td>0</td>\n",
       "      <td>0</td>\n",
       "    </tr>\n",
       "    <tr>\n",
       "      <th>69</th>\n",
       "      <td>1969</td>\n",
       "      <td>0</td>\n",
       "      <td>0</td>\n",
       "      <td>0</td>\n",
       "    </tr>\n",
       "    <tr>\n",
       "      <th>70</th>\n",
       "      <td>1970</td>\n",
       "      <td>0</td>\n",
       "      <td>0</td>\n",
       "      <td>0</td>\n",
       "    </tr>\n",
       "    <tr>\n",
       "      <th>71</th>\n",
       "      <td>1971</td>\n",
       "      <td>0</td>\n",
       "      <td>0</td>\n",
       "      <td>0</td>\n",
       "    </tr>\n",
       "    <tr>\n",
       "      <th>72</th>\n",
       "      <td>1972</td>\n",
       "      <td>1</td>\n",
       "      <td>0</td>\n",
       "      <td>1</td>\n",
       "    </tr>\n",
       "    <tr>\n",
       "      <th>73</th>\n",
       "      <td>1973</td>\n",
       "      <td>1</td>\n",
       "      <td>0</td>\n",
       "      <td>1</td>\n",
       "    </tr>\n",
       "    <tr>\n",
       "      <th>74</th>\n",
       "      <td>1974</td>\n",
       "      <td>2</td>\n",
       "      <td>0</td>\n",
       "      <td>2</td>\n",
       "    </tr>\n",
       "    <tr>\n",
       "      <th>75</th>\n",
       "      <td>1975</td>\n",
       "      <td>0</td>\n",
       "      <td>0</td>\n",
       "      <td>0</td>\n",
       "    </tr>\n",
       "    <tr>\n",
       "      <th>76</th>\n",
       "      <td>1976</td>\n",
       "      <td>2</td>\n",
       "      <td>0</td>\n",
       "      <td>2</td>\n",
       "    </tr>\n",
       "    <tr>\n",
       "      <th>77</th>\n",
       "      <td>1977</td>\n",
       "      <td>0</td>\n",
       "      <td>0</td>\n",
       "      <td>0</td>\n",
       "    </tr>\n",
       "    <tr>\n",
       "      <th>78</th>\n",
       "      <td>1978</td>\n",
       "      <td>1</td>\n",
       "      <td>0</td>\n",
       "      <td>1</td>\n",
       "    </tr>\n",
       "    <tr>\n",
       "      <th>79</th>\n",
       "      <td>1979</td>\n",
       "      <td>2</td>\n",
       "      <td>0</td>\n",
       "      <td>2</td>\n",
       "    </tr>\n",
       "    <tr>\n",
       "      <th>80</th>\n",
       "      <td>1980</td>\n",
       "      <td>3</td>\n",
       "      <td>0</td>\n",
       "      <td>3</td>\n",
       "    </tr>\n",
       "    <tr>\n",
       "      <th>81</th>\n",
       "      <td>1981</td>\n",
       "      <td>1</td>\n",
       "      <td>0</td>\n",
       "      <td>1</td>\n",
       "    </tr>\n",
       "    <tr>\n",
       "      <th>82</th>\n",
       "      <td>1982</td>\n",
       "      <td>2</td>\n",
       "      <td>0</td>\n",
       "      <td>2</td>\n",
       "    </tr>\n",
       "    <tr>\n",
       "      <th>83</th>\n",
       "      <td>1983</td>\n",
       "      <td>0</td>\n",
       "      <td>0</td>\n",
       "      <td>0</td>\n",
       "    </tr>\n",
       "    <tr>\n",
       "      <th>84</th>\n",
       "      <td>1984</td>\n",
       "      <td>1</td>\n",
       "      <td>0</td>\n",
       "      <td>1</td>\n",
       "    </tr>\n",
       "    <tr>\n",
       "      <th>85</th>\n",
       "      <td>1985</td>\n",
       "      <td>6</td>\n",
       "      <td>0</td>\n",
       "      <td>6</td>\n",
       "    </tr>\n",
       "    <tr>\n",
       "      <th>86</th>\n",
       "      <td>1986</td>\n",
       "      <td>3</td>\n",
       "      <td>0</td>\n",
       "      <td>3</td>\n",
       "    </tr>\n",
       "    <tr>\n",
       "      <th>87</th>\n",
       "      <td>1987</td>\n",
       "      <td>6</td>\n",
       "      <td>0</td>\n",
       "      <td>6</td>\n",
       "    </tr>\n",
       "    <tr>\n",
       "      <th>88</th>\n",
       "      <td>1988</td>\n",
       "      <td>7</td>\n",
       "      <td>0</td>\n",
       "      <td>7</td>\n",
       "    </tr>\n",
       "    <tr>\n",
       "      <th>89</th>\n",
       "      <td>1989</td>\n",
       "      <td>5</td>\n",
       "      <td>0</td>\n",
       "      <td>5</td>\n",
       "    </tr>\n",
       "    <tr>\n",
       "      <th>90</th>\n",
       "      <td>1990</td>\n",
       "      <td>7</td>\n",
       "      <td>0</td>\n",
       "      <td>7</td>\n",
       "    </tr>\n",
       "    <tr>\n",
       "      <th>91</th>\n",
       "      <td>1991</td>\n",
       "      <td>4</td>\n",
       "      <td>0</td>\n",
       "      <td>4</td>\n",
       "    </tr>\n",
       "    <tr>\n",
       "      <th>92</th>\n",
       "      <td>1992</td>\n",
       "      <td>8</td>\n",
       "      <td>0</td>\n",
       "      <td>8</td>\n",
       "    </tr>\n",
       "    <tr>\n",
       "      <th>93</th>\n",
       "      <td>1993</td>\n",
       "      <td>8</td>\n",
       "      <td>0</td>\n",
       "      <td>8</td>\n",
       "    </tr>\n",
       "    <tr>\n",
       "      <th>94</th>\n",
       "      <td>1994</td>\n",
       "      <td>7</td>\n",
       "      <td>0</td>\n",
       "      <td>7</td>\n",
       "    </tr>\n",
       "    <tr>\n",
       "      <th>95</th>\n",
       "      <td>1995</td>\n",
       "      <td>12</td>\n",
       "      <td>0</td>\n",
       "      <td>12</td>\n",
       "    </tr>\n",
       "    <tr>\n",
       "      <th>96</th>\n",
       "      <td>1996</td>\n",
       "      <td>13</td>\n",
       "      <td>0</td>\n",
       "      <td>13</td>\n",
       "    </tr>\n",
       "    <tr>\n",
       "      <th>97</th>\n",
       "      <td>1997</td>\n",
       "      <td>11</td>\n",
       "      <td>5</td>\n",
       "      <td>16</td>\n",
       "    </tr>\n",
       "    <tr>\n",
       "      <th>98</th>\n",
       "      <td>1998</td>\n",
       "      <td>22</td>\n",
       "      <td>5</td>\n",
       "      <td>27</td>\n",
       "    </tr>\n",
       "    <tr>\n",
       "      <th>99</th>\n",
       "      <td>1999</td>\n",
       "      <td>19</td>\n",
       "      <td>3</td>\n",
       "      <td>22</td>\n",
       "    </tr>\n",
       "    <tr>\n",
       "      <th>100</th>\n",
       "      <td>2000</td>\n",
       "      <td>21</td>\n",
       "      <td>11</td>\n",
       "      <td>32</td>\n",
       "    </tr>\n",
       "    <tr>\n",
       "      <th>101</th>\n",
       "      <td>2001</td>\n",
       "      <td>30</td>\n",
       "      <td>40</td>\n",
       "      <td>70</td>\n",
       "    </tr>\n",
       "    <tr>\n",
       "      <th>102</th>\n",
       "      <td>2002</td>\n",
       "      <td>47</td>\n",
       "      <td>46</td>\n",
       "      <td>93</td>\n",
       "    </tr>\n",
       "    <tr>\n",
       "      <th>103</th>\n",
       "      <td>2003</td>\n",
       "      <td>92</td>\n",
       "      <td>70</td>\n",
       "      <td>162</td>\n",
       "    </tr>\n",
       "    <tr>\n",
       "      <th>104</th>\n",
       "      <td>2004</td>\n",
       "      <td>201</td>\n",
       "      <td>89</td>\n",
       "      <td>290</td>\n",
       "    </tr>\n",
       "    <tr>\n",
       "      <th>105</th>\n",
       "      <td>2005</td>\n",
       "      <td>287</td>\n",
       "      <td>126</td>\n",
       "      <td>413</td>\n",
       "    </tr>\n",
       "    <tr>\n",
       "      <th>106</th>\n",
       "      <td>2006</td>\n",
       "      <td>490</td>\n",
       "      <td>121</td>\n",
       "      <td>611</td>\n",
       "    </tr>\n",
       "    <tr>\n",
       "      <th>107</th>\n",
       "      <td>2007</td>\n",
       "      <td>492</td>\n",
       "      <td>152</td>\n",
       "      <td>644</td>\n",
       "    </tr>\n",
       "    <tr>\n",
       "      <th>108</th>\n",
       "      <td>2008</td>\n",
       "      <td>527</td>\n",
       "      <td>159</td>\n",
       "      <td>686</td>\n",
       "    </tr>\n",
       "    <tr>\n",
       "      <th>109</th>\n",
       "      <td>2009</td>\n",
       "      <td>575</td>\n",
       "      <td>202</td>\n",
       "      <td>777</td>\n",
       "    </tr>\n",
       "    <tr>\n",
       "      <th>110</th>\n",
       "      <td>2010</td>\n",
       "      <td>806</td>\n",
       "      <td>144</td>\n",
       "      <td>950</td>\n",
       "    </tr>\n",
       "    <tr>\n",
       "      <th>111</th>\n",
       "      <td>2011</td>\n",
       "      <td>706</td>\n",
       "      <td>111</td>\n",
       "      <td>817</td>\n",
       "    </tr>\n",
       "    <tr>\n",
       "      <th>112</th>\n",
       "      <td>2012</td>\n",
       "      <td>673</td>\n",
       "      <td>143</td>\n",
       "      <td>816</td>\n",
       "    </tr>\n",
       "    <tr>\n",
       "      <th>113</th>\n",
       "      <td>2013</td>\n",
       "      <td>651</td>\n",
       "      <td>247</td>\n",
       "      <td>898</td>\n",
       "    </tr>\n",
       "    <tr>\n",
       "      <th>114</th>\n",
       "      <td>2014</td>\n",
       "      <td>686</td>\n",
       "      <td>201</td>\n",
       "      <td>887</td>\n",
       "    </tr>\n",
       "    <tr>\n",
       "      <th>115</th>\n",
       "      <td>2015</td>\n",
       "      <td>629</td>\n",
       "      <td>251</td>\n",
       "      <td>880</td>\n",
       "    </tr>\n",
       "    <tr>\n",
       "      <th>116</th>\n",
       "      <td>2016</td>\n",
       "      <td>601</td>\n",
       "      <td>267</td>\n",
       "      <td>868</td>\n",
       "    </tr>\n",
       "    <tr>\n",
       "      <th>117</th>\n",
       "      <td>2017</td>\n",
       "      <td>691</td>\n",
       "      <td>346</td>\n",
       "      <td>1037</td>\n",
       "    </tr>\n",
       "    <tr>\n",
       "      <th>118</th>\n",
       "      <td>2018</td>\n",
       "      <td>718</td>\n",
       "      <td>420</td>\n",
       "      <td>1138</td>\n",
       "    </tr>\n",
       "    <tr>\n",
       "      <th>119</th>\n",
       "      <td>2019</td>\n",
       "      <td>865</td>\n",
       "      <td>718</td>\n",
       "      <td>1583</td>\n",
       "    </tr>\n",
       "    <tr>\n",
       "      <th>120</th>\n",
       "      <td>2020</td>\n",
       "      <td>923</td>\n",
       "      <td>477</td>\n",
       "      <td>1400</td>\n",
       "    </tr>\n",
       "    <tr>\n",
       "      <th>121</th>\n",
       "      <td>2021</td>\n",
       "      <td>197</td>\n",
       "      <td>94</td>\n",
       "      <td>291</td>\n",
       "    </tr>\n",
       "  </tbody>\n",
       "</table>\n",
       "</div>"
      ],
      "text/plain": [
       "     year paper patent total\n",
       "65   1965     0      0     0\n",
       "66   1966     0      0     0\n",
       "67   1967     0      0     0\n",
       "68   1968     0      0     0\n",
       "69   1969     0      0     0\n",
       "70   1970     0      0     0\n",
       "71   1971     0      0     0\n",
       "72   1972     1      0     1\n",
       "73   1973     1      0     1\n",
       "74   1974     2      0     2\n",
       "75   1975     0      0     0\n",
       "76   1976     2      0     2\n",
       "77   1977     0      0     0\n",
       "78   1978     1      0     1\n",
       "79   1979     2      0     2\n",
       "80   1980     3      0     3\n",
       "81   1981     1      0     1\n",
       "82   1982     2      0     2\n",
       "83   1983     0      0     0\n",
       "84   1984     1      0     1\n",
       "85   1985     6      0     6\n",
       "86   1986     3      0     3\n",
       "87   1987     6      0     6\n",
       "88   1988     7      0     7\n",
       "89   1989     5      0     5\n",
       "90   1990     7      0     7\n",
       "91   1991     4      0     4\n",
       "92   1992     8      0     8\n",
       "93   1993     8      0     8\n",
       "94   1994     7      0     7\n",
       "95   1995    12      0    12\n",
       "96   1996    13      0    13\n",
       "97   1997    11      5    16\n",
       "98   1998    22      5    27\n",
       "99   1999    19      3    22\n",
       "100  2000    21     11    32\n",
       "101  2001    30     40    70\n",
       "102  2002    47     46    93\n",
       "103  2003    92     70   162\n",
       "104  2004   201     89   290\n",
       "105  2005   287    126   413\n",
       "106  2006   490    121   611\n",
       "107  2007   492    152   644\n",
       "108  2008   527    159   686\n",
       "109  2009   575    202   777\n",
       "110  2010   806    144   950\n",
       "111  2011   706    111   817\n",
       "112  2012   673    143   816\n",
       "113  2013   651    247   898\n",
       "114  2014   686    201   887\n",
       "115  2015   629    251   880\n",
       "116  2016   601    267   868\n",
       "117  2017   691    346  1037\n",
       "118  2018   718    420  1138\n",
       "119  2019   865    718  1583\n",
       "120  2020   923    477  1400\n",
       "121  2021   197     94   291"
      ]
     },
     "execution_count": 59,
     "metadata": {},
     "output_type": "execute_result"
    }
   ],
   "source": [
    "df2[65:]"
   ]
  },
  {
   "cell_type": "code",
   "execution_count": 79,
   "metadata": {
    "ExecuteTime": {
     "end_time": "2021-11-28T09:43:17.303929Z",
     "start_time": "2021-11-28T09:43:17.142935Z"
    }
   },
   "outputs": [],
   "source": [
    "df2.to_csv('质子交换膜研究热度.csv', index=False)"
   ]
  },
  {
   "cell_type": "code",
   "execution_count": 62,
   "metadata": {
    "ExecuteTime": {
     "end_time": "2021-11-28T07:38:57.305480Z",
     "start_time": "2021-11-28T07:38:57.087471Z"
    }
   },
   "outputs": [
    {
     "data": {
      "image/png": "[encoded data removed]",
      "text/plain": [
       "<Figure size 1080x720 with 1 Axes>"
      ]
     },
     "metadata": {
      "needs_background": "light"
     },
     "output_type": "display_data"
    }
   ],
   "source": [
    "df2.plot(x='year', xlim=(1960,2020), figsize=(15,10), title='质子交换膜');"
   ]
  },
  {
   "cell_type": "markdown",
   "metadata": {},
   "source": [
    "# 属性变化"
   ]
  },
  {
   "cell_type": "markdown",
   "metadata": {},
   "source": [
    "## 第一次"
   ]
  },
  {
   "cell_type": "code",
   "execution_count": 101,
   "metadata": {
    "ExecuteTime": {
     "end_time": "2021-11-30T03:16:54.261887Z",
     "start_time": "2021-11-30T03:16:54.114861Z"
    }
   },
   "outputs": [
    {
     "data": {
      "text/plain": [
       "Text(0.5, 1.0, '质子交换膜厚度')"
      ]
     },
     "execution_count": 101,
     "metadata": {},
     "output_type": "execute_result"
    },
    {
     "data": {
      "image/png": "[encoded data removed]",
      "text/plain": [
       "<Figure size 432x288 with 1 Axes>"
      ]
     },
     "metadata": {
      "needs_background": "light"
     },
     "output_type": "display_data"
    }
   ],
   "source": [
    "plt.plot([\n",
    "        1965, 1975, 1985, 1995, 2005, 2015\n",
    "    ], [\n",
    "        254,183,127,89,50.8,25.4\n",
    "    ])\n",
    "\n",
    "plt.ylabel('thickness/$μm$')\n",
    "plt.xlabel('year')\n",
    "plt.title('质子交换膜厚度')"
   ]
  },
  {
   "cell_type": "code",
   "execution_count": 108,
   "metadata": {
    "ExecuteTime": {
     "end_time": "2021-11-30T03:21:06.299210Z",
     "start_time": "2021-11-30T03:21:06.148212Z"
    },
    "scrolled": true
   },
   "outputs": [
    {
     "data": {
      "image/png": "[encoded data removed]",
      "text/plain": [
       "<Figure size 432x288 with 1 Axes>"
      ]
     },
     "metadata": {
      "needs_background": "light"
     },
     "output_type": "display_data"
    }
   ],
   "source": [
    "plt.plot([\n",
    "        1965, 1975, 1985, 1990, 1995, 2000, 2007, 2015\n",
    "    ], [\n",
    "        1400,1200,1100,950,909,800,550, 407\n",
    "\n",
    "    ])\n",
    "\n",
    "plt.ylabel('EW/$g\\cdot mol^{-1}$')\n",
    "plt.xlabel('year')\n",
    "plt.title('质子交换膜EW');"
   ]
  },
  {
   "cell_type": "code",
   "execution_count": 109,
   "metadata": {
    "ExecuteTime": {
     "end_time": "2021-11-30T03:22:10.872820Z",
     "start_time": "2021-11-30T03:22:10.719802Z"
    }
   },
   "outputs": [
    {
     "data": {
      "image/png": "[encoded data removed]",
      "text/plain": [
       "<Figure size 432x288 with 1 Axes>"
      ]
     },
     "metadata": {
      "needs_background": "light"
     },
     "output_type": "display_data"
    }
   ],
   "source": [
    "plt.plot([\n",
    "        1965, 1975, 1985, 1995, 2005, 2015\n",
    "    ], [\n",
    "        500,360,250,190,100,50\n",
    "    ])\n",
    "\n",
    "plt.ylabel('basic weight/$g\\cdot m^{-2}$')\n",
    "plt.xlabel('year')\n",
    "plt.title('质子交换膜基准质量');"
   ]
  },
  {
   "cell_type": "code",
   "execution_count": 110,
   "metadata": {
    "ExecuteTime": {
     "end_time": "2021-11-30T03:23:09.416487Z",
     "start_time": "2021-11-30T03:23:09.268489Z"
    },
    "scrolled": true
   },
   "outputs": [
    {
     "data": {
      "image/png": "[encoded data removed]",
      "text/plain": [
       "<Figure size 432x288 with 1 Axes>"
      ]
     },
     "metadata": {
      "needs_background": "light"
     },
     "output_type": "display_data"
    }
   ],
   "source": [
    "plt.plot([\n",
    "        1965, 1975, 1985, 1995, 2005, 2015\n",
    "    ], [\n",
    "        500,3000,15000,50000,57000,60000\n",
    "    ])\n",
    "\n",
    "plt.ylabel('life span/$h$')\n",
    "plt.xlabel('year')\n",
    "plt.title('质子交换膜寿命');"
   ]
  },
  {
   "cell_type": "code",
   "execution_count": null,
   "metadata": {},
   "outputs": [],
   "source": []
  },
  {
   "cell_type": "markdown",
   "metadata": {},
   "source": [
    "## 第二次"
   ]
  },
  {
   "cell_type": "code",
   "execution_count": 19,
   "metadata": {
    "ExecuteTime": {
     "end_time": "2021-12-09T04:03:56.043256Z",
     "start_time": "2021-12-09T04:03:55.877727Z"
    }
   },
   "outputs": [
    {
     "data": {
      "text/plain": [
       "Text(0.5, 1.0, 'xx')"
      ]
     },
     "execution_count": 19,
     "metadata": {},
     "output_type": "execute_result"
    },
    {
     "data": {
      "image/png": "[encoded data removed]",
      "text/plain": [
       "<Figure size 432x288 with 1 Axes>"
      ]
     },
     "metadata": {
      "needs_background": "light"
     },
     "output_type": "display_data"
    }
   ],
   "source": [
    "ax=pd.DataFrame({'x' : [1,2], 'y' : [2,3]}).plot(x='x', title='质子交换膜')\n",
    "pd.DataFrame({'x' : [1,2], 'z' : [3,2]}).plot(x='x', linestyle='--', title='质子交换膜',ax=ax)\n",
    "ax.set_ylabel('thickness/$μm$')\n",
    "ax.set_title('xx')"
   ]
  },
  {
   "cell_type": "code",
   "execution_count": 24,
   "metadata": {
    "ExecuteTime": {
     "end_time": "2021-12-09T04:08:41.055225Z",
     "start_time": "2021-12-09T04:08:40.894654Z"
    }
   },
   "outputs": [
    {
     "data": {
      "text/plain": [
       "Text(0.5, 1.0, '质子交换膜厚度')"
      ]
     },
     "execution_count": 24,
     "metadata": {},
     "output_type": "execute_result"
    },
    {
     "data": {
      "image/png": "[encoded data removed]",
      "text/plain": [
       "<Figure size 432x288 with 1 Axes>"
      ]
     },
     "metadata": {
      "needs_background": "light"
     },
     "output_type": "display_data"
    }
   ],
   "source": [
    "index = [1965, 1975, 1985, 1995, 2005, 2015]\n",
    "\n",
    "ax = pd.DataFrame({'国际水平' : [254,183,127,89,50.8,25.4]}, index=index).plot()\n",
    "pd.DataFrame({'国内当前水平' : [50]*6}, index=index).plot(linestyle='--', ax=ax)\n",
    "ax.set_ylabel('thickness/$μm$')\n",
    "ax.set_xlabel('year')\n",
    "ax.set_title('质子交换膜厚度')"
   ]
  },
  {
   "cell_type": "code",
   "execution_count": 31,
   "metadata": {
    "ExecuteTime": {
     "end_time": "2021-12-09T04:10:28.647221Z",
     "start_time": "2021-12-09T04:10:28.493625Z"
    },
    "scrolled": true
   },
   "outputs": [
    {
     "data": {
      "image/png": "[encoded data removed]",
      "text/plain": [
       "<Figure size 432x288 with 1 Axes>"
      ]
     },
     "metadata": {
      "needs_background": "light"
     },
     "output_type": "display_data"
    }
   ],
   "source": [
    "index = [1965, 1975, 1985, 1990, 1995, 2000, 2007, 2015]\n",
    "\n",
    "ax = pd.DataFrame({'国际水平' : [1400,1200,1100,950,909,800,550, 407]}, index=index).plot()\n",
    "pd.DataFrame({'国内当前水平' : [530]*8}, index=index).plot(linestyle='--', ax=ax)\n",
    "plt.ylabel('EW/$g\\cdot mol^{-1}$')\n",
    "plt.xlabel('year')\n",
    "plt.title('质子交换膜EW');"
   ]
  },
  {
   "cell_type": "code",
   "execution_count": 34,
   "metadata": {
    "ExecuteTime": {
     "end_time": "2021-12-09T04:13:10.714166Z",
     "start_time": "2021-12-09T04:13:10.549614Z"
    }
   },
   "outputs": [
    {
     "data": {
      "image/png": "[encoded data removed]",
      "text/plain": [
       "<Figure size 432x288 with 1 Axes>"
      ]
     },
     "metadata": {
      "needs_background": "light"
     },
     "output_type": "display_data"
    }
   ],
   "source": [
    "index = [1965, 1975, 1985, 1995, 2005, 2015]\n",
    "\n",
    "ax = pd.DataFrame({'国际水平' : [500,360,250,190,100,50]}, index=index).plot()\n",
    "pd.DataFrame({'国内当前水平' : [150]*6}, index=index).plot(linestyle='--', ax=ax)\n",
    "\n",
    "plt.ylabel('basic weight/$g\\cdot m^{-2}$')\n",
    "plt.xlabel('year')\n",
    "plt.title('质子交换膜基准质量');"
   ]
  },
  {
   "cell_type": "code",
   "execution_count": 35,
   "metadata": {
    "ExecuteTime": {
     "end_time": "2021-12-09T04:14:12.062035Z",
     "start_time": "2021-12-09T04:14:11.902436Z"
    },
    "scrolled": true
   },
   "outputs": [
    {
     "data": {
      "image/png": "[encoded data removed]",
      "text/plain": [
       "<Figure size 432x288 with 1 Axes>"
      ]
     },
     "metadata": {
      "needs_background": "light"
     },
     "output_type": "display_data"
    }
   ],
   "source": [
    "index = [1965, 1975, 1985, 1995, 2005, 2015]\n",
    "ax = pd.DataFrame({'国际水平' : [500,3000,15000,50000,57000,60000]}, index=index).plot()\n",
    "pd.DataFrame({'国内当前水平' : [58000]*6}, index=index).plot(linestyle='--', ax=ax)\n",
    "\n",
    "plt.ylabel('life span/$h$')\n",
    "plt.xlabel('year')\n",
    "plt.title('质子交换膜寿命');"
   ]
  },
  {
   "cell_type": "markdown",
   "metadata": {},
   "source": [
    "# 变xls"
   ]
  },
  {
   "cell_type": "code",
   "execution_count": 2,
   "metadata": {},
   "outputs": [],
   "source": [
    "from IPython.core.magic import register_cell_magic, register_line_cell_magic"
   ]
  },
  {
   "cell_type": "code",
   "execution_count": 14,
   "metadata": {},
   "outputs": [],
   "source": [
    "@register_cell_magic\n",
    "def totab (line, cell):\n",
    "    print('\\n'.join('\\t'.join(str(y) for y in eval(x)) for x in cell.split('\\n') if x.strip()))"
   ]
  },
  {
   "cell_type": "code",
   "execution_count": 15,
   "metadata": {},
   "outputs": [
    {
     "name": "stdout",
     "output_type": "stream",
     "text": [
      "1965\t1975\t1985\t1995\t2005\t2015\n",
      "1965\t1975\t1985\t1990\t1995\t2000\t2007\t2015\n",
      "1965\t1975\t1985\t1995\t2005\t2015\n",
      "1965\t1975\t1985\t1995\t2005\t2015\n"
     ]
    }
   ],
   "source": [
    "%%totab\n",
    "[1965, 1975, 1985, 1995, 2005, 2015]\n",
    "[1965, 1975, 1985, 1990, 1995, 2000, 2007, 2015]\n",
    "[1965, 1975, 1985, 1995, 2005, 2015]\n",
    "[1965, 1975, 1985, 1995, 2005, 2015]"
   ]
  },
  {
   "cell_type": "markdown",
   "metadata": {},
   "source": [
    "# 测试包"
   ]
  },
  {
   "cell_type": "code",
   "execution_count": 7,
   "metadata": {
    "ExecuteTime": {
     "end_time": "2021-12-07T10:01:34.480753Z",
     "start_time": "2021-12-07T10:01:34.456716Z"
    }
   },
   "outputs": [],
   "source": [
    "from cntPublish import cntPublish"
   ]
  },
  {
   "cell_type": "markdown",
   "metadata": {},
   "source": [
    "计数质子交换膜的研究变化"
   ]
  },
  {
   "cell_type": "code",
   "execution_count": 8,
   "metadata": {
    "ExecuteTime": {
     "end_time": "2021-12-07T10:01:35.031749Z",
     "start_time": "2021-12-07T10:01:35.027718Z"
    }
   },
   "outputs": [],
   "source": [
    "keywords = ['质子交换膜', 'proton exchange membrane']"
   ]
  },
  {
   "cell_type": "code",
   "execution_count": 10,
   "metadata": {
    "ExecuteTime": {
     "end_time": "2021-12-07T10:03:04.175181Z",
     "start_time": "2021-12-07T10:02:58.746614Z"
    }
   },
   "outputs": [
    {
     "name": "stderr",
     "output_type": "stream",
     "text": [
      "100%|██████████████████████| 17/17 [00:05<00:00,  3.15it/s]\n"
     ]
    },
    {
     "data": {
      "text/html": [
       "<div>\n",
       "<style scoped>\n",
       "    .dataframe tbody tr th:only-of-type {\n",
       "        vertical-align: middle;\n",
       "    }\n",
       "\n",
       "    .dataframe tbody tr th {\n",
       "        vertical-align: top;\n",
       "    }\n",
       "\n",
       "    .dataframe thead th {\n",
       "        text-align: right;\n",
       "    }\n",
       "</style>\n",
       "<table border=\"1\" class=\"dataframe\">\n",
       "  <thead>\n",
       "    <tr style=\"text-align: right;\">\n",
       "      <th></th>\n",
       "      <th>year</th>\n",
       "      <th>paper</th>\n",
       "      <th>patent</th>\n",
       "      <th>total</th>\n",
       "    </tr>\n",
       "  </thead>\n",
       "  <tbody>\n",
       "    <tr>\n",
       "      <th>0</th>\n",
       "      <td>2005</td>\n",
       "      <td>287</td>\n",
       "      <td>126</td>\n",
       "      <td>413</td>\n",
       "    </tr>\n",
       "    <tr>\n",
       "      <th>1</th>\n",
       "      <td>2006</td>\n",
       "      <td>490</td>\n",
       "      <td>121</td>\n",
       "      <td>611</td>\n",
       "    </tr>\n",
       "    <tr>\n",
       "      <th>2</th>\n",
       "      <td>2007</td>\n",
       "      <td>492</td>\n",
       "      <td>152</td>\n",
       "      <td>644</td>\n",
       "    </tr>\n",
       "    <tr>\n",
       "      <th>3</th>\n",
       "      <td>2008</td>\n",
       "      <td>527</td>\n",
       "      <td>159</td>\n",
       "      <td>686</td>\n",
       "    </tr>\n",
       "    <tr>\n",
       "      <th>4</th>\n",
       "      <td>2009</td>\n",
       "      <td>575</td>\n",
       "      <td>202</td>\n",
       "      <td>777</td>\n",
       "    </tr>\n",
       "    <tr>\n",
       "      <th>5</th>\n",
       "      <td>2010</td>\n",
       "      <td>806</td>\n",
       "      <td>144</td>\n",
       "      <td>950</td>\n",
       "    </tr>\n",
       "    <tr>\n",
       "      <th>6</th>\n",
       "      <td>2011</td>\n",
       "      <td>706</td>\n",
       "      <td>111</td>\n",
       "      <td>817</td>\n",
       "    </tr>\n",
       "    <tr>\n",
       "      <th>7</th>\n",
       "      <td>2012</td>\n",
       "      <td>673</td>\n",
       "      <td>143</td>\n",
       "      <td>816</td>\n",
       "    </tr>\n",
       "    <tr>\n",
       "      <th>8</th>\n",
       "      <td>2013</td>\n",
       "      <td>651</td>\n",
       "      <td>247</td>\n",
       "      <td>898</td>\n",
       "    </tr>\n",
       "    <tr>\n",
       "      <th>9</th>\n",
       "      <td>2014</td>\n",
       "      <td>686</td>\n",
       "      <td>201</td>\n",
       "      <td>887</td>\n",
       "    </tr>\n",
       "    <tr>\n",
       "      <th>10</th>\n",
       "      <td>2015</td>\n",
       "      <td>629</td>\n",
       "      <td>251</td>\n",
       "      <td>880</td>\n",
       "    </tr>\n",
       "    <tr>\n",
       "      <th>11</th>\n",
       "      <td>2016</td>\n",
       "      <td>601</td>\n",
       "      <td>267</td>\n",
       "      <td>868</td>\n",
       "    </tr>\n",
       "    <tr>\n",
       "      <th>12</th>\n",
       "      <td>2017</td>\n",
       "      <td>691</td>\n",
       "      <td>346</td>\n",
       "      <td>1037</td>\n",
       "    </tr>\n",
       "    <tr>\n",
       "      <th>13</th>\n",
       "      <td>2018</td>\n",
       "      <td>718</td>\n",
       "      <td>420</td>\n",
       "      <td>1138</td>\n",
       "    </tr>\n",
       "    <tr>\n",
       "      <th>14</th>\n",
       "      <td>2019</td>\n",
       "      <td>865</td>\n",
       "      <td>718</td>\n",
       "      <td>1583</td>\n",
       "    </tr>\n",
       "    <tr>\n",
       "      <th>15</th>\n",
       "      <td>2020</td>\n",
       "      <td>923</td>\n",
       "      <td>477</td>\n",
       "      <td>1400</td>\n",
       "    </tr>\n",
       "    <tr>\n",
       "      <th>16</th>\n",
       "      <td>2021</td>\n",
       "      <td>197</td>\n",
       "      <td>94</td>\n",
       "      <td>291</td>\n",
       "    </tr>\n",
       "  </tbody>\n",
       "</table>\n",
       "</div>"
      ],
      "text/plain": [
       "    year paper patent total\n",
       "0   2005   287    126   413\n",
       "1   2006   490    121   611\n",
       "2   2007   492    152   644\n",
       "3   2008   527    159   686\n",
       "4   2009   575    202   777\n",
       "5   2010   806    144   950\n",
       "6   2011   706    111   817\n",
       "7   2012   673    143   816\n",
       "8   2013   651    247   898\n",
       "9   2014   686    201   887\n",
       "10  2015   629    251   880\n",
       "11  2016   601    267   868\n",
       "12  2017   691    346  1037\n",
       "13  2018   718    420  1138\n",
       "14  2019   865    718  1583\n",
       "15  2020   923    477  1400\n",
       "16  2021   197     94   291"
      ]
     },
     "execution_count": 10,
     "metadata": {},
     "output_type": "execute_result"
    }
   ],
   "source": [
    "cntPublish(es, *keywords, start=2005)"
   ]
  },
  {
   "cell_type": "code",
   "execution_count": 17,
   "metadata": {
    "ExecuteTime": {
     "end_time": "2021-12-07T10:27:03.522056Z",
     "start_time": "2021-12-07T10:27:03.514057Z"
    }
   },
   "outputs": [],
   "source": [
    "b = lambda year : ({\n",
    "        \"query\": {\n",
    "            \"bool\": {\n",
    "                \"must\": [\n",
    "                    {\"term\": {\"year\": year}},\n",
    "                    {\n",
    "                        \"bool\": {\n",
    "                            \"should\": sum([\n",
    "                                [\n",
    "                                    {\"match_phrase\": {\"title\": {\"query\": k,\"slop\": 10}}},\n",
    "                                    {\"match_phrase\": {\"abstract\": {\"query\": k,\"slop\": 10}}},\n",
    "                                    {\"match_phrase\": {\"keywords\": {\"query\": k,\"slop\": 10}}}\n",
    "                                ] for k in keywords\n",
    "                            ], [])\n",
    "                        }\n",
    "                    }\n",
    "                ]\n",
    "            }\n",
    "        },\n",
    "    }, 'landinn_paper')"
   ]
  },
  {
   "cell_type": "code",
   "execution_count": 18,
   "metadata": {
    "ExecuteTime": {
     "end_time": "2021-12-07T10:27:04.094057Z",
     "start_time": "2021-12-07T10:27:03.971056Z"
    }
   },
   "outputs": [
    {
     "data": {
      "text/plain": [
       "{'count': 19,\n",
       " '_shards': {'total': 1, 'successful': 1, 'skipped': 0, 'failed': 0}}"
      ]
     },
     "execution_count": 18,
     "metadata": {},
     "output_type": "execute_result"
    }
   ],
   "source": [
    "es.count(*b(1999))"
   ]
  },
  {
   "cell_type": "markdown",
   "metadata": {},
   "source": [
    "# 关闭"
   ]
  },
  {
   "cell_type": "code",
   "execution_count": 10,
   "metadata": {
    "ExecuteTime": {
     "end_time": "2021-12-07T10:01:21.604437Z",
     "start_time": "2021-12-07T10:01:21.598388Z"
    }
   },
   "outputs": [],
   "source": [
    "es.close()"
   ]
  },
  {
   "cell_type": "code",
   "execution_count": null,
   "metadata": {},
   "outputs": [],
   "source": []
  }
 ],
 "metadata": {
  "kernelspec": {
   "display_name": "Python 3 (ipykernel)",
   "language": "python",
   "name": "python3"
  },
  "language_info": {
   "codemirror_mode": {
    "name": "ipython",
    "version": 3
   },
   "file_extension": ".py",
   "mimetype": "text/x-python",
   "name": "python",
   "nbconvert_exporter": "python",
   "pygments_lexer": "ipython3",
   "version": "3.8.3"
  },
  "latex_envs": {
   "LaTeX_envs_menu_present": true,
   "autoclose": false,
   "autocomplete": true,
   "bibliofile": "biblio.bib",
   "cite_by": "apalike",
   "current_citInitial": 1,
   "eqLabelWithNumbers": true,
   "eqNumInitial": 1,
   "hotkeys": {
    "equation": "Ctrl-E",
    "itemize": "Ctrl-I"
   },
   "labels_anchors": false,
   "latex_user_defs": false,
   "report_style_numbering": false,
   "user_envs_cfg": false
  },
  "toc": {
   "base_numbering": 1,
   "nav_menu": {},
   "number_sections": false,
   "sideBar": true,
   "skip_h1_title": false,
   "title_cell": "Table of Contents",
   "title_sidebar": "Contents",
   "toc_cell": false,
   "toc_position": {
    "height": "calc(100% - 180px)",
    "left": "10px",
    "top": "150px",
    "width": "384px"
   },
   "toc_section_display": true,
   "toc_window_display": true
  },
  "varInspector": {
   "cols": {
    "lenName": 16,
    "lenType": 16,
    "lenVar": 40
   },
   "kernels_config": {
    "python": {
     "delete_cmd_postfix": "",
     "delete_cmd_prefix": "del ",
     "library": "var_list.py",
     "varRefreshCmd": "print(var_dic_list())"
    },
    "r": {
     "delete_cmd_postfix": ") ",
     "delete_cmd_prefix": "rm(",
     "library": "var_list.r",
     "varRefreshCmd": "cat(var_dic_list()) "
    }
   },
   "position": {
    "height": "702.641px",
    "left": "1426.33px",
    "right": "20px",
    "top": "138px",
    "width": "476.766px"
   },
   "types_to_exclude": [
    "module",
    "function",
    "builtin_function_or_method",
    "instance",
    "_Feature"
   ],
   "window_display": true
  }
 },
 "nbformat": 4,
 "nbformat_minor": 4
}
