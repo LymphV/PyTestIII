{
 "cells": [
  {
   "cell_type": "markdown",
   "metadata": {},
   "source": [
    "## 库"
   ]
  },
  {
   "cell_type": "code",
   "execution_count": 12,
   "metadata": {
    "ExecuteTime": {
     "end_time": "2021-05-17T09:13:35.759090Z",
     "start_time": "2021-05-17T09:13:35.673437Z"
    }
   },
   "outputs": [],
   "source": [
    "from vVariableInspector import _getshapeof\n",
    "from vUtil.vEmail import sendEmail\n",
    "from vUtil.vTime import getNow, convertSeconds, getToday\n",
    "from vUtil.debug import debug"
   ]
  },
  {
   "cell_type": "code",
   "execution_count": 13,
   "metadata": {
    "ExecuteTime": {
     "end_time": "2021-05-17T09:13:37.795370Z",
     "start_time": "2021-05-17T09:13:37.442345Z"
    },
    "cell_style": "split"
   },
   "outputs": [],
   "source": [
    "import pandas as pd\n",
    "import numpy as np\n",
    "import re, os, sys\n",
    "from math import ceil"
   ]
  },
  {
   "cell_type": "code",
   "execution_count": 14,
   "metadata": {
    "ExecuteTime": {
     "end_time": "2021-05-17T09:13:39.303873Z",
     "start_time": "2021-05-17T09:13:39.187874Z"
    },
    "cell_style": "split"
   },
   "outputs": [],
   "source": [
    "import requests\n",
    "from tqdm.notebook import tqdm, trange\n",
    "ncols = 950"
   ]
  },
  {
   "cell_type": "markdown",
   "metadata": {},
   "source": [
    "### 执行语句"
   ]
  },
  {
   "cell_type": "code",
   "execution_count": 15,
   "metadata": {
    "ExecuteTime": {
     "end_time": "2021-05-17T09:13:46.163524Z",
     "start_time": "2021-05-17T09:13:46.154523Z"
    }
   },
   "outputs": [],
   "source": [
    "def addKeywords (keywords):\n",
    "    for x in tqdm(keywords, ncols=ncols):\n",
    "        rst = requests.get(f'http://10.60.1.78:10101/?keyword={x}')\n",
    "        print (rst.text)"
   ]
  },
  {
   "cell_type": "markdown",
   "metadata": {
    "heading_collapsed": true
   },
   "source": [
    "## 第1次：新兴产业关键词"
   ]
  },
  {
   "cell_type": "markdown",
   "metadata": {
    "hidden": true
   },
   "source": [
    "### 词表"
   ]
  },
  {
   "cell_type": "code",
   "execution_count": 6,
   "metadata": {
    "ExecuteTime": {
     "end_time": "2021-05-14T04:54:47.351788Z",
     "start_time": "2021-05-14T04:54:47.346787Z"
    },
    "deletable": false,
    "editable": false,
    "hidden": true,
    "run_control": {
     "frozen": true
    }
   },
   "outputs": [],
   "source": [
    "fileName = '新兴产业(关键词).txt'"
   ]
  },
  {
   "cell_type": "code",
   "execution_count": 18,
   "metadata": {
    "ExecuteTime": {
     "end_time": "2021-05-14T05:01:32.048170Z",
     "start_time": "2021-05-14T05:01:32.026175Z"
    },
    "collapsed": true,
    "deletable": false,
    "editable": false,
    "hidden": true,
    "run_control": {
     "frozen": true
    }
   },
   "outputs": [
    {
     "data": {
      "text/html": [
       "<div>\n",
       "<style scoped>\n",
       "    .dataframe tbody tr th:only-of-type {\n",
       "        vertical-align: middle;\n",
       "    }\n",
       "\n",
       "    .dataframe tbody tr th {\n",
       "        vertical-align: top;\n",
       "    }\n",
       "\n",
       "    .dataframe thead th {\n",
       "        text-align: right;\n",
       "    }\n",
       "</style>\n",
       "<table border=\"1\" class=\"dataframe\">\n",
       "  <thead>\n",
       "    <tr style=\"text-align: right;\">\n",
       "      <th></th>\n",
       "      <th>0</th>\n",
       "    </tr>\n",
       "  </thead>\n",
       "  <tbody>\n",
       "    <tr>\n",
       "      <th>0</th>\n",
       "      <td>人工智能</td>\n",
       "    </tr>\n",
       "    <tr>\n",
       "      <th>1</th>\n",
       "      <td>大数据</td>\n",
       "    </tr>\n",
       "    <tr>\n",
       "      <th>2</th>\n",
       "      <td>云计算</td>\n",
       "    </tr>\n",
       "    <tr>\n",
       "      <th>3</th>\n",
       "      <td>虚拟现实</td>\n",
       "    </tr>\n",
       "    <tr>\n",
       "      <th>4</th>\n",
       "      <td>量子信息</td>\n",
       "    </tr>\n",
       "    <tr>\n",
       "      <th>5</th>\n",
       "      <td>第五代移动通信</td>\n",
       "    </tr>\n",
       "    <tr>\n",
       "      <th>6</th>\n",
       "      <td>物联网</td>\n",
       "    </tr>\n",
       "    <tr>\n",
       "      <th>7</th>\n",
       "      <td>区块链</td>\n",
       "    </tr>\n",
       "    <tr>\n",
       "      <th>8</th>\n",
       "      <td>生物技术</td>\n",
       "    </tr>\n",
       "    <tr>\n",
       "      <th>9</th>\n",
       "      <td>合成生物学</td>\n",
       "    </tr>\n",
       "    <tr>\n",
       "      <th>10</th>\n",
       "      <td>基因编辑</td>\n",
       "    </tr>\n",
       "    <tr>\n",
       "      <th>11</th>\n",
       "      <td>脑科学</td>\n",
       "    </tr>\n",
       "    <tr>\n",
       "      <th>12</th>\n",
       "      <td>再生医学</td>\n",
       "    </tr>\n",
       "    <tr>\n",
       "      <th>13</th>\n",
       "      <td>绿色技术</td>\n",
       "    </tr>\n",
       "    <tr>\n",
       "      <th>14</th>\n",
       "      <td>分布式发电</td>\n",
       "    </tr>\n",
       "    <tr>\n",
       "      <th>15</th>\n",
       "      <td>先进储能</td>\n",
       "    </tr>\n",
       "    <tr>\n",
       "      <th>16</th>\n",
       "      <td>能源互联网</td>\n",
       "    </tr>\n",
       "    <tr>\n",
       "      <th>17</th>\n",
       "      <td>高效燃料电池</td>\n",
       "    </tr>\n",
       "    <tr>\n",
       "      <th>18</th>\n",
       "      <td>先进制造技术</td>\n",
       "    </tr>\n",
       "    <tr>\n",
       "      <th>19</th>\n",
       "      <td>机器人</td>\n",
       "    </tr>\n",
       "    <tr>\n",
       "      <th>20</th>\n",
       "      <td>增材制造</td>\n",
       "    </tr>\n",
       "    <tr>\n",
       "      <th>21</th>\n",
       "      <td>数字孪生</td>\n",
       "    </tr>\n",
       "    <tr>\n",
       "      <th>22</th>\n",
       "      <td>工业互联网</td>\n",
       "    </tr>\n",
       "    <tr>\n",
       "      <th>23</th>\n",
       "      <td>超材料</td>\n",
       "    </tr>\n",
       "    <tr>\n",
       "      <th>24</th>\n",
       "      <td>纳米材料</td>\n",
       "    </tr>\n",
       "    <tr>\n",
       "      <th>25</th>\n",
       "      <td>石墨烯</td>\n",
       "    </tr>\n",
       "    <tr>\n",
       "      <th>26</th>\n",
       "      <td>空间开拓技术</td>\n",
       "    </tr>\n",
       "    <tr>\n",
       "      <th>27</th>\n",
       "      <td>深空深海深地探测技术</td>\n",
       "    </tr>\n",
       "    <tr>\n",
       "      <th>28</th>\n",
       "      <td>新空间开拓技术</td>\n",
       "    </tr>\n",
       "    <tr>\n",
       "      <th>29</th>\n",
       "      <td>绿色技术</td>\n",
       "    </tr>\n",
       "    <tr>\n",
       "      <th>30</th>\n",
       "      <td>生物技术</td>\n",
       "    </tr>\n",
       "    <tr>\n",
       "      <th>31</th>\n",
       "      <td>先进制造技术</td>\n",
       "    </tr>\n",
       "    <tr>\n",
       "      <th>32</th>\n",
       "      <td>虚拟现实</td>\n",
       "    </tr>\n",
       "    <tr>\n",
       "      <th>33</th>\n",
       "      <td>新药研发</td>\n",
       "    </tr>\n",
       "    <tr>\n",
       "      <th>34</th>\n",
       "      <td>医疗器械</td>\n",
       "    </tr>\n",
       "    <tr>\n",
       "      <th>35</th>\n",
       "      <td>新能源汽车</td>\n",
       "    </tr>\n",
       "    <tr>\n",
       "      <th>36</th>\n",
       "      <td>储能</td>\n",
       "    </tr>\n",
       "    <tr>\n",
       "      <th>37</th>\n",
       "      <td>新能源</td>\n",
       "    </tr>\n",
       "    <tr>\n",
       "      <th>38</th>\n",
       "      <td>智能装备</td>\n",
       "    </tr>\n",
       "    <tr>\n",
       "      <th>39</th>\n",
       "      <td>增材制造</td>\n",
       "    </tr>\n",
       "    <tr>\n",
       "      <th>40</th>\n",
       "      <td>火箭</td>\n",
       "    </tr>\n",
       "    <tr>\n",
       "      <th>41</th>\n",
       "      <td>卫星</td>\n",
       "    </tr>\n",
       "    <tr>\n",
       "      <th>42</th>\n",
       "      <td>数字文化</td>\n",
       "    </tr>\n",
       "    <tr>\n",
       "      <th>43</th>\n",
       "      <td>数字教育</td>\n",
       "    </tr>\n",
       "    <tr>\n",
       "      <th>44</th>\n",
       "      <td>数字医疗</td>\n",
       "    </tr>\n",
       "    <tr>\n",
       "      <th>45</th>\n",
       "      <td>互联网+</td>\n",
       "    </tr>\n",
       "    <tr>\n",
       "      <th>46</th>\n",
       "      <td>人工智能+</td>\n",
       "    </tr>\n",
       "    <tr>\n",
       "      <th>47</th>\n",
       "      <td>服务机器人</td>\n",
       "    </tr>\n",
       "    <tr>\n",
       "      <th>48</th>\n",
       "      <td>精准医学</td>\n",
       "    </tr>\n",
       "    <tr>\n",
       "      <th>49</th>\n",
       "      <td>智慧社区</td>\n",
       "    </tr>\n",
       "    <tr>\n",
       "      <th>50</th>\n",
       "      <td>生物监测</td>\n",
       "    </tr>\n",
       "    <tr>\n",
       "      <th>51</th>\n",
       "      <td>碳化硅</td>\n",
       "    </tr>\n",
       "    <tr>\n",
       "      <th>52</th>\n",
       "      <td>氮化镓</td>\n",
       "    </tr>\n",
       "  </tbody>\n",
       "</table>\n",
       "</div>"
      ],
      "text/plain": [
       "             0\n",
       "0         人工智能\n",
       "1          大数据\n",
       "2          云计算\n",
       "3         虚拟现实\n",
       "4         量子信息\n",
       "5      第五代移动通信\n",
       "6          物联网\n",
       "7          区块链\n",
       "8         生物技术\n",
       "9        合成生物学\n",
       "10        基因编辑\n",
       "11         脑科学\n",
       "12        再生医学\n",
       "13        绿色技术\n",
       "14       分布式发电\n",
       "15        先进储能\n",
       "16       能源互联网\n",
       "17      高效燃料电池\n",
       "18      先进制造技术\n",
       "19         机器人\n",
       "20        增材制造\n",
       "21        数字孪生\n",
       "22       工业互联网\n",
       "23         超材料\n",
       "24        纳米材料\n",
       "25         石墨烯\n",
       "26      空间开拓技术\n",
       "27  深空深海深地探测技术\n",
       "28     新空间开拓技术\n",
       "29        绿色技术\n",
       "30        生物技术\n",
       "31      先进制造技术\n",
       "32        虚拟现实\n",
       "33        新药研发\n",
       "34        医疗器械\n",
       "35       新能源汽车\n",
       "36          储能\n",
       "37         新能源\n",
       "38        智能装备\n",
       "39        增材制造\n",
       "40          火箭\n",
       "41          卫星\n",
       "42        数字文化\n",
       "43        数字教育\n",
       "44        数字医疗\n",
       "45        互联网+\n",
       "46       人工智能+\n",
       "47       服务机器人\n",
       "48        精准医学\n",
       "49        智慧社区\n",
       "50        生物监测\n",
       "51         碳化硅\n",
       "52         氮化镓"
      ]
     },
     "execution_count": 18,
     "metadata": {},
     "output_type": "execute_result"
    }
   ],
   "source": [
    "keywords = pd.read_csv(fileName, header = None)\n",
    "keywords"
   ]
  },
  {
   "cell_type": "markdown",
   "metadata": {
    "hidden": true
   },
   "source": [
    "### 执行"
   ]
  },
  {
   "cell_type": "code",
   "execution_count": 22,
   "metadata": {
    "ExecuteTime": {
     "end_time": "2021-05-14T05:04:18.798238Z",
     "start_time": "2021-05-14T05:04:17.122240Z"
    },
    "collapsed": true,
    "deletable": false,
    "editable": false,
    "hidden": true,
    "run_control": {
     "frozen": true
    }
   },
   "outputs": [
    {
     "data": {
      "application/vnd.jupyter.widget-view+json": {
       "model_id": "d8725a49a35f4d9eb5fdc95489785f08",
       "version_major": 2,
       "version_minor": 0
      },
      "text/plain": [
       "HBox(children=(FloatProgress(value=0.0, layout=Layout(flex='2'), max=53.0), HTML(value='')), layout=Layout(dis…"
      ]
     },
     "metadata": {},
     "output_type": "display_data"
    },
    {
     "name": "stdout",
     "output_type": "stream",
     "text": [
      "关键词('人工智能')已添加，无需重复添加\n",
      "\n",
      "关键词('大数据')已添加，无需重复添加\n",
      "\n",
      "成功添加关键词('云计算')\n",
      "\n",
      "关键词('虚拟现实')已添加，无需重复添加\n",
      "\n",
      "成功添加关键词('量子信息')\n",
      "\n",
      "成功添加关键词('第五代移动通信')\n",
      "\n",
      "成功添加关键词('物联网')\n",
      "\n",
      "成功添加关键词('区块链')\n",
      "\n",
      "成功添加关键词('生物技术')\n",
      "\n",
      "成功添加关键词('合成生物学')\n",
      "\n",
      "成功添加关键词('基因编辑')\n",
      "\n",
      "成功添加关键词('脑科学')\n",
      "\n",
      "成功添加关键词('再生医学')\n",
      "\n",
      "成功添加关键词('绿色技术')\n",
      "\n",
      "成功添加关键词('分布式发电')\n",
      "\n",
      "成功添加关键词('先进储能')\n",
      "\n",
      "成功添加关键词('能源互联网')\n",
      "\n",
      "成功添加关键词('高效燃料电池')\n",
      "\n",
      "成功添加关键词('先进制造技术')\n",
      "\n",
      "成功添加关键词('机器人')\n",
      "\n",
      "成功添加关键词('增材制造')\n",
      "\n",
      "成功添加关键词('数字孪生')\n",
      "\n",
      "成功添加关键词('工业互联网')\n",
      "\n",
      "成功添加关键词('超材料')\n",
      "\n",
      "成功添加关键词('纳米材料')\n",
      "\n",
      "关键词('石墨烯')已添加，无需重复添加\n",
      "\n",
      "成功添加关键词('空间开拓技术')\n",
      "\n",
      "成功添加关键词('深空深海深地探测技术')\n",
      "\n",
      "成功添加关键词('新空间开拓技术')\n",
      "\n",
      "关键词('绿色技术')已添加，无需重复添加\n",
      "\n",
      "关键词('生物技术')已添加，无需重复添加\n",
      "\n",
      "关键词('先进制造技术')已添加，无需重复添加\n",
      "\n",
      "关键词('虚拟现实')已添加，无需重复添加\n",
      "\n",
      "成功添加关键词('新药研发')\n",
      "\n",
      "成功添加关键词('医疗器械')\n",
      "\n",
      "成功添加关键词('新能源汽车')\n",
      "\n",
      "成功添加关键词('储能')\n",
      "\n",
      "成功添加关键词('新能源')\n",
      "\n",
      "成功添加关键词('智能装备')\n",
      "\n",
      "关键词('增材制造')已添加，无需重复添加\n",
      "\n",
      "成功添加关键词('火箭')\n",
      "\n",
      "成功添加关键词('卫星')\n",
      "\n",
      "成功添加关键词('数字文化')\n",
      "\n",
      "成功添加关键词('数字教育')\n",
      "\n",
      "成功添加关键词('数字医疗')\n",
      "\n",
      "关键词('互联网 ')已添加，无需重复添加\n",
      "\n",
      "关键词('人工智能 ')已添加，无需重复添加\n",
      "\n",
      "成功添加关键词('服务机器人')\n",
      "\n",
      "成功添加关键词('精准医学')\n",
      "\n",
      "成功添加关键词('智慧社区')\n",
      "\n",
      "成功添加关键词('生物监测')\n",
      "\n",
      "成功添加关键词('碳化硅')\n",
      "\n",
      "成功添加关键词('氮化镓')\n",
      "\n",
      "\n"
     ]
    }
   ],
   "source": [
    "for x in tqdm(keywords[0], ncols=ncols):\n",
    "    rst = requests.get(f'http://10.60.1.78:10101/?keyword={x}')\n",
    "    print (rst.text)"
   ]
  },
  {
   "cell_type": "markdown",
   "metadata": {},
   "source": [
    "## 第2次：VIP企业关键词"
   ]
  },
  {
   "cell_type": "markdown",
   "metadata": {},
   "source": [
    "### 词表"
   ]
  },
  {
   "cell_type": "code",
   "execution_count": 16,
   "metadata": {
    "ExecuteTime": {
     "end_time": "2021-05-17T09:15:51.083106Z",
     "start_time": "2021-05-17T09:15:51.075107Z"
    },
    "code_folding": [
     0
    ],
    "deletable": false,
    "editable": false,
    "run_control": {
     "frozen": true
    }
   },
   "outputs": [],
   "source": [
    "keywords = [\n",
    "    '人工智能',\n",
    "    '云计算',\n",
    "    '大数据',\n",
    "    '虚拟现实',\n",
    "    '新药研发',\n",
    "    '基因技术',\n",
    "    '医疗器械',\n",
    "    '新能源汽车',\n",
    "    '新能源',\n",
    "    '储能',\n",
    "    '智能装备',\n",
    "    '增材制造',\n",
    "    '火箭',\n",
    "    '卫星',\n",
    "]"
   ]
  },
  {
   "cell_type": "markdown",
   "metadata": {},
   "source": [
    "### 执行"
   ]
  },
  {
   "cell_type": "code",
   "execution_count": 17,
   "metadata": {
    "ExecuteTime": {
     "end_time": "2021-05-17T09:15:52.751249Z",
     "start_time": "2021-05-17T09:15:52.177394Z"
    },
    "collapsed": true,
    "deletable": false,
    "editable": false,
    "run_control": {
     "frozen": true
    }
   },
   "outputs": [
    {
     "data": {
      "application/vnd.jupyter.widget-view+json": {
       "model_id": "c40f4df5586a4c0698d9f6942295a3dd",
       "version_major": 2,
       "version_minor": 0
      },
      "text/plain": [
       "HBox(children=(FloatProgress(value=0.0, layout=Layout(flex='2'), max=14.0), HTML(value='')), layout=Layout(dis…"
      ]
     },
     "metadata": {},
     "output_type": "display_data"
    },
    {
     "name": "stdout",
     "output_type": "stream",
     "text": [
      "关键词('人工智能')已添加，无需重复添加\n",
      "\n",
      "关键词('云计算')已添加，无需重复添加\n",
      "\n",
      "关键词('大数据')已添加，无需重复添加\n",
      "\n",
      "关键词('虚拟现实')已添加，无需重复添加\n",
      "\n",
      "关键词('新药研发')已添加，无需重复添加\n",
      "\n",
      "成功添加关键词('基因技术')\n",
      "\n",
      "关键词('医疗器械')已添加，无需重复添加\n",
      "\n",
      "关键词('新能源汽车')已添加，无需重复添加\n",
      "\n",
      "关键词('新能源')已添加，无需重复添加\n",
      "\n",
      "关键词('储能')已添加，无需重复添加\n",
      "\n",
      "关键词('智能装备')已添加，无需重复添加\n",
      "\n",
      "关键词('增材制造')已添加，无需重复添加\n",
      "\n",
      "关键词('火箭')已添加，无需重复添加\n",
      "\n",
      "关键词('卫星')已添加，无需重复添加\n",
      "\n",
      "\n"
     ]
    }
   ],
   "source": [
    "addKeywords(keywords)"
   ]
  },
  {
   "cell_type": "code",
   "execution_count": 18,
   "metadata": {
    "ExecuteTime": {
     "end_time": "2021-05-18T05:48:06.008711Z",
     "start_time": "2021-05-18T05:48:05.990700Z"
    }
   },
   "outputs": [
    {
     "data": {
      "text/plain": [
       "18446744073709551615"
      ]
     },
     "execution_count": 18,
     "metadata": {},
     "output_type": "execute_result"
    }
   ],
   "source": [
    "18446744073709551615"
   ]
  },
  {
   "cell_type": "code",
   "execution_count": 20,
   "metadata": {
    "ExecuteTime": {
     "end_time": "2021-05-18T05:48:21.190604Z",
     "start_time": "2021-05-18T05:48:21.180590Z"
    }
   },
   "outputs": [
    {
     "data": {
      "text/plain": [
       "18446744073709551615"
      ]
     },
     "execution_count": 20,
     "metadata": {},
     "output_type": "execute_result"
    }
   ],
   "source": [
    "2**64 - 1"
   ]
  },
  {
   "cell_type": "code",
   "execution_count": 23,
   "metadata": {
    "ExecuteTime": {
     "end_time": "2021-05-18T07:34:36.405968Z",
     "start_time": "2021-05-18T07:34:36.398965Z"
    }
   },
   "outputs": [
    {
     "data": {
      "text/plain": [
       "{}"
      ]
     },
     "execution_count": 23,
     "metadata": {},
     "output_type": "execute_result"
    }
   ],
   "source": [
    "0 or {}"
   ]
  },
  {
   "cell_type": "code",
   "execution_count": 32,
   "metadata": {
    "ExecuteTime": {
     "end_time": "2021-05-18T07:47:51.917867Z",
     "start_time": "2021-05-18T07:47:51.902866Z"
    },
    "collapsed": true
   },
   "outputs": [
    {
     "data": {
      "text/plain": [
       "{'Id': 'ac341ab5ab1bda3c74a269b7acf180778fd34fadf665458504b6a2039e4e18ef',\n",
       " 'Created': '2021-05-18T07:45:24.396895768Z',\n",
       " 'Path': '/usr/local/bin/docker-entrypoint.sh',\n",
       " 'Args': ['eswrapper'],\n",
       " 'State': {'Status': 'exited',\n",
       "  'Running': False,\n",
       "  'Paused': False,\n",
       "  'Restarting': False,\n",
       "  'OOMKilled': False,\n",
       "  'Dead': False,\n",
       "  'Pid': 0,\n",
       "  'ExitCode': 143,\n",
       "  'Error': '',\n",
       "  'StartedAt': '2021-05-18T07:45:25.463498674Z',\n",
       "  'FinishedAt': '2021-05-18T07:46:40.510137828Z'},\n",
       " 'Image': 'sha256:911f580307aedccaf88a7e20320c17c0ac6d68ad3a688d019e8c50f50db93c46',\n",
       " 'ResolvConfPath': '/data/docker/containers/ac341ab5ab1bda3c74a269b7acf180778fd34fadf665458504b6a2039e4e18ef/resolv.conf',\n",
       " 'HostnamePath': '/data/docker/containers/ac341ab5ab1bda3c74a269b7acf180778fd34fadf665458504b6a2039e4e18ef/hostname',\n",
       " 'HostsPath': '/data/docker/containers/ac341ab5ab1bda3c74a269b7acf180778fd34fadf665458504b6a2039e4e18ef/hosts',\n",
       " 'LogPath': '/data/docker/containers/ac341ab5ab1bda3c74a269b7acf180778fd34fadf665458504b6a2039e4e18ef/ac341ab5ab1bda3c74a269b7acf180778fd34fadf665458504b6a2039e4e18ef-json.log',\n",
       " 'Name': '/es04',\n",
       " 'RestartCount': 0,\n",
       " 'Driver': 'overlay2',\n",
       " 'Platform': 'linux',\n",
       " 'MountLabel': '',\n",
       " 'ProcessLabel': '',\n",
       " 'AppArmorProfile': '',\n",
       " 'ExecIDs': None,\n",
       " 'HostConfig': {'Binds': ['/data/ves/es04/data:/usr/share/elasticsearch/data:rw',\n",
       "   '/data/ves/es04/logs:/usr/share/elasticsearch/logs:rw'],\n",
       "  'ContainerIDFile': '',\n",
       "  'LogConfig': {'Type': 'json-file', 'Config': {}},\n",
       "  'NetworkMode': 'ves_net',\n",
       "  'PortBindings': {'9200/tcp': [{'HostIp': '', 'HostPort': '19200'}],\n",
       "   '9300/tcp': [{'HostIp': '', 'HostPort': '19300'}]},\n",
       "  'RestartPolicy': {'Name': 'always', 'MaximumRetryCount': 0},\n",
       "  'AutoRemove': False,\n",
       "  'VolumeDriver': '',\n",
       "  'VolumesFrom': [],\n",
       "  'CapAdd': None,\n",
       "  'CapDrop': None,\n",
       "  'CgroupnsMode': 'host',\n",
       "  'Dns': None,\n",
       "  'DnsOptions': None,\n",
       "  'DnsSearch': None,\n",
       "  'ExtraHosts': None,\n",
       "  'GroupAdd': None,\n",
       "  'IpcMode': 'private',\n",
       "  'Cgroup': '',\n",
       "  'Links': None,\n",
       "  'OomScoreAdj': 0,\n",
       "  'PidMode': '',\n",
       "  'Privileged': False,\n",
       "  'PublishAllPorts': False,\n",
       "  'ReadonlyRootfs': False,\n",
       "  'SecurityOpt': None,\n",
       "  'UTSMode': '',\n",
       "  'UsernsMode': '',\n",
       "  'ShmSize': 67108864,\n",
       "  'Runtime': 'runc',\n",
       "  'ConsoleSize': [0, 0],\n",
       "  'Isolation': '',\n",
       "  'CpuShares': 0,\n",
       "  'Memory': 0,\n",
       "  'NanoCpus': 0,\n",
       "  'CgroupParent': '',\n",
       "  'BlkioWeight': 0,\n",
       "  'BlkioWeightDevice': None,\n",
       "  'BlkioDeviceReadBps': None,\n",
       "  'BlkioDeviceWriteBps': None,\n",
       "  'BlkioDeviceReadIOps': None,\n",
       "  'BlkioDeviceWriteIOps': None,\n",
       "  'CpuPeriod': 0,\n",
       "  'CpuQuota': 0,\n",
       "  'CpuRealtimePeriod': 0,\n",
       "  'CpuRealtimeRuntime': 0,\n",
       "  'CpusetCpus': '',\n",
       "  'CpusetMems': '',\n",
       "  'Devices': None,\n",
       "  'DeviceCgroupRules': None,\n",
       "  'DeviceRequests': None,\n",
       "  'KernelMemory': 0,\n",
       "  'KernelMemoryTCP': 0,\n",
       "  'MemoryReservation': 0,\n",
       "  'MemorySwap': 0,\n",
       "  'MemorySwappiness': None,\n",
       "  'OomKillDisable': False,\n",
       "  'PidsLimit': None,\n",
       "  'Ulimits': [{'Name': 'memlock', 'Hard': -1, 'Soft': -1}],\n",
       "  'CpuCount': 0,\n",
       "  'CpuPercent': 0,\n",
       "  'IOMaximumIOps': 0,\n",
       "  'IOMaximumBandwidth': 0,\n",
       "  'MaskedPaths': ['/proc/asound',\n",
       "   '/proc/acpi',\n",
       "   '/proc/kcore',\n",
       "   '/proc/keys',\n",
       "   '/proc/latency_stats',\n",
       "   '/proc/timer_list',\n",
       "   '/proc/timer_stats',\n",
       "   '/proc/sched_debug',\n",
       "   '/proc/scsi',\n",
       "   '/sys/firmware'],\n",
       "  'ReadonlyPaths': ['/proc/bus',\n",
       "   '/proc/fs',\n",
       "   '/proc/irq',\n",
       "   '/proc/sys',\n",
       "   '/proc/sysrq-trigger']},\n",
       " 'GraphDriver': {'Data': {'LowerDir': '/data/docker/overlay2/09d176379cc75356526ed2c8a474dc7b7f04b0e8c0113d135d36e1fc3c51fa76-init/diff:/data/docker/overlay2/432fea43c324c6ab945da4159d9f5c4709973f0b66b49750efec3a49a8528352/diff:/data/docker/overlay2/de584fa9b23c0d4131a2024bc23f9b7714d76b70ddf45510d42788afc957a82f/diff:/data/docker/overlay2/e7c251ba2b60c58221f9d09e01a708a22e3a3c3597bf41fecd330fa29e35df5a/diff:/data/docker/overlay2/14927b836df22676f6121f4cba7ba8d1ae9f7c3b8a8065efb23cf703c6c3a8de/diff:/data/docker/overlay2/de8c1573b785c910e98c1ea29bec4b71fe67b988a7d467cacefe20a229d5ecdb/diff:/data/docker/overlay2/8a6094302c183d34188012329bf9a3298ecbeb1bcd9db76661bba03ed13b3245/diff:/data/docker/overlay2/aafd8d0a8637cebd0e431b84bbbcbff7a85c5b6bec3f638f56efa8570560fe1d/diff',\n",
       "   'MergedDir': '/data/docker/overlay2/09d176379cc75356526ed2c8a474dc7b7f04b0e8c0113d135d36e1fc3c51fa76/merged',\n",
       "   'UpperDir': '/data/docker/overlay2/09d176379cc75356526ed2c8a474dc7b7f04b0e8c0113d135d36e1fc3c51fa76/diff',\n",
       "   'WorkDir': '/data/docker/overlay2/09d176379cc75356526ed2c8a474dc7b7f04b0e8c0113d135d36e1fc3c51fa76/work'},\n",
       "  'Name': 'overlay2'},\n",
       " 'Mounts': [{'Type': 'bind',\n",
       "   'Source': '/data/ves/es04/data',\n",
       "   'Destination': '/usr/share/elasticsearch/data',\n",
       "   'Mode': 'rw',\n",
       "   'RW': True,\n",
       "   'Propagation': 'rprivate'},\n",
       "  {'Type': 'bind',\n",
       "   'Source': '/data/ves/es04/logs',\n",
       "   'Destination': '/usr/share/elasticsearch/logs',\n",
       "   'Mode': 'rw',\n",
       "   'RW': True,\n",
       "   'Propagation': 'rprivate'}],\n",
       " 'Config': {'Hostname': 'ac341ab5ab1b',\n",
       "  'Domainname': '',\n",
       "  'User': '',\n",
       "  'AttachStdin': False,\n",
       "  'AttachStdout': False,\n",
       "  'AttachStderr': False,\n",
       "  'ExposedPorts': {'9200/tcp': {}, '9300/tcp': {}},\n",
       "  'Tty': False,\n",
       "  'OpenStdin': False,\n",
       "  'StdinOnce': False,\n",
       "  'Env': ['TZ=\"Asia/Shanghai\"',\n",
       "   'cluster.name=docker-cluster',\n",
       "   'node.name=es04',\n",
       "   'node.master=true',\n",
       "   'node.data=true',\n",
       "   'bootstrap.memory_lock=true',\n",
       "   'search.max_buckets=100000000',\n",
       "   'http.cors.enabled=true',\n",
       "   'http.cors.allow-origin=*',\n",
       "   'cluster.initial_master_nodes=es04',\n",
       "   'ES_JAVA_OPTS=-Xms10g -Xmx10g',\n",
       "   'discovery.zen.ping.unicast.hosts=es04',\n",
       "   'discovery.zen.minimum_master_nodes=2',\n",
       "   'http.max_content_length=1024mb',\n",
       "   'PATH=/usr/share/elasticsearch/bin:/usr/local/sbin:/usr/local/bin:/usr/sbin:/usr/bin:/sbin:/bin',\n",
       "   'ELASTIC_CONTAINER=true'],\n",
       "  'Cmd': ['eswrapper'],\n",
       "  'Image': 'elasticsearch:7.5.0',\n",
       "  'Volumes': {'/usr/share/elasticsearch/data': {},\n",
       "   '/usr/share/elasticsearch/logs': {}},\n",
       "  'WorkingDir': '/usr/share/elasticsearch',\n",
       "  'Entrypoint': ['/usr/local/bin/docker-entrypoint.sh'],\n",
       "  'OnBuild': None,\n",
       "  'Labels': {'com.docker.compose.config-hash': '334118999ec36e92c1d6bca1a6436301764c47cd0595226acb6f9bdb65864f74',\n",
       "   'com.docker.compose.container-number': '1',\n",
       "   'com.docker.compose.oneoff': 'False',\n",
       "   'com.docker.compose.project': 'ves',\n",
       "   'com.docker.compose.project.config_files': 'docker-compose.yml',\n",
       "   'com.docker.compose.project.working_dir': '/data/ves',\n",
       "   'com.docker.compose.service': 'es04',\n",
       "   'com.docker.compose.version': '1.27.4',\n",
       "   'org.label-schema.build-date': '2019-11-26T01:06:52.520070Z',\n",
       "   'org.label-schema.license': 'Elastic-License',\n",
       "   'org.label-schema.name': 'Elasticsearch',\n",
       "   'org.label-schema.schema-version': '1.0',\n",
       "   'org.label-schema.url': 'https://www.elastic.co/products/elasticsearch',\n",
       "   'org.label-schema.usage': 'https://www.elastic.co/guide/en/elasticsearch/reference/index.html',\n",
       "   'org.label-schema.vcs-ref': 'e9ccaed468e2fac2275a3761849cbee64b39519f',\n",
       "   'org.label-schema.vcs-url': 'https://github.com/elastic/elasticsearch',\n",
       "   'org.label-schema.vendor': 'Elastic',\n",
       "   'org.label-schema.version': '7.5.0',\n",
       "   'org.opencontainers.image.created': '2019-11-26T01:06:52.520070Z',\n",
       "   'org.opencontainers.image.documentation': 'https://www.elastic.co/guide/en/elasticsearch/reference/index.html',\n",
       "   'org.opencontainers.image.licenses': 'Elastic-License',\n",
       "   'org.opencontainers.image.revision': 'e9ccaed468e2fac2275a3761849cbee64b39519f',\n",
       "   'org.opencontainers.image.source': 'https://github.com/elastic/elasticsearch',\n",
       "   'org.opencontainers.image.title': 'Elasticsearch',\n",
       "   'org.opencontainers.image.url': 'https://www.elastic.co/products/elasticsearch',\n",
       "   'org.opencontainers.image.vendor': 'Elastic',\n",
       "   'org.opencontainers.image.version': '7.5.0'}},\n",
       " 'NetworkSettings': {'Bridge': '',\n",
       "  'SandboxID': '0693efb75b091010de5cca5a72ebeb2d6ca50498f601f9915212f7b09b03dd43',\n",
       "  'HairpinMode': False,\n",
       "  'LinkLocalIPv6Address': '',\n",
       "  'LinkLocalIPv6PrefixLen': 0,\n",
       "  'Ports': {},\n",
       "  'SandboxKey': '/var/run/docker/netns/0693efb75b09',\n",
       "  'SecondaryIPAddresses': None,\n",
       "  'SecondaryIPv6Addresses': None,\n",
       "  'EndpointID': '',\n",
       "  'Gateway': '',\n",
       "  'GlobalIPv6Address': '',\n",
       "  'GlobalIPv6PrefixLen': 0,\n",
       "  'IPAddress': '',\n",
       "  'IPPrefixLen': 0,\n",
       "  'IPv6Gateway': '',\n",
       "  'MacAddress': '',\n",
       "  'Networks': {'ves_net': {'IPAMConfig': None,\n",
       "    'Links': None,\n",
       "    'Aliases': ['ac341ab5ab1b', 'es04'],\n",
       "    'NetworkID': '24d097928a70b399f236c8be272d54dd069cdc8e5c344909ceeb60f52fb44a56',\n",
       "    'EndpointID': '',\n",
       "    'Gateway': '',\n",
       "    'IPAddress': '',\n",
       "    'IPPrefixLen': 0,\n",
       "    'IPv6Gateway': '',\n",
       "    'GlobalIPv6Address': '',\n",
       "    'GlobalIPv6PrefixLen': 0,\n",
       "    'MacAddress': '',\n",
       "    'DriverOpts': None}}}}"
      ]
     },
     "execution_count": 32,
     "metadata": {},
     "output_type": "execute_result"
    }
   ],
   "source": [
    "c"
   ]
  }
 ],
 "metadata": {
  "kernelspec": {
   "display_name": "Python 3",
   "language": "python",
   "name": "python3"
  },
  "language_info": {
   "codemirror_mode": {
    "name": "ipython",
    "version": 3
   },
   "file_extension": ".py",
   "mimetype": "text/x-python",
   "name": "python",
   "nbconvert_exporter": "python",
   "pygments_lexer": "ipython3",
   "version": "3.8.3"
  },
  "latex_envs": {
   "LaTeX_envs_menu_present": true,
   "autoclose": false,
   "autocomplete": true,
   "bibliofile": "biblio.bib",
   "cite_by": "apalike",
   "current_citInitial": 1,
   "eqLabelWithNumbers": true,
   "eqNumInitial": 1,
   "hotkeys": {
    "equation": "Ctrl-E",
    "itemize": "Ctrl-I"
   },
   "labels_anchors": false,
   "latex_user_defs": false,
   "report_style_numbering": false,
   "user_envs_cfg": false
  },
  "toc": {
   "base_numbering": 1,
   "nav_menu": {},
   "number_sections": false,
   "sideBar": true,
   "skip_h1_title": false,
   "title_cell": "Table of Contents",
   "title_sidebar": "Contents",
   "toc_cell": false,
   "toc_position": {},
   "toc_section_display": true,
   "toc_window_display": true
  },
  "varInspector": {
   "cols": {
    "lenName": 16,
    "lenType": 16,
    "lenVar": 40
   },
   "kernels_config": {
    "python": {
     "delete_cmd_postfix": "",
     "delete_cmd_prefix": "del ",
     "library": "var_list.py",
     "varRefreshCmd": "print(var_dic_list())"
    },
    "r": {
     "delete_cmd_postfix": ") ",
     "delete_cmd_prefix": "rm(",
     "library": "var_list.r",
     "varRefreshCmd": "cat(var_dic_list()) "
    }
   },
   "position": {
    "height": "638.212px",
    "left": "1615.33px",
    "right": "20px",
    "top": "111.986px",
    "width": "486.771px"
   },
   "types_to_exclude": [
    "module",
    "function",
    "builtin_function_or_method",
    "instance",
    "_Feature"
   ],
   "window_display": true
  }
 },
 "nbformat": 4,
 "nbformat_minor": 4
}
