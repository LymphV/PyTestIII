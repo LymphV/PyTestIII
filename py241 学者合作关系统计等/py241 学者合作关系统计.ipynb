{
 "cells": [
  {
   "cell_type": "markdown",
   "metadata": {},
   "source": [
    "# 库"
   ]
  },
  {
   "cell_type": "code",
   "execution_count": 1,
   "metadata": {
    "ExecuteTime": {
     "end_time": "2021-12-06T09:19:50.254481Z",
     "start_time": "2021-12-06T09:19:50.246478Z"
    }
   },
   "outputs": [],
   "source": [
    "import os, sys, re, json\n",
    "from time import time, sleep"
   ]
  },
  {
   "cell_type": "code",
   "execution_count": 2,
   "metadata": {
    "ExecuteTime": {
     "end_time": "2021-12-06T09:19:51.149487Z",
     "start_time": "2021-12-06T09:19:50.634478Z"
    }
   },
   "outputs": [],
   "source": [
    "from vEs import EsProxy\n",
    "from vMysql import MysqlProxy, stdSqlData\n",
    "from vUtil.vLog import frmt"
   ]
  },
  {
   "cell_type": "code",
   "execution_count": 3,
   "metadata": {
    "ExecuteTime": {
     "end_time": "2021-12-06T09:19:51.283479Z",
     "start_time": "2021-12-06T09:19:51.269479Z"
    }
   },
   "outputs": [],
   "source": [
    "import pandas as pd"
   ]
  },
  {
   "cell_type": "code",
   "execution_count": 4,
   "metadata": {
    "ExecuteTime": {
     "end_time": "2021-12-06T09:19:51.744480Z",
     "start_time": "2021-12-06T09:19:51.738482Z"
    }
   },
   "outputs": [],
   "source": [
    "from vUtil.vTqdm import tqdm, trange, typeOfScript"
   ]
  },
  {
   "cell_type": "code",
   "execution_count": 5,
   "metadata": {
    "ExecuteTime": {
     "end_time": "2021-12-06T09:19:52.484598Z",
     "start_time": "2021-12-06T09:19:52.193480Z"
    }
   },
   "outputs": [],
   "source": [
    "import matplotlib.pyplot as plt\n",
    "plt.rcParams['font.sans-serif']=['SimHei'] #用来正常显示中文标签\n",
    "plt.rcParams['axes.unicode_minus']=False #用来正常显示负号"
   ]
  },
  {
   "cell_type": "code",
   "execution_count": 6,
   "metadata": {
    "ExecuteTime": {
     "end_time": "2021-12-06T09:19:52.882481Z",
     "start_time": "2021-12-06T09:19:52.874476Z"
    }
   },
   "outputs": [],
   "source": [
    "sys.path += [r'C:\\\\Users\\\\ict\\\\LymphV\\\\程序\\\\试验品\\\\Py试验品III\\\\py225 AminerPeterait']"
   ]
  },
  {
   "cell_type": "markdown",
   "metadata": {
    "heading_collapsed": true
   },
   "source": [
    "# 合作关系"
   ]
  },
  {
   "cell_type": "markdown",
   "metadata": {
    "hidden": true
   },
   "source": [
    "## 合作目标"
   ]
  },
  {
   "cell_type": "code",
   "execution_count": 22,
   "metadata": {
    "ExecuteTime": {
     "end_time": "2021-12-06T03:00:57.710485Z",
     "start_time": "2021-12-06T03:00:57.704485Z"
    },
    "hidden": true
   },
   "outputs": [],
   "source": [
    "aid = '1052707616333502847'\n",
    "name = '裴普成'"
   ]
  },
  {
   "cell_type": "code",
   "execution_count": 12,
   "metadata": {
    "ExecuteTime": {
     "end_time": "2021-12-06T02:35:07.631752Z",
     "start_time": "2021-12-06T02:35:07.612781Z"
    },
    "code_folding": [
     0
    ],
    "hidden": true
   },
   "outputs": [],
   "source": [
    "authors = [\n",
    "  {'id': '1113290159662956967',\n",
    "  'name': '陈东方',\n",
    "  'score': '20',\n",
    "  'affiliationId': '115',\n",
    "  'affiliationName': '清华大学',\n",
    "  'lastFiveYearScore': 19},\n",
    " {'id': '1115735975224803372',\n",
    "  'name': '黄尚尉',\n",
    "  'score': '14',\n",
    "  'affiliationId': '115',\n",
    "  'affiliationName': '清华大学',\n",
    "  'lastFiveYearScore': 14},\n",
    " {'id': '1052707719463070537',\n",
    "  'name': '章桐',\n",
    "  'score': '11',\n",
    "  'affiliationId': '313',\n",
    "  'affiliationName': '同济大学',\n",
    "  'lastFiveYearScore': 11},\n",
    " {'id': '1115735974885064745',\n",
    "  'name': '任棚',\n",
    "  'score': '11',\n",
    "  'affiliationId': '115',\n",
    "  'affiliationName': '清华大学',\n",
    "  'lastFiveYearScore': 11},\n",
    " {'id': '1115735974918619178',\n",
    "  'name': '吴子尧',\n",
    "  'score': '9',\n",
    "  'affiliationId': '115',\n",
    "  'affiliationName': '清华大学',\n",
    "  'lastFiveYearScore': 9},\n",
    " {'id': '1078288597001987904',\n",
    "  'name': '鲁勇',\n",
    "  'score': '7',\n",
    "  'affiliationId': '115',\n",
    "  'affiliationName': '清华大学',\n",
    "  'lastFiveYearScore': 0},\n",
    " {'id': '1052707588923720529',\n",
    "  'name': '卢兰光',\n",
    "  'score': 7,\n",
    "  'affiliationId': '115',\n",
    "  'affiliationName': '清华大学',\n",
    "  'lastFiveYearScore': 0},\n",
    " {'id': '1032650176330072071',\n",
    "  'name': '欧阳明高',\n",
    "  'score': 7,\n",
    "  'affiliationId': '115',\n",
    "  'affiliationName': '清华大学',\n",
    "  'lastFiveYearScore': 0},\n",
    " {'id': '1078223896603812916',\n",
    "  'name': '秦建军',\n",
    "  'score': '7',\n",
    "  'affiliationId': '1453',\n",
    "  'affiliationName': '北京建筑大学',\n",
    "  'lastFiveYearScore': 6},\n",
    " {'id': '1115617906640945210',\n",
    "  'name': '刘永峰',\n",
    "  'score': '7',\n",
    "  'affiliationId': '1453',\n",
    "  'affiliationName': '北京建筑大学',\n",
    "  'lastFiveYearScore': 6},\n",
    " {'id': '1115693359946924101',\n",
    "  'name': '姚圣卓',\n",
    "  'score': '7',\n",
    "  'affiliationId': '1453',\n",
    "  'affiliationName': '北京建筑大学',\n",
    "  'lastFiveYearScore': 6},\n",
    " {'id': '1115735974952173611',\n",
    "  'name': '贾肖宁',\n",
    "  'score': '7',\n",
    "  'affiliationId': '115',\n",
    "  'affiliationName': '清华大学',\n",
    "  'lastFiveYearScore': 7},\n",
    " {'id': '1078191494326129783',\n",
    "  'name': '白世杰',\n",
    "  'score': 5,\n",
    "  'affiliationId': '1453',\n",
    "  'affiliationName': '北京建筑大学',\n",
    "  'lastFiveYearScore': 5},\n",
    " {'id': '1115845897451077679',\n",
    "  'name': '王博正',\n",
    "  'score': '5',\n",
    "  'affiliationId': '115',\n",
    "  'affiliationName': '清华大学',\n",
    "  'lastFiveYearScore': 5},\n",
    " {'id': '1052707434925676761',\n",
    "  'name': '刘书亮',\n",
    "  'score': '4',\n",
    "  'affiliationId': '311',\n",
    "  'affiliationName': '天津大学',\n",
    "  'lastFiveYearScore': 0}]"
   ]
  },
  {
   "cell_type": "code",
   "execution_count": 13,
   "metadata": {
    "ExecuteTime": {
     "end_time": "2021-12-06T02:35:07.818751Z",
     "start_time": "2021-12-06T02:35:07.814749Z"
    },
    "code_folding": [
     0
    ],
    "hidden": true
   },
   "outputs": [],
   "source": [
    "affs = [\n",
    " {'affiliationId': '115', 'affiliationName': '清华大学', 'affiliationCount': '81'},\n",
    " {'affiliationId': '1453',\n",
    "  'affiliationName': '北京建筑大学',\n",
    "  'affiliationCount': '7'},\n",
    " {'affiliationId': '311', 'affiliationName': '天津大学', 'affiliationCount': '2'},\n",
    " {'affiliationId': '2998',\n",
    "  'affiliationName': '浙江吉利控股集团有限公司',\n",
    "  'affiliationCount': '2'},\n",
    " {'affiliationId': '4364',\n",
    "  'affiliationName': '华东工学院',\n",
    "  'affiliationCount': '1'}]"
   ]
  },
  {
   "cell_type": "code",
   "execution_count": 62,
   "metadata": {
    "ExecuteTime": {
     "end_time": "2021-12-06T05:41:16.738354Z",
     "start_time": "2021-12-06T05:41:16.731387Z"
    },
    "hidden": true
   },
   "outputs": [],
   "source": [
    "path = r'C:\\Users\\ict\\LymphV\\ICT2021\\兰亭\\未来demo'"
   ]
  },
  {
   "cell_type": "markdown",
   "metadata": {
    "heading_collapsed": true,
    "hidden": true
   },
   "source": [
    "## 读取"
   ]
  },
  {
   "cell_type": "code",
   "execution_count": 16,
   "metadata": {
    "ExecuteTime": {
     "end_time": "2021-12-06T02:51:50.378296Z",
     "start_time": "2021-12-06T02:51:50.367298Z"
    },
    "hidden": true
   },
   "outputs": [],
   "source": [
    "es = EsProxy()"
   ]
  },
  {
   "cell_type": "code",
   "execution_count": 44,
   "metadata": {
    "ExecuteTime": {
     "end_time": "2021-12-06T03:45:20.083977Z",
     "start_time": "2021-12-06T03:45:19.892969Z"
    },
    "hidden": true
   },
   "outputs": [],
   "source": [
    "db = MysqlProxy()"
   ]
  },
  {
   "cell_type": "code",
   "execution_count": 59,
   "metadata": {
    "ExecuteTime": {
     "end_time": "2021-12-06T05:39:32.647592Z",
     "start_time": "2021-12-06T05:39:32.634591Z"
    },
    "hidden": true
   },
   "outputs": [],
   "source": [
    "df = pd.DataFrame(columns=['学者', '合作者', '合作类型/合作数量', '题目'])"
   ]
  },
  {
   "cell_type": "markdown",
   "metadata": {
    "heading_collapsed": true,
    "hidden": true
   },
   "source": [
    "### 学者合作"
   ]
  },
  {
   "cell_type": "code",
   "execution_count": 18,
   "metadata": {
    "ExecuteTime": {
     "end_time": "2021-12-06T02:51:54.560458Z",
     "start_time": "2021-12-06T02:51:54.554457Z"
    },
    "hidden": true
   },
   "outputs": [],
   "source": [
    "body = lambda aid, author : {\n",
    "  \"query\": {\n",
    "    \"bool\": {\n",
    "      \"must\": [\n",
    "        {\"term\": {\"scholars\": aid}},\n",
    "        {\"term\": {\"scholars\": author}}\n",
    "      ]\n",
    "    }\n",
    "  },\n",
    "  \"size\": 300\n",
    "}"
   ]
  },
  {
   "cell_type": "code",
   "execution_count": 60,
   "metadata": {
    "ExecuteTime": {
     "end_time": "2021-12-06T05:39:40.930720Z",
     "start_time": "2021-12-06T05:39:36.608459Z"
    },
    "hidden": true
   },
   "outputs": [
    {
     "data": {
      "application/vnd.jupyter.widget-view+json": {
       "model_id": "e97826e2b4844f0cb62e3d211a13378f",
       "version_major": 2,
       "version_minor": 0
      },
      "text/plain": [
       "HBox(children=(FloatProgress(value=0.0, layout=Layout(flex='2'), max=15.0), HTML(value='')), layout=Layout(dis…"
      ]
     },
     "metadata": {},
     "output_type": "display_data"
    },
    {
     "name": "stdout",
     "output_type": "stream",
     "text": [
      "1113290159662956967 陈东方 20 20\n",
      "1115735975224803372 黄尚尉 14 14\n",
      "1052707719463070537 章桐 11 11\n",
      "1115735974885064745 任棚 11 11\n",
      "1115735974918619178 吴子尧 9 9\n",
      "1078288597001987904 鲁勇 7 7\n",
      "1052707588923720529 卢兰光 7 7\n",
      "1032650176330072071 欧阳明高 7 7\n",
      "1078223896603812916 秦建军 7 7\n",
      "1115617906640945210 刘永峰 7 7\n",
      "1115693359946924101 姚圣卓 7 7\n",
      "1115735974952173611 贾肖宁 7 7\n",
      "1078191494326129783 白世杰 5 5\n",
      "1115845897451077679 王博正 5 5\n",
      "1052707434925676761 刘书亮 4 4\n",
      "\n"
     ]
    }
   ],
   "source": [
    "with tqdm(authors) as ta:\n",
    "    for x in ta:\n",
    "        papers = es.search(body(aid, x['id']), 'landinn_paper')['hits']\n",
    "        patents = es.search(body(aid, x['id']), 'landinn_patent')['hits']\n",
    "        total = papers['total']['value'] + patents['total']['value']\n",
    "        df.loc[len(df)] = [name, x['name'], total, None]\n",
    "        for y in papers['hits']:\n",
    "            df.loc[len(df)] = [name, x['name'], '论文', y['_source']['title']]\n",
    "        for y in patents['hits']:\n",
    "            df.loc[len(df)] = [name, x['name'], '专利', y['_source']['title']]\n",
    "\n",
    "        print (x['id'], x['name'], x['score'], total)"
   ]
  },
  {
   "cell_type": "markdown",
   "metadata": {
    "heading_collapsed": true,
    "hidden": true
   },
   "source": [
    "### 机构合作"
   ]
  },
  {
   "cell_type": "code",
   "execution_count": 55,
   "metadata": {
    "ExecuteTime": {
     "end_time": "2021-12-06T05:32:57.468439Z",
     "start_time": "2021-12-06T05:32:57.464436Z"
    },
    "hidden": true
   },
   "outputs": [],
   "source": [
    "s = '''\n",
    "select b.patent_title as title from\n",
    "patent_applicants as a\n",
    "join\n",
    "patent as b\n",
    "join\n",
    "patent_authors as c\n",
    "on a.patent_id = b.golaxy_patent_id \n",
    "and a.patent_id = c.patent_id\n",
    "and c.author_id = %s\n",
    "and a.applicant_id = %s\n",
    ";\n",
    "'''"
   ]
  },
  {
   "cell_type": "code",
   "execution_count": 61,
   "metadata": {
    "ExecuteTime": {
     "end_time": "2021-12-06T05:39:45.243561Z",
     "start_time": "2021-12-06T05:39:44.354554Z"
    },
    "hidden": true
   },
   "outputs": [
    {
     "data": {
      "application/vnd.jupyter.widget-view+json": {
       "model_id": "473f8c5f8b2f447b93aa1fcf9ebe6093",
       "version_major": 2,
       "version_minor": 0
      },
      "text/plain": [
       "HBox(children=(FloatProgress(value=0.0, layout=Layout(flex='2'), max=5.0), HTML(value='')), layout=Layout(disp…"
      ]
     },
     "metadata": {},
     "output_type": "display_data"
    },
    {
     "name": "stdout",
     "output_type": "stream",
     "text": [
      "115 清华大学 81 81\n",
      "1453 北京建筑大学 7 7\n",
      "311 天津大学 2 2\n",
      "2998 浙江吉利控股集团有限公司 2 2\n",
      "4364 华东工学院 1 1\n",
      "\n"
     ]
    }
   ],
   "source": [
    "with tqdm(affs) as ta:\n",
    "    for x in ta:\n",
    "        patents = db(s % (aid, x['affiliationId']))\n",
    "        total = len(patents)\n",
    "        df.loc[len(df)] = [name, x['affiliationName'], total, None]\n",
    "        for y in patents['title']:\n",
    "            df.loc[len(df)] = [name, x['affiliationName'], '专利', y]\n",
    "\n",
    "        print (x['affiliationId'], x['affiliationName'], \n",
    "               x['affiliationCount'], total)"
   ]
  },
  {
   "cell_type": "markdown",
   "metadata": {
    "hidden": true
   },
   "source": [
    "## 保存"
   ]
  },
  {
   "cell_type": "code",
   "execution_count": 65,
   "metadata": {
    "ExecuteTime": {
     "end_time": "2021-12-06T05:42:40.154212Z",
     "start_time": "2021-12-06T05:42:40.042211Z"
    },
    "hidden": true
   },
   "outputs": [],
   "source": [
    "df.to_excel(path + '/partners.xlsx', index=False)"
   ]
  },
  {
   "cell_type": "code",
   "execution_count": 42,
   "metadata": {
    "ExecuteTime": {
     "end_time": "2021-12-06T03:08:54.030702Z",
     "start_time": "2021-12-06T03:08:54.002695Z"
    },
    "hidden": true
   },
   "outputs": [
    {
     "data": {
      "text/html": [
       "<div>\n",
       "<style scoped>\n",
       "    .dataframe tbody tr th:only-of-type {\n",
       "        vertical-align: middle;\n",
       "    }\n",
       "\n",
       "    .dataframe tbody tr th {\n",
       "        vertical-align: top;\n",
       "    }\n",
       "\n",
       "    .dataframe thead th {\n",
       "        text-align: right;\n",
       "    }\n",
       "</style>\n",
       "<table border=\"1\" class=\"dataframe\">\n",
       "  <thead>\n",
       "    <tr style=\"text-align: right;\">\n",
       "      <th></th>\n",
       "      <th>学者</th>\n",
       "      <th>合作者</th>\n",
       "      <th>合作类型/合作数量</th>\n",
       "      <th>题目</th>\n",
       "    </tr>\n",
       "  </thead>\n",
       "  <tbody>\n",
       "    <tr>\n",
       "      <th>0</th>\n",
       "      <td>裴普成</td>\n",
       "      <td>陈东方</td>\n",
       "      <td>20</td>\n",
       "      <td>None</td>\n",
       "    </tr>\n",
       "    <tr>\n",
       "      <th>1</th>\n",
       "      <td>裴普成</td>\n",
       "      <td>陈东方</td>\n",
       "      <td>专利</td>\n",
       "      <td>金属空气燃料电池耐久性综合测试评价方法</td>\n",
       "    </tr>\n",
       "    <tr>\n",
       "      <th>2</th>\n",
       "      <td>裴普成</td>\n",
       "      <td>陈东方</td>\n",
       "      <td>专利</td>\n",
       "      <td>镁合金阳极材料制备方法及装置</td>\n",
       "    </tr>\n",
       "    <tr>\n",
       "      <th>3</th>\n",
       "      <td>裴普成</td>\n",
       "      <td>陈东方</td>\n",
       "      <td>专利</td>\n",
       "      <td>便携的机械再充式锌空气二次电池</td>\n",
       "    </tr>\n",
       "    <tr>\n",
       "      <th>4</th>\n",
       "      <td>裴普成</td>\n",
       "      <td>陈东方</td>\n",
       "      <td>专利</td>\n",
       "      <td>一种高性能金属空气燃料电池系统</td>\n",
       "    </tr>\n",
       "    <tr>\n",
       "      <th>...</th>\n",
       "      <td>...</td>\n",
       "      <td>...</td>\n",
       "      <td>...</td>\n",
       "      <td>...</td>\n",
       "    </tr>\n",
       "    <tr>\n",
       "      <th>138</th>\n",
       "      <td>裴普成</td>\n",
       "      <td>刘书亮</td>\n",
       "      <td>4</td>\n",
       "      <td>None</td>\n",
       "    </tr>\n",
       "    <tr>\n",
       "      <th>139</th>\n",
       "      <td>裴普成</td>\n",
       "      <td>刘书亮</td>\n",
       "      <td>论文</td>\n",
       "      <td>多气门汽油机滚流进气道结构的研究</td>\n",
       "    </tr>\n",
       "    <tr>\n",
       "      <th>140</th>\n",
       "      <td>裴普成</td>\n",
       "      <td>刘书亮</td>\n",
       "      <td>论文</td>\n",
       "      <td>两次喷油——在气道内喷射式汽油机上组织稀混合气燃烧的新概念</td>\n",
       "    </tr>\n",
       "    <tr>\n",
       "      <th>141</th>\n",
       "      <td>裴普成</td>\n",
       "      <td>刘书亮</td>\n",
       "      <td>论文</td>\n",
       "      <td>电控燃油喷射稀燃五气门CA1102Q汽油机试验</td>\n",
       "    </tr>\n",
       "    <tr>\n",
       "      <th>142</th>\n",
       "      <td>裴普成</td>\n",
       "      <td>刘书亮</td>\n",
       "      <td>论文</td>\n",
       "      <td>汽油机分层废气再循环与稀薄混合气燃烧</td>\n",
       "    </tr>\n",
       "  </tbody>\n",
       "</table>\n",
       "<p>143 rows × 4 columns</p>\n",
       "</div>"
      ],
      "text/plain": [
       "      学者  合作者 合作类型/合作数量                             题目\n",
       "0    裴普成  陈东方        20                           None\n",
       "1    裴普成  陈东方        专利            金属空气燃料电池耐久性综合测试评价方法\n",
       "2    裴普成  陈东方        专利                 镁合金阳极材料制备方法及装置\n",
       "3    裴普成  陈东方        专利                便携的机械再充式锌空气二次电池\n",
       "4    裴普成  陈东方        专利                一种高性能金属空气燃料电池系统\n",
       "..   ...  ...       ...                            ...\n",
       "138  裴普成  刘书亮         4                           None\n",
       "139  裴普成  刘书亮        论文               多气门汽油机滚流进气道结构的研究\n",
       "140  裴普成  刘书亮        论文  两次喷油——在气道内喷射式汽油机上组织稀混合气燃烧的新概念\n",
       "141  裴普成  刘书亮        论文        电控燃油喷射稀燃五气门CA1102Q汽油机试验\n",
       "142  裴普成  刘书亮        论文             汽油机分层废气再循环与稀薄混合气燃烧\n",
       "\n",
       "[143 rows x 4 columns]"
      ]
     },
     "execution_count": 42,
     "metadata": {},
     "output_type": "execute_result"
    }
   ],
   "source": [
    "df"
   ]
  },
  {
   "cell_type": "code",
   "execution_count": 26,
   "metadata": {
    "ExecuteTime": {
     "end_time": "2021-12-06T03:05:55.039011Z",
     "start_time": "2021-12-06T03:05:54.914979Z"
    },
    "hidden": true
   },
   "outputs": [
    {
     "name": "stdout",
     "output_type": "stream",
     "text": [
      "金属空气燃料电池耐久性综合测试评价方法\n",
      "镁合金阳极材料制备方法及装置\n",
      "便携的机械再充式锌空气二次电池\n",
      "一种高性能金属空气燃料电池系统\n",
      "基于氧气在线生成的金属氧气燃料电池调控装置\n",
      "金属空气燃料电池燃料自动添加系统\n",
      "燃料电池使用寿命和剩余寿命的倒数预测方法及装置\n",
      "基于类极化特性的燃料电池使用寿命的预测方法及装置\n",
      "燃料电池堆膜电极参数检测方法和检测装置\n",
      "燃料电池使用寿命和剩余寿命的对数预测方法及装置\n",
      "用于燃料电池的进气降温增湿系统\n",
      "基于伏安曲线的燃料电池使用寿命的预测方法及装置\n",
      "金属空气燃料电池燃料自动添加系统\n",
      "规避金属空气燃料电池停机腐蚀的系统和方法\n",
      "燃料电池宽域引射器设计方法及装置\n",
      "燃料电池使用寿命和剩余寿命的预测方法及装置\n",
      "金属空气燃料电池系统\n",
      "燃料电池组合电堆系统水故障的控制方法及装置\n",
      "一种用于质子交换膜燃料电池的空气供气增湿中冷系统\n",
      "一种用于质子交换膜燃料电池的空气供气增湿中冷系统\n"
     ]
    }
   ],
   "source": [
    "for y in es.search(body(aid, authors[0]['id']), 'landinn_patent')['hits']['hits']:\n",
    "    print (y['_source']['title'])"
   ]
  },
  {
   "cell_type": "code",
   "execution_count": null,
   "metadata": {
    "hidden": true
   },
   "outputs": [],
   "source": []
  },
  {
   "cell_type": "markdown",
   "metadata": {},
   "source": [
    "# 变迁"
   ]
  },
  {
   "cell_type": "markdown",
   "metadata": {
    "ExecuteTime": {
     "end_time": "2021-12-06T05:51:15.273946Z",
     "start_time": "2021-12-06T05:51:15.269948Z"
    },
    "heading_collapsed": true
   },
   "source": [
    "## sql语句"
   ]
  },
  {
   "cell_type": "code",
   "execution_count": 68,
   "metadata": {
    "ExecuteTime": {
     "end_time": "2021-12-06T08:05:23.897796Z",
     "start_time": "2021-12-06T08:05:23.889796Z"
    },
    "hidden": true
   },
   "outputs": [],
   "source": [
    "sqlChange = lambda name, aid : f'''\n",
    "select * from\n",
    "(\n",
    "    (\n",
    "        select {stdSqlData(name)} as 姓名, '论文' as 类型, b.paper_title as 题目, \n",
    "        if(not isnull(b.paper_date) and now() > b.paper_date, b.paper_date, str_to_date(concat(b.paper_year, '-1-1'), '%Y-%m-%d')) as 日期, \n",
    "        c.display_name as 机构, c.reg_province as 省, c.reg_city as 市 from \n",
    "        paper_author_affiliations as a \n",
    "        join\n",
    "        papers as b\n",
    "        join \n",
    "        affiliations as c\n",
    "        on a.author_id = {stdSqlData(aid)}\n",
    "        and a.paper_id = b.golaxy_paper_id\n",
    "        and a.affiliation_id = c. affiliation_id\n",
    "        and not a.is_deleted\n",
    "        and not b.is_deleted\n",
    "        and a.affiliation_id is not null\n",
    "    ) \n",
    "    union\n",
    "    (\n",
    "        select {stdSqlData(name)} as 姓名, '专利' as 类型, tb.patent_title as 题目, ifnull(tb.applicant_date, tb.grant_date) as 日期, \n",
    "        td.display_name as 机构, td.reg_province as 省, td.reg_city as 市 from \n",
    "        patent_authors as ta \n",
    "        join\n",
    "        patent as tb\n",
    "        join\n",
    "        patent_applicants as tc\n",
    "        join \n",
    "        affiliations as td\n",
    "        on ta.author_id = {stdSqlData(aid)}\n",
    "        and ta.patent_id = tb.golaxy_patent_id\n",
    "        and ta.patent_id = tc.patent_id\n",
    "        and tc.applicant_id = td. affiliation_id\n",
    "        and not ta.is_deleted\n",
    "        and not tb.is_deleted\n",
    "        and not tc.is_deleted\n",
    "        and tc.applicant_id is not null\n",
    "    )\n",
    "    union\n",
    "    (\n",
    "        select {stdSqlData(name)} as 姓名, '项目' as 类型, jb.project_title as 题目,\n",
    "        str_to_date(concat(jb.start_year, '-1-1'), '%Y-%m-%d') as 日期,\n",
    "        jd.display_name as 机构, jd.reg_province as 省, jd.reg_city as 市 from \n",
    "        project_authors as ja\n",
    "        join\n",
    "        project as jb\n",
    "        join \n",
    "        affiliations as jd\n",
    "        on ja.author_id = {stdSqlData(aid)}\n",
    "        and ja.project_id = jb.golaxy_project_id\n",
    "        and jb.affiliation_id = jd. affiliation_id\n",
    "        and not ja.is_deleted\n",
    "        and not ja.is_deleted\n",
    "        and jb.affiliation_id is not null\n",
    "    ) \n",
    ") as t\n",
    "order by 日期\n",
    ";\n",
    "'''"
   ]
  },
  {
   "cell_type": "code",
   "execution_count": null,
   "metadata": {
    "hidden": true
   },
   "outputs": [],
   "source": [
    "裴普成、潘牧、吴雪梅、刘佰军、衣宝廉、尹燕、陈涛（没头像）、孙公权、邵志刚（没头像、严六明、侯明、焦魁\n"
   ]
  },
  {
   "cell_type": "markdown",
   "metadata": {
    "ExecuteTime": {
     "end_time": "2021-12-06T05:51:15.273946Z",
     "start_time": "2021-12-06T05:51:15.269948Z"
    }
   },
   "source": [
    "## 处理"
   ]
  },
  {
   "cell_type": "code",
   "execution_count": 70,
   "metadata": {
    "ExecuteTime": {
     "end_time": "2021-12-06T08:14:24.319155Z",
     "start_time": "2021-12-06T08:14:24.308158Z"
    }
   },
   "outputs": [],
   "source": [
    "scholars = [\n",
    "    (name, aid),\n",
    "    ('潘牧', '1118536541319594041'),\n",
    "    ('吴雪梅', '1052707700911660379'),\n",
    "    ('刘佰军', '1115448923950284879'),\n",
    "    ('衣宝廉', '1052706761173639126'),\n",
    "    ('尹燕', '1052707412536477282'),\n",
    "    ('孙公权', '1118128719268282451'),\n",
    "    ('邵志刚', '1052706750402664075'),\n",
    "    ('严六明', '1052706777363656367'),\n",
    "    ('侯明', '1118270043749482566'),\n",
    "    ('焦魁', '1052707457499425838'),\n",
    "]"
   ]
  },
  {
   "cell_type": "code",
   "execution_count": null,
   "metadata": {},
   "outputs": [],
   "source": []
  },
  {
   "cell_type": "code",
   "execution_count": null,
   "metadata": {},
   "outputs": [],
   "source": []
  },
  {
   "cell_type": "code",
   "execution_count": 71,
   "metadata": {
    "ExecuteTime": {
     "end_time": "2021-12-06T08:16:09.854588Z",
     "start_time": "2021-12-06T08:16:06.792587Z"
    }
   },
   "outputs": [],
   "source": [
    "for x, y in scholars:\n",
    "    db(sqlChange(x, y)).to_excel(path + f'/{x}.xlsx', index=False)"
   ]
  },
  {
   "cell_type": "markdown",
   "metadata": {
    "ExecuteTime": {
     "end_time": "2021-12-06T05:51:15.273946Z",
     "start_time": "2021-12-06T05:51:15.269948Z"
    }
   },
   "source": [
    "## 采一下Aminer"
   ]
  },
  {
   "cell_type": "code",
   "execution_count": 7,
   "metadata": {
    "ExecuteTime": {
     "end_time": "2021-12-06T09:19:55.719508Z",
     "start_time": "2021-12-06T09:19:55.654483Z"
    }
   },
   "outputs": [],
   "source": [
    "from driverOps import getDriver"
   ]
  },
  {
   "cell_type": "code",
   "execution_count": 8,
   "metadata": {
    "ExecuteTime": {
     "end_time": "2021-12-06T09:19:59.231478Z",
     "start_time": "2021-12-06T09:19:56.372477Z"
    }
   },
   "outputs": [],
   "source": [
    "dv = getDriver(0)"
   ]
  },
  {
   "cell_type": "code",
   "execution_count": 9,
   "metadata": {
    "ExecuteTime": {
     "end_time": "2021-12-06T09:19:59.390479Z",
     "start_time": "2021-12-06T09:19:59.385481Z"
    }
   },
   "outputs": [],
   "source": [
    "historys = set()"
   ]
  },
  {
   "cell_type": "code",
   "execution_count": 10,
   "metadata": {
    "ExecuteTime": {
     "end_time": "2021-12-06T09:20:02.826622Z",
     "start_time": "2021-12-06T09:20:02.819621Z"
    }
   },
   "outputs": [],
   "source": [
    "pthHistory = '//*[@class=\"antd-pro-components-geo-touch_v2-trajectory-trajectory-trajHistoryContent\"]/p'"
   ]
  },
  {
   "cell_type": "code",
   "execution_count": 20,
   "metadata": {
    "ExecuteTime": {
     "end_time": "2021-12-06T09:08:26.471981Z",
     "start_time": "2021-12-06T09:08:26.404967Z"
    }
   },
   "outputs": [
    {
     "data": {
      "text/plain": [
       "'Zhonglin Wang（王中林）'"
      ]
     },
     "execution_count": 20,
     "metadata": {},
     "output_type": "execute_result"
    }
   ],
   "source": [
    "dv.find_elements_by_xpath('//*[@class=\"title\"]')[0].text"
   ]
  },
  {
   "cell_type": "code",
   "execution_count": 12,
   "metadata": {
    "ExecuteTime": {
     "end_time": "2021-12-06T09:20:55.006791Z",
     "start_time": "2021-12-06T09:20:11.982621Z"
    }
   },
   "outputs": [],
   "source": [
    "url = r'https://map.aminer.cn/geo/touch_v2/trajectory?domain=55e6573845ce9da5c99535a9'\n",
    "dv.get(url)"
   ]
  },
  {
   "cell_type": "code",
   "execution_count": 13,
   "metadata": {
    "ExecuteTime": {
     "end_time": "2021-12-06T09:21:24.055652Z",
     "start_time": "2021-12-06T09:21:24.051652Z"
    }
   },
   "outputs": [],
   "source": [
    "def infi ():\n",
    "    while 1: yield 1"
   ]
  },
  {
   "cell_type": "code",
   "execution_count": 15,
   "metadata": {
    "ExecuteTime": {
     "end_time": "2021-12-06T09:38:22.465458Z",
     "start_time": "2021-12-06T09:23:12.538429Z"
    }
   },
   "outputs": [
    {
     "data": {
      "application/vnd.jupyter.widget-view+json": {
       "model_id": "92552876230b4789a72ed94645bae98d",
       "version_major": 2,
       "version_minor": 0
      },
      "text/plain": [
       "HBox(children=(FloatProgress(value=1.0, bar_style='info', layout=Layout(flex='2'), max=1.0), HTML(value='')), …"
      ]
     },
     "metadata": {},
     "output_type": "display_data"
    },
    {
     "name": "stdout",
     "output_type": "stream",
     "text": [
      "\n"
     ]
    }
   ],
   "source": [
    "with tqdm(infi()) as ti:\n",
    "    for x in ti:\n",
    "        try:\n",
    "            sleep(0.3)\n",
    "            now = dv.current_url[:20]\n",
    "            frmt(now, tqdm=ti)\n",
    "            if 'aminer' not in dv.current_url: break\n",
    "            if '衣宝廉' in dv.find_elements_by_xpath('//*[@class=\"title\"]')[0].text:\n",
    "                historys |= {x.text for x in dv.find_elements_by_xpath(pthHistory)}\n",
    "                frmt(now, len(historys), tqdm=ti)\n",
    "        except KeyboardInterrupt as e: \n",
    "            frmt(repr(e), tqdm=ti)\n",
    "            raise e\n",
    "        except Exception as e:\n",
    "            frmt(repr(e), tqdm=ti)"
   ]
  },
  {
   "cell_type": "code",
   "execution_count": 17,
   "metadata": {
    "ExecuteTime": {
     "end_time": "2021-12-06T09:38:57.485245Z",
     "start_time": "2021-12-06T09:38:57.479240Z"
    }
   },
   "outputs": [
    {
     "name": "stdout",
     "output_type": "stream",
     "text": [
      "1999 - 2002: In 中国科学院, published 2publications with totally 39 citaitons.\n",
      "1999: Investigation of platinum utilization and morphology in catalyst layer of polymer electrolyte fuel cells. Cited by 146 times.\n",
      "1999: NF-κB Induces Expression of the Bcl-2 Homologue A1/Bfl-1 To Preferentially Suppress Chemotherapy-Induced Apoptosis. Cited by 455 times.\n",
      "2000: Nf-Kappa B-Induced Loss Of Myod Messenger Rna: Possible Role In Muscle Decay And Cachexia. Cited by 623 times.\n",
      "2001: Performances of proton exchange membrane fuel cells with alternate membranes. Cited by 27 times.\n",
      "2001: WNT-1 Signaling Inhibits Apoptosis by Activating β-Catenin/T Cell Factor–Mediated Transcription. Cited by 352 times.\n",
      "2002 - 2003: In 中科院化学物理, published 4publications with totally 3 citaitons.\n",
      "2002: Influence of electrode structure on the performance of a direct methanol fuel cell. Cited by 178 times.\n",
      "2003 - 2004: In 中国科学院, published 3publications with totally 52 citaitons.\n",
      "2003: Degradation mechanism of polystyrene sulfonic acid membrane and application of its composite membranes in fuel cells. Cited by 174 times.\n",
      "2004 - 2005: In 中国科学院大连燃料电池有限公司, published 8publications with totally 37 citaitons.\n",
      "2004: Nafion/PTFE composite membranes for fuel cell applications. Cited by 277 times.\n",
      "2005 - 2007: In 中国科学院, published 66publications with totally 22 citaitons.\n",
      "2005: Absorption, Desorption, and Transport of Water in Polymer Electrolyte Membranes for Fuel Cells. Cited by 237 times.\n",
      "2006: Preparation and characterization of sulfated zirconia (SO4 2-/ZrO2)/Nafion composite membranes for PEMFC operation at high temperature/low humidity. Cited by 153 times.\n",
      "2007 - 2008: In 大连化学物理研究所, published 37publications with totally 0 citaitons.\n",
      "2007: Hydrogen generation utilizing alkaline sodium borohydride solution and supported cobalt catalyst. Cited by 155 times.\n",
      "2008 - 2009: In chineseacademy科学, published 29publications with totally 0 citaitons.\n",
      "2008: Electrochemical investigation of electrocatalysts for the oxygen evolution reaction in PEM water electrolyzers. Cited by 117 times.\n",
      "2009 - 2015: In 中国科学院, published 126publications with totally 10 citaitons.\n",
      "2009: Study on the processes of start-up and shutdown in proton exchange membrane fuel cells. Cited by 72 times.\n",
      "2010: Durability study of Pt–Pd/C as PEMFC cathode catalyst. Cited by 94 times.\n",
      "2011: Investigation on sulfuric acid sulfonation of in-situ sol�gel derived Nafion/SiO 2 composite membran. Cited by 70 times.\n",
      "2012: Lithium oxides precipitation in nonaqueous Li-air batteries.. Cited by 46 times.\n",
      "2013: Supported noble metals on hydrogen-treated TiO2 nanotube arrays as highly ordered electrodes for fuel cells.. Cited by 60 times.\n",
      "2014: Crosslinked poly(vinylbenzyl chloride) with a macromolecular crosslinker for anion exchange membrane fuel cells. Cited by 50 times.\n",
      "2015 - 2016: In 大连化学物理研究所, published 4publications with totally 10 citaitons.\n",
      "2015: IRAK1 is a therapeutic target that drives breast cancer metastasis and resistance to paclitaxel.. Cited by 31 times.\n"
     ]
    }
   ],
   "source": [
    "for x in sorted(historys): print(x)"
   ]
  },
  {
   "cell_type": "code",
   "execution_count": 18,
   "metadata": {
    "ExecuteTime": {
     "end_time": "2021-12-06T09:47:55.080319Z",
     "start_time": "2021-12-06T09:47:50.561912Z"
    }
   },
   "outputs": [
    {
     "ename": "WebDriverException",
     "evalue": "Message: chrome not reachable\n  (Session info: chrome=96.0.4664.45)\n",
     "output_type": "error",
     "traceback": [
      "\u001b[1;31m------------------------------------------------------------\u001b[0m",
      "\u001b[1;31mWebDriverException\u001b[0m         Traceback (most recent call last)",
      "\u001b[1;32m<ipython-input-18-2c636eb560e6>\u001b[0m in \u001b[0;36m<module>\u001b[1;34m\u001b[0m\n\u001b[1;32m----> 1\u001b[1;33m \u001b[0mdv\u001b[0m\u001b[1;33m.\u001b[0m\u001b[0mclose\u001b[0m\u001b[1;33m(\u001b[0m\u001b[1;33m)\u001b[0m\u001b[1;33m\u001b[0m\u001b[1;33m\u001b[0m\u001b[0m\n\u001b[0m",
      "\u001b[1;32m~\\LymphV\\software\\python\\anaconda\\lib\\site-packages\\selenium\\webdriver\\remote\\webdriver.py\u001b[0m in \u001b[0;36mclose\u001b[1;34m(self)\u001b[0m\n\u001b[0;32m    686\u001b[0m             \u001b[0mdriver\u001b[0m\u001b[1;33m.\u001b[0m\u001b[0mclose\u001b[0m\u001b[1;33m(\u001b[0m\u001b[1;33m)\u001b[0m\u001b[1;33m\u001b[0m\u001b[1;33m\u001b[0m\u001b[0m\n\u001b[0;32m    687\u001b[0m         \"\"\"\n\u001b[1;32m--> 688\u001b[1;33m         \u001b[0mself\u001b[0m\u001b[1;33m.\u001b[0m\u001b[0mexecute\u001b[0m\u001b[1;33m(\u001b[0m\u001b[0mCommand\u001b[0m\u001b[1;33m.\u001b[0m\u001b[0mCLOSE\u001b[0m\u001b[1;33m)\u001b[0m\u001b[1;33m\u001b[0m\u001b[1;33m\u001b[0m\u001b[0m\n\u001b[0m\u001b[0;32m    689\u001b[0m \u001b[1;33m\u001b[0m\u001b[0m\n\u001b[0;32m    690\u001b[0m     \u001b[1;32mdef\u001b[0m \u001b[0mquit\u001b[0m\u001b[1;33m(\u001b[0m\u001b[0mself\u001b[0m\u001b[1;33m)\u001b[0m\u001b[1;33m:\u001b[0m\u001b[1;33m\u001b[0m\u001b[1;33m\u001b[0m\u001b[0m\n",
      "\u001b[1;32m~\\LymphV\\software\\python\\anaconda\\lib\\site-packages\\selenium\\webdriver\\remote\\webdriver.py\u001b[0m in \u001b[0;36mexecute\u001b[1;34m(self, driver_command, params)\u001b[0m\n\u001b[0;32m    319\u001b[0m         \u001b[0mresponse\u001b[0m \u001b[1;33m=\u001b[0m \u001b[0mself\u001b[0m\u001b[1;33m.\u001b[0m\u001b[0mcommand_executor\u001b[0m\u001b[1;33m.\u001b[0m\u001b[0mexecute\u001b[0m\u001b[1;33m(\u001b[0m\u001b[0mdriver_command\u001b[0m\u001b[1;33m,\u001b[0m \u001b[0mparams\u001b[0m\u001b[1;33m)\u001b[0m\u001b[1;33m\u001b[0m\u001b[1;33m\u001b[0m\u001b[0m\n\u001b[0;32m    320\u001b[0m         \u001b[1;32mif\u001b[0m \u001b[0mresponse\u001b[0m\u001b[1;33m:\u001b[0m\u001b[1;33m\u001b[0m\u001b[1;33m\u001b[0m\u001b[0m\n\u001b[1;32m--> 321\u001b[1;33m             \u001b[0mself\u001b[0m\u001b[1;33m.\u001b[0m\u001b[0merror_handler\u001b[0m\u001b[1;33m.\u001b[0m\u001b[0mcheck_response\u001b[0m\u001b[1;33m(\u001b[0m\u001b[0mresponse\u001b[0m\u001b[1;33m)\u001b[0m\u001b[1;33m\u001b[0m\u001b[1;33m\u001b[0m\u001b[0m\n\u001b[0m\u001b[0;32m    322\u001b[0m             response['value'] = self._unwrap_value(\n\u001b[0;32m    323\u001b[0m                 response.get('value', None))\n",
      "\u001b[1;32m~\\LymphV\\software\\python\\anaconda\\lib\\site-packages\\selenium\\webdriver\\remote\\errorhandler.py\u001b[0m in \u001b[0;36mcheck_response\u001b[1;34m(self, response)\u001b[0m\n\u001b[0;32m    240\u001b[0m                 \u001b[0malert_text\u001b[0m \u001b[1;33m=\u001b[0m \u001b[0mvalue\u001b[0m\u001b[1;33m[\u001b[0m\u001b[1;34m'alert'\u001b[0m\u001b[1;33m]\u001b[0m\u001b[1;33m.\u001b[0m\u001b[0mget\u001b[0m\u001b[1;33m(\u001b[0m\u001b[1;34m'text'\u001b[0m\u001b[1;33m)\u001b[0m\u001b[1;33m\u001b[0m\u001b[1;33m\u001b[0m\u001b[0m\n\u001b[0;32m    241\u001b[0m             \u001b[1;32mraise\u001b[0m \u001b[0mexception_class\u001b[0m\u001b[1;33m(\u001b[0m\u001b[0mmessage\u001b[0m\u001b[1;33m,\u001b[0m \u001b[0mscreen\u001b[0m\u001b[1;33m,\u001b[0m \u001b[0mstacktrace\u001b[0m\u001b[1;33m,\u001b[0m \u001b[0malert_text\u001b[0m\u001b[1;33m)\u001b[0m\u001b[1;33m\u001b[0m\u001b[1;33m\u001b[0m\u001b[0m\n\u001b[1;32m--> 242\u001b[1;33m         \u001b[1;32mraise\u001b[0m \u001b[0mexception_class\u001b[0m\u001b[1;33m(\u001b[0m\u001b[0mmessage\u001b[0m\u001b[1;33m,\u001b[0m \u001b[0mscreen\u001b[0m\u001b[1;33m,\u001b[0m \u001b[0mstacktrace\u001b[0m\u001b[1;33m)\u001b[0m\u001b[1;33m\u001b[0m\u001b[1;33m\u001b[0m\u001b[0m\n\u001b[0m\u001b[0;32m    243\u001b[0m \u001b[1;33m\u001b[0m\u001b[0m\n\u001b[0;32m    244\u001b[0m     \u001b[1;32mdef\u001b[0m \u001b[0m_value_or_default\u001b[0m\u001b[1;33m(\u001b[0m\u001b[0mself\u001b[0m\u001b[1;33m,\u001b[0m \u001b[0mobj\u001b[0m\u001b[1;33m,\u001b[0m \u001b[0mkey\u001b[0m\u001b[1;33m,\u001b[0m \u001b[0mdefault\u001b[0m\u001b[1;33m)\u001b[0m\u001b[1;33m:\u001b[0m\u001b[1;33m\u001b[0m\u001b[1;33m\u001b[0m\u001b[0m\n",
      "\u001b[1;31mWebDriverException\u001b[0m: Message: chrome not reachable\n  (Session info: chrome=96.0.4664.45)\n"
     ]
    }
   ],
   "source": [
    "dv.close()"
   ]
  },
  {
   "cell_type": "markdown",
   "metadata": {},
   "source": [
    "# 关闭"
   ]
  },
  {
   "cell_type": "code",
   "execution_count": 133,
   "metadata": {
    "ExecuteTime": {
     "end_time": "2021-12-06T02:22:34.885549Z",
     "start_time": "2021-12-06T02:22:34.268368Z"
    }
   },
   "outputs": [],
   "source": [
    "es.close()"
   ]
  },
  {
   "cell_type": "code",
   "execution_count": 45,
   "metadata": {
    "ExecuteTime": {
     "end_time": "2021-12-06T03:45:27.435105Z",
     "start_time": "2021-12-06T03:45:27.427074Z"
    }
   },
   "outputs": [],
   "source": [
    "db.close()"
   ]
  },
  {
   "cell_type": "code",
   "execution_count": null,
   "metadata": {},
   "outputs": [],
   "source": []
  }
 ],
 "metadata": {
  "kernelspec": {
   "display_name": "Python 3",
   "language": "python",
   "name": "python3"
  },
  "language_info": {
   "codemirror_mode": {
    "name": "ipython",
    "version": 3
   },
   "file_extension": ".py",
   "mimetype": "text/x-python",
   "name": "python",
   "nbconvert_exporter": "python",
   "pygments_lexer": "ipython3",
   "version": "3.8.3"
  },
  "latex_envs": {
   "LaTeX_envs_menu_present": true,
   "autoclose": false,
   "autocomplete": true,
   "bibliofile": "biblio.bib",
   "cite_by": "apalike",
   "current_citInitial": 1,
   "eqLabelWithNumbers": true,
   "eqNumInitial": 1,
   "hotkeys": {
    "equation": "Ctrl-E",
    "itemize": "Ctrl-I"
   },
   "labels_anchors": false,
   "latex_user_defs": false,
   "report_style_numbering": false,
   "user_envs_cfg": false
  },
  "toc": {
   "base_numbering": 1,
   "nav_menu": {},
   "number_sections": false,
   "sideBar": true,
   "skip_h1_title": false,
   "title_cell": "Table of Contents",
   "title_sidebar": "Contents",
   "toc_cell": false,
   "toc_position": {},
   "toc_section_display": true,
   "toc_window_display": true
  },
  "varInspector": {
   "cols": {
    "lenName": 16,
    "lenType": 16,
    "lenVar": 40
   },
   "kernels_config": {
    "python": {
     "delete_cmd_postfix": "",
     "delete_cmd_prefix": "del ",
     "library": "var_list.py",
     "varRefreshCmd": "print(var_dic_list())"
    },
    "r": {
     "delete_cmd_postfix": ") ",
     "delete_cmd_prefix": "rm(",
     "library": "var_list.r",
     "varRefreshCmd": "cat(var_dic_list()) "
    }
   },
   "position": {
    "height": "684.844px",
    "left": "1531px",
    "right": "20px",
    "top": "51px",
    "width": "439px"
   },
   "types_to_exclude": [
    "module",
    "function",
    "builtin_function_or_method",
    "instance",
    "_Feature"
   ],
   "window_display": true
  }
 },
 "nbformat": 4,
 "nbformat_minor": 4
}
