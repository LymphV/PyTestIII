{
 "cells": [
  {
   "cell_type": "markdown",
   "metadata": {},
   "source": [
    "### 库"
   ]
  },
  {
   "cell_type": "code",
   "execution_count": 1,
   "metadata": {
    "ExecuteTime": {
     "end_time": "2021-07-30T11:34:54.587706Z",
     "start_time": "2021-07-30T11:34:54.583704Z"
    },
    "cell_style": "split"
   },
   "outputs": [],
   "source": [
    "import json, re\n",
    "from time import time, sleep\n",
    "from datetime import datetime"
   ]
  },
  {
   "cell_type": "code",
   "execution_count": 2,
   "metadata": {
    "ExecuteTime": {
     "end_time": "2021-07-30T11:34:55.762704Z",
     "start_time": "2021-07-30T11:34:55.188706Z"
    },
    "cell_style": "split"
   },
   "outputs": [],
   "source": [
    "import pandas as pd\n",
    "import numpy as np\n",
    "import os, sys"
   ]
  },
  {
   "cell_type": "code",
   "execution_count": 3,
   "metadata": {
    "ExecuteTime": {
     "end_time": "2021-07-30T11:34:55.847709Z",
     "start_time": "2021-07-30T11:34:55.779708Z"
    }
   },
   "outputs": [],
   "source": [
    "#from tqdm.notebook import tqdm, trange, tnrange\n",
    "from vUtil.vTqdm import tqdm, trange\n",
    "from vVariableInspector import _getshapeof\n",
    "from vUtil.vFile import fprint, readlines, linesReader\n",
    "from vUtil.vEmail import sendEmail\n",
    "from vUtil.vTime import getNow, convertSeconds, getToday\n",
    "from vUtil.vUe import rmUe\n",
    "from vUtil.debug import debug"
   ]
  },
  {
   "cell_type": "code",
   "execution_count": 4,
   "metadata": {
    "ExecuteTime": {
     "end_time": "2021-07-30T11:34:56.492812Z",
     "start_time": "2021-07-30T11:34:56.341797Z"
    }
   },
   "outputs": [],
   "source": [
    "from vMysql import MysqlProxy\n",
    "from youdaoSynonym import YoudaoSynonym"
   ]
  },
  {
   "cell_type": "code",
   "execution_count": 5,
   "metadata": {
    "ExecuteTime": {
     "end_time": "2021-07-30T11:34:57.034940Z",
     "start_time": "2021-07-30T11:34:56.820940Z"
    }
   },
   "outputs": [],
   "source": [
    "from vToEnglish.detect import hasChinese, countChinese\n",
    "# from vToEnglish.translate import translate\n",
    "from vToEnglish.toEnglish import wait, toEnglish"
   ]
  },
  {
   "cell_type": "code",
   "execution_count": 6,
   "metadata": {
    "ExecuteTime": {
     "end_time": "2021-07-30T11:34:57.368965Z",
     "start_time": "2021-07-30T11:34:57.253941Z"
    }
   },
   "outputs": [],
   "source": [
    "from simpleAndTranditional import trd2smp\n",
    "from keywords.selected import kwSelected as words"
   ]
  },
  {
   "cell_type": "code",
   "execution_count": 7,
   "metadata": {
    "ExecuteTime": {
     "end_time": "2021-07-30T11:34:57.969040Z",
     "start_time": "2021-07-30T11:34:57.957043Z"
    }
   },
   "outputs": [],
   "source": [
    "from vUtil.vLog import frmt, print, _print"
   ]
  },
  {
   "cell_type": "markdown",
   "metadata": {},
   "source": [
    "### utils"
   ]
  },
  {
   "cell_type": "code",
   "execution_count": 8,
   "metadata": {
    "ExecuteTime": {
     "end_time": "2021-07-30T11:34:59.250226Z",
     "start_time": "2021-07-30T11:34:59.244224Z"
    }
   },
   "outputs": [],
   "source": [
    "def ourError (error, errorType = 'invalid keyword'):\n",
    "    fprint(f'[ERROR] ({getNow()}) {repr(word)} : {errorType}: \"{error}\"\\n', file=f'error{getToday()}.txt', path='error')"
   ]
  },
  {
   "cell_type": "code",
   "execution_count": 9,
   "metadata": {
    "ExecuteTime": {
     "end_time": "2021-07-30T11:34:59.721290Z",
     "start_time": "2021-07-30T11:34:59.717292Z"
    }
   },
   "outputs": [],
   "source": [
    "def ourLog (log, logType = ''):\n",
    "    fprint(f'[LOG] ({getNow()}) {repr(word)} : {logType} : \"{log}\"\\n', file=f'log{getToday()}.txt', path='log')"
   ]
  },
  {
   "cell_type": "code",
   "execution_count": 9,
   "metadata": {
    "ExecuteTime": {
     "end_time": "2021-05-21T06:00:04.894345Z",
     "start_time": "2021-05-21T06:00:04.888343Z"
    },
    "code_folding": [],
    "deletable": false,
    "editable": false,
    "run_control": {
     "frozen": true
    }
   },
   "outputs": [],
   "source": [
    "def frmt (*args):\n",
    "    global iRetry\n",
    "    if iRetry: print()\n",
    "    print (f'({getNow()})', *args, ' ' * 20, end='\\r')\n",
    "    iRetry = 0"
   ]
  },
  {
   "cell_type": "code",
   "execution_count": 10,
   "metadata": {
    "ExecuteTime": {
     "end_time": "2021-07-30T11:35:00.448414Z",
     "start_time": "2021-07-30T11:35:00.439413Z"
    }
   },
   "outputs": [],
   "source": [
    "def cleanKeywords (s):\n",
    "    s = rmUe(s)\n",
    "    s = re.sub(r'。，、', ' ', s)\n",
    "    s = re.sub(r'\\s+', ' ', s)\n",
    "    return s.strip()"
   ]
  },
  {
   "cell_type": "markdown",
   "metadata": {},
   "source": [
    "### 获取同义词表"
   ]
  },
  {
   "cell_type": "code",
   "execution_count": 11,
   "metadata": {
    "ExecuteTime": {
     "end_time": "2021-07-30T11:35:01.722547Z",
     "start_time": "2021-07-30T11:35:01.716545Z"
    }
   },
   "outputs": [],
   "source": [
    "sInsert = '''\n",
    "replace into `keywords`.`synonym` (`idChinese`, `idEnglish`)\n",
    "values %s;\n",
    "'''"
   ]
  },
  {
   "cell_type": "code",
   "execution_count": 12,
   "metadata": {
    "ExecuteTime": {
     "end_time": "2021-07-30T11:35:02.277651Z",
     "start_time": "2021-07-30T11:35:02.269637Z"
    }
   },
   "outputs": [],
   "source": [
    "def insertSyns (ids):\n",
    "    sIns = sInsert % ','.join([str(x) for x in ids])\n",
    "    db.sql(sIns, True)"
   ]
  },
  {
   "cell_type": "code",
   "execution_count": 13,
   "metadata": {
    "ExecuteTime": {
     "end_time": "2021-07-30T11:35:02.524671Z",
     "start_time": "2021-07-30T11:35:02.518670Z"
    },
    "code_folding": []
   },
   "outputs": [],
   "source": [
    "def insertWord (word):\n",
    "    db.sql(f'''\n",
    "        insert into `keywords`.`keywords` (`id`, `keywords`)\n",
    "        values\n",
    "        (landinn.gen_ticket64(1),\n",
    "        {repr(word)});\n",
    "        ''', True)"
   ]
  },
  {
   "cell_type": "code",
   "execution_count": 14,
   "metadata": {
    "ExecuteTime": {
     "end_time": "2021-07-30T11:35:02.748673Z",
     "start_time": "2021-07-30T11:35:02.742669Z"
    },
    "code_folding": []
   },
   "outputs": [],
   "source": [
    "def hasWord (word) -> bool:\n",
    "#     sql('flush tables;')\n",
    "    rst = db.sql(f'''\n",
    "        select idEnglish from\n",
    "        (\n",
    "            select id from keywords.keywords where keywords = {repr(word)}\n",
    "        ) as a\n",
    "        join keywords.synonym as b on a.id = b.idChinese;\n",
    "    ''', True)\n",
    "    return len(rst) != 0"
   ]
  },
  {
   "cell_type": "code",
   "execution_count": 15,
   "metadata": {
    "ExecuteTime": {
     "end_time": "2021-07-30T11:35:03.721821Z",
     "start_time": "2021-07-30T11:35:03.699819Z"
    },
    "code_folding": []
   },
   "outputs": [],
   "source": [
    "def getWordId (word) -> int:\n",
    "#     sql('flush tables;')\n",
    "    rst = db.select('id','`keywords`.`keywords`',where=f'`keywords`={repr(word)}')\n",
    "    if not len(rst):\n",
    "        insertWord(word)\n",
    "#         sql('flush tables;')\n",
    "        rst = db.select('id','`keywords`.`keywords`',where=f'`keywords`={repr(word)}')\n",
    "    return rst.values.item()"
   ]
  },
  {
   "cell_type": "code",
   "execution_count": 16,
   "metadata": {
    "ExecuteTime": {
     "end_time": "2021-07-30T11:35:03.959893Z",
     "start_time": "2021-07-30T11:35:03.955891Z"
    }
   },
   "outputs": [],
   "source": [
    "def insertSyn (ch, en):\n",
    "    ids = [(getWordId (ch), getWordId(en))]\n",
    "    insertSyns(ids)\n",
    "    return ids"
   ]
  },
  {
   "cell_type": "code",
   "execution_count": 21,
   "metadata": {
    "ExecuteTime": {
     "end_time": "2021-07-30T11:35:20.590213Z",
     "start_time": "2021-07-30T11:35:17.152507Z"
    }
   },
   "outputs": [
    {
     "data": {
      "text/plain": [
       "[(1032952127932334084, 1129305859648978945)]"
      ]
     },
     "execution_count": 21,
     "metadata": {},
     "output_type": "execute_result"
    }
   ],
   "source": [
    "insertSyn('大数据','大数数据')"
   ]
  },
  {
   "cell_type": "code",
   "execution_count": 24,
   "metadata": {
    "ExecuteTime": {
     "end_time": "2021-07-29T09:04:10.310099Z",
     "start_time": "2021-07-29T09:03:39.033009Z"
    }
   },
   "outputs": [
    {
     "data": {
      "text/plain": [
       "[(1128905306662043649, 1128905427499941889)]"
      ]
     },
     "execution_count": 24,
     "metadata": {},
     "output_type": "execute_result"
    }
   ],
   "source": [
    "insertSyn('曲志','我爱你')"
   ]
  },
  {
   "cell_type": "code",
   "execution_count": 2,
   "metadata": {
    "ExecuteTime": {
     "end_time": "2021-08-25T10:43:27.215627Z",
     "start_time": "2021-08-25T10:43:27.204626Z"
    }
   },
   "outputs": [],
   "source": [
    "import pymysql"
   ]
  },
  {
   "cell_type": "code",
   "execution_count": 3,
   "metadata": {
    "ExecuteTime": {
     "end_time": "2021-08-25T10:43:35.791632Z",
     "start_time": "2021-08-25T10:43:35.517633Z"
    }
   },
   "outputs": [
    {
     "data": {
      "text/plain": [
       "'0.10.1'"
      ]
     },
     "execution_count": 3,
     "metadata": {},
     "output_type": "execute_result"
    }
   ],
   "source": [
    "pymysql.__version__"
   ]
  },
  {
   "cell_type": "code",
   "execution_count": 16,
   "metadata": {
    "ExecuteTime": {
     "end_time": "2021-07-18T12:20:01.097807Z",
     "start_time": "2021-07-18T12:20:01.069803Z"
    },
    "code_folding": []
   },
   "outputs": [],
   "source": [
    "lastTrans = 0\n",
    "transGap = 15 ###两次调用有道翻译的间隔\n",
    "iRetry = 0\n",
    "def getSyns (word, en=None, mode = ''):\n",
    "    global lastTrans\n",
    "    global iRetry\n",
    "    \n",
    "    wid = getWordId(word)\n",
    "    if not hasChinese(word): return []\n",
    "    while time() < lastTrans + transGap: sleep(0.25)\n",
    "    \n",
    "    while 1:\n",
    "#         iRetry = 0\n",
    "        try: syns = yd.getSynonyms(word, mode)\n",
    "        except KeyboardInterrupt as e: raise e\n",
    "        except:\n",
    "#             if not iRetry: print()\n",
    "            wait(60, f'({repr(word)})network error, waiting')\n",
    "            iRetry += 1\n",
    "            frmt(f'({repr(word)})network error, retrying{iRetry}   ', end='\\r')\n",
    "            yd.close()\n",
    "            yd.start()\n",
    "        else: \n",
    "            if iRetry: \n",
    "                print()\n",
    "                ourError(f'retrying{iRetry}', 'network error')\n",
    "                iRetry = 0\n",
    "            break\n",
    "    lastTrans = time()\n",
    "    for syn in syns:\n",
    "        if hasChinese(syn):\n",
    "            ourError(syns, f'{repr(word)} syn with chinese')\n",
    "        if '.' in syn:\n",
    "            ourError(syns, f'{repr(word)} syn with .')\n",
    "        if '（' in syn or '）' in syn:\n",
    "            ourError(syns, f'{repr(word)} syn with （ or ）')\n",
    "    if len(syns) == 0: return []\n",
    "    if len(syns) == 1: ###繁体先转简体，然后再走一遍同义词\n",
    "        syn = [*syns][0]\n",
    "        if syn == word:\n",
    "            ourError(syns, f'{repr(word)} same as syns')\n",
    "            if mode == 'ch2en': return []\n",
    "            else: return getSyns(word, en, 'ch2en')\n",
    "        if hasChinese(syn):\n",
    "            rst = getSyns(syn, en)\n",
    "            if not hasWord(syn) and syn.count(' ') < 5:\n",
    "                return rst + [(wid, y) for x, y in rst]\n",
    "            else:\n",
    "                return [(wid, y) for x, y in rst]\n",
    "    \n",
    "    syns = syns | (set() if en is None else {en})\n",
    "    syns = yd._YoudaoSynonym__filter(syns)\n",
    "    return [(wid, getWordId(syn)) for syn in syns]"
   ]
  },
  {
   "cell_type": "code",
   "execution_count": 17,
   "metadata": {
    "ExecuteTime": {
     "end_time": "2021-07-18T12:20:01.637683Z",
     "start_time": "2021-07-18T12:20:01.630683Z"
    }
   },
   "outputs": [],
   "source": [
    "blacklist = {'na觙vecd4', '18 氟代脱氧葡萄糖正电子发射型断层扫描/计算机断层扫描', '白疕病', \n",
    "             '性学觕述',  '目\\uf8db\\uf8f5', '心中\\uf8e8\\uf8f5\\uf8e8\\uf8f5大动',}\n",
    "def banWord (s : str) -> bool:\n",
    "    if '?' in s or '？' in s: return 1 \n",
    "    return s in blacklist"
   ]
  },
  {
   "cell_type": "code",
   "execution_count": 18,
   "metadata": {
    "ExecuteTime": {
     "end_time": "2021-07-18T12:20:02.117682Z",
     "start_time": "2021-07-18T12:20:02.109684Z"
    }
   },
   "outputs": [],
   "source": [
    "def solve (word, en=None, tq=None):\n",
    "    word = cleanKeywords(word)\n",
    "    #if hasWord(word): return\n",
    "    if banWord(word): return\n",
    "    \n",
    "    frmt('get and insert syns', tqdm=tq, end='\\r')\n",
    "    start = time()\n",
    "\n",
    "    frmt(f'get and insert syns : {repr(word)}', tqdm=tq, end='\\r')\n",
    "        \n",
    "    ids = getSyns(word, en)\n",
    "    if len(ids) == 0: return\n",
    "    insertSyns(ids)\n",
    "    ourLog(f'{time() - start:.3f}s', 'syn time')"
   ]
  },
  {
   "cell_type": "markdown",
   "metadata": {},
   "source": [
    "### 获取词表"
   ]
  },
  {
   "cell_type": "code",
   "execution_count": 19,
   "metadata": {
    "ExecuteTime": {
     "end_time": "2021-07-30T11:35:14.570843Z",
     "start_time": "2021-07-30T11:35:14.564843Z"
    }
   },
   "outputs": [],
   "source": [
    "schema = 'field_term'"
   ]
  },
  {
   "cell_type": "code",
   "execution_count": 20,
   "metadata": {
    "ExecuteTime": {
     "end_time": "2021-07-30T11:35:14.777857Z",
     "start_time": "2021-07-30T11:35:14.752844Z"
    }
   },
   "outputs": [],
   "source": [
    "db = MysqlProxy(ip='10.208.63.47',user='root',password='linlei',db=schema)"
   ]
  },
  {
   "cell_type": "code",
   "execution_count": 14,
   "metadata": {
    "ExecuteTime": {
     "end_time": "2021-07-29T09:02:11.321771Z",
     "start_time": "2021-07-29T09:02:11.296769Z"
    }
   },
   "outputs": [
    {
     "data": {
      "text/html": [
       "<div>\n",
       "<style scoped>\n",
       "    .dataframe tbody tr th:only-of-type {\n",
       "        vertical-align: middle;\n",
       "    }\n",
       "\n",
       "    .dataframe tbody tr th {\n",
       "        vertical-align: top;\n",
       "    }\n",
       "\n",
       "    .dataframe thead th {\n",
       "        text-align: right;\n",
       "    }\n",
       "</style>\n",
       "<table border=\"1\" class=\"dataframe\">\n",
       "  <thead>\n",
       "    <tr style=\"text-align: right;\">\n",
       "      <th></th>\n",
       "      <th>Tables_in_field_term</th>\n",
       "    </tr>\n",
       "  </thead>\n",
       "  <tbody>\n",
       "    <tr>\n",
       "      <th>0</th>\n",
       "      <td>field</td>\n",
       "    </tr>\n",
       "    <tr>\n",
       "      <th>1</th>\n",
       "      <td>term</td>\n",
       "    </tr>\n",
       "  </tbody>\n",
       "</table>\n",
       "</div>"
      ],
      "text/plain": [
       "  Tables_in_field_term\n",
       "0                field\n",
       "1                 term"
      ]
     },
     "execution_count": 14,
     "metadata": {},
     "output_type": "execute_result"
    }
   ],
   "source": [
    "db.sql('show tables;')"
   ]
  },
  {
   "cell_type": "code",
   "execution_count": 22,
   "metadata": {
    "ExecuteTime": {
     "end_time": "2021-07-18T12:20:04.253023Z",
     "start_time": "2021-07-18T12:20:04.238014Z"
    }
   },
   "outputs": [],
   "source": [
    "fields = db.select('name', 'field_term.field')['name']"
   ]
  },
  {
   "cell_type": "code",
   "execution_count": 23,
   "metadata": {
    "ExecuteTime": {
     "end_time": "2021-07-18T12:20:04.452013Z",
     "start_time": "2021-07-18T12:20:04.446013Z"
    }
   },
   "outputs": [],
   "source": [
    "def getTerms (start, size):\n",
    "    return db.select('name_cn, name_en', 'field_term.term', start, start + size).values"
   ]
  },
  {
   "cell_type": "code",
   "execution_count": 24,
   "metadata": {
    "ExecuteTime": {
     "end_time": "2021-07-18T12:20:10.637087Z",
     "start_time": "2021-07-18T12:20:04.647042Z"
    }
   },
   "outputs": [],
   "source": [
    "yd = YoudaoSynonym()"
   ]
  },
  {
   "cell_type": "code",
   "execution_count": 12,
   "metadata": {
    "ExecuteTime": {
     "end_time": "2020-12-16T06:17:03.385679Z",
     "start_time": "2020-12-16T06:17:03.376677Z"
    }
   },
   "outputs": [],
   "source": [
    "# sql('flush tables;')"
   ]
  },
  {
   "cell_type": "markdown",
   "metadata": {},
   "source": [
    "### 测试youdao"
   ]
  },
  {
   "cell_type": "code",
   "execution_count": 52,
   "metadata": {
    "ExecuteTime": {
     "end_time": "2021-07-07T02:42:53.349719Z",
     "start_time": "2021-07-07T02:42:45.105350Z"
    },
    "deletable": false,
    "editable": false,
    "run_control": {
     "frozen": true
    }
   },
   "outputs": [],
   "source": [
    "yd.close()\n",
    "yd.start()"
   ]
  },
  {
   "cell_type": "code",
   "execution_count": 39,
   "metadata": {
    "ExecuteTime": {
     "end_time": "2021-06-14T06:08:47.247591Z",
     "start_time": "2021-06-14T06:08:44.600392Z"
    }
   },
   "outputs": [
    {
     "data": {
      "text/plain": [
       "{'kagome memin crystalline lattice', 'kagome 啨 lattice'}"
      ]
     },
     "execution_count": 39,
     "metadata": {},
     "output_type": "execute_result"
    }
   ],
   "source": [
    "yd.getSynonyms('kagomé啨晶格')"
   ]
  },
  {
   "cell_type": "code",
   "execution_count": 25,
   "metadata": {
    "ExecuteTime": {
     "end_time": "2021-07-18T12:20:20.036144Z",
     "start_time": "2021-07-18T12:20:15.886575Z"
    }
   },
   "outputs": [
    {
     "data": {
      "text/plain": [
       "{'original equation model', 'primitive equation model'}"
      ]
     },
     "execution_count": 25,
     "metadata": {},
     "output_type": "execute_result"
    }
   ],
   "source": [
    "yd.getSynonyms('原始方程模式')"
   ]
  },
  {
   "cell_type": "code",
   "execution_count": 25,
   "metadata": {
    "ExecuteTime": {
     "end_time": "2021-06-14T06:12:27.326105Z",
     "start_time": "2021-06-14T06:12:25.207277Z"
    }
   },
   "outputs": [
    {
     "data": {
      "text/plain": [
       "{'cl data', 'cutter location data', 'tool position data'}"
      ]
     },
     "execution_count": 25,
     "metadata": {},
     "output_type": "execute_result"
    }
   ],
   "source": [
    "yd.getSynonyms('刀位数据')"
   ]
  },
  {
   "cell_type": "code",
   "execution_count": 30,
   "metadata": {
    "ExecuteTime": {
     "end_time": "2021-05-20T07:06:33.122010Z",
     "start_time": "2021-05-20T07:06:30.457870Z"
    }
   },
   "outputs": [
    {
     "data": {
      "text/plain": [
       "{'2 - bisphosphonate methyl nitrate - 5 - nitro tetrazolium 4 - amino - 1 2 4 - triazole salt',\n",
       " '2 bisphosphonate methyl nitrate 5 nitro tetrazolium 4 amino 1 2 4 triazole salt',\n",
       " '2 diazole 5 nitrotetrazole 4 amino 1 2 4 triazole salt',\n",
       " '2- diazole-5-nitrotetrazole-4-amino-1 2 4-triazole salt'}"
      ]
     },
     "execution_count": 30,
     "metadata": {},
     "output_type": "execute_result"
    }
   ],
   "source": [
    "yd.getSynonyms('2-偕二硝甲基-5-硝基四唑4-氨基-1 2 4-三唑盐')"
   ]
  },
  {
   "cell_type": "code",
   "execution_count": 32,
   "metadata": {
    "ExecuteTime": {
     "end_time": "2021-05-20T07:06:50.731807Z",
     "start_time": "2021-05-20T07:06:47.479666Z"
    }
   },
   "outputs": [
    {
     "data": {
      "text/plain": [
       "{'gas insulated metal closed transmission line',\n",
       " 'gas insulated metal enclosed transmission lines',\n",
       " 'gas insulated metal-enclosed transmission lines'}"
      ]
     },
     "execution_count": 32,
     "metadata": {},
     "output_type": "execute_result"
    }
   ],
   "source": [
    "yd.getSynonyms('气体绝缘金属封闭输电线路', 'ch2en')"
   ]
  },
  {
   "cell_type": "code",
   "execution_count": 33,
   "metadata": {
    "ExecuteTime": {
     "end_time": "2021-05-20T07:06:56.018566Z",
     "start_time": "2021-05-20T07:06:53.472443Z"
    }
   },
   "outputs": [
    {
     "data": {
      "text/plain": [
       "{'pid', '新闻处', '比例 积分 微分', '比例-积分-微分', '管路及仪表布置图'}"
      ]
     },
     "execution_count": 33,
     "metadata": {},
     "output_type": "execute_result"
    }
   ],
   "source": [
    "yd.getSynonyms('PID')"
   ]
  },
  {
   "cell_type": "markdown",
   "metadata": {
    "heading_collapsed": true
   },
   "source": [
    "### 同义词fields"
   ]
  },
  {
   "cell_type": "code",
   "execution_count": 36,
   "metadata": {
    "ExecuteTime": {
     "end_time": "2021-05-20T08:13:15.649019Z",
     "start_time": "2021-05-20T07:08:55.109693Z"
    },
    "deletable": false,
    "editable": false,
    "hidden": true,
    "run_control": {
     "frozen": true
    },
    "scrolled": false
   },
   "outputs": [
    {
     "data": {
      "application/vnd.jupyter.widget-view+json": {
       "model_id": "786c3884a8304fe2afc636fd4caba015",
       "version_major": 2,
       "version_minor": 0
      },
      "text/plain": [
       "HBox(children=(FloatProgress(value=0.0, max=221.0), HTML(value='')))"
      ]
     },
     "metadata": {},
     "output_type": "display_data"
    },
    {
     "name": "stdout",
     "output_type": "stream",
     "text": [
      "(2021-05-20 16:12:56) get and insert syns : '语言学'                                 \n"
     ]
    }
   ],
   "source": [
    "start = time()\n",
    "tq = tqdm(fields, ncols=ncols)\n",
    "for word in tq:\n",
    "    tq.set_description(f'{getNow()}')\n",
    "    #if len(word) & 1: continue\n",
    "    solve (word, tq=tq)\n",
    "sendEmail(f'cost time {convertSeconds(time() - start)}', 'get fields syn accomplished(not server)')"
   ]
  },
  {
   "cell_type": "markdown",
   "metadata": {},
   "source": [
    "### 同义词terms"
   ]
  },
  {
   "cell_type": "code",
   "execution_count": 26,
   "metadata": {
    "ExecuteTime": {
     "end_time": "2021-07-18T12:22:07.397194Z",
     "start_time": "2021-07-18T12:22:07.350717Z"
    }
   },
   "outputs": [],
   "source": [
    "now = 0\n",
    "bulk = 20\n",
    "nTerms = db.count('field_term.term').values.item()"
   ]
  },
  {
   "cell_type": "code",
   "execution_count": 27,
   "metadata": {
    "ExecuteTime": {
     "end_time": "2021-07-18T12:22:08.305551Z",
     "start_time": "2021-07-18T12:22:08.301541Z"
    }
   },
   "outputs": [],
   "source": [
    "now = 219920"
   ]
  },
  {
   "cell_type": "code",
   "execution_count": 28,
   "metadata": {
    "ExecuteTime": {
     "end_time": "2021-07-18T12:22:08.618293Z",
     "start_time": "2021-07-18T12:22:08.613290Z"
    }
   },
   "outputs": [],
   "source": [
    "nTerms = 229840"
   ]
  },
  {
   "cell_type": "code",
   "execution_count": 31,
   "metadata": {
    "ExecuteTime": {
     "end_time": "2021-07-21T02:15:00.864396Z",
     "start_time": "2021-07-21T02:15:00.745383Z"
    }
   },
   "outputs": [
    {
     "name": "stdout",
     "output_type": "stream",
     "text": [
      "<ipython-input-31-c81a87d369c1> line 1 : now = 229840, bulk = 20, nTerms = 230000\n"
     ]
    }
   ],
   "source": [
    "debug(now, bulk, nTerms)"
   ]
  },
  {
   "cell_type": "code",
   "execution_count": 32,
   "metadata": {
    "ExecuteTime": {
     "end_time": "2021-07-21T03:02:32.708034Z",
     "start_time": "2021-07-21T02:15:11.957127Z"
    },
    "scrolled": false
   },
   "outputs": [
    {
     "data": {
      "application/vnd.jupyter.widget-view+json": {
       "model_id": "f8c442fd46c949049ad1331e0f2dd912",
       "version_major": 2,
       "version_minor": 0
      },
      "text/plain": [
       "HBox(children=(FloatProgress(value=0.0, layout=Layout(flex='2'), max=8.0), HTML(value='')), layout=Layout(disp…"
      ]
     },
     "metadata": {},
     "output_type": "display_data"
    },
    {
     "data": {
      "application/vnd.jupyter.widget-view+json": {
       "model_id": "",
       "version_major": 2,
       "version_minor": 0
      },
      "text/plain": [
       "HBox(children=(FloatProgress(value=0.0, layout=Layout(flex='2'), max=20.0), HTML(value='')), layout=Layout(dis…"
      ]
     },
     "metadata": {},
     "output_type": "display_data"
    },
    {
     "data": {
      "application/vnd.jupyter.widget-view+json": {
       "model_id": "",
       "version_major": 2,
       "version_minor": 0
      },
      "text/plain": [
       "HBox(children=(FloatProgress(value=0.0, layout=Layout(flex='2'), max=20.0), HTML(value='')), layout=Layout(dis…"
      ]
     },
     "metadata": {},
     "output_type": "display_data"
    },
    {
     "data": {
      "application/vnd.jupyter.widget-view+json": {
       "model_id": "",
       "version_major": 2,
       "version_minor": 0
      },
      "text/plain": [
       "HBox(children=(FloatProgress(value=0.0, layout=Layout(flex='2'), max=20.0), HTML(value='')), layout=Layout(dis…"
      ]
     },
     "metadata": {},
     "output_type": "display_data"
    },
    {
     "data": {
      "application/vnd.jupyter.widget-view+json": {
       "model_id": "",
       "version_major": 2,
       "version_minor": 0
      },
      "text/plain": [
       "HBox(children=(FloatProgress(value=0.0, layout=Layout(flex='2'), max=20.0), HTML(value='')), layout=Layout(dis…"
      ]
     },
     "metadata": {},
     "output_type": "display_data"
    },
    {
     "data": {
      "application/vnd.jupyter.widget-view+json": {
       "model_id": "",
       "version_major": 2,
       "version_minor": 0
      },
      "text/plain": [
       "HBox(children=(FloatProgress(value=0.0, layout=Layout(flex='2'), max=20.0), HTML(value='')), layout=Layout(dis…"
      ]
     },
     "metadata": {},
     "output_type": "display_data"
    },
    {
     "data": {
      "application/vnd.jupyter.widget-view+json": {
       "model_id": "",
       "version_major": 2,
       "version_minor": 0
      },
      "text/plain": [
       "HBox(children=(FloatProgress(value=0.0, layout=Layout(flex='2'), max=20.0), HTML(value='')), layout=Layout(dis…"
      ]
     },
     "metadata": {},
     "output_type": "display_data"
    },
    {
     "data": {
      "application/vnd.jupyter.widget-view+json": {
       "model_id": "",
       "version_major": 2,
       "version_minor": 0
      },
      "text/plain": [
       "HBox(children=(FloatProgress(value=0.0, layout=Layout(flex='2'), max=20.0), HTML(value='')), layout=Layout(dis…"
      ]
     },
     "metadata": {},
     "output_type": "display_data"
    },
    {
     "data": {
      "application/vnd.jupyter.widget-view+json": {
       "model_id": "",
       "version_major": 2,
       "version_minor": 0
      },
      "text/plain": [
       "HBox(children=(FloatProgress(value=0.0, layout=Layout(flex='2'), max=20.0), HTML(value='')), layout=Layout(dis…"
      ]
     },
     "metadata": {},
     "output_type": "display_data"
    },
    {
     "name": "stdout",
     "output_type": "stream",
     "text": [
      "\n"
     ]
    }
   ],
   "source": [
    "start = time()\n",
    "\n",
    "with trange(now, nTerms, bulk) as tr:\n",
    "    for i in tr:\n",
    "        frmt(f':{i}', tqdm=tr)\n",
    "        now = i\n",
    "        if not os.path.exists('log/logTerms.csv'):\n",
    "            fprint(f'time,now', file='logTerms.csv', path='log')\n",
    "        fprint(f'{getNow()},{now}', file='logTerms.csv', path='log')\n",
    "        with tqdm(getTerms(now, bulk), leave=False) as tq:\n",
    "            for word, en in tq:\n",
    "                frmt(tqdm=tq)\n",
    "            #     if len(word) & 1: continue\n",
    "                solve (word, en, tq=tq)\n",
    "sendEmail(f'cost time {convertSeconds(time() - start)}', 'get terms syn accomplished(not server)')"
   ]
  },
  {
   "cell_type": "code",
   "execution_count": null,
   "metadata": {},
   "outputs": [],
   "source": [
    "errorTermId = [876, 1048, 1471, 1956, 2558, 2993, 3529, 3820, 4703, 4740, 4825, 4860, 4861, 4902, 4903, 5208, 5393, 5402, 5407, 5775, 6446, 7532, 8002, 8321, 8684, 8777, 8877, 8893, 8902, 8932, 8980, 9021, 9022, 9023, 9024, 9118, 9137, 9160, 9163, 9164, 9280, 9307, 9403, 9931, 262357, 266738, 278340, 278341, 278568]"
   ]
  },
  {
   "cell_type": "markdown",
   "metadata": {},
   "source": [
    "### 关闭"
   ]
  },
  {
   "cell_type": "code",
   "execution_count": 35,
   "metadata": {
    "ExecuteTime": {
     "end_time": "2021-07-23T06:30:19.116047Z",
     "start_time": "2021-07-23T06:30:19.096047Z"
    }
   },
   "outputs": [],
   "source": [
    "db.close()"
   ]
  },
  {
   "cell_type": "code",
   "execution_count": 36,
   "metadata": {
    "ExecuteTime": {
     "end_time": "2021-07-23T06:30:19.697045Z",
     "start_time": "2021-07-23T06:30:19.677044Z"
    }
   },
   "outputs": [],
   "source": [
    "yd.close()"
   ]
  },
  {
   "cell_type": "code",
   "execution_count": null,
   "metadata": {},
   "outputs": [],
   "source": []
  }
 ],
 "metadata": {
  "kernelspec": {
   "display_name": "Python 3",
   "language": "python",
   "name": "python3"
  },
  "language_info": {
   "codemirror_mode": {
    "name": "ipython",
    "version": 3
   },
   "file_extension": ".py",
   "mimetype": "text/x-python",
   "name": "python",
   "nbconvert_exporter": "python",
   "pygments_lexer": "ipython3",
   "version": "3.8.3"
  },
  "latex_envs": {
   "LaTeX_envs_menu_present": true,
   "autoclose": false,
   "autocomplete": true,
   "bibliofile": "biblio.bib",
   "cite_by": "apalike",
   "current_citInitial": 1,
   "eqLabelWithNumbers": true,
   "eqNumInitial": 1,
   "hotkeys": {
    "equation": "Ctrl-E",
    "itemize": "Ctrl-I"
   },
   "labels_anchors": false,
   "latex_user_defs": false,
   "report_style_numbering": false,
   "user_envs_cfg": false
  },
  "toc": {
   "base_numbering": 1,
   "nav_menu": {},
   "number_sections": false,
   "sideBar": true,
   "skip_h1_title": false,
   "title_cell": "Table of Contents",
   "title_sidebar": "Contents",
   "toc_cell": false,
   "toc_position": {},
   "toc_section_display": true,
   "toc_window_display": true
  },
  "varInspector": {
   "cols": {
    "lenName": 16,
    "lenType": 16,
    "lenVar": 40
   },
   "kernels_config": {
    "python": {
     "delete_cmd_postfix": "",
     "delete_cmd_prefix": "del ",
     "library": "var_list.py",
     "varRefreshCmd": "print(var_dic_list())"
    },
    "r": {
     "delete_cmd_postfix": ") ",
     "delete_cmd_prefix": "rm(",
     "library": "var_list.r",
     "varRefreshCmd": "cat(var_dic_list()) "
    }
   },
   "position": {
    "height": "836.198px",
    "left": "1633.38px",
    "right": "20px",
    "top": "121.958px",
    "width": "474.757px"
   },
   "types_to_exclude": [
    "module",
    "function",
    "builtin_function_or_method",
    "instance",
    "_Feature"
   ],
   "window_display": true
  }
 },
 "nbformat": 4,
 "nbformat_minor": 4
}
