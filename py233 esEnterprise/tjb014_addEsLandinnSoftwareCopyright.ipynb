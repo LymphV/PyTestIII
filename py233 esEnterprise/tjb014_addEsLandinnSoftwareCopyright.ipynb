{
 "cells": [
  {
   "cell_type": "markdown",
   "metadata": {},
   "source": [
    "### 库"
   ]
  },
  {
   "cell_type": "code",
   "execution_count": 1,
   "metadata": {
    "ExecuteTime": {
     "end_time": "2021-06-10T06:17:14.186858Z",
     "start_time": "2021-06-10T06:17:13.728770Z"
    },
    "cell_style": "split"
   },
   "outputs": [],
   "source": [
    "from elasticsearch import Elasticsearch\n",
    "from elasticsearch import helpers\n",
    "from tqdm.notebook import tqdm, trange, tnrange\n",
    "import json, re"
   ]
  },
  {
   "cell_type": "code",
   "execution_count": 2,
   "metadata": {
    "ExecuteTime": {
     "end_time": "2021-06-10T06:17:14.255857Z",
     "start_time": "2021-06-10T06:17:14.242857Z"
    },
    "cell_style": "split"
   },
   "outputs": [],
   "source": [
    "import numpy as np\n",
    "import pandas as pd\n",
    "import os, sys\n",
    "from time import time, sleep"
   ]
  },
  {
   "cell_type": "code",
   "execution_count": 3,
   "metadata": {
    "ExecuteTime": {
     "end_time": "2021-06-10T06:17:14.362127Z",
     "start_time": "2021-06-10T06:17:14.316495Z"
    }
   },
   "outputs": [],
   "source": [
    "from vVariableInspector import _getshapeof\n",
    "from vUtil.vFile import fprint, readlines, linesReader\n",
    "from vUtil.vEmail import sendEmail\n",
    "from vUtil.vTime import convertSeconds"
   ]
  },
  {
   "cell_type": "code",
   "execution_count": 4,
   "metadata": {
    "ExecuteTime": {
     "end_time": "2021-06-10T06:17:14.523117Z",
     "start_time": "2021-06-10T06:17:14.413120Z"
    }
   },
   "outputs": [],
   "source": [
    "from vMysql import MysqlProxy"
   ]
  },
  {
   "cell_type": "code",
   "execution_count": 5,
   "metadata": {
    "ExecuteTime": {
     "end_time": "2021-06-10T06:17:14.580917Z",
     "start_time": "2021-06-10T06:17:14.562207Z"
    }
   },
   "outputs": [],
   "source": [
    "from util import frmt, rmUnseen, groupConcat, deleteIndexRows\n",
    "from cfg import host, master, port, contType\n",
    "from cfg import dbHost, dbUser, dbPwd\n",
    "from cfg import ncols"
   ]
  },
  {
   "cell_type": "markdown",
   "metadata": {},
   "source": [
    "### mysql、es"
   ]
  },
  {
   "cell_type": "code",
   "execution_count": 6,
   "metadata": {
    "ExecuteTime": {
     "end_time": "2021-06-10T06:17:14.825069Z",
     "start_time": "2021-06-10T06:17:14.817068Z"
    }
   },
   "outputs": [],
   "source": [
    "index = 'landinn_software_copyright'"
   ]
  },
  {
   "cell_type": "code",
   "execution_count": 7,
   "metadata": {
    "ExecuteTime": {
     "end_time": "2021-06-10T06:17:15.020176Z",
     "start_time": "2021-06-10T06:17:15.001159Z"
    }
   },
   "outputs": [],
   "source": [
    "es=Elasticsearch(hosts=host,port=port)"
   ]
  },
  {
   "cell_type": "code",
   "execution_count": 8,
   "metadata": {
    "ExecuteTime": {
     "end_time": "2021-06-10T06:17:15.436161Z",
     "start_time": "2021-06-10T06:17:15.244159Z"
    }
   },
   "outputs": [],
   "source": [
    "db = MysqlProxy(ip=dbHost, user=dbUser, password=dbPwd)"
   ]
  },
  {
   "cell_type": "markdown",
   "metadata": {},
   "source": [
    "### 函数"
   ]
  },
  {
   "cell_type": "code",
   "execution_count": 9,
   "metadata": {
    "ExecuteTime": {
     "end_time": "2021-06-10T06:17:15.683246Z",
     "start_time": "2021-06-10T06:17:15.671244Z"
    }
   },
   "outputs": [],
   "source": [
    "sTmpSoftwareCopyright = '''\n",
    "create temporary table tmp_softwareCopyright\n",
    "(\n",
    "    select  golaxy_sc_id as gid, \n",
    "            full_name as name,\n",
    "            simple_name as simpleName,\n",
    "            registration_time,\n",
    "            publish_time,\n",
    "            event_time\n",
    "    from software_copyright\n",
    "    where !ifnull(is_deleted,0)\n",
    "    limit %d, %d\n",
    ");\n",
    "'''\n",
    "\n",
    "sRmTmpSoftwareCopyright = '''\n",
    "drop temporary table tmp_softwareCopyright;\n",
    "'''"
   ]
  },
  {
   "cell_type": "code",
   "execution_count": 10,
   "metadata": {
    "ExecuteTime": {
     "end_time": "2021-06-10T06:17:15.899343Z",
     "start_time": "2021-06-10T06:17:15.888342Z"
    }
   },
   "outputs": [],
   "source": [
    "sSelectPublish = '''\n",
    "select gid, cast(affiliation_id as char) as enterprise_id\n",
    "from\n",
    "    tmp_softwareCopyright as a\n",
    "left join softwareCopyright_affiliation as b\n",
    "on a.gid = b.sc_id\n",
    "where !ifnull(b.is_deleted,0);\n",
    "'''"
   ]
  },
  {
   "cell_type": "code",
   "execution_count": 11,
   "metadata": {
    "ExecuteTime": {
     "end_time": "2021-06-10T06:17:17.726141Z",
     "start_time": "2021-06-10T06:17:17.718133Z"
    }
   },
   "outputs": [],
   "source": [
    "sSelectData = '''\n",
    "select gid, name, simpleName, registration_time, publish_time, event_time\n",
    "from tmp_softwareCopyright;\n",
    "'''"
   ]
  },
  {
   "cell_type": "code",
   "execution_count": 12,
   "metadata": {
    "ExecuteTime": {
     "end_time": "2021-06-10T06:17:17.969152Z",
     "start_time": "2021-06-10T06:17:17.940134Z"
    },
    "code_folding": []
   },
   "outputs": [],
   "source": [
    "def getActions (data, publish):\n",
    "    actions = []\n",
    "    \n",
    "    p2e = {publish['gid'][i] : publish['enterprise_id'][i] for i in range(len(publish))}\n",
    "    \n",
    "    for i in range(len(data)):\n",
    "        action={'_op_type':'index',#操作 index update create delete  \n",
    "            '_index':index,#index\n",
    "            '_id' : data['gid'][i],\n",
    "            '_source':\n",
    "           {\n",
    "                \"id\" : data['gid'][i],\n",
    "                \"name\" : rmUnseen(data['name'][i], None),\n",
    "                \"simpleName\" : rmUnseen(data['simpleName'][i], None),\n",
    "                \"enterprises\" : p2e[data['gid'][i]],\n",
    "                \"registration_time\" : None if data['registration_time'][i] is pd.NaT else data['registration_time'][i],\n",
    "                \"publish_time\" : None if data['publish_time'][i] is pd.NaT else data['publish_time'][i],\n",
    "                \"event_time\" : None if data['event_time'][i] is pd.NaT else data['event_time'][i],\n",
    "            }}\n",
    "        actions.append(action)\n",
    "    return actions"
   ]
  },
  {
   "cell_type": "markdown",
   "metadata": {
    "ExecuteTime": {
     "end_time": "2021-05-24T08:27:29.700727Z",
     "start_time": "2021-05-24T08:27:29.695729Z"
    }
   },
   "source": [
    "### 索引"
   ]
  },
  {
   "cell_type": "code",
   "execution_count": 13,
   "metadata": {
    "ExecuteTime": {
     "end_time": "2021-06-10T06:17:18.933675Z",
     "start_time": "2021-06-10T06:17:18.913611Z"
    }
   },
   "outputs": [],
   "source": [
    "table = 'software_copyright'"
   ]
  },
  {
   "cell_type": "code",
   "execution_count": 14,
   "metadata": {
    "ExecuteTime": {
     "end_time": "2021-06-10T06:17:20.084621Z",
     "start_time": "2021-06-10T06:17:19.881629Z"
    }
   },
   "outputs": [
    {
     "data": {
      "application/vnd.jupyter.widget-view+json": {
       "model_id": "16477f6e6e9444379e93efa66b4543bd",
       "version_major": 2,
       "version_minor": 0
      },
      "text/plain": [
       "HBox(children=(FloatProgress(value=1.0, bar_style='info', layout=Layout(flex='2'), max=1.0), HTML(value='')), …"
      ]
     },
     "metadata": {},
     "output_type": "display_data"
    },
    {
     "name": "stdout",
     "output_type": "stream",
     "text": [
      "\n"
     ]
    },
    {
     "data": {
      "text/plain": [
       "{'landinn_software_copyright': 0}"
      ]
     },
     "execution_count": 14,
     "metadata": {},
     "output_type": "execute_result"
    }
   ],
   "source": [
    "deleteIndexRows(db, es, table, 'golaxy_sc_id', index=index)"
   ]
  },
  {
   "cell_type": "code",
   "execution_count": 13,
   "metadata": {
    "ExecuteTime": {
     "end_time": "2021-05-24T10:08:40.299537Z",
     "start_time": "2021-05-24T10:08:40.095537Z"
    }
   },
   "outputs": [],
   "source": [
    "sizeBulk = 100\n",
    "now = 0\n",
    "nSoftwareCopyright = db.count(, where='!ifnull(is_deleted,0)').values.item()"
   ]
  },
  {
   "cell_type": "code",
   "execution_count": 14,
   "metadata": {
    "ExecuteTime": {
     "end_time": "2021-05-24T10:08:41.455537Z",
     "start_time": "2021-05-24T10:08:41.440537Z"
    }
   },
   "outputs": [],
   "source": [
    "# now = 120"
   ]
  },
  {
   "cell_type": "code",
   "execution_count": 15,
   "metadata": {
    "ExecuteTime": {
     "end_time": "2021-05-24T10:08:41.899537Z",
     "start_time": "2021-05-24T10:08:41.889537Z"
    }
   },
   "outputs": [],
   "source": [
    "# sizeBulk = 100"
   ]
  },
  {
   "cell_type": "code",
   "execution_count": 16,
   "metadata": {
    "ExecuteTime": {
     "end_time": "2021-05-24T10:08:42.457536Z",
     "start_time": "2021-05-24T10:08:42.432537Z"
    }
   },
   "outputs": [
    {
     "data": {
      "text/plain": [
       "(0, 100, 24305)"
      ]
     },
     "execution_count": 16,
     "metadata": {},
     "output_type": "execute_result"
    }
   ],
   "source": [
    "now, sizeBulk, nSoftwareCopyright"
   ]
  },
  {
   "cell_type": "code",
   "execution_count": 17,
   "metadata": {
    "ExecuteTime": {
     "end_time": "2021-05-24T10:17:10.272966Z",
     "start_time": "2021-05-24T10:09:03.890537Z"
    },
    "scrolled": false
   },
   "outputs": [
    {
     "data": {
      "application/vnd.jupyter.widget-view+json": {
       "model_id": "9798ee1e70654104b95376c9470b8d6f",
       "version_major": 2,
       "version_minor": 0
      },
      "text/plain": [
       "HBox(children=(FloatProgress(value=0.0, max=244.0), HTML(value='')))"
      ]
     },
     "metadata": {},
     "output_type": "display_data"
    },
    {
     "name": "stdout",
     "output_type": "stream",
     "text": [
      "\n"
     ]
    }
   ],
   "source": [
    "startOfAll = time()\n",
    "for i in trange(now, nSoftwareCopyright, sizeBulk):\n",
    "    now = i\n",
    "    db.sql(sTmpSoftwareCopyright % (now, sizeBulk))\n",
    "    \n",
    "    data = db.sql(sSelectData)\n",
    "    publish = db.sql(sSelectPublish)\n",
    "    db.sql(sRmTmpSoftwareCopyright)\n",
    "    db.close()\n",
    "    \n",
    "    actions = getActions(data, groupConcat(publish, 'gid', ';'))\n",
    "    if actions: helpers.bulk(client=es,actions=actions)\n",
    "sendEmail(f'insert cost time {convertSeconds(time() - startOfAll)}', 'insert landinn es softwareCopyrights complete')"
   ]
  },
  {
   "cell_type": "markdown",
   "metadata": {
    "ExecuteTime": {
     "end_time": "2021-05-24T08:27:29.700727Z",
     "start_time": "2021-05-24T08:27:29.695729Z"
    }
   },
   "source": [
    "### 关闭"
   ]
  },
  {
   "cell_type": "code",
   "execution_count": 18,
   "metadata": {
    "ExecuteTime": {
     "end_time": "2021-05-24T10:27:05.944113Z",
     "start_time": "2021-05-24T10:27:05.931105Z"
    }
   },
   "outputs": [],
   "source": [
    "es.close()"
   ]
  },
  {
   "cell_type": "code",
   "execution_count": 19,
   "metadata": {
    "ExecuteTime": {
     "end_time": "2021-05-24T10:27:06.446107Z",
     "start_time": "2021-05-24T10:27:06.442105Z"
    }
   },
   "outputs": [],
   "source": [
    "db.close()"
   ]
  },
  {
   "cell_type": "code",
   "execution_count": null,
   "metadata": {},
   "outputs": [],
   "source": []
  }
 ],
 "metadata": {
  "kernelspec": {
   "display_name": "Python 3",
   "language": "python",
   "name": "python3"
  },
  "language_info": {
   "codemirror_mode": {
    "name": "ipython",
    "version": 3
   },
   "file_extension": ".py",
   "mimetype": "text/x-python",
   "name": "python",
   "nbconvert_exporter": "python",
   "pygments_lexer": "ipython3",
   "version": "3.8.3"
  },
  "latex_envs": {
   "LaTeX_envs_menu_present": true,
   "autoclose": false,
   "autocomplete": true,
   "bibliofile": "biblio.bib",
   "cite_by": "apalike",
   "current_citInitial": 1,
   "eqLabelWithNumbers": true,
   "eqNumInitial": 1,
   "hotkeys": {
    "equation": "Ctrl-E",
    "itemize": "Ctrl-I"
   },
   "labels_anchors": false,
   "latex_user_defs": false,
   "report_style_numbering": false,
   "user_envs_cfg": false
  },
  "toc": {
   "base_numbering": 1,
   "nav_menu": {
    "height": "69.9826px",
    "width": "361.25px"
   },
   "number_sections": false,
   "sideBar": true,
   "skip_h1_title": false,
   "title_cell": "Table of Contents",
   "title_sidebar": "Contents",
   "toc_cell": false,
   "toc_position": {},
   "toc_section_display": true,
   "toc_window_display": true
  },
  "varInspector": {
   "cols": {
    "lenName": 16,
    "lenType": 16,
    "lenVar": 40
   },
   "kernels_config": {
    "python": {
     "delete_cmd_postfix": "",
     "delete_cmd_prefix": "del ",
     "library": "var_list.py",
     "varRefreshCmd": "print(var_dic_list())"
    },
    "r": {
     "delete_cmd_postfix": ") ",
     "delete_cmd_prefix": "rm(",
     "library": "var_list.r",
     "varRefreshCmd": "cat(var_dic_list()) "
    }
   },
   "oldHeight": 817.969,
   "position": {
    "height": "839.965px",
    "left": "1693.32px",
    "right": "20px",
    "top": "120px",
    "width": "394.757px"
   },
   "types_to_exclude": [
    "module",
    "function",
    "builtin_function_or_method",
    "instance",
    "_Feature"
   ],
   "varInspector_section_display": "block",
   "window_display": true
  }
 },
 "nbformat": 4,
 "nbformat_minor": 4
}
