{
 "cells": [
  {
   "cell_type": "markdown",
   "metadata": {},
   "source": [
    "### 库"
   ]
  },
  {
   "cell_type": "code",
   "execution_count": 1,
   "metadata": {
    "ExecuteTime": {
     "end_time": "2021-06-10T06:17:06.321539Z",
     "start_time": "2021-06-10T06:17:05.859563Z"
    },
    "cell_style": "split"
   },
   "outputs": [],
   "source": [
    "from elasticsearch import Elasticsearch\n",
    "from elasticsearch import helpers\n",
    "from tqdm.notebook import tqdm, trange, tnrange\n",
    "import json, re"
   ]
  },
  {
   "cell_type": "code",
   "execution_count": 2,
   "metadata": {
    "ExecuteTime": {
     "end_time": "2021-06-10T06:17:06.375095Z",
     "start_time": "2021-06-10T06:17:06.363093Z"
    },
    "cell_style": "split"
   },
   "outputs": [],
   "source": [
    "import numpy as np\n",
    "import pandas as pd\n",
    "import os, sys\n",
    "from time import time, sleep"
   ]
  },
  {
   "cell_type": "code",
   "execution_count": 3,
   "metadata": {
    "ExecuteTime": {
     "end_time": "2021-06-10T06:17:06.549186Z",
     "start_time": "2021-06-10T06:17:06.432081Z"
    }
   },
   "outputs": [],
   "source": [
    "from vVariableInspector import _getshapeof\n",
    "from vUtil.vFile import fprint, readlines, linesReader\n",
    "from vUtil.vEmail import sendEmail\n",
    "from vUtil.vTime import convertSeconds, getNow"
   ]
  },
  {
   "cell_type": "code",
   "execution_count": 4,
   "metadata": {
    "ExecuteTime": {
     "end_time": "2021-06-10T06:17:06.664494Z",
     "start_time": "2021-06-10T06:17:06.609354Z"
    }
   },
   "outputs": [],
   "source": [
    "from vMysql import MysqlProxy"
   ]
  },
  {
   "cell_type": "code",
   "execution_count": 5,
   "metadata": {
    "ExecuteTime": {
     "end_time": "2021-06-10T06:17:06.737323Z",
     "start_time": "2021-06-10T06:17:06.725048Z"
    }
   },
   "outputs": [],
   "source": [
    "from util import frmt, rmUnseen, groupConcat, deleteIndexRows\n",
    "from cfg import host, master, port, contType\n",
    "from cfg import dbHost, dbUser, dbPwd\n",
    "from cfg import ncols"
   ]
  },
  {
   "cell_type": "markdown",
   "metadata": {},
   "source": [
    "### mysql、es"
   ]
  },
  {
   "cell_type": "code",
   "execution_count": 6,
   "metadata": {
    "ExecuteTime": {
     "end_time": "2021-06-10T06:17:07.067323Z",
     "start_time": "2021-06-10T06:17:07.054323Z"
    }
   },
   "outputs": [],
   "source": [
    "index = 'landinn_product'"
   ]
  },
  {
   "cell_type": "code",
   "execution_count": 7,
   "metadata": {
    "ExecuteTime": {
     "end_time": "2021-06-10T06:17:07.271889Z",
     "start_time": "2021-06-10T06:17:07.254420Z"
    }
   },
   "outputs": [],
   "source": [
    "es=Elasticsearch(hosts=host,port=port)"
   ]
  },
  {
   "cell_type": "code",
   "execution_count": 8,
   "metadata": {
    "ExecuteTime": {
     "end_time": "2021-06-10T06:17:07.661498Z",
     "start_time": "2021-06-10T06:17:07.469732Z"
    }
   },
   "outputs": [],
   "source": [
    "db = MysqlProxy(ip=dbHost, user=dbUser, password=dbPwd)"
   ]
  },
  {
   "cell_type": "markdown",
   "metadata": {},
   "source": [
    "### 函数"
   ]
  },
  {
   "cell_type": "code",
   "execution_count": 9,
   "metadata": {
    "ExecuteTime": {
     "end_time": "2021-06-10T06:17:08.542997Z",
     "start_time": "2021-06-10T06:17:08.526991Z"
    }
   },
   "outputs": [],
   "source": [
    "sTmpProduct = '''\n",
    "create temporary table tmp_product\n",
    "(\n",
    "    select golaxy_product_id as gid, product_name as name, hangye, yewu, setup_time, \n",
    "        cast(affiliation_id as char) as enterprises\n",
    "    from product \n",
    "    where !ifnull(is_deleted,0)\n",
    "    limit %d, %d\n",
    ");\n",
    "'''\n",
    "sRmTmpProduct = '''\n",
    "drop temporary table tmp_product;\n",
    "'''"
   ]
  },
  {
   "cell_type": "code",
   "execution_count": 10,
   "metadata": {
    "ExecuteTime": {
     "end_time": "2021-06-10T06:17:08.960991Z",
     "start_time": "2021-06-10T06:17:08.951989Z"
    }
   },
   "outputs": [],
   "source": [
    "sSelectData = '''\n",
    "select  gid, name, hangye, yewu, setup_time, enterprises\n",
    "from tmp_product;\n",
    "'''"
   ]
  },
  {
   "cell_type": "code",
   "execution_count": 11,
   "metadata": {
    "ExecuteTime": {
     "end_time": "2021-06-10T06:17:09.183040Z",
     "start_time": "2021-06-10T06:17:09.167040Z"
    },
    "code_folding": []
   },
   "outputs": [],
   "source": [
    "def getActions (data):\n",
    "    actions = []    \n",
    "    for i in range(len(data)):\n",
    "        action={'_op_type':'index',#操作 index update create delete  \n",
    "            '_index':index,#index\n",
    "            '_id' : data['gid'][i],\n",
    "            '_source':\n",
    "           {\n",
    "                \"id\" : data['gid'][i],\n",
    "                \"name\" : rmUnseen(data['name'][i], None),\n",
    "                \"yewu\" : rmUnseen(data['yewu'][i], None),\n",
    "                \"hangye\" : rmUnseen(data['hangye'][i], None),\n",
    "                \"enterprises\" : data['enterprises'][i],\n",
    "                \"setup_time\" : None if data['setup_time'][i] is pd.NaT else data['setup_time'][i],\n",
    "            }\n",
    "        }\n",
    "        actions.append(action)\n",
    "    return actions"
   ]
  },
  {
   "cell_type": "markdown",
   "metadata": {
    "ExecuteTime": {
     "end_time": "2021-05-24T08:27:29.700727Z",
     "start_time": "2021-05-24T08:27:29.695729Z"
    }
   },
   "source": [
    "### 索引"
   ]
  },
  {
   "cell_type": "code",
   "execution_count": 12,
   "metadata": {
    "ExecuteTime": {
     "end_time": "2021-06-10T06:17:09.546336Z",
     "start_time": "2021-06-10T06:17:09.527338Z"
    }
   },
   "outputs": [],
   "source": [
    "table = 'product'"
   ]
  },
  {
   "cell_type": "code",
   "execution_count": 13,
   "metadata": {
    "ExecuteTime": {
     "end_time": "2021-06-10T06:17:09.918101Z",
     "start_time": "2021-06-10T06:17:09.710556Z"
    }
   },
   "outputs": [
    {
     "data": {
      "application/vnd.jupyter.widget-view+json": {
       "model_id": "402e17a1677749a9b2abe473e48095e4",
       "version_major": 2,
       "version_minor": 0
      },
      "text/plain": [
       "HBox(children=(FloatProgress(value=1.0, bar_style='info', layout=Layout(flex='2'), max=1.0), HTML(value='')), …"
      ]
     },
     "metadata": {},
     "output_type": "display_data"
    },
    {
     "name": "stdout",
     "output_type": "stream",
     "text": [
      "\n"
     ]
    },
    {
     "data": {
      "text/plain": [
       "{'landinn_product': 0}"
      ]
     },
     "execution_count": 13,
     "metadata": {},
     "output_type": "execute_result"
    }
   ],
   "source": [
    "deleteIndexRows(db, es, table, 'golaxy_product_id', index=index)"
   ]
  },
  {
   "cell_type": "code",
   "execution_count": 24,
   "metadata": {
    "ExecuteTime": {
     "end_time": "2021-05-26T08:48:43.074812Z",
     "start_time": "2021-05-26T08:48:42.137800Z"
    }
   },
   "outputs": [],
   "source": [
    "sizeBulk = 100\n",
    "now = 0\n",
    "nProduct = db.count(table, where='!ifnull(is_deleted,0)').values.item()"
   ]
  },
  {
   "cell_type": "code",
   "execution_count": 13,
   "metadata": {
    "ExecuteTime": {
     "end_time": "2021-05-24T09:46:54.356774Z",
     "start_time": "2021-05-24T09:46:54.352772Z"
    }
   },
   "outputs": [],
   "source": [
    "# now = 120"
   ]
  },
  {
   "cell_type": "code",
   "execution_count": 25,
   "metadata": {
    "ExecuteTime": {
     "end_time": "2021-05-26T08:48:44.035802Z",
     "start_time": "2021-05-26T08:48:44.027801Z"
    }
   },
   "outputs": [
    {
     "data": {
      "text/plain": [
       "(0, 100, 972)"
      ]
     },
     "execution_count": 25,
     "metadata": {},
     "output_type": "execute_result"
    }
   ],
   "source": [
    "now, sizeBulk, nProduct"
   ]
  },
  {
   "cell_type": "code",
   "execution_count": 18,
   "metadata": {
    "ExecuteTime": {
     "end_time": "2021-05-24T09:47:33.640779Z",
     "start_time": "2021-05-24T09:47:16.484773Z"
    }
   },
   "outputs": [
    {
     "data": {
      "application/vnd.jupyter.widget-view+json": {
       "model_id": "d957f1c9e8b6439286c387eb46636b8f",
       "version_major": 2,
       "version_minor": 0
      },
      "text/plain": [
       "HBox(children=(FloatProgress(value=0.0, layout=Layout(flex='2'), max=10.0), HTML(value='')), layout=Layout(dis…"
      ]
     },
     "metadata": {},
     "output_type": "display_data"
    },
    {
     "name": "stdout",
     "output_type": "stream",
     "text": [
      "\n"
     ]
    }
   ],
   "source": [
    "startOfAll = time()\n",
    "for i in trange(now, nProduct, sizeBulk, ncols=ncols):\n",
    "    now = i\n",
    "    \n",
    "    db.sql(sTmpProduct % (now, sizeBulk))\n",
    "    \n",
    "    data = db.sql(sSelectData)\n",
    "    db.sql(sRmTmpProduct)\n",
    "    db.close()\n",
    "    \n",
    "    actions = getActions(data)\n",
    "    if actions: helpers.bulk(client=es,actions=actions)\n",
    "sendEmail(f'insert cost time {convertSeconds(time() - startOfAll)}', 'insert landinn es products complete')"
   ]
  },
  {
   "cell_type": "markdown",
   "metadata": {
    "ExecuteTime": {
     "end_time": "2021-05-24T08:27:29.700727Z",
     "start_time": "2021-05-24T08:27:29.695729Z"
    }
   },
   "source": [
    "### 关闭"
   ]
  },
  {
   "cell_type": "code",
   "execution_count": 21,
   "metadata": {
    "ExecuteTime": {
     "end_time": "2021-05-25T07:35:51.050209Z",
     "start_time": "2021-05-25T07:35:50.303197Z"
    }
   },
   "outputs": [],
   "source": [
    "es.close()"
   ]
  },
  {
   "cell_type": "code",
   "execution_count": 22,
   "metadata": {
    "ExecuteTime": {
     "end_time": "2021-05-25T07:35:52.217199Z",
     "start_time": "2021-05-25T07:35:52.213200Z"
    }
   },
   "outputs": [],
   "source": [
    "db.close()"
   ]
  },
  {
   "cell_type": "code",
   "execution_count": null,
   "metadata": {},
   "outputs": [],
   "source": []
  }
 ],
 "metadata": {
  "kernelspec": {
   "display_name": "Python 3",
   "language": "python",
   "name": "python3"
  },
  "language_info": {
   "codemirror_mode": {
    "name": "ipython",
    "version": 3
   },
   "file_extension": ".py",
   "mimetype": "text/x-python",
   "name": "python",
   "nbconvert_exporter": "python",
   "pygments_lexer": "ipython3",
   "version": "3.8.3"
  },
  "latex_envs": {
   "LaTeX_envs_menu_present": true,
   "autoclose": false,
   "autocomplete": true,
   "bibliofile": "biblio.bib",
   "cite_by": "apalike",
   "current_citInitial": 1,
   "eqLabelWithNumbers": true,
   "eqNumInitial": 1,
   "hotkeys": {
    "equation": "Ctrl-E",
    "itemize": "Ctrl-I"
   },
   "labels_anchors": false,
   "latex_user_defs": false,
   "report_style_numbering": false,
   "user_envs_cfg": false
  },
  "toc": {
   "base_numbering": 1,
   "nav_menu": {},
   "number_sections": false,
   "sideBar": true,
   "skip_h1_title": false,
   "title_cell": "Table of Contents",
   "title_sidebar": "Contents",
   "toc_cell": false,
   "toc_position": {},
   "toc_section_display": true,
   "toc_window_display": true
  },
  "varInspector": {
   "cols": {
    "lenName": 16,
    "lenType": 16,
    "lenVar": 40
   },
   "kernels_config": {
    "python": {
     "delete_cmd_postfix": "",
     "delete_cmd_prefix": "del ",
     "library": "var_list.py",
     "varRefreshCmd": "print(var_dic_list())"
    },
    "r": {
     "delete_cmd_postfix": ") ",
     "delete_cmd_prefix": "rm(",
     "library": "var_list.r",
     "varRefreshCmd": "cat(var_dic_list()) "
    }
   },
   "oldHeight": 817.969,
   "position": {
    "height": "839.965px",
    "left": "1657.32px",
    "right": "20px",
    "top": "141.997px",
    "width": "394.757px"
   },
   "types_to_exclude": [
    "module",
    "function",
    "builtin_function_or_method",
    "instance",
    "_Feature"
   ],
   "varInspector_section_display": "block",
   "window_display": true
  }
 },
 "nbformat": 4,
 "nbformat_minor": 4
}
