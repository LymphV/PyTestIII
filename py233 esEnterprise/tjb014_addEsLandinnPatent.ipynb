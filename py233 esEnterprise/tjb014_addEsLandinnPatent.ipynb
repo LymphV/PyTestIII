{
 "cells": [
  {
   "cell_type": "markdown",
   "metadata": {},
   "source": [
    "### 库"
   ]
  },
  {
   "cell_type": "code",
   "execution_count": 1,
   "metadata": {
    "ExecuteTime": {
     "end_time": "2021-06-10T06:16:39.166431Z",
     "start_time": "2021-06-10T06:16:38.704431Z"
    },
    "cell_style": "split"
   },
   "outputs": [],
   "source": [
    "from elasticsearch import Elasticsearch\n",
    "from elasticsearch import helpers\n",
    "from tqdm.notebook import tqdm, trange, tnrange\n",
    "import json, re"
   ]
  },
  {
   "cell_type": "code",
   "execution_count": 2,
   "metadata": {
    "ExecuteTime": {
     "end_time": "2021-06-10T06:16:39.232439Z",
     "start_time": "2021-06-10T06:16:39.224439Z"
    },
    "cell_style": "split"
   },
   "outputs": [],
   "source": [
    "import numpy as np\n",
    "import pandas as pd\n",
    "import os, sys\n",
    "from time import time, sleep"
   ]
  },
  {
   "cell_type": "code",
   "execution_count": 3,
   "metadata": {
    "ExecuteTime": {
     "end_time": "2021-06-10T06:16:39.354432Z",
     "start_time": "2021-06-10T06:16:39.307433Z"
    }
   },
   "outputs": [],
   "source": [
    "from vVariableInspector import _getshapeof\n",
    "from vUtil.vFile import fprint, readlines, linesReader\n",
    "from vUtil.vEmail import sendEmail\n",
    "from vUtil.vTime import convertSeconds, getNow"
   ]
  },
  {
   "cell_type": "code",
   "execution_count": 4,
   "metadata": {
    "ExecuteTime": {
     "end_time": "2021-06-10T06:16:39.810432Z",
     "start_time": "2021-06-10T06:16:39.766434Z"
    }
   },
   "outputs": [],
   "source": [
    "from vMysql import MysqlProxy"
   ]
  },
  {
   "cell_type": "code",
   "execution_count": 5,
   "metadata": {
    "ExecuteTime": {
     "end_time": "2021-06-10T06:16:40.138665Z",
     "start_time": "2021-06-10T06:16:39.967510Z"
    }
   },
   "outputs": [],
   "source": [
    "from util import frmt, rmUnseen, groupConcat, deleteIndexRows\n",
    "from cfg import host, master, port, contType\n",
    "from cfg import dbHost, dbUser, dbPwd\n",
    "from cfg import ncols"
   ]
  },
  {
   "cell_type": "markdown",
   "metadata": {},
   "source": [
    "### mysql、es"
   ]
  },
  {
   "cell_type": "code",
   "execution_count": 6,
   "metadata": {
    "ExecuteTime": {
     "end_time": "2021-06-10T06:16:40.377662Z",
     "start_time": "2021-06-10T06:16:40.361654Z"
    }
   },
   "outputs": [],
   "source": [
    "index = 'landinn_patent'"
   ]
  },
  {
   "cell_type": "code",
   "execution_count": 7,
   "metadata": {
    "ExecuteTime": {
     "end_time": "2021-06-10T06:16:40.562653Z",
     "start_time": "2021-06-10T06:16:40.543653Z"
    }
   },
   "outputs": [],
   "source": [
    "es=Elasticsearch(hosts=host,port=port)"
   ]
  },
  {
   "cell_type": "code",
   "execution_count": 8,
   "metadata": {
    "ExecuteTime": {
     "end_time": "2021-06-10T06:16:40.920785Z",
     "start_time": "2021-06-10T06:16:40.727653Z"
    }
   },
   "outputs": [],
   "source": [
    "db = MysqlProxy(ip=dbHost, user=dbUser, password=dbPwd)"
   ]
  },
  {
   "cell_type": "markdown",
   "metadata": {},
   "source": [
    "### 函数"
   ]
  },
  {
   "cell_type": "code",
   "execution_count": 9,
   "metadata": {
    "ExecuteTime": {
     "end_time": "2021-06-10T06:16:41.207518Z",
     "start_time": "2021-06-10T06:16:41.191514Z"
    }
   },
   "outputs": [],
   "source": [
    "sTmpPatent = '''\n",
    "create temporary table tmp_patent\n",
    "(\n",
    "    select  golaxy_patent_id as gid,\n",
    "            ifnull(patent_title, patent_title_en) as title,\n",
    "            applicant_date,\n",
    "            grant_date,\n",
    "            publication_date\n",
    "    from patent\n",
    "    where !ifnull(is_deleted,0)\n",
    "    limit %d, %d\n",
    ");\n",
    "'''\n",
    "sRmTmpPatent = '''\n",
    "drop temporary table tmp_patent;\n",
    "'''"
   ]
  },
  {
   "cell_type": "code",
   "execution_count": 10,
   "metadata": {
    "ExecuteTime": {
     "end_time": "2021-06-10T06:16:41.426186Z",
     "start_time": "2021-06-10T06:16:41.409182Z"
    }
   },
   "outputs": [],
   "source": [
    "sSelectPublishScholar = '''\n",
    "select gid, cast(author_id as char) as scholar_id, null as enterprise_id\n",
    "from\n",
    "    tmp_patent as a\n",
    "left join patent_authors as b\n",
    "on a.gid = b.patent_id\n",
    "where !ifnull(b.is_deleted,0);\n",
    "'''"
   ]
  },
  {
   "cell_type": "code",
   "execution_count": 11,
   "metadata": {
    "ExecuteTime": {
     "end_time": "2021-06-10T06:16:41.632615Z",
     "start_time": "2021-06-10T06:16:41.615608Z"
    }
   },
   "outputs": [],
   "source": [
    "sSelectPublishEnterprise = '''\n",
    "select gid, null as scholar_id, cast(applicant_id as char) as enterprise_id\n",
    "from \n",
    "    tmp_patent as c\n",
    "left join patent_applicants as d\n",
    "on c.gid = d.patent_id\n",
    "where !ifnull(d.is_deleted,0);\n",
    "'''"
   ]
  },
  {
   "cell_type": "code",
   "execution_count": 12,
   "metadata": {
    "ExecuteTime": {
     "end_time": "2021-06-10T06:16:41.835403Z",
     "start_time": "2021-06-10T06:16:41.815402Z"
    }
   },
   "outputs": [],
   "source": [
    "sSelectData = '''\n",
    "select  gid, title, applicant_date, grant_date, publication_date,\n",
    "        ifnull(patent_signory, patent_signory_en) as signory, \n",
    "        ifnull(patent_abstract, patent_abstract_en) as summary\n",
    "from\n",
    "    tmp_patent as a\n",
    "left join patent_abstracts as b on a.gid = b.patent_id\n",
    "where !ifnull(b.is_deleted,0);\n",
    "'''"
   ]
  },
  {
   "cell_type": "code",
   "execution_count": 13,
   "metadata": {
    "ExecuteTime": {
     "end_time": "2021-06-10T06:16:42.708364Z",
     "start_time": "2021-06-10T06:16:42.680360Z"
    },
    "code_folding": []
   },
   "outputs": [],
   "source": [
    "def getActions (data, publish):\n",
    "    actions = []\n",
    "    \n",
    "    p2s = {publish['gid'][i] : publish['scholar_id'][i] for i in range(len(publish))}\n",
    "    p2e = {publish['gid'][i] : publish['enterprise_id'][i] for i in range(len(publish))}\n",
    "    \n",
    "    for i in range(len(data)):\n",
    "#         if data['gid'][i] not in p2s: continue\n",
    "        action={'_op_type':'index',#操作 index update create delete  \n",
    "            '_index':index,#index\n",
    "            '_id' : data['gid'][i],\n",
    "            '_source':\n",
    "           {\n",
    "                \"id\" : data['gid'][i],\n",
    "                \"title\" : rmUnseen(data['title'][i], None),\n",
    "                \"signory\" : rmUnseen(data['signory'][i], None),\n",
    "                \"summary\" : rmUnseen(data['summary'][i], None),\n",
    "                \"scholars\" : p2s[data['gid'][i]],\n",
    "                \"enterprises\" : p2e[data['gid'][i]],\n",
    "                \"applicant_date\" : None if data['applicant_date'][i] is pd.NaT else data['applicant_date'][i],\n",
    "                \"grant_date\" : None if data['grant_date'][i] is pd.NaT else data['grant_date'][i],\n",
    "                \"publication_date\" : None if data['publication_date'][i] is pd.NaT else data['publication_date'][i]\n",
    "            }\n",
    "        }\n",
    "        actions.append(action)\n",
    "    return actions"
   ]
  },
  {
   "cell_type": "markdown",
   "metadata": {
    "ExecuteTime": {
     "end_time": "2021-05-24T08:27:29.700727Z",
     "start_time": "2021-05-24T08:27:29.695729Z"
    }
   },
   "source": [
    "### 索引"
   ]
  },
  {
   "cell_type": "code",
   "execution_count": 14,
   "metadata": {
    "ExecuteTime": {
     "end_time": "2021-06-10T06:16:44.046965Z",
     "start_time": "2021-06-10T06:16:44.015713Z"
    }
   },
   "outputs": [],
   "source": [
    "table = 'patent'"
   ]
  },
  {
   "cell_type": "code",
   "execution_count": 15,
   "metadata": {
    "ExecuteTime": {
     "end_time": "2021-06-10T06:16:47.297789Z",
     "start_time": "2021-06-10T06:16:44.959560Z"
    }
   },
   "outputs": [
    {
     "data": {
      "application/vnd.jupyter.widget-view+json": {
       "model_id": "a27cc590f4b64f949949f154d26da8af",
       "version_major": 2,
       "version_minor": 0
      },
      "text/plain": [
       "HBox(children=(FloatProgress(value=0.0, layout=Layout(flex='2'), max=1.0), HTML(value='')), layout=Layout(disp…"
      ]
     },
     "metadata": {},
     "output_type": "display_data"
    },
    {
     "name": "stdout",
     "output_type": "stream",
     "text": [
      "\n"
     ]
    },
    {
     "data": {
      "text/plain": [
       "{'landinn_patent': 0}"
      ]
     },
     "execution_count": 15,
     "metadata": {},
     "output_type": "execute_result"
    }
   ],
   "source": [
    "deleteIndexRows(db, es, table, 'golaxy_patent_id', index=index)"
   ]
  },
  {
   "cell_type": "code",
   "execution_count": 14,
   "metadata": {
    "ExecuteTime": {
     "end_time": "2021-05-27T07:50:13.860286Z",
     "start_time": "2021-05-27T07:50:13.057283Z"
    }
   },
   "outputs": [],
   "source": [
    "sizeBulk = 100\n",
    "now = 0\n",
    "nPatent = db.count(table, where='!ifnull(is_deleted,0)').values.item()"
   ]
  },
  {
   "cell_type": "code",
   "execution_count": 15,
   "metadata": {
    "ExecuteTime": {
     "end_time": "2021-05-27T07:50:14.007284Z",
     "start_time": "2021-05-27T07:50:13.989284Z"
    }
   },
   "outputs": [],
   "source": [
    "# now = 120"
   ]
  },
  {
   "cell_type": "code",
   "execution_count": 16,
   "metadata": {
    "ExecuteTime": {
     "end_time": "2021-05-27T07:50:14.142287Z",
     "start_time": "2021-05-27T07:50:14.127284Z"
    }
   },
   "outputs": [],
   "source": [
    "# sizeBulk = 2"
   ]
  },
  {
   "cell_type": "code",
   "execution_count": 17,
   "metadata": {
    "ExecuteTime": {
     "end_time": "2021-05-27T07:50:14.305285Z",
     "start_time": "2021-05-27T07:50:14.282289Z"
    }
   },
   "outputs": [],
   "source": [
    "# nPatent = 300"
   ]
  },
  {
   "cell_type": "code",
   "execution_count": 18,
   "metadata": {
    "ExecuteTime": {
     "end_time": "2021-05-27T07:50:14.523283Z",
     "start_time": "2021-05-27T07:50:14.448284Z"
    }
   },
   "outputs": [
    {
     "data": {
      "text/plain": [
       "(0, 100, 1839824)"
      ]
     },
     "execution_count": 18,
     "metadata": {},
     "output_type": "execute_result"
    }
   ],
   "source": [
    "now, sizeBulk, nPatent"
   ]
  },
  {
   "cell_type": "code",
   "execution_count": 19,
   "metadata": {
    "ExecuteTime": {
     "end_time": "2021-05-27T22:08:18.132151Z",
     "start_time": "2021-05-27T07:50:28.438284Z"
    }
   },
   "outputs": [
    {
     "data": {
      "application/vnd.jupyter.widget-view+json": {
       "model_id": "872277505b154d4ca09f2d758948c6a1",
       "version_major": 2,
       "version_minor": 0
      },
      "text/plain": [
       "HBox(children=(FloatProgress(value=0.0, layout=Layout(flex='2'), max=18399.0), HTML(value='')), layout=Layout(…"
      ]
     },
     "metadata": {},
     "output_type": "display_data"
    },
    {
     "name": "stdout",
     "output_type": "stream",
     "text": [
      "\n"
     ]
    }
   ],
   "source": [
    "startOfAll = time()\n",
    "tr = trange(now, nPatent, sizeBulk, ncols=ncols)\n",
    "for i in tr:\n",
    "    tr.set_description(f'({getNow()}){i}')\n",
    "    now = i\n",
    "    \n",
    "    db.sql(sTmpPatent % (now, sizeBulk))\n",
    "    \n",
    "    data = db.sql(sSelectData)\n",
    "    ps = db.sql(sSelectPublishScholar)\n",
    "    pe = db.sql(sSelectPublishEnterprise)\n",
    "    publish = ps.append(pe, ignore_index=True)\n",
    "    db.sql(sRmTmpPatent)\n",
    "    db.close()\n",
    "    \n",
    "    actions = getActions(data, groupConcat(publish, 'gid', ';'))\n",
    "    if actions: helpers.bulk(client=es,actions=actions)\n",
    "sendEmail(f'insert cost time {convertSeconds(time() - startOfAll)}', 'insert landinn es patents complete')"
   ]
  },
  {
   "cell_type": "markdown",
   "metadata": {
    "ExecuteTime": {
     "end_time": "2021-05-24T08:27:29.700727Z",
     "start_time": "2021-05-24T08:27:29.695729Z"
    }
   },
   "source": [
    "### 关闭"
   ]
  },
  {
   "cell_type": "code",
   "execution_count": 20,
   "metadata": {
    "ExecuteTime": {
     "end_time": "2021-05-27T22:08:19.672164Z",
     "start_time": "2021-05-27T22:08:19.524150Z"
    }
   },
   "outputs": [],
   "source": [
    "es.close()"
   ]
  },
  {
   "cell_type": "code",
   "execution_count": 21,
   "metadata": {
    "ExecuteTime": {
     "end_time": "2021-05-27T22:08:19.880157Z",
     "start_time": "2021-05-27T22:08:19.833151Z"
    }
   },
   "outputs": [],
   "source": [
    "db.close()"
   ]
  },
  {
   "cell_type": "markdown",
   "metadata": {
    "ExecuteTime": {
     "end_time": "2021-04-12T08:49:41.657425Z",
     "start_time": "2021-04-12T08:49:41.599335Z"
    }
   },
   "source": [
    "### 检查是否全部索引"
   ]
  },
  {
   "cell_type": "code",
   "execution_count": 81,
   "metadata": {
    "ExecuteTime": {
     "end_time": "2021-05-27T07:49:39.527283Z",
     "start_time": "2021-05-27T07:28:59.490289Z"
    },
    "collapsed": true
   },
   "outputs": [
    {
     "data": {
      "application/vnd.jupyter.widget-view+json": {
       "model_id": "92ba6b80ed78433a8a4115bfb4ff4972",
       "version_major": 2,
       "version_minor": 0
      },
      "text/plain": [
       "HBox(children=(FloatProgress(value=0.0, layout=Layout(flex='2'), max=18399.0), HTML(value='')), layout=Layout(…"
      ]
     },
     "metadata": {},
     "output_type": "display_data"
    },
    {
     "name": "stdout",
     "output_type": "stream",
     "text": [
      "200 1032528451470688534\n",
      "200 1032528451470688548\n",
      "200 1032528451470688591\n",
      "300 1032528451470688657\n",
      "300 1032528451470688671\n",
      "300 1032528451470688680\n",
      "400 1032528451470688799\n",
      "400 1032528451470688864\n",
      "400 1032528451470688876\n",
      "500 1032528451470688948\n",
      "600 1032528451470689105\n",
      "700 1032528451470689255\n",
      "700 1032528451470689307\n",
      "800 1032528451470689463\n",
      "1000 1032528451470689735\n",
      "1200 1032528451470690006\n",
      "1300 1032528451470690068\n",
      "1400 1032528451470690186\n",
      "1400 1032528451470690207\n",
      "1400 1032528451470690226\n",
      "1400 1032528451470690238\n",
      "1500 1032528451470690298\n",
      "1500 1032528451470690380\n",
      "1600 1032528451470690425\n",
      "1600 1032528451470690442\n",
      "1600 1032528451470690455\n",
      "1600 1032528451470690508\n",
      "1700 1032528451470690576\n",
      "1700 1032528451470690601\n",
      "1700 1032528451470690625\n",
      "1700 1032528451470690639\n",
      "1800 1032528451470690779\n",
      "1800 1032528451470690800\n",
      "1900 1032528451470690905\n",
      "2000 1032528451470690979\n",
      "2000 1032528451470690997\n",
      "2000 1032528451470691000\n",
      "2000 1032528451470691007\n",
      "2200 1032528451470691369\n",
      "2300 1032528451470691392\n",
      "2300 1032528451470691484\n",
      "2300 1032528451470691514\n",
      "2400 1032528451470691544\n",
      "2500 1032528451470691666\n",
      "2500 1032528451470691687\n",
      "2600 1032528451470691803\n",
      "2600 1032528451470691844\n",
      "2600 1032528451470691892\n",
      "2600 1032528451470691910\n",
      "2700 1032528451470691956\n",
      "2700 1032528451470692003\n",
      "2800 1032528451470692086\n",
      "2900 1032528451470692217\n",
      "3100 1032528451470692468\n",
      "3100 1032528451470692484\n",
      "3100 1032528451470692513\n",
      "3200 1032528451470692592\n",
      "3200 1032528451470692650\n",
      "3300 1032528451470692769\n",
      "3400 1032528451470692949\n",
      "3500 1032528451470692992\n",
      "3500 1032528451470692993\n",
      "3500 1032528451470693053\n",
      "3500 1032528451470693075\n",
      "3500 1032528451470693105\n",
      "3600 1032528451470693168\n",
      "3600 1032528451470693190\n",
      "3600 1032528451470693215\n",
      "3700 1032528451470693271\n",
      "3700 1032528451470693324\n",
      "3700 1032528451470693345\n",
      "3700 1032528451470693384\n",
      "3700 1032528451470693390\n",
      "3800 1032528451470693427\n",
      "3900 1032528451470693533\n",
      "3900 1032528451470693541\n",
      "3900 1032528451470693557\n",
      "4000 1032528451470693711\n",
      "4100 1032528451470693818\n",
      "4200 1032528451470693919\n",
      "4200 1032528451470693963\n",
      "4200 1032528451470693964\n",
      "4300 1032528451470694063\n",
      "4300 1032528451470694138\n",
      "4400 1032528451470694207\n",
      "4500 1032528451470694378\n",
      "4600 1032528451470694455\n",
      "4700 1032528451470694639\n",
      "4800 1032528451470694786\n",
      "4800 1032528451470694797\n",
      "4800 1032528451470694802\n",
      "4900 1032528451470694914\n",
      "4900 1032528451470694915\n",
      "4900 1032528451470694935\n",
      "4900 1032528451470694940\n",
      "5100 1032528451470695187\n",
      "5300 1032528451470695421\n",
      "5300 1032528451470695442\n",
      "5300 1032528451470695454\n",
      "5400 1032528451470695638\n",
      "5500 1032528451470695667\n",
      "5500 1032528451470695681\n",
      "5500 1032528451470695702\n",
      "5500 1032528451470695721\n",
      "5600 1032528451470695821\n",
      "5600 1032528451470695871\n",
      "5700 1032528451470695926\n",
      "5700 1032528451470695992\n",
      "5700 1032528451470696043\n",
      "5800 1032528451470696140\n",
      "5900 1032528451470696211\n",
      "5900 1032528451470696217\n",
      "5900 1032528451470696247\n",
      "5900 1032528451470696264\n",
      "6000 1032528451470696315\n",
      "6000 1032528451470696393\n",
      "6000 1032528451470696402\n",
      "6000 1032528451470696413\n",
      "6000 1032528451470696434\n",
      "6100 1032528451470696457\n",
      "6100 1032528451470696476\n",
      "6200 1032528451470696574\n",
      "6200 1032528451470696653\n",
      "6200 1032528451470696675\n",
      "6200 1032528451470696685\n",
      "6200 1032528451470696694\n",
      "6300 1032528451470696735\n",
      "6300 1032528451470696800\n",
      "6300 1032528451470696823\n",
      "6400 1032528451470696852\n",
      "6400 1032528451470696866\n",
      "6500 1032528451470697000\n",
      "6500 1032528451470697077\n",
      "6600 1032528451470697118\n",
      "6600 1032528451470697128\n",
      "6600 1032528451470697189\n",
      "6600 1032528451470697233\n",
      "6700 1032528451470697283\n",
      "6700 1032528451470697371\n",
      "6700 1032528451470697380\n",
      "6800 1032528451470697394\n",
      "6800 1032528451470697442\n",
      "6900 1032528451470697531\n",
      "6900 1032528451470697569\n",
      "6900 1032528451470697607\n",
      "7000 1032528451470697648\n",
      "7100 1032528451470697805\n",
      "7100 1032528451470697813\n",
      "7300 1032528451470698065\n",
      "7300 1032528451470698066\n",
      "7300 1032528451470698084\n",
      "7300 1032528451470698126\n",
      "7300 1032528451470698150\n",
      "7300 1032528451470698175\n",
      "7400 1032528451470698224\n",
      "7600 1032528451470698550\n",
      "7700 1032528451470698703\n",
      "7800 1032528451470698723\n",
      "7900 1032528451470698908\n",
      "7900 1032528451470698910\n",
      "7900 1032528451470698959\n",
      "8000 1032528451470699030\n",
      "\n"
     ]
    },
    {
     "ename": "KeyboardInterrupt",
     "evalue": "",
     "output_type": "error",
     "traceback": [
      "\u001b[1;31m---------------------------------------------------------------------------\u001b[0m",
      "\u001b[1;31mKeyboardInterrupt\u001b[0m                         Traceback (most recent call last)",
      "\u001b[1;32m<ipython-input-81-59b16c7c49bd>\u001b[0m in \u001b[0;36m<module>\u001b[1;34m\u001b[0m\n\u001b[0;32m     16\u001b[0m \u001b[1;33m\u001b[0m\u001b[0m\n\u001b[0;32m     17\u001b[0m     \u001b[1;32mfor\u001b[0m \u001b[0mi\u001b[0m \u001b[1;32min\u001b[0m \u001b[0mrange\u001b[0m\u001b[1;33m(\u001b[0m\u001b[0mlen\u001b[0m\u001b[1;33m(\u001b[0m\u001b[0mdata\u001b[0m\u001b[1;33m)\u001b[0m\u001b[1;33m)\u001b[0m\u001b[1;33m:\u001b[0m\u001b[1;33m\u001b[0m\u001b[1;33m\u001b[0m\u001b[0m\n\u001b[1;32m---> 18\u001b[1;33m         x = es.search(index=index, size=20, body = {\n\u001b[0m\u001b[0;32m     19\u001b[0m             \"query\": {\n\u001b[0;32m     20\u001b[0m                 \u001b[1;34m\"term\"\u001b[0m\u001b[1;33m:\u001b[0m\u001b[1;33m\u001b[0m\u001b[1;33m\u001b[0m\u001b[0m\n",
      "\u001b[1;32m~\\LymphV\\software\\python\\anaconda\\lib\\site-packages\\elasticsearch\\client\\utils.py\u001b[0m in \u001b[0;36m_wrapped\u001b[1;34m(*args, **kwargs)\u001b[0m\n\u001b[0;32m    151\u001b[0m                 \u001b[1;32mif\u001b[0m \u001b[0mp\u001b[0m \u001b[1;32min\u001b[0m \u001b[0mkwargs\u001b[0m\u001b[1;33m:\u001b[0m\u001b[1;33m\u001b[0m\u001b[1;33m\u001b[0m\u001b[0m\n\u001b[0;32m    152\u001b[0m                     \u001b[0mparams\u001b[0m\u001b[1;33m[\u001b[0m\u001b[0mp\u001b[0m\u001b[1;33m]\u001b[0m \u001b[1;33m=\u001b[0m \u001b[0mkwargs\u001b[0m\u001b[1;33m.\u001b[0m\u001b[0mpop\u001b[0m\u001b[1;33m(\u001b[0m\u001b[0mp\u001b[0m\u001b[1;33m)\u001b[0m\u001b[1;33m\u001b[0m\u001b[1;33m\u001b[0m\u001b[0m\n\u001b[1;32m--> 153\u001b[1;33m             \u001b[1;32mreturn\u001b[0m \u001b[0mfunc\u001b[0m\u001b[1;33m(\u001b[0m\u001b[1;33m*\u001b[0m\u001b[0margs\u001b[0m\u001b[1;33m,\u001b[0m \u001b[0mparams\u001b[0m\u001b[1;33m=\u001b[0m\u001b[0mparams\u001b[0m\u001b[1;33m,\u001b[0m \u001b[0mheaders\u001b[0m\u001b[1;33m=\u001b[0m\u001b[0mheaders\u001b[0m\u001b[1;33m,\u001b[0m \u001b[1;33m**\u001b[0m\u001b[0mkwargs\u001b[0m\u001b[1;33m)\u001b[0m\u001b[1;33m\u001b[0m\u001b[1;33m\u001b[0m\u001b[0m\n\u001b[0m\u001b[0;32m    154\u001b[0m \u001b[1;33m\u001b[0m\u001b[0m\n\u001b[0;32m    155\u001b[0m         \u001b[1;32mreturn\u001b[0m \u001b[0m_wrapped\u001b[0m\u001b[1;33m\u001b[0m\u001b[1;33m\u001b[0m\u001b[0m\n",
      "\u001b[1;32m~\\LymphV\\software\\python\\anaconda\\lib\\site-packages\\elasticsearch\\client\\__init__.py\u001b[0m in \u001b[0;36msearch\u001b[1;34m(self, body, index, doc_type, params, headers)\u001b[0m\n\u001b[0;32m   1660\u001b[0m             \u001b[0mparams\u001b[0m\u001b[1;33m[\u001b[0m\u001b[1;34m\"from\"\u001b[0m\u001b[1;33m]\u001b[0m \u001b[1;33m=\u001b[0m \u001b[0mparams\u001b[0m\u001b[1;33m.\u001b[0m\u001b[0mpop\u001b[0m\u001b[1;33m(\u001b[0m\u001b[1;34m\"from_\"\u001b[0m\u001b[1;33m)\u001b[0m\u001b[1;33m\u001b[0m\u001b[1;33m\u001b[0m\u001b[0m\n\u001b[0;32m   1661\u001b[0m \u001b[1;33m\u001b[0m\u001b[0m\n\u001b[1;32m-> 1662\u001b[1;33m         return self.transport.perform_request(\n\u001b[0m\u001b[0;32m   1663\u001b[0m             \u001b[1;34m\"POST\"\u001b[0m\u001b[1;33m,\u001b[0m\u001b[1;33m\u001b[0m\u001b[1;33m\u001b[0m\u001b[0m\n\u001b[0;32m   1664\u001b[0m             \u001b[0m_make_path\u001b[0m\u001b[1;33m(\u001b[0m\u001b[0mindex\u001b[0m\u001b[1;33m,\u001b[0m \u001b[0mdoc_type\u001b[0m\u001b[1;33m,\u001b[0m \u001b[1;34m\"_search\"\u001b[0m\u001b[1;33m)\u001b[0m\u001b[1;33m,\u001b[0m\u001b[1;33m\u001b[0m\u001b[1;33m\u001b[0m\u001b[0m\n",
      "\u001b[1;32m~\\LymphV\\software\\python\\anaconda\\lib\\site-packages\\elasticsearch\\transport.py\u001b[0m in \u001b[0;36mperform_request\u001b[1;34m(self, method, url, headers, params, body)\u001b[0m\n\u001b[0;32m    379\u001b[0m \u001b[1;33m\u001b[0m\u001b[0m\n\u001b[0;32m    380\u001b[0m             \u001b[1;32mtry\u001b[0m\u001b[1;33m:\u001b[0m\u001b[1;33m\u001b[0m\u001b[1;33m\u001b[0m\u001b[0m\n\u001b[1;32m--> 381\u001b[1;33m                 status, headers_response, data = connection.perform_request(\n\u001b[0m\u001b[0;32m    382\u001b[0m                     \u001b[0mmethod\u001b[0m\u001b[1;33m,\u001b[0m\u001b[1;33m\u001b[0m\u001b[1;33m\u001b[0m\u001b[0m\n\u001b[0;32m    383\u001b[0m                     \u001b[0murl\u001b[0m\u001b[1;33m,\u001b[0m\u001b[1;33m\u001b[0m\u001b[1;33m\u001b[0m\u001b[0m\n",
      "\u001b[1;32m~\\LymphV\\software\\python\\anaconda\\lib\\site-packages\\elasticsearch\\connection\\http_urllib3.py\u001b[0m in \u001b[0;36mperform_request\u001b[1;34m(self, method, url, params, body, timeout, ignore, headers)\u001b[0m\n\u001b[0;32m    249\u001b[0m                 \u001b[0mrequest_headers\u001b[0m\u001b[1;33m[\u001b[0m\u001b[1;34m\"content-encoding\"\u001b[0m\u001b[1;33m]\u001b[0m \u001b[1;33m=\u001b[0m \u001b[1;34m\"gzip\"\u001b[0m\u001b[1;33m\u001b[0m\u001b[1;33m\u001b[0m\u001b[0m\n\u001b[0;32m    250\u001b[0m \u001b[1;33m\u001b[0m\u001b[0m\n\u001b[1;32m--> 251\u001b[1;33m             response = self.pool.urlopen(\n\u001b[0m\u001b[0;32m    252\u001b[0m                 \u001b[0mmethod\u001b[0m\u001b[1;33m,\u001b[0m \u001b[0murl\u001b[0m\u001b[1;33m,\u001b[0m \u001b[0mbody\u001b[0m\u001b[1;33m,\u001b[0m \u001b[0mretries\u001b[0m\u001b[1;33m=\u001b[0m\u001b[0mRetry\u001b[0m\u001b[1;33m(\u001b[0m\u001b[1;32mFalse\u001b[0m\u001b[1;33m)\u001b[0m\u001b[1;33m,\u001b[0m \u001b[0mheaders\u001b[0m\u001b[1;33m=\u001b[0m\u001b[0mrequest_headers\u001b[0m\u001b[1;33m,\u001b[0m \u001b[1;33m**\u001b[0m\u001b[0mkw\u001b[0m\u001b[1;33m\u001b[0m\u001b[1;33m\u001b[0m\u001b[0m\n\u001b[0;32m    253\u001b[0m             )\n",
      "\u001b[1;32m~\\LymphV\\software\\python\\anaconda\\lib\\site-packages\\urllib3\\connectionpool.py\u001b[0m in \u001b[0;36murlopen\u001b[1;34m(self, method, url, body, headers, retries, redirect, assert_same_host, timeout, pool_timeout, release_conn, chunked, body_pos, **response_kw)\u001b[0m\n\u001b[0;32m    668\u001b[0m \u001b[1;33m\u001b[0m\u001b[0m\n\u001b[0;32m    669\u001b[0m             \u001b[1;31m# Make the request on the httplib connection object.\u001b[0m\u001b[1;33m\u001b[0m\u001b[1;33m\u001b[0m\u001b[1;33m\u001b[0m\u001b[0m\n\u001b[1;32m--> 670\u001b[1;33m             httplib_response = self._make_request(\n\u001b[0m\u001b[0;32m    671\u001b[0m                 \u001b[0mconn\u001b[0m\u001b[1;33m,\u001b[0m\u001b[1;33m\u001b[0m\u001b[1;33m\u001b[0m\u001b[0m\n\u001b[0;32m    672\u001b[0m                 \u001b[0mmethod\u001b[0m\u001b[1;33m,\u001b[0m\u001b[1;33m\u001b[0m\u001b[1;33m\u001b[0m\u001b[0m\n",
      "\u001b[1;32m~\\LymphV\\software\\python\\anaconda\\lib\\site-packages\\urllib3\\connectionpool.py\u001b[0m in \u001b[0;36m_make_request\u001b[1;34m(self, conn, method, url, timeout, chunked, **httplib_request_kw)\u001b[0m\n\u001b[0;32m    424\u001b[0m                     \u001b[1;31m# Python 3 (including for exceptions like SystemExit).\u001b[0m\u001b[1;33m\u001b[0m\u001b[1;33m\u001b[0m\u001b[1;33m\u001b[0m\u001b[0m\n\u001b[0;32m    425\u001b[0m                     \u001b[1;31m# Otherwise it looks like a bug in the code.\u001b[0m\u001b[1;33m\u001b[0m\u001b[1;33m\u001b[0m\u001b[1;33m\u001b[0m\u001b[0m\n\u001b[1;32m--> 426\u001b[1;33m                     \u001b[0msix\u001b[0m\u001b[1;33m.\u001b[0m\u001b[0mraise_from\u001b[0m\u001b[1;33m(\u001b[0m\u001b[0me\u001b[0m\u001b[1;33m,\u001b[0m \u001b[1;32mNone\u001b[0m\u001b[1;33m)\u001b[0m\u001b[1;33m\u001b[0m\u001b[1;33m\u001b[0m\u001b[0m\n\u001b[0m\u001b[0;32m    427\u001b[0m         \u001b[1;32mexcept\u001b[0m \u001b[1;33m(\u001b[0m\u001b[0mSocketTimeout\u001b[0m\u001b[1;33m,\u001b[0m \u001b[0mBaseSSLError\u001b[0m\u001b[1;33m,\u001b[0m \u001b[0mSocketError\u001b[0m\u001b[1;33m)\u001b[0m \u001b[1;32mas\u001b[0m \u001b[0me\u001b[0m\u001b[1;33m:\u001b[0m\u001b[1;33m\u001b[0m\u001b[1;33m\u001b[0m\u001b[0m\n\u001b[0;32m    428\u001b[0m             \u001b[0mself\u001b[0m\u001b[1;33m.\u001b[0m\u001b[0m_raise_timeout\u001b[0m\u001b[1;33m(\u001b[0m\u001b[0merr\u001b[0m\u001b[1;33m=\u001b[0m\u001b[0me\u001b[0m\u001b[1;33m,\u001b[0m \u001b[0murl\u001b[0m\u001b[1;33m=\u001b[0m\u001b[0murl\u001b[0m\u001b[1;33m,\u001b[0m \u001b[0mtimeout_value\u001b[0m\u001b[1;33m=\u001b[0m\u001b[0mread_timeout\u001b[0m\u001b[1;33m)\u001b[0m\u001b[1;33m\u001b[0m\u001b[1;33m\u001b[0m\u001b[0m\n",
      "\u001b[1;32m~\\LymphV\\software\\python\\anaconda\\lib\\site-packages\\urllib3\\packages\\six.py\u001b[0m in \u001b[0;36mraise_from\u001b[1;34m(value, from_value)\u001b[0m\n",
      "\u001b[1;32m~\\LymphV\\software\\python\\anaconda\\lib\\site-packages\\urllib3\\connectionpool.py\u001b[0m in \u001b[0;36m_make_request\u001b[1;34m(self, conn, method, url, timeout, chunked, **httplib_request_kw)\u001b[0m\n\u001b[0;32m    419\u001b[0m                 \u001b[1;31m# Python 3\u001b[0m\u001b[1;33m\u001b[0m\u001b[1;33m\u001b[0m\u001b[1;33m\u001b[0m\u001b[0m\n\u001b[0;32m    420\u001b[0m                 \u001b[1;32mtry\u001b[0m\u001b[1;33m:\u001b[0m\u001b[1;33m\u001b[0m\u001b[1;33m\u001b[0m\u001b[0m\n\u001b[1;32m--> 421\u001b[1;33m                     \u001b[0mhttplib_response\u001b[0m \u001b[1;33m=\u001b[0m \u001b[0mconn\u001b[0m\u001b[1;33m.\u001b[0m\u001b[0mgetresponse\u001b[0m\u001b[1;33m(\u001b[0m\u001b[1;33m)\u001b[0m\u001b[1;33m\u001b[0m\u001b[1;33m\u001b[0m\u001b[0m\n\u001b[0m\u001b[0;32m    422\u001b[0m                 \u001b[1;32mexcept\u001b[0m \u001b[0mBaseException\u001b[0m \u001b[1;32mas\u001b[0m \u001b[0me\u001b[0m\u001b[1;33m:\u001b[0m\u001b[1;33m\u001b[0m\u001b[1;33m\u001b[0m\u001b[0m\n\u001b[0;32m    423\u001b[0m                     \u001b[1;31m# Remove the TypeError from the exception chain in\u001b[0m\u001b[1;33m\u001b[0m\u001b[1;33m\u001b[0m\u001b[1;33m\u001b[0m\u001b[0m\n",
      "\u001b[1;32m~\\LymphV\\software\\python\\anaconda\\lib\\http\\client.py\u001b[0m in \u001b[0;36mgetresponse\u001b[1;34m(self)\u001b[0m\n\u001b[0;32m   1330\u001b[0m         \u001b[1;32mtry\u001b[0m\u001b[1;33m:\u001b[0m\u001b[1;33m\u001b[0m\u001b[1;33m\u001b[0m\u001b[0m\n\u001b[0;32m   1331\u001b[0m             \u001b[1;32mtry\u001b[0m\u001b[1;33m:\u001b[0m\u001b[1;33m\u001b[0m\u001b[1;33m\u001b[0m\u001b[0m\n\u001b[1;32m-> 1332\u001b[1;33m                 \u001b[0mresponse\u001b[0m\u001b[1;33m.\u001b[0m\u001b[0mbegin\u001b[0m\u001b[1;33m(\u001b[0m\u001b[1;33m)\u001b[0m\u001b[1;33m\u001b[0m\u001b[1;33m\u001b[0m\u001b[0m\n\u001b[0m\u001b[0;32m   1333\u001b[0m             \u001b[1;32mexcept\u001b[0m \u001b[0mConnectionError\u001b[0m\u001b[1;33m:\u001b[0m\u001b[1;33m\u001b[0m\u001b[1;33m\u001b[0m\u001b[0m\n\u001b[0;32m   1334\u001b[0m                 \u001b[0mself\u001b[0m\u001b[1;33m.\u001b[0m\u001b[0mclose\u001b[0m\u001b[1;33m(\u001b[0m\u001b[1;33m)\u001b[0m\u001b[1;33m\u001b[0m\u001b[1;33m\u001b[0m\u001b[0m\n",
      "\u001b[1;32m~\\LymphV\\software\\python\\anaconda\\lib\\http\\client.py\u001b[0m in \u001b[0;36mbegin\u001b[1;34m(self)\u001b[0m\n\u001b[0;32m    301\u001b[0m         \u001b[1;31m# read until we get a non-100 response\u001b[0m\u001b[1;33m\u001b[0m\u001b[1;33m\u001b[0m\u001b[1;33m\u001b[0m\u001b[0m\n\u001b[0;32m    302\u001b[0m         \u001b[1;32mwhile\u001b[0m \u001b[1;32mTrue\u001b[0m\u001b[1;33m:\u001b[0m\u001b[1;33m\u001b[0m\u001b[1;33m\u001b[0m\u001b[0m\n\u001b[1;32m--> 303\u001b[1;33m             \u001b[0mversion\u001b[0m\u001b[1;33m,\u001b[0m \u001b[0mstatus\u001b[0m\u001b[1;33m,\u001b[0m \u001b[0mreason\u001b[0m \u001b[1;33m=\u001b[0m \u001b[0mself\u001b[0m\u001b[1;33m.\u001b[0m\u001b[0m_read_status\u001b[0m\u001b[1;33m(\u001b[0m\u001b[1;33m)\u001b[0m\u001b[1;33m\u001b[0m\u001b[1;33m\u001b[0m\u001b[0m\n\u001b[0m\u001b[0;32m    304\u001b[0m             \u001b[1;32mif\u001b[0m \u001b[0mstatus\u001b[0m \u001b[1;33m!=\u001b[0m \u001b[0mCONTINUE\u001b[0m\u001b[1;33m:\u001b[0m\u001b[1;33m\u001b[0m\u001b[1;33m\u001b[0m\u001b[0m\n\u001b[0;32m    305\u001b[0m                 \u001b[1;32mbreak\u001b[0m\u001b[1;33m\u001b[0m\u001b[1;33m\u001b[0m\u001b[0m\n",
      "\u001b[1;32m~\\LymphV\\software\\python\\anaconda\\lib\\http\\client.py\u001b[0m in \u001b[0;36m_read_status\u001b[1;34m(self)\u001b[0m\n\u001b[0;32m    262\u001b[0m \u001b[1;33m\u001b[0m\u001b[0m\n\u001b[0;32m    263\u001b[0m     \u001b[1;32mdef\u001b[0m \u001b[0m_read_status\u001b[0m\u001b[1;33m(\u001b[0m\u001b[0mself\u001b[0m\u001b[1;33m)\u001b[0m\u001b[1;33m:\u001b[0m\u001b[1;33m\u001b[0m\u001b[1;33m\u001b[0m\u001b[0m\n\u001b[1;32m--> 264\u001b[1;33m         \u001b[0mline\u001b[0m \u001b[1;33m=\u001b[0m \u001b[0mstr\u001b[0m\u001b[1;33m(\u001b[0m\u001b[0mself\u001b[0m\u001b[1;33m.\u001b[0m\u001b[0mfp\u001b[0m\u001b[1;33m.\u001b[0m\u001b[0mreadline\u001b[0m\u001b[1;33m(\u001b[0m\u001b[0m_MAXLINE\u001b[0m \u001b[1;33m+\u001b[0m \u001b[1;36m1\u001b[0m\u001b[1;33m)\u001b[0m\u001b[1;33m,\u001b[0m \u001b[1;34m\"iso-8859-1\"\u001b[0m\u001b[1;33m)\u001b[0m\u001b[1;33m\u001b[0m\u001b[1;33m\u001b[0m\u001b[0m\n\u001b[0m\u001b[0;32m    265\u001b[0m         \u001b[1;32mif\u001b[0m \u001b[0mlen\u001b[0m\u001b[1;33m(\u001b[0m\u001b[0mline\u001b[0m\u001b[1;33m)\u001b[0m \u001b[1;33m>\u001b[0m \u001b[0m_MAXLINE\u001b[0m\u001b[1;33m:\u001b[0m\u001b[1;33m\u001b[0m\u001b[1;33m\u001b[0m\u001b[0m\n\u001b[0;32m    266\u001b[0m             \u001b[1;32mraise\u001b[0m \u001b[0mLineTooLong\u001b[0m\u001b[1;33m(\u001b[0m\u001b[1;34m\"status line\"\u001b[0m\u001b[1;33m)\u001b[0m\u001b[1;33m\u001b[0m\u001b[1;33m\u001b[0m\u001b[0m\n",
      "\u001b[1;32m~\\LymphV\\software\\python\\anaconda\\lib\\socket.py\u001b[0m in \u001b[0;36mreadinto\u001b[1;34m(self, b)\u001b[0m\n\u001b[0;32m    667\u001b[0m         \u001b[1;32mwhile\u001b[0m \u001b[1;32mTrue\u001b[0m\u001b[1;33m:\u001b[0m\u001b[1;33m\u001b[0m\u001b[1;33m\u001b[0m\u001b[0m\n\u001b[0;32m    668\u001b[0m             \u001b[1;32mtry\u001b[0m\u001b[1;33m:\u001b[0m\u001b[1;33m\u001b[0m\u001b[1;33m\u001b[0m\u001b[0m\n\u001b[1;32m--> 669\u001b[1;33m                 \u001b[1;32mreturn\u001b[0m \u001b[0mself\u001b[0m\u001b[1;33m.\u001b[0m\u001b[0m_sock\u001b[0m\u001b[1;33m.\u001b[0m\u001b[0mrecv_into\u001b[0m\u001b[1;33m(\u001b[0m\u001b[0mb\u001b[0m\u001b[1;33m)\u001b[0m\u001b[1;33m\u001b[0m\u001b[1;33m\u001b[0m\u001b[0m\n\u001b[0m\u001b[0;32m    670\u001b[0m             \u001b[1;32mexcept\u001b[0m \u001b[0mtimeout\u001b[0m\u001b[1;33m:\u001b[0m\u001b[1;33m\u001b[0m\u001b[1;33m\u001b[0m\u001b[0m\n\u001b[0;32m    671\u001b[0m                 \u001b[0mself\u001b[0m\u001b[1;33m.\u001b[0m\u001b[0m_timeout_occurred\u001b[0m \u001b[1;33m=\u001b[0m \u001b[1;32mTrue\u001b[0m\u001b[1;33m\u001b[0m\u001b[1;33m\u001b[0m\u001b[0m\n",
      "\u001b[1;31mKeyboardInterrupt\u001b[0m: "
     ]
    }
   ],
   "source": [
    "sizeBulk = 100\n",
    "now = 0\n",
    "tr = trange(now, nPatent, sizeBulk, ncols=ncols)\n",
    "for i in tr:\n",
    "    tr.set_description(f'({getNow()}){i}')\n",
    "    \n",
    "    now = i\n",
    "\n",
    "    db.sql(sTmpPatent % (now, sizeBulk))\n",
    "    \n",
    "    data = db.sql(sSelectData)\n",
    "    db.sql(sRmTmpPatent)\n",
    "    db.close()\n",
    "    \n",
    "\n",
    "\n",
    "    for i in range(len(data)):\n",
    "        x = es.search(index=index, size=20, body = {\n",
    "            \"query\": {\n",
    "                \"term\":\n",
    "                {\n",
    "                    \"id\": data['gid'][i]\n",
    "                }\n",
    "            }\n",
    "        })['hits']['total']['value']\n",
    "        if x == 0: print(now, data['gid'][i])"
   ]
  },
  {
   "cell_type": "code",
   "execution_count": null,
   "metadata": {},
   "outputs": [],
   "source": []
  }
 ],
 "metadata": {
  "kernelspec": {
   "display_name": "Python 3",
   "language": "python",
   "name": "python3"
  },
  "language_info": {
   "codemirror_mode": {
    "name": "ipython",
    "version": 3
   },
   "file_extension": ".py",
   "mimetype": "text/x-python",
   "name": "python",
   "nbconvert_exporter": "python",
   "pygments_lexer": "ipython3",
   "version": "3.8.3"
  },
  "latex_envs": {
   "LaTeX_envs_menu_present": true,
   "autoclose": false,
   "autocomplete": true,
   "bibliofile": "biblio.bib",
   "cite_by": "apalike",
   "current_citInitial": 1,
   "eqLabelWithNumbers": true,
   "eqNumInitial": 1,
   "hotkeys": {
    "equation": "Ctrl-E",
    "itemize": "Ctrl-I"
   },
   "labels_anchors": false,
   "latex_user_defs": false,
   "report_style_numbering": false,
   "user_envs_cfg": false
  },
  "toc": {
   "base_numbering": 1,
   "nav_menu": {},
   "number_sections": false,
   "sideBar": true,
   "skip_h1_title": false,
   "title_cell": "Table of Contents",
   "title_sidebar": "Contents",
   "toc_cell": false,
   "toc_position": {},
   "toc_section_display": true,
   "toc_window_display": true
  },
  "varInspector": {
   "cols": {
    "lenName": 16,
    "lenType": 16,
    "lenVar": 40
   },
   "kernels_config": {
    "python": {
     "delete_cmd_postfix": "",
     "delete_cmd_prefix": "del ",
     "library": "var_list.py",
     "varRefreshCmd": "print(var_dic_list())"
    },
    "r": {
     "delete_cmd_postfix": ") ",
     "delete_cmd_prefix": "rm(",
     "library": "var_list.r",
     "varRefreshCmd": "cat(var_dic_list()) "
    }
   },
   "oldHeight": 817.969,
   "position": {
    "height": "840.191px",
    "left": "1637.31px",
    "right": "20px",
    "top": "130px",
    "width": "464.531px"
   },
   "types_to_exclude": [
    "module",
    "function",
    "builtin_function_or_method",
    "instance",
    "_Feature"
   ],
   "varInspector_section_display": "block",
   "window_display": true
  }
 },
 "nbformat": 4,
 "nbformat_minor": 4
}
