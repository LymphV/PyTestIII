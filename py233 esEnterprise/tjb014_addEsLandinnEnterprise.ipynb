{
 "cells": [
  {
   "cell_type": "markdown",
   "metadata": {},
   "source": [
    "### 库"
   ]
  },
  {
   "cell_type": "code",
   "execution_count": 1,
   "metadata": {
    "ExecuteTime": {
     "end_time": "2021-07-28T03:57:33.973848Z",
     "start_time": "2021-07-28T03:57:32.531558Z"
    },
    "cell_style": "split"
   },
   "outputs": [],
   "source": [
    "from elasticsearch import Elasticsearch\n",
    "from elasticsearch import helpers\n",
    "from tqdm.notebook import tqdm, trange, tnrange\n",
    "import json, re"
   ]
  },
  {
   "cell_type": "code",
   "execution_count": 2,
   "metadata": {
    "ExecuteTime": {
     "end_time": "2021-07-28T03:57:34.006850Z",
     "start_time": "2021-07-28T03:57:33.998852Z"
    },
    "cell_style": "split"
   },
   "outputs": [],
   "source": [
    "import numpy as np\n",
    "import pandas as pd\n",
    "import os, sys\n",
    "from time import time, sleep"
   ]
  },
  {
   "cell_type": "code",
   "execution_count": 3,
   "metadata": {
    "ExecuteTime": {
     "end_time": "2021-07-28T03:57:35.361104Z",
     "start_time": "2021-07-28T03:57:35.091039Z"
    }
   },
   "outputs": [],
   "source": [
    "from vVariableInspector import _getshapeof\n",
    "from vUtil.vFile import fprint, readlines, linesReader\n",
    "from vUtil.vEmail import sendEmail\n",
    "from vUtil.vTime import convertSeconds, getNow"
   ]
  },
  {
   "cell_type": "code",
   "execution_count": 4,
   "metadata": {
    "ExecuteTime": {
     "end_time": "2021-07-28T03:57:36.218453Z",
     "start_time": "2021-07-28T03:57:35.609313Z"
    }
   },
   "outputs": [],
   "source": [
    "from vMysql import MysqlProxy\n",
    "from elasticsearch import TransportError, ConnectionTimeout\n",
    "import pymysql"
   ]
  },
  {
   "cell_type": "code",
   "execution_count": 5,
   "metadata": {
    "ExecuteTime": {
     "end_time": "2021-07-28T03:57:36.649456Z",
     "start_time": "2021-07-28T03:57:36.371453Z"
    }
   },
   "outputs": [],
   "source": [
    "from util import frmt, rmUnseen, groupConcat, deleteIndexRows \n",
    "from cfg import host, master, port, contType\n",
    "from cfg import dbHost, dbUser, dbPwd\n",
    "from cfg import ncols, nIdSep"
   ]
  },
  {
   "cell_type": "markdown",
   "metadata": {},
   "source": [
    "### utils"
   ]
  },
  {
   "cell_type": "code",
   "execution_count": 6,
   "metadata": {
    "ExecuteTime": {
     "end_time": "2021-07-28T03:57:51.010190Z",
     "start_time": "2021-07-28T03:57:51.003191Z"
    }
   },
   "outputs": [],
   "source": [
    "def ourError (error, errorType = ''):\n",
    "    fprint(f'[ERROR] ({getNow()}) {errorType} : {repr(error)}', file='error.txt', path='errorEnterprise')\n",
    "\n",
    "def ourLog (log, logType = ''):\n",
    "    fprint(f'[LOG] ({getNow()}) {logType} : {repr(log)}', file='log.txt', path='logEnterprise')"
   ]
  },
  {
   "cell_type": "markdown",
   "metadata": {},
   "source": [
    "### mysql、es"
   ]
  },
  {
   "cell_type": "code",
   "execution_count": 7,
   "metadata": {
    "ExecuteTime": {
     "end_time": "2021-07-28T03:57:53.553129Z",
     "start_time": "2021-07-28T03:57:53.546130Z"
    }
   },
   "outputs": [],
   "source": [
    "index = 'landinn_enterprise'\n",
    "indexHl = 'landinn_enterprise_highlight'"
   ]
  },
  {
   "cell_type": "code",
   "execution_count": 8,
   "metadata": {
    "ExecuteTime": {
     "end_time": "2021-07-28T03:57:59.583057Z",
     "start_time": "2021-07-28T03:57:59.579054Z"
    }
   },
   "outputs": [],
   "source": [
    "es=Elasticsearch(hosts=host,port=port,timeout=300)"
   ]
  },
  {
   "cell_type": "code",
   "execution_count": 9,
   "metadata": {
    "ExecuteTime": {
     "end_time": "2021-07-28T03:58:04.026611Z",
     "start_time": "2021-07-28T03:58:03.690559Z"
    }
   },
   "outputs": [],
   "source": [
    "db = MysqlProxy(ip=dbHost, user=dbUser, password=dbPwd)"
   ]
  },
  {
   "cell_type": "markdown",
   "metadata": {},
   "source": [
    "### sql语句"
   ]
  },
  {
   "cell_type": "code",
   "execution_count": 10,
   "metadata": {
    "ExecuteTime": {
     "end_time": "2021-06-10T06:17:27.401192Z",
     "start_time": "2021-06-10T06:17:27.389202Z"
    }
   },
   "outputs": [],
   "source": [
    "sTmpEnterprise = '''\n",
    "create temporary table tmp_enterprise\n",
    "(\n",
    "    select affiliation_id as enterprise_id from affiliations \n",
    "    where !ifnull(is_deleted,0)\n",
    "    limit %d, %d\n",
    ");\n",
    "'''\n",
    "\n",
    "sTmpEnterpriseId = '''\n",
    "create temporary table tmp_enterprise\n",
    "(\n",
    "    select affiliation_id as enterprise_id from affiliations where affiliation_id = %d\n",
    ");\n",
    "'''\n",
    "\n",
    "sRmTmpEnterprise = '''\n",
    "drop temporary table tmp_enterprise;\n",
    "'''"
   ]
  },
  {
   "cell_type": "code",
   "execution_count": 11,
   "metadata": {
    "ExecuteTime": {
     "end_time": "2021-06-10T06:17:27.602206Z",
     "start_time": "2021-06-10T06:17:27.589190Z"
    }
   },
   "outputs": [],
   "source": [
    "sTmpPublish = '''\n",
    "create temporary table tmp_publish\n",
    "(\n",
    "    select affiliation_id as enterprise_id, sc_id as publish_id \n",
    "    from \n",
    "        softwareCopyright_affiliation as a\n",
    "    join\n",
    "        tmp_enterprise as b\n",
    "    on a.affiliation_id = b.enterprise_id\n",
    "    where !ifnull(a.is_deleted,0)\n",
    ");'''\n",
    "\n",
    "sInsertPublish = ['''\n",
    "insert into tmp_publish \n",
    "(\n",
    "    select applicant_id as enterprise_id, patent_id as publish_id \n",
    "    from \n",
    "        patent_applicants as a\n",
    "    join\n",
    "        tmp_enterprise as b\n",
    "    on a.applicant_id = b.enterprise_id\n",
    "    where !ifnull(a.is_deleted,0)\n",
    ");\n",
    "''',\n",
    "'''\n",
    "insert into tmp_publish \n",
    "(\n",
    "    select affiliation_id as enterprise_id, golaxy_product_id as publish_id \n",
    "    from\n",
    "        product as a\n",
    "    join\n",
    "        tmp_enterprise as b\n",
    "    on a.affiliation_id = b.enterprise_id\n",
    "    where !ifnull(a.is_deleted,0)\n",
    ");\n",
    "''']\n",
    "\n",
    "sRmTmpPublish = '''\n",
    "drop temporary table tmp_publish;\n",
    "'''"
   ]
  },
  {
   "cell_type": "code",
   "execution_count": 12,
   "metadata": {
    "ExecuteTime": {
     "end_time": "2021-06-10T06:17:28.062260Z",
     "start_time": "2021-06-10T06:17:28.052267Z"
    }
   },
   "outputs": [],
   "source": [
    "def addPublishId (x, n = nIdSep):\n",
    "    if n is None:\n",
    "        s = \"'曓攨爩氎廤攨攡擟戅嬼壣(',publish_id,')'\"\n",
    "    else: s = ','.join([\"'(',publish_id,')'\"] * n)\n",
    "    return f'''concat({s},{x})'''"
   ]
  },
  {
   "cell_type": "code",
   "execution_count": 13,
   "metadata": {
    "ExecuteTime": {
     "end_time": "2021-06-10T06:17:28.312271Z",
     "start_time": "2021-06-10T06:17:28.302270Z"
    },
    "code_folding": []
   },
   "outputs": [],
   "source": [
    "def getSqlSelectData (n = nIdSep):\n",
    "    return f'''\n",
    "    select  enterprise_id, \n",
    "            {addPublishId(\"softwareCopyright_name\", n)} as softwareCopyright_name, \n",
    "            {addPublishId(\"simpleName\", n)} as simpleName, \n",
    "            {addPublishId(\"patent_title\", n)} as patent_title, \n",
    "            {addPublishId(\"signory\", n)} as signory, \n",
    "            {addPublishId(\"summary\", n)} as summary,\n",
    "            {addPublishId(\"product_name\", n)} as product_name, \n",
    "            {addPublishId(\"yewu\", n)} as yewu, \n",
    "            {addPublishId(\"hangye\", n)} as hangye\n",
    "    from\n",
    "    (\n",
    "        select  enterprise_id, publish_id, softwareCopyright_name, simpleName, patent_title, \n",
    "                ifnull(patent_signory, patent_signory_en) as signory, \n",
    "                ifnull(patent_abstract, patent_abstract_en) as summary \n",
    "        from \n",
    "        (\n",
    "            select enterprise_id, publish_id, softwareCopyright_name, simpleName, ifnull(patent_title, patent_title_en) as patent_title \n",
    "            from\n",
    "            (\n",
    "                select enterprise_id, publish_id, full_name as softwareCopyright_name, simple_name as simpleName\n",
    "                from tmp_publish as a \n",
    "                left join software_copyright as b on a.publish_id = b.golaxy_sc_id\n",
    "                where !ifnull(b.is_deleted,0)\n",
    "            ) as c\n",
    "            left join patent on c.publish_id = patent.golaxy_patent_id\n",
    "            where !ifnull(patent.is_deleted,0)\n",
    "        )as d\n",
    "        left join patent_abstracts on d.publish_id = patent_abstracts.patent_id\n",
    "        where !ifnull(patent_abstracts.is_deleted,0)\n",
    "    ) as e\n",
    "    left join product on e.publish_id = product.golaxy_product_id\n",
    "    where !ifnull(product.is_deleted,0)\n",
    "    ;\n",
    "    '''"
   ]
  },
  {
   "cell_type": "code",
   "execution_count": 14,
   "metadata": {
    "ExecuteTime": {
     "end_time": "2021-06-10T06:17:29.678557Z",
     "start_time": "2021-06-10T06:17:29.668007Z"
    }
   },
   "outputs": [],
   "source": [
    "sSelectData = getSqlSelectData()\n",
    "sSelectDataMini = getSqlSelectData(None) "
   ]
  },
  {
   "cell_type": "code",
   "execution_count": 15,
   "metadata": {
    "ExecuteTime": {
     "end_time": "2021-06-10T06:17:31.514220Z",
     "start_time": "2021-06-10T06:17:31.508218Z"
    },
    "code_folding": []
   },
   "outputs": [],
   "source": [
    "sSelectInfo = '''\n",
    "select  affiliation_id as enterprise_id, \n",
    "        cast(not is_abroad as char) as is_chinese, \n",
    "        if(official_page is null, 0, 1) as has_officialPage,\n",
    "        ifnull(display_name, display_name_en) as name, \n",
    "        industry,\n",
    "        business_scope as businessScope,\n",
    "        reg_province as province, \n",
    "        reg_city as city,\n",
    "        cast(reg_capital_standard as char) as regCapital,\n",
    "        establishment_time as establishmentTime\n",
    "from tmp_enterprise as a\n",
    "join affiliations as b\n",
    "on a.enterprise_id = b.affiliation_id\n",
    "where !ifnull(b.is_deleted,0)\n",
    ";\n",
    "'''"
   ]
  },
  {
   "cell_type": "markdown",
   "metadata": {
    "ExecuteTime": {
     "end_time": "2021-05-24T08:27:29.700727Z",
     "start_time": "2021-05-24T08:27:29.695729Z"
    }
   },
   "source": [
    "### 函数"
   ]
  },
  {
   "cell_type": "code",
   "execution_count": 16,
   "metadata": {
    "ExecuteTime": {
     "end_time": "2021-06-10T06:17:32.512769Z",
     "start_time": "2021-06-10T06:17:32.499772Z"
    }
   },
   "outputs": [],
   "source": [
    "def esRestart ():\n",
    "    global es\n",
    "    es.close()\n",
    "    es=Elasticsearch(hosts=host,port=port,timeout=60)"
   ]
  },
  {
   "cell_type": "code",
   "execution_count": 17,
   "metadata": {
    "ExecuteTime": {
     "end_time": "2021-06-10T06:17:32.704772Z",
     "start_time": "2021-06-10T06:17:32.693770Z"
    },
    "code_folding": []
   },
   "outputs": [],
   "source": [
    "def stdData (data):\n",
    "    return {\n",
    "        data['enterprise_id'][i] : {\n",
    "            \"softwareCopyright_name\" : data['softwareCopyright_name'][i],\n",
    "            \"simpleName\" : data['simpleName'][i],\n",
    "            \"patent_title\" : data['patent_title'][i],\n",
    "            \"signory\" : data['signory'][i],\n",
    "            \"summary\" : data['summary'][i],\n",
    "            \"product_name\" : data['product_name'][i],\n",
    "            \"yewu\" : data['yewu'][i],\n",
    "            \"hangye\" : data['hangye'][i],\n",
    "        } for i in range(len(data))\n",
    "    }"
   ]
  },
  {
   "cell_type": "code",
   "execution_count": 18,
   "metadata": {
    "ExecuteTime": {
     "end_time": "2021-06-10T06:17:33.576004Z",
     "start_time": "2021-06-10T06:17:33.565018Z"
    },
    "code_folding": []
   },
   "outputs": [],
   "source": [
    "def stdInfo (info):\n",
    "    return {\n",
    "        info['enterprise_id'][i] : {\n",
    "            'is_chinese' : info['is_chinese'][i],\n",
    "            'has_officialPage' : info['has_officialPage'][i],\n",
    "            'name' : info['name'][i],\n",
    "            'industry' : info['industry'][i],\n",
    "            'businessScope' : info['businessScope'][i],\n",
    "            'province' : info['province'][i],\n",
    "            'city' : info['city'][i],\n",
    "            'regCapital' : info['regCapital'][i],\n",
    "            'establishmentTime' : info['establishmentTime'][i],\n",
    "        } for i in range(len(info))\n",
    "    }"
   ]
  },
  {
   "cell_type": "code",
   "execution_count": 19,
   "metadata": {
    "ExecuteTime": {
     "end_time": "2021-06-10T06:17:33.765420Z",
     "start_time": "2021-06-10T06:17:33.757418Z"
    }
   },
   "outputs": [],
   "source": [
    "def getHighLightActions (data, info):\n",
    "    actions = []\n",
    "    for id in info:\n",
    "        action={'_op_type':'index',###操作 index update create delete  \n",
    "            '_index': indexHl,#index\n",
    "            '_id' : str(id),\n",
    "            '_source':\n",
    "           {\n",
    "                \"enterprise_id\" : str(id),\n",
    "                \"is_chinese\" : info[id]['is_chinese'],\n",
    "                \"has_officialPage\" : info[id]['has_officialPage'],\n",
    "                \"name\" : info[id]['name'],\n",
    "                \"industry\" : info[id]['industry'],\n",
    "                \"businessScope\" : info[id]['businessScope'],\n",
    "                \"province\" : info[id]['province'],\n",
    "                \"city\" : info[id]['city'],\n",
    "                \"regCapital\" : info[id]['regCapital'],\n",
    "                \"establishmentTime\" : (None if info[id]['establishmentTime'] is pd.NaT \n",
    "                                       else info[id]['establishmentTime']),\n",
    "            }\n",
    "        }\n",
    "        actions.append(action)\n",
    "    return actions"
   ]
  },
  {
   "cell_type": "code",
   "execution_count": 20,
   "metadata": {
    "ExecuteTime": {
     "end_time": "2021-06-10T06:17:33.939417Z",
     "start_time": "2021-06-10T06:17:33.926431Z"
    },
    "code_folding": []
   },
   "outputs": [],
   "source": [
    "def getActions (data, info):\n",
    "    actions = []\n",
    "    for id in info:\n",
    "        action={'_op_type':'index',###操作 index update create delete  \n",
    "            '_index': index,#index\n",
    "            '_id' : str(id),\n",
    "            '_source':\n",
    "           {\n",
    "                \"enterprise_id\" : str(id),\n",
    "                \"softwareCopyright_name\" : data.get(id, {}).get('softwareCopyright_name', ''),\n",
    "                \"softwareCopyright_simpleName\" : data.get(id, {}).get('simpleName', ''),\n",
    "                \"patent_title\" : data.get(id, {}).get('patent_title', ''),\n",
    "                \"patent_signory\" : data.get(id, {}).get('signory', ''),\n",
    "                \"patent_summary\" : data.get(id, {}).get('summary', ''),\n",
    "                \"product_name\" : data.get(id, {}).get('product_name', ''),\n",
    "                \"product_yewu\" : data.get(id, {}).get('yewu', ''),\n",
    "                \"product_hangye\" : data.get(id, {}).get('hangye', ''),\n",
    "                \"is_chinese\" : info[id]['is_chinese'],\n",
    "                \"has_officialPage\" : info[id]['has_officialPage'],\n",
    "                \"name\" : info[id]['name'],\n",
    "                \"industry\" : info[id]['industry'],\n",
    "                \"businessScope\" : info[id]['businessScope'],\n",
    "                \"province\" : info[id]['province'],\n",
    "                \"city\" : info[id]['city'],\n",
    "                \"regCapital\" : info[id]['regCapital'],\n",
    "                \"establishmentTime\" : (None if info[id]['establishmentTime'] is pd.NaT \n",
    "                                       else info[id]['establishmentTime']),\n",
    "            }\n",
    "        }\n",
    "        actions.append(action)\n",
    "    return actions"
   ]
  },
  {
   "cell_type": "code",
   "execution_count": 21,
   "metadata": {
    "ExecuteTime": {
     "end_time": "2021-06-10T06:17:34.126418Z",
     "start_time": "2021-06-10T06:17:34.109418Z"
    },
    "code_folding": []
   },
   "outputs": [],
   "source": [
    "def __getData (mode, *args):\n",
    "    while 1:\n",
    "        try:\n",
    "            db.sql((sTmpEnterprise if mode else sTmpEnterpriseId) % args)\n",
    "            db.sql(sTmpPublish)\n",
    "            for x in sInsertPublish: db.sql(x)\n",
    "\n",
    "            data = db.sql(sSelectData if mode else sSelectDataMini)\n",
    "\n",
    "            data = groupConcat(data, 'enterprise_id')\n",
    "            info = db.sql(sSelectInfo)\n",
    "            db.sql(sRmTmpEnterprise)\n",
    "            db.sql(sRmTmpPublish)\n",
    "            db.close()\n",
    "        except pymysql.Error as e:\n",
    "            ourError(str(e), 'mysql read error')\n",
    "            db.close()\n",
    "            continue\n",
    "        break\n",
    "    return stdData(data), stdInfo(info)"
   ]
  },
  {
   "cell_type": "code",
   "execution_count": 22,
   "metadata": {
    "ExecuteTime": {
     "end_time": "2021-06-10T06:17:35.143010Z",
     "start_time": "2021-06-10T06:17:35.132000Z"
    }
   },
   "outputs": [],
   "source": [
    "def getRangeData (now, sizeBulk):\n",
    "    return __getData(1, now, sizeBulk)\n",
    "def getIdData (id):\n",
    "    return __getData(0, id)"
   ]
  },
  {
   "cell_type": "code",
   "execution_count": 23,
   "metadata": {
    "ExecuteTime": {
     "end_time": "2021-06-10T06:17:35.497668Z",
     "start_time": "2021-06-10T06:17:35.484668Z"
    },
    "code_folding": []
   },
   "outputs": [],
   "source": [
    "def miniInsert (data, info):\n",
    "    for id in tqdm(info, leave=False):\n",
    "        actions = getActions(data, {id : info[id]})\n",
    "        while 1:\n",
    "            try:\n",
    "                helpers.bulk(client=es,actions=actions)\n",
    "                break\n",
    "            except ConnectionTimeout as e:\n",
    "                ourError(str(e), f'connetion error with id({id})')\n",
    "            except TransportError as e:\n",
    "                if 'Data too large' in str(e) or e.status_code == 413:\n",
    "                    ourError(str(e), f'Data too large with id({id})')\n",
    "                    esRestart()\n",
    "\n",
    "                    data, info = getIdData(id)\n",
    "                    actions = getActions(data, info)\n",
    "                    while 1:\n",
    "                        try:\n",
    "                            helpers.bulk(client=es,actions=actions)\n",
    "                            break\n",
    "                        except ConnectionTimeout as e:\n",
    "                            ourError(str(e), f'connetion error mini indexing with id({id})')\n",
    "                else: raise e"
   ]
  },
  {
   "cell_type": "markdown",
   "metadata": {},
   "source": [
    "### 索引"
   ]
  },
  {
   "cell_type": "code",
   "execution_count": 24,
   "metadata": {
    "ExecuteTime": {
     "end_time": "2021-06-10T06:17:36.420394Z",
     "start_time": "2021-06-10T06:17:36.411404Z"
    }
   },
   "outputs": [],
   "source": [
    "table = 'affiliations'"
   ]
  },
  {
   "cell_type": "code",
   "execution_count": 25,
   "metadata": {
    "ExecuteTime": {
     "end_time": "2021-06-10T06:17:38.166081Z",
     "start_time": "2021-06-10T06:17:37.468429Z"
    }
   },
   "outputs": [
    {
     "data": {
      "application/vnd.jupyter.widget-view+json": {
       "model_id": "8b55a2f23f154d81a3a86fc5c4ad1058",
       "version_major": 2,
       "version_minor": 0
      },
      "text/plain": [
       "HBox(children=(FloatProgress(value=0.0, layout=Layout(flex='2'), max=1.0), HTML(value='')), layout=Layout(disp…"
      ]
     },
     "metadata": {},
     "output_type": "display_data"
    },
    {
     "name": "stdout",
     "output_type": "stream",
     "text": [
      "\n"
     ]
    },
    {
     "data": {
      "text/plain": [
       "{'landinn_enterprise': 0, 'landinn_enterprise_highlight': 0}"
      ]
     },
     "execution_count": 25,
     "metadata": {},
     "output_type": "execute_result"
    }
   ],
   "source": [
    "deleteIndexRows(db, es, table, 'affiliation_id', index=[index,indexHl])"
   ]
  },
  {
   "cell_type": "code",
   "execution_count": 25,
   "metadata": {
    "ExecuteTime": {
     "end_time": "2021-05-24T10:55:50.521467Z",
     "start_time": "2021-05-24T10:55:50.375216Z"
    }
   },
   "outputs": [],
   "source": [
    "sizeBulk = 20\n",
    "now = 0\n",
    "nEnterprise = db.count(table, where='!ifnull(is_deleted,0)').values.item()"
   ]
  },
  {
   "cell_type": "code",
   "execution_count": 26,
   "metadata": {
    "ExecuteTime": {
     "end_time": "2021-05-24T10:55:52.931679Z",
     "start_time": "2021-05-24T10:55:52.927678Z"
    }
   },
   "outputs": [],
   "source": [
    "# now = 49000"
   ]
  },
  {
   "cell_type": "code",
   "execution_count": 27,
   "metadata": {
    "ExecuteTime": {
     "end_time": "2021-05-24T10:55:53.148681Z",
     "start_time": "2021-05-24T10:55:53.140682Z"
    }
   },
   "outputs": [],
   "source": [
    "# sizeBulk = 50"
   ]
  },
  {
   "cell_type": "code",
   "execution_count": 29,
   "metadata": {
    "ExecuteTime": {
     "end_time": "2021-05-24T10:56:06.877193Z",
     "start_time": "2021-05-24T10:56:06.861194Z"
    }
   },
   "outputs": [
    {
     "data": {
      "text/plain": [
       "(0, 20, 100705)"
      ]
     },
     "execution_count": 29,
     "metadata": {},
     "output_type": "execute_result"
    }
   ],
   "source": [
    "now, sizeBulk, nEnterprise"
   ]
  },
  {
   "cell_type": "code",
   "execution_count": 32,
   "metadata": {
    "ExecuteTime": {
     "end_time": "2021-05-24T16:02:23.038736Z",
     "start_time": "2021-05-24T10:57:36.288806Z"
    },
    "scrolled": false
   },
   "outputs": [
    {
     "data": {
      "application/vnd.jupyter.widget-view+json": {
       "model_id": "753c0e3a43a24f03a3c2bb39d5bfe529",
       "version_major": 2,
       "version_minor": 0
      },
      "text/plain": [
       "HBox(children=(FloatProgress(value=0.0, layout=Layout(flex='2'), max=5036.0), HTML(value='')), layout=Layout(d…"
      ]
     },
     "metadata": {},
     "output_type": "display_data"
    },
    {
     "name": "stdout",
     "output_type": "stream",
     "text": [
      "\n"
     ]
    }
   ],
   "source": [
    "startOfAll = time()\n",
    "tr = trange(now, nEnterprise, sizeBulk, ncols=ncols)\n",
    "for i in tr:\n",
    "    tr.set_description(f'({getNow()}){now}')\n",
    "    now = i\n",
    "    \n",
    "    data, info = getRangeData(now, sizeBulk)\n",
    "\n",
    "    while 1:\n",
    "        try:\n",
    "            helpers.bulk(client=es,actions=getHighLightActions(data,info))\n",
    "            break\n",
    "        except ConnectionTimeout as e:\n",
    "            ourError(str(e), f'connetion error indexing hl with Range({now},{now + sizeBulk})')\n",
    "    actions = getActions(data, info)\n",
    "    while 1:\n",
    "        try:\n",
    "            helpers.bulk(client=es,actions=actions)\n",
    "            break\n",
    "        except ConnectionTimeout as e:\n",
    "            ourError(str(e), f'connetion error with Range({now},{now + sizeBulk})')\n",
    "        except TransportError as e:\n",
    "            if 'Data too large' in str(e) or e.status_code == 413:\n",
    "                ourError(str(e), f'Data too large with Range({now},{now + sizeBulk})')\n",
    "                esRestart()\n",
    "                miniInsert (data, info)\n",
    "                break\n",
    "            else: raise e\n",
    "sendEmail(f'insert cost time {convertSeconds(time() - startOfAll)}', 'insert landinn enterprise es complete')"
   ]
  },
  {
   "cell_type": "markdown",
   "metadata": {},
   "source": [
    "### 关闭es和mysql"
   ]
  },
  {
   "cell_type": "code",
   "execution_count": 34,
   "metadata": {
    "ExecuteTime": {
     "end_time": "2021-04-22T10:01:31.995439Z",
     "start_time": "2021-04-22T10:01:31.991854Z"
    }
   },
   "outputs": [],
   "source": [
    "es.close()"
   ]
  },
  {
   "cell_type": "code",
   "execution_count": 35,
   "metadata": {
    "ExecuteTime": {
     "end_time": "2021-04-22T10:01:32.265992Z",
     "start_time": "2021-04-22T10:01:32.263268Z"
    }
   },
   "outputs": [],
   "source": [
    "db.close()"
   ]
  },
  {
   "cell_type": "markdown",
   "metadata": {},
   "source": [
    "### 检查是否全部索引"
   ]
  },
  {
   "cell_type": "code",
   "execution_count": 106,
   "metadata": {
    "ExecuteTime": {
     "end_time": "2021-04-12T09:15:08.165738Z",
     "start_time": "2021-04-12T09:07:02.308220Z"
    }
   },
   "outputs": [
    {
     "data": {
      "application/vnd.jupyter.widget-view+json": {
       "model_id": "8729658caf884a7c869f879c8d42e0f1",
       "version_major": 2,
       "version_minor": 0
      },
      "text/plain": [
       "HBox(children=(FloatProgress(value=0.0, max=2002.0), HTML(value='')))"
      ]
     },
     "metadata": {},
     "output_type": "display_data"
    },
    {
     "name": "stdout",
     "output_type": "stream",
     "text": [
      "49000 2460\n",
      "49000 88960587\n",
      "\n"
     ]
    }
   ],
   "source": [
    "sizeBulk = 50\n",
    "now = 0\n",
    "nEnterprise = db.count('affiliations', where='is_deleted!=1').values.item()\n",
    "for i in trange(now, nEnterprise, sizeBulk):\n",
    "    now = i\n",
    "        \n",
    "    db.sql(sTmpEnterprise % (now, sizeBulk))\n",
    "\n",
    "    info = db.sql(sSelectInfo)\n",
    "    db.sql(sRmTmpEnterprise)\n",
    "    db.close()\n",
    "    \n",
    "    info = stdInfo(info)\n",
    "    for id in info:\n",
    "        x = es.search(index=index, size=20, body = {\n",
    "            \"query\": {\n",
    "                \"term\":\n",
    "                {\n",
    "                    \"enterprise_id\": str(id)\n",
    "                }\n",
    "            }\n",
    "        })['hits']['total']['value']\n",
    "        if x == 0: print(now, id)"
   ]
  },
  {
   "cell_type": "markdown",
   "metadata": {},
   "source": [
    "### others"
   ]
  },
  {
   "cell_type": "code",
   "execution_count": 279,
   "metadata": {
    "ExecuteTime": {
     "end_time": "2021-04-19T09:31:59.735181Z",
     "start_time": "2021-04-19T09:31:59.732207Z"
    }
   },
   "outputs": [],
   "source": [
    "esRestart()"
   ]
  },
  {
   "cell_type": "code",
   "execution_count": 50,
   "metadata": {
    "ExecuteTime": {
     "end_time": "2021-04-23T09:31:26.903836Z",
     "start_time": "2021-04-23T09:31:26.901527Z"
    }
   },
   "outputs": [],
   "source": [
    "err = OperationalError()"
   ]
  },
  {
   "cell_type": "code",
   "execution_count": null,
   "metadata": {},
   "outputs": [],
   "source": []
  },
  {
   "cell_type": "code",
   "execution_count": 73,
   "metadata": {
    "ExecuteTime": {
     "end_time": "2021-04-22T06:55:29.402781Z",
     "start_time": "2021-04-22T06:55:29.400379Z"
    }
   },
   "outputs": [],
   "source": [
    "paNotCom = r'(大学)|(学院)|(研究生院)|(学校)|(小学)|(中学)|(幼儿园)|'"
   ]
  },
  {
   "cell_type": "code",
   "execution_count": 96,
   "metadata": {
    "ExecuteTime": {
     "end_time": "2021-04-22T07:28:48.977641Z",
     "start_time": "2021-04-22T07:28:48.974841Z"
    }
   },
   "outputs": [],
   "source": [
    "paNotCom = r'大学|学院|研究生院|学校|小学|中学|幼儿园|'\\\n",
    "           r'高中|初中|一中$|二中$|三中$|'\\\n",
    "           r'研究所|研究院|研究中心|实验室|学会|创新中心'\n",
    "re.search(paNotCom, '第一中')"
   ]
  },
  {
   "cell_type": "code",
   "execution_count": 99,
   "metadata": {
    "ExecuteTime": {
     "end_time": "2021-04-22T07:29:13.098164Z",
     "start_time": "2021-04-22T07:29:13.094774Z"
    }
   },
   "outputs": [
    {
     "data": {
      "text/plain": [
       "'一中'"
      ]
     },
     "execution_count": 99,
     "metadata": {},
     "output_type": "execute_result"
    }
   ],
   "source": [
    "x.group()"
   ]
  },
  {
   "cell_type": "code",
   "execution_count": null,
   "metadata": {},
   "outputs": [],
   "source": [
    "paCom = r'公司|企业|单位|厂$|医院'\\\n",
    "        r''\\\n",
    "        r''"
   ]
  },
  {
   "cell_type": "code",
   "execution_count": 82,
   "metadata": {
    "ExecuteTime": {
     "end_time": "2021-04-22T06:57:49.756626Z",
     "start_time": "2021-04-22T06:57:49.753955Z"
    }
   },
   "outputs": [],
   "source": [
    "re.search(paNotCom, '很好')"
   ]
  },
  {
   "cell_type": "code",
   "execution_count": null,
   "metadata": {},
   "outputs": [],
   "source": []
  }
 ],
 "metadata": {
  "kernelspec": {
   "display_name": "Python 3",
   "language": "python",
   "name": "python3"
  },
  "language_info": {
   "codemirror_mode": {
    "name": "ipython",
    "version": 3
   },
   "file_extension": ".py",
   "mimetype": "text/x-python",
   "name": "python",
   "nbconvert_exporter": "python",
   "pygments_lexer": "ipython3",
   "version": "3.8.3"
  },
  "latex_envs": {
   "LaTeX_envs_menu_present": true,
   "autoclose": false,
   "autocomplete": true,
   "bibliofile": "biblio.bib",
   "cite_by": "apalike",
   "current_citInitial": 1,
   "eqLabelWithNumbers": true,
   "eqNumInitial": 1,
   "hotkeys": {
    "equation": "Ctrl-E",
    "itemize": "Ctrl-I"
   },
   "labels_anchors": false,
   "latex_user_defs": false,
   "report_style_numbering": false,
   "user_envs_cfg": false
  },
  "toc": {
   "base_numbering": 1,
   "nav_menu": {},
   "number_sections": false,
   "sideBar": true,
   "skip_h1_title": false,
   "title_cell": "Table of Contents",
   "title_sidebar": "Contents",
   "toc_cell": false,
   "toc_position": {},
   "toc_section_display": true,
   "toc_window_display": true
  },
  "varInspector": {
   "cols": {
    "lenName": 16,
    "lenType": 16,
    "lenVar": 40
   },
   "kernels_config": {
    "python": {
     "delete_cmd_postfix": "",
     "delete_cmd_prefix": "del ",
     "library": "var_list.py",
     "varRefreshCmd": "print(var_dic_list())"
    },
    "r": {
     "delete_cmd_postfix": ") ",
     "delete_cmd_prefix": "rm(",
     "library": "var_list.r",
     "varRefreshCmd": "cat(var_dic_list()) "
    }
   },
   "oldHeight": 817.969,
   "position": {
    "height": "839.948px",
    "left": "1727.3px",
    "right": "20px",
    "top": "116.979px",
    "width": "337.726px"
   },
   "types_to_exclude": [
    "module",
    "function",
    "builtin_function_or_method",
    "instance",
    "_Feature"
   ],
   "varInspector_section_display": "block",
   "window_display": true
  }
 },
 "nbformat": 4,
 "nbformat_minor": 4
}
