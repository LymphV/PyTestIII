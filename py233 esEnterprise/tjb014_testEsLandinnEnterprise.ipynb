{
 "cells": [
  {
   "cell_type": "markdown",
   "metadata": {},
   "source": [
    "#### 库"
   ]
  },
  {
   "cell_type": "code",
   "execution_count": 1,
   "metadata": {
    "ExecuteTime": {
     "end_time": "2021-08-18T06:25:24.609926Z",
     "start_time": "2021-08-18T06:25:19.790963Z"
    }
   },
   "outputs": [],
   "source": [
    "\n",
    "from elasticsearch import Elasticsearch\n",
    "from elasticsearch import TransportError, ConnectionError, ConnectionTimeout\n",
    "from elasticsearch import helpers"
   ]
  },
  {
   "cell_type": "code",
   "execution_count": 2,
   "metadata": {
    "ExecuteTime": {
     "end_time": "2021-08-18T06:23:06.207730Z",
     "start_time": "2021-08-18T06:23:06.129715Z"
    }
   },
   "outputs": [],
   "source": [
    "from cfg import host, master, port, contType"
   ]
  },
  {
   "cell_type": "markdown",
   "metadata": {
    "heading_collapsed": true
   },
   "source": [
    "#### 测试"
   ]
  },
  {
   "cell_type": "code",
   "execution_count": 3,
   "metadata": {
    "ExecuteTime": {
     "end_time": "2021-08-18T06:23:42.577263Z",
     "start_time": "2021-08-18T06:23:42.574261Z"
    },
    "deletable": false,
    "editable": false,
    "hidden": true,
    "run_control": {
     "frozen": true
    }
   },
   "outputs": [],
   "source": [
    "ind = 'test'"
   ]
  },
  {
   "cell_type": "code",
   "execution_count": 21,
   "metadata": {
    "ExecuteTime": {
     "end_time": "2021-08-18T07:13:28.102908Z",
     "start_time": "2021-08-18T07:13:27.839909Z"
    },
    "deletable": false,
    "editable": false,
    "hidden": true,
    "run_control": {
     "frozen": true
    }
   },
   "outputs": [
    {
     "name": "stdout",
     "output_type": "stream",
     "text": [
      "{\n",
      "  \"acknowledged\" : true\n",
      "}\n"
     ]
    },
    {
     "name": "stderr",
     "output_type": "stream",
     "text": [
      "  % Total    % Received % Xferd  Average Speed   Time    Time     Time  Current\n",
      "                                 Dload  Upload   Total   Spent    Left  Speed\n",
      "\n",
      "  0     0    0     0    0     0      0      0 --:--:-- --:--:-- --:--:--     0\n",
      "100    28  100    28    0     0     28      0  0:00:01 --:--:--  0:00:01   224\n"
     ]
    }
   ],
   "source": [
    "!curl -XDELETE \"{master}/{ind}?pretty\""
   ]
  },
  {
   "cell_type": "code",
   "execution_count": 22,
   "metadata": {
    "ExecuteTime": {
     "end_time": "2021-08-18T07:13:30.828254Z",
     "start_time": "2021-08-18T07:13:30.465252Z"
    },
    "deletable": false,
    "editable": false,
    "hidden": true,
    "run_control": {
     "frozen": true
    }
   },
   "outputs": [
    {
     "name": "stdout",
     "output_type": "stream",
     "text": [
      "{\n",
      "  \"acknowledged\" : true,\n",
      "  \"shards_acknowledged\" : true,\n",
      "  \"index\" : \"test\"\n",
      "}\n"
     ]
    },
    {
     "name": "stderr",
     "output_type": "stream",
     "text": [
      "  % Total    % Received % Xferd  Average Speed   Time    Time     Time  Current\n",
      "                                 Dload  Upload   Total   Spent    Left  Speed\n",
      "\n",
      "  0     0    0     0    0     0      0      0 --:--:-- --:--:-- --:--:--     0\n",
      "100  2862  100    80  100  2782     80   2782  0:00:01 --:--:--  0:00:01 11448\n"
     ]
    }
   ],
   "source": [
    "!curl -XPUT \"{master}/{ind}?pretty\" {contType} -d @{ind}.json"
   ]
  },
  {
   "cell_type": "code",
   "execution_count": 6,
   "metadata": {
    "ExecuteTime": {
     "end_time": "2021-08-18T06:25:50.832737Z",
     "start_time": "2021-08-18T06:25:50.823748Z"
    },
    "deletable": false,
    "editable": false,
    "hidden": true,
    "run_control": {
     "frozen": true
    }
   },
   "outputs": [],
   "source": [
    "es = Elasticsearch(hosts=host,port=port,timeout=300)"
   ]
  },
  {
   "cell_type": "code",
   "execution_count": 7,
   "metadata": {
    "ExecuteTime": {
     "end_time": "2021-08-18T06:27:53.707117Z",
     "start_time": "2021-08-18T06:27:53.688112Z"
    },
    "deletable": false,
    "editable": false,
    "hidden": true,
    "run_control": {
     "frozen": true
    }
   },
   "outputs": [],
   "source": [
    "contents = ['林伯威', 'cars中国科学院计算技术研究所<a></a>the a an hhh HHj', 'a b c d', '你好']"
   ]
  },
  {
   "cell_type": "code",
   "execution_count": 23,
   "metadata": {
    "ExecuteTime": {
     "end_time": "2021-08-18T07:14:15.009384Z",
     "start_time": "2021-08-18T07:14:14.927363Z"
    },
    "deletable": false,
    "editable": false,
    "hidden": true,
    "run_control": {
     "frozen": true
    }
   },
   "outputs": [
    {
     "data": {
      "text/plain": [
       "(4, [])"
      ]
     },
     "execution_count": 23,
     "metadata": {},
     "output_type": "execute_result"
    }
   ],
   "source": [
    "helpers.bulk(client=es,actions=[\n",
    "    {'_op_type':'index',###操作 index update create delete\n",
    "        '_index': ind,#index\n",
    "        '_id' : str(x),\n",
    "        '_source':\n",
    "        {\n",
    "            \"a\" : x,\n",
    "            \"a1\" : x,\n",
    "            \"a2\" : x,\n",
    "            \"b\" : x,\n",
    "            \"b1\" : x,\n",
    "            \"b2\" : x,\n",
    "            \"c\" : x,\n",
    "        }\n",
    "    } for x in contents\n",
    "])"
   ]
  },
  {
   "cell_type": "markdown",
   "metadata": {},
   "source": [
    "#### 正式"
   ]
  },
  {
   "cell_type": "code",
   "execution_count": 6,
   "metadata": {},
   "outputs": [],
   "source": [
    "from cfg import host, master, port, contType"
   ]
  },
  {
   "cell_type": "code",
   "execution_count": 1,
   "metadata": {
    "ExecuteTime": {
     "end_time": "2021-08-25T09:11:14.835692Z",
     "start_time": "2021-08-25T09:11:14.516690Z"
    }
   },
   "outputs": [],
   "source": [
    "index = \"landinn_enterprise\"\n",
    "indexHl = \"landinn_enterprise_highlight\""
   ]
  },
  {
   "cell_type": "code",
   "execution_count": 7,
   "metadata": {
    "ExecuteTime": {
     "end_time": "2021-05-24T10:44:42.264811Z",
     "start_time": "2021-05-24T10:44:41.845140Z"
    }
   },
   "outputs": [
    {
     "name": "stdout",
     "output_type": "stream",
     "text": [
      "{"
     ]
    },
    {
     "name": "stderr",
     "output_type": "stream",
     "text": [
      "  % Total    % Received % Xferd  Average Speed   Time    Time     Time  Current\n",
      "                                 Dload  Upload   Total   Spent    Left  Speed\n",
      "\n",
      "  0     0    0     0    0     0      0      0 --:--:-- --:--:-- --:--:--     0\n",
      "100   533  100   533    0     0    533      0  0:00:01 --:--:--  0:00:01  4264\n"
     ]
    },
    {
     "name": "stdout",
     "output_type": "stream",
     "text": [
      "\n",
      "  \"name\" : \"es00\",\n",
      "  \"cluster_name\" : \"docker-cluster\",\n",
      "  \"cluster_uuid\" : \"xODZoFp_R62Nx7wPtH5-FA\",\n",
      "  \"version\" : {\n",
      "    \"number\" : \"7.5.0\",\n",
      "    \"build_flavor\" : \"default\",\n",
      "    \"build_type\" : \"docker\",\n",
      "    \"build_hash\" : \"e9ccaed468e2fac2275a3761849cbee64b39519f\",\n",
      "    \"build_date\" : \"2019-11-26T01:06:52.518245Z\",\n",
      "    \"build_snapshot\" : false,\n",
      "    \"lucene_version\" : \"8.3.0\",\n",
      "    \"minimum_wire_compatibility_version\" : \"6.8.0\",\n",
      "    \"minimum_index_compatibility_version\" : \"6.0.0-beta1\"\n",
      "  },\n",
      "  \"tagline\" : \"You Know, for Search\"\n",
      "}\n"
     ]
    }
   ],
   "source": [
    "!curl -XGET {master}?pretty"
   ]
  },
  {
   "cell_type": "code",
   "execution_count": 8,
   "metadata": {
    "ExecuteTime": {
     "end_time": "2021-05-24T10:44:43.998587Z",
     "start_time": "2021-05-24T10:44:43.742590Z"
    }
   },
   "outputs": [
    {
     "name": "stdout",
     "output_type": "stream",
     "text": [
      "172.17.184.32 70 65 0 0.00 0.01 0.00 dilm - es02\n",
      "172.17.184.30 44 99 5 0.32 0.38 0.38 dilm * es00\n",
      "172.17.184.31 29 88 0 0.00 0.00 0.00 dilm - es01\n",
      "172.17.184.33 39 75 0 0.00 0.00 0.00 dilm - es03\n"
     ]
    },
    {
     "name": "stderr",
     "output_type": "stream",
     "text": [
      "  % Total    % Received % Xferd  Average Speed   Time    Time     Time  Current\n",
      "                                 Dload  Upload   Total   Spent    Left  Speed\n",
      "\n",
      "  0     0    0     0    0     0      0      0 --:--:-- --:--:-- --:--:--     0\n",
      "100   196  100   196    0     0    196      0  0:00:01 --:--:--  0:00:01  2085\n"
     ]
    }
   ],
   "source": [
    "!curl -XGET \"{master}/_cat/nodes?pretty\""
   ]
  },
  {
   "cell_type": "code",
   "execution_count": 9,
   "metadata": {
    "ExecuteTime": {
     "end_time": "2021-04-08T07:43:22.127690Z",
     "start_time": "2021-04-08T07:43:21.250145Z"
    }
   },
   "outputs": [
    {
     "name": "stdout",
     "output_type": "stream",
     "text": [
      "health status index                            uuid                   pri rep docs.count docs.deleted store.size pri.store.size\n",
      "green  open   landinn_product                  9tWBKaygRB-goCZcK1JS3A   1   1       2094            0    978.7kb        488.9kb\n",
      "green  open   landinn_software_copyright       AxGnGUHZRcmfEHgfEyzW7A   1   1      47818            0     15.5mb          7.7mb\n",
      "green  open   landinn_scholar_abroad_highlight vhUOfWFmT6iqi2BBbMMU0g   1   1       1686            0    288.1kb          144kb\n",
      "green  open   landinn_bs_microknow             XcFM2bJuQ_u9V1XpbxaB6Q   5   1     121914          181    276.9mb        138.4mb\n",
      "green  open   .apm-agent-configuration         ajYayb-4SK-rj0vA4hB63w   1   1          0            0       566b           283b\n",
      "green  open   landinn_bs_inc                   H5xKM5jrQCOpXy-cowi_2g   5   1        154            0      3.3mb          1.6mb\n"
     ]
    },
    {
     "name": "stderr",
     "output_type": "stream",
     "text": [
      "  % Total    % Received % Xferd  Average Speed   Time    Time     Time  Current\n",
      "                                 Dload  Upload   Total   Spent    Left  Speed\n",
      "\n",
      "  0     0    0     0    0     0      0      0 --:--:-- --:--:-- --:--:--     0\n",
      "100  2432  100  2432    0     0   2432      0  0:00:01 --:--:--  0:00:01 25872\n"
     ]
    },
    {
     "name": "stdout",
     "output_type": "stream",
     "text": [
      "green  open   landinn_scholar_highlight        FLma2wPLQBe0t_ZiaJJdEA   1   1     499612            0    223.3mb        111.9mb\n",
      "green  open   landinn_enterprise               n5sJt-uVS5KZnC2uXdUPFQ   1   1          0            0       566b           283b\n",
      "green  open   landinn_paper                    US4yuHWET2-AfcJO56BB0g   1   1    5445718            0     11.4gb          5.7gb\n",
      "green  open   landinn_patent                   -oyiM9LYR2qSISO0ueEqSQ   1   1    4790700         1400       10gb            5gb\n",
      "green  open   .kibana_1                        XWwuoUoGR9OREPQ179V-rg   1   1         15            3     81.7kb         40.8kb\n",
      "green  open   landinn_scholar                  O6x-qYUSSV2zYpnwVcz83w   1   1     499612            0     13.6gb            7gb\n",
      "green  open   landinn_bs_project               DhgSq6MESsKF_5q2LnUdMg   5   1         21          189    972.3kb        486.1kb\n",
      "green  open   landinn_enterprise_highlight     6avQSVweSkiMLsvjglmOpw   1   1          0            0       566b           283b\n",
      "green  open   landinn_bs_circle                ZOw-iGQAT5uSrPWPuM0M8A   5   1          7            0    120.4kb         60.2kb\n",
      "green  open   .kibana_task_manager_1           r7aSPOZTQpe7ZiJBGSa4Dg   1   1          2            1     53.7kb         26.8kb\n",
      "green  open   landinn_project                  YzE2HU8ERXmYBaaVWM96lg   1   1     255282            0    111.6mb         55.8mb\n",
      "green  open   landinn_scholar_abroad           xuJUVYQTS6qGocLlJ47kIg   1   1       1686            0      2.6mb          1.3mb\n"
     ]
    }
   ],
   "source": [
    "!curl -XGET \"{master}/_cat/indices?v&pretty\""
   ]
  },
  {
   "cell_type": "markdown",
   "metadata": {},
   "source": [
    "#### 建库"
   ]
  },
  {
   "cell_type": "code",
   "execution_count": 3,
   "metadata": {
    "ExecuteTime": {
     "end_time": "2021-08-25T09:11:23.765693Z",
     "start_time": "2021-08-25T09:11:23.266692Z"
    }
   },
   "outputs": [
    {
     "name": "stdout",
     "output_type": "stream",
     "text": [
      "-XPUT \"{master}/{index}?pretty\" {contType} -d @{index}.json\n"
     ]
    }
   ],
   "source": [
    "!echo -XPUT \"{master}/{index}?pretty\" {contType} -d @{index}.json"
   ]
  },
  {
   "cell_type": "code",
   "execution_count": 11,
   "metadata": {
    "ExecuteTime": {
     "end_time": "2021-08-25T09:12:46.624694Z",
     "start_time": "2021-08-25T09:12:46.215691Z"
    }
   },
   "outputs": [
    {
     "name": "stdout",
     "output_type": "stream",
     "text": [
      "{\n",
      "  \"acknowledged\" : true,\n",
      "  \"shards_acknowledged\" : true,\n",
      "  \"index\" : \"landinn_enterprise\"\n"
     ]
    },
    {
     "name": "stderr",
     "output_type": "stream",
     "text": [
      "  % Total    % Received % Xferd  Average Speed   Time    Time     Time  Current\n",
      "                                 Dload  Upload   Total   Spent    Left  Speed\n",
      "\n",
      "  0     0    0     0    0     0      0      0 --:--:-- --:--:-- --:--:--     0\n",
      "100  3946  100    94  100  3852     94   3852  0:00:01 --:--:--  0:00:01 15784\n"
     ]
    },
    {
     "name": "stdout",
     "output_type": "stream",
     "text": [
      "}\n"
     ]
    }
   ],
   "source": [
    "!curl -XPUT \"{master}/{index}?pretty\" {contType} -d @{index}.json"
   ]
  },
  {
   "cell_type": "code",
   "execution_count": 9,
   "metadata": {
    "ExecuteTime": {
     "end_time": "2021-08-25T09:12:21.730707Z",
     "start_time": "2021-08-25T09:12:20.808691Z"
    }
   },
   "outputs": [
    {
     "name": "stdout",
     "output_type": "stream",
     "text": [
      "{"
     ]
    },
    {
     "name": "stderr",
     "output_type": "stream",
     "text": [
      "  % Total    % Received % Xferd  Average Speed   Time    Time     Time  Current\n",
      "                                 Dload  Upload   Total   Spent    Left  Speed\n",
      "\n",
      "  0     0    0     0    0     0      0      0 --:--:-- --:--:-- --:--:--     0\n",
      "  0     0    0     0    0     0      0      0 --:--:-- --:--:-- --:--:--     0\n",
      "100    28  100    28    0     0     28      0  0:00:01 --:--:--  0:00:01    35\n"
     ]
    },
    {
     "name": "stdout",
     "output_type": "stream",
     "text": [
      "\n",
      "  \"acknowledged\" : true\n",
      "}\n"
     ]
    }
   ],
   "source": [
    "# !curl -XDELETE \"{master}/{index}?pretty\""
   ]
  },
  {
   "cell_type": "code",
   "execution_count": 12,
   "metadata": {
    "ExecuteTime": {
     "end_time": "2021-08-25T09:12:43.801691Z",
     "start_time": "2021-08-25T09:12:43.374694Z"
    }
   },
   "outputs": [
    {
     "name": "stderr",
     "output_type": "stream",
     "text": [
      "  % Total    % Received % Xferd  Average Speed   Time    Time     Time  Current\n",
      "                                 Dload  Upload   Total   Spent    Left  Speed\n",
      "\n",
      "  0     0    0     0    0     0      0      0 --:--:-- --:--:-- --:--:--     0\n",
      "100  3076  100   104  100  2972    104   2972  0:00:01 --:--:--  0:00:01  5781\n"
     ]
    },
    {
     "name": "stdout",
     "output_type": "stream",
     "text": [
      "{\n",
      "  \"acknowledged\" : true,\n",
      "  \"shards_acknowledged\" : true,\n",
      "  \"index\" : \"landinn_enterprise_highlight\"\n",
      "}\n"
     ]
    }
   ],
   "source": [
    "!curl -XPUT \"{master}/{indexHl}?pretty\" {contType} -d @{indexHl}.json"
   ]
  },
  {
   "cell_type": "code",
   "execution_count": 10,
   "metadata": {
    "ExecuteTime": {
     "end_time": "2021-08-25T09:12:25.939690Z",
     "start_time": "2021-08-25T09:12:25.584698Z"
    }
   },
   "outputs": [
    {
     "name": "stdout",
     "output_type": "stream",
     "text": [
      "{"
     ]
    },
    {
     "name": "stderr",
     "output_type": "stream",
     "text": [
      "  % Total    % Received % Xferd  Average Speed   Time    Time     Time  Current\n",
      "                                 Dload  Upload   Total   Spent    Left  Speed\n",
      "\n",
      "  0     0    0     0    0     0      0      0 --:--:-- --:--:-- --:--:--     0\n",
      "100    28  100    28    0     0     28      0  0:00:01 --:--:--  0:00:01   224\n"
     ]
    },
    {
     "name": "stdout",
     "output_type": "stream",
     "text": [
      "\n",
      "  \"acknowledged\" : true\n",
      "}\n"
     ]
    }
   ],
   "source": [
    "# !curl -XDELETE \"{master}/{indexHl}?pretty\""
   ]
  },
  {
   "cell_type": "markdown",
   "metadata": {},
   "source": [
    "#### 计数"
   ]
  },
  {
   "cell_type": "code",
   "execution_count": 10,
   "metadata": {
    "ExecuteTime": {
     "end_time": "2021-05-25T06:16:53.123820Z",
     "start_time": "2021-05-25T06:16:52.816831Z"
    }
   },
   "outputs": [
    {
     "name": "stdout",
     "output_type": "stream",
     "text": [
      "{"
     ]
    },
    {
     "name": "stderr",
     "output_type": "stream",
     "text": [
      "  % Total    % Received % Xferd  Average Speed   Time    Time     Time  Current\n",
      "                                 Dload  Upload   Total   Spent    Left  Speed\n",
      "\n",
      "  0     0    0     0    0     0      0      0 --:--:-- --:--:-- --:--:--     0\n",
      "100   117  100   117    0     0    117      0  0:00:01 --:--:--  0:00:01   146\n"
     ]
    },
    {
     "name": "stdout",
     "output_type": "stream",
     "text": [
      "\n",
      "  \"count\" : 1560,\n",
      "  \"_shards\" : {\n",
      "    \"total\" : 1,\n",
      "    \"successful\" : 1,\n",
      "    \"skipped\" : 0,\n",
      "    \"failed\" : 0\n",
      "  }\n",
      "}\n"
     ]
    }
   ],
   "source": [
    "!curl -XGET \"{master}/{index}/_count?pretty\""
   ]
  },
  {
   "cell_type": "code",
   "execution_count": 11,
   "metadata": {
    "ExecuteTime": {
     "end_time": "2021-05-11T08:57:32.554005Z",
     "start_time": "2021-05-11T08:57:31.201585Z"
    }
   },
   "outputs": [
    {
     "name": "stdout",
     "output_type": "stream",
     "text": [
      "{"
     ]
    },
    {
     "name": "stderr",
     "output_type": "stream",
     "text": [
      "  % Total    % Received % Xferd  Average Speed   Time    Time     Time  Current\n",
      "                                 Dload  Upload   Total   Spent    Left  Speed\n",
      "\n",
      "  0     0    0     0    0     0      0      0 --:--:-- --:--:-- --:--:--     0\n",
      "100   117  100   117    0     0    117      0  0:00:01 --:--:--  0:00:01   625\n"
     ]
    },
    {
     "name": "stdout",
     "output_type": "stream",
     "text": [
      "\n",
      "  \"count\" : 1560,\n",
      "  \"_shards\" : {\n",
      "    \"total\" : 1,\n",
      "    \"successful\" : 1,\n",
      "    \"skipped\" : 0,\n",
      "    \"failed\" : 0\n",
      "  }\n",
      "}\n"
     ]
    }
   ],
   "source": [
    "!curl -XGET \"{master}/{indexHl}/_count?pretty\""
   ]
  },
  {
   "cell_type": "markdown",
   "metadata": {},
   "source": [
    "#### 检索"
   ]
  },
  {
   "cell_type": "code",
   "execution_count": 41,
   "metadata": {
    "ExecuteTime": {
     "end_time": "2021-04-08T08:40:25.306303Z",
     "start_time": "2021-04-08T08:40:25.304102Z"
    },
    "scrolled": true
   },
   "outputs": [],
   "source": [
    "!curl -XGET \"{master}/{index}/_search?q=enterprise_id:202&pretty\""
   ]
  },
  {
   "cell_type": "code",
   "execution_count": 10,
   "metadata": {
    "ExecuteTime": {
     "end_time": "2020-12-14T07:41:18.878555Z",
     "start_time": "2020-12-14T07:41:17.969989Z"
    },
    "collapsed": true,
    "jupyter": {
     "outputs_hidden": true
    }
   },
   "outputs": [
    {
     "name": "stdout",
     "output_type": "stream",
     "text": [
      "{\n",
      "  \"took\" : 130,\n",
      "  \"timed_out\" : false,\n",
      "  \"_shards\" : {\n",
      "    \"total\" : 1,\n",
      "    \"successful\" : 1,\n",
      "    \"skipped\" : 0,\n",
      "    \"failed\" : 0\n",
      "  },\n",
      "  \"hits\" : {\n",
      "    \"total\" : {\n",
      "      \"value\" : 0,\n",
      "      \"relation\" : \"eq\"\n",
      "    },\n",
      "    \"max_score\" : null,\n",
      "    \"hits\" : [ ]\n",
      "  }\n",
      "}\n"
     ]
    }
   ],
   "source": [
    "!curl -XGET \"{master}/{index}/_search?q=scholar_id:671896&pretty\""
   ]
  },
  {
   "cell_type": "code",
   "execution_count": 1,
   "metadata": {
    "ExecuteTime": {
     "end_time": "2021-01-15T05:35:47.734897Z",
     "start_time": "2021-01-15T05:35:46.821919Z"
    }
   },
   "outputs": [
    {
     "name": "stdout",
     "output_type": "stream",
     "text": [
      "total 5.7M\n",
      "drwxr-xr-x.  4 root root 4.0K Jan 15 05:35 \u001b[0m\u001b[01;34m.\u001b[0m/\n",
      "drwxr-xr-x. 13 1003 1003 4.0K Jan  8 03:42 \u001b[01;34m..\u001b[0m/\n",
      "drwxr-xr-x.  2 root root 4.0K Jan  8 04:14 \u001b[01;34m.ipynb_checkpoints\u001b[0m/\n",
      "drwxr-xr-x.  2 root root 4.0K Jan  8 07:02 \u001b[01;34m__pycache__\u001b[0m/\n",
      "-rw-r--r--.  1 root root 2.2K Jan 15 02:50 landinn_paper.json\n",
      "-rw-r--r--.  1 root root 2.2K Jan 15 02:50 landinn_patent.json\n",
      "-rw-r--r--.  1 root root 2.2K Jan 15 02:50 landinn_project.json\n",
      "-rw-r--r--.  1 root root 3.0K Jan 15 02:49 landinn_scholar.json\n",
      "-rw-r--r--.  1 root root 443K Jan 15 04:36 tjb010_addEsLandinnPaper.ipynb\n",
      "-rw-r--r--.  1 root root 443K Jan 13 10:19 tjb010_addEsLandinnPatent.ipynb\n",
      "-rw-r--r--.  1 root root 606K Jan 13 07:57 tjb010_addEsLandinnProject.ipynb\n",
      "-rw-r--r--.  1 root root 3.5M Jan 10 05:38 tjb010_addEsLandinnScholar.ipynb\n",
      "-rw-r--r--.  1 root root 676K Jan 15 02:52 tjb010_testEsLandinnPaper.ipynb\n",
      "-rw-r--r--.  1 root root 7.4K Jan 13 10:57 tjb010_testEsLandinnPatent.ipynb\n",
      "-rw-r--r--.  1 root root 7.5K Jan 13 07:58 tjb010_testEsLandinnProject.ipynb\n",
      "-rw-r--r--.  1 root root 8.4K Jan 15 05:35 tjb010_testEsLandinnScholar.ipynb\n",
      "-rw-r--r--.  1 root root  523 Jan  8 03:41 util.py\n"
     ]
    }
   ],
   "source": [
    "ls -lha"
   ]
  },
  {
   "cell_type": "code",
   "execution_count": 68,
   "metadata": {
    "ExecuteTime": {
     "end_time": "2021-04-13T10:41:04.742798Z",
     "start_time": "2021-04-13T10:41:03.955060Z"
    }
   },
   "outputs": [
    {
     "name": "stdout",
     "output_type": "stream",
     "text": [
      "{\n",
      "  \"error\" : {\n",
      "    \"root_cause\" : [\n",
      "      {\n",
      "        \"type\" : \"resource_already_exists_exception\",\n",
      "        \"reason\" : \"index [test_e/PPquTXuxRKmrhT6YxuTP1A] already exists\",\n",
      "        \"index_uuid\" : \"PPquTXuxRKmrhT6YxuTP1A\",\n",
      "        \"index\" : \"test_e\"\n",
      "      }\n",
      "    ],\n",
      "    \"type\" : \"resource_already_exists_exception\",\n",
      "    \"reason\" : \"index [test_e/PPquTXuxRKmrhT6YxuTP1A] already exists\",\n",
      "    \"index_uuid\" : \"PPquTXuxRKmrhT6YxuTP1A\",\n",
      "    \"index\" : \"test_e\"\n",
      "  },\n",
      "  \"status\" : 400\n",
      "}\n"
     ]
    }
   ],
   "source": [
    "!curl -XPUT \"{master}/test_e?pretty\" {contType} -d @test_e.json"
   ]
  },
  {
   "cell_type": "code",
   "execution_count": 63,
   "metadata": {
    "ExecuteTime": {
     "end_time": "2021-04-12T10:31:11.217037Z",
     "start_time": "2021-04-12T10:31:10.393701Z"
    }
   },
   "outputs": [
    {
     "name": "stdout",
     "output_type": "stream",
     "text": [
      "curl: (6) Could not resolve host: es00\n"
     ]
    }
   ],
   "source": [
    "!curl -XGET es00:9200/_nodes?pretty"
   ]
  },
  {
   "cell_type": "code",
   "execution_count": null,
   "metadata": {},
   "outputs": [],
   "source": []
  },
  {
   "cell_type": "code",
   "execution_count": null,
   "metadata": {},
   "outputs": [],
   "source": []
  }
 ],
 "metadata": {
  "kernelspec": {
   "display_name": "Python 3",
   "language": "python",
   "name": "python3"
  },
  "language_info": {
   "codemirror_mode": {
    "name": "ipython",
    "version": 3
   },
   "file_extension": ".py",
   "mimetype": "text/x-python",
   "name": "python",
   "nbconvert_exporter": "python",
   "pygments_lexer": "ipython3",
   "version": "3.8.3"
  },
  "latex_envs": {
   "LaTeX_envs_menu_present": true,
   "autoclose": false,
   "autocomplete": true,
   "bibliofile": "biblio.bib",
   "cite_by": "apalike",
   "current_citInitial": 1,
   "eqLabelWithNumbers": true,
   "eqNumInitial": 1,
   "hotkeys": {
    "equation": "Ctrl-E",
    "itemize": "Ctrl-I"
   },
   "labels_anchors": false,
   "latex_user_defs": false,
   "report_style_numbering": false,
   "user_envs_cfg": false
  },
  "toc": {
   "base_numbering": 1,
   "nav_menu": {},
   "number_sections": false,
   "sideBar": true,
   "skip_h1_title": false,
   "title_cell": "Table of Contents",
   "title_sidebar": "Contents",
   "toc_cell": false,
   "toc_position": {},
   "toc_section_display": true,
   "toc_window_display": true
  },
  "varInspector": {
   "cols": {
    "lenName": 16,
    "lenType": 16,
    "lenVar": 40
   },
   "kernels_config": {
    "python": {
     "delete_cmd_postfix": "",
     "delete_cmd_prefix": "del ",
     "library": "var_list.py",
     "varRefreshCmd": "print(var_dic_list())"
    },
    "r": {
     "delete_cmd_postfix": ") ",
     "delete_cmd_prefix": "rm(",
     "library": "var_list.r",
     "varRefreshCmd": "cat(var_dic_list()) "
    }
   },
   "types_to_exclude": [
    "module",
    "function",
    "builtin_function_or_method",
    "instance",
    "_Feature"
   ],
   "window_display": false
  }
 },
 "nbformat": 4,
 "nbformat_minor": 4
}
