{
 "cells": [
  {
   "cell_type": "markdown",
   "metadata": {},
   "source": [
    "# 库"
   ]
  },
  {
   "cell_type": "code",
   "execution_count": 1,
   "metadata": {
    "ExecuteTime": {
     "end_time": "2021-12-23T07:23:20.161011Z",
     "start_time": "2021-12-23T07:23:20.156024Z"
    }
   },
   "outputs": [],
   "source": [
    "import sys, os, re, json"
   ]
  },
  {
   "cell_type": "code",
   "execution_count": 2,
   "metadata": {
    "ExecuteTime": {
     "end_time": "2021-12-23T07:23:26.605751Z",
     "start_time": "2021-12-23T07:23:26.474105Z"
    }
   },
   "outputs": [],
   "source": [
    "import requests"
   ]
  },
  {
   "cell_type": "code",
   "execution_count": 5,
   "metadata": {
    "ExecuteTime": {
     "end_time": "2021-12-23T07:24:08.155705Z",
     "start_time": "2021-12-23T07:24:08.150708Z"
    }
   },
   "outputs": [],
   "source": [
    "from vVariableInspector import _getshapeof"
   ]
  },
  {
   "cell_type": "markdown",
   "metadata": {},
   "source": [
    "# 函数"
   ]
  },
  {
   "cell_type": "code",
   "execution_count": 51,
   "metadata": {
    "ExecuteTime": {
     "end_time": "2021-12-23T08:37:22.029542Z",
     "start_time": "2021-12-23T08:37:22.021563Z"
    }
   },
   "outputs": [],
   "source": [
    "def login(user, password, api='https://www.landinn.cn/backend/sso/login'):\n",
    "    headers = {'Content-Type':'application/json'}\n",
    "    data = json.dumps({\"name\":user,\"phoneCode\":\"86\",\"type\":\"password\",\"info\":password,\"platform\":0})\n",
    "    rst = requests.post(api, data, headers=headers)\n",
    "    cookies = requests.utils.dict_from_cookiejar(rst.cookies)\n",
    "    rst.cookie = '; '.join([f'{x}={y}' for x,y in cookies.items()])\n",
    "    return rst"
   ]
  },
  {
   "cell_type": "code",
   "execution_count": 61,
   "metadata": {
    "ExecuteTime": {
     "end_time": "2021-12-23T08:49:47.155133Z",
     "start_time": "2021-12-23T08:49:47.147138Z"
    }
   },
   "outputs": [],
   "source": [
    "def upload(cookie, fileName, api='https://www.landinn.cn/backend/file/upload'):\n",
    "    with open(fileName, 'rb') as f:\n",
    "        rst = requests.post(api, files={'file' : f}, headers={\n",
    "            'Cookie' : cookie\n",
    "        })\n",
    "    return rst.json()"
   ]
  },
  {
   "cell_type": "markdown",
   "metadata": {},
   "source": [
    "# 测试requests"
   ]
  },
  {
   "cell_type": "code",
   "execution_count": 4,
   "metadata": {
    "ExecuteTime": {
     "end_time": "2021-12-23T07:23:55.244251Z",
     "start_time": "2021-12-23T07:23:55.119571Z"
    }
   },
   "outputs": [],
   "source": [
    "a = requests.get('http://landinn-front.lunjian.team/backend/file/upload')"
   ]
  },
  {
   "cell_type": "code",
   "execution_count": 6,
   "metadata": {
    "ExecuteTime": {
     "end_time": "2021-12-23T07:26:20.106821Z",
     "start_time": "2021-12-23T07:26:20.101835Z"
    }
   },
   "outputs": [
    {
     "data": {
      "text/plain": [
       "'{\"code\":401,\"msg\":\"该用户未认证或认证已过期\",\"payload\":\"Full authentication is required to access this resource\"}'"
      ]
     },
     "execution_count": 6,
     "metadata": {},
     "output_type": "execute_result"
    }
   ],
   "source": [
    "a.text"
   ]
  },
  {
   "cell_type": "code",
   "execution_count": 7,
   "metadata": {
    "ExecuteTime": {
     "end_time": "2021-12-23T07:30:23.421263Z",
     "start_time": "2021-12-23T07:30:23.415279Z"
    }
   },
   "outputs": [],
   "source": [
    "headers = {\n",
    "'Content-Type':'application/json'\n",
    "}"
   ]
  },
  {
   "cell_type": "code",
   "execution_count": 8,
   "metadata": {
    "ExecuteTime": {
     "end_time": "2021-12-23T07:31:44.814595Z",
     "start_time": "2021-12-23T07:31:44.808611Z"
    }
   },
   "outputs": [],
   "source": [
    "data = json.dumps({\"name\":\"兰亭官方\",\"phoneCode\":\"86\",\"type\":\"password\",\"info\":\"123456\",\"platform\":0})"
   ]
  },
  {
   "cell_type": "code",
   "execution_count": 33,
   "metadata": {
    "ExecuteTime": {
     "end_time": "2021-12-23T08:20:34.894415Z",
     "start_time": "2021-12-23T08:20:04.029929Z"
    }
   },
   "outputs": [],
   "source": [
    "b = requests.post('http://landinn-front.lunjian.team/backend/sso/login', data, headers=headers)"
   ]
  },
  {
   "cell_type": "code",
   "execution_count": 34,
   "metadata": {
    "ExecuteTime": {
     "end_time": "2021-12-23T08:20:37.515389Z",
     "start_time": "2021-12-23T08:20:37.509394Z"
    }
   },
   "outputs": [
    {
     "data": {
      "text/plain": [
       "'{\"code\":500,\"msg\":\"服务器出现问题\",\"payload\":\"Redis command timed out; nested exception is io.lettuce.core.RedisCommandTimeoutException: Command timed out after 30 second(s)\"}'"
      ]
     },
     "execution_count": 34,
     "metadata": {},
     "output_type": "execute_result"
    }
   ],
   "source": [
    "b.text"
   ]
  },
  {
   "cell_type": "code",
   "execution_count": 48,
   "metadata": {
    "ExecuteTime": {
     "end_time": "2021-12-23T08:35:15.530847Z",
     "start_time": "2021-12-23T08:35:15.523855Z"
    }
   },
   "outputs": [
    {
     "data": {
      "text/plain": [
       "{}"
      ]
     },
     "execution_count": 48,
     "metadata": {},
     "output_type": "execute_result"
    }
   ],
   "source": [
    "requests.utils.dict_from_cookiejar(b.cookies)"
   ]
  },
  {
   "cell_type": "code",
   "execution_count": 50,
   "metadata": {
    "ExecuteTime": {
     "end_time": "2021-12-23T08:36:48.792428Z",
     "start_time": "2021-12-23T08:36:48.787441Z"
    }
   },
   "outputs": [],
   "source": [
    "b.cookie = 0"
   ]
  },
  {
   "cell_type": "code",
   "execution_count": 24,
   "metadata": {
    "ExecuteTime": {
     "end_time": "2021-12-23T07:45:57.435254Z",
     "start_time": "2021-12-23T07:45:57.429271Z"
    }
   },
   "outputs": [],
   "source": [
    "cookies = requests.utils.dict_from_cookiejar(b.cookies)"
   ]
  },
  {
   "cell_type": "code",
   "execution_count": 25,
   "metadata": {
    "ExecuteTime": {
     "end_time": "2021-12-23T07:46:03.479091Z",
     "start_time": "2021-12-23T07:46:03.471112Z"
    }
   },
   "outputs": [
    {
     "data": {
      "text/plain": [
       "{'SERVERID': 'a541b43d232d3eb21855ba4e1b0acd71|1640244805|1640244805',\n",
       " 'URAS-TGT': '245160fe489d60a33127f737133f9606',\n",
       " 'URAS-TGT.sig': 'bf50d3affe341a3002ce6f807f258574'}"
      ]
     },
     "execution_count": 25,
     "metadata": {},
     "output_type": "execute_result"
    }
   ],
   "source": [
    "cookies"
   ]
  },
  {
   "cell_type": "code",
   "execution_count": 31,
   "metadata": {
    "ExecuteTime": {
     "end_time": "2021-12-23T08:17:08.921216Z",
     "start_time": "2021-12-23T08:16:38.771845Z"
    }
   },
   "outputs": [],
   "source": [
    "with open(r'C:\\Users\\ict\\Desktop\\截图20210924144343.png', 'rb') as f:\n",
    "    r = requests.post('http://landinn-front.lunjian.team/backend/file/upload', files={'file' : f}, headers={\n",
    "        'Cookie' : '; '.join([f'{x}={y}' for x,y in cookies.items()])\n",
    "    })"
   ]
  },
  {
   "cell_type": "code",
   "execution_count": 27,
   "metadata": {
    "ExecuteTime": {
     "end_time": "2021-12-23T07:47:45.635534Z",
     "start_time": "2021-12-23T07:47:45.628552Z"
    }
   },
   "outputs": [
    {
     "data": {
      "text/plain": [
       "'{\"code\":200,\"msg\":\"成功\",\"payload\":{\"id\":\"1640245664987\",\"name\":\"截图20210924144343.png\",\"url\":\"http://storage-dev.lunjian.team/ceph-s3/api/lunjian-landinn/files/2021/12/23/16402456648171237.png\",\"status\":\"done\",\"response\":\"success\"}}'"
      ]
     },
     "execution_count": 27,
     "metadata": {},
     "output_type": "execute_result"
    }
   ],
   "source": [
    "r.text"
   ]
  },
  {
   "cell_type": "code",
   "execution_count": 30,
   "metadata": {
    "ExecuteTime": {
     "end_time": "2021-12-23T08:02:05.041659Z",
     "start_time": "2021-12-23T08:02:05.035702Z"
    }
   },
   "outputs": [
    {
     "data": {
      "text/plain": [
       "'{\"code\":200,\"msg\":\"成功\",\"payload\":{\"id\":\"1640246519283\",\"name\":\"截图20210924144343.png\",\"url\":\"http://storage-dev.lunjian.team/ceph-s3/api/lunjian-landinn/files/2021/12/23/1640246519204108.png\",\"status\":\"done\",\"response\":\"success\"}}'"
      ]
     },
     "execution_count": 30,
     "metadata": {},
     "output_type": "execute_result"
    }
   ],
   "source": [
    "r.text"
   ]
  },
  {
   "cell_type": "code",
   "execution_count": 32,
   "metadata": {
    "ExecuteTime": {
     "end_time": "2021-12-23T08:19:46.447959Z",
     "start_time": "2021-12-23T08:19:46.439968Z"
    }
   },
   "outputs": [
    {
     "data": {
      "text/plain": [
       "'{\"code\":401,\"msg\":\"该用户未认证或认证已过期\",\"payload\":\"Redis command timed out; nested exception is io.lettuce.core.RedisCommandTimeoutException: Command timed out after 30 second(s)\"}'"
      ]
     },
     "execution_count": 32,
     "metadata": {},
     "output_type": "execute_result"
    }
   ],
   "source": [
    "r.text"
   ]
  },
  {
   "cell_type": "code",
   "execution_count": 47,
   "metadata": {
    "ExecuteTime": {
     "end_time": "2021-12-23T08:34:46.386783Z",
     "start_time": "2021-12-23T08:34:46.379792Z"
    }
   },
   "outputs": [
    {
     "data": {
      "text/plain": [
       "<RequestsCookieJar[Cookie(version=0, name='JSESSIONID', value='4394D28F8BED56733C4E0DFEC745FD87', port=None, port_specified=False, domain='landinn-front.lunjian.team', domain_specified=False, domain_initial_dot=False, path='/', path_specified=True, secure=False, expires=None, discard=True, comment=None, comment_url=None, rest={'HttpOnly': None}, rfc2109=False)]>"
      ]
     },
     "execution_count": 47,
     "metadata": {},
     "output_type": "execute_result"
    }
   ],
   "source": [
    "r.cookies"
   ]
  },
  {
   "cell_type": "code",
   "execution_count": 28,
   "metadata": {
    "ExecuteTime": {
     "end_time": "2021-12-23T08:01:09.151094Z",
     "start_time": "2021-12-23T08:01:09.143115Z"
    }
   },
   "outputs": [
    {
     "data": {
      "text/plain": [
       "<RequestsCookieJar[Cookie(version=0, name='JSESSIONID', value='9F1CD489B84AE2384F63E84EDBE03736', port=None, port_specified=False, domain='landinn-front.lunjian.team', domain_specified=False, domain_initial_dot=False, path='/', path_specified=True, secure=False, expires=None, discard=True, comment=None, comment_url=None, rest={'HttpOnly': None}, rfc2109=False), Cookie(version=0, name='SERVERID', value='a541b43d232d3eb21855ba4e1b0acd71|1640245664|1640244805', port=None, port_specified=False, domain='landinn-front.lunjian.team', domain_specified=False, domain_initial_dot=False, path='/', path_specified=True, secure=False, expires=None, discard=True, comment=None, comment_url=None, rest={}, rfc2109=False)]>"
      ]
     },
     "execution_count": 28,
     "metadata": {},
     "output_type": "execute_result"
    }
   ],
   "source": [
    "r.cookies"
   ]
  },
  {
   "cell_type": "markdown",
   "metadata": {},
   "source": [
    "# 大文件进度条"
   ]
  },
  {
   "cell_type": "code",
   "execution_count": null,
   "metadata": {},
   "outputs": [],
   "source": [
    "from requests_toolbelt import *"
   ]
  },
  {
   "cell_type": "markdown",
   "metadata": {},
   "source": [
    "# 线上系统"
   ]
  },
  {
   "cell_type": "code",
   "execution_count": 37,
   "metadata": {
    "ExecuteTime": {
     "end_time": "2021-12-23T08:27:24.035965Z",
     "start_time": "2021-12-23T08:27:24.029981Z"
    }
   },
   "outputs": [],
   "source": [
    "import password"
   ]
  },
  {
   "cell_type": "code",
   "execution_count": 45,
   "metadata": {
    "ExecuteTime": {
     "end_time": "2021-12-23T08:29:26.146420Z",
     "start_time": "2021-12-23T08:29:26.143418Z"
    }
   },
   "outputs": [],
   "source": [
    "from password import user, password"
   ]
  },
  {
   "cell_type": "code",
   "execution_count": 62,
   "metadata": {
    "ExecuteTime": {
     "end_time": "2021-12-23T08:50:23.302476Z",
     "start_time": "2021-12-23T08:50:21.820412Z"
    }
   },
   "outputs": [],
   "source": [
    "rsp = login(user, password)"
   ]
  },
  {
   "cell_type": "code",
   "execution_count": 65,
   "metadata": {
    "ExecuteTime": {
     "end_time": "2021-12-23T08:51:15.924722Z",
     "start_time": "2021-12-23T08:51:15.918740Z"
    }
   },
   "outputs": [],
   "source": [
    "fileName = r'C:\\Users\\ict\\LymphV\\ICT2021\\兰亭\\资料\\文案\\第二届四季青\\全过程 (6).m4v'"
   ]
  },
  {
   "cell_type": "code",
   "execution_count": 66,
   "metadata": {
    "ExecuteTime": {
     "end_time": "2021-12-23T08:52:19.145683Z",
     "start_time": "2021-12-23T08:51:49.821088Z"
    }
   },
   "outputs": [],
   "source": [
    "rst = upload(rsp.cookie, fileName)"
   ]
  },
  {
   "cell_type": "code",
   "execution_count": 67,
   "metadata": {
    "ExecuteTime": {
     "end_time": "2021-12-23T08:52:23.853063Z",
     "start_time": "2021-12-23T08:52:23.846092Z"
    }
   },
   "outputs": [
    {
     "data": {
      "text/plain": [
       "{'code': 200,\n",
       " 'msg': '成功',\n",
       " 'payload': {'id': '1640249539749',\n",
       "  'name': '全过程 (6).m4v',\n",
       "  'url': 'https://storage.landinn.cn/ceph-s3/api/landinn-prod/files/2021/12/23/16402495289055507.m4v',\n",
       "  'status': 'done',\n",
       "  'response': 'success'}}"
      ]
     },
     "execution_count": 67,
     "metadata": {},
     "output_type": "execute_result"
    }
   ],
   "source": [
    "rst"
   ]
  },
  {
   "cell_type": "code",
   "execution_count": 69,
   "metadata": {
    "ExecuteTime": {
     "end_time": "2021-12-23T09:14:52.728769Z",
     "start_time": "2021-12-23T09:14:03.846463Z"
    }
   },
   "outputs": [],
   "source": [
    "fileName = r'C:\\Users\\ict\\LymphV\\ICT2021\\兰亭\\资料\\文案\\第二届四季青\\全过程 (6).mp4'\n",
    "rst = upload(rsp.cookie, fileName)"
   ]
  },
  {
   "cell_type": "code",
   "execution_count": 70,
   "metadata": {
    "ExecuteTime": {
     "end_time": "2021-12-23T09:15:00.035200Z",
     "start_time": "2021-12-23T09:15:00.028219Z"
    }
   },
   "outputs": [
    {
     "data": {
      "text/plain": [
       "{'code': 200,\n",
       " 'msg': '成功',\n",
       " 'payload': {'id': '1640250893348',\n",
       "  'name': '全过程 (6).mp4',\n",
       "  'url': 'https://storage.landinn.cn/ceph-s3/api/landinn-prod/files/2021/12/23/16402508624794749.mp4',\n",
       "  'status': 'done',\n",
       "  'response': 'success'}}"
      ]
     },
     "execution_count": 70,
     "metadata": {},
     "output_type": "execute_result"
    }
   ],
   "source": [
    "rst"
   ]
  },
  {
   "cell_type": "code",
   "execution_count": null,
   "metadata": {},
   "outputs": [],
   "source": []
  }
 ],
 "metadata": {
  "kernelspec": {
   "display_name": "Python 3",
   "language": "python",
   "name": "python3"
  },
  "language_info": {
   "codemirror_mode": {
    "name": "ipython",
    "version": 3
   },
   "file_extension": ".py",
   "mimetype": "text/x-python",
   "name": "python",
   "nbconvert_exporter": "python",
   "pygments_lexer": "ipython3",
   "version": "3.8.3"
  },
  "latex_envs": {
   "LaTeX_envs_menu_present": true,
   "autoclose": false,
   "autocomplete": true,
   "bibliofile": "biblio.bib",
   "cite_by": "apalike",
   "current_citInitial": 1,
   "eqLabelWithNumbers": true,
   "eqNumInitial": 1,
   "hotkeys": {
    "equation": "Ctrl-E",
    "itemize": "Ctrl-I"
   },
   "labels_anchors": false,
   "latex_user_defs": false,
   "report_style_numbering": false,
   "user_envs_cfg": false
  },
  "toc": {
   "base_numbering": 1,
   "nav_menu": {},
   "number_sections": false,
   "sideBar": true,
   "skip_h1_title": false,
   "title_cell": "Table of Contents",
   "title_sidebar": "Contents",
   "toc_cell": false,
   "toc_position": {},
   "toc_section_display": true,
   "toc_window_display": true
  },
  "varInspector": {
   "cols": {
    "lenName": 16,
    "lenType": 16,
    "lenVar": 40
   },
   "kernels_config": {
    "python": {
     "delete_cmd_postfix": "",
     "delete_cmd_prefix": "del ",
     "library": "var_list.py",
     "varRefreshCmd": "print(var_dic_list())"
    },
    "r": {
     "delete_cmd_postfix": ") ",
     "delete_cmd_prefix": "rm(",
     "library": "var_list.r",
     "varRefreshCmd": "cat(var_dic_list()) "
    }
   },
   "position": {
    "height": "684.844px",
    "left": "1550px",
    "right": "20px",
    "top": "120px",
    "width": "350px"
   },
   "types_to_exclude": [
    "module",
    "function",
    "builtin_function_or_method",
    "instance",
    "_Feature"
   ],
   "window_display": true
  }
 },
 "nbformat": 4,
 "nbformat_minor": 4
}
