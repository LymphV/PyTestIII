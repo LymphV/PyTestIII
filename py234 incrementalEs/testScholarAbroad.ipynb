{
 "cells": [
  {
   "cell_type": "code",
   "execution_count": 1,
   "metadata": {
    "ExecuteTime": {
     "end_time": "2021-06-15T07:04:04.125368Z",
     "start_time": "2021-06-15T07:04:03.590458Z"
    }
   },
   "outputs": [],
   "source": [
    "from cfg import tLast, tNow\n",
    "from incEs import esScholarAbroad as es"
   ]
  },
  {
   "cell_type": "code",
   "execution_count": 2,
   "metadata": {
    "ExecuteTime": {
     "end_time": "2021-06-15T07:09:50.646344Z",
     "start_time": "2021-06-15T07:04:06.961398Z"
    }
   },
   "outputs": [
    {
     "name": "stdout",
     "output_type": "stream",
     "text": [
      "(2021-06-15 15:04:07) 更新国外学者\n"
     ]
    },
    {
     "data": {
      "application/vnd.jupyter.widget-view+json": {
       "model_id": "a0219b77e78745159afb78f3e844aa3d",
       "version_major": 2,
       "version_minor": 0
      },
      "text/plain": [
       "HBox(children=(FloatProgress(value=1.0, bar_style='info', layout=Layout(flex='2'), max=1.0), HTML(value='')), …"
      ]
     },
     "metadata": {},
     "output_type": "display_data"
    },
    {
     "name": "stdout",
     "output_type": "stream",
     "text": [
      "\n",
      "(2021-06-15 15:07:04) 获取全部国外学者更新列表(994)\n"
     ]
    },
    {
     "data": {
      "application/vnd.jupyter.widget-view+json": {
       "model_id": "7b75eb4032394ab3abfcb5ef1e83d578",
       "version_major": 2,
       "version_minor": 0
      },
      "text/plain": [
       "HBox(children=(FloatProgress(value=0.0, layout=Layout(flex='2'), max=50.0), HTML(value='')), layout=Layout(dis…"
      ]
     },
     "metadata": {},
     "output_type": "display_data"
    },
    {
     "name": "stdout",
     "output_type": "stream",
     "text": [
      "\n"
     ]
    }
   ],
   "source": [
    "es(tLast, tNow)"
   ]
  },
  {
   "cell_type": "code",
   "execution_count": 1,
   "metadata": {
    "ExecuteTime": {
     "end_time": "2021-07-06T09:05:03.263701Z",
     "start_time": "2021-07-06T09:05:03.063688Z"
    }
   },
   "outputs": [
    {
     "name": "stdout",
     "output_type": "stream",
     "text": [
      "(2021-07-06 17:05:03) C:\\Users\\ict\\LymphV\\software\\python\\anaconda\\lib\\runpy.py\n",
      "(2021-07-06 17:05:03) C:\\Users\\ict\\LymphV\\software\\python\\anaconda\\lib\\runpy.py\n",
      "(2021-07-06 17:05:03) C:\\Users\\ict\\LymphV\\software\\python\\anaconda\\lib\\site-packages\\ipykernel_launcher.py\n",
      "(2021-07-06 17:05:03) C:\\Users\\ict\\LymphV\\software\\python\\anaconda\\lib\\site-packages\\traitlets\\config\\application.py\n",
      "(2021-07-06 17:05:03) C:\\Users\\ict\\LymphV\\software\\python\\anaconda\\lib\\site-packages\\ipykernel\\kernelapp.py\n",
      "(2021-07-06 17:05:03) C:\\Users\\ict\\LymphV\\software\\python\\anaconda\\lib\\site-packages\\tornado\\platform\\asyncio.py\n",
      "(2021-07-06 17:05:03) C:\\Users\\ict\\LymphV\\software\\python\\anaconda\\lib\\asyncio\\base_events.py\n",
      "(2021-07-06 17:05:03) C:\\Users\\ict\\LymphV\\software\\python\\anaconda\\lib\\asyncio\\base_events.py\n",
      "(2021-07-06 17:05:03) C:\\Users\\ict\\LymphV\\software\\python\\anaconda\\lib\\asyncio\\events.py\n",
      "(2021-07-06 17:05:03) C:\\Users\\ict\\LymphV\\software\\python\\anaconda\\lib\\site-packages\\tornado\\ioloop.py\n",
      "(2021-07-06 17:05:03) C:\\Users\\ict\\LymphV\\software\\python\\anaconda\\lib\\site-packages\\tornado\\ioloop.py\n",
      "(2021-07-06 17:05:03) C:\\Users\\ict\\LymphV\\software\\python\\anaconda\\lib\\site-packages\\tornado\\gen.py\n",
      "(2021-07-06 17:05:03) C:\\Users\\ict\\LymphV\\software\\python\\anaconda\\lib\\site-packages\\tornado\\gen.py\n",
      "(2021-07-06 17:05:03) C:\\Users\\ict\\LymphV\\software\\python\\anaconda\\lib\\site-packages\\ipykernel\\kernelbase.py\n",
      "(2021-07-06 17:05:03) C:\\Users\\ict\\LymphV\\software\\python\\anaconda\\lib\\site-packages\\tornado\\gen.py\n",
      "(2021-07-06 17:05:03) C:\\Users\\ict\\LymphV\\software\\python\\anaconda\\lib\\site-packages\\ipykernel\\kernelbase.py\n",
      "(2021-07-06 17:05:03) C:\\Users\\ict\\LymphV\\software\\python\\anaconda\\lib\\site-packages\\tornado\\gen.py\n",
      "(2021-07-06 17:05:03) C:\\Users\\ict\\LymphV\\software\\python\\anaconda\\lib\\site-packages\\ipykernel\\kernelbase.py\n",
      "(2021-07-06 17:05:03) C:\\Users\\ict\\LymphV\\software\\python\\anaconda\\lib\\site-packages\\tornado\\gen.py\n",
      "(2021-07-06 17:05:03) C:\\Users\\ict\\LymphV\\software\\python\\anaconda\\lib\\site-packages\\ipykernel\\ipkernel.py\n",
      "(2021-07-06 17:05:03) C:\\Users\\ict\\LymphV\\software\\python\\anaconda\\lib\\site-packages\\ipykernel\\zmqshell.py\n",
      "(2021-07-06 17:05:03) C:\\Users\\ict\\LymphV\\software\\python\\anaconda\\lib\\site-packages\\IPython\\core\\interactiveshell.py\n",
      "(2021-07-06 17:05:03) C:\\Users\\ict\\LymphV\\software\\python\\anaconda\\lib\\site-packages\\IPython\\core\\interactiveshell.py\n",
      "(2021-07-06 17:05:03) C:\\Users\\ict\\LymphV\\software\\python\\anaconda\\lib\\site-packages\\IPython\\core\\async_helpers.py\n",
      "(2021-07-06 17:05:03) C:\\Users\\ict\\LymphV\\software\\python\\anaconda\\lib\\site-packages\\IPython\\core\\interactiveshell.py\n",
      "(2021-07-06 17:05:03) C:\\Users\\ict\\LymphV\\software\\python\\anaconda\\lib\\site-packages\\IPython\\core\\interactiveshell.py\n",
      "(2021-07-06 17:05:03) C:\\Users\\ict\\LymphV\\software\\python\\anaconda\\lib\\site-packages\\IPython\\core\\interactiveshell.py\n",
      "(2021-07-06 17:05:03) <ipython-input-1-2a95f6040afe>\n",
      "(2021-07-06 17:05:03) <frozen importlib._bootstrap>\n",
      "(2021-07-06 17:05:03) <frozen importlib._bootstrap>\n",
      "(2021-07-06 17:05:03) <frozen importlib._bootstrap>\n",
      "(2021-07-06 17:05:03) <frozen importlib._bootstrap_external>\n",
      "(2021-07-06 17:05:03) <frozen importlib._bootstrap>\n",
      "(2021-07-06 17:05:03) C:\\Users\\ict\\LymphV\\程序\\试验品\\Py试验品III\\lib\\vUtil\\vLog\\__init__.py\n"
     ]
    }
   ],
   "source": [
    "import vUtil.vLog"
   ]
  },
  {
   "cell_type": "code",
   "execution_count": null,
   "metadata": {},
   "outputs": [],
   "source": []
  }
 ],
 "metadata": {
  "kernelspec": {
   "display_name": "Python 3",
   "language": "python",
   "name": "python3"
  },
  "latex_envs": {
   "LaTeX_envs_menu_present": true,
   "autoclose": false,
   "autocomplete": true,
   "bibliofile": "biblio.bib",
   "cite_by": "apalike",
   "current_citInitial": 1,
   "eqLabelWithNumbers": true,
   "eqNumInitial": 1,
   "hotkeys": {
    "equation": "Ctrl-E",
    "itemize": "Ctrl-I"
   },
   "labels_anchors": false,
   "latex_user_defs": false,
   "report_style_numbering": false,
   "user_envs_cfg": false
  },
  "toc": {
   "base_numbering": 1,
   "nav_menu": {},
   "number_sections": true,
   "sideBar": true,
   "skip_h1_title": false,
   "title_cell": "Table of Contents",
   "title_sidebar": "Contents",
   "toc_cell": false,
   "toc_position": {},
   "toc_section_display": true,
   "toc_window_display": false
  },
  "varInspector": {
   "cols": {
    "lenName": 16,
    "lenType": 16,
    "lenVar": 40
   },
   "kernels_config": {
    "python": {
     "delete_cmd_postfix": "",
     "delete_cmd_prefix": "del ",
     "library": "var_list.py",
     "varRefreshCmd": "print(var_dic_list())"
    },
    "r": {
     "delete_cmd_postfix": ") ",
     "delete_cmd_prefix": "rm(",
     "library": "var_list.r",
     "varRefreshCmd": "cat(var_dic_list()) "
    }
   },
   "position": {
    "height": "860.972px",
    "left": "1644.33px",
    "right": "20px",
    "top": "111px",
    "width": "422.778px"
   },
   "types_to_exclude": [
    "module",
    "function",
    "builtin_function_or_method",
    "instance",
    "_Feature"
   ],
   "window_display": true
  }
 },
 "nbformat": 4,
 "nbformat_minor": 4
}
