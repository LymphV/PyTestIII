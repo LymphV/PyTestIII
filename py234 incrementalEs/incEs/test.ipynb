{
 "cells": [
  {
   "cell_type": "code",
   "execution_count": 1,
   "metadata": {
    "ExecuteTime": {
     "end_time": "2021-06-11T10:56:27.181571Z",
     "start_time": "2021-06-11T10:56:26.683571Z"
    }
   },
   "outputs": [],
   "source": [
    "from vUtil.vTime import getNow\n",
    "from vMysql import MysqlProxy"
   ]
  },
  {
   "cell_type": "code",
   "execution_count": 2,
   "metadata": {
    "ExecuteTime": {
     "end_time": "2021-06-09T10:18:36.304642Z",
     "start_time": "2021-06-09T10:18:36.276639Z"
    }
   },
   "outputs": [],
   "source": [
    "from tmpIncTable.tmpPatents import TmpPatents\n",
    "from tmpIncTable.tmpProjects import TmpProjects\n",
    "from tmpIncTable.tmpPapers import TmpPapers\n",
    "from tmpIncTable.tmpEnterprises import TmpEnterprises\n",
    "from tmpIncTable.tmpScholars import TmpScholars\n",
    "from tmpIncTable.tmpScholarsAbroad import TmpScholarsAbroad\n",
    "from tmpIncTable.tmpProducts import TmpProducts\n",
    "from tmpIncTable.tmpSoftwareCopyrights import TmpSoftwareCopyrights"
   ]
  },
  {
   "cell_type": "code",
   "execution_count": 2,
   "metadata": {
    "ExecuteTime": {
     "end_time": "2021-06-11T10:56:29.014570Z",
     "start_time": "2021-06-11T10:56:29.004571Z"
    }
   },
   "outputs": [],
   "source": [
    "import sys\n",
    "sys.path += ['..']"
   ]
  },
  {
   "cell_type": "code",
   "execution_count": 3,
   "metadata": {
    "ExecuteTime": {
     "end_time": "2021-06-11T10:56:29.448570Z",
     "start_time": "2021-06-11T10:56:29.429571Z"
    }
   },
   "outputs": [],
   "source": [
    "from timeManager import TimeManagerMysql"
   ]
  },
  {
   "cell_type": "code",
   "execution_count": 8,
   "metadata": {
    "ExecuteTime": {
     "end_time": "2021-06-11T10:58:15.829426Z",
     "start_time": "2021-06-11T10:58:15.286428Z"
    }
   },
   "outputs": [
    {
     "data": {
      "text/plain": [
       "< TimeManagerMysql {'last': Timestamp('2021-06-07 16:00:00'), 'now': Timestamp('2021-06-10 16:00:00')} >"
      ]
     },
     "execution_count": 8,
     "metadata": {},
     "output_type": "execute_result"
    }
   ],
   "source": [
    "tm = TimeManagerMysql('sync_record', 'sync_time', 'es_flag')\n",
    "tm"
   ]
  },
  {
   "cell_type": "code",
   "execution_count": 7,
   "metadata": {
    "ExecuteTime": {
     "end_time": "2021-06-11T10:56:49.855469Z",
     "start_time": "2021-06-11T10:56:49.842469Z"
    }
   },
   "outputs": [
    {
     "name": "stdout",
     "output_type": "stream",
     "text": [
      "\n",
      "            update `sync_record`\n",
      "            set `es_flag` = 1\n",
      "            where not `es_flag`\n",
      "            and `sync_time` <= Timestamp('2021-06-10 16:00:00')\n",
      "        \n"
     ]
    }
   ],
   "source": [
    "print(tm.db.history)"
   ]
  },
  {
   "cell_type": "code",
   "execution_count": 6,
   "metadata": {
    "ExecuteTime": {
     "end_time": "2021-06-11T10:56:46.482431Z",
     "start_time": "2021-06-11T10:56:46.217440Z"
    }
   },
   "outputs": [],
   "source": [
    "tm.close()"
   ]
  },
  {
   "cell_type": "code",
   "execution_count": 15,
   "metadata": {
    "ExecuteTime": {
     "end_time": "2021-06-11T10:51:05.065106Z",
     "start_time": "2021-06-11T10:51:04.926106Z"
    }
   },
   "outputs": [],
   "source": [
    "flagCol = 'es_flag'\n",
    "timeCol = 'sync_time'\n",
    "table = 'sync_record'\n",
    "a = tm.db.select(timeCol, table, 1, where=flagCol, order=f'by {timeCol} desc')"
   ]
  },
  {
   "cell_type": "code",
   "execution_count": 22,
   "metadata": {
    "ExecuteTime": {
     "end_time": "2021-06-11T10:52:17.623434Z",
     "start_time": "2021-06-11T10:52:17.612436Z"
    }
   },
   "outputs": [
    {
     "data": {
      "text/plain": [
       "('sync_time',\n",
       " 0   2021-06-07 16:00:00\n",
       " Name: sync_time, dtype: datetime64[ns])"
      ]
     },
     "execution_count": 22,
     "metadata": {},
     "output_type": "execute_result"
    }
   ],
   "source": [
    "a."
   ]
  },
  {
   "cell_type": "code",
   "execution_count": 3,
   "metadata": {
    "ExecuteTime": {
     "end_time": "2021-06-10T08:26:35.478034Z",
     "start_time": "2021-06-10T08:26:35.150290Z"
    }
   },
   "outputs": [],
   "source": [
    "db = MysqlProxy()"
   ]
  },
  {
   "cell_type": "code",
   "execution_count": 11,
   "metadata": {
    "ExecuteTime": {
     "end_time": "2021-06-10T08:30:43.206721Z",
     "start_time": "2021-06-10T08:30:43.196722Z"
    }
   },
   "outputs": [
    {
     "ename": "SyntaxError",
     "evalue": "unexpected character after line continuation character (<ipython-input-11-16c82fe4237d>, line 1)",
     "output_type": "error",
     "traceback": [
      "\u001b[1;36m  File \u001b[1;32m\"<ipython-input-11-16c82fe4237d>\"\u001b[1;36m, line \u001b[1;32m1\u001b[0m\n\u001b[1;33m    order\\ by = 1\u001b[0m\n\u001b[1;37m                 ^\u001b[0m\n\u001b[1;31mSyntaxError\u001b[0m\u001b[1;31m:\u001b[0m unexpected character after line continuation character\n"
     ]
    }
   ],
   "source": [
    "order\\ by = 1"
   ]
  },
  {
   "cell_type": "code",
   "execution_count": 9,
   "metadata": {
    "ExecuteTime": {
     "end_time": "2021-06-10T08:28:04.120171Z",
     "start_time": "2021-06-10T08:28:03.969679Z"
    }
   },
   "outputs": [
    {
     "data": {
      "text/plain": [
       "Timestamp('2021-06-07 16:00:00')"
      ]
     },
     "execution_count": 9,
     "metadata": {},
     "output_type": "execute_result"
    }
   ],
   "source": [
    "db.select('*', 'landinn_restore.sync_record', 1, where='es_flag', order ='by id desc')['sync_time'].item()"
   ]
  },
  {
   "cell_type": "code",
   "execution_count": 7,
   "metadata": {
    "ExecuteTime": {
     "end_time": "2021-06-10T08:19:19.591624Z",
     "start_time": "2021-06-10T08:19:19.434598Z"
    }
   },
   "outputs": [
    {
     "data": {
      "text/plain": [
       "Timestamp('2021-06-07 16:00:00')"
      ]
     },
     "execution_count": 7,
     "metadata": {},
     "output_type": "execute_result"
    }
   ],
   "source": [
    "db.select('*', '', 1, where='es_flag order by id desc')['sync_time'].item()\n",
    "db.sql('''\n",
    "select * from landinn_restore.sync_record where es_flag order by id desc \n",
    "''')"
   ]
  },
  {
   "cell_type": "code",
   "execution_count": 8,
   "metadata": {
    "ExecuteTime": {
     "end_time": "2021-06-10T08:19:32.374071Z",
     "start_time": "2021-06-10T08:19:32.201073Z"
    }
   },
   "outputs": [
    {
     "data": {
      "text/plain": [
       "Timestamp('2021-06-10 14:00:00')"
      ]
     },
     "execution_count": 8,
     "metadata": {},
     "output_type": "execute_result"
    }
   ],
   "source": [
    "db.select('*', 'landinn_restore.sync_record', 1, where='not es_flag order by id desc')['sync_time'].item()"
   ]
  },
  {
   "cell_type": "code",
   "execution_count": null,
   "metadata": {},
   "outputs": [],
   "source": []
  },
  {
   "cell_type": "code",
   "execution_count": null,
   "metadata": {},
   "outputs": [],
   "source": []
  },
  {
   "cell_type": "code",
   "execution_count": null,
   "metadata": {},
   "outputs": [],
   "source": []
  },
  {
   "cell_type": "code",
   "execution_count": null,
   "metadata": {},
   "outputs": [],
   "source": []
  },
  {
   "cell_type": "code",
   "execution_count": 9,
   "metadata": {
    "ExecuteTime": {
     "end_time": "2021-06-09T10:28:57.786959Z",
     "start_time": "2021-06-09T10:28:57.777958Z"
    }
   },
   "outputs": [],
   "source": [
    "tLast = '2021-06-01'\n",
    "tNow = getNow()"
   ]
  },
  {
   "cell_type": "code",
   "execution_count": 10,
   "metadata": {
    "ExecuteTime": {
     "end_time": "2021-06-09T10:28:58.681115Z",
     "start_time": "2021-06-09T10:28:58.674114Z"
    }
   },
   "outputs": [],
   "source": [
    "tmp = TmpPatents(db)"
   ]
  },
  {
   "cell_type": "code",
   "execution_count": 11,
   "metadata": {
    "ExecuteTime": {
     "end_time": "2021-06-09T10:29:12.457823Z",
     "start_time": "2021-06-09T10:28:59.881554Z"
    }
   },
   "outputs": [],
   "source": [
    "tmp.start(tLast, tNow)"
   ]
  },
  {
   "cell_type": "code",
   "execution_count": 12,
   "metadata": {
    "ExecuteTime": {
     "end_time": "2021-06-09T10:29:24.493099Z",
     "start_time": "2021-06-09T10:29:24.473100Z"
    }
   },
   "outputs": [
    {
     "data": {
      "text/plain": [
       "31131"
      ]
     },
     "execution_count": 12,
     "metadata": {},
     "output_type": "execute_result"
    }
   ],
   "source": [
    "len(tmp)"
   ]
  },
  {
   "cell_type": "code",
   "execution_count": 13,
   "metadata": {
    "ExecuteTime": {
     "end_time": "2021-06-09T10:29:29.612120Z",
     "start_time": "2021-06-09T10:29:29.570308Z"
    }
   },
   "outputs": [],
   "source": [
    "tmp.close()"
   ]
  },
  {
   "cell_type": "code",
   "execution_count": 13,
   "metadata": {
    "ExecuteTime": {
     "end_time": "2021-06-03T10:02:09.168068Z",
     "start_time": "2021-06-03T10:02:09.161065Z"
    }
   },
   "outputs": [],
   "source": [
    "from tmpIncTable.tmpTemplet import getSqlInsert\n",
    "from utils import stdSqlData"
   ]
  },
  {
   "cell_type": "code",
   "execution_count": 5,
   "metadata": {
    "ExecuteTime": {
     "end_time": "2021-06-03T09:31:55.654991Z",
     "start_time": "2021-06-03T09:31:55.645996Z"
    }
   },
   "outputs": [
    {
     "name": "stdout",
     "output_type": "stream",
     "text": [
      "\n",
      "    replace into temp_db.tmp_patents\n",
      "    (\n",
      "    \tselect  golaxy_patent_id as id from patent\n",
      "        where %s <= if (updated_at is null, created_at, updated_at)\n",
      "            and if (updated_at is null, created_at, updated_at) < %s\n",
      "            and !ifnull(is_deleted, 0)\n",
      "    );\n",
      "    \n"
     ]
    }
   ],
   "source": [
    "tableTmp = 'temp_db.tmp_patents'\n",
    "print(getSqlInsert(tableTmp, 'patent', 'golaxy_patent_id', containDel=0),)"
   ]
  },
  {
   "cell_type": "code",
   "execution_count": 6,
   "metadata": {
    "ExecuteTime": {
     "end_time": "2021-06-03T09:31:58.008995Z",
     "start_time": "2021-06-03T09:31:57.998990Z"
    }
   },
   "outputs": [],
   "source": [
    "sCreate = '''\n",
    "create table if not exists %s\n",
    "(id bigint not null, primary key (id));\n",
    "'''\n",
    "sRmTmp = '''\n",
    "drop table if exists %s;\n",
    "'''"
   ]
  },
  {
   "cell_type": "code",
   "execution_count": 7,
   "metadata": {
    "ExecuteTime": {
     "end_time": "2021-06-03T09:31:58.669008Z",
     "start_time": "2021-06-03T09:31:58.629991Z"
    }
   },
   "outputs": [
    {
     "data": {
      "text/html": [
       "<div>\n",
       "<style scoped>\n",
       "    .dataframe tbody tr th:only-of-type {\n",
       "        vertical-align: middle;\n",
       "    }\n",
       "\n",
       "    .dataframe tbody tr th {\n",
       "        vertical-align: top;\n",
       "    }\n",
       "\n",
       "    .dataframe thead th {\n",
       "        text-align: right;\n",
       "    }\n",
       "</style>\n",
       "<table border=\"1\" class=\"dataframe\">\n",
       "  <thead>\n",
       "    <tr style=\"text-align: right;\">\n",
       "      <th></th>\n",
       "    </tr>\n",
       "  </thead>\n",
       "  <tbody>\n",
       "  </tbody>\n",
       "</table>\n",
       "</div>"
      ],
      "text/plain": [
       "Empty DataFrame\n",
       "Columns: []\n",
       "Index: []"
      ]
     },
     "execution_count": 7,
     "metadata": {},
     "output_type": "execute_result"
    }
   ],
   "source": [
    "db.sql(sRmTmp % tableTmp, 1)"
   ]
  },
  {
   "cell_type": "code",
   "execution_count": 8,
   "metadata": {
    "ExecuteTime": {
     "end_time": "2021-06-03T09:26:33.347479Z",
     "start_time": "2021-06-03T09:26:33.316485Z"
    }
   },
   "outputs": [
    {
     "data": {
      "text/html": [
       "<div>\n",
       "<style scoped>\n",
       "    .dataframe tbody tr th:only-of-type {\n",
       "        vertical-align: middle;\n",
       "    }\n",
       "\n",
       "    .dataframe tbody tr th {\n",
       "        vertical-align: top;\n",
       "    }\n",
       "\n",
       "    .dataframe thead th {\n",
       "        text-align: right;\n",
       "    }\n",
       "</style>\n",
       "<table border=\"1\" class=\"dataframe\">\n",
       "  <thead>\n",
       "    <tr style=\"text-align: right;\">\n",
       "      <th></th>\n",
       "    </tr>\n",
       "  </thead>\n",
       "  <tbody>\n",
       "  </tbody>\n",
       "</table>\n",
       "</div>"
      ],
      "text/plain": [
       "Empty DataFrame\n",
       "Columns: []\n",
       "Index: []"
      ]
     },
     "execution_count": 8,
     "metadata": {},
     "output_type": "execute_result"
    }
   ],
   "source": [
    "db.sql(sCreate % tableTmp, 1)"
   ]
  },
  {
   "cell_type": "code",
   "execution_count": 8,
   "metadata": {
    "ExecuteTime": {
     "end_time": "2021-06-03T09:32:02.598995Z",
     "start_time": "2021-06-03T09:32:02.592991Z"
    }
   },
   "outputs": [],
   "source": [
    "tLast = '2021-06-03'\n",
    "tNow = getNow()"
   ]
  },
  {
   "cell_type": "code",
   "execution_count": 15,
   "metadata": {
    "ExecuteTime": {
     "end_time": "2021-06-03T09:29:13.178481Z",
     "start_time": "2021-06-03T09:29:10.796480Z"
    }
   },
   "outputs": [
    {
     "data": {
      "text/html": [
       "<div>\n",
       "<style scoped>\n",
       "    .dataframe tbody tr th:only-of-type {\n",
       "        vertical-align: middle;\n",
       "    }\n",
       "\n",
       "    .dataframe tbody tr th {\n",
       "        vertical-align: top;\n",
       "    }\n",
       "\n",
       "    .dataframe thead th {\n",
       "        text-align: right;\n",
       "    }\n",
       "</style>\n",
       "<table border=\"1\" class=\"dataframe\">\n",
       "  <thead>\n",
       "    <tr style=\"text-align: right;\">\n",
       "      <th></th>\n",
       "    </tr>\n",
       "  </thead>\n",
       "  <tbody>\n",
       "  </tbody>\n",
       "</table>\n",
       "</div>"
      ],
      "text/plain": [
       "Empty DataFrame\n",
       "Columns: []\n",
       "Index: []"
      ]
     },
     "execution_count": 15,
     "metadata": {},
     "output_type": "execute_result"
    }
   ],
   "source": [
    "db.sql(getSqlInsert(tableTmp, 'patent', 'golaxy_patent_id', containDel=0) % (tLast, tNow))"
   ]
  },
  {
   "cell_type": "code",
   "execution_count": 20,
   "metadata": {
    "ExecuteTime": {
     "end_time": "2021-06-11T08:29:57.384068Z",
     "start_time": "2021-06-11T08:29:57.155067Z"
    }
   },
   "outputs": [],
   "source": [
    "db.close()"
   ]
  },
  {
   "cell_type": "code",
   "execution_count": 9,
   "metadata": {
    "ExecuteTime": {
     "end_time": "2021-06-03T09:32:04.979992Z",
     "start_time": "2021-06-03T09:32:04.974991Z"
    }
   },
   "outputs": [],
   "source": [
    "tmp = TmpPatents(db)"
   ]
  },
  {
   "cell_type": "code",
   "execution_count": 10,
   "metadata": {
    "ExecuteTime": {
     "end_time": "2021-06-03T09:32:17.595990Z",
     "start_time": "2021-06-03T09:32:06.487993Z"
    }
   },
   "outputs": [],
   "source": [
    "tmp.start(tLast, tNow)"
   ]
  },
  {
   "cell_type": "code",
   "execution_count": 11,
   "metadata": {
    "ExecuteTime": {
     "end_time": "2021-06-03T09:32:24.774991Z",
     "start_time": "2021-06-03T09:32:24.749990Z"
    }
   },
   "outputs": [
    {
     "data": {
      "text/plain": [
       "1016"
      ]
     },
     "execution_count": 11,
     "metadata": {},
     "output_type": "execute_result"
    }
   ],
   "source": [
    "len(tmp)"
   ]
  },
  {
   "cell_type": "code",
   "execution_count": 12,
   "metadata": {
    "ExecuteTime": {
     "end_time": "2021-06-03T09:32:39.091007Z",
     "start_time": "2021-06-03T09:32:39.055992Z"
    }
   },
   "outputs": [],
   "source": [
    "tmp.close()"
   ]
  },
  {
   "cell_type": "code",
   "execution_count": 20,
   "metadata": {
    "ExecuteTime": {
     "end_time": "2021-06-03T10:09:05.691604Z",
     "start_time": "2021-06-03T10:09:05.682603Z"
    }
   },
   "outputs": [
    {
     "name": "stdout",
     "output_type": "stream",
     "text": [
      "ifnull(is_deleted,0)\n",
      "\tand '2021-06-03' <= if (updated_at is null, created_at, updated_at)\n",
      "\tand if (updated_at is null, created_at, updated_at) < '2021-06-03 17:32:02'\n",
      "\tand (1)\n"
     ]
    }
   ],
   "source": [
    "where = '1'\n",
    "where = [\n",
    "        'ifnull(is_deleted,0)',\n",
    "        (f'{stdSqlData(tLast)} <= if (updated_at is null, created_at, updated_at)' if tLast else ''),\n",
    "        (f'if (updated_at is null, created_at, updated_at) < {stdSqlData(tNow)}' if tNow else ''),\n",
    "        (f'({where})' if where else ''),\n",
    "    ]\n",
    "where = '\\n\\tand '.join([x for x in where if x])\n",
    "print(where)"
   ]
  },
  {
   "cell_type": "code",
   "execution_count": null,
   "metadata": {},
   "outputs": [],
   "source": []
  }
 ],
 "metadata": {
  "kernelspec": {
   "display_name": "Python 3",
   "language": "python",
   "name": "python3"
  },
  "latex_envs": {
   "LaTeX_envs_menu_present": true,
   "autoclose": false,
   "autocomplete": true,
   "bibliofile": "biblio.bib",
   "cite_by": "apalike",
   "current_citInitial": 1,
   "eqLabelWithNumbers": true,
   "eqNumInitial": 1,
   "hotkeys": {
    "equation": "Ctrl-E",
    "itemize": "Ctrl-I"
   },
   "labels_anchors": false,
   "latex_user_defs": false,
   "report_style_numbering": false,
   "user_envs_cfg": false
  },
  "toc": {
   "base_numbering": 1,
   "nav_menu": {},
   "number_sections": false,
   "sideBar": true,
   "skip_h1_title": false,
   "title_cell": "Table of Contents",
   "title_sidebar": "Contents",
   "toc_cell": false,
   "toc_position": {},
   "toc_section_display": true,
   "toc_window_display": false
  },
  "varInspector": {
   "cols": {
    "lenName": 16,
    "lenType": 16,
    "lenVar": 40
   },
   "kernels_config": {
    "python": {
     "delete_cmd_postfix": "",
     "delete_cmd_prefix": "del ",
     "library": "var_list.py",
     "varRefreshCmd": "print(var_dic_list())"
    },
    "r": {
     "delete_cmd_postfix": ") ",
     "delete_cmd_prefix": "rm(",
     "library": "var_list.r",
     "varRefreshCmd": "cat(var_dic_list()) "
    }
   },
   "position": {
    "height": "796.215px",
    "left": "1634.33px",
    "right": "20px",
    "top": "120px",
    "width": "448.767px"
   },
   "types_to_exclude": [
    "module",
    "function",
    "builtin_function_or_method",
    "instance",
    "_Feature"
   ],
   "window_display": true
  }
 },
 "nbformat": 4,
 "nbformat_minor": 4
}
