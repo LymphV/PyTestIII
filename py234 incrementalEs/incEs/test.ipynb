{
 "cells": [
  {
   "cell_type": "code",
   "execution_count": 1,
   "metadata": {
    "ExecuteTime": {
     "end_time": "2021-12-07T07:44:18.003306Z",
     "start_time": "2021-12-07T07:44:17.479293Z"
    }
   },
   "outputs": [],
   "source": [
    "from vUtil.vTime import getNow\n",
    "from vMysql import MysqlProxy"
   ]
  },
  {
   "cell_type": "code",
   "execution_count": 2,
   "metadata": {
    "ExecuteTime": {
     "end_time": "2021-12-07T07:44:18.987467Z",
     "start_time": "2021-12-07T07:44:18.869470Z"
    }
   },
   "outputs": [],
   "source": [
    "from getData.getPaperData import getActions, GetData"
   ]
  },
  {
   "cell_type": "code",
   "execution_count": 15,
   "metadata": {
    "ExecuteTime": {
     "end_time": "2021-12-07T07:46:11.775556Z",
     "start_time": "2021-12-07T07:46:11.680540Z"
    }
   },
   "outputs": [
    {
     "data": {
      "text/html": [
       "<div>\n",
       "<style scoped>\n",
       "    .dataframe tbody tr th:only-of-type {\n",
       "        vertical-align: middle;\n",
       "    }\n",
       "\n",
       "    .dataframe tbody tr th {\n",
       "        vertical-align: top;\n",
       "    }\n",
       "\n",
       "    .dataframe thead th {\n",
       "        text-align: right;\n",
       "    }\n",
       "</style>\n",
       "<table border=\"1\" class=\"dataframe\">\n",
       "  <thead>\n",
       "    <tr style=\"text-align: right;\">\n",
       "      <th></th>\n",
       "    </tr>\n",
       "  </thead>\n",
       "  <tbody>\n",
       "  </tbody>\n",
       "</table>\n",
       "</div>"
      ],
      "text/plain": [
       "Empty DataFrame\n",
       "Columns: []\n",
       "Index: []"
      ]
     },
     "execution_count": 15,
     "metadata": {},
     "output_type": "execute_result"
    }
   ],
   "source": [
    "db('''\n",
    "create temporary table tmp\n",
    "select golaxy_paper_id as id from papers limit 10;\n",
    "''')"
   ]
  },
  {
   "cell_type": "code",
   "execution_count": 16,
   "metadata": {
    "ExecuteTime": {
     "end_time": "2021-12-07T07:46:12.351551Z",
     "start_time": "2021-12-07T07:46:12.194571Z"
    }
   },
   "outputs": [
    {
     "data": {
      "text/html": [
       "<div>\n",
       "<style scoped>\n",
       "    .dataframe tbody tr th:only-of-type {\n",
       "        vertical-align: middle;\n",
       "    }\n",
       "\n",
       "    .dataframe tbody tr th {\n",
       "        vertical-align: top;\n",
       "    }\n",
       "\n",
       "    .dataframe thead th {\n",
       "        text-align: right;\n",
       "    }\n",
       "</style>\n",
       "<table border=\"1\" class=\"dataframe\">\n",
       "  <thead>\n",
       "    <tr style=\"text-align: right;\">\n",
       "      <th>tmp</th>\n",
       "      <th>id</th>\n",
       "    </tr>\n",
       "  </thead>\n",
       "  <tbody>\n",
       "    <tr>\n",
       "      <th>0</th>\n",
       "      <td>1032528390384844803</td>\n",
       "    </tr>\n",
       "    <tr>\n",
       "      <th>1</th>\n",
       "      <td>1032528390384844804</td>\n",
       "    </tr>\n",
       "    <tr>\n",
       "      <th>2</th>\n",
       "      <td>1032528390384844806</td>\n",
       "    </tr>\n",
       "    <tr>\n",
       "      <th>3</th>\n",
       "      <td>1032528390384844807</td>\n",
       "    </tr>\n",
       "    <tr>\n",
       "      <th>4</th>\n",
       "      <td>1032528390384844808</td>\n",
       "    </tr>\n",
       "    <tr>\n",
       "      <th>5</th>\n",
       "      <td>1032528390384844809</td>\n",
       "    </tr>\n",
       "    <tr>\n",
       "      <th>6</th>\n",
       "      <td>1032528390384844812</td>\n",
       "    </tr>\n",
       "    <tr>\n",
       "      <th>7</th>\n",
       "      <td>1032528390384844815</td>\n",
       "    </tr>\n",
       "    <tr>\n",
       "      <th>8</th>\n",
       "      <td>1032528390384844816</td>\n",
       "    </tr>\n",
       "    <tr>\n",
       "      <th>9</th>\n",
       "      <td>1032528390384844818</td>\n",
       "    </tr>\n",
       "  </tbody>\n",
       "</table>\n",
       "</div>"
      ],
      "text/plain": [
       "tmp                   id\n",
       "0    1032528390384844803\n",
       "1    1032528390384844804\n",
       "2    1032528390384844806\n",
       "3    1032528390384844807\n",
       "4    1032528390384844808\n",
       "5    1032528390384844809\n",
       "6    1032528390384844812\n",
       "7    1032528390384844815\n",
       "8    1032528390384844816\n",
       "9    1032528390384844818"
      ]
     },
     "execution_count": 16,
     "metadata": {},
     "output_type": "execute_result"
    }
   ],
   "source": [
    "db.select('*', 'tmp')"
   ]
  },
  {
   "cell_type": "code",
   "execution_count": 10,
   "metadata": {
    "ExecuteTime": {
     "end_time": "2021-12-07T07:44:46.026957Z",
     "start_time": "2021-12-07T07:44:45.866770Z"
    }
   },
   "outputs": [],
   "source": [
    "from incEs.esPaper import this, thisEn, table, idCol"
   ]
  },
  {
   "cell_type": "code",
   "execution_count": 11,
   "metadata": {
    "ExecuteTime": {
     "end_time": "2021-12-07T07:44:48.189690Z",
     "start_time": "2021-12-07T07:44:48.186717Z"
    }
   },
   "outputs": [],
   "source": [
    "getData = GetData(this, thisEn, table, idCol)"
   ]
  },
  {
   "cell_type": "code",
   "execution_count": 17,
   "metadata": {
    "ExecuteTime": {
     "end_time": "2021-12-07T07:46:17.424439Z",
     "start_time": "2021-12-07T07:46:16.684052Z"
    }
   },
   "outputs": [],
   "source": [
    "d, p = getData(db, 'tmp', 0, 5)"
   ]
  },
  {
   "cell_type": "code",
   "execution_count": 18,
   "metadata": {
    "ExecuteTime": {
     "end_time": "2021-12-07T07:46:20.565691Z",
     "start_time": "2021-12-07T07:46:20.551661Z"
    }
   },
   "outputs": [
    {
     "data": {
      "text/html": [
       "<div>\n",
       "<style scoped>\n",
       "    .dataframe tbody tr th:only-of-type {\n",
       "        vertical-align: middle;\n",
       "    }\n",
       "\n",
       "    .dataframe tbody tr th {\n",
       "        vertical-align: top;\n",
       "    }\n",
       "\n",
       "    .dataframe thead th {\n",
       "        text-align: right;\n",
       "    }\n",
       "</style>\n",
       "<table border=\"1\" class=\"dataframe\">\n",
       "  <thead>\n",
       "    <tr style=\"text-align: right;\">\n",
       "      <th></th>\n",
       "      <th>gid</th>\n",
       "      <th>title</th>\n",
       "      <th>keywords</th>\n",
       "      <th>paper_year</th>\n",
       "      <th>paper_date</th>\n",
       "      <th>abstract</th>\n",
       "    </tr>\n",
       "  </thead>\n",
       "  <tbody>\n",
       "    <tr>\n",
       "      <th>0</th>\n",
       "      <td>1032528390384844803</td>\n",
       "      <td>大电流密度碳纳米管阴极的生长及场发射性能研究</td>\n",
       "      <td>碳纳米管;场发射;CVD</td>\n",
       "      <td>2004</td>\n",
       "      <td>None</td>\n",
       "      <td>研究了碳纳米管作为大电流密度场发射阴极的CVD生长情况与场发射性能.结果表明,通过CVD生长...</td>\n",
       "    </tr>\n",
       "    <tr>\n",
       "      <th>1</th>\n",
       "      <td>1032528390384844804</td>\n",
       "      <td>基于倾斜光学元件的共形光学窗口瞄视误差校正</td>\n",
       "      <td>光学设计;共形光学;光学窗口;瞄视误差;倾斜</td>\n",
       "      <td>2016</td>\n",
       "      <td>None</td>\n",
       "      <td>为校正共形光学窗口引入的随扫描视角变化而变化的动态瞄视误差,提出基于倾斜光学元件的瞄视误差校...</td>\n",
       "    </tr>\n",
       "    <tr>\n",
       "      <th>2</th>\n",
       "      <td>1032528390384844806</td>\n",
       "      <td>非均匀柱对称介质中的余弦光束</td>\n",
       "      <td>非均匀介质;柱对称介质;余弦光束;折射率分布</td>\n",
       "      <td>2001</td>\n",
       "      <td>None</td>\n",
       "      <td>在一般情况下证明了余弦光束是柱对称介质中SVA近似下波动方程的本征解,并给出了折射率分布函数...</td>\n",
       "    </tr>\n",
       "    <tr>\n",
       "      <th>3</th>\n",
       "      <td>1032528390384844807</td>\n",
       "      <td>基于DSP/FPGA的模块化柔性关节轻型机械臂</td>\n",
       "      <td>模块化;柔性关节;轻型机械臂;谐波齿轮;DSPFPGA</td>\n",
       "      <td>2010</td>\n",
       "      <td>None</td>\n",
       "      <td>介绍了模块化柔性关节轻型机械臂的机械系统设计、传感器系统设计以及电气系统设计.整个机械结构设...</td>\n",
       "    </tr>\n",
       "    <tr>\n",
       "      <th>4</th>\n",
       "      <td>1032528390384844808</td>\n",
       "      <td>高校后勤管理社会化改革模式比较研究</td>\n",
       "      <td>高校;后勤社会化;改革模式</td>\n",
       "      <td>2014</td>\n",
       "      <td>None</td>\n",
       "      <td>传统高校后勤管理已经不适应当今高等教育快速发展的要求,社会化改革势在必行.通过对多个改革模式...</td>\n",
       "    </tr>\n",
       "  </tbody>\n",
       "</table>\n",
       "</div>"
      ],
      "text/plain": [
       "                   gid                    title                     keywords  \\\n",
       "0  1032528390384844803   大电流密度碳纳米管阴极的生长及场发射性能研究                 碳纳米管;场发射;CVD   \n",
       "1  1032528390384844804    基于倾斜光学元件的共形光学窗口瞄视误差校正       光学设计;共形光学;光学窗口;瞄视误差;倾斜   \n",
       "2  1032528390384844806           非均匀柱对称介质中的余弦光束       非均匀介质;柱对称介质;余弦光束;折射率分布   \n",
       "3  1032528390384844807  基于DSP/FPGA的模块化柔性关节轻型机械臂  模块化;柔性关节;轻型机械臂;谐波齿轮;DSPFPGA   \n",
       "4  1032528390384844808        高校后勤管理社会化改革模式比较研究                高校;后勤社会化;改革模式   \n",
       "\n",
       "  paper_year paper_date                                           abstract  \n",
       "0       2004       None  研究了碳纳米管作为大电流密度场发射阴极的CVD生长情况与场发射性能.结果表明,通过CVD生长...  \n",
       "1       2016       None  为校正共形光学窗口引入的随扫描视角变化而变化的动态瞄视误差,提出基于倾斜光学元件的瞄视误差校...  \n",
       "2       2001       None  在一般情况下证明了余弦光束是柱对称介质中SVA近似下波动方程的本征解,并给出了折射率分布函数...  \n",
       "3       2010       None  介绍了模块化柔性关节轻型机械臂的机械系统设计、传感器系统设计以及电气系统设计.整个机械结构设...  \n",
       "4       2014       None  传统高校后勤管理已经不适应当今高等教育快速发展的要求,社会化改革势在必行.通过对多个改革模式...  "
      ]
     },
     "execution_count": 18,
     "metadata": {},
     "output_type": "execute_result"
    }
   ],
   "source": [
    "d"
   ]
  },
  {
   "cell_type": "code",
   "execution_count": 19,
   "metadata": {
    "ExecuteTime": {
     "end_time": "2021-12-07T07:46:30.187409Z",
     "start_time": "2021-12-07T07:46:30.167408Z"
    }
   },
   "outputs": [
    {
     "data": {
      "text/html": [
       "<div>\n",
       "<style scoped>\n",
       "    .dataframe tbody tr th:only-of-type {\n",
       "        vertical-align: middle;\n",
       "    }\n",
       "\n",
       "    .dataframe tbody tr th {\n",
       "        vertical-align: top;\n",
       "    }\n",
       "\n",
       "    .dataframe thead th {\n",
       "        text-align: right;\n",
       "    }\n",
       "</style>\n",
       "<table border=\"1\" class=\"dataframe\">\n",
       "  <thead>\n",
       "    <tr style=\"text-align: right;\">\n",
       "      <th></th>\n",
       "      <th>gid</th>\n",
       "      <th>scholar_id</th>\n",
       "      <th>names</th>\n",
       "    </tr>\n",
       "  </thead>\n",
       "  <tbody>\n",
       "    <tr>\n",
       "      <th>0</th>\n",
       "      <td>1032528390384844803</td>\n",
       "      <td>1032637347824795649;1115639005386768487;103263...</td>\n",
       "      <td>[娄朝刚, 雷威, 朱春晖, 张晓兵]</td>\n",
       "    </tr>\n",
       "    <tr>\n",
       "      <th>1</th>\n",
       "      <td>1032528390384844804</td>\n",
       "      <td>1032528364128504121;1032528364128503507</td>\n",
       "      <td>[崔庆丰, 赵春竹]</td>\n",
       "    </tr>\n",
       "    <tr>\n",
       "      <th>2</th>\n",
       "      <td>1032528390384844806</td>\n",
       "      <td>1032528364128502381;1032637348688822276</td>\n",
       "      <td>[吕百达, 王喜庆]</td>\n",
       "    </tr>\n",
       "    <tr>\n",
       "      <th>3</th>\n",
       "      <td>1032528390384844807</td>\n",
       "      <td>1114011708330213486;1032528364128509163;107820...</td>\n",
       "      <td>[刘宏, 谢宗武, 熊根良]</td>\n",
       "    </tr>\n",
       "    <tr>\n",
       "      <th>4</th>\n",
       "      <td>1032528390384844808</td>\n",
       "      <td>1032528364128506650</td>\n",
       "      <td>[董磊]</td>\n",
       "    </tr>\n",
       "  </tbody>\n",
       "</table>\n",
       "</div>"
      ],
      "text/plain": [
       "                   gid                                         scholar_id  \\\n",
       "0  1032528390384844803  1032637347824795649;1115639005386768487;103263...   \n",
       "1  1032528390384844804            1032528364128504121;1032528364128503507   \n",
       "2  1032528390384844806            1032528364128502381;1032637348688822276   \n",
       "3  1032528390384844807  1114011708330213486;1032528364128509163;107820...   \n",
       "4  1032528390384844808                                1032528364128506650   \n",
       "\n",
       "                 names  \n",
       "0  [娄朝刚, 雷威, 朱春晖, 张晓兵]  \n",
       "1           [崔庆丰, 赵春竹]  \n",
       "2           [吕百达, 王喜庆]  \n",
       "3       [刘宏, 谢宗武, 熊根良]  \n",
       "4                 [董磊]  "
      ]
     },
     "execution_count": 19,
     "metadata": {},
     "output_type": "execute_result"
    }
   ],
   "source": [
    "p"
   ]
  },
  {
   "cell_type": "code",
   "execution_count": 20,
   "metadata": {
    "ExecuteTime": {
     "end_time": "2021-12-07T07:47:24.292992Z",
     "start_time": "2021-12-07T07:47:24.278983Z"
    }
   },
   "outputs": [
    {
     "data": {
      "text/plain": [
       "[{'_op_type': 'index',\n",
       "  '_index': 'landinn_paper',\n",
       "  '_id': 1032528390384844803,\n",
       "  '_source': {'id': 1032528390384844803,\n",
       "   'title': '大电流密度碳纳米管阴极的生长及场发射性能研究',\n",
       "   'abstract': '研究了碳纳米管作为大电流密度场发射阴极的CVD生长情况与场发射性能.结果表明,通过CVD生长的碳纳米管的直径与催化剂颗粒的直径相近,其生长方向是随机的.根据薄膜厚度与催化剂颗粒的关系,认为通过控制催化剂薄膜的厚度可能会达到调节碳纳米管直径的目的.在实验中获得的碳纳米管具备了良好的场发射性能,在直径为0.13 mm的圆形面积上获得的碳纳米管场发射平均电流密度达到1.28 A/cm2.',\n",
       "   'keywords': '碳纳米管;场发射;CVD',\n",
       "   'scholars': '1032637347824795649;1115639005386768487;1032637348290363394;1102765153900167171',\n",
       "   'year': '2004',\n",
       "   'names': [{'name': '娄朝刚'},\n",
       "    {'name': '雷威'},\n",
       "    {'name': '朱春晖'},\n",
       "    {'name': '张晓兵'}]}},\n",
       " {'_op_type': 'index',\n",
       "  '_index': 'landinn_paper',\n",
       "  '_id': 1032528390384844804,\n",
       "  '_source': {'id': 1032528390384844804,\n",
       "   'title': '基于倾斜光学元件的共形光学窗口瞄视误差校正',\n",
       "   'abstract': '为校正共形光学窗口引入的随扫描视角变化而变化的动态瞄视误差,提出基于倾斜光学元件的瞄视误差校正.建立共形光学窗口的瞄视误差模型,并分析计算共形光学窗口引入的动态瞄视误差.阐明利用倾斜光学元件校正共形光学窗口瞄视误差的原理,并通过在共形光学窗口后加入倾斜的球面透镜予以证明.给出一个设计实例,通过将校正共形光学窗口像差的校正元件倾斜,实现共形光学窗口的瞄视误差校正,且并未影响共形光学窗口像差的校正.',\n",
       "   'keywords': '光学设计;共形光学;光学窗口;瞄视误差;倾斜',\n",
       "   'scholars': '1032528364128504121;1032528364128503507',\n",
       "   'year': '2016',\n",
       "   'names': [{'name': '崔庆丰'}, {'name': '赵春竹'}]}},\n",
       " {'_op_type': 'index',\n",
       "  '_index': 'landinn_paper',\n",
       "  '_id': 1032528390384844806,\n",
       "  '_source': {'id': 1032528390384844806,\n",
       "   'title': '非均匀柱对称介质中的余弦光束',\n",
       "   'abstract': '在一般情况下证明了余弦光束是柱对称介质中SVA近似下波动方程的本征解,并给出了折射率分布函数,对其特殊情况进行了讨论.',\n",
       "   'keywords': '非均匀介质;柱对称介质;余弦光束;折射率分布',\n",
       "   'scholars': '1032528364128502381;1032637348688822276',\n",
       "   'year': '2001',\n",
       "   'names': [{'name': '吕百达'}, {'name': '王喜庆'}]}},\n",
       " {'_op_type': 'index',\n",
       "  '_index': 'landinn_paper',\n",
       "  '_id': 1032528390384844807,\n",
       "  '_source': {'id': 1032528390384844807,\n",
       "   'title': '基于DSP/FPGA的模块化柔性关节轻型机械臂',\n",
       "   'abstract': '介绍了模块化柔性关节轻型机械臂的机械系统设计、传感器系统设计以及电气系统设计.整个机械结构设计与电气设计实现了机械臂的轻型化,提高了其负载/自重比.针对关节柔性的存在,给控制带来的巨大挑战,设计了基于DSP/FPGA的硬件结构,用来实现柔性关节轻型机械臂的实时控制与柔顺控制.',\n",
       "   'keywords': '模块化;柔性关节;轻型机械臂;谐波齿轮;DSPFPGA',\n",
       "   'scholars': '1114011708330213486;1032528364128509163;1078203158060609720',\n",
       "   'year': '2010',\n",
       "   'names': [{'name': '刘宏'}, {'name': '谢宗武'}, {'name': '熊根良'}]}},\n",
       " {'_op_type': 'index',\n",
       "  '_index': 'landinn_paper',\n",
       "  '_id': 1032528390384844808,\n",
       "  '_source': {'id': 1032528390384844808,\n",
       "   'title': '高校后勤管理社会化改革模式比较研究',\n",
       "   'abstract': '传统高校后勤管理已经不适应当今高等教育快速发展的要求,社会化改革势在必行.通过对多个改革模式的比较分析,明确了校内独立甲乙方与园区合作管理是高校后勤改革的首选模式,引入现代物业管理是高校后勤社会化改革的必由之路.',\n",
       "   'keywords': '高校;后勤社会化;改革模式',\n",
       "   'scholars': '1032528364128506650',\n",
       "   'year': '2014',\n",
       "   'names': [{'name': '董磊'}]}}]"
      ]
     },
     "execution_count": 20,
     "metadata": {},
     "output_type": "execute_result"
    }
   ],
   "source": [
    "getActions(d,p,'landinn_paper')"
   ]
  },
  {
   "cell_type": "code",
   "execution_count": null,
   "metadata": {},
   "outputs": [],
   "source": []
  },
  {
   "cell_type": "code",
   "execution_count": 14,
   "metadata": {
    "ExecuteTime": {
     "end_time": "2021-12-07T07:46:09.270572Z",
     "start_time": "2021-12-07T07:46:09.263571Z"
    }
   },
   "outputs": [],
   "source": [
    "db.close()"
   ]
  },
  {
   "cell_type": "code",
   "execution_count": null,
   "metadata": {},
   "outputs": [],
   "source": []
  },
  {
   "cell_type": "code",
   "execution_count": null,
   "metadata": {},
   "outputs": [],
   "source": []
  },
  {
   "cell_type": "code",
   "execution_count": 2,
   "metadata": {
    "ExecuteTime": {
     "end_time": "2021-06-09T10:18:36.304642Z",
     "start_time": "2021-06-09T10:18:36.276639Z"
    }
   },
   "outputs": [],
   "source": [
    "from tmpIncTable.tmpPatents import TmpPatents\n",
    "from tmpIncTable.tmpProjects import TmpProjects\n",
    "from tmpIncTable.tmpPapers import TmpPapers\n",
    "from tmpIncTable.tmpEnterprises import TmpEnterprises\n",
    "from tmpIncTable.tmpScholars import TmpScholars\n",
    "from tmpIncTable.tmpScholarsAbroad import TmpScholarsAbroad\n",
    "from tmpIncTable.tmpProducts import TmpProducts\n",
    "from tmpIncTable.tmpSoftwareCopyrights import TmpSoftwareCopyrights"
   ]
  },
  {
   "cell_type": "code",
   "execution_count": 9,
   "metadata": {
    "ExecuteTime": {
     "end_time": "2021-12-07T07:44:42.007593Z",
     "start_time": "2021-12-07T07:44:41.996592Z"
    }
   },
   "outputs": [],
   "source": [
    "import sys\n",
    "sys.path += ['..']"
   ]
  },
  {
   "cell_type": "code",
   "execution_count": 3,
   "metadata": {
    "ExecuteTime": {
     "end_time": "2021-06-11T10:56:29.448570Z",
     "start_time": "2021-06-11T10:56:29.429571Z"
    }
   },
   "outputs": [],
   "source": [
    "from timeManager import TimeManagerMysql"
   ]
  },
  {
   "cell_type": "code",
   "execution_count": 8,
   "metadata": {
    "ExecuteTime": {
     "end_time": "2021-06-11T10:58:15.829426Z",
     "start_time": "2021-06-11T10:58:15.286428Z"
    }
   },
   "outputs": [
    {
     "data": {
      "text/plain": [
       "< TimeManagerMysql {'last': Timestamp('2021-06-07 16:00:00'), 'now': Timestamp('2021-06-10 16:00:00')} >"
      ]
     },
     "execution_count": 8,
     "metadata": {},
     "output_type": "execute_result"
    }
   ],
   "source": [
    "tm = TimeManagerMysql('sync_record', 'sync_time', 'es_flag')\n",
    "tm"
   ]
  },
  {
   "cell_type": "code",
   "execution_count": 7,
   "metadata": {
    "ExecuteTime": {
     "end_time": "2021-06-11T10:56:49.855469Z",
     "start_time": "2021-06-11T10:56:49.842469Z"
    }
   },
   "outputs": [
    {
     "name": "stdout",
     "output_type": "stream",
     "text": [
      "\n",
      "            update `sync_record`\n",
      "            set `es_flag` = 1\n",
      "            where not `es_flag`\n",
      "            and `sync_time` <= Timestamp('2021-06-10 16:00:00')\n",
      "        \n"
     ]
    }
   ],
   "source": [
    "print(tm.db.history)"
   ]
  },
  {
   "cell_type": "code",
   "execution_count": 6,
   "metadata": {
    "ExecuteTime": {
     "end_time": "2021-06-11T10:56:46.482431Z",
     "start_time": "2021-06-11T10:56:46.217440Z"
    }
   },
   "outputs": [],
   "source": [
    "tm.close()"
   ]
  },
  {
   "cell_type": "code",
   "execution_count": 15,
   "metadata": {
    "ExecuteTime": {
     "end_time": "2021-06-11T10:51:05.065106Z",
     "start_time": "2021-06-11T10:51:04.926106Z"
    }
   },
   "outputs": [],
   "source": [
    "flagCol = 'es_flag'\n",
    "timeCol = 'sync_time'\n",
    "table = 'sync_record'\n",
    "a = tm.db.select(timeCol, table, 1, where=flagCol, order=f'by {timeCol} desc')"
   ]
  },
  {
   "cell_type": "code",
   "execution_count": 22,
   "metadata": {
    "ExecuteTime": {
     "end_time": "2021-06-11T10:52:17.623434Z",
     "start_time": "2021-06-11T10:52:17.612436Z"
    }
   },
   "outputs": [
    {
     "data": {
      "text/plain": [
       "('sync_time',\n",
       " 0   2021-06-07 16:00:00\n",
       " Name: sync_time, dtype: datetime64[ns])"
      ]
     },
     "execution_count": 22,
     "metadata": {},
     "output_type": "execute_result"
    }
   ],
   "source": [
    "a."
   ]
  },
  {
   "cell_type": "code",
   "execution_count": 4,
   "metadata": {
    "ExecuteTime": {
     "end_time": "2021-12-07T07:44:26.619723Z",
     "start_time": "2021-12-07T07:44:26.403712Z"
    }
   },
   "outputs": [],
   "source": [
    "db = MysqlProxy()"
   ]
  },
  {
   "cell_type": "code",
   "execution_count": 11,
   "metadata": {
    "ExecuteTime": {
     "end_time": "2021-06-10T08:30:43.206721Z",
     "start_time": "2021-06-10T08:30:43.196722Z"
    }
   },
   "outputs": [
    {
     "ename": "SyntaxError",
     "evalue": "unexpected character after line continuation character (<ipython-input-11-16c82fe4237d>, line 1)",
     "output_type": "error",
     "traceback": [
      "\u001b[1;36m  File \u001b[1;32m\"<ipython-input-11-16c82fe4237d>\"\u001b[1;36m, line \u001b[1;32m1\u001b[0m\n\u001b[1;33m    order\\ by = 1\u001b[0m\n\u001b[1;37m                 ^\u001b[0m\n\u001b[1;31mSyntaxError\u001b[0m\u001b[1;31m:\u001b[0m unexpected character after line continuation character\n"
     ]
    }
   ],
   "source": [
    "order\\ by = 1"
   ]
  },
  {
   "cell_type": "code",
   "execution_count": 9,
   "metadata": {
    "ExecuteTime": {
     "end_time": "2021-06-10T08:28:04.120171Z",
     "start_time": "2021-06-10T08:28:03.969679Z"
    }
   },
   "outputs": [
    {
     "data": {
      "text/plain": [
       "Timestamp('2021-06-07 16:00:00')"
      ]
     },
     "execution_count": 9,
     "metadata": {},
     "output_type": "execute_result"
    }
   ],
   "source": [
    "db.select('*', 'landinn_restore.sync_record', 1, where='es_flag', order ='by id desc')['sync_time'].item()"
   ]
  },
  {
   "cell_type": "code",
   "execution_count": 7,
   "metadata": {
    "ExecuteTime": {
     "end_time": "2021-06-10T08:19:19.591624Z",
     "start_time": "2021-06-10T08:19:19.434598Z"
    }
   },
   "outputs": [
    {
     "data": {
      "text/plain": [
       "Timestamp('2021-06-07 16:00:00')"
      ]
     },
     "execution_count": 7,
     "metadata": {},
     "output_type": "execute_result"
    }
   ],
   "source": [
    "db.select('*', '', 1, where='es_flag order by id desc')['sync_time'].item()\n",
    "db.sql('''\n",
    "select * from landinn_restore.sync_record where es_flag order by id desc \n",
    "''')"
   ]
  },
  {
   "cell_type": "code",
   "execution_count": 8,
   "metadata": {
    "ExecuteTime": {
     "end_time": "2021-06-10T08:19:32.374071Z",
     "start_time": "2021-06-10T08:19:32.201073Z"
    }
   },
   "outputs": [
    {
     "data": {
      "text/plain": [
       "Timestamp('2021-06-10 14:00:00')"
      ]
     },
     "execution_count": 8,
     "metadata": {},
     "output_type": "execute_result"
    }
   ],
   "source": [
    "db.select('*', 'landinn_restore.sync_record', 1, where='not es_flag order by id desc')['sync_time'].item()"
   ]
  },
  {
   "cell_type": "code",
   "execution_count": null,
   "metadata": {},
   "outputs": [],
   "source": []
  },
  {
   "cell_type": "code",
   "execution_count": null,
   "metadata": {},
   "outputs": [],
   "source": []
  },
  {
   "cell_type": "code",
   "execution_count": null,
   "metadata": {},
   "outputs": [],
   "source": []
  },
  {
   "cell_type": "code",
   "execution_count": null,
   "metadata": {},
   "outputs": [],
   "source": []
  },
  {
   "cell_type": "code",
   "execution_count": 9,
   "metadata": {
    "ExecuteTime": {
     "end_time": "2021-06-09T10:28:57.786959Z",
     "start_time": "2021-06-09T10:28:57.777958Z"
    }
   },
   "outputs": [],
   "source": [
    "tLast = '2021-06-01'\n",
    "tNow = getNow()"
   ]
  },
  {
   "cell_type": "code",
   "execution_count": 10,
   "metadata": {
    "ExecuteTime": {
     "end_time": "2021-06-09T10:28:58.681115Z",
     "start_time": "2021-06-09T10:28:58.674114Z"
    }
   },
   "outputs": [],
   "source": [
    "tmp = TmpPatents(db)"
   ]
  },
  {
   "cell_type": "code",
   "execution_count": 11,
   "metadata": {
    "ExecuteTime": {
     "end_time": "2021-06-09T10:29:12.457823Z",
     "start_time": "2021-06-09T10:28:59.881554Z"
    }
   },
   "outputs": [],
   "source": [
    "tmp.start(tLast, tNow)"
   ]
  },
  {
   "cell_type": "code",
   "execution_count": 12,
   "metadata": {
    "ExecuteTime": {
     "end_time": "2021-06-09T10:29:24.493099Z",
     "start_time": "2021-06-09T10:29:24.473100Z"
    }
   },
   "outputs": [
    {
     "data": {
      "text/plain": [
       "31131"
      ]
     },
     "execution_count": 12,
     "metadata": {},
     "output_type": "execute_result"
    }
   ],
   "source": [
    "len(tmp)"
   ]
  },
  {
   "cell_type": "code",
   "execution_count": 13,
   "metadata": {
    "ExecuteTime": {
     "end_time": "2021-06-09T10:29:29.612120Z",
     "start_time": "2021-06-09T10:29:29.570308Z"
    }
   },
   "outputs": [],
   "source": [
    "tmp.close()"
   ]
  },
  {
   "cell_type": "code",
   "execution_count": 13,
   "metadata": {
    "ExecuteTime": {
     "end_time": "2021-06-03T10:02:09.168068Z",
     "start_time": "2021-06-03T10:02:09.161065Z"
    }
   },
   "outputs": [],
   "source": [
    "from tmpIncTable.tmpTemplet import getSqlInsert\n",
    "from utils import stdSqlData"
   ]
  },
  {
   "cell_type": "code",
   "execution_count": 5,
   "metadata": {
    "ExecuteTime": {
     "end_time": "2021-06-03T09:31:55.654991Z",
     "start_time": "2021-06-03T09:31:55.645996Z"
    }
   },
   "outputs": [
    {
     "name": "stdout",
     "output_type": "stream",
     "text": [
      "\n",
      "    replace into temp_db.tmp_patents\n",
      "    (\n",
      "    \tselect  golaxy_patent_id as id from patent\n",
      "        where %s <= if (updated_at is null, created_at, updated_at)\n",
      "            and if (updated_at is null, created_at, updated_at) < %s\n",
      "            and !ifnull(is_deleted, 0)\n",
      "    );\n",
      "    \n"
     ]
    }
   ],
   "source": [
    "tableTmp = 'temp_db.tmp_patents'\n",
    "print(getSqlInsert(tableTmp, 'patent', 'golaxy_patent_id', containDel=0),)"
   ]
  },
  {
   "cell_type": "code",
   "execution_count": 6,
   "metadata": {
    "ExecuteTime": {
     "end_time": "2021-06-03T09:31:58.008995Z",
     "start_time": "2021-06-03T09:31:57.998990Z"
    }
   },
   "outputs": [],
   "source": [
    "sCreate = '''\n",
    "create table if not exists %s\n",
    "(id bigint not null, primary key (id));\n",
    "'''\n",
    "sRmTmp = '''\n",
    "drop table if exists %s;\n",
    "'''"
   ]
  },
  {
   "cell_type": "code",
   "execution_count": 7,
   "metadata": {
    "ExecuteTime": {
     "end_time": "2021-06-03T09:31:58.669008Z",
     "start_time": "2021-06-03T09:31:58.629991Z"
    }
   },
   "outputs": [
    {
     "data": {
      "text/html": [
       "<div>\n",
       "<style scoped>\n",
       "    .dataframe tbody tr th:only-of-type {\n",
       "        vertical-align: middle;\n",
       "    }\n",
       "\n",
       "    .dataframe tbody tr th {\n",
       "        vertical-align: top;\n",
       "    }\n",
       "\n",
       "    .dataframe thead th {\n",
       "        text-align: right;\n",
       "    }\n",
       "</style>\n",
       "<table border=\"1\" class=\"dataframe\">\n",
       "  <thead>\n",
       "    <tr style=\"text-align: right;\">\n",
       "      <th></th>\n",
       "    </tr>\n",
       "  </thead>\n",
       "  <tbody>\n",
       "  </tbody>\n",
       "</table>\n",
       "</div>"
      ],
      "text/plain": [
       "Empty DataFrame\n",
       "Columns: []\n",
       "Index: []"
      ]
     },
     "execution_count": 7,
     "metadata": {},
     "output_type": "execute_result"
    }
   ],
   "source": [
    "db.sql(sRmTmp % tableTmp, 1)"
   ]
  },
  {
   "cell_type": "code",
   "execution_count": 8,
   "metadata": {
    "ExecuteTime": {
     "end_time": "2021-06-03T09:26:33.347479Z",
     "start_time": "2021-06-03T09:26:33.316485Z"
    }
   },
   "outputs": [
    {
     "data": {
      "text/html": [
       "<div>\n",
       "<style scoped>\n",
       "    .dataframe tbody tr th:only-of-type {\n",
       "        vertical-align: middle;\n",
       "    }\n",
       "\n",
       "    .dataframe tbody tr th {\n",
       "        vertical-align: top;\n",
       "    }\n",
       "\n",
       "    .dataframe thead th {\n",
       "        text-align: right;\n",
       "    }\n",
       "</style>\n",
       "<table border=\"1\" class=\"dataframe\">\n",
       "  <thead>\n",
       "    <tr style=\"text-align: right;\">\n",
       "      <th></th>\n",
       "    </tr>\n",
       "  </thead>\n",
       "  <tbody>\n",
       "  </tbody>\n",
       "</table>\n",
       "</div>"
      ],
      "text/plain": [
       "Empty DataFrame\n",
       "Columns: []\n",
       "Index: []"
      ]
     },
     "execution_count": 8,
     "metadata": {},
     "output_type": "execute_result"
    }
   ],
   "source": [
    "db.sql(sCreate % tableTmp, 1)"
   ]
  },
  {
   "cell_type": "code",
   "execution_count": 8,
   "metadata": {
    "ExecuteTime": {
     "end_time": "2021-06-03T09:32:02.598995Z",
     "start_time": "2021-06-03T09:32:02.592991Z"
    }
   },
   "outputs": [],
   "source": [
    "tLast = '2021-06-03'\n",
    "tNow = getNow()"
   ]
  },
  {
   "cell_type": "code",
   "execution_count": 15,
   "metadata": {
    "ExecuteTime": {
     "end_time": "2021-06-03T09:29:13.178481Z",
     "start_time": "2021-06-03T09:29:10.796480Z"
    }
   },
   "outputs": [
    {
     "data": {
      "text/html": [
       "<div>\n",
       "<style scoped>\n",
       "    .dataframe tbody tr th:only-of-type {\n",
       "        vertical-align: middle;\n",
       "    }\n",
       "\n",
       "    .dataframe tbody tr th {\n",
       "        vertical-align: top;\n",
       "    }\n",
       "\n",
       "    .dataframe thead th {\n",
       "        text-align: right;\n",
       "    }\n",
       "</style>\n",
       "<table border=\"1\" class=\"dataframe\">\n",
       "  <thead>\n",
       "    <tr style=\"text-align: right;\">\n",
       "      <th></th>\n",
       "    </tr>\n",
       "  </thead>\n",
       "  <tbody>\n",
       "  </tbody>\n",
       "</table>\n",
       "</div>"
      ],
      "text/plain": [
       "Empty DataFrame\n",
       "Columns: []\n",
       "Index: []"
      ]
     },
     "execution_count": 15,
     "metadata": {},
     "output_type": "execute_result"
    }
   ],
   "source": [
    "db.sql(getSqlInsert(tableTmp, 'patent', 'golaxy_patent_id', containDel=0) % (tLast, tNow))"
   ]
  },
  {
   "cell_type": "code",
   "execution_count": 20,
   "metadata": {
    "ExecuteTime": {
     "end_time": "2021-06-11T08:29:57.384068Z",
     "start_time": "2021-06-11T08:29:57.155067Z"
    }
   },
   "outputs": [],
   "source": [
    "db.close()"
   ]
  },
  {
   "cell_type": "code",
   "execution_count": 9,
   "metadata": {
    "ExecuteTime": {
     "end_time": "2021-06-03T09:32:04.979992Z",
     "start_time": "2021-06-03T09:32:04.974991Z"
    }
   },
   "outputs": [],
   "source": [
    "tmp = TmpPatents(db)"
   ]
  },
  {
   "cell_type": "code",
   "execution_count": 10,
   "metadata": {
    "ExecuteTime": {
     "end_time": "2021-06-03T09:32:17.595990Z",
     "start_time": "2021-06-03T09:32:06.487993Z"
    }
   },
   "outputs": [],
   "source": [
    "tmp.start(tLast, tNow)"
   ]
  },
  {
   "cell_type": "code",
   "execution_count": 11,
   "metadata": {
    "ExecuteTime": {
     "end_time": "2021-06-03T09:32:24.774991Z",
     "start_time": "2021-06-03T09:32:24.749990Z"
    }
   },
   "outputs": [
    {
     "data": {
      "text/plain": [
       "1016"
      ]
     },
     "execution_count": 11,
     "metadata": {},
     "output_type": "execute_result"
    }
   ],
   "source": [
    "len(tmp)"
   ]
  },
  {
   "cell_type": "code",
   "execution_count": 12,
   "metadata": {
    "ExecuteTime": {
     "end_time": "2021-06-03T09:32:39.091007Z",
     "start_time": "2021-06-03T09:32:39.055992Z"
    }
   },
   "outputs": [],
   "source": [
    "tmp.close()"
   ]
  },
  {
   "cell_type": "code",
   "execution_count": 20,
   "metadata": {
    "ExecuteTime": {
     "end_time": "2021-06-03T10:09:05.691604Z",
     "start_time": "2021-06-03T10:09:05.682603Z"
    }
   },
   "outputs": [
    {
     "name": "stdout",
     "output_type": "stream",
     "text": [
      "ifnull(is_deleted,0)\n",
      "\tand '2021-06-03' <= if (updated_at is null, created_at, updated_at)\n",
      "\tand if (updated_at is null, created_at, updated_at) < '2021-06-03 17:32:02'\n",
      "\tand (1)\n"
     ]
    }
   ],
   "source": [
    "where = '1'\n",
    "where = [\n",
    "        'ifnull(is_deleted,0)',\n",
    "        (f'{stdSqlData(tLast)} <= if (updated_at is null, created_at, updated_at)' if tLast else ''),\n",
    "        (f'if (updated_at is null, created_at, updated_at) < {stdSqlData(tNow)}' if tNow else ''),\n",
    "        (f'({where})' if where else ''),\n",
    "    ]\n",
    "where = '\\n\\tand '.join([x for x in where if x])\n",
    "print(where)"
   ]
  },
  {
   "cell_type": "code",
   "execution_count": null,
   "metadata": {},
   "outputs": [],
   "source": []
  }
 ],
 "metadata": {
  "kernelspec": {
   "display_name": "Python 3",
   "language": "python",
   "name": "python3"
  },
  "language_info": {
   "codemirror_mode": {
    "name": "ipython",
    "version": 3
   },
   "file_extension": ".py",
   "mimetype": "text/x-python",
   "name": "python",
   "nbconvert_exporter": "python",
   "pygments_lexer": "ipython3",
   "version": "3.8.3"
  },
  "latex_envs": {
   "LaTeX_envs_menu_present": true,
   "autoclose": false,
   "autocomplete": true,
   "bibliofile": "biblio.bib",
   "cite_by": "apalike",
   "current_citInitial": 1,
   "eqLabelWithNumbers": true,
   "eqNumInitial": 1,
   "hotkeys": {
    "equation": "Ctrl-E",
    "itemize": "Ctrl-I"
   },
   "labels_anchors": false,
   "latex_user_defs": false,
   "report_style_numbering": false,
   "user_envs_cfg": false
  },
  "toc": {
   "base_numbering": 1,
   "nav_menu": {},
   "number_sections": false,
   "sideBar": true,
   "skip_h1_title": false,
   "title_cell": "Table of Contents",
   "title_sidebar": "Contents",
   "toc_cell": false,
   "toc_position": {},
   "toc_section_display": true,
   "toc_window_display": true
  },
  "varInspector": {
   "cols": {
    "lenName": 16,
    "lenType": 16,
    "lenVar": 40
   },
   "kernels_config": {
    "python": {
     "delete_cmd_postfix": "",
     "delete_cmd_prefix": "del ",
     "library": "var_list.py",
     "varRefreshCmd": "print(var_dic_list())"
    },
    "r": {
     "delete_cmd_postfix": ") ",
     "delete_cmd_prefix": "rm(",
     "library": "var_list.r",
     "varRefreshCmd": "cat(var_dic_list()) "
    }
   },
   "position": {
    "height": "842.188px",
    "left": "1394.33px",
    "right": "20px",
    "top": "88px",
    "width": "505.766px"
   },
   "types_to_exclude": [
    "module",
    "function",
    "builtin_function_or_method",
    "instance",
    "_Feature"
   ],
   "window_display": true
  }
 },
 "nbformat": 4,
 "nbformat_minor": 4
}
