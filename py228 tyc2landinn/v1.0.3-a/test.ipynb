{
 "cells": [
  {
   "cell_type": "code",
   "execution_count": 2,
   "metadata": {
    "ExecuteTime": {
     "end_time": "2021-05-12T08:28:03.868684Z",
     "start_time": "2021-05-12T08:28:03.222674Z"
    }
   },
   "outputs": [],
   "source": [
    "import pandas as pd\n",
    "from vUtil.vTime import getNow"
   ]
  },
  {
   "cell_type": "code",
   "execution_count": 4,
   "metadata": {
    "ExecuteTime": {
     "end_time": "2021-05-12T08:28:10.924818Z",
     "start_time": "2021-05-12T08:28:10.918820Z"
    }
   },
   "outputs": [],
   "source": [
    "expert_file = 'a.json'\n",
    "increment = 3000"
   ]
  },
  {
   "cell_type": "code",
   "execution_count": 8,
   "metadata": {
    "ExecuteTime": {
     "end_time": "2021-05-12T08:16:01.324244Z",
     "start_time": "2021-05-12T08:16:01.312241Z"
    }
   },
   "outputs": [],
   "source": [
    "def start_execute():\n",
    "\n",
    "    this_updated_at = getNow()\n",
    "    record_df = pd.read_json(expert_file,lines=True,orient='records')  \n",
    "    lu_time = record_df['last_updated_time'][0]\n",
    "    tu_time = this_updated_at\n",
    "    execute_times = 1\n",
    "    start_num = 0\n",
    "    temp_num = 0\n",
    "    \n",
    "    print('本次需融合',execute_times,'批数据')\n",
    "    for index in range(execute_times):\n",
    "        start_num = temp_num\n",
    "        temp_num += increment\n",
    "        print('融合第',index+1,'批企业')\n",
    "        record_df = tyc_to_landinn(lu_time,tu_time,record_df,start_num)\n",
    "    \n",
    "    record_df['last_updated_time'] = [tu_time]\n",
    "    record_df['execute_complete_time'] = [getNow()]     \n",
    "#     record_df.to_json(expert_file,orient='records',lines=True)\n",
    "    \n",
    "    \n",
    "def tyc_to_landinn(lu_time,tu_time,record_df,start_num):\n",
    "    \n",
    "    # 查询天眼查企业数据 -- enterprise\n",
    "\n",
    "\n",
    "\n",
    "            \n",
    "\n",
    "        eid = 1\n",
    "        record_df['eid'] = [eid]\n",
    "        display(record_df)\n",
    "        record_df.to_json(expert_file,orient='records',lines=True)\n",
    "\n",
    "\n",
    "            \n",
    "               \n",
    "        print('*************************','\\n')\n",
    "        print('所有企业融合完成','\\n')\n",
    "        print('*************************','\\n')\n",
    "        return record_df\n",
    "    "
   ]
  },
  {
   "cell_type": "code",
   "execution_count": 5,
   "metadata": {
    "ExecuteTime": {
     "end_time": "2021-05-12T08:28:13.433893Z",
     "start_time": "2021-05-12T08:28:13.415878Z"
    }
   },
   "outputs": [],
   "source": [
    "x = pd.read_json(expert_file,lines=True,orient='records')  "
   ]
  },
  {
   "cell_type": "code",
   "execution_count": 6,
   "metadata": {
    "ExecuteTime": {
     "end_time": "2021-05-12T08:28:13.887889Z",
     "start_time": "2021-05-12T08:28:13.861877Z"
    }
   },
   "outputs": [
    {
     "data": {
      "text/html": [
       "<div>\n",
       "<style scoped>\n",
       "    .dataframe tbody tr th:only-of-type {\n",
       "        vertical-align: middle;\n",
       "    }\n",
       "\n",
       "    .dataframe tbody tr th {\n",
       "        vertical-align: top;\n",
       "    }\n",
       "\n",
       "    .dataframe thead th {\n",
       "        text-align: right;\n",
       "    }\n",
       "</style>\n",
       "<table border=\"1\" class=\"dataframe\">\n",
       "  <thead>\n",
       "    <tr style=\"text-align: right;\">\n",
       "      <th></th>\n",
       "      <th>eid</th>\n",
       "      <th>execute_complete_time</th>\n",
       "      <th>last_updated_time</th>\n",
       "    </tr>\n",
       "  </thead>\n",
       "  <tbody>\n",
       "    <tr>\n",
       "      <th>0</th>\n",
       "      <td>1</td>\n",
       "      <td>2021-05-12 16:15:27</td>\n",
       "      <td>2021-05-12 16:15:27</td>\n",
       "    </tr>\n",
       "  </tbody>\n",
       "</table>\n",
       "</div>"
      ],
      "text/plain": [
       "   eid execute_complete_time   last_updated_time\n",
       "0    1   2021-05-12 16:15:27 2021-05-12 16:15:27"
      ]
     },
     "metadata": {},
     "output_type": "display_data"
    },
    {
     "name": "stdout",
     "output_type": "stream",
     "text": [
      "   eid execute_complete_time   last_updated_time\n",
      "0    1   2021-05-12 16:15:27 2021-05-12 16:15:27\n"
     ]
    }
   ],
   "source": [
    "display(x)\n",
    "print(x)"
   ]
  },
  {
   "cell_type": "code",
   "execution_count": 13,
   "metadata": {
    "ExecuteTime": {
     "end_time": "2021-05-12T08:17:05.165269Z",
     "start_time": "2021-05-12T08:17:05.151257Z"
    }
   },
   "outputs": [
    {
     "data": {
      "text/plain": [
       "0   2021-05-12 16:15:27\n",
       "Name: last_updated_time, dtype: datetime64[ns]"
      ]
     },
     "execution_count": 13,
     "metadata": {},
     "output_type": "execute_result"
    }
   ],
   "source": [
    "x.last_updated_time"
   ]
  },
  {
   "cell_type": "code",
   "execution_count": 14,
   "metadata": {
    "ExecuteTime": {
     "end_time": "2021-05-12T08:19:07.002160Z",
     "start_time": "2021-05-12T08:19:06.967162Z"
    }
   },
   "outputs": [],
   "source": [
    "y = pd.read_csv('b.csv')"
   ]
  },
  {
   "cell_type": "code",
   "execution_count": 15,
   "metadata": {
    "ExecuteTime": {
     "end_time": "2021-05-12T08:19:12.064242Z",
     "start_time": "2021-05-12T08:19:12.055240Z"
    }
   },
   "outputs": [
    {
     "data": {
      "text/html": [
       "<div>\n",
       "<style scoped>\n",
       "    .dataframe tbody tr th:only-of-type {\n",
       "        vertical-align: middle;\n",
       "    }\n",
       "\n",
       "    .dataframe tbody tr th {\n",
       "        vertical-align: top;\n",
       "    }\n",
       "\n",
       "    .dataframe thead th {\n",
       "        text-align: right;\n",
       "    }\n",
       "</style>\n",
       "<table border=\"1\" class=\"dataframe\">\n",
       "  <thead>\n",
       "    <tr style=\"text-align: right;\">\n",
       "      <th></th>\n",
       "      <th>time</th>\n",
       "    </tr>\n",
       "  </thead>\n",
       "  <tbody>\n",
       "    <tr>\n",
       "      <th>0</th>\n",
       "      <td>2021-04-22 23:59:00</td>\n",
       "    </tr>\n",
       "    <tr>\n",
       "      <th>1</th>\n",
       "      <td>2021-05-11 15:48:51</td>\n",
       "    </tr>\n",
       "  </tbody>\n",
       "</table>\n",
       "</div>"
      ],
      "text/plain": [
       "                  time\n",
       "0  2021-04-22 23:59:00\n",
       "1  2021-05-11 15:48:51"
      ]
     },
     "execution_count": 15,
     "metadata": {},
     "output_type": "execute_result"
    }
   ],
   "source": [
    "y"
   ]
  },
  {
   "cell_type": "code",
   "execution_count": 16,
   "metadata": {
    "ExecuteTime": {
     "end_time": "2021-05-12T08:19:17.659256Z",
     "start_time": "2021-05-12T08:19:17.649268Z"
    }
   },
   "outputs": [
    {
     "data": {
      "text/plain": [
       "0    2021-04-22 23:59:00\n",
       "1    2021-05-11 15:48:51\n",
       "Name: time, dtype: object"
      ]
     },
     "execution_count": 16,
     "metadata": {},
     "output_type": "execute_result"
    }
   ],
   "source": [
    "y.time"
   ]
  },
  {
   "cell_type": "code",
   "execution_count": 9,
   "metadata": {
    "ExecuteTime": {
     "end_time": "2021-05-12T08:16:02.638337Z",
     "start_time": "2021-05-12T08:16:02.594338Z"
    }
   },
   "outputs": [
    {
     "name": "stdout",
     "output_type": "stream",
     "text": [
      "本次需融合 1 批数据\n",
      "融合第 1 批企业\n"
     ]
    },
    {
     "data": {
      "text/html": [
       "<div>\n",
       "<style scoped>\n",
       "    .dataframe tbody tr th:only-of-type {\n",
       "        vertical-align: middle;\n",
       "    }\n",
       "\n",
       "    .dataframe tbody tr th {\n",
       "        vertical-align: top;\n",
       "    }\n",
       "\n",
       "    .dataframe thead th {\n",
       "        text-align: right;\n",
       "    }\n",
       "</style>\n",
       "<table border=\"1\" class=\"dataframe\">\n",
       "  <thead>\n",
       "    <tr style=\"text-align: right;\">\n",
       "      <th></th>\n",
       "      <th>eid</th>\n",
       "      <th>execute_complete_time</th>\n",
       "      <th>last_updated_time</th>\n",
       "    </tr>\n",
       "  </thead>\n",
       "  <tbody>\n",
       "    <tr>\n",
       "      <th>0</th>\n",
       "      <td>1</td>\n",
       "      <td>2021-05-12 16:15:27</td>\n",
       "      <td>2021-05-12 16:15:27</td>\n",
       "    </tr>\n",
       "  </tbody>\n",
       "</table>\n",
       "</div>"
      ],
      "text/plain": [
       "   eid execute_complete_time   last_updated_time\n",
       "0    1   2021-05-12 16:15:27 2021-05-12 16:15:27"
      ]
     },
     "metadata": {},
     "output_type": "display_data"
    },
    {
     "name": "stdout",
     "output_type": "stream",
     "text": [
      "************************* \n",
      "\n",
      "所有企业融合完成 \n",
      "\n",
      "************************* \n",
      "\n"
     ]
    }
   ],
   "source": [
    "            \n",
    "if __name__ == '__main__':\n",
    "    start_execute()"
   ]
  }
 ],
 "metadata": {
  "kernelspec": {
   "display_name": "Python 3",
   "language": "python",
   "name": "python3"
  },
  "language_info": {
   "codemirror_mode": {
    "name": "ipython",
    "version": 3
   },
   "file_extension": ".py",
   "mimetype": "text/x-python",
   "name": "python",
   "nbconvert_exporter": "python",
   "pygments_lexer": "ipython3",
   "version": "3.8.3"
  },
  "varInspector": {
   "cols": {
    "lenName": 16,
    "lenType": 16,
    "lenVar": 40
   },
   "kernels_config": {
    "python": {
     "delete_cmd_postfix": "",
     "delete_cmd_prefix": "del ",
     "library": "var_list.py",
     "varRefreshCmd": "print(var_dic_list())"
    },
    "r": {
     "delete_cmd_postfix": ") ",
     "delete_cmd_prefix": "rm(",
     "library": "var_list.r",
     "varRefreshCmd": "cat(var_dic_list()) "
    }
   },
   "types_to_exclude": [
    "module",
    "function",
    "builtin_function_or_method",
    "instance",
    "_Feature"
   ],
   "window_display": false
  }
 },
 "nbformat": 4,
 "nbformat_minor": 4
}
