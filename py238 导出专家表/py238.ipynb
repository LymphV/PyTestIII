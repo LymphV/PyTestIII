{
 "cells": [
  {
   "cell_type": "markdown",
   "metadata": {},
   "source": [
    "# 库"
   ]
  },
  {
   "cell_type": "code",
   "execution_count": 2,
   "metadata": {
    "ExecuteTime": {
     "end_time": "2021-11-22T09:52:28.473717Z",
     "start_time": "2021-11-22T09:52:28.469739Z"
    }
   },
   "outputs": [],
   "source": [
    "import os, sys, json, re"
   ]
  },
  {
   "cell_type": "code",
   "execution_count": 19,
   "metadata": {
    "ExecuteTime": {
     "end_time": "2021-11-22T10:12:45.261353Z",
     "start_time": "2021-11-22T10:12:42.398943Z"
    }
   },
   "outputs": [],
   "source": [
    "import pandas as pd"
   ]
  },
  {
   "cell_type": "code",
   "execution_count": 5,
   "metadata": {
    "ExecuteTime": {
     "end_time": "2021-11-22T09:52:58.956943Z",
     "start_time": "2021-11-22T09:52:58.952915Z"
    }
   },
   "outputs": [],
   "source": [
    "sys.path += [r'C:\\Users\\ict\\LymphV\\程序\\试验品\\Py试验品III\\py225 AminerPeterait']"
   ]
  },
  {
   "cell_type": "code",
   "execution_count": 7,
   "metadata": {
    "ExecuteTime": {
     "end_time": "2021-11-22T09:53:37.619224Z",
     "start_time": "2021-11-22T09:53:37.614226Z"
    }
   },
   "outputs": [],
   "source": [
    "from driverOps import getDriver# 库"
   ]
  },
  {
   "cell_type": "markdown",
   "metadata": {},
   "source": [
    "# 路径"
   ]
  },
  {
   "cell_type": "code",
   "execution_count": 26,
   "metadata": {
    "ExecuteTime": {
     "end_time": "2021-11-22T10:16:40.676901Z",
     "start_time": "2021-11-22T10:16:40.672897Z"
    }
   },
   "outputs": [],
   "source": [
    "path = r'C:\\Users\\ict\\LymphV\\ICT2021\\兰亭\\项目需求\\柔性臂'"
   ]
  },
  {
   "cell_type": "markdown",
   "metadata": {},
   "source": [
    "# 打开"
   ]
  },
  {
   "cell_type": "code",
   "execution_count": 9,
   "metadata": {
    "ExecuteTime": {
     "end_time": "2021-11-22T09:58:55.667414Z",
     "start_time": "2021-11-22T09:58:51.895414Z"
    }
   },
   "outputs": [],
   "source": [
    "dr = getDriver(0)"
   ]
  },
  {
   "cell_type": "code",
   "execution_count": 47,
   "metadata": {
    "ExecuteTime": {
     "end_time": "2021-11-22T10:31:53.310146Z",
     "start_time": "2021-11-22T10:31:53.304148Z"
    }
   },
   "outputs": [],
   "source": [
    "dv = dr"
   ]
  },
  {
   "cell_type": "code",
   "execution_count": 11,
   "metadata": {
    "ExecuteTime": {
     "end_time": "2021-11-22T10:08:49.636604Z",
     "start_time": "2021-11-22T10:08:49.632585Z"
    }
   },
   "outputs": [],
   "source": [
    "page = 1"
   ]
  },
  {
   "cell_type": "code",
   "execution_count": 12,
   "metadata": {
    "ExecuteTime": {
     "end_time": "2021-11-22T10:08:49.828587Z",
     "start_time": "2021-11-22T10:08:49.824585Z"
    }
   },
   "outputs": [],
   "source": [
    "url = f'http://landinn-front.lunjian.team/backend/tuijian-api/query?keywords=%E6%9F%94%E6%80%A7%E8%87%82,%E6%9F%94%E6%80%A7%E6%9C%BA%E6%A2%B0%E8%87%82,%E6%9F%94%E6%80%A7%E5%A4%96%E8%82%A2%E4%BD%93,flexible%20arm,flexible%20manipulator,flexible%20mechanical%20arm&page={page}&pageSize=10&isTranslate=false&filterExpression=%E5%9B%BD%E5%AE%B6:%E4%B8%AD'"
   ]
  },
  {
   "cell_type": "code",
   "execution_count": 13,
   "metadata": {
    "ExecuteTime": {
     "end_time": "2021-11-22T10:09:04.738394Z",
     "start_time": "2021-11-22T10:09:04.335365Z"
    }
   },
   "outputs": [],
   "source": [
    "dr.get(url)"
   ]
  },
  {
   "cell_type": "code",
   "execution_count": 18,
   "metadata": {
    "ExecuteTime": {
     "end_time": "2021-11-22T10:11:50.046021Z",
     "start_time": "2021-11-22T10:11:49.990988Z"
    }
   },
   "outputs": [
    {
     "data": {
      "text/plain": [
       "{'code': 0,\n",
       " 'data': {'total': 4172,\n",
       "  'list': [{'id': '1078225253251445154',\n",
       "    'name': '刘广瑞',\n",
       "    'birthday': '1965-07-09T16:00:00.000Z',\n",
       "    'title': '副教授,硕导,河南省骨干教师',\n",
       "    'major': '机电一体化技术,机械设计原理与方法,机械制造自动化其他学科',\n",
       "    'position': '高等学校教师',\n",
       "    'gender': '男',\n",
       "    'email': None,\n",
       "    'phone': None,\n",
       "    'education': '博士研究生',\n",
       "    'headPortrait': None,\n",
       "    'brief': None,\n",
       "    'department': None,\n",
       "    'paper_count': '14',\n",
       "    'citation_count': '4',\n",
       "    'affiliation_id': '430',\n",
       "    'affiliation': '郑州大学',\n",
       "    'affiliation_name': '郑州大学',\n",
       "    'affiliation_name_en': 'Zhengzhou University',\n",
       "    'representList': [{'id': '1077799960799696999',\n",
       "      'title': '一种减小<em>柔性</em><em>机械</em><em>臂</em>末端位置弹性振动的装置',\n",
       "      'detail': '本实用新型公开了一种减小<em>柔性</em><em>机械</em><em>臂</em>末端位置弹性振动的装置，包括固定机架、以及以悬臂的方式设置在固定机架上的<em>柔性</em><em>机械</em><em>臂</em>，环绕<em>柔性</em><em>机械</em><em>臂</em>以均布方式设置有若干个阻尼装置，所述阻尼装置一端与固定机架连接、另一端与设置在<em>柔性</em><em>机械</em><em>臂</em>悬臂端的连接盘连接；本实用新型是从机械结构设计方面入手，基于结构阻尼对机械臂末端位置弹性振动的影响机理，提出并设计了一种通过增加阻尼来减小<em>柔性</em><em>机械</em><em>臂</em>末端位置弹性振动的装置。理论分析和实践证明，该装置能够有效地解决<em>柔性</em><em>机械</em><em>臂</em>的弹性振动问题。',\n",
       "      'scholars': '1078158327422657896;1078225253251445154',\n",
       "      '_score': 442.9591,\n",
       "      'type': 'patent'},\n",
       "     {'id': '1077800059697190995',\n",
       "      'title': '一种降低<em>柔性</em><em>机械</em><em>臂</em>末端位置弹性振动的主动变质量控制装置',\n",
       "      'detail': '本实用新型公开了一种降低<em>柔性</em><em>机械</em><em>臂</em>末端位置弹性振动的主动变质量控制装置，包括固定机架、以及以悬臂的方式设置在固定机架上的<em>柔性</em><em>机械</em><em>臂</em>，在<em>柔性</em><em>机械</em><em>臂</em>的悬臂端设置有用于改变<em>柔性</em><em>机械</em><em>臂</em>悬臂端质量的变质量装置；所述的变质量装置包括位于所述<em>柔性</em><em>机械</em><em>臂</em>末端的密封容器，以及出口通过液体输送管路与密封容器内腔相连通的双向泵；所述双向泵为齿轮泵或叶片泵。',\n",
       "      'scholars': '1078225253251445154',\n",
       "      '_score': 432.58902,\n",
       "      'type': 'patent'},\n",
       "     {'id': '1077799824522564011',\n",
       "      'title': '一种降低<em>柔性</em><em>机械</em><em>臂</em>末端位置弹性振动的装置',\n",
       "      'detail': '本实用新型公开了一种降低<em>柔性</em><em>机械</em><em>臂</em>末端位置弹性振动的装置，它包括固定机架、以及以悬臂的方式设置在固定机架上的<em>柔性</em><em>机械</em><em>臂</em>，所述<em>柔性</em><em>机械</em><em>臂</em>为前延伸端为封闭式结构的中空柱体，在所述中空柱腔内设置有弹簧，所述弹簧的前端与设置在中空柱腔内的固定弹簧座连接，弹簧的后端与设置在中空柱腔内的滑动弹簧座相连接；在位于滑动弹簧座相对于弹簧的另一侧面连接有连杆，所述连杆穿过固定机架与设置在固定机架上的用于驱动弹簧拉伸或压缩的直线驱动装置相连接。',\n",
       "      'scholars': '1078158327422657896;1078225253251445154',\n",
       "      '_score': 415.2463,\n",
       "      'type': 'patent'}]},\n",
       "   {'id': '1078227362873085398',\n",
       "    'name': '娄军强',\n",
       "    'birthday': '1986-07-11T15:00:00.000Z',\n",
       "    'title': None,\n",
       "    'major': '精密仪器制造',\n",
       "    'position': None,\n",
       "    'gender': '男',\n",
       "    'email': 'loujunqiang@nbu.edu.cn',\n",
       "    'phone': '15958885449',\n",
       "    'education': '博士研究生',\n",
       "    'headPortrait': None,\n",
       "    'brief': None,\n",
       "    'department': None,\n",
       "    'paper_count': '32',\n",
       "    'citation_count': '193',\n",
       "    'affiliation_id': '362',\n",
       "    'affiliation': '宁波大学',\n",
       "    'affiliation_name': '宁波大学',\n",
       "    'affiliation_name_en': 'Ningbo University',\n",
       "    'representList': [{'id': '1077801540609443204',\n",
       "      'title': '智能<em>柔性</em><em>机械</em><em>臂</em>的非线性耦合振动机理及模糊分尺度协调控制技术研究',\n",
       "      'detail': '',\n",
       "      'scholars': '1078227362873085398',\n",
       "      '_score': 397.41266,\n",
       "      'type': 'project'},\n",
       "     {'id': '1077797479873067049',\n",
       "      'title': '智能<em>柔性</em><em>机械</em><em>臂</em>的建模和振动主动控制研究',\n",
       "      'detail': '针对伺服电动机、谐波齿轮减速器、<em>柔性</em><em>臂</em>及压电致动器组成的智能<em>柔性</em><em>机械</em><em>臂</em>系统,基于假设模态法和Hamilton原理建立系统动力学方程.为了实现系统较高精度的位置控制,同时快速抑制<em>柔性</em><em>臂</em>的弹性振动,提出了对伺服电动机采用PD(proportional derivative)控制、对压电致动器采用模糊(fuzzy)控制的复合控制策略.在数值仿真分析的基础上,搭建了智能<em>柔性</em><em>机械</em><em>臂</em>系统测控平台.数值仿真和实验结果表明所提出的控制策略是可行的:PD控制算法控制伺服电动机以较高的位置精度完成了系统运动控制,模糊控制算法控制压电致动器较快地抑制了<em>柔性</em><em>臂</em>的弹性振动.实验中<em>柔性</em><em>臂</em>的振动衰减时间由6.5s缩短为3.5s,提高了<em>柔性</em><em>臂</em>末端的定位控制精度,改善了系统的操作效率.',\n",
       "      'scholars': '1078223040399563768;1078227362873085398',\n",
       "      '_score': 220.38084,\n",
       "      'type': 'paper'},\n",
       "     {'id': '1077801540609451435',\n",
       "      'title': '压电智能<em>柔性</em><em>臂</em>系统非线性耦合振动的分尺度协调控制方法研究',\n",
       "      'detail': '{E05-机械工程}{E0503-机械动力学}{E050301-振动/噪声测试、分析与控制}',\n",
       "      'scholars': '1078227362873085398',\n",
       "      '_score': 200.78763,\n",
       "      'type': 'project'}]},\n",
       "   {'id': '1032528364128507496',\n",
       "    'name': '邱志成',\n",
       "    'birthday': '1973-10-06T16:00:00.000Z',\n",
       "    'title': '教授,博导',\n",
       "    'major': '机械制造工艺与设备其他学科',\n",
       "    'position': '高等学校教师',\n",
       "    'gender': '男',\n",
       "    'email': None,\n",
       "    'phone': None,\n",
       "    'education': '博士研究生',\n",
       "    'headPortrait': None,\n",
       "    'brief': '邱志成\\n教职工\\n学生\\n校友\\n院长信箱\\n学校统一门户\\n导航\\ndata-nav-aside：代码识别标志，需放置在ul标签上，\\ntitle：显示的标题名称；\\nindex：区块\\n学院院徽\\n院士名师\\n教师名录\\n人事服务\\n科研团队\\n项目成果\\n院企合作\\n社会服务\\n学术会议\\n学术讲座\\n招生培养\\n本科招生\\n拓展教育\\n国际合作\\n交流动态\\n合作项目\\n外事指南\\n国际会议\\n实验室管理\\n实验室中心\\n设备资产\\n水电及公共用房\\n党群建设\\n工会之家\\n离退休工作\\n研究生\\n心理辅导\\n校友专栏\\n\\n',\n",
       "    'department': '机械与汽车工程学院',\n",
       "    'paper_count': None,\n",
       "    'citation_count': None,\n",
       "    'affiliation_id': '293',\n",
       "    'affiliation': '华南理工大学',\n",
       "    'affiliation_name': '华南理工大学',\n",
       "    'affiliation_name_en': 'South China University of Technology',\n",
       "    'representList': [{'id': '1032954493368882679',\n",
       "      'title': '气动驱动二自由度<em>柔性</em><em>机械</em><em>臂</em>装置和控制方法',\n",
       "      'detail': '本发明公开了一种气动驱动二自由度<em>柔性</em><em>机械</em><em>臂</em>装置和控制方法。该装置包括<em>柔性</em><em>机械</em><em>臂</em>本体、气动驱动部分和控制部分。<em>柔性</em><em>机械</em><em>臂</em>本体一端为自由端，另一端为固定端，固定端通过摆动法兰盘机械连接装置安装在摆动气缸的摆动法兰盘上。摆动气缸的转动角度由光电编码器检测，无杆移动气缸的位移由线性光栅尺检测。在<em>柔性</em><em>机械</em><em>臂</em>固定端粘贴有多片压电陶瓷片分别作为压电片传感器和压电驱动器，自由端安装一只加速度传感器。压电传感器或加速度传感器可检测<em>柔性</em><em>机械</em><em>臂</em>的振动。气动驱动部分由两个气动通路构成，分别用于驱动无杆移动气缸的移动和摆动气缸的摆动。控制部分，用于处理检测到的<em>柔性</em><em>机械</em><em>臂</em>移动、转动、振动信号并做出相应的处理。',\n",
       "      'scholars': '1032528364128507496',\n",
       "      '_score': 449.7251,\n",
       "      'type': 'patent'},\n",
       "     {'id': '1032954493368882710',\n",
       "      'title': '一种三自由度<em>柔性</em><em>机械</em><em>臂</em>控制装置与方法',\n",
       "      'detail': '本发明公开了一种三自由度<em>柔性</em><em>机械</em><em>臂</em>控制装置和方法。该装置包括<em>柔性</em><em>机械</em><em>臂</em>本体部分、伺服电机驱动部分和控制部分。三自由度的分布为：两个串联连接的转动<em>柔性</em><em>臂</em>分别由电机接减速器驱动，它们串联在一个丝杠传动的移动滑块上，丝杠基座和固定底座连接。三个交流伺服电机都带有光电编码器用于检测旋转角度。在<em>柔性</em><em>臂</em>靠近固定端粘贴多片压电陶瓷片分别作为压电片传感器和压电驱动器，靠近自由端各安装一只加速度传感器。压电片传感器或加速度传感器可分别检测柔性梁的振动。将检测的信号反馈，运行控制算法后分别由运动控制卡控制三个电机的运动。控制部分，用于处理检测到的柔性梁转动、振动信号并做出相应的处理。',\n",
       "      'scholars': '1032528364128503423;1032528364128507496',\n",
       "      '_score': 427.59375,\n",
       "      'type': 'patent'},\n",
       "     {'id': '1118567806462722240',\n",
       "      'title': '基于往复振动链体弹性基座的<em>柔性</em><em>机械</em><em>臂</em>控制装置及方法',\n",
       "      'detail': '本发明公开了基于往复振动链体弹性基座的<em>柔性</em><em>机械</em><em>臂</em>控制装置及方法,包括<em>柔性</em><em>臂</em>本体部分、振动检测部分及振动控制部分,所述<em>柔性</em><em>臂</em>本体部分包括三个柔性单体,三个柔性单体通过弹簧依次连接,并设置在直线导轨上,在活塞式激振器作用下,三个柔性单体产生往复运动,通过激光位移传感器和压电陶瓷传感器检测各柔性梁的振动,且利用压电陶瓷驱动器和伺服电机作为振动抑制的作动器。该装置能用来研究直线导轨摩擦、弹簧刚度等因素对链体弹性基座的<em>柔性</em><em>机械</em><em>臂</em>系统耦合振动的影响以及相应的振动控制方法。',\n",
       "      'scholars': '1032528364128507496;1112961591259037819;1115041001088876727',\n",
       "      '_score': 320.4846,\n",
       "      'type': 'patent'}]},\n",
       "   {'id': '1078223040399563768',\n",
       "    'name': '魏燕定',\n",
       "    'birthday': '1970-07-01T16:00:00.000Z',\n",
       "    'title': '教授',\n",
       "    'major': '数学基础',\n",
       "    'position': '高等学校教师',\n",
       "    'gender': '男',\n",
       "    'email': 'weiyd@zju.edu.cn',\n",
       "    'phone': None,\n",
       "    'education': '博士研究生',\n",
       "    'headPortrait': None,\n",
       "    'brief': 'Work Experience:\\nDec.2005 - Present Institute of manufacturing engineering and automation, College of Mechanical Engineering, Zhejiang University Professor\\nSep.1998 - Dec.2005 Institute of manufacturing engineering and automation, College of Mechanical Engineering, Zhejiang University Lecturer/Associate Professor\\nResearch\\n· Intelligent structure and vibration control\\n· Measurement, control and signal processing\\n· Fluidized bed pharmaceuticals and granulation process control\\n· Robot, optical mechanical and electrical integration',\n",
       "    'department': None,\n",
       "    'paper_count': '25',\n",
       "    'citation_count': '199',\n",
       "    'affiliation_id': '320',\n",
       "    'affiliation': '浙江大学',\n",
       "    'affiliation_name': '浙江大学',\n",
       "    'affiliation_name_en': 'Zhejiang University',\n",
       "    'representList': [{'id': '1077801540609455682',\n",
       "      'title': '具有弯扭耦合的空间多连杆<em>柔性</em><em>机械</em><em>臂</em>振动主动控制研究',\n",
       "      'detail': '{E05-机械工程}{E0503-机械动力学}{E050301-振动/噪声测试、分析与控制}',\n",
       "      'scholars': '1078223040399563768',\n",
       "      '_score': 405.59802,\n",
       "      'type': 'project'},\n",
       "     {'id': '1077797479873067049',\n",
       "      'title': '智能<em>柔性</em><em>机械</em><em>臂</em>的建模和振动主动控制研究',\n",
       "      'detail': '针对伺服电动机、谐波齿轮减速器、<em>柔性</em><em>臂</em>及压电致动器组成的智能<em>柔性</em><em>机械</em><em>臂</em>系统,基于假设模态法和Hamilton原理建立系统动力学方程.为了实现系统较高精度的位置控制,同时快速抑制<em>柔性</em><em>臂</em>的弹性振动,提出了对伺服电动机采用PD(proportional derivative)控制、对压电致动器采用模糊(fuzzy)控制的复合控制策略.在数值仿真分析的基础上,搭建了智能<em>柔性</em><em>机械</em><em>臂</em>系统测控平台.数值仿真和实验结果表明所提出的控制策略是可行的:PD控制算法控制伺服电动机以较高的位置精度完成了系统运动控制,模糊控制算法控制压电致动器较快地抑制了<em>柔性</em><em>臂</em>的弹性振动.实验中<em>柔性</em><em>臂</em>的振动衰减时间由6.5s缩短为3.5s,提高了<em>柔性</em><em>臂</em>末端的定位控制精度,改善了系统的操作效率.',\n",
       "      'scholars': '1078223040399563768;1078227362873085398',\n",
       "      '_score': 219.68515,\n",
       "      'type': 'paper'},\n",
       "     {'id': '1032528390384853140',\n",
       "      'title': '伺服关节驱动的<em>柔性</em><em>臂</em>系统耦合动力学模型辨识与实验',\n",
       "      'detail': '针对整个伺服关节驱动的<em>柔性</em><em>机械</em><em>臂</em>系统,在考虑其机电、刚柔耦合特性的基础上,理论上进行了动力学建模.分析了包含直流伺服电机、谐波减速器以及伺服驱动器的伺服关节的驱动及摩擦特性,对实验中测到的电机匀速正反转数据进行线性拟合,得到了关节驱动模型中的库伦摩擦力常数和黏滞摩擦力系数.分别建立了从伺服电机驱动电压到光电编码器检测的电机转角、从伺服驱动电压到代表<em>柔性</em><em>臂</em>振动的应变桥路输出之间的理论传递函数,以伪随机二进制序列为激励信号,通过实验辨识得到了此对应伺服关节<em>柔性</em><em>臂</em>转动与振动耦合以及机电耦合的两个传递函数,在伪随机和正弦信号激励下,辨识得到的传递函数模型与实际结构的转动位移和振动响应具有较高的一致性.从而得到了伺服关节驱动的<em>柔性</em><em>臂</em>系统刚柔耦合、机电耦合的动力学模型.',\n",
       "      'scholars': '1032528364128508708;1032646678972596238;1032646679077453839;1078223040399563768;1078227362873085398',\n",
       "      '_score': 144.84442,\n",
       "      'type': 'paper'}]},\n",
       "   {'id': '1078282340291589139',\n",
       "    'name': '马天兵',\n",
       "    'birthday': None,\n",
       "    'title': '硕导',\n",
       "    'major': '机械工程',\n",
       "    'position': None,\n",
       "    'gender': '男',\n",
       "    'email': None,\n",
       "    'phone': None,\n",
       "    'education': '博士研究生',\n",
       "    'headPortrait': None,\n",
       "    'brief': None,\n",
       "    'department': None,\n",
       "    'paper_count': '3',\n",
       "    'citation_count': '0',\n",
       "    'affiliation_id': '2751',\n",
       "    'affiliation': '安徽理工大学',\n",
       "    'affiliation_name': '安徽理工大学',\n",
       "    'affiliation_name_en': 'Anhui University of Science and Technology',\n",
       "    'representList': [{'id': '1077800414736618148',\n",
       "      'title': '基于机器视觉的<em>柔性</em><em>机械</em><em>臂</em>减振试验装置及其使用方法',\n",
       "      'detail': '本发明公开了一种基于机器视觉的<em>柔性</em><em>机械</em><em>臂</em>减振试验装置，该装置包括第一步进电机、第二步进电机、固定基座、连接<em>臂</em>、<em>柔性</em>悬臂、CCD相机、镜头、相机平衡支架、压电片、电荷放大器和PC机。CCD相机固定于相机平衡支架上，在步进电机的带动下与柔性悬臂保持同步转动，CCD相机采集每帧图像传入PC机进行分析处理并输出信号，控制电荷放大器输出相应电压，驱动柔性悬臂最大应力处粘贴的压电片反向作动，以抑制柔性悬臂振动。本发明能够在非接触的前提下，实现<em>柔性</em><em>机械</em><em>臂</em>的振动控制，同时也可进行机器视觉相关的减振试验和研究，装置结构简单，造价低廉。',\n",
       "      'scholars': '1078282340291589139',\n",
       "      '_score': 366.93298,\n",
       "      'type': 'patent'},\n",
       "     {'id': '1077799850158136762',\n",
       "      'title': '一种<em>柔性</em><em>机械</em><em>臂</em>振动实验专用底座',\n",
       "      'detail': '本发明公开了一种<em>柔性</em><em>机械</em><em>臂</em>振动实验专用底座，包括安装座、定位螺钉、定位滑块、螺杆、轴承、联轴器、步进电机、单片机，所述安装座的左右端面处设有轴承孔；所述安装座的上端面设有长方形凹槽；所述轴承安装在轴承孔中；所述螺杆通过安装在轴承孔的轴承与安装座相连；所述定位滑块与螺杆相连；所述螺杆的左侧与联轴器一端相连；所述联轴器另一端与步进电机相连；所述单片机通过连接线与步进电机相连；所述安装座的右侧上方位置的前后端面开有螺纹孔；所述定位螺钉安装在螺纹孔内。本发明具有尺寸适用范围广、固定牢靠、调节灵活等优点，适用于<em>柔性</em><em>机械</em><em>臂</em>振动实验使用。',\n",
       "      'scholars': '1078275662447932500;1078282340291589139',\n",
       "      '_score': 366.81027,\n",
       "      'type': 'patent'},\n",
       "     {'id': '1032528451470689683',\n",
       "      'title': '一种<em>柔性</em><em>机械</em><em>臂</em>振动实验专用底座',\n",
       "      'detail': '本发明公开了一种<em>柔性</em><em>机械</em><em>臂</em>振动实验专用底座，包括安装座、定位螺钉、定位滑块、螺杆、轴承、联轴器、步进电机、单片机，所述安装座的左右端面处设有轴承孔；所述安装座的上端面设有长方形凹槽；所述轴承安装在轴承孔中；所述螺杆通过安装在轴承孔的轴承与安装座相连；所述定位滑块与螺杆相连；所述螺杆的左侧与联轴器一端相连；所述联轴器另一端与步进电机相连；所述单片机通过连接线与步进电机相连；所述安装座的右侧上方位置的前后端面开有螺纹孔；所述定位螺钉安装在螺纹孔内。本发明具有尺寸适用范围广、固定牢靠、调节灵活等优点，适用于<em>柔性</em><em>机械</em><em>臂</em>振动实验使用。',\n",
       "      'scholars': '1032528364128508281;1078282340291589139',\n",
       "      '_score': 312.49603,\n",
       "      'type': 'patent'}]},\n",
       "   {'id': '1032528364128509754',\n",
       "    'name': '刘金琨',\n",
       "    'birthday': '1965-10-13T16:00:00.000Z',\n",
       "    'title': '教授',\n",
       "    'major': '精密仪器制造',\n",
       "    'position': '高等学校教师',\n",
       "    'gender': '男',\n",
       "    'email': None,\n",
       "    'phone': None,\n",
       "    'education': '博士研究生',\n",
       "    'headPortrait': None,\n",
       "    'brief': \"刘金琨(教授)\\n教授博士生导师硕士生导师\\n性别：男\\n出生年月：1965-10-14\\n毕业院校：东北大学\\n学历：博士研究生毕业\\n学位：博士学位\\n在职信息：在职\\n所在单位：北京航空航天大学\\n入职时间：1999-11-01\\n职务：教授\\n办公地点：北航新主楼E座1102室\\n联系方式：010-82315354\\nEmail：9b4bebbfc40dc2214223ae2b57f796278cc46d20b97cdb526e5ed6dad6056c2a7b1407169034c9848da3483fcf8b413f6da48028efa89ba33c2d5e2911e8c8c3958b7b6de96f5b60c88e6491363e436333a195764b929f3c4d09e9e0106cb503ff0005c02c2ef5ff3c0c4fcc916961c6942b2e2d3218aa9b9aa0db361fc0840a\\n访问量：\\n最后更新时间：\\n同专业博导\\n同专业硕导\\n开授课程\\n论文\\n其他栏目\\n教育经历\\n[1]1985.9-1989.9\\n东北大学\\n冶金工程\\nBachelor'sDegree\\n大学本科毕业\\n[2]1991.9-1994.3\\n东北大学\\n冶金工程\\nMaster'sDegree\\n硕士研究生毕业\\n[3]1994.3-1997.3\\n东北大学\\n控制理论与控制工程\\n博士学位\\n博士研究生毕业\\n工作经历\\n[1]1999.11-2016.5\\n北京航空航天大学\\n自动化科学与电气工程学院\\n教授，博士生导师\\n从事教学与科研工作\\n[2]1997.3-1998.12\\n浙江大学\\n工业控制技术研究所\\n从事多智能体分布式智能控制\\n[3]1999.1-1999.10\\n香港科技大学\\n化学工程系\\n从事化学工业过程控制\\n研究方向\\n[1]多年来一直从事控制理论与应用的研究工作，理论研究方向主要为智能控制、自适应控制、滑模控制、分布式参数建模与控制等，应用领域主要为飞行控制、机器人控制和电机控制等。\\n\\n\",\n",
       "    'department': '自动化科学与电气工程学院',\n",
       "    'paper_count': '52',\n",
       "    'citation_count': '325',\n",
       "    'affiliation_id': '33',\n",
       "    'affiliation': '北京航空航天大学',\n",
       "    'affiliation_name': '北京航空航天大学',\n",
       "    'affiliation_name_en': 'Beihang University',\n",
       "    'representList': [{'id': '1032980862614178084',\n",
       "      'title': 'N连杆<em>柔性</em><em>机械</em><em>臂</em>PDE建模及自适应边界控制理论研究',\n",
       "      'detail': '{F03-自动化}{F0301-控制理论与方法}{F030102-过程与运动体控制}',\n",
       "      'scholars': '1032528364128509754',\n",
       "      '_score': 405.79932,\n",
       "      'type': 'project'},\n",
       "     {'id': '1032954493368867372',\n",
       "      'title': '一种基于干扰观测器的<em>柔性</em>关节<em>机械</em><em>臂</em>的滑模控制方法',\n",
       "      'detail': '本发明一种基于干扰观测器的<em>柔性</em>关节<em>机械</em><em>臂</em>的滑模控制方法，有七大步骤。步骤一：欠驱动<em>柔性</em>关节<em>机械</em><em>臂</em>系统的分析与建模；步骤二：干扰观测器的设计及稳定性分析；步骤三：滑模控制律的设计；步骤四：滑模控制律稳定性分析；步骤五：参数ci的设计与调节；步骤六：由仿真效果判断是否需要对参数进行调整；步骤七：设计结束。该控制方法采用滑模控制和干扰观测器相结合，能够实现其跟踪的高精度控制，达到快速稳定的设计要求，并且通过在滑模控制器中加入扰动补偿，可有效地消除抖振，同时实现该欠驱动系统的鲁棒控制。',\n",
       "      'scholars': '1032528364128509754',\n",
       "      '_score': 215.57475,\n",
       "      'type': 'patent'},\n",
       "     {'id': '1032903344590759622',\n",
       "      'title': 'Vibration control of <em>flexible</em> <em>manipulator</em> with unknown control direction',\n",
       "      'detail': \"The vibration control problem of the <em>flexible</em> <em>manipulator</em> with unknown control direction is studied in this paper. Using Hamilton's principle, we derive the partial differential equation (PDE) dynamic model of the system, which can accurately characterise the <em>flexible</em> <em>manipulator</em>. On this basis, a boundary control approach is proposed, and Nussbaum function is adopted in the controller design to circumvent the problem of unknown control directions. Under the action of the proposed controller, the <em>flexible</em> <em>manipulator</em> can reach the desired angle and eliminate vibration without knowing the control direction. The asymptotic stability of the whole closed-loop system is verified by Lyapunov's direct method in detail, and the effectiveness of the designed control scheme is validated by numerical simulations.\",\n",
       "      'scholars': '1032528364128509754',\n",
       "      '_score': 81.58865,\n",
       "      'type': 'paper'}]},\n",
       "   {'id': '1078221405661186969',\n",
       "    'name': '边宇枢',\n",
       "    'birthday': '1971-05-01T16:00:00.000Z',\n",
       "    'title': '教授',\n",
       "    'major': '自动控制技术其他学科',\n",
       "    'position': '高等学校教师',\n",
       "    'gender': '男',\n",
       "    'email': 'bian_bys@buaa.edu.cn',\n",
       "    'phone': '15010159188',\n",
       "    'education': '博士研究生',\n",
       "    'headPortrait': None,\n",
       "    'brief': None,\n",
       "    'department': None,\n",
       "    'paper_count': '11',\n",
       "    'citation_count': '22',\n",
       "    'affiliation_id': '33',\n",
       "    'affiliation': '北京航空航天大学',\n",
       "    'affiliation_name': '北京航空航天大学',\n",
       "    'affiliation_name_en': 'Beihang University',\n",
       "    'representList': [{'id': '1077799904445008747',\n",
       "      'title': '一种基于磁流变技术的<em>柔性</em><em>机械</em><em>臂</em>减振装置与方法',\n",
       "      'detail': '本发明涉及一种基于磁流变技术的<em>柔性</em><em>机械</em><em>臂</em>减振装置与方法，属于<em>柔性</em><em>机械</em><em>臂</em>振动控制技术领域。减振装置包括刚柔耦合机械臂、磁流变弹性体减振装置以及反馈控制回路，其中刚柔耦合机械臂由刚性机械臂、电机安装板、伺服电机、谐波减速器、<em>柔性</em><em>机械</em><em>臂</em>安装座和<em>柔性</em><em>机械</em><em>臂</em>组成，磁流变弹性体减振装置由铁芯、导杆、固定座、磁流变弹性体、永磁铁和电磁线圈组成，反馈控制回路由两个加速度传感器、电荷放大器、数据采集系统、PC上位机和程控电源组成。PC上位机通过对两个加速度传感器反馈信号的分析处理来调节电磁线圈两端的供给电压，进而改变磁流变弹性体的刚度，从而满足系统内共振的要求。本发明具有减振效果明显、耗能少，适合大振幅减振的特点。',\n",
       "      'scholars': '1078221405661186969',\n",
       "      '_score': 442.81885,\n",
       "      'type': 'patent'},\n",
       "     {'id': '1077799774182520933',\n",
       "      'title': '基于可控刚度和可控阻尼的<em>柔性</em><em>机械</em><em>臂</em>减振装置与方法',\n",
       "      'detail': '本发明涉及基于可控刚度和可控阻尼的<em>柔性</em><em>机械</em><em>臂</em>减振装置与方法，属于<em>柔性</em><em>机械</em><em>臂</em>的振动控制技术领域。减振装置包括<em>柔性</em><em>机械</em><em>臂</em>、磁流变减振装置以及起连接作用的直线导轨组件，其中<em>柔性</em><em>机械</em><em>臂</em>为振动控制对象，磁流变减振装置由磁路铁芯、励磁线圈、线圈挡板、磁流变弹性体和磁流变液阻尼器组成，直线导轨组件由<em>柔性</em><em>机械</em><em>臂</em>夹板、导轨安装梁、直线导轨、滑块、磁流变减振装置夹板和弹性体安装板组成。磁流变减振装置中弹性体刚度和阻尼器阻尼均可通过改变励磁电流来控制，从而满足系统中机械臂与磁流变减振装置之间的内共振要求，并通过阻尼器消耗振动能量。本发明具有减振频带宽、效果好，适合大振幅减振的特点。',\n",
       "      'scholars': '1078221405661186969',\n",
       "      '_score': 441.61877,\n",
       "      'type': 'patent'},\n",
       "     {'id': '1077800290283253160',\n",
       "      'title': '一种基于2:1内共振的<em>柔性</em><em>机械</em><em>臂</em>耗能减振方法及实现装置',\n",
       "      'detail': '一种基于2:1内共振的<em>柔性</em><em>机械</em><em>臂</em>耗能减振装置，它由吸振器安装座、扭转弹簧，连接转盘，惯性调节球，摆动支杆和可调阻尼器组成，其中：吸振器安装座通过螺钉与<em>柔性</em><em>机械</em><em>臂</em>连接，可调阻尼器通过螺栓与吸振器安装座连接，连接转盘紧固在可调阻尼器的转轴上，扭转弹簧穿过可调阻尼器的转轴，扭转弹簧的两端分别与可调阻尼器及连接转盘连接，摆动支杆与连接转盘螺纹连接，惯性调节球经通孔穿过摆动支杆并由紧定螺钉与摆动支杆固连；一种基于2:1内共振的<em>柔性</em><em>机械</em><em>臂</em>耗能减振方法，它有十二大步骤。本发明可以应用于航空航天<em>柔性</em><em>臂</em>杆机构、微电子制造<em>柔性</em><em>机械</em><em>臂</em>及机器人系统柔性机械手等的振动控制，具有减振效果明显、结构简单和鲁棒性好的特点。',\n",
       "      'scholars': '1078221405661186969;1078297004689863728;1128617298973032454',\n",
       "      '_score': 422.45184,\n",
       "      'type': 'patent'}]},\n",
       "   {'id': '1112940802312896533',\n",
       "    'name': '王学谦',\n",
       "    'birthday': None,\n",
       "    'title': '副研究员',\n",
       "    'major': None,\n",
       "    'position': None,\n",
       "    'gender': None,\n",
       "    'email': 'wang.xq@sz.tsinghua.edu.cn',\n",
       "    'phone': '0755-26036740',\n",
       "    'education': None,\n",
       "    'headPortrait': None,\n",
       "    'brief': '【个人简历】\\n2010年6月-2014年2月，哈尔滨工业大学/深圳航天科技创新研究院，博士后\\n2014年3月-至今，清华大学，深圳研究生院，副研究员\\n\\n【教学】\\n“飞行控制系统”，32学时\\n“计算机网络与多媒体技术实验与设计”，24学时\\n“空间机器人技术”，16学时\\n\\n【研究领域】\\n主要从事智能机器人研究，包括机器人动力学与控制、遥操作、深度强化学习、故障诊断等。现为智能控制与遥科学研究中心负责人、深圳市空间机器人与遥科学重点实验室副主任。作为课题负责人主持各类项目20余项，累计科研经费6000多万元。发表学术论文70余篇，授权及申请国家发明专利18项。\\n\\n【学术兼职】\\n2017年9月至今，国家级专家\\n2016年7月至今，广东省机械工业专家委员会专家\\n2014年1月-2016年12月，国际水中机器人联盟常务委员\\n\\n【奖励荣誉】\\n（1）三维手势遥操作技术及试验，省部级科学技术进步一等奖，2017（2/15）；\\n（2）机器人系统设计与关键技术，省部级科技进步一等奖，2014（4/15）；\\n（3）机器人技术与科学试验，国家科技进步特等奖，2015（49/50）；\\n（4）国家高技术研究发展计划（863计划）“十二五”科技创新之星，2016。',\n",
       "    'department': None,\n",
       "    'paper_count': '9',\n",
       "    'citation_count': None,\n",
       "    'affiliation_id': '88951827',\n",
       "    'affiliation': '清华大学深圳国际研究生院',\n",
       "    'affiliation_name': '清华大学深圳国际研究生院',\n",
       "    'affiliation_name_en': None,\n",
       "    'representList': [{'id': '1032954611803453118',\n",
       "      'title': '一种<em>柔性</em><em>机械</em><em>臂</em>的残余振动抑制方法',\n",
       "      'detail': '本发明公开了一种<em>柔性</em><em>机械</em><em>臂</em>的残余振动抑制方法，包括以下步骤：S1：建立所述<em>柔性</em><em>机械</em><em>臂</em>的动力学方程；S2：通过波形控制方法来抑制所述<em>柔性</em><em>机械</em><em>臂</em>的振动。本发明提出的<em>柔性</em><em>机械</em><em>臂</em>的残余振动抑制方法，不需要精确的物理模型，就能够实现<em>柔性</em><em>机械</em><em>臂</em>的振动抑制。',\n",
       "      'scholars': '1032528364128507618;1112940802254176275;1112940802312896533;1112940802375811095',\n",
       "      '_score': 430.203,\n",
       "      'type': 'patent'},\n",
       "     {'id': '1032528451470698776',\n",
       "      'title': '<em>柔性</em><em>机械</em><em>臂</em>遥操作装置及遥操作方法',\n",
       "      'detail': '一种<em>柔性</em><em>机械</em><em>臂</em>遥操作方法包括：获取遥控装置的当前位姿信息；对所述遥控装置的当前位姿信息进行优化处理；根据所述优化处理后的遥控装置的当前位姿信息计算<em>柔性</em><em>机械</em><em>臂</em>的末端位姿、<em>柔性</em><em>机械</em><em>臂</em>的各关节的构型角、以及控制<em>柔性</em><em>机械</em><em>臂</em>的各关节的至少三根绳索的绳长；根据预设的<em>柔性</em><em>机械</em><em>臂</em>的运动范围及运动速度范围检测所述<em>柔性</em><em>机械</em><em>臂</em>的末端位姿、所述<em>柔性</em><em>机械</em><em>臂</em>的各关节的构型角、以及所述控制<em>柔性</em><em>机械</em><em>臂</em>的各关节的至少三根绳索的绳长的数据具有正确性；根据具有正确性的所述<em>柔性</em><em>机械</em><em>臂</em>的末端位姿、所述<em>柔性</em><em>机械</em><em>臂</em>的各关节的构型角、以及所述控制<em>柔性</em><em>机械</em><em>臂</em>的各关节的至少三根绳索的绳长传送控制信号至所述<em>柔性</em><em>机械</em><em>臂</em>，从而可远程遥控<em>柔性</em><em>机械</em><em>臂</em>。',\n",
       "      'scholars': '1112940802254176275;1112940802312896533;1112940802375811095;1115032746308534538;1118129087901466815;1119138544043294727',\n",
       "      '_score': 355.33664,\n",
       "      'type': 'patent'},\n",
       "     {'id': '1032954611803453172',\n",
       "      'title': '<em>柔性</em><em>机械</em><em>臂</em>遥操作装置及遥操作方法',\n",
       "      'detail': '一种<em>柔性</em><em>机械</em><em>臂</em>遥操作方法包括：获取遥控装置的当前位姿信息；对所述遥控装置的当前位姿信息进行优化处理；根据所述优化处理后的遥控装置的当前位姿信息计算<em>柔性</em><em>机械</em><em>臂</em>的末端位姿、<em>柔性</em><em>机械</em><em>臂</em>的各关节的构型角、以及控制<em>柔性</em><em>机械</em><em>臂</em>的各关节的至少三根绳索的绳长；根据预设的<em>柔性</em><em>机械</em><em>臂</em>的运动范围及运动速度范围检测所述<em>柔性</em><em>机械</em><em>臂</em>的末端位姿、所述<em>柔性</em><em>机械</em><em>臂</em>的各关节的构型角、以及所述控制<em>柔性</em><em>机械</em><em>臂</em>的各关节的至少三根绳索的绳长的数据具有正确性；根据具有正确性的所述<em>柔性</em><em>机械</em><em>臂</em>的末端位姿、所述<em>柔性</em><em>机械</em><em>臂</em>的各关节的构型角、以及所述控制<em>柔性</em><em>机械</em><em>臂</em>的各关节的至少三根绳索的绳长传送控制信号至所述<em>柔性</em><em>机械</em><em>臂</em>，从而可远程遥控<em>柔性</em><em>机械</em><em>臂</em>。',\n",
       "      'scholars': '1112940802254176275;1112940802312896533;1112940802375811095;1115032746308534538;1118129087901466815;1119138544043294727',\n",
       "      '_score': 355.33664,\n",
       "      'type': 'patent'}]},\n",
       "   {'id': '1078235695432617978',\n",
       "    'name': '杜菲',\n",
       "    'birthday': None,\n",
       "    'title': None,\n",
       "    'major': None,\n",
       "    'position': None,\n",
       "    'gender': None,\n",
       "    'email': None,\n",
       "    'phone': None,\n",
       "    'education': None,\n",
       "    'headPortrait': None,\n",
       "    'brief': None,\n",
       "    'department': None,\n",
       "    'paper_count': None,\n",
       "    'citation_count': None,\n",
       "    'affiliation_id': '2751',\n",
       "    'affiliation': '安徽理工大学',\n",
       "    'affiliation_name': '安徽理工大学',\n",
       "    'affiliation_name_en': 'Anhui University of Science and Technology',\n",
       "    'representList': [{'id': '1077799992458300621',\n",
       "      'title': '基于机器视觉的<em>柔性</em>双关节<em>机械</em><em>臂</em>振动的测量装置',\n",
       "      'detail': '本实用新型公开了一种基于机器视觉的<em>柔性</em>双关节<em>机械</em><em>臂</em>振动的测量装置。该装置包括双关节<em>柔性</em><em>机械</em><em>臂</em>、CCD相机、相机固定装置、绝对值编码器、多个LED发光管和PC机。绝对值编码器安装于转动电机上，LED发光管放置在两臂杆尾端，CCD相机安置于中间关节处，CCD相机和编码器的输出端口与PC机连接。相机固定装置使相机镜头方向处于两臂杆形成的夹角的角平分线方向，CCD相机检测的每一帧图像与编码器的实时定位数据传送至PC机；经PC机处理，与此运动位置静止时光斑位置相比较，得到光源的振动位移，进而分析机械臂振动特征。本实用新型可不接触、不改变被测物振动特性地测量两臂杆的振动特征，方便比较与研究，可以被广泛应用。',\n",
       "      'scholars': '1078235695432617978;1078282340291589139',\n",
       "      '_score': 263.2901,\n",
       "      'type': 'patent'},\n",
       "     {'id': '1077799992458301493',\n",
       "      'title': '基于机器视觉的<em>柔性</em>双关节<em>机械</em><em>臂</em>振动的测量装置及方法',\n",
       "      'detail': '本发明公开了一种基于机器视觉的<em>柔性</em>双关节<em>机械</em><em>臂</em>振动的测量装置及方法。该装置包括双关节<em>柔性</em><em>机械</em><em>臂</em>、CCD相机、相机固定装置、绝对值编码器、多个LED发光管和PC机。绝对值编码器安装于转动电机上，LED发光管放置在两臂杆尾端，CCD相机安置于中间关节处，CCD相机和编码器的输出端口与PC机连接。相机固定装置使相机镜头方向处于两臂杆形成的夹角的角平分线方向，CCD相机检测的每一帧图像与编码器的实时定位数据传送至PC机；经PC机处理，与此运动位置静止时光斑位置相比较，得到光源的振动位移，进而分析机械臂振动特征。本发明可不接触、不改变被测物振动特性地测量两臂杆的振动特征，方便比较与研究，可以被广泛应用。',\n",
       "      'scholars': '1032528364128507317;1078235695432617978;1078282340291589139;1136878725124653057',\n",
       "      '_score': 261.05258,\n",
       "      'type': 'patent'},\n",
       "     {'id': '1077798148923278173',\n",
       "      'title': '基于PPF-DVFB算法的压电<em>柔性</em><em>机械</em><em>臂</em>振动主动控制研究',\n",
       "      'detail': '<em>柔性</em><em>机械</em><em>臂</em>的振动已经严重影响其定位精度和工作效率,为此,以单关节<em>柔性</em><em>机械</em><em>臂</em>为研究对象,基于LabVIEW平台和压电技术运用PPF-DVFB的算法来进行<em>柔性</em><em>机械</em><em>臂</em>的振动控制。首先介绍了PPF-DVFB算法原理,然后详细地论述了实验过程。实验结果表明,PPF-DVFB算法能有效的控制<em>柔性</em><em>机械</em><em>臂</em>的前两阶模态振动,控制效果接近14dB,相对于PPF方法,改善近4.5dB。',\n",
       "      'scholars': '1078235695432617978;1078282340291589139',\n",
       "      '_score': 219.35109,\n",
       "      'type': 'paper'}]},\n",
       "   {'id': '1032528364128503436',\n",
       "    'name': '陈力',\n",
       "    'birthday': None,\n",
       "    'title': None,\n",
       "    'major': None,\n",
       "    'position': None,\n",
       "    'gender': None,\n",
       "    'email': None,\n",
       "    'phone': None,\n",
       "    'education': None,\n",
       "    'headPortrait': None,\n",
       "    'brief': None,\n",
       "    'department': None,\n",
       "    'paper_count': '3',\n",
       "    'citation_count': '8',\n",
       "    'affiliation_id': '1237',\n",
       "    'affiliation': '福州大学',\n",
       "    'affiliation_name': '福州大学',\n",
       "    'affiliation_name_en': 'Fuzhou University',\n",
       "    'representList': [{'id': '1128618988489015304',\n",
       "      'title': '多<em>柔性</em><em>臂</em>空间机器人系统的动力学、控制',\n",
       "      'detail': '{A02-力学}{A0202-动力学与控制}{A020205-多体系统动力学}',\n",
       "      'scholars': '1032528364128503436',\n",
       "      '_score': 202.90543,\n",
       "      'type': 'project'},\n",
       "     {'id': '1128618984936439812',\n",
       "      'title': '漂浮基<em>柔性</em>关节、<em>柔性</em><em>臂</em>空间机器人系统动力学、控制及<em>柔性</em>振动分级主动抑制',\n",
       "      'detail': '',\n",
       "      'scholars': '1032528364128503436',\n",
       "      '_score': 197.5659,\n",
       "      'type': 'project'},\n",
       "     {'id': '1032528390384850092',\n",
       "      'title': '<em>柔性</em><em>臂</em>杆、<em>柔性</em>关节空间<em>机械</em><em>臂</em>T-S模糊轨迹跟踪及双柔振动并行综合控制',\n",
       "      'detail': '针对存在参数不确定和外界干扰的<em>柔性</em><em>臂</em>杆、<em>柔性</em>关节空间<em>机械</em><em>臂</em>追踪期望运动的问题，设计了基于T-S模糊模型的滑模鲁棒控制方案和双柔性振动并行控制方案。首先，设计了关节柔性补偿器以提高系统的等效关节刚度。其次，利用反馈线性化技术建立了系统追踪期望轨迹的误差动力学方程，通过对系统Lyapunov稳定性证明来选择滑模控制参数；简化并改进T-S模糊推理规则，提出了模糊滑模鲁棒控制方法，可解决滑模控制的抖振问题并具有计算量少、控制力矩小的优点。再次，提出了<em>柔性</em><em>臂</em>杆振动模态的直接反馈控制方案，解决了双柔性并行综合控制的问题。最后，运用逐步仿真的方法，对比仿真结果，证实了所设计轨迹跟踪、双柔性并行综合控制方案的有效性和稳定性。',\n",
       "      'scholars': '1032528364128503436;1032643432132509716;1032643432237367317',\n",
       "      '_score': 184.09294,\n",
       "      'type': 'paper'}]}],\n",
       "  'ageAgg': [{'value': '<=30', 'count': 5},\n",
       "   {'value': '31~38', 'count': 21},\n",
       "   {'value': '39~45', 'count': 196},\n",
       "   {'value': '46~60', 'count': 505},\n",
       "   {'value': '>=61', 'count': 156},\n",
       "   {'value': '未知', 'count': 3289}],\n",
       "  'titleAgg': [{'value': '正高', 'count': 622},\n",
       "   {'value': '副高', 'count': 249},\n",
       "   {'value': '中级', 'count': 69},\n",
       "   {'value': '其它', 'count': 3232}],\n",
       "  'countryAgg': [{'value': '中', 'count': 4172}, {'value': '外', 'count': 0}],\n",
       "  'keywords': ['柔性臂',\n",
       "   '柔性机械臂',\n",
       "   '柔性外肢体',\n",
       "   'flexible arm',\n",
       "   'flexible manipulator',\n",
       "   'flexible mechanical arm']}}"
      ]
     },
     "execution_count": 18,
     "metadata": {},
     "output_type": "execute_result"
    }
   ],
   "source": [
    "json.loads(dr.find_element_by_tag_name('pre').text)"
   ]
  },
  {
   "cell_type": "code",
   "execution_count": 40,
   "metadata": {
    "ExecuteTime": {
     "end_time": "2021-11-22T10:25:35.857428Z",
     "start_time": "2021-11-22T10:25:35.810392Z"
    }
   },
   "outputs": [],
   "source": [
    "p = json.loads(dr.find_element_by_tag_name('pre').text)['data']['list'][0]"
   ]
  },
  {
   "cell_type": "code",
   "execution_count": 41,
   "metadata": {
    "ExecuteTime": {
     "end_time": "2021-11-22T10:25:36.278395Z",
     "start_time": "2021-11-22T10:25:36.270428Z"
    }
   },
   "outputs": [],
   "source": [
    "df = pd.DataFrame(columns=['序号','姓名','单位','职称','研究领域','邮箱','电话','相关研究'])"
   ]
  },
  {
   "cell_type": "code",
   "execution_count": 42,
   "metadata": {
    "ExecuteTime": {
     "end_time": "2021-11-22T10:25:36.625428Z",
     "start_time": "2021-11-22T10:25:36.615396Z"
    }
   },
   "outputs": [],
   "source": [
    "df.loc[len(df)] = [len(df), p['name'], p['affiliation'], p['title'], p['major'], p['email'], p['phone'], \n",
    "                  ';'.join(\n",
    "                      x['title'].replace('<em>','').replace('</em>','')\n",
    "                      for x in p['representList']\n",
    "                  )]"
   ]
  },
  {
   "cell_type": "code",
   "execution_count": 46,
   "metadata": {
    "ExecuteTime": {
     "end_time": "2021-11-22T10:27:41.329790Z",
     "start_time": "2021-11-22T10:27:41.282793Z"
    }
   },
   "outputs": [],
   "source": [
    "df.to_excel(path + r'\\1.xlsx',index=0)"
   ]
  },
  {
   "cell_type": "code",
   "execution_count": 48,
   "metadata": {
    "ExecuteTime": {
     "end_time": "2021-11-22T10:37:07.074841Z",
     "start_time": "2021-11-22T10:37:07.063868Z"
    }
   },
   "outputs": [],
   "source": [
    "def getExperts ():\n",
    "    page = 1\n",
    "    cnt = 1\n",
    "    df = pd.DataFrame(columns=['序号','姓名','单位','职称','研究领域','邮箱','电话','相关研究'])\n",
    "    while True:\n",
    "        url = f'http://landinn-front.lunjian.team/backend/tuijian-api/query?keywords=%E6%9F%94%E6%80%A7%E8%87%82,%E6%9F%94%E6%80%A7%E6%9C%BA%E6%A2%B0%E8%87%82,%E6%9F%94%E6%80%A7%E5%A4%96%E8%82%A2%E4%BD%93,flexible%20arm,flexible%20manipulator,flexible%20mechanical%20arm&page={page}&pageSize=10&isTranslate=false&filterExpression=%E5%9B%BD%E5%AE%B6:%E4%B8%AD'\n",
    "        dv.get(url)\n",
    "        ps = json.loads(dr.find_element_by_tag_name('pre').text)['data']['list']\n",
    "        if not ps: break\n",
    "        for p in ps:\n",
    "            cnt += 1\n",
    "            if p['email'] or p['phone']:\n",
    "                df.loc[len(df)] = [len(df), p['name'], p['affiliation'], p['title'], p['major'], p['email'], p['phone'], \n",
    "                    ';'.join(\n",
    "                        x['title'].replace('<em>','').replace('</em>','')\n",
    "                        for x in p['representList']\n",
    "                    )]\n",
    "        page += 1\n",
    "    print(cnt)\n",
    "    df.to_excel(path + r'\\柔性臂.xlsx',index=0)"
   ]
  },
  {
   "cell_type": "code",
   "execution_count": 49,
   "metadata": {
    "ExecuteTime": {
     "end_time": "2021-11-22T10:40:01.419735Z",
     "start_time": "2021-11-22T10:37:13.425935Z"
    }
   },
   "outputs": [
    {
     "name": "stdout",
     "output_type": "stream",
     "text": [
      "4173\n"
     ]
    }
   ],
   "source": [
    "getExperts()"
   ]
  },
  {
   "cell_type": "markdown",
   "metadata": {},
   "source": [
    "# 关闭"
   ]
  },
  {
   "cell_type": "code",
   "execution_count": null,
   "metadata": {},
   "outputs": [],
   "source": [
    "dv.quit()"
   ]
  }
 ],
 "metadata": {
  "kernelspec": {
   "display_name": "Python 3",
   "language": "python",
   "name": "python3"
  },
  "language_info": {
   "codemirror_mode": {
    "name": "ipython",
    "version": 3
   },
   "file_extension": ".py",
   "mimetype": "text/x-python",
   "name": "python",
   "nbconvert_exporter": "python",
   "pygments_lexer": "ipython3",
   "version": "3.8.3"
  },
  "latex_envs": {
   "LaTeX_envs_menu_present": true,
   "autoclose": false,
   "autocomplete": true,
   "bibliofile": "biblio.bib",
   "cite_by": "apalike",
   "current_citInitial": 1,
   "eqLabelWithNumbers": true,
   "eqNumInitial": 1,
   "hotkeys": {
    "equation": "Ctrl-E",
    "itemize": "Ctrl-I"
   },
   "labels_anchors": false,
   "latex_user_defs": false,
   "report_style_numbering": false,
   "user_envs_cfg": false
  },
  "toc": {
   "base_numbering": 1,
   "nav_menu": {},
   "number_sections": false,
   "sideBar": true,
   "skip_h1_title": false,
   "title_cell": "Table of Contents",
   "title_sidebar": "Contents",
   "toc_cell": false,
   "toc_position": {},
   "toc_section_display": true,
   "toc_window_display": true
  },
  "varInspector": {
   "cols": {
    "lenName": 16,
    "lenType": 16,
    "lenVar": 40
   },
   "kernels_config": {
    "python": {
     "delete_cmd_postfix": "",
     "delete_cmd_prefix": "del ",
     "library": "var_list.py",
     "varRefreshCmd": "print(var_dic_list())"
    },
    "r": {
     "delete_cmd_postfix": ") ",
     "delete_cmd_prefix": "rm(",
     "library": "var_list.r",
     "varRefreshCmd": "cat(var_dic_list()) "
    }
   },
   "position": {
    "height": "863.854px",
    "left": "1637.33px",
    "right": "20px",
    "top": "112px",
    "width": "461.771px"
   },
   "types_to_exclude": [
    "module",
    "function",
    "builtin_function_or_method",
    "instance",
    "_Feature"
   ],
   "window_display": true
  }
 },
 "nbformat": 4,
 "nbformat_minor": 4
}
