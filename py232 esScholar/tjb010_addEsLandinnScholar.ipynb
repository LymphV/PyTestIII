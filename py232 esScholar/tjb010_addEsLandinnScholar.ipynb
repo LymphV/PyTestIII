{
 "cells": [
  {
   "cell_type": "markdown",
   "metadata": {},
   "source": [
    "### 库"
   ]
  },
  {
   "cell_type": "code",
   "execution_count": 1,
   "metadata": {
    "ExecuteTime": {
     "end_time": "2021-06-10T06:14:58.019720Z",
     "start_time": "2021-06-10T06:14:57.371923Z"
    },
    "cell_style": "split"
   },
   "outputs": [],
   "source": [
    "from elasticsearch import Elasticsearch\n",
    "from elasticsearch import helpers\n",
    "from tqdm.notebook import tqdm, trange, tnrange\n",
    "import json, re"
   ]
  },
  {
   "cell_type": "code",
   "execution_count": 2,
   "metadata": {
    "ExecuteTime": {
     "end_time": "2021-06-10T06:14:58.050709Z",
     "start_time": "2021-06-10T06:14:58.044708Z"
    },
    "cell_style": "split"
   },
   "outputs": [],
   "source": [
    "import numpy as np\n",
    "import pandas as pd\n",
    "import os, sys\n",
    "from time import time, sleep"
   ]
  },
  {
   "cell_type": "code",
   "execution_count": 3,
   "metadata": {
    "ExecuteTime": {
     "end_time": "2021-06-10T06:14:58.137979Z",
     "start_time": "2021-06-10T06:14:58.073711Z"
    }
   },
   "outputs": [],
   "source": [
    "from vVariableInspector import _getshapeof\n",
    "from vUtil.vFile import fprint, readlines, linesReader\n",
    "from vUtil.vEmail import sendEmail\n",
    "from vUtil.vTime import convertSeconds, getNow"
   ]
  },
  {
   "cell_type": "code",
   "execution_count": 9,
   "metadata": {
    "ExecuteTime": {
     "end_time": "2021-06-10T06:15:38.224796Z",
     "start_time": "2021-06-10T06:15:38.220800Z"
    }
   },
   "outputs": [],
   "source": [
    "from vMysql import MysqlProxy"
   ]
  },
  {
   "cell_type": "code",
   "execution_count": 10,
   "metadata": {
    "ExecuteTime": {
     "end_time": "2021-06-10T06:15:38.706171Z",
     "start_time": "2021-06-10T06:15:38.699171Z"
    }
   },
   "outputs": [],
   "source": [
    "from util import frmt, rmUnseen, groupConcat, deleteIndexRows\n",
    "from cfg import host, master, port, contType\n",
    "from cfg import dbHost, dbUser, dbPwd\n",
    "from cfg import ncols, nIdSep"
   ]
  },
  {
   "cell_type": "code",
   "execution_count": 11,
   "metadata": {
    "ExecuteTime": {
     "end_time": "2021-06-10T06:15:38.898282Z",
     "start_time": "2021-06-10T06:15:38.893274Z"
    }
   },
   "outputs": [],
   "source": [
    "from elasticsearch import TransportError"
   ]
  },
  {
   "cell_type": "markdown",
   "metadata": {},
   "source": [
    "### utils"
   ]
  },
  {
   "cell_type": "code",
   "execution_count": 12,
   "metadata": {
    "ExecuteTime": {
     "end_time": "2021-06-10T06:15:40.089322Z",
     "start_time": "2021-06-10T06:15:40.083321Z"
    }
   },
   "outputs": [],
   "source": [
    "def ourError (error, errorType = ''):\n",
    "    fprint(f'[ERROR] ({getNow()}) {errorType} : {repr(error)}\\n', file='error.txt', path='errorScholar')\n",
    "\n",
    "def ourLog (log, logType = ''):\n",
    "    fprint(f'[LOG] ({getNow()}) {logType} : {repr(log)}\\n', file='log.txt', path='logScholar')"
   ]
  },
  {
   "cell_type": "code",
   "execution_count": 13,
   "metadata": {
    "ExecuteTime": {
     "end_time": "2021-06-10T06:15:40.289393Z",
     "start_time": "2021-06-10T06:15:40.283387Z"
    }
   },
   "outputs": [],
   "source": [
    "def esRestart ():\n",
    "    global es\n",
    "    es.close()\n",
    "    es=Elasticsearch(hosts=host,port=port,timeout=60)"
   ]
  },
  {
   "cell_type": "markdown",
   "metadata": {},
   "source": [
    "### mysql、es"
   ]
  },
  {
   "cell_type": "code",
   "execution_count": 14,
   "metadata": {
    "ExecuteTime": {
     "end_time": "2021-06-10T06:15:40.650697Z",
     "start_time": "2021-06-10T06:15:40.643697Z"
    }
   },
   "outputs": [],
   "source": [
    "index = 'landinn_scholar'\n",
    "indexHl = 'landinn_scholar_highlight'"
   ]
  },
  {
   "cell_type": "code",
   "execution_count": 15,
   "metadata": {
    "ExecuteTime": {
     "end_time": "2021-06-10T06:15:40.818711Z",
     "start_time": "2021-06-10T06:15:40.811711Z"
    }
   },
   "outputs": [],
   "source": [
    "es=Elasticsearch(hosts=host,port=port,timeout=60)"
   ]
  },
  {
   "cell_type": "code",
   "execution_count": 16,
   "metadata": {
    "ExecuteTime": {
     "end_time": "2021-06-10T06:15:41.850502Z",
     "start_time": "2021-06-10T06:15:41.642734Z"
    }
   },
   "outputs": [],
   "source": [
    "db = MysqlProxy(ip=dbHost, user=dbUser, password=dbPwd)"
   ]
  },
  {
   "cell_type": "markdown",
   "metadata": {},
   "source": [
    "### sql语句"
   ]
  },
  {
   "cell_type": "code",
   "execution_count": 17,
   "metadata": {
    "ExecuteTime": {
     "end_time": "2021-06-10T06:15:42.456826Z",
     "start_time": "2021-06-10T06:15:42.450827Z"
    }
   },
   "outputs": [],
   "source": [
    "sTmpScholar = '''\n",
    "create temporary table tmp_scholar\n",
    "(\n",
    "    select golaxy_author_id as scholar_id from authors\n",
    "    where !ifnull(is_deleted, 0) and !ifnull(is_new, 0)\n",
    "    limit %d, %d\n",
    ");\n",
    "'''\n",
    "\n",
    "sTmpScholarId = '''\n",
    "create temporary table tmp_scholar\n",
    "(\n",
    "    select golaxy_author_id as scholar_id from authors where golaxy_author_id = %d\n",
    ");\n",
    "'''\n",
    "\n",
    "sRmTmpScholar = '''\n",
    "drop temporary table tmp_scholar;\n",
    "'''"
   ]
  },
  {
   "cell_type": "code",
   "execution_count": 18,
   "metadata": {
    "ExecuteTime": {
     "end_time": "2021-06-10T06:15:42.618853Z",
     "start_time": "2021-06-10T06:15:42.613850Z"
    }
   },
   "outputs": [],
   "source": [
    "sTmpPublish = '''\n",
    "create temporary table tmp_publish\n",
    "(\n",
    "    select author_id as scholar_id, paper_id as publish_id \n",
    "    from \n",
    "        paper_author_affiliations as a\n",
    "    join\n",
    "        tmp_scholar as b\n",
    "    on a.author_id = b.scholar_id\n",
    "    where !ifnull(a.is_deleted, 0)\n",
    ");'''\n",
    "\n",
    "sInsertPublish = ['''\n",
    "insert into tmp_publish \n",
    "(\n",
    "    select author_id as scholar_id, patent_id as publish_id \n",
    "    from \n",
    "        patent_authors as a\n",
    "    join\n",
    "        tmp_scholar as b\n",
    "    on a.author_id = b.scholar_id\n",
    "    where !ifnull(a.is_deleted, 0)\n",
    ");\n",
    "''',\n",
    "'''\n",
    "insert into tmp_publish \n",
    "(\n",
    "    select author_id as scholar_id, project_id as publish_id \n",
    "    from\n",
    "        project_authors as a\n",
    "    join\n",
    "        tmp_scholar as b\n",
    "    on a.author_id = b.scholar_id\n",
    "    where !ifnull(a.is_deleted, 0)\n",
    ");\n",
    "''']\n",
    "\n",
    "sRmTmpPublish = '''\n",
    "drop temporary table tmp_publish;\n",
    "'''"
   ]
  },
  {
   "cell_type": "code",
   "execution_count": 19,
   "metadata": {
    "ExecuteTime": {
     "end_time": "2021-06-10T06:15:42.775859Z",
     "start_time": "2021-06-10T06:15:42.770854Z"
    },
    "code_folding": [
     0
    ]
   },
   "outputs": [],
   "source": [
    "def addPublishId (x, n = nIdSep):\n",
    "    if n is None:\n",
    "        s = \"'曓攨爩氎廤攨攡擟戅嬼壣(',publish_id,')'\"\n",
    "    else: s = ','.join([\"'(',publish_id,')'\"] * n)\n",
    "    return f'''concat({s},{x})'''"
   ]
  },
  {
   "cell_type": "code",
   "execution_count": 20,
   "metadata": {
    "ExecuteTime": {
     "end_time": "2021-06-10T06:15:42.945904Z",
     "start_time": "2021-06-10T06:15:42.939902Z"
    },
    "code_folding": []
   },
   "outputs": [],
   "source": [
    "def getSqlSelectData (n = nIdSep):\n",
    "    return f'''\n",
    "    select  scholar_id, \n",
    "            {addPublishId(\"paper_title\", n)} as paper_title, \n",
    "            {addPublishId(\"keywords\", n)} as keywords, \n",
    "            {addPublishId(\"abstract\", n)} as abstract, \n",
    "            {addPublishId(\"patent_title\", n)} as patent_title, \n",
    "            {addPublishId(\"signory\", n)} as signory, \n",
    "            {addPublishId(\"summary\", n)} as summary, \n",
    "            {addPublishId(\"project_title\", n)} as project_title, \n",
    "            {addPublishId(\"if (d1 is null and d2 is null and d3 is null,null,concat('{',ifnull(d1,''),'}{',ifnull(d2,''),'}{',ifnull(d3,''),'}'))\",n)} as discipline,\n",
    "            {addPublishId(\"ifnull(project_description, project_description_en)\", n)} as project_description\n",
    "    from\n",
    "    (\n",
    "        select  scholar_id, publish_id, paper_title, keywords, abstract, patent_title, signory, summary,\n",
    "                ifnull(project_title, project_title_en) as project_title,\n",
    "                ifnull(discipline_first, discipline_first_en) as d1,\n",
    "                ifnull(discipline_secondary, discipline_secondary_en) as d2,\n",
    "                ifnull(discipline_tertiary, discipline_tertiary_en) as d3 from\n",
    "        (\n",
    "            select  scholar_id, publish_id, paper_title, keywords, abstract, patent_title, \n",
    "                    ifnull(patent_signory, patent_signory_en) as signory, \n",
    "                    ifnull(patent_abstract, patent_abstract_en) as summary from \n",
    "            (\n",
    "                select scholar_id, publish_id, paper_title, keywords, abstract, ifnull(patent_title, patent_title_en) as patent_title from\n",
    "                (\n",
    "                    select scholar_id, publish_id, paper_title, keywords, ifnull(abstract, abstract_en) as abstract from\n",
    "                    (\n",
    "                        select scholar_id, publish_id, ifnull(paper_title, paper_title_en) as paper_title, ifnull(keyword, keyword_en) as keywords\n",
    "                        from tmp_publish as a \n",
    "                        left join papers on a.publish_id = papers.golaxy_paper_id\n",
    "                        where !ifnull(papers.is_deleted, 0)\n",
    "                    ) as b\n",
    "                    left join papers_abstracts on b.publish_id = papers_abstracts.paper_id\n",
    "                    where !ifnull(papers_abstracts.is_deleted, 0)\n",
    "                ) as c\n",
    "                left join patent on c.publish_id = patent.golaxy_patent_id\n",
    "                where !ifnull(patent.is_deleted, 0)\n",
    "            )as d\n",
    "            left join patent_abstracts on d.publish_id = patent_abstracts.patent_id\n",
    "            where !ifnull(patent_abstracts.is_deleted, 0)\n",
    "        ) as e\n",
    "        left join project on e.publish_id = project.golaxy_project_id\n",
    "        where !ifnull(project.is_deleted, 0)\n",
    "    )as f\n",
    "    left join project_abstracts on f.publish_id = project_abstracts.project_id\n",
    "    where !ifnull(project_abstracts.is_deleted, 0);\n",
    "    '''"
   ]
  },
  {
   "cell_type": "code",
   "execution_count": 21,
   "metadata": {
    "ExecuteTime": {
     "end_time": "2021-06-10T06:15:43.104964Z",
     "start_time": "2021-06-10T06:15:43.098975Z"
    }
   },
   "outputs": [],
   "source": [
    "sSelectData = getSqlSelectData()\n",
    "sSelectDataMini = getSqlSelectData(None) "
   ]
  },
  {
   "cell_type": "code",
   "execution_count": 1,
   "metadata": {
    "ExecuteTime": {
     "end_time": "2021-06-21T11:05:56.217720Z",
     "start_time": "2021-06-21T11:05:56.037645Z"
    }
   },
   "outputs": [
    {
     "data": {
      "text/plain": [
       "<ipykernel.zmqshell.ZMQInteractiveShell at 0x2592b4bd4c0>"
      ]
     },
     "execution_count": 1,
     "metadata": {},
     "output_type": "execute_result"
    }
   ],
   "source": [
    "get_ipython()"
   ]
  },
  {
   "cell_type": "code",
   "execution_count": 22,
   "metadata": {
    "ExecuteTime": {
     "end_time": "2021-06-10T06:15:44.078806Z",
     "start_time": "2021-06-10T06:15:44.074817Z"
    }
   },
   "outputs": [],
   "source": [
    "sSelectScholarInfo = '''\n",
    "select  scholar_id, 1 as is_chinese, if(phone is null, 0, 1) as has_phone, if(email is null, 0, 1) as has_email,\n",
    "        ifnull(title, title_en) as title, birthday, display_name as name, brief\n",
    "from tmp_scholar as a\n",
    "join authors as b\n",
    "on a.scholar_id = b.golaxy_author_id\n",
    "where !ifnull(b.is_deleted,0) and !ifnull(b.is_new, 0);\n",
    "'''"
   ]
  },
  {
   "cell_type": "markdown",
   "metadata": {},
   "source": [
    "### 函数"
   ]
  },
  {
   "cell_type": "code",
   "execution_count": 23,
   "metadata": {
    "ExecuteTime": {
     "end_time": "2021-06-10T06:15:44.427411Z",
     "start_time": "2021-06-10T06:15:44.418414Z"
    },
    "code_folding": [
     0
    ]
   },
   "outputs": [],
   "source": [
    "def stdData (data):\n",
    "    return {\n",
    "        data['scholar_id'][i] : {\n",
    "            \"paper_title\" : data['paper_title'][i],\n",
    "            \"abstract\" : data['abstract'][i],\n",
    "            \"keywords\" : data['keywords'][i],\n",
    "            \"patent_title\" : data['patent_title'][i],\n",
    "            \"signory\" : data['signory'][i],\n",
    "            \"summary\" : data['summary'][i],\n",
    "            \"project_title\" : data['project_title'][i],\n",
    "            \"discipline\" : data['discipline'][i],\n",
    "            \"project_description\" : data['project_description'][i],\n",
    "        } for i in range(len(data))\n",
    "    }"
   ]
  },
  {
   "cell_type": "code",
   "execution_count": 24,
   "metadata": {
    "ExecuteTime": {
     "end_time": "2021-06-10T06:15:44.602460Z",
     "start_time": "2021-06-10T06:15:44.595449Z"
    },
    "code_folding": []
   },
   "outputs": [],
   "source": [
    "def stdInfo (info):\n",
    "    return {\n",
    "        info['scholar_id'][i] : {\n",
    "            'is_chinese' : info['is_chinese'][i],\n",
    "            'has_email' : info['has_email'][i],\n",
    "            'has_phone' : info['has_phone'][i],\n",
    "            'birthday' : None if info['birthday'][i] is pd.NaT else info['birthday'][i],\n",
    "            'title' : info['title'][i],\n",
    "            'name' : info['name'][i],\n",
    "            'brief' : info['brief'][i],\n",
    "        } for i in range(len(info))\n",
    "    }"
   ]
  },
  {
   "cell_type": "code",
   "execution_count": 25,
   "metadata": {
    "ExecuteTime": {
     "end_time": "2021-06-10T06:15:44.847664Z",
     "start_time": "2021-06-10T06:15:44.835661Z"
    },
    "code_folding": []
   },
   "outputs": [],
   "source": [
    "def getActions (data, info):\n",
    "    actions = []\n",
    "    for id in info:\n",
    "        action={'_op_type':'index',###操作 index update create delete  \n",
    "            '_index': index,#index\n",
    "            '_id' : str(id),\n",
    "            '_source':\n",
    "           {\n",
    "                \"scholar_id\" : str(id),\n",
    "                \"paper_title\" : data.get(id, {}).get('paper_title', ''),\n",
    "                \"paper_abstract\" : data.get(id, {}).get('abstract', ''),\n",
    "                \"paper_keywords\" : data.get(id, {}).get('keywords', ''),\n",
    "                \"patent_title\" : data.get(id, {}).get('patent_title', ''),\n",
    "                \"patent_signory\" : data.get(id, {}).get('signory', ''),\n",
    "                \"patent_summary\" : data.get(id, {}).get('summary', ''),\n",
    "                \"project_title\" : data.get(id, {}).get('project_title', ''),\n",
    "                \"project_discipline\" : data.get(id, {}).get('discipline', ''),\n",
    "                \"project_description\" : data.get(id, {}).get('description', ''),\n",
    "                \"is_chinese\" : info[id]['is_chinese'],\n",
    "                \"has_email\" : info[id]['has_email'],\n",
    "                \"has_phone\" : info[id]['has_phone'],\n",
    "                \"birthday\" : info[id]['birthday'],\n",
    "                \"title\" : info[id]['title'],\n",
    "                \"name\" : info[id]['name'],\n",
    "                \"brief\" : info[id]['brief'],\n",
    "            }\n",
    "        }\n",
    "        actions.append(action)\n",
    "    return actions"
   ]
  },
  {
   "cell_type": "code",
   "execution_count": 26,
   "metadata": {
    "ExecuteTime": {
     "end_time": "2021-06-10T06:15:45.062649Z",
     "start_time": "2021-06-10T06:15:45.052650Z"
    },
    "code_folding": []
   },
   "outputs": [],
   "source": [
    "def getHighLightActions (data, info):\n",
    "    actions = []\n",
    "    for id in info:\n",
    "        action={'_op_type':'index',###操作 index update create delete  \n",
    "            '_index': indexHl,#index\n",
    "            '_id' : str(id),\n",
    "            '_source':\n",
    "           {\n",
    "                \"scholar_id\" : str(id),\n",
    "                \"is_chinese\" : info[id]['is_chinese'],\n",
    "                \"has_email\" : info[id]['has_email'],\n",
    "                \"has_phone\" : info[id]['has_phone'],\n",
    "                \"birthday\" : info[id]['birthday'],\n",
    "                \"title\" : info[id]['title'],\n",
    "                \"name\" : info[id]['name'],\n",
    "                \"brief\" : info[id]['brief'],\n",
    "            }\n",
    "        }\n",
    "        actions.append(action)\n",
    "    return actions"
   ]
  },
  {
   "cell_type": "code",
   "execution_count": 22,
   "metadata": {
    "ExecuteTime": {
     "end_time": "2021-05-25T07:38:04.633070Z",
     "start_time": "2021-05-25T07:38:04.626069Z"
    },
    "code_folding": [
     0
    ],
    "deletable": false,
    "editable": false,
    "run_control": {
     "frozen": true
    }
   },
   "outputs": [],
   "source": [
    "def getIndexActions (id):\n",
    "    return [\n",
    "        {\n",
    "            '_op_type':'index',###操作 index update create delete  \n",
    "            '_index': index,#index\n",
    "            '_id' : str(id),\n",
    "            '_source':\n",
    "            {\n",
    "                \"scholar_id\" : str(id),\n",
    "            }\n",
    "        }\n",
    "    ]"
   ]
  },
  {
   "cell_type": "code",
   "execution_count": 23,
   "metadata": {
    "ExecuteTime": {
     "end_time": "2021-05-25T07:38:05.568070Z",
     "start_time": "2021-05-25T07:38:05.561070Z"
    },
    "code_folding": [
     0
    ],
    "deletable": false,
    "editable": false,
    "run_control": {
     "frozen": true
    }
   },
   "outputs": [],
   "source": [
    "def getUpdateActions (id, key, value):\n",
    "    return [\n",
    "        {\n",
    "            '_op_type':'update',###操作 index update create delete  \n",
    "            '_index': index,#index\n",
    "            '_id' : str(id),\n",
    "            'doc':\n",
    "            {\n",
    "                key : value\n",
    "            }\n",
    "        }\n",
    "    ]"
   ]
  },
  {
   "cell_type": "code",
   "execution_count": 27,
   "metadata": {
    "ExecuteTime": {
     "end_time": "2021-06-10T06:15:45.826365Z",
     "start_time": "2021-06-10T06:15:45.818365Z"
    },
    "code_folding": []
   },
   "outputs": [],
   "source": [
    "def __getData (mode, *args):\n",
    "    while 1:\n",
    "        try:\n",
    "            db.sql((sTmpScholar if mode else sTmpScholarId) % args)\n",
    "            db.sql(sTmpPublish)\n",
    "            for x in sInsertPublish: db.sql(x)\n",
    "\n",
    "            data = db.sql(sSelectData if mode else sSelectDataMini)\n",
    "\n",
    "            data = groupConcat(data)\n",
    "            info = db.sql(sSelectScholarInfo)\n",
    "            db.sql(sRmTmpScholar)\n",
    "            db.sql(sRmTmpPublish)\n",
    "            db.close()\n",
    "        except pymysql.Error as e:\n",
    "            ourError(str(e), 'mysql read error')\n",
    "            db.close()\n",
    "            continue\n",
    "        break\n",
    "    return stdData(data), stdInfo(info)"
   ]
  },
  {
   "cell_type": "code",
   "execution_count": 28,
   "metadata": {
    "ExecuteTime": {
     "end_time": "2021-06-10T06:15:46.000421Z",
     "start_time": "2021-06-10T06:15:45.995417Z"
    }
   },
   "outputs": [],
   "source": [
    "def getRangeData (now, sizeBulk):\n",
    "    return __getData(1, now, sizeBulk)\n",
    "def getIdData (id):\n",
    "    return __getData(0, id)"
   ]
  },
  {
   "cell_type": "code",
   "execution_count": 29,
   "metadata": {
    "ExecuteTime": {
     "end_time": "2021-06-10T06:15:47.153811Z",
     "start_time": "2021-06-10T06:15:47.146808Z"
    }
   },
   "outputs": [],
   "source": [
    "def miniInsert (data, info):\n",
    "    for id in tqdm(info, leave=False):\n",
    "        actions = getActions(data, {id : info[id]})\n",
    "        try:\n",
    "            helpers.bulk(client=es,actions=actions)\n",
    "        except TransportError as e:\n",
    "            if 'Data too large' in str(e) or e.status_code == 413:\n",
    "                ourError(str(e), f'Data too large with id({id})')\n",
    "                esRestart()\n",
    "                \n",
    "                data, info = getIdData(id)\n",
    "                actions = getActions(data, info)\n",
    "                helpers.bulk(client=es,actions=actions)\n",
    "            else: raise e"
   ]
  },
  {
   "cell_type": "markdown",
   "metadata": {
    "ExecuteTime": {
     "end_time": "2021-05-24T08:27:29.700727Z",
     "start_time": "2021-05-24T08:27:29.695729Z"
    }
   },
   "source": [
    "### 索引"
   ]
  },
  {
   "cell_type": "code",
   "execution_count": 30,
   "metadata": {
    "ExecuteTime": {
     "end_time": "2021-06-10T06:15:47.998393Z",
     "start_time": "2021-06-10T06:15:47.994389Z"
    }
   },
   "outputs": [],
   "source": [
    "table = 'authors'"
   ]
  },
  {
   "cell_type": "code",
   "execution_count": 31,
   "metadata": {
    "ExecuteTime": {
     "end_time": "2021-06-10T06:16:36.915085Z",
     "start_time": "2021-06-10T06:15:49.324758Z"
    },
    "scrolled": true
   },
   "outputs": [
    {
     "data": {
      "application/vnd.jupyter.widget-view+json": {
       "model_id": "3f626a4bd2b44ea0abc805f2056541d7",
       "version_major": 2,
       "version_minor": 0
      },
      "text/plain": [
       "HBox(children=(FloatProgress(value=0.0, layout=Layout(flex='2'), max=37.0), HTML(value='')), layout=Layout(dis…"
      ]
     },
     "metadata": {},
     "output_type": "display_data"
    },
    {
     "name": "stdout",
     "output_type": "stream",
     "text": [
      "\n"
     ]
    },
    {
     "data": {
      "text/plain": [
       "{'landinn_scholar': 0, 'landinn_scholar_highlight': 0}"
      ]
     },
     "execution_count": 31,
     "metadata": {},
     "output_type": "execute_result"
    }
   ],
   "source": [
    "deleteIndexRows(db, es, table, 'golaxy_author_id', hasIsNew=True, index=[index, indexHl])"
   ]
  },
  {
   "cell_type": "code",
   "execution_count": 27,
   "metadata": {
    "ExecuteTime": {
     "end_time": "2021-05-31T09:47:11.397968Z",
     "start_time": "2021-05-31T09:47:11.079968Z"
    }
   },
   "outputs": [],
   "source": [
    "sizeBulk = 20\n",
    "now = 0\n",
    "nScholar = db.count(table, where='!ifnull(is_deleted,0)').values.item()"
   ]
  },
  {
   "cell_type": "code",
   "execution_count": 28,
   "metadata": {
    "ExecuteTime": {
     "end_time": "2021-05-31T09:47:17.324985Z",
     "start_time": "2021-05-31T09:47:17.320967Z"
    }
   },
   "outputs": [],
   "source": [
    "# now = 613860 "
   ]
  },
  {
   "cell_type": "code",
   "execution_count": 29,
   "metadata": {
    "ExecuteTime": {
     "end_time": "2021-05-31T09:47:17.635969Z",
     "start_time": "2021-05-31T09:47:17.630969Z"
    }
   },
   "outputs": [],
   "source": [
    "# sizeBulk = 20"
   ]
  },
  {
   "cell_type": "code",
   "execution_count": 30,
   "metadata": {
    "ExecuteTime": {
     "end_time": "2021-05-31T09:47:17.969967Z",
     "start_time": "2021-05-31T09:47:17.961981Z"
    }
   },
   "outputs": [],
   "source": [
    "# nScholar = 531720 "
   ]
  },
  {
   "cell_type": "code",
   "execution_count": 32,
   "metadata": {
    "ExecuteTime": {
     "end_time": "2021-05-31T09:49:47.747099Z",
     "start_time": "2021-05-31T09:49:47.737099Z"
    }
   },
   "outputs": [
    {
     "data": {
      "text/plain": [
       "(0, 20, 596945)"
      ]
     },
     "execution_count": 32,
     "metadata": {},
     "output_type": "execute_result"
    }
   ],
   "source": [
    "now, sizeBulk, nScholar"
   ]
  },
  {
   "cell_type": "code",
   "execution_count": 33,
   "metadata": {
    "ExecuteTime": {
     "end_time": "2021-06-01T23:45:34.679042Z",
     "start_time": "2021-05-31T09:49:50.401101Z"
    },
    "code_folding": []
   },
   "outputs": [
    {
     "data": {
      "application/vnd.jupyter.widget-view+json": {
       "model_id": "720cda66bb9d4e6eb650fda60c69ff50",
       "version_major": 2,
       "version_minor": 0
      },
      "text/plain": [
       "HBox(children=(FloatProgress(value=0.0, layout=Layout(flex='2'), max=29848.0), HTML(value='')), layout=Layout(…"
      ]
     },
     "metadata": {},
     "output_type": "display_data"
    },
    {
     "name": "stdout",
     "output_type": "stream",
     "text": [
      "\n"
     ]
    }
   ],
   "source": [
    "startOfAll = time()\n",
    "tr = trange(now, nScholar, sizeBulk, ncols=ncols)\n",
    "for i in tr:\n",
    "    tr.set_description(f'({getNow()}){i}')\n",
    "    now = i\n",
    "        \n",
    "    data, info = getRangeData(now, sizeBulk)\n",
    "    \n",
    "    while 1:\n",
    "        try:\n",
    "            helpers.bulk(client=es,actions=getHighLightActions(data,info))\n",
    "            break\n",
    "        except ConnectionTimeout as e:\n",
    "            ourError(str(e), f'connetion error indexing hl with Range({now},{now + sizeBulk})')\n",
    "\n",
    "    actions = getActions(data, info)\n",
    "    try:\n",
    "        helpers.bulk(client=es,actions=actions)\n",
    "    except TransportError as e:\n",
    "        if 'Data too large' in str(e) or e.status_code == 413:\n",
    "            ourError(str(e), f'Data too large({now},{sizeBulk})')\n",
    "            esRestart()\n",
    "            miniInsert (data, info)\n",
    "        else: raise e\n",
    "        \n",
    "sendEmail(f'insert cost time {convertSeconds(time() - startOfAll)}', f'insert landinn scholar es complete host({host})')"
   ]
  },
  {
   "cell_type": "markdown",
   "metadata": {},
   "source": [
    "### 关闭es和mysql"
   ]
  },
  {
   "cell_type": "code",
   "execution_count": 40,
   "metadata": {
    "ExecuteTime": {
     "end_time": "2021-06-02T05:51:22.877239Z",
     "start_time": "2021-06-02T05:51:22.874234Z"
    }
   },
   "outputs": [],
   "source": [
    "es.close()"
   ]
  },
  {
   "cell_type": "code",
   "execution_count": 41,
   "metadata": {
    "ExecuteTime": {
     "end_time": "2021-06-02T05:51:23.106232Z",
     "start_time": "2021-06-02T05:51:23.095231Z"
    }
   },
   "outputs": [],
   "source": [
    "db.close()"
   ]
  },
  {
   "cell_type": "markdown",
   "metadata": {
    "ExecuteTime": {
     "end_time": "2021-04-12T08:49:41.657425Z",
     "start_time": "2021-04-12T08:49:41.599335Z"
    }
   },
   "source": [
    "### 检查是否全部索引"
   ]
  },
  {
   "cell_type": "code",
   "execution_count": 95,
   "metadata": {
    "ExecuteTime": {
     "end_time": "2021-04-14T06:20:32.445523Z",
     "start_time": "2021-04-14T06:20:29.310307Z"
    }
   },
   "outputs": [],
   "source": [
    "a, b  = getRangeData(now,sizeBulk)"
   ]
  },
  {
   "cell_type": "code",
   "execution_count": 98,
   "metadata": {
    "ExecuteTime": {
     "end_time": "2021-04-14T08:41:39.830303Z",
     "start_time": "2021-04-14T06:21:24.208941Z"
    }
   },
   "outputs": [
    {
     "data": {
      "application/vnd.jupyter.widget-view+json": {
       "model_id": "075bbef8bfdb4063ab677d054b3f6eea",
       "version_major": 2,
       "version_minor": 0
      },
      "text/plain": [
       "HBox(children=(FloatProgress(value=0.0, max=28025.0), HTML(value='')))"
      ]
     },
     "metadata": {},
     "output_type": "display_data"
    },
    {
     "name": "stdout",
     "output_type": "stream",
     "text": [
      "531660 1085425043282198716\n",
      "531660 1052706856245949717\n",
      "531660 1078295748546144714\n",
      "531660 1052707457654615122\n",
      "531660 1078188351634816031\n",
      "531660 1078200861096157269\n",
      "531660 1078321378419550461\n",
      "531660 1078191764607081356\n",
      "531660 1078278912886708079\n",
      "531660 1078315243247530740\n",
      "531660 1078187993512555252\n",
      "531660 1078160262712284689\n",
      "531660 1078223142992239852\n",
      "531660 1052707673980028752\n",
      "531660 1078191558868080168\n",
      "531660 1052706758485089656\n",
      "531660 1078280276635296532\n",
      "531660 1078187210616348235\n",
      "531660 1085416048236560464\n",
      "531660 1078294466565512961\n",
      "531680 1078271117248450416\n",
      "531680 1078190742555853086\n",
      "531680 1078159398639517711\n",
      "531680 1085397714573066516\n",
      "531680 1032650177554808844\n",
      "531680 1078203293847007676\n",
      "531680 1078291310599210272\n",
      "531680 1078233836395446382\n",
      "531680 1078271807999989137\n",
      "531680 1032642430545297425\n",
      "531680 1078234214583255885\n",
      "531680 1078228078945637387\n",
      "531680 1078284632256432125\n",
      "531680 1078244796803848805\n",
      "531680 1078201834094995239\n",
      "531680 1078191116520000229\n",
      "531680 1078212888652941387\n",
      "531680 1052706747688948768\n",
      "531680 1078242318775486609\n",
      "531680 1078157858436553107\n",
      "531700 1032528364128504298\n",
      "531700 1078245941358109500\n",
      "531700 1078313794014832270\n",
      "531700 1077796681651074395\n",
      "531700 1078203857167201662\n",
      "531700 1078182608575675512\n",
      "531700 1078313980233541644\n",
      "531700 1078207215349288637\n",
      "531700 1078187191142194630\n",
      "531700 1078217422758488885\n",
      "531700 1078296635972792554\n",
      "531700 1077797471170087484\n",
      "531700 1078261385074836782\n",
      "531700 1078214272576131903\n",
      "531700 1078322329767391839\n",
      "531700 1085425043236061371\n",
      "531700 1032644997555814402\n",
      "531700 1052707640664665309\n",
      "531700 1078244916547033935\n",
      "531700 1077796057979036906\n",
      "\n"
     ]
    }
   ],
   "source": [
    "sizeBulk = 20\n",
    "now = 0\n",
    "for i in trange(now, nScholar, sizeBulk):\n",
    "    \n",
    "    \n",
    "    now = i\n",
    "\n",
    "    sql(sTmpScholar % (now, sizeBulk))\n",
    "\n",
    "    info = sql(sSelectScholarInfo)\n",
    "    sql(sRmTmpScholar)\n",
    "    \n",
    "    info = stdInfo(info)\n",
    "    for id in info:\n",
    "        x = es.search(index=index, size=20, body = {\n",
    "            \"query\": {\n",
    "                \"term\":\n",
    "                {\n",
    "                    \"scholar_id\": str(id)\n",
    "                }\n",
    "            }\n",
    "        })['hits']['total']['value']\n",
    "        if x == 0: print(now, id)"
   ]
  }
 ],
 "metadata": {
  "kernelspec": {
   "display_name": "Python 3 (ipykernel)",
   "language": "python",
   "name": "python3"
  },
  "language_info": {
   "codemirror_mode": {
    "name": "ipython",
    "version": 3
   },
   "file_extension": ".py",
   "mimetype": "text/x-python",
   "name": "python",
   "nbconvert_exporter": "python",
   "pygments_lexer": "ipython3",
   "version": "3.8.3"
  },
  "latex_envs": {
   "LaTeX_envs_menu_present": true,
   "autoclose": false,
   "autocomplete": true,
   "bibliofile": "biblio.bib",
   "cite_by": "apalike",
   "current_citInitial": 1,
   "eqLabelWithNumbers": true,
   "eqNumInitial": 1,
   "hotkeys": {
    "equation": "Ctrl-E",
    "itemize": "Ctrl-I"
   },
   "labels_anchors": false,
   "latex_user_defs": false,
   "report_style_numbering": false,
   "user_envs_cfg": false
  },
  "toc": {
   "base_numbering": 1,
   "nav_menu": {},
   "number_sections": false,
   "sideBar": true,
   "skip_h1_title": false,
   "title_cell": "Table of Contents",
   "title_sidebar": "Contents",
   "toc_cell": false,
   "toc_position": {},
   "toc_section_display": true,
   "toc_window_display": true
  },
  "varInspector": {
   "cols": {
    "lenName": 16,
    "lenType": 16,
    "lenVar": 40
   },
   "kernels_config": {
    "python": {
     "delete_cmd_postfix": "",
     "delete_cmd_prefix": "del ",
     "library": "var_list.py",
     "varRefreshCmd": "print(var_dic_list())"
    },
    "r": {
     "delete_cmd_postfix": ") ",
     "delete_cmd_prefix": "rm(",
     "library": "var_list.r",
     "varRefreshCmd": "cat(var_dic_list()) "
    }
   },
   "oldHeight": 817.969,
   "position": {
    "height": "840.191px",
    "left": "1624.32px",
    "right": "20px",
    "top": "97.9792px",
    "width": "443.524px"
   },
   "types_to_exclude": [
    "module",
    "function",
    "builtin_function_or_method",
    "instance",
    "_Feature"
   ],
   "varInspector_section_display": "block",
   "window_display": true
  }
 },
 "nbformat": 4,
 "nbformat_minor": 4
}
