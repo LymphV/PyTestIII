{
 "cells": [
  {
   "cell_type": "code",
   "execution_count": 1,
   "metadata": {
    "ExecuteTime": {
     "end_time": "2021-06-01T09:30:47.780031Z",
     "start_time": "2021-06-01T09:30:47.736022Z"
    }
   },
   "outputs": [],
   "source": [
    "from cfg import host, master, port, contType"
   ]
  },
  {
   "cell_type": "code",
   "execution_count": 2,
   "metadata": {
    "ExecuteTime": {
     "end_time": "2021-06-01T09:30:48.102022Z",
     "start_time": "2021-06-01T09:30:48.095023Z"
    }
   },
   "outputs": [],
   "source": [
    "index = \"landinn_scholar_abroad\"\n",
    "indexHl = \"landinn_scholar_abroad_highlight\""
   ]
  },
  {
   "cell_type": "code",
   "execution_count": 3,
   "metadata": {
    "ExecuteTime": {
     "end_time": "2021-06-01T09:30:49.368028Z",
     "start_time": "2021-06-01T09:30:48.862022Z"
    }
   },
   "outputs": [
    {
     "name": "stdout",
     "output_type": "stream",
     "text": [
      "{"
     ]
    },
    {
     "name": "stderr",
     "output_type": "stream",
     "text": [
      "  % Total    % Received % Xferd  Average Speed   Time    Time     Time  Current\n",
      "                                 Dload  Upload   Total   Spent    Left  Speed\n",
      "\n",
      "  0     0    0     0    0     0      0      0 --:--:-- --:--:-- --:--:--     0\n",
      "  0     0    0     0    0     0      0      0 --:--:-- --:--:-- --:--:--     0\n",
      "100   533  100   533    0     0    533      0  0:00:01  0:00:01 --:--:--   355\n"
     ]
    },
    {
     "name": "stdout",
     "output_type": "stream",
     "text": [
      "\n",
      "  \"name\" : \"es00\",\n",
      "  \"cluster_name\" : \"docker-cluster\",\n",
      "  \"cluster_uuid\" : \"xODZoFp_R62Nx7wPtH5-FA\",\n",
      "  \"version\" : {\n",
      "    \"number\" : \"7.5.0\",\n",
      "    \"build_flavor\" : \"default\",\n",
      "    \"build_type\" : \"docker\",\n",
      "    \"build_hash\" : \"e9ccaed468e2fac2275a3761849cbee64b39519f\",\n",
      "    \"build_date\" : \"2019-11-26T01:06:52.518245Z\",\n",
      "    \"build_snapshot\" : false,\n",
      "    \"lucene_version\" : \"8.3.0\",\n",
      "    \"minimum_wire_compatibility_version\" : \"6.8.0\",\n",
      "    \"minimum_index_compatibility_version\" : \"6.0.0-beta1\"\n",
      "  },\n",
      "  \"tagline\" : \"You Know, for Search\"\n",
      "}\n"
     ]
    }
   ],
   "source": [
    "!curl -XGET {master}?pretty"
   ]
  },
  {
   "cell_type": "code",
   "execution_count": 4,
   "metadata": {
    "ExecuteTime": {
     "end_time": "2021-05-31T09:59:48.794644Z",
     "start_time": "2021-05-31T09:59:48.541641Z"
    }
   },
   "outputs": [
    {
     "name": "stdout",
     "output_type": "stream",
     "text": [
      "172.17.184.32 28 99 0 0.07 0.02 0.00 dilm - es02\n",
      "172.17.184.30 42 96 0 0.02 0.02 0.00 dilm * es00\n",
      "172.17.184.31 34 79 0 0.00 0.00 0.00 dilm - es01\n",
      "172.17.184.33 55 79 0 0.04 0.02 0.00 dilm - es03\n"
     ]
    },
    {
     "name": "stderr",
     "output_type": "stream",
     "text": [
      "  % Total    % Received % Xferd  Average Speed   Time    Time     Time  Current\n",
      "                                 Dload  Upload   Total   Spent    Left  Speed\n",
      "\n",
      "  0     0    0     0    0     0      0      0 --:--:-- --:--:-- --:--:--     0\n",
      "  0     0    0     0    0     0      0      0 --:--:--  0:00:01 --:--:--     0\n",
      "100   196  100   196    0     0    196      0  0:00:01  0:00:01 --:--:--    98\n",
      "100   196  100   196    0     0    196      0  0:00:01  0:00:01 --:--:--    98\n"
     ]
    }
   ],
   "source": [
    "!curl -XGET \"{master}/_cat/nodes?pretty\""
   ]
  },
  {
   "cell_type": "code",
   "execution_count": 5,
   "metadata": {
    "ExecuteTime": {
     "end_time": "2021-05-31T09:59:49.180642Z",
     "start_time": "2021-05-31T09:59:48.830652Z"
    }
   },
   "outputs": [
    {
     "name": "stderr",
     "output_type": "stream",
     "text": [
      "  % Total    % Received % Xferd  Average Speed   Time    Time     Time  Current\n",
      "                                 Dload  Upload   Total   Spent    Left  Speed\n",
      "\n",
      "  0     0    0     0    0     0      0      0 --:--:-- --:--:-- --:--:--     0\n",
      "100  2304  100  2304    0     0   2304      0  0:00:01 --:--:--  0:00:01 11349\n"
     ]
    },
    {
     "name": "stdout",
     "output_type": "stream",
     "text": [
      "health status index                            uuid                   pri rep docs.count docs.deleted store.size pri.store.size\n",
      "green  open   landinn_product                  tRkFB-6xT1GDwyjGovuaMw   1   1        972            0    445.2kb        222.6kb\n",
      "green  open   landinn_software_copyright       lrGh1h6TTH2wWDUZIZMLWw   1   1      24305            0      7.6mb          3.8mb\n",
      "green  open   landinn_scholar_abroad_highlight pqdgmcjgS12JVOdUVfotFg   1   1        994            0    181.9kb         90.9kb\n",
      "green  open   landinn_bs_microknow             XcFM2bJuQ_u9V1XpbxaB6Q   5   1     121914            0    276.4mb        138.2mb\n",
      "green  open   landinn_scholar_highlight        UalibE7mQWKAGfwysE6_Rw   1   1       1660            0    773.5kb        382.1kb\n",
      "green  open   .apm-agent-configuration         ajYayb-4SK-rj0vA4hB63w   1   1          0            0       566b           283b\n",
      "green  open   landinn_enterprise               67mFin7AQu6ytyrP8Jn3XQ   1   1     100705            0      5.5gb          2.7gb\n",
      "green  open   landinn_paper                    Tvg4dp3uT5GvHP8zkkEHzw   1   1    5444863            0     11.3gb          5.6gb\n",
      "green  open   landinn_patent                   zSqkozwBTXqKDbA2s8haFg   1   1    1839824       297291      5.4gb          2.7gb\n",
      "green  open   landinn_scholar                  sILKHXCISYCS0npQC5RJLw   1   1       1620            0     95.4mb           47mb\n",
      "green  open   .kibana_1                        XWwuoUoGR9OREPQ179V-rg   1   1          7            3     60.7kb         26.9kb\n",
      "green  open   landinn_bs_project               DhgSq6MESsKF_5q2LnUdMg   5   1         42           32      1.2mb        640.2kb\n",
      "green  open   landinn_enterprise_highlight     bN2tAbMtQlqHYZJQeWdW9A   1   1     100705            0     21.5mb         10.7mb\n",
      "green  open   .kibana_task_manager_1           r7aSPOZTQpe7ZiJBGSa4Dg   1   1          2            1     53.6kb         26.8kb\n",
      "green  open   landinn_bs_circle                ZOw-iGQAT5uSrPWPuM0M8A   5   1          7            0    116.3kb         58.1kb\n",
      "green  open   landinn_project                  C0sAHDniQla7HOVmxpz_sw   1   1     213313            0     89.1mb         44.5mb\n",
      "green  open   landinn_scholar_abroad           D0YayTztSK2CO5zNbGVJnA   1   1        994            0      1.4mb          722kb\n"
     ]
    }
   ],
   "source": [
    "!curl -XGET \"{master}/_cat/indices?v&pretty\""
   ]
  },
  {
   "cell_type": "markdown",
   "metadata": {},
   "source": [
    "#### 建库"
   ]
  },
  {
   "cell_type": "code",
   "execution_count": 8,
   "metadata": {
    "ExecuteTime": {
     "end_time": "2021-05-31T10:00:43.702641Z",
     "start_time": "2021-05-31T10:00:43.427640Z"
    }
   },
   "outputs": [
    {
     "name": "stdout",
     "output_type": "stream",
     "text": [
      "{\n",
      "  \"acknowledged\" : true,\n",
      "  \"shards_acknowledged\" : true,\n",
      "  \"index\" : \"landinn_scholar_abroad\"\n",
      "}"
     ]
    },
    {
     "name": "stderr",
     "output_type": "stream",
     "text": [
      "  % Total    % Received % Xferd  Average Speed   Time    Time     Time  Current\n",
      "                                 Dload  Upload   Total   Spent    Left  Speed\n",
      "\n",
      "  0     0    0     0    0     0      0      0 --:--:-- --:--:-- --:--:--     0\n",
      "  0     0    0     0    0     0      0      0 --:--:-- --:--:-- --:--:--     0\n",
      "  0  3519    0     0    0     0      0      0 --:--:--  0:00:01 --:--:--     0\n",
      "100  3617  100    98  100  3519     32   1173  0:00:03  0:00:03 --:--:--  1123\n",
      "100  3617  100    98  100  3519     32   1173  0:00:03  0:00:03 --:--:--  1123\n"
     ]
    },
    {
     "name": "stdout",
     "output_type": "stream",
     "text": [
      "\n"
     ]
    }
   ],
   "source": [
    "!curl -XPUT \"{master}/{index}?pretty\" {contType} -d @{index}.json"
   ]
  },
  {
   "cell_type": "code",
   "execution_count": 6,
   "metadata": {
    "ExecuteTime": {
     "end_time": "2021-05-31T10:00:35.144641Z",
     "start_time": "2021-05-31T10:00:34.888639Z"
    }
   },
   "outputs": [
    {
     "name": "stderr",
     "output_type": "stream",
     "text": [
      "  % Total    % Received % Xferd  Average Speed   Time    Time     Time  Current\n",
      "                                 Dload  Upload   Total   Spent    Left  Speed\n",
      "\n",
      "  0     0    0     0    0     0      0      0 --:--:-- --:--:-- --:--:--     0\n",
      "  0     0    0     0    0     0      0      0 --:--:--  0:00:01 --:--:--     0\n"
     ]
    },
    {
     "name": "stdout",
     "output_type": "stream",
     "text": [
      "{\n",
      "  \"acknowledged\" : true\n",
      "}\n"
     ]
    },
    {
     "name": "stderr",
     "output_type": "stream",
     "text": [
      "  0     0    0     0    0     0      0      0 --:--:--  0:00:01 --:--:--     0\n",
      "  0     0    0     0    0     0      0      0 --:--:--  0:00:02 --:--:--     0\n",
      "100    28  100    28    0     0     14      0  0:00:02  0:00:02 --:--:--     9\n"
     ]
    }
   ],
   "source": [
    "# !curl -XDELETE \"{master}/{index}?pretty\""
   ]
  },
  {
   "cell_type": "code",
   "execution_count": 7,
   "metadata": {
    "ExecuteTime": {
     "end_time": "2021-05-31T10:00:45.605640Z",
     "start_time": "2021-05-31T10:00:45.176639Z"
    }
   },
   "outputs": [
    {
     "name": "stdout",
     "output_type": "stream",
     "text": [
      "{"
     ]
    },
    {
     "name": "stderr",
     "output_type": "stream",
     "text": [
      "  % Total    % Received % Xferd  Average Speed   Time    Time     Time  Current\n",
      "                                 Dload  Upload   Total   Spent    Left  Speed\n",
      "\n",
      "  0     0    0     0    0     0      0      0 --:--:-- --:--:-- --:--:--     0\n",
      "  0  2686    0     0    0     0      0      0 --:--:--  0:00:01 --:--:--     0\n",
      "100  2686    0     0  100  2686      0   2686  0:00:01  0:00:01 --:--:--  1577\n",
      "100  2794  100   108  100  2686     54   1343  0:00:02  0:00:02 --:--:--  1077\n",
      "100  2794  100   108  100  2686     54   1343  0:00:02  0:00:02 --:--:--  1077\n"
     ]
    },
    {
     "name": "stdout",
     "output_type": "stream",
     "text": [
      "\n",
      "  \"acknowledged\" : true,\n",
      "  \"shards_acknowledged\" : true,\n",
      "  \"index\" : \"landinn_scholar_abroad_highlight\"\n",
      "}\n"
     ]
    }
   ],
   "source": [
    "!curl -XPUT \"{master}/{indexHl}?pretty\" {contType} -d @{indexHl}.json"
   ]
  },
  {
   "cell_type": "code",
   "execution_count": 5,
   "metadata": {
    "ExecuteTime": {
     "end_time": "2021-05-31T10:00:40.064640Z",
     "start_time": "2021-05-31T10:00:39.800640Z"
    }
   },
   "outputs": [
    {
     "name": "stdout",
     "output_type": "stream",
     "text": [
      "{"
     ]
    },
    {
     "name": "stderr",
     "output_type": "stream",
     "text": [
      "  % Total    % Received % Xferd  Average Speed   Time    Time     Time  Current\n",
      "                                 Dload  Upload   Total   Spent    Left  Speed\n",
      "\n",
      "  0     0    0     0    0     0      0      0 --:--:-- --:--:-- --:--:--     0\n",
      "  0     0    0     0    0     0      0      0 --:--:-- --:--:-- --:--:--     0\n",
      "  0     0    0     0    0     0      0      0 --:--:--  0:00:01 --:--:--     0\n",
      "  0     0    0     0    0     0      0      0 --:--:--  0:00:02 --:--:--     0\n",
      "  0     0    0     0    0     0      0      0 --:--:--  0:00:03 --:--:--     0\n",
      "  0     0    0     0    0     0      0      0 --:--:--  0:00:04 --:--:--     0\n",
      "100    28  100    28    0     0      5      0  0:00:05  0:00:05 --:--:--     5\n",
      "100    28  100    28    0     0      5      0  0:00:05  0:00:05 --:--:--     6\n"
     ]
    },
    {
     "name": "stdout",
     "output_type": "stream",
     "text": [
      "\n",
      "  \"acknowledged\" : true\n",
      "}\n"
     ]
    }
   ],
   "source": [
    "# !curl -XDELETE \"{master}/{indexHl}?pretty\""
   ]
  },
  {
   "cell_type": "markdown",
   "metadata": {},
   "source": [
    "#### 计数"
   ]
  },
  {
   "cell_type": "code",
   "execution_count": 4,
   "metadata": {
    "ExecuteTime": {
     "end_time": "2021-06-01T09:30:56.819678Z",
     "start_time": "2021-06-01T09:30:55.639681Z"
    }
   },
   "outputs": [
    {
     "name": "stdout",
     "output_type": "stream",
     "text": [
      "{\n",
      "  \"count\" : 994,\n",
      "  \"_shards\" : {\n",
      "    \"total\" : 1,\n",
      "    \"successful\" : 1,\n",
      "    \"skipped\" : 0,\n"
     ]
    },
    {
     "name": "stderr",
     "output_type": "stream",
     "text": [
      "  % Total    % Received % Xferd  Average Speed   Time    Time     Time  Current\n",
      "                                 Dload  Upload   Total   Spent    Left  Speed\n",
      "\n",
      "  0     0    0     0    0     0      0      0 --:--:-- --:--:-- --:--:--     0\n",
      "100   116  100   116    0     0    116      0  0:00:01  0:00:01 --:--:--   110\n",
      "100   116  100   116    0     0    116      0  0:00:01  0:00:01 --:--:--   110\n"
     ]
    },
    {
     "name": "stdout",
     "output_type": "stream",
     "text": [
      "    \"failed\" : 0\n",
      "  }\n",
      "}\n"
     ]
    }
   ],
   "source": [
    "!curl -XGET \"{master}/{index}/_count?pretty\""
   ]
  },
  {
   "cell_type": "code",
   "execution_count": 5,
   "metadata": {
    "ExecuteTime": {
     "end_time": "2021-06-01T09:30:59.235680Z",
     "start_time": "2021-06-01T09:30:58.272678Z"
    }
   },
   "outputs": [
    {
     "name": "stdout",
     "output_type": "stream",
     "text": [
      "{"
     ]
    },
    {
     "name": "stderr",
     "output_type": "stream",
     "text": [
      "  % Total    % Received % Xferd  Average Speed   Time    Time     Time  Current\n",
      "                                 Dload  Upload   Total   Spent    Left  Speed\n",
      "\n",
      "  0     0    0     0    0     0      0      0 --:--:-- --:--:-- --:--:--     0\n",
      "100   116  100   116    0     0    116      0  0:00:01 --:--:--  0:00:01   137\n",
      "100   116  100   116    0     0    116      0  0:00:01 --:--:--  0:00:01   137\n"
     ]
    },
    {
     "name": "stdout",
     "output_type": "stream",
     "text": [
      "\n",
      "  \"count\" : 994,\n",
      "  \"_shards\" : {\n",
      "    \"total\" : 1,\n",
      "    \"successful\" : 1,\n",
      "    \"skipped\" : 0,\n",
      "    \"failed\" : 0\n",
      "  }\n",
      "}\n"
     ]
    }
   ],
   "source": [
    "!curl -XGET \"{master}/{indexHl}/_count?pretty\""
   ]
  },
  {
   "cell_type": "markdown",
   "metadata": {},
   "source": [
    "#### 检索"
   ]
  },
  {
   "cell_type": "code",
   "execution_count": 11,
   "metadata": {
    "ExecuteTime": {
     "end_time": "2020-12-14T07:41:24.859029Z",
     "start_time": "2020-12-14T07:41:24.089446Z"
    }
   },
   "outputs": [
    {
     "name": "stdout",
     "output_type": "stream",
     "text": [
      "{\n",
      "  \"took\" : 2,\n",
      "  \"timed_out\" : false,\n",
      "  \"_shards\" : {\n",
      "    \"total\" : 1,\n",
      "    \"successful\" : 1,\n",
      "    \"skipped\" : 0,\n",
      "    \"failed\" : 0\n",
      "  },\n",
      "  \"hits\" : {\n",
      "    \"total\" : {\n",
      "      \"value\" : 0,\n",
      "      \"relation\" : \"eq\"\n",
      "    },\n",
      "    \"max_score\" : null,\n",
      "    \"hits\" : [ ]\n",
      "  }\n",
      "}\n"
     ]
    }
   ],
   "source": [
    "!curl -XGET \"{master}/{index}/_search?q=paper_title:Huogu&pretty\""
   ]
  },
  {
   "cell_type": "code",
   "execution_count": 10,
   "metadata": {
    "ExecuteTime": {
     "end_time": "2020-12-14T07:41:18.878555Z",
     "start_time": "2020-12-14T07:41:17.969989Z"
    }
   },
   "outputs": [
    {
     "name": "stdout",
     "output_type": "stream",
     "text": [
      "{\n",
      "  \"took\" : 130,\n",
      "  \"timed_out\" : false,\n",
      "  \"_shards\" : {\n",
      "    \"total\" : 1,\n",
      "    \"successful\" : 1,\n",
      "    \"skipped\" : 0,\n",
      "    \"failed\" : 0\n",
      "  },\n",
      "  \"hits\" : {\n",
      "    \"total\" : {\n",
      "      \"value\" : 0,\n",
      "      \"relation\" : \"eq\"\n",
      "    },\n",
      "    \"max_score\" : null,\n",
      "    \"hits\" : [ ]\n",
      "  }\n",
      "}\n"
     ]
    }
   ],
   "source": [
    "!curl -XGET \"{master}/{index}/_search?q=scholar_id:671896&pretty\""
   ]
  },
  {
   "cell_type": "code",
   "execution_count": 1,
   "metadata": {
    "ExecuteTime": {
     "end_time": "2021-01-15T05:35:47.734897Z",
     "start_time": "2021-01-15T05:35:46.821919Z"
    }
   },
   "outputs": [
    {
     "name": "stdout",
     "output_type": "stream",
     "text": [
      "total 5.7M\n",
      "drwxr-xr-x.  4 root root 4.0K Jan 15 05:35 \u001b[0m\u001b[01;34m.\u001b[0m/\n",
      "drwxr-xr-x. 13 1003 1003 4.0K Jan  8 03:42 \u001b[01;34m..\u001b[0m/\n",
      "drwxr-xr-x.  2 root root 4.0K Jan  8 04:14 \u001b[01;34m.ipynb_checkpoints\u001b[0m/\n",
      "drwxr-xr-x.  2 root root 4.0K Jan  8 07:02 \u001b[01;34m__pycache__\u001b[0m/\n",
      "-rw-r--r--.  1 root root 2.2K Jan 15 02:50 landinn_paper.json\n",
      "-rw-r--r--.  1 root root 2.2K Jan 15 02:50 landinn_patent.json\n",
      "-rw-r--r--.  1 root root 2.2K Jan 15 02:50 landinn_project.json\n",
      "-rw-r--r--.  1 root root 3.0K Jan 15 02:49 landinn_scholar.json\n",
      "-rw-r--r--.  1 root root 443K Jan 15 04:36 tjb010_addEsLandinnPaper.ipynb\n",
      "-rw-r--r--.  1 root root 443K Jan 13 10:19 tjb010_addEsLandinnPatent.ipynb\n",
      "-rw-r--r--.  1 root root 606K Jan 13 07:57 tjb010_addEsLandinnProject.ipynb\n",
      "-rw-r--r--.  1 root root 3.5M Jan 10 05:38 tjb010_addEsLandinnScholar.ipynb\n",
      "-rw-r--r--.  1 root root 676K Jan 15 02:52 tjb010_testEsLandinnPaper.ipynb\n",
      "-rw-r--r--.  1 root root 7.4K Jan 13 10:57 tjb010_testEsLandinnPatent.ipynb\n",
      "-rw-r--r--.  1 root root 7.5K Jan 13 07:58 tjb010_testEsLandinnProject.ipynb\n",
      "-rw-r--r--.  1 root root 8.4K Jan 15 05:35 tjb010_testEsLandinnScholar.ipynb\n",
      "-rw-r--r--.  1 root root  523 Jan  8 03:41 util.py\n"
     ]
    }
   ],
   "source": [
    "ls -lha"
   ]
  },
  {
   "cell_type": "code",
   "execution_count": null,
   "metadata": {},
   "outputs": [],
   "source": []
  }
 ],
 "metadata": {
  "kernelspec": {
   "display_name": "Python 3",
   "language": "python",
   "name": "python3"
  },
  "language_info": {
   "codemirror_mode": {
    "name": "ipython",
    "version": 3
   },
   "file_extension": ".py",
   "mimetype": "text/x-python",
   "name": "python",
   "nbconvert_exporter": "python",
   "pygments_lexer": "ipython3",
   "version": "3.8.3"
  },
  "latex_envs": {
   "LaTeX_envs_menu_present": true,
   "autoclose": false,
   "autocomplete": true,
   "bibliofile": "biblio.bib",
   "cite_by": "apalike",
   "current_citInitial": 1,
   "eqLabelWithNumbers": true,
   "eqNumInitial": 1,
   "hotkeys": {
    "equation": "Ctrl-E",
    "itemize": "Ctrl-I"
   },
   "labels_anchors": false,
   "latex_user_defs": false,
   "report_style_numbering": false,
   "user_envs_cfg": false
  },
  "toc": {
   "base_numbering": 1,
   "nav_menu": {},
   "number_sections": false,
   "sideBar": true,
   "skip_h1_title": false,
   "title_cell": "Table of Contents",
   "title_sidebar": "Contents",
   "toc_cell": false,
   "toc_position": {},
   "toc_section_display": true,
   "toc_window_display": false
  },
  "varInspector": {
   "cols": {
    "lenName": 16,
    "lenType": 16,
    "lenVar": 40
   },
   "kernels_config": {
    "python": {
     "delete_cmd_postfix": "",
     "delete_cmd_prefix": "del ",
     "library": "var_list.py",
     "varRefreshCmd": "print(var_dic_list())"
    },
    "r": {
     "delete_cmd_postfix": ") ",
     "delete_cmd_prefix": "rm(",
     "library": "var_list.r",
     "varRefreshCmd": "cat(var_dic_list()) "
    }
   },
   "types_to_exclude": [
    "module",
    "function",
    "builtin_function_or_method",
    "instance",
    "_Feature"
   ],
   "window_display": false
  }
 },
 "nbformat": 4,
 "nbformat_minor": 4
}
