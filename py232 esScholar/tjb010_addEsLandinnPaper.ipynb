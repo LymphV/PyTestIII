{
 "cells": [
  {
   "cell_type": "markdown",
   "metadata": {},
   "source": [
    "### 库"
   ]
  },
  {
   "cell_type": "code",
   "execution_count": 1,
   "metadata": {
    "ExecuteTime": {
     "end_time": "2021-06-10T06:14:17.417613Z",
     "start_time": "2021-06-10T06:14:12.028096Z"
    },
    "cell_style": "split"
   },
   "outputs": [],
   "source": [
    "from elasticsearch import Elasticsearch\n",
    "from elasticsearch import helpers\n",
    "from tqdm.notebook import tqdm, trange, tnrange\n",
    "import json, re"
   ]
  },
  {
   "cell_type": "code",
   "execution_count": 2,
   "metadata": {
    "ExecuteTime": {
     "end_time": "2021-06-10T06:14:17.450611Z",
     "start_time": "2021-06-10T06:14:17.442611Z"
    },
    "cell_style": "split"
   },
   "outputs": [],
   "source": [
    "import numpy as np\n",
    "import pandas as pd\n",
    "import os, sys\n",
    "from time import time, sleep"
   ]
  },
  {
   "cell_type": "code",
   "execution_count": 3,
   "metadata": {
    "ExecuteTime": {
     "end_time": "2021-06-10T06:14:17.989001Z",
     "start_time": "2021-06-10T06:14:17.473609Z"
    }
   },
   "outputs": [],
   "source": [
    "from vVariableInspector import _getshapeof\n",
    "from vUtil.vFile import fprint, readlines, linesReader\n",
    "from vUtil.vEmail import sendEmail\n",
    "from vUtil.vTime import convertSeconds, getNow"
   ]
  },
  {
   "cell_type": "code",
   "execution_count": 4,
   "metadata": {
    "ExecuteTime": {
     "end_time": "2021-06-10T06:14:18.502332Z",
     "start_time": "2021-06-10T06:14:18.013988Z"
    }
   },
   "outputs": [],
   "source": [
    "from vMysql import MysqlProxy"
   ]
  },
  {
   "cell_type": "code",
   "execution_count": 5,
   "metadata": {
    "ExecuteTime": {
     "end_time": "2021-06-10T06:14:18.766539Z",
     "start_time": "2021-06-10T06:14:18.521335Z"
    }
   },
   "outputs": [],
   "source": [
    "from util import frmt, rmUnseen, groupConcat, deleteIndexRows\n",
    "from cfg import host, master, port, contType\n",
    "from cfg import dbHost, dbUser, dbPwd\n",
    "from cfg import ncols"
   ]
  },
  {
   "cell_type": "markdown",
   "metadata": {},
   "source": [
    "### mysql、es"
   ]
  },
  {
   "cell_type": "code",
   "execution_count": 6,
   "metadata": {
    "ExecuteTime": {
     "end_time": "2021-06-10T06:14:18.789548Z",
     "start_time": "2021-06-10T06:14:18.785537Z"
    }
   },
   "outputs": [],
   "source": [
    "index = 'landinn_paper'"
   ]
  },
  {
   "cell_type": "code",
   "execution_count": 7,
   "metadata": {
    "ExecuteTime": {
     "end_time": "2021-06-10T06:14:18.893540Z",
     "start_time": "2021-06-10T06:14:18.813539Z"
    }
   },
   "outputs": [],
   "source": [
    "es=Elasticsearch(hosts=host,port=port)"
   ]
  },
  {
   "cell_type": "code",
   "execution_count": 8,
   "metadata": {
    "ExecuteTime": {
     "end_time": "2021-06-10T06:14:19.338665Z",
     "start_time": "2021-06-10T06:14:18.914539Z"
    }
   },
   "outputs": [],
   "source": [
    "db = MysqlProxy(ip=dbHost, user=dbUser, password=dbPwd)"
   ]
  },
  {
   "cell_type": "markdown",
   "metadata": {},
   "source": [
    "### 函数"
   ]
  },
  {
   "cell_type": "code",
   "execution_count": 9,
   "metadata": {
    "ExecuteTime": {
     "end_time": "2021-06-10T06:14:19.363666Z",
     "start_time": "2021-06-10T06:14:19.358666Z"
    }
   },
   "outputs": [],
   "source": [
    "sTmpPaper = '''\n",
    "create temporary table tmp_paper\n",
    "(\n",
    "    select  golaxy_paper_id as gid, \n",
    "            ifnull(paper_title, paper_title_en) as title, \n",
    "            ifnull(keyword, keyword_en) as keywords,\n",
    "            cast(paper_year as char) as paper_year,\n",
    "            paper_date\n",
    "    from papers \n",
    "    where !ifnull(is_deleted, 0)\n",
    "    limit %d, %d\n",
    ");\n",
    "'''\n",
    "\n",
    "sRmTmpPaper = '''\n",
    "drop temporary table tmp_paper;\n",
    "'''"
   ]
  },
  {
   "cell_type": "code",
   "execution_count": 10,
   "metadata": {
    "ExecuteTime": {
     "end_time": "2021-06-10T06:14:19.467665Z",
     "start_time": "2021-06-10T06:14:19.389667Z"
    }
   },
   "outputs": [],
   "source": [
    "sSelectPublish = '''\n",
    "select gid, cast(author_id as char) as scholar_id\n",
    "from\n",
    "    tmp_paper as a\n",
    "left join paper_author_affiliations as b\n",
    "on a.gid = b.paper_id\n",
    "where !ifnull(b.is_deleted, 0);\n",
    "'''"
   ]
  },
  {
   "cell_type": "code",
   "execution_count": 11,
   "metadata": {
    "ExecuteTime": {
     "end_time": "2021-06-10T06:14:19.559664Z",
     "start_time": "2021-06-10T06:14:19.485665Z"
    }
   },
   "outputs": [],
   "source": [
    "sSelectData = '''\n",
    "select gid, title, keywords, paper_year, paper_date, ifnull(abstract, abstract_en) as abstract\n",
    "from\n",
    "    tmp_paper as a\n",
    "left join papers_abstracts as b on a.gid = b.paper_id\n",
    "where !ifnull(b.is_deleted, 0);\n",
    "'''"
   ]
  },
  {
   "cell_type": "code",
   "execution_count": 12,
   "metadata": {
    "ExecuteTime": {
     "end_time": "2021-06-10T06:14:19.651705Z",
     "start_time": "2021-06-10T06:14:19.576668Z"
    },
    "code_folding": []
   },
   "outputs": [],
   "source": [
    "def getActions (data, publish):\n",
    "    actions = []\n",
    "    \n",
    "    p2s = {publish['gid'][i] : publish['scholar_id'][i] for i in range(len(publish))}\n",
    "    \n",
    "    for i in range(len(data)):\n",
    "        if data['gid'][i] not in p2s: continue\n",
    "        action={'_op_type':'index',#操作 index update create delete  \n",
    "            '_index':index,#index\n",
    "            '_id' : data['gid'][i],\n",
    "            '_source':\n",
    "           {\n",
    "                \"id\" : data['gid'][i],\n",
    "                \"title\" : rmUnseen(data['title'][i]),\n",
    "                \"abstract\" : rmUnseen(data['abstract'][i]),\n",
    "                \"keywords\" : rmUnseen(data['keywords'][i]),\n",
    "                \"scholars\" : p2s[data['gid'][i]],\n",
    "                \"year\" : (data['paper_year'][i] if data['paper_date'][i] is pd.NaT or data['paper_date'][i] is None \n",
    "                          else str(data['paper_date'][i].year))\n",
    "            }}\n",
    "        actions.append(action)\n",
    "    return actions"
   ]
  },
  {
   "cell_type": "markdown",
   "metadata": {
    "ExecuteTime": {
     "end_time": "2021-05-24T08:27:29.700727Z",
     "start_time": "2021-05-24T08:27:29.695729Z"
    }
   },
   "source": [
    "### 索引"
   ]
  },
  {
   "cell_type": "code",
   "execution_count": 13,
   "metadata": {
    "ExecuteTime": {
     "end_time": "2021-06-10T06:14:19.750706Z",
     "start_time": "2021-06-10T06:14:19.674705Z"
    }
   },
   "outputs": [],
   "source": [
    "table = 'papers'"
   ]
  },
  {
   "cell_type": "code",
   "execution_count": 14,
   "metadata": {
    "ExecuteTime": {
     "end_time": "2021-06-10T06:14:52.495176Z",
     "start_time": "2021-06-10T06:14:22.866593Z"
    }
   },
   "outputs": [
    {
     "data": {
      "application/vnd.jupyter.widget-view+json": {
       "model_id": "00052266217943feb5520ec9d913265e",
       "version_major": 2,
       "version_minor": 0
      },
      "text/plain": [
       "HBox(children=(FloatProgress(value=0.0, layout=Layout(flex='2'), max=15.0), HTML(value='')), layout=Layout(dis…"
      ]
     },
     "metadata": {},
     "output_type": "display_data"
    },
    {
     "name": "stdout",
     "output_type": "stream",
     "text": [
      "\n"
     ]
    },
    {
     "data": {
      "text/plain": [
       "{'landinn_paper': 0}"
      ]
     },
     "execution_count": 14,
     "metadata": {},
     "output_type": "execute_result"
    }
   ],
   "source": [
    "deleteIndexRows(db, es, table, 'golaxy_paper_id', index=index)"
   ]
  },
  {
   "cell_type": "code",
   "execution_count": 32,
   "metadata": {
    "ExecuteTime": {
     "end_time": "2021-05-27T09:02:26.345937Z",
     "start_time": "2021-05-27T09:02:23.579938Z"
    }
   },
   "outputs": [],
   "source": [
    "sizeBulk = 100\n",
    "now = 0\n",
    "nPaper = db.count(table, where='!ifnull(is_deleted,0)').values.item()"
   ]
  },
  {
   "cell_type": "code",
   "execution_count": 33,
   "metadata": {
    "ExecuteTime": {
     "end_time": "2021-05-27T09:02:26.440938Z",
     "start_time": "2021-05-27T09:02:26.419940Z"
    }
   },
   "outputs": [],
   "source": [
    "now = 5443800"
   ]
  },
  {
   "cell_type": "code",
   "execution_count": 34,
   "metadata": {
    "ExecuteTime": {
     "end_time": "2021-05-27T09:02:27.665945Z",
     "start_time": "2021-05-27T09:02:27.658938Z"
    }
   },
   "outputs": [],
   "source": [
    "# sizeBulk = 100"
   ]
  },
  {
   "cell_type": "code",
   "execution_count": 35,
   "metadata": {
    "ExecuteTime": {
     "end_time": "2021-05-27T09:02:29.250936Z",
     "start_time": "2021-05-27T09:02:29.173939Z"
    }
   },
   "outputs": [
    {
     "data": {
      "text/plain": [
       "(5443800, 100, 5444863)"
      ]
     },
     "execution_count": 35,
     "metadata": {},
     "output_type": "execute_result"
    }
   ],
   "source": [
    "now, sizeBulk, nPaper"
   ]
  },
  {
   "cell_type": "code",
   "execution_count": 36,
   "metadata": {
    "ExecuteTime": {
     "end_time": "2021-05-27T09:03:42.026940Z",
     "start_time": "2021-05-27T09:02:36.105938Z"
    }
   },
   "outputs": [
    {
     "data": {
      "application/vnd.jupyter.widget-view+json": {
       "model_id": "a76963f76530484199445cbca3599588",
       "version_major": 2,
       "version_minor": 0
      },
      "text/plain": [
       "HBox(children=(FloatProgress(value=0.0, layout=Layout(flex='2'), max=11.0), HTML(value='')), layout=Layout(dis…"
      ]
     },
     "metadata": {},
     "output_type": "display_data"
    },
    {
     "name": "stdout",
     "output_type": "stream",
     "text": [
      "\n"
     ]
    }
   ],
   "source": [
    "startOfAll = time()\n",
    "tr = trange(now, nPaper, sizeBulk, ncols=ncols)\n",
    "for i in tr:\n",
    "    tr.set_description(f'({getNow()}){i}')\n",
    "    now = i\n",
    "    db.sql(sTmpPaper % (now, sizeBulk))\n",
    "    \n",
    "    data = db.sql(sSelectData)\n",
    "    publish = db.sql(sSelectPublish)\n",
    "    db.sql(sRmTmpPaper)\n",
    "    db.close()\n",
    "    \n",
    "    actions = getActions(data, groupConcat(publish, 'gid', ';'))\n",
    "    if actions: helpers.bulk(client=es,actions=actions)\n",
    "sendEmail(f'insert cost time {convertSeconds(time() - startOfAll)}', 'insert landinn es papers complete')"
   ]
  },
  {
   "cell_type": "markdown",
   "metadata": {
    "ExecuteTime": {
     "end_time": "2021-05-24T08:27:29.700727Z",
     "start_time": "2021-05-24T08:27:29.695729Z"
    }
   },
   "source": [
    "### 关闭"
   ]
  },
  {
   "cell_type": "code",
   "execution_count": 37,
   "metadata": {
    "ExecuteTime": {
     "end_time": "2021-05-27T09:09:00.535342Z",
     "start_time": "2021-05-27T09:09:00.517345Z"
    }
   },
   "outputs": [],
   "source": [
    "es.close()"
   ]
  },
  {
   "cell_type": "code",
   "execution_count": 38,
   "metadata": {
    "ExecuteTime": {
     "end_time": "2021-05-27T09:09:00.693345Z",
     "start_time": "2021-05-27T09:09:00.684347Z"
    }
   },
   "outputs": [],
   "source": [
    "db.close()"
   ]
  },
  {
   "cell_type": "code",
   "execution_count": null,
   "metadata": {},
   "outputs": [],
   "source": []
  }
 ],
 "metadata": {
  "kernelspec": {
   "display_name": "Python 3",
   "language": "python",
   "name": "python3"
  },
  "language_info": {
   "codemirror_mode": {
    "name": "ipython",
    "version": 3
   },
   "file_extension": ".py",
   "mimetype": "text/x-python",
   "name": "python",
   "nbconvert_exporter": "python",
   "pygments_lexer": "ipython3",
   "version": "3.8.3"
  },
  "latex_envs": {
   "LaTeX_envs_menu_present": true,
   "autoclose": false,
   "autocomplete": true,
   "bibliofile": "biblio.bib",
   "cite_by": "apalike",
   "current_citInitial": 1,
   "eqLabelWithNumbers": true,
   "eqNumInitial": 1,
   "hotkeys": {
    "equation": "Ctrl-E",
    "itemize": "Ctrl-I"
   },
   "labels_anchors": false,
   "latex_user_defs": false,
   "report_style_numbering": false,
   "user_envs_cfg": false
  },
  "toc": {
   "base_numbering": 1,
   "nav_menu": {},
   "number_sections": false,
   "sideBar": true,
   "skip_h1_title": false,
   "title_cell": "Table of Contents",
   "title_sidebar": "Contents",
   "toc_cell": false,
   "toc_position": {},
   "toc_section_display": true,
   "toc_window_display": true
  },
  "varInspector": {
   "cols": {
    "lenName": 16,
    "lenType": 16,
    "lenVar": 40
   },
   "kernels_config": {
    "python": {
     "delete_cmd_postfix": "",
     "delete_cmd_prefix": "del ",
     "library": "var_list.py",
     "varRefreshCmd": "print(var_dic_list())"
    },
    "r": {
     "delete_cmd_postfix": ") ",
     "delete_cmd_prefix": "rm(",
     "library": "var_list.r",
     "varRefreshCmd": "cat(var_dic_list()) "
    }
   },
   "oldHeight": 817.969,
   "position": {
    "height": "840.191px",
    "left": "1635.3px",
    "right": "20px",
    "top": "104.983px",
    "width": "394.757px"
   },
   "types_to_exclude": [
    "module",
    "function",
    "builtin_function_or_method",
    "instance",
    "_Feature"
   ],
   "varInspector_section_display": "block",
   "window_display": true
  }
 },
 "nbformat": 4,
 "nbformat_minor": 4
}
